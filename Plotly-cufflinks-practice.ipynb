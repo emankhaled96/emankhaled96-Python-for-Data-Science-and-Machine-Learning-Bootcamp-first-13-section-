{
 "cells": [
  {
   "cell_type": "code",
   "execution_count": 14,
   "metadata": {},
   "outputs": [],
   "source": [
    "import pandas as pd\n",
    "import numpy as np\n",
    "%matplotlib inline\n",
    "# plotly , cufflinks are used to make interactive graphs"
   ]
  },
  {
   "cell_type": "code",
   "execution_count": 2,
   "metadata": {},
   "outputs": [],
   "source": [
    "from plotly import __version__"
   ]
  },
  {
   "cell_type": "code",
   "execution_count": 3,
   "metadata": {},
   "outputs": [
    {
     "name": "stdout",
     "output_type": "stream",
     "text": [
      "4.9.0\n"
     ]
    }
   ],
   "source": [
    "print(__version__)"
   ]
  },
  {
   "cell_type": "code",
   "execution_count": 4,
   "metadata": {},
   "outputs": [],
   "source": [
    "import cufflinks as cf\n"
   ]
  },
  {
   "cell_type": "code",
   "execution_count": 5,
   "metadata": {},
   "outputs": [],
   "source": [
    "from plotly.offline import download_plotlyjs,init_notebook_mode,plot,iplot"
   ]
  },
  {
   "cell_type": "code",
   "execution_count": 6,
   "metadata": {},
   "outputs": [
    {
     "data": {
      "text/html": [
       "        <script type=\"text/javascript\">\n",
       "        window.PlotlyConfig = {MathJaxConfig: 'local'};\n",
       "        if (window.MathJax) {MathJax.Hub.Config({SVG: {font: \"STIX-Web\"}});}\n",
       "        if (typeof require !== 'undefined') {\n",
       "        require.undef(\"plotly\");\n",
       "        requirejs.config({\n",
       "            paths: {\n",
       "                'plotly': ['https://cdn.plot.ly/plotly-latest.min']\n",
       "            }\n",
       "        });\n",
       "        require(['plotly'], function(Plotly) {\n",
       "            window._Plotly = Plotly;\n",
       "        });\n",
       "        }\n",
       "        </script>\n",
       "        "
      ]
     },
     "metadata": {},
     "output_type": "display_data"
    }
   ],
   "source": [
    "init_notebook_mode(connected=True)"
   ]
  },
  {
   "cell_type": "code",
   "execution_count": 7,
   "metadata": {},
   "outputs": [
    {
     "data": {
      "text/html": [
       "        <script type=\"text/javascript\">\n",
       "        window.PlotlyConfig = {MathJaxConfig: 'local'};\n",
       "        if (window.MathJax) {MathJax.Hub.Config({SVG: {font: \"STIX-Web\"}});}\n",
       "        if (typeof require !== 'undefined') {\n",
       "        require.undef(\"plotly\");\n",
       "        requirejs.config({\n",
       "            paths: {\n",
       "                'plotly': ['https://cdn.plot.ly/plotly-latest.min']\n",
       "            }\n",
       "        });\n",
       "        require(['plotly'], function(Plotly) {\n",
       "            window._Plotly = Plotly;\n",
       "        });\n",
       "        }\n",
       "        </script>\n",
       "        "
      ]
     },
     "metadata": {},
     "output_type": "display_data"
    }
   ],
   "source": [
    "cf.go_offline()"
   ]
  },
  {
   "cell_type": "code",
   "execution_count": 8,
   "metadata": {},
   "outputs": [],
   "source": [
    "df=pd.DataFrame(np.random.randn(100,4),columns='A B C D'.split())"
   ]
  },
  {
   "cell_type": "code",
   "execution_count": 9,
   "metadata": {},
   "outputs": [
    {
     "data": {
      "text/html": [
       "<div>\n",
       "<style scoped>\n",
       "    .dataframe tbody tr th:only-of-type {\n",
       "        vertical-align: middle;\n",
       "    }\n",
       "\n",
       "    .dataframe tbody tr th {\n",
       "        vertical-align: top;\n",
       "    }\n",
       "\n",
       "    .dataframe thead th {\n",
       "        text-align: right;\n",
       "    }\n",
       "</style>\n",
       "<table border=\"1\" class=\"dataframe\">\n",
       "  <thead>\n",
       "    <tr style=\"text-align: right;\">\n",
       "      <th></th>\n",
       "      <th>A</th>\n",
       "      <th>B</th>\n",
       "      <th>C</th>\n",
       "      <th>D</th>\n",
       "    </tr>\n",
       "  </thead>\n",
       "  <tbody>\n",
       "    <tr>\n",
       "      <th>0</th>\n",
       "      <td>0.487588</td>\n",
       "      <td>-0.326009</td>\n",
       "      <td>-0.921574</td>\n",
       "      <td>-0.373200</td>\n",
       "    </tr>\n",
       "    <tr>\n",
       "      <th>1</th>\n",
       "      <td>-1.094536</td>\n",
       "      <td>0.249994</td>\n",
       "      <td>0.242578</td>\n",
       "      <td>0.027721</td>\n",
       "    </tr>\n",
       "    <tr>\n",
       "      <th>2</th>\n",
       "      <td>-0.025109</td>\n",
       "      <td>0.235290</td>\n",
       "      <td>0.287304</td>\n",
       "      <td>2.078098</td>\n",
       "    </tr>\n",
       "    <tr>\n",
       "      <th>3</th>\n",
       "      <td>0.531844</td>\n",
       "      <td>1.497738</td>\n",
       "      <td>0.140403</td>\n",
       "      <td>1.334521</td>\n",
       "    </tr>\n",
       "    <tr>\n",
       "      <th>4</th>\n",
       "      <td>1.170821</td>\n",
       "      <td>-1.923521</td>\n",
       "      <td>-0.014544</td>\n",
       "      <td>0.169437</td>\n",
       "    </tr>\n",
       "  </tbody>\n",
       "</table>\n",
       "</div>"
      ],
      "text/plain": [
       "          A         B         C         D\n",
       "0  0.487588 -0.326009 -0.921574 -0.373200\n",
       "1 -1.094536  0.249994  0.242578  0.027721\n",
       "2 -0.025109  0.235290  0.287304  2.078098\n",
       "3  0.531844  1.497738  0.140403  1.334521\n",
       "4  1.170821 -1.923521 -0.014544  0.169437"
      ]
     },
     "execution_count": 9,
     "metadata": {},
     "output_type": "execute_result"
    }
   ],
   "source": [
    "df.head()"
   ]
  },
  {
   "cell_type": "code",
   "execution_count": 12,
   "metadata": {},
   "outputs": [],
   "source": [
    "df2=pd.DataFrame({'Category':['A','B','C'],'Values':[32,43,50]})"
   ]
  },
  {
   "cell_type": "code",
   "execution_count": 13,
   "metadata": {},
   "outputs": [
    {
     "data": {
      "text/html": [
       "<div>\n",
       "<style scoped>\n",
       "    .dataframe tbody tr th:only-of-type {\n",
       "        vertical-align: middle;\n",
       "    }\n",
       "\n",
       "    .dataframe tbody tr th {\n",
       "        vertical-align: top;\n",
       "    }\n",
       "\n",
       "    .dataframe thead th {\n",
       "        text-align: right;\n",
       "    }\n",
       "</style>\n",
       "<table border=\"1\" class=\"dataframe\">\n",
       "  <thead>\n",
       "    <tr style=\"text-align: right;\">\n",
       "      <th></th>\n",
       "      <th>Category</th>\n",
       "      <th>Values</th>\n",
       "    </tr>\n",
       "  </thead>\n",
       "  <tbody>\n",
       "    <tr>\n",
       "      <th>0</th>\n",
       "      <td>A</td>\n",
       "      <td>32</td>\n",
       "    </tr>\n",
       "    <tr>\n",
       "      <th>1</th>\n",
       "      <td>B</td>\n",
       "      <td>43</td>\n",
       "    </tr>\n",
       "    <tr>\n",
       "      <th>2</th>\n",
       "      <td>C</td>\n",
       "      <td>50</td>\n",
       "    </tr>\n",
       "  </tbody>\n",
       "</table>\n",
       "</div>"
      ],
      "text/plain": [
       "  Category  Values\n",
       "0        A      32\n",
       "1        B      43\n",
       "2        C      50"
      ]
     },
     "execution_count": 13,
     "metadata": {},
     "output_type": "execute_result"
    }
   ],
   "source": [
    "df2"
   ]
  },
  {
   "cell_type": "code",
   "execution_count": 15,
   "metadata": {},
   "outputs": [
    {
     "data": {
      "text/plain": [
       "<matplotlib.axes._subplots.AxesSubplot at 0x1b4c858b6c8>"
      ]
     },
     "execution_count": 15,
     "metadata": {},
     "output_type": "execute_result"
    },
    {
     "data": {
      "image/png": "[encoded data removed]",
      "text/plain": [
       "<Figure size 432x288 with 1 Axes>"
      ]
     },
     "metadata": {
      "needs_background": "light"
     },
     "output_type": "display_data"
    }
   ],
   "source": [
    "df.plot()"
   ]
  },
  {
   "cell_type": "code",
   "execution_count": 16,
   "metadata": {},
   "outputs": [
    {
     "data": {
      "application/vnd.plotly.v1+json": {
       "config": {
        "linkText": "Export to plot.ly",
        "plotlyServerURL": "https://plot.ly",
        "showLink": true
       },
       "data": [
        {
         "line": {
          "color": "rgba(255, 153, 51, 1.0)",
          "dash": "solid",
          "shape": "linear",
          "width": 1.3
         },
         "mode": "lines",
         "name": "A",
         "text": "",
         "type": "scatter",
         "x": [
          0,
          1,
          2,
          3,
          4,
          5,
          6,
          7,
          8,
          9,
          10,
          11,
          12,
          13,
          14,
          15,
          16,
          17,
          18,
          19,
          20,
          21,
          22,
          23,
          24,
          25,
          26,
          27,
          28,
          29,
          30,
          31,
          32,
          33,
          34,
          35,
          36,
          37,
          38,
          39,
          40,
          41,
          42,
          43,
          44,
          45,
          46,
          47,
          48,
          49,
          50,
          51,
          52,
          53,
          54,
          55,
          56,
          57,
          58,
          59,
          60,
          61,
          62,
          63,
          64,
          65,
          66,
          67,
          68,
          69,
          70,
          71,
          72,
          73,
          74,
          75,
          76,
          77,
          78,
          79,
          80,
          81,
          82,
          83,
          84,
          85,
          86,
          87,
          88,
          89,
          90,
          91,
          92,
          93,
          94,
          95,
          96,
          97,
          98,
          99
         ],
         "y": [
          0.48758791284167,
          -1.0945360538696463,
          -0.025109160636671034,
          0.5318438573072443,
          1.170821047816164,
          -1.0781069618216137,
          0.023929908721716072,
          -0.3341668073479446,
          0.15466770476350178,
          1.5446639151497434,
          1.4056054833842484,
          1.6261568763361154,
          -1.1227374435458701,
          0.28194097407828445,
          -0.682223671693977,
          -0.9562545728370384,
          -0.7209835661743308,
          -0.03317994654738412,
          0.5205553063310279,
          -1.1366028975811477,
          -0.9786485170200829,
          0.13548859544218975,
          -0.0009540853056883342,
          0.5979449535006777,
          1.1149531211625783,
          0.4283544325769933,
          -0.2411460571149065,
          -1.2870861552795327,
          0.03636844814017887,
          1.2075977330375478,
          -1.1535869763732076,
          1.0628415041799286,
          -1.0491639233442693,
          1.3811022114090363,
          -0.3613211905254392,
          -0.45890225542836116,
          -0.12162760141230262,
          -0.8396215800903595,
          -0.565381067065979,
          -3.4566182937067276,
          0.8993420377570022,
          0.2165974313829244,
          1.6103508033055005,
          0.0094913782519163,
          0.45531265282040323,
          0.6119558083278896,
          -0.2942946657226144,
          -1.2729657899992224,
          -0.3545189453227468,
          0.07805696223208544,
          -0.66178932419833,
          -1.6925420918465717,
          -0.1307554580410991,
          -0.39774105359567025,
          -1.516011865561858,
          -0.5391143165355534,
          -1.1142859655918813,
          1.0551320487656342,
          -0.5717178581500568,
          -0.1073076890360471,
          -1.5270560562106272,
          -0.7899843365922449,
          -0.6356350799456826,
          -0.41468126319261245,
          1.6781806287486598,
          -0.33874390881565875,
          0.18609602799409797,
          -1.2338502645280391,
          0.10345221635878635,
          0.6586971927026098,
          0.5813188464153145,
          1.3837115433387472,
          -0.29753261872603187,
          -1.6128956978544893,
          -1.103081913031465,
          -0.15162181863861388,
          0.7316627867109841,
          -0.8665646320585265,
          -1.701661298481288,
          1.596184275190892,
          0.14494608879711593,
          -0.41603294033322546,
          0.9563325173459639,
          -0.30156389581498877,
          0.926333185290943,
          0.6631382639673186,
          0.39152621569100776,
          -0.5826926583224311,
          0.6255130281637811,
          -0.21940433600962406,
          -0.9505295760532173,
          -0.10707435083175479,
          0.37504647253794426,
          -0.7821664392300294,
          1.213031390357866,
          -0.009994398016467693,
          0.9894948390200397,
          -1.647259086231465,
          0.9233657259667436,
          0.17155861516031895
         ]
        },
        {
         "line": {
          "color": "rgba(55, 128, 191, 1.0)",
          "dash": "solid",
          "shape": "linear",
          "width": 1.3
         },
         "mode": "lines",
         "name": "B",
         "text": "",
         "type": "scatter",
         "x": [
          0,
          1,
          2,
          3,
          4,
          5,
          6,
          7,
          8,
          9,
          10,
          11,
          12,
          13,
          14,
          15,
          16,
          17,
          18,
          19,
          20,
          21,
          22,
          23,
          24,
          25,
          26,
          27,
          28,
          29,
          30,
          31,
          32,
          33,
          34,
          35,
          36,
          37,
          38,
          39,
          40,
          41,
          42,
          43,
          44,
          45,
          46,
          47,
          48,
          49,
          50,
          51,
          52,
          53,
          54,
          55,
          56,
          57,
          58,
          59,
          60,
          61,
          62,
          63,
          64,
          65,
          66,
          67,
          68,
          69,
          70,
          71,
          72,
          73,
          74,
          75,
          76,
          77,
          78,
          79,
          80,
          81,
          82,
          83,
          84,
          85,
          86,
          87,
          88,
          89,
          90,
          91,
          92,
          93,
          94,
          95,
          96,
          97,
          98,
          99
         ],
         "y": [
          -0.3260093462636492,
          0.24999368535084174,
          0.23529007756177991,
          1.497738301294124,
          -1.9235211183341405,
          -2.0300951821002418,
          -0.8026053432036195,
          -0.062102401082379945,
          0.5733134985509706,
          -0.028200152143247094,
          0.5457366836861638,
          1.9105677035222017,
          -1.8510783961436936,
          1.8936264586473475,
          0.8455161682358032,
          0.08530004905902606,
          1.15547970626262,
          0.33241678821461357,
          0.8973896937867161,
          0.19756270998312664,
          -0.5551208869803647,
          -0.7141539274695231,
          0.009781143871655847,
          -0.7963514852359374,
          0.18435114594596597,
          -0.7236122806767714,
          -0.6268367864953104,
          -1.0069813144186306,
          -0.5997263961705249,
          0.2218092724149917,
          -1.170188533181909,
          -0.7686459812838211,
          -0.5673983196078344,
          1.5249329961718672,
          -2.1774022163390523,
          -0.16736496395437145,
          1.0228620924991214,
          0.3910535831520817,
          1.728288848550678,
          -0.009405137671356954,
          0.9241988728738655,
          0.44155721095505096,
          -0.22054721336042088,
          0.5781436798174855,
          -1.290605550402523,
          -0.8219921260635391,
          0.6672891466109183,
          -1.0544087228560581,
          0.8576970417953911,
          1.4773492966329609,
          -0.37563342720144566,
          1.2771642094219255,
          1.4113133544016951,
          -0.29750095974408886,
          -0.3162064319347066,
          1.188528108737439,
          0.579601446889555,
          -1.7869180545292704,
          0.6597949108832315,
          -0.0001365483231869348,
          1.1812217654383987,
          -0.039242310036225546,
          0.055462809310465856,
          -0.26055519934982774,
          0.6725828725192213,
          -0.5868956518865107,
          -0.36545184706978795,
          0.9293783772779497,
          -1.12768298608976,
          -0.6802463660504389,
          1.0337663943479858,
          -0.11482295289181627,
          -0.050142642112852305,
          -0.7605981670708353,
          1.1776341864268012,
          -1.046185183818184,
          -0.7725793465552173,
          -0.19141931620324604,
          -0.5627311353208561,
          -0.6551472073374759,
          0.1682953138174061,
          -1.219605336933295,
          1.1676004025006497,
          -1.729816895327089,
          0.7124705106659508,
          1.5236894135662393,
          -1.6321268418409738,
          -0.7707520544200946,
          -0.05597956411105408,
          0.16633345555002213,
          1.3749075858226854,
          0.7668818323383592,
          1.2292117573820642,
          -0.09963937439980546,
          1.8913086287611742,
          -0.13916805496855586,
          -0.8661975302049588,
          0.011535216890753078,
          1.2450592447021642,
          -2.211752092799134
         ]
        },
        {
         "line": {
          "color": "rgba(50, 171, 96, 1.0)",
          "dash": "solid",
          "shape": "linear",
          "width": 1.3
         },
         "mode": "lines",
         "name": "C",
         "text": "",
         "type": "scatter",
         "x": [
          0,
          1,
          2,
          3,
          4,
          5,
          6,
          7,
          8,
          9,
          10,
          11,
          12,
          13,
          14,
          15,
          16,
          17,
          18,
          19,
          20,
          21,
          22,
          23,
          24,
          25,
          26,
          27,
          28,
          29,
          30,
          31,
          32,
          33,
          34,
          35,
          36,
          37,
          38,
          39,
          40,
          41,
          42,
          43,
          44,
          45,
          46,
          47,
          48,
          49,
          50,
          51,
          52,
          53,
          54,
          55,
          56,
          57,
          58,
          59,
          60,
          61,
          62,
          63,
          64,
          65,
          66,
          67,
          68,
          69,
          70,
          71,
          72,
          73,
          74,
          75,
          76,
          77,
          78,
          79,
          80,
          81,
          82,
          83,
          84,
          85,
          86,
          87,
          88,
          89,
          90,
          91,
          92,
          93,
          94,
          95,
          96,
          97,
          98,
          99
         ],
         "y": [
          -0.9215737996680481,
          0.24257794495661747,
          0.28730374971215455,
          0.14040275264155666,
          -0.01454372243547929,
          0.5701479887456785,
          -0.5913889393179355,
          -0.5391923903512743,
          -0.1268109615054854,
          0.8330285935502711,
          -0.45887812076157464,
          -0.9098656132168144,
          0.30937887086993643,
          -1.3173769403479854,
          1.1390528635745454,
          -0.054313980526728284,
          -0.06345952949402739,
          -1.1848137236310903,
          0.07638907718243115,
          -0.7575403986569592,
          1.7111419842743498,
          0.27368305370590473,
          -0.14455085058261638,
          0.035816694898625955,
          0.21415107397239885,
          1.9934432737074155,
          0.25865489493566746,
          -2.311189157953442,
          0.6209601156744055,
          0.7504779554943947,
          0.09748343837697022,
          0.17482346528953707,
          0.5823900490090388,
          1.1176691088840645,
          -0.15595798168684122,
          -0.39505494965702165,
          -0.43222799923157496,
          -0.021203250326226684,
          1.536868590901801,
          0.8289905654680133,
          0.920122027822724,
          0.7552087906910285,
          -0.4435526780625535,
          0.7533509524104882,
          -0.3163692824277632,
          -1.3740015077056968,
          1.4844837012254757,
          1.6989196256086767,
          0.21383303878010604,
          0.8903447804836941,
          -0.4811875074025367,
          -0.4083018305349428,
          1.5122987569757786,
          -3.456495150976108,
          -0.5078588732223014,
          -0.19091788141284483,
          0.07076357456210358,
          -1.1408201971843714,
          1.8997545762062136,
          0.09703976302099852,
          0.039703654766854495,
          1.0494411955167449,
          0.029929215098847543,
          1.7940867369711784,
          -1.4870984274296137,
          -0.6874900617646675,
          1.4365266243030386,
          0.0230165236855401,
          -0.3063837206223713,
          -2.659682030893965,
          1.2274792247016022,
          0.3119932445595903,
          1.2018157112787466,
          0.5033149695523894,
          -0.01920839903472686,
          0.15679949048063785,
          0.12213403014052661,
          -0.12491818968818347,
          0.9322611703529357,
          -0.32080906005630394,
          -1.9843429087528304,
          -2.1117410103351584,
          -0.9971293003585686,
          1.2539711506249005,
          -0.9705376358440737,
          1.110380938606927,
          -0.9658677901361647,
          -1.3794425991471915,
          -0.18429815818266237,
          -2.4709888143236496,
          2.0947893798665924,
          -0.3557969469360339,
          0.5337181750396833,
          0.12295132345624875,
          1.425546310958585,
          0.1999557525436834,
          -1.293395493776135,
          1.221242082392363,
          -0.7800515940717015,
          -0.4455096834649943
         ]
        },
        {
         "line": {
          "color": "rgba(128, 0, 128, 1.0)",
          "dash": "solid",
          "shape": "linear",
          "width": 1.3
         },
         "mode": "lines",
         "name": "D",
         "text": "",
         "type": "scatter",
         "x": [
          0,
          1,
          2,
          3,
          4,
          5,
          6,
          7,
          8,
          9,
          10,
          11,
          12,
          13,
          14,
          15,
          16,
          17,
          18,
          19,
          20,
          21,
          22,
          23,
          24,
          25,
          26,
          27,
          28,
          29,
          30,
          31,
          32,
          33,
          34,
          35,
          36,
          37,
          38,
          39,
          40,
          41,
          42,
          43,
          44,
          45,
          46,
          47,
          48,
          49,
          50,
          51,
          52,
          53,
          54,
          55,
          56,
          57,
          58,
          59,
          60,
          61,
          62,
          63,
          64,
          65,
          66,
          67,
          68,
          69,
          70,
          71,
          72,
          73,
          74,
          75,
          76,
          77,
          78,
          79,
          80,
          81,
          82,
          83,
          84,
          85,
          86,
          87,
          88,
          89,
          90,
          91,
          92,
          93,
          94,
          95,
          96,
          97,
          98,
          99
         ],
         "y": [
          -0.3732001785635488,
          0.02772057204258057,
          2.0780977673160814,
          1.3345213603864252,
          0.1694366973809169,
          -0.2684697638023764,
          -0.6082296092599212,
          0.6508892453079715,
          -0.4345062907402152,
          -0.5617920353885649,
          -0.587017228791666,
          -1.090602506962519,
          -0.47177082945853616,
          -0.5047968481345675,
          0.30674061235988115,
          -0.2580618267023648,
          1.213046387572064,
          -0.10336248572090953,
          1.2135641909949002,
          -0.29573781138810157,
          0.09265697441911201,
          1.181111268444659,
          0.9794260265187278,
          -0.2066609559336435,
          -1.4324849127349883,
          1.8973719521978711,
          -1.5770524954708642,
          -1.5233755285194996,
          -0.11954388695033413,
          0.408227044615286,
          -0.7943217801990868,
          -0.4074277029874315,
          -1.2964724531322758,
          1.3531820244255979,
          -0.10209548025668516,
          -3.962267411342711,
          0.3925374957693042,
          -1.5987574555527004,
          -0.015690786883268432,
          -1.3646431233639413,
          0.005367302494327931,
          -1.1544773552282033,
          0.6812441407429343,
          1.3980508128192732,
          -0.6960723365727628,
          0.8007104031685038,
          0.22814968085465678,
          0.39540184605719475,
          -0.6465850039640896,
          -0.49131677264646473,
          -1.7766857278277122,
          -0.5308430489637528,
          -0.4143386231020363,
          0.9564710084119504,
          -0.3110460476539002,
          1.8446499699453207,
          0.38994548400707324,
          -2.7684282902563084,
          -2.119079548307512,
          -0.1266261950522138,
          -0.45611608273969556,
          0.077912447832572,
          -0.21689984979054935,
          -0.7121695757676461,
          -0.3490408053170844,
          0.3906916972874522,
          -0.8297333159231602,
          -0.707490514149694,
          -1.2545296140226112,
          -0.05515145982340287,
          -0.40172092888359184,
          -1.8846250805252711,
          0.9566507481486777,
          1.6497778073533933,
          -1.4767802190660844,
          0.05283350103280196,
          -1.0329661785748872,
          0.5644947822224133,
          -3.2623765712883497,
          -0.050082748227648924,
          -0.31321634490070466,
          -1.0917145834668929,
          0.5450272060871032,
          -0.27725916223419866,
          -1.3544628542209094,
          -2.561107978279768,
          -0.29988417704474407,
          -0.08734822296629834,
          0.31378902477164194,
          -0.08316283323673339,
          -0.057673051473649005,
          -1.1827138584189956,
          -0.9354931234512995,
          0.5391231576807595,
          0.6683226564578738,
          1.4246185626652708,
          -0.250826647645536,
          -1.7472524156312297,
          0.0165326921674526,
          -0.07634791957043927
         ]
        }
       ],
       "layout": {
        "legend": {
         "bgcolor": "#F5F6F9",
         "font": {
          "color": "#4D5663"
         }
        },
        "paper_bgcolor": "#F5F6F9",
        "plot_bgcolor": "#F5F6F9",
        "template": {
         "data": {
          "bar": [
           {
            "error_x": {
             "color": "#2a3f5f"
            },
            "error_y": {
             "color": "#2a3f5f"
            },
            "marker": {
             "line": {
              "color": "#E5ECF6",
              "width": 0.5
             }
            },
            "type": "bar"
           }
          ],
          "barpolar": [
           {
            "marker": {
             "line": {
              "color": "#E5ECF6",
              "width": 0.5
             }
            },
            "type": "barpolar"
           }
          ],
          "carpet": [
           {
            "aaxis": {
             "endlinecolor": "#2a3f5f",
             "gridcolor": "white",
             "linecolor": "white",
             "minorgridcolor": "white",
             "startlinecolor": "#2a3f5f"
            },
            "baxis": {
             "endlinecolor": "#2a3f5f",
             "gridcolor": "white",
             "linecolor": "white",
             "minorgridcolor": "white",
             "startlinecolor": "#2a3f5f"
            },
            "type": "carpet"
           }
          ],
          "choropleth": [
           {
            "colorbar": {
             "outlinewidth": 0,
             "ticks": ""
            },
            "type": "choropleth"
           }
          ],
          "contour": [
           {
            "colorbar": {
             "outlinewidth": 0,
             "ticks": ""
            },
            "colorscale": [
             [
              0,
              "#0d0887"
             ],
             [
              0.1111111111111111,
              "#46039f"
             ],
             [
              0.2222222222222222,
              "#7201a8"
             ],
             [
              0.3333333333333333,
              "#9c179e"
             ],
             [
              0.4444444444444444,
              "#bd3786"
             ],
             [
              0.5555555555555556,
              "#d8576b"
             ],
             [
              0.6666666666666666,
              "#ed7953"
             ],
             [
              0.7777777777777778,
              "#fb9f3a"
             ],
             [
              0.8888888888888888,
              "#fdca26"
             ],
             [
              1,
              "#f0f921"
             ]
            ],
            "type": "contour"
           }
          ],
          "contourcarpet": [
           {
            "colorbar": {
             "outlinewidth": 0,
             "ticks": ""
            },
            "type": "contourcarpet"
           }
          ],
          "heatmap": [
           {
            "colorbar": {
             "outlinewidth": 0,
             "ticks": ""
            },
            "colorscale": [
             [
              0,
              "#0d0887"
             ],
             [
              0.1111111111111111,
              "#46039f"
             ],
             [
              0.2222222222222222,
              "#7201a8"
             ],
             [
              0.3333333333333333,
              "#9c179e"
             ],
             [
              0.4444444444444444,
              "#bd3786"
             ],
             [
              0.5555555555555556,
              "#d8576b"
             ],
             [
              0.6666666666666666,
              "#ed7953"
             ],
             [
              0.7777777777777778,
              "#fb9f3a"
             ],
             [
              0.8888888888888888,
              "#fdca26"
             ],
             [
              1,
              "#f0f921"
             ]
            ],
            "type": "heatmap"
           }
          ],
          "heatmapgl": [
           {
            "colorbar": {
             "outlinewidth": 0,
             "ticks": ""
            },
            "colorscale": [
             [
              0,
              "#0d0887"
             ],
             [
              0.1111111111111111,
              "#46039f"
             ],
             [
              0.2222222222222222,
              "#7201a8"
             ],
             [
              0.3333333333333333,
              "#9c179e"
             ],
             [
              0.4444444444444444,
              "#bd3786"
             ],
             [
              0.5555555555555556,
              "#d8576b"
             ],
             [
              0.6666666666666666,
              "#ed7953"
             ],
             [
              0.7777777777777778,
              "#fb9f3a"
             ],
             [
              0.8888888888888888,
              "#fdca26"
             ],
             [
              1,
              "#f0f921"
             ]
            ],
            "type": "heatmapgl"
           }
          ],
          "histogram": [
           {
            "marker": {
             "colorbar": {
              "outlinewidth": 0,
              "ticks": ""
             }
            },
            "type": "histogram"
           }
          ],
          "histogram2d": [
           {
            "colorbar": {
             "outlinewidth": 0,
             "ticks": ""
            },
            "colorscale": [
             [
              0,
              "#0d0887"
             ],
             [
              0.1111111111111111,
              "#46039f"
             ],
             [
              0.2222222222222222,
              "#7201a8"
             ],
             [
              0.3333333333333333,
              "#9c179e"
             ],
             [
              0.4444444444444444,
              "#bd3786"
             ],
             [
              0.5555555555555556,
              "#d8576b"
             ],
             [
              0.6666666666666666,
              "#ed7953"
             ],
             [
              0.7777777777777778,
              "#fb9f3a"
             ],
             [
              0.8888888888888888,
              "#fdca26"
             ],
             [
              1,
              "#f0f921"
             ]
            ],
            "type": "histogram2d"
           }
          ],
          "histogram2dcontour": [
           {
            "colorbar": {
             "outlinewidth": 0,
             "ticks": ""
            },
            "colorscale": [
             [
              0,
              "#0d0887"
             ],
             [
              0.1111111111111111,
              "#46039f"
             ],
             [
              0.2222222222222222,
              "#7201a8"
             ],
             [
              0.3333333333333333,
              "#9c179e"
             ],
             [
              0.4444444444444444,
              "#bd3786"
             ],
             [
              0.5555555555555556,
              "#d8576b"
             ],
             [
              0.6666666666666666,
              "#ed7953"
             ],
             [
              0.7777777777777778,
              "#fb9f3a"
             ],
             [
              0.8888888888888888,
              "#fdca26"
             ],
             [
              1,
              "#f0f921"
             ]
            ],
            "type": "histogram2dcontour"
           }
          ],
          "mesh3d": [
           {
            "colorbar": {
             "outlinewidth": 0,
             "ticks": ""
            },
            "type": "mesh3d"
           }
          ],
          "parcoords": [
           {
            "line": {
             "colorbar": {
              "outlinewidth": 0,
              "ticks": ""
             }
            },
            "type": "parcoords"
           }
          ],
          "pie": [
           {
            "automargin": true,
            "type": "pie"
           }
          ],
          "scatter": [
           {
            "marker": {
             "colorbar": {
              "outlinewidth": 0,
              "ticks": ""
             }
            },
            "type": "scatter"
           }
          ],
          "scatter3d": [
           {
            "line": {
             "colorbar": {
              "outlinewidth": 0,
              "ticks": ""
             }
            },
            "marker": {
             "colorbar": {
              "outlinewidth": 0,
              "ticks": ""
             }
            },
            "type": "scatter3d"
           }
          ],
          "scattercarpet": [
           {
            "marker": {
             "colorbar": {
              "outlinewidth": 0,
              "ticks": ""
             }
            },
            "type": "scattercarpet"
           }
          ],
          "scattergeo": [
           {
            "marker": {
             "colorbar": {
              "outlinewidth": 0,
              "ticks": ""
             }
            },
            "type": "scattergeo"
           }
          ],
          "scattergl": [
           {
            "marker": {
             "colorbar": {
              "outlinewidth": 0,
              "ticks": ""
             }
            },
            "type": "scattergl"
           }
          ],
          "scattermapbox": [
           {
            "marker": {
             "colorbar": {
              "outlinewidth": 0,
              "ticks": ""
             }
            },
            "type": "scattermapbox"
           }
          ],
          "scatterpolar": [
           {
            "marker": {
             "colorbar": {
              "outlinewidth": 0,
              "ticks": ""
             }
            },
            "type": "scatterpolar"
           }
          ],
          "scatterpolargl": [
           {
            "marker": {
             "colorbar": {
              "outlinewidth": 0,
              "ticks": ""
             }
            },
            "type": "scatterpolargl"
           }
          ],
          "scatterternary": [
           {
            "marker": {
             "colorbar": {
              "outlinewidth": 0,
              "ticks": ""
             }
            },
            "type": "scatterternary"
           }
          ],
          "surface": [
           {
            "colorbar": {
             "outlinewidth": 0,
             "ticks": ""
            },
            "colorscale": [
             [
              0,
              "#0d0887"
             ],
             [
              0.1111111111111111,
              "#46039f"
             ],
             [
              0.2222222222222222,
              "#7201a8"
             ],
             [
              0.3333333333333333,
              "#9c179e"
             ],
             [
              0.4444444444444444,
              "#bd3786"
             ],
             [
              0.5555555555555556,
              "#d8576b"
             ],
             [
              0.6666666666666666,
              "#ed7953"
             ],
             [
              0.7777777777777778,
              "#fb9f3a"
             ],
             [
              0.8888888888888888,
              "#fdca26"
             ],
             [
              1,
              "#f0f921"
             ]
            ],
            "type": "surface"
           }
          ],
          "table": [
           {
            "cells": {
             "fill": {
              "color": "#EBF0F8"
             },
             "line": {
              "color": "white"
             }
            },
            "header": {
             "fill": {
              "color": "#C8D4E3"
             },
             "line": {
              "color": "white"
             }
            },
            "type": "table"
           }
          ]
         },
         "layout": {
          "annotationdefaults": {
           "arrowcolor": "#2a3f5f",
           "arrowhead": 0,
           "arrowwidth": 1
          },
          "coloraxis": {
           "colorbar": {
            "outlinewidth": 0,
            "ticks": ""
           }
          },
          "colorscale": {
           "diverging": [
            [
             0,
             "#8e0152"
            ],
            [
             0.1,
             "#c51b7d"
            ],
            [
             0.2,
             "#de77ae"
            ],
            [
             0.3,
             "#f1b6da"
            ],
            [
             0.4,
             "#fde0ef"
            ],
            [
             0.5,
             "#f7f7f7"
            ],
            [
             0.6,
             "#e6f5d0"
            ],
            [
             0.7,
             "#b8e186"
            ],
            [
             0.8,
             "#7fbc41"
            ],
            [
             0.9,
             "#4d9221"
            ],
            [
             1,
             "#276419"
            ]
           ],
           "sequential": [
            [
             0,
             "#0d0887"
            ],
            [
             0.1111111111111111,
             "#46039f"
            ],
            [
             0.2222222222222222,
             "#7201a8"
            ],
            [
             0.3333333333333333,
             "#9c179e"
            ],
            [
             0.4444444444444444,
             "#bd3786"
            ],
            [
             0.5555555555555556,
             "#d8576b"
            ],
            [
             0.6666666666666666,
             "#ed7953"
            ],
            [
             0.7777777777777778,
             "#fb9f3a"
            ],
            [
             0.8888888888888888,
             "#fdca26"
            ],
            [
             1,
             "#f0f921"
            ]
           ],
           "sequentialminus": [
            [
             0,
             "#0d0887"
            ],
            [
             0.1111111111111111,
             "#46039f"
            ],
            [
             0.2222222222222222,
             "#7201a8"
            ],
            [
             0.3333333333333333,
             "#9c179e"
            ],
            [
             0.4444444444444444,
             "#bd3786"
            ],
            [
             0.5555555555555556,
             "#d8576b"
            ],
            [
             0.6666666666666666,
             "#ed7953"
            ],
            [
             0.7777777777777778,
             "#fb9f3a"
            ],
            [
             0.8888888888888888,
             "#fdca26"
            ],
            [
             1,
             "#f0f921"
            ]
           ]
          },
          "colorway": [
           "#636efa",
           "#EF553B",
           "#00cc96",
           "#ab63fa",
           "#FFA15A",
           "#19d3f3",
           "#FF6692",
           "#B6E880",
           "#FF97FF",
           "#FECB52"
          ],
          "font": {
           "color": "#2a3f5f"
          },
          "geo": {
           "bgcolor": "white",
           "lakecolor": "white",
           "landcolor": "#E5ECF6",
           "showlakes": true,
           "showland": true,
           "subunitcolor": "white"
          },
          "hoverlabel": {
           "align": "left"
          },
          "hovermode": "closest",
          "mapbox": {
           "style": "light"
          },
          "paper_bgcolor": "white",
          "plot_bgcolor": "#E5ECF6",
          "polar": {
           "angularaxis": {
            "gridcolor": "white",
            "linecolor": "white",
            "ticks": ""
           },
           "bgcolor": "#E5ECF6",
           "radialaxis": {
            "gridcolor": "white",
            "linecolor": "white",
            "ticks": ""
           }
          },
          "scene": {
           "xaxis": {
            "backgroundcolor": "#E5ECF6",
            "gridcolor": "white",
            "gridwidth": 2,
            "linecolor": "white",
            "showbackground": true,
            "ticks": "",
            "zerolinecolor": "white"
           },
           "yaxis": {
            "backgroundcolor": "#E5ECF6",
            "gridcolor": "white",
            "gridwidth": 2,
            "linecolor": "white",
            "showbackground": true,
            "ticks": "",
            "zerolinecolor": "white"
           },
           "zaxis": {
            "backgroundcolor": "#E5ECF6",
            "gridcolor": "white",
            "gridwidth": 2,
            "linecolor": "white",
            "showbackground": true,
            "ticks": "",
            "zerolinecolor": "white"
           }
          },
          "shapedefaults": {
           "line": {
            "color": "#2a3f5f"
           }
          },
          "ternary": {
           "aaxis": {
            "gridcolor": "white",
            "linecolor": "white",
            "ticks": ""
           },
           "baxis": {
            "gridcolor": "white",
            "linecolor": "white",
            "ticks": ""
           },
           "bgcolor": "#E5ECF6",
           "caxis": {
            "gridcolor": "white",
            "linecolor": "white",
            "ticks": ""
           }
          },
          "title": {
           "x": 0.05
          },
          "xaxis": {
           "automargin": true,
           "gridcolor": "white",
           "linecolor": "white",
           "ticks": "",
           "title": {
            "standoff": 15
           },
           "zerolinecolor": "white",
           "zerolinewidth": 2
          },
          "yaxis": {
           "automargin": true,
           "gridcolor": "white",
           "linecolor": "white",
           "ticks": "",
           "title": {
            "standoff": 15
           },
           "zerolinecolor": "white",
           "zerolinewidth": 2
          }
         }
        },
        "title": {
         "font": {
          "color": "#4D5663"
         }
        },
        "xaxis": {
         "gridcolor": "#E1E5ED",
         "showgrid": true,
         "tickfont": {
          "color": "#4D5663"
         },
         "title": {
          "font": {
           "color": "#4D5663"
          },
          "text": ""
         },
         "zerolinecolor": "#E1E5ED"
        },
        "yaxis": {
         "gridcolor": "#E1E5ED",
         "showgrid": true,
         "tickfont": {
          "color": "#4D5663"
         },
         "title": {
          "font": {
           "color": "#4D5663"
          },
          "text": ""
         },
         "zerolinecolor": "#E1E5ED"
        }
       }
      },
      "text/html": [
       "<div>\n",
       "        \n",
       "        \n",
       "            <div id=\"f10a1ee9-572b-4a0c-b91f-12c01bb7c2b1\" class=\"plotly-graph-div\" style=\"height:525px; width:100%;\"></div>\n",
       "            <script type=\"text/javascript\">\n",
       "                require([\"plotly\"], function(Plotly) {\n",
       "                    window.PLOTLYENV=window.PLOTLYENV || {};\n",
       "                    window.PLOTLYENV.BASE_URL='https://plot.ly';\n",
       "                    \n",
       "                if (document.getElementById(\"f10a1ee9-572b-4a0c-b91f-12c01bb7c2b1\")) {\n",
       "                    Plotly.newPlot(\n",
       "                        'f10a1ee9-572b-4a0c-b91f-12c01bb7c2b1',\n",
       "                        [{\"line\": {\"color\": \"rgba(255, 153, 51, 1.0)\", \"dash\": \"solid\", \"shape\": \"linear\", \"width\": 1.3}, \"mode\": \"lines\", \"name\": \"A\", \"text\": \"\", \"type\": \"scatter\", \"x\": [0, 1, 2, 3, 4, 5, 6, 7, 8, 9, 10, 11, 12, 13, 14, 15, 16, 17, 18, 19, 20, 21, 22, 23, 24, 25, 26, 27, 28, 29, 30, 31, 32, 33, 34, 35, 36, 37, 38, 39, 40, 41, 42, 43, 44, 45, 46, 47, 48, 49, 50, 51, 52, 53, 54, 55, 56, 57, 58, 59, 60, 61, 62, 63, 64, 65, 66, 67, 68, 69, 70, 71, 72, 73, 74, 75, 76, 77, 78, 79, 80, 81, 82, 83, 84, 85, 86, 87, 88, 89, 90, 91, 92, 93, 94, 95, 96, 97, 98, 99], \"y\": [0.48758791284167, -1.0945360538696463, -0.025109160636671034, 0.5318438573072443, 1.170821047816164, -1.0781069618216137, 0.023929908721716072, -0.3341668073479446, 0.15466770476350178, 1.5446639151497434, 1.4056054833842484, 1.6261568763361154, -1.1227374435458701, 0.28194097407828445, -0.682223671693977, -0.9562545728370384, -0.7209835661743308, -0.03317994654738412, 0.5205553063310279, -1.1366028975811477, -0.9786485170200829, 0.13548859544218975, -0.0009540853056883342, 0.5979449535006777, 1.1149531211625783, 0.4283544325769933, -0.2411460571149065, -1.2870861552795327, 0.03636844814017887, 1.2075977330375478, -1.1535869763732076, 1.0628415041799286, -1.0491639233442693, 1.3811022114090363, -0.3613211905254392, -0.45890225542836116, -0.12162760141230262, -0.8396215800903595, -0.565381067065979, -3.4566182937067276, 0.8993420377570022, 0.2165974313829244, 1.6103508033055005, 0.0094913782519163, 0.45531265282040323, 0.6119558083278896, -0.2942946657226144, -1.2729657899992224, -0.3545189453227468, 0.07805696223208544, -0.66178932419833, -1.6925420918465717, -0.1307554580410991, -0.39774105359567025, -1.516011865561858, -0.5391143165355534, -1.1142859655918813, 1.0551320487656342, -0.5717178581500568, -0.1073076890360471, -1.5270560562106272, -0.7899843365922449, -0.6356350799456826, -0.41468126319261245, 1.6781806287486598, -0.33874390881565875, 0.18609602799409797, -1.2338502645280391, 0.10345221635878635, 0.6586971927026098, 0.5813188464153145, 1.3837115433387472, -0.29753261872603187, -1.6128956978544893, -1.103081913031465, -0.15162181863861388, 0.7316627867109841, -0.8665646320585265, -1.701661298481288, 1.596184275190892, 0.14494608879711593, -0.41603294033322546, 0.9563325173459639, -0.30156389581498877, 0.926333185290943, 0.6631382639673186, 0.39152621569100776, -0.5826926583224311, 0.6255130281637811, -0.21940433600962406, -0.9505295760532173, -0.10707435083175479, 0.37504647253794426, -0.7821664392300294, 1.213031390357866, -0.009994398016467693, 0.9894948390200397, -1.647259086231465, 0.9233657259667436, 0.17155861516031895]}, {\"line\": {\"color\": \"rgba(55, 128, 191, 1.0)\", \"dash\": \"solid\", \"shape\": \"linear\", \"width\": 1.3}, \"mode\": \"lines\", \"name\": \"B\", \"text\": \"\", \"type\": \"scatter\", \"x\": [0, 1, 2, 3, 4, 5, 6, 7, 8, 9, 10, 11, 12, 13, 14, 15, 16, 17, 18, 19, 20, 21, 22, 23, 24, 25, 26, 27, 28, 29, 30, 31, 32, 33, 34, 35, 36, 37, 38, 39, 40, 41, 42, 43, 44, 45, 46, 47, 48, 49, 50, 51, 52, 53, 54, 55, 56, 57, 58, 59, 60, 61, 62, 63, 64, 65, 66, 67, 68, 69, 70, 71, 72, 73, 74, 75, 76, 77, 78, 79, 80, 81, 82, 83, 84, 85, 86, 87, 88, 89, 90, 91, 92, 93, 94, 95, 96, 97, 98, 99], \"y\": [-0.3260093462636492, 0.24999368535084174, 0.23529007756177991, 1.497738301294124, -1.9235211183341405, -2.0300951821002418, -0.8026053432036195, -0.062102401082379945, 0.5733134985509706, -0.028200152143247094, 0.5457366836861638, 1.9105677035222017, -1.8510783961436936, 1.8936264586473475, 0.8455161682358032, 0.08530004905902606, 1.15547970626262, 0.33241678821461357, 0.8973896937867161, 0.19756270998312664, -0.5551208869803647, -0.7141539274695231, 0.009781143871655847, -0.7963514852359374, 0.18435114594596597, -0.7236122806767714, -0.6268367864953104, -1.0069813144186306, -0.5997263961705249, 0.2218092724149917, -1.170188533181909, -0.7686459812838211, -0.5673983196078344, 1.5249329961718672, -2.1774022163390523, -0.16736496395437145, 1.0228620924991214, 0.3910535831520817, 1.728288848550678, -0.009405137671356954, 0.9241988728738655, 0.44155721095505096, -0.22054721336042088, 0.5781436798174855, -1.290605550402523, -0.8219921260635391, 0.6672891466109183, -1.0544087228560581, 0.8576970417953911, 1.4773492966329609, -0.37563342720144566, 1.2771642094219255, 1.4113133544016951, -0.29750095974408886, -0.3162064319347066, 1.188528108737439, 0.579601446889555, -1.7869180545292704, 0.6597949108832315, -0.0001365483231869348, 1.1812217654383987, -0.039242310036225546, 0.055462809310465856, -0.26055519934982774, 0.6725828725192213, -0.5868956518865107, -0.36545184706978795, 0.9293783772779497, -1.12768298608976, -0.6802463660504389, 1.0337663943479858, -0.11482295289181627, -0.050142642112852305, -0.7605981670708353, 1.1776341864268012, -1.046185183818184, -0.7725793465552173, -0.19141931620324604, -0.5627311353208561, -0.6551472073374759, 0.1682953138174061, -1.219605336933295, 1.1676004025006497, -1.729816895327089, 0.7124705106659508, 1.5236894135662393, -1.6321268418409738, -0.7707520544200946, -0.05597956411105408, 0.16633345555002213, 1.3749075858226854, 0.7668818323383592, 1.2292117573820642, -0.09963937439980546, 1.8913086287611742, -0.13916805496855586, -0.8661975302049588, 0.011535216890753078, 1.2450592447021642, -2.211752092799134]}, {\"line\": {\"color\": \"rgba(50, 171, 96, 1.0)\", \"dash\": \"solid\", \"shape\": \"linear\", \"width\": 1.3}, \"mode\": \"lines\", \"name\": \"C\", \"text\": \"\", \"type\": \"scatter\", \"x\": [0, 1, 2, 3, 4, 5, 6, 7, 8, 9, 10, 11, 12, 13, 14, 15, 16, 17, 18, 19, 20, 21, 22, 23, 24, 25, 26, 27, 28, 29, 30, 31, 32, 33, 34, 35, 36, 37, 38, 39, 40, 41, 42, 43, 44, 45, 46, 47, 48, 49, 50, 51, 52, 53, 54, 55, 56, 57, 58, 59, 60, 61, 62, 63, 64, 65, 66, 67, 68, 69, 70, 71, 72, 73, 74, 75, 76, 77, 78, 79, 80, 81, 82, 83, 84, 85, 86, 87, 88, 89, 90, 91, 92, 93, 94, 95, 96, 97, 98, 99], \"y\": [-0.9215737996680481, 0.24257794495661747, 0.28730374971215455, 0.14040275264155666, -0.01454372243547929, 0.5701479887456785, -0.5913889393179355, -0.5391923903512743, -0.1268109615054854, 0.8330285935502711, -0.45887812076157464, -0.9098656132168144, 0.30937887086993643, -1.3173769403479854, 1.1390528635745454, -0.054313980526728284, -0.06345952949402739, -1.1848137236310903, 0.07638907718243115, -0.7575403986569592, 1.7111419842743498, 0.27368305370590473, -0.14455085058261638, 0.035816694898625955, 0.21415107397239885, 1.9934432737074155, 0.25865489493566746, -2.311189157953442, 0.6209601156744055, 0.7504779554943947, 0.09748343837697022, 0.17482346528953707, 0.5823900490090388, 1.1176691088840645, -0.15595798168684122, -0.39505494965702165, -0.43222799923157496, -0.021203250326226684, 1.536868590901801, 0.8289905654680133, 0.920122027822724, 0.7552087906910285, -0.4435526780625535, 0.7533509524104882, -0.3163692824277632, -1.3740015077056968, 1.4844837012254757, 1.6989196256086767, 0.21383303878010604, 0.8903447804836941, -0.4811875074025367, -0.4083018305349428, 1.5122987569757786, -3.456495150976108, -0.5078588732223014, -0.19091788141284483, 0.07076357456210358, -1.1408201971843714, 1.8997545762062136, 0.09703976302099852, 0.039703654766854495, 1.0494411955167449, 0.029929215098847543, 1.7940867369711784, -1.4870984274296137, -0.6874900617646675, 1.4365266243030386, 0.0230165236855401, -0.3063837206223713, -2.659682030893965, 1.2274792247016022, 0.3119932445595903, 1.2018157112787466, 0.5033149695523894, -0.01920839903472686, 0.15679949048063785, 0.12213403014052661, -0.12491818968818347, 0.9322611703529357, -0.32080906005630394, -1.9843429087528304, -2.1117410103351584, -0.9971293003585686, 1.2539711506249005, -0.9705376358440737, 1.110380938606927, -0.9658677901361647, -1.3794425991471915, -0.18429815818266237, -2.4709888143236496, 2.0947893798665924, -0.3557969469360339, 0.5337181750396833, 0.12295132345624875, 1.425546310958585, 0.1999557525436834, -1.293395493776135, 1.221242082392363, -0.7800515940717015, -0.4455096834649943]}, {\"line\": {\"color\": \"rgba(128, 0, 128, 1.0)\", \"dash\": \"solid\", \"shape\": \"linear\", \"width\": 1.3}, \"mode\": \"lines\", \"name\": \"D\", \"text\": \"\", \"type\": \"scatter\", \"x\": [0, 1, 2, 3, 4, 5, 6, 7, 8, 9, 10, 11, 12, 13, 14, 15, 16, 17, 18, 19, 20, 21, 22, 23, 24, 25, 26, 27, 28, 29, 30, 31, 32, 33, 34, 35, 36, 37, 38, 39, 40, 41, 42, 43, 44, 45, 46, 47, 48, 49, 50, 51, 52, 53, 54, 55, 56, 57, 58, 59, 60, 61, 62, 63, 64, 65, 66, 67, 68, 69, 70, 71, 72, 73, 74, 75, 76, 77, 78, 79, 80, 81, 82, 83, 84, 85, 86, 87, 88, 89, 90, 91, 92, 93, 94, 95, 96, 97, 98, 99], \"y\": [-0.3732001785635488, 0.02772057204258057, 2.0780977673160814, 1.3345213603864252, 0.1694366973809169, -0.2684697638023764, -0.6082296092599212, 0.6508892453079715, -0.4345062907402152, -0.5617920353885649, -0.587017228791666, -1.090602506962519, -0.47177082945853616, -0.5047968481345675, 0.30674061235988115, -0.2580618267023648, 1.213046387572064, -0.10336248572090953, 1.2135641909949002, -0.29573781138810157, 0.09265697441911201, 1.181111268444659, 0.9794260265187278, -0.2066609559336435, -1.4324849127349883, 1.8973719521978711, -1.5770524954708642, -1.5233755285194996, -0.11954388695033413, 0.408227044615286, -0.7943217801990868, -0.4074277029874315, -1.2964724531322758, 1.3531820244255979, -0.10209548025668516, -3.962267411342711, 0.3925374957693042, -1.5987574555527004, -0.015690786883268432, -1.3646431233639413, 0.005367302494327931, -1.1544773552282033, 0.6812441407429343, 1.3980508128192732, -0.6960723365727628, 0.8007104031685038, 0.22814968085465678, 0.39540184605719475, -0.6465850039640896, -0.49131677264646473, -1.7766857278277122, -0.5308430489637528, -0.4143386231020363, 0.9564710084119504, -0.3110460476539002, 1.8446499699453207, 0.38994548400707324, -2.7684282902563084, -2.119079548307512, -0.1266261950522138, -0.45611608273969556, 0.077912447832572, -0.21689984979054935, -0.7121695757676461, -0.3490408053170844, 0.3906916972874522, -0.8297333159231602, -0.707490514149694, -1.2545296140226112, -0.05515145982340287, -0.40172092888359184, -1.8846250805252711, 0.9566507481486777, 1.6497778073533933, -1.4767802190660844, 0.05283350103280196, -1.0329661785748872, 0.5644947822224133, -3.2623765712883497, -0.050082748227648924, -0.31321634490070466, -1.0917145834668929, 0.5450272060871032, -0.27725916223419866, -1.3544628542209094, -2.561107978279768, -0.29988417704474407, -0.08734822296629834, 0.31378902477164194, -0.08316283323673339, -0.057673051473649005, -1.1827138584189956, -0.9354931234512995, 0.5391231576807595, 0.6683226564578738, 1.4246185626652708, -0.250826647645536, -1.7472524156312297, 0.0165326921674526, -0.07634791957043927]}],\n",
       "                        {\"legend\": {\"bgcolor\": \"#F5F6F9\", \"font\": {\"color\": \"#4D5663\"}}, \"paper_bgcolor\": \"#F5F6F9\", \"plot_bgcolor\": \"#F5F6F9\", \"template\": {\"data\": {\"bar\": [{\"error_x\": {\"color\": \"#2a3f5f\"}, \"error_y\": {\"color\": \"#2a3f5f\"}, \"marker\": {\"line\": {\"color\": \"#E5ECF6\", \"width\": 0.5}}, \"type\": \"bar\"}], \"barpolar\": [{\"marker\": {\"line\": {\"color\": \"#E5ECF6\", \"width\": 0.5}}, \"type\": \"barpolar\"}], \"carpet\": [{\"aaxis\": {\"endlinecolor\": \"#2a3f5f\", \"gridcolor\": \"white\", \"linecolor\": \"white\", \"minorgridcolor\": \"white\", \"startlinecolor\": \"#2a3f5f\"}, \"baxis\": {\"endlinecolor\": \"#2a3f5f\", \"gridcolor\": \"white\", \"linecolor\": \"white\", \"minorgridcolor\": \"white\", \"startlinecolor\": \"#2a3f5f\"}, \"type\": \"carpet\"}], \"choropleth\": [{\"colorbar\": {\"outlinewidth\": 0, \"ticks\": \"\"}, \"type\": \"choropleth\"}], \"contour\": [{\"colorbar\": {\"outlinewidth\": 0, \"ticks\": \"\"}, \"colorscale\": [[0.0, \"#0d0887\"], [0.1111111111111111, \"#46039f\"], [0.2222222222222222, \"#7201a8\"], [0.3333333333333333, \"#9c179e\"], [0.4444444444444444, \"#bd3786\"], [0.5555555555555556, \"#d8576b\"], [0.6666666666666666, \"#ed7953\"], [0.7777777777777778, \"#fb9f3a\"], [0.8888888888888888, \"#fdca26\"], [1.0, \"#f0f921\"]], \"type\": \"contour\"}], \"contourcarpet\": [{\"colorbar\": {\"outlinewidth\": 0, \"ticks\": \"\"}, \"type\": \"contourcarpet\"}], \"heatmap\": [{\"colorbar\": {\"outlinewidth\": 0, \"ticks\": \"\"}, \"colorscale\": [[0.0, \"#0d0887\"], [0.1111111111111111, \"#46039f\"], [0.2222222222222222, \"#7201a8\"], [0.3333333333333333, \"#9c179e\"], [0.4444444444444444, \"#bd3786\"], [0.5555555555555556, \"#d8576b\"], [0.6666666666666666, \"#ed7953\"], [0.7777777777777778, \"#fb9f3a\"], [0.8888888888888888, \"#fdca26\"], [1.0, \"#f0f921\"]], \"type\": \"heatmap\"}], \"heatmapgl\": [{\"colorbar\": {\"outlinewidth\": 0, \"ticks\": \"\"}, \"colorscale\": [[0.0, \"#0d0887\"], [0.1111111111111111, \"#46039f\"], [0.2222222222222222, \"#7201a8\"], [0.3333333333333333, \"#9c179e\"], [0.4444444444444444, \"#bd3786\"], [0.5555555555555556, \"#d8576b\"], [0.6666666666666666, \"#ed7953\"], [0.7777777777777778, \"#fb9f3a\"], [0.8888888888888888, \"#fdca26\"], [1.0, \"#f0f921\"]], \"type\": \"heatmapgl\"}], \"histogram\": [{\"marker\": {\"colorbar\": {\"outlinewidth\": 0, \"ticks\": \"\"}}, \"type\": \"histogram\"}], \"histogram2d\": [{\"colorbar\": {\"outlinewidth\": 0, \"ticks\": \"\"}, \"colorscale\": [[0.0, \"#0d0887\"], [0.1111111111111111, \"#46039f\"], [0.2222222222222222, \"#7201a8\"], [0.3333333333333333, \"#9c179e\"], [0.4444444444444444, \"#bd3786\"], [0.5555555555555556, \"#d8576b\"], [0.6666666666666666, \"#ed7953\"], [0.7777777777777778, \"#fb9f3a\"], [0.8888888888888888, \"#fdca26\"], [1.0, \"#f0f921\"]], \"type\": \"histogram2d\"}], \"histogram2dcontour\": [{\"colorbar\": {\"outlinewidth\": 0, \"ticks\": \"\"}, \"colorscale\": [[0.0, \"#0d0887\"], [0.1111111111111111, \"#46039f\"], [0.2222222222222222, \"#7201a8\"], [0.3333333333333333, \"#9c179e\"], [0.4444444444444444, \"#bd3786\"], [0.5555555555555556, \"#d8576b\"], [0.6666666666666666, \"#ed7953\"], [0.7777777777777778, \"#fb9f3a\"], [0.8888888888888888, \"#fdca26\"], [1.0, \"#f0f921\"]], \"type\": \"histogram2dcontour\"}], \"mesh3d\": [{\"colorbar\": {\"outlinewidth\": 0, \"ticks\": \"\"}, \"type\": \"mesh3d\"}], \"parcoords\": [{\"line\": {\"colorbar\": {\"outlinewidth\": 0, \"ticks\": \"\"}}, \"type\": \"parcoords\"}], \"pie\": [{\"automargin\": true, \"type\": \"pie\"}], \"scatter\": [{\"marker\": {\"colorbar\": {\"outlinewidth\": 0, \"ticks\": \"\"}}, \"type\": \"scatter\"}], \"scatter3d\": [{\"line\": {\"colorbar\": {\"outlinewidth\": 0, \"ticks\": \"\"}}, \"marker\": {\"colorbar\": {\"outlinewidth\": 0, \"ticks\": \"\"}}, \"type\": \"scatter3d\"}], \"scattercarpet\": [{\"marker\": {\"colorbar\": {\"outlinewidth\": 0, \"ticks\": \"\"}}, \"type\": \"scattercarpet\"}], \"scattergeo\": [{\"marker\": {\"colorbar\": {\"outlinewidth\": 0, \"ticks\": \"\"}}, \"type\": \"scattergeo\"}], \"scattergl\": [{\"marker\": {\"colorbar\": {\"outlinewidth\": 0, \"ticks\": \"\"}}, \"type\": \"scattergl\"}], \"scattermapbox\": [{\"marker\": {\"colorbar\": {\"outlinewidth\": 0, \"ticks\": \"\"}}, \"type\": \"scattermapbox\"}], \"scatterpolar\": [{\"marker\": {\"colorbar\": {\"outlinewidth\": 0, \"ticks\": \"\"}}, \"type\": \"scatterpolar\"}], \"scatterpolargl\": [{\"marker\": {\"colorbar\": {\"outlinewidth\": 0, \"ticks\": \"\"}}, \"type\": \"scatterpolargl\"}], \"scatterternary\": [{\"marker\": {\"colorbar\": {\"outlinewidth\": 0, \"ticks\": \"\"}}, \"type\": \"scatterternary\"}], \"surface\": [{\"colorbar\": {\"outlinewidth\": 0, \"ticks\": \"\"}, \"colorscale\": [[0.0, \"#0d0887\"], [0.1111111111111111, \"#46039f\"], [0.2222222222222222, \"#7201a8\"], [0.3333333333333333, \"#9c179e\"], [0.4444444444444444, \"#bd3786\"], [0.5555555555555556, \"#d8576b\"], [0.6666666666666666, \"#ed7953\"], [0.7777777777777778, \"#fb9f3a\"], [0.8888888888888888, \"#fdca26\"], [1.0, \"#f0f921\"]], \"type\": \"surface\"}], \"table\": [{\"cells\": {\"fill\": {\"color\": \"#EBF0F8\"}, \"line\": {\"color\": \"white\"}}, \"header\": {\"fill\": {\"color\": \"#C8D4E3\"}, \"line\": {\"color\": \"white\"}}, \"type\": \"table\"}]}, \"layout\": {\"annotationdefaults\": {\"arrowcolor\": \"#2a3f5f\", \"arrowhead\": 0, \"arrowwidth\": 1}, \"coloraxis\": {\"colorbar\": {\"outlinewidth\": 0, \"ticks\": \"\"}}, \"colorscale\": {\"diverging\": [[0, \"#8e0152\"], [0.1, \"#c51b7d\"], [0.2, \"#de77ae\"], [0.3, \"#f1b6da\"], [0.4, \"#fde0ef\"], [0.5, \"#f7f7f7\"], [0.6, \"#e6f5d0\"], [0.7, \"#b8e186\"], [0.8, \"#7fbc41\"], [0.9, \"#4d9221\"], [1, \"#276419\"]], \"sequential\": [[0.0, \"#0d0887\"], [0.1111111111111111, \"#46039f\"], [0.2222222222222222, \"#7201a8\"], [0.3333333333333333, \"#9c179e\"], [0.4444444444444444, \"#bd3786\"], [0.5555555555555556, \"#d8576b\"], [0.6666666666666666, \"#ed7953\"], [0.7777777777777778, \"#fb9f3a\"], [0.8888888888888888, \"#fdca26\"], [1.0, \"#f0f921\"]], \"sequentialminus\": [[0.0, \"#0d0887\"], [0.1111111111111111, \"#46039f\"], [0.2222222222222222, \"#7201a8\"], [0.3333333333333333, \"#9c179e\"], [0.4444444444444444, \"#bd3786\"], [0.5555555555555556, \"#d8576b\"], [0.6666666666666666, \"#ed7953\"], [0.7777777777777778, \"#fb9f3a\"], [0.8888888888888888, \"#fdca26\"], [1.0, \"#f0f921\"]]}, \"colorway\": [\"#636efa\", \"#EF553B\", \"#00cc96\", \"#ab63fa\", \"#FFA15A\", \"#19d3f3\", \"#FF6692\", \"#B6E880\", \"#FF97FF\", \"#FECB52\"], \"font\": {\"color\": \"#2a3f5f\"}, \"geo\": {\"bgcolor\": \"white\", \"lakecolor\": \"white\", \"landcolor\": \"#E5ECF6\", \"showlakes\": true, \"showland\": true, \"subunitcolor\": \"white\"}, \"hoverlabel\": {\"align\": \"left\"}, \"hovermode\": \"closest\", \"mapbox\": {\"style\": \"light\"}, \"paper_bgcolor\": \"white\", \"plot_bgcolor\": \"#E5ECF6\", \"polar\": {\"angularaxis\": {\"gridcolor\": \"white\", \"linecolor\": \"white\", \"ticks\": \"\"}, \"bgcolor\": \"#E5ECF6\", \"radialaxis\": {\"gridcolor\": \"white\", \"linecolor\": \"white\", \"ticks\": \"\"}}, \"scene\": {\"xaxis\": {\"backgroundcolor\": \"#E5ECF6\", \"gridcolor\": \"white\", \"gridwidth\": 2, \"linecolor\": \"white\", \"showbackground\": true, \"ticks\": \"\", \"zerolinecolor\": \"white\"}, \"yaxis\": {\"backgroundcolor\": \"#E5ECF6\", \"gridcolor\": \"white\", \"gridwidth\": 2, \"linecolor\": \"white\", \"showbackground\": true, \"ticks\": \"\", \"zerolinecolor\": \"white\"}, \"zaxis\": {\"backgroundcolor\": \"#E5ECF6\", \"gridcolor\": \"white\", \"gridwidth\": 2, \"linecolor\": \"white\", \"showbackground\": true, \"ticks\": \"\", \"zerolinecolor\": \"white\"}}, \"shapedefaults\": {\"line\": {\"color\": \"#2a3f5f\"}}, \"ternary\": {\"aaxis\": {\"gridcolor\": \"white\", \"linecolor\": \"white\", \"ticks\": \"\"}, \"baxis\": {\"gridcolor\": \"white\", \"linecolor\": \"white\", \"ticks\": \"\"}, \"bgcolor\": \"#E5ECF6\", \"caxis\": {\"gridcolor\": \"white\", \"linecolor\": \"white\", \"ticks\": \"\"}}, \"title\": {\"x\": 0.05}, \"xaxis\": {\"automargin\": true, \"gridcolor\": \"white\", \"linecolor\": \"white\", \"ticks\": \"\", \"title\": {\"standoff\": 15}, \"zerolinecolor\": \"white\", \"zerolinewidth\": 2}, \"yaxis\": {\"automargin\": true, \"gridcolor\": \"white\", \"linecolor\": \"white\", \"ticks\": \"\", \"title\": {\"standoff\": 15}, \"zerolinecolor\": \"white\", \"zerolinewidth\": 2}}}, \"title\": {\"font\": {\"color\": \"#4D5663\"}}, \"xaxis\": {\"gridcolor\": \"#E1E5ED\", \"showgrid\": true, \"tickfont\": {\"color\": \"#4D5663\"}, \"title\": {\"font\": {\"color\": \"#4D5663\"}, \"text\": \"\"}, \"zerolinecolor\": \"#E1E5ED\"}, \"yaxis\": {\"gridcolor\": \"#E1E5ED\", \"showgrid\": true, \"tickfont\": {\"color\": \"#4D5663\"}, \"title\": {\"font\": {\"color\": \"#4D5663\"}, \"text\": \"\"}, \"zerolinecolor\": \"#E1E5ED\"}},\n",
       "                        {\"showLink\": true, \"linkText\": \"Export to plot.ly\", \"plotlyServerURL\": \"https://plot.ly\", \"responsive\": true}\n",
       "                    ).then(function(){\n",
       "                            \n",
       "var gd = document.getElementById('f10a1ee9-572b-4a0c-b91f-12c01bb7c2b1');\n",
       "var x = new MutationObserver(function (mutations, observer) {{\n",
       "        var display = window.getComputedStyle(gd).display;\n",
       "        if (!display || display === 'none') {{\n",
       "            console.log([gd, 'removed!']);\n",
       "            Plotly.purge(gd);\n",
       "            observer.disconnect();\n",
       "        }}\n",
       "}});\n",
       "\n",
       "// Listen for the removal of the full notebook cells\n",
       "var notebookContainer = gd.closest('#notebook-container');\n",
       "if (notebookContainer) {{\n",
       "    x.observe(notebookContainer, {childList: true});\n",
       "}}\n",
       "\n",
       "// Listen for the clearing of the current output cell\n",
       "var outputEl = gd.closest('.output');\n",
       "if (outputEl) {{\n",
       "    x.observe(outputEl, {childList: true});\n",
       "}}\n",
       "\n",
       "                        })\n",
       "                };\n",
       "                });\n",
       "            </script>\n",
       "        </div>"
      ]
     },
     "metadata": {},
     "output_type": "display_data"
    }
   ],
   "source": [
    "df.iplot()"
   ]
  },
  {
   "cell_type": "code",
   "execution_count": 17,
   "metadata": {},
   "outputs": [
    {
     "data": {
      "application/vnd.plotly.v1+json": {
       "config": {
        "linkText": "Export to plot.ly",
        "plotlyServerURL": "https://plot.ly",
        "showLink": true
       },
       "data": [
        {
         "line": {
          "color": "rgba(255, 153, 51, 1.0)",
          "dash": "solid",
          "shape": "linear",
          "width": 1.3
         },
         "mode": "lines",
         "name": "B",
         "text": "",
         "type": "scatter",
         "x": [
          0.48758791284167,
          -1.0945360538696463,
          -0.025109160636671034,
          0.5318438573072443,
          1.170821047816164,
          -1.0781069618216137,
          0.023929908721716072,
          -0.3341668073479446,
          0.15466770476350178,
          1.5446639151497434,
          1.4056054833842484,
          1.6261568763361154,
          -1.1227374435458701,
          0.28194097407828445,
          -0.682223671693977,
          -0.9562545728370384,
          -0.7209835661743308,
          -0.03317994654738412,
          0.5205553063310279,
          -1.1366028975811477,
          -0.9786485170200829,
          0.13548859544218975,
          -0.0009540853056883342,
          0.5979449535006777,
          1.1149531211625783,
          0.4283544325769933,
          -0.2411460571149065,
          -1.2870861552795327,
          0.03636844814017887,
          1.2075977330375478,
          -1.1535869763732076,
          1.0628415041799286,
          -1.0491639233442693,
          1.3811022114090363,
          -0.3613211905254392,
          -0.45890225542836116,
          -0.12162760141230262,
          -0.8396215800903595,
          -0.565381067065979,
          -3.4566182937067276,
          0.8993420377570022,
          0.2165974313829244,
          1.6103508033055005,
          0.0094913782519163,
          0.45531265282040323,
          0.6119558083278896,
          -0.2942946657226144,
          -1.2729657899992224,
          -0.3545189453227468,
          0.07805696223208544,
          -0.66178932419833,
          -1.6925420918465717,
          -0.1307554580410991,
          -0.39774105359567025,
          -1.516011865561858,
          -0.5391143165355534,
          -1.1142859655918813,
          1.0551320487656342,
          -0.5717178581500568,
          -0.1073076890360471,
          -1.5270560562106272,
          -0.7899843365922449,
          -0.6356350799456826,
          -0.41468126319261245,
          1.6781806287486598,
          -0.33874390881565875,
          0.18609602799409797,
          -1.2338502645280391,
          0.10345221635878635,
          0.6586971927026098,
          0.5813188464153145,
          1.3837115433387472,
          -0.29753261872603187,
          -1.6128956978544893,
          -1.103081913031465,
          -0.15162181863861388,
          0.7316627867109841,
          -0.8665646320585265,
          -1.701661298481288,
          1.596184275190892,
          0.14494608879711593,
          -0.41603294033322546,
          0.9563325173459639,
          -0.30156389581498877,
          0.926333185290943,
          0.6631382639673186,
          0.39152621569100776,
          -0.5826926583224311,
          0.6255130281637811,
          -0.21940433600962406,
          -0.9505295760532173,
          -0.10707435083175479,
          0.37504647253794426,
          -0.7821664392300294,
          1.213031390357866,
          -0.009994398016467693,
          0.9894948390200397,
          -1.647259086231465,
          0.9233657259667436,
          0.17155861516031895
         ],
         "y": [
          -0.3260093462636492,
          0.24999368535084174,
          0.23529007756177991,
          1.497738301294124,
          -1.9235211183341405,
          -2.0300951821002418,
          -0.8026053432036195,
          -0.062102401082379945,
          0.5733134985509706,
          -0.028200152143247094,
          0.5457366836861638,
          1.9105677035222017,
          -1.8510783961436936,
          1.8936264586473475,
          0.8455161682358032,
          0.08530004905902606,
          1.15547970626262,
          0.33241678821461357,
          0.8973896937867161,
          0.19756270998312664,
          -0.5551208869803647,
          -0.7141539274695231,
          0.009781143871655847,
          -0.7963514852359374,
          0.18435114594596597,
          -0.7236122806767714,
          -0.6268367864953104,
          -1.0069813144186306,
          -0.5997263961705249,
          0.2218092724149917,
          -1.170188533181909,
          -0.7686459812838211,
          -0.5673983196078344,
          1.5249329961718672,
          -2.1774022163390523,
          -0.16736496395437145,
          1.0228620924991214,
          0.3910535831520817,
          1.728288848550678,
          -0.009405137671356954,
          0.9241988728738655,
          0.44155721095505096,
          -0.22054721336042088,
          0.5781436798174855,
          -1.290605550402523,
          -0.8219921260635391,
          0.6672891466109183,
          -1.0544087228560581,
          0.8576970417953911,
          1.4773492966329609,
          -0.37563342720144566,
          1.2771642094219255,
          1.4113133544016951,
          -0.29750095974408886,
          -0.3162064319347066,
          1.188528108737439,
          0.579601446889555,
          -1.7869180545292704,
          0.6597949108832315,
          -0.0001365483231869348,
          1.1812217654383987,
          -0.039242310036225546,
          0.055462809310465856,
          -0.26055519934982774,
          0.6725828725192213,
          -0.5868956518865107,
          -0.36545184706978795,
          0.9293783772779497,
          -1.12768298608976,
          -0.6802463660504389,
          1.0337663943479858,
          -0.11482295289181627,
          -0.050142642112852305,
          -0.7605981670708353,
          1.1776341864268012,
          -1.046185183818184,
          -0.7725793465552173,
          -0.19141931620324604,
          -0.5627311353208561,
          -0.6551472073374759,
          0.1682953138174061,
          -1.219605336933295,
          1.1676004025006497,
          -1.729816895327089,
          0.7124705106659508,
          1.5236894135662393,
          -1.6321268418409738,
          -0.7707520544200946,
          -0.05597956411105408,
          0.16633345555002213,
          1.3749075858226854,
          0.7668818323383592,
          1.2292117573820642,
          -0.09963937439980546,
          1.8913086287611742,
          -0.13916805496855586,
          -0.8661975302049588,
          0.011535216890753078,
          1.2450592447021642,
          -2.211752092799134
         ]
        }
       ],
       "layout": {
        "legend": {
         "bgcolor": "#F5F6F9",
         "font": {
          "color": "#4D5663"
         }
        },
        "paper_bgcolor": "#F5F6F9",
        "plot_bgcolor": "#F5F6F9",
        "template": {
         "data": {
          "bar": [
           {
            "error_x": {
             "color": "#2a3f5f"
            },
            "error_y": {
             "color": "#2a3f5f"
            },
            "marker": {
             "line": {
              "color": "#E5ECF6",
              "width": 0.5
             }
            },
            "type": "bar"
           }
          ],
          "barpolar": [
           {
            "marker": {
             "line": {
              "color": "#E5ECF6",
              "width": 0.5
             }
            },
            "type": "barpolar"
           }
          ],
          "carpet": [
           {
            "aaxis": {
             "endlinecolor": "#2a3f5f",
             "gridcolor": "white",
             "linecolor": "white",
             "minorgridcolor": "white",
             "startlinecolor": "#2a3f5f"
            },
            "baxis": {
             "endlinecolor": "#2a3f5f",
             "gridcolor": "white",
             "linecolor": "white",
             "minorgridcolor": "white",
             "startlinecolor": "#2a3f5f"
            },
            "type": "carpet"
           }
          ],
          "choropleth": [
           {
            "colorbar": {
             "outlinewidth": 0,
             "ticks": ""
            },
            "type": "choropleth"
           }
          ],
          "contour": [
           {
            "colorbar": {
             "outlinewidth": 0,
             "ticks": ""
            },
            "colorscale": [
             [
              0,
              "#0d0887"
             ],
             [
              0.1111111111111111,
              "#46039f"
             ],
             [
              0.2222222222222222,
              "#7201a8"
             ],
             [
              0.3333333333333333,
              "#9c179e"
             ],
             [
              0.4444444444444444,
              "#bd3786"
             ],
             [
              0.5555555555555556,
              "#d8576b"
             ],
             [
              0.6666666666666666,
              "#ed7953"
             ],
             [
              0.7777777777777778,
              "#fb9f3a"
             ],
             [
              0.8888888888888888,
              "#fdca26"
             ],
             [
              1,
              "#f0f921"
             ]
            ],
            "type": "contour"
           }
          ],
          "contourcarpet": [
           {
            "colorbar": {
             "outlinewidth": 0,
             "ticks": ""
            },
            "type": "contourcarpet"
           }
          ],
          "heatmap": [
           {
            "colorbar": {
             "outlinewidth": 0,
             "ticks": ""
            },
            "colorscale": [
             [
              0,
              "#0d0887"
             ],
             [
              0.1111111111111111,
              "#46039f"
             ],
             [
              0.2222222222222222,
              "#7201a8"
             ],
             [
              0.3333333333333333,
              "#9c179e"
             ],
             [
              0.4444444444444444,
              "#bd3786"
             ],
             [
              0.5555555555555556,
              "#d8576b"
             ],
             [
              0.6666666666666666,
              "#ed7953"
             ],
             [
              0.7777777777777778,
              "#fb9f3a"
             ],
             [
              0.8888888888888888,
              "#fdca26"
             ],
             [
              1,
              "#f0f921"
             ]
            ],
            "type": "heatmap"
           }
          ],
          "heatmapgl": [
           {
            "colorbar": {
             "outlinewidth": 0,
             "ticks": ""
            },
            "colorscale": [
             [
              0,
              "#0d0887"
             ],
             [
              0.1111111111111111,
              "#46039f"
             ],
             [
              0.2222222222222222,
              "#7201a8"
             ],
             [
              0.3333333333333333,
              "#9c179e"
             ],
             [
              0.4444444444444444,
              "#bd3786"
             ],
             [
              0.5555555555555556,
              "#d8576b"
             ],
             [
              0.6666666666666666,
              "#ed7953"
             ],
             [
              0.7777777777777778,
              "#fb9f3a"
             ],
             [
              0.8888888888888888,
              "#fdca26"
             ],
             [
              1,
              "#f0f921"
             ]
            ],
            "type": "heatmapgl"
           }
          ],
          "histogram": [
           {
            "marker": {
             "colorbar": {
              "outlinewidth": 0,
              "ticks": ""
             }
            },
            "type": "histogram"
           }
          ],
          "histogram2d": [
           {
            "colorbar": {
             "outlinewidth": 0,
             "ticks": ""
            },
            "colorscale": [
             [
              0,
              "#0d0887"
             ],
             [
              0.1111111111111111,
              "#46039f"
             ],
             [
              0.2222222222222222,
              "#7201a8"
             ],
             [
              0.3333333333333333,
              "#9c179e"
             ],
             [
              0.4444444444444444,
              "#bd3786"
             ],
             [
              0.5555555555555556,
              "#d8576b"
             ],
             [
              0.6666666666666666,
              "#ed7953"
             ],
             [
              0.7777777777777778,
              "#fb9f3a"
             ],
             [
              0.8888888888888888,
              "#fdca26"
             ],
             [
              1,
              "#f0f921"
             ]
            ],
            "type": "histogram2d"
           }
          ],
          "histogram2dcontour": [
           {
            "colorbar": {
             "outlinewidth": 0,
             "ticks": ""
            },
            "colorscale": [
             [
              0,
              "#0d0887"
             ],
             [
              0.1111111111111111,
              "#46039f"
             ],
             [
              0.2222222222222222,
              "#7201a8"
             ],
             [
              0.3333333333333333,
              "#9c179e"
             ],
             [
              0.4444444444444444,
              "#bd3786"
             ],
             [
              0.5555555555555556,
              "#d8576b"
             ],
             [
              0.6666666666666666,
              "#ed7953"
             ],
             [
              0.7777777777777778,
              "#fb9f3a"
             ],
             [
              0.8888888888888888,
              "#fdca26"
             ],
             [
              1,
              "#f0f921"
             ]
            ],
            "type": "histogram2dcontour"
           }
          ],
          "mesh3d": [
           {
            "colorbar": {
             "outlinewidth": 0,
             "ticks": ""
            },
            "type": "mesh3d"
           }
          ],
          "parcoords": [
           {
            "line": {
             "colorbar": {
              "outlinewidth": 0,
              "ticks": ""
             }
            },
            "type": "parcoords"
           }
          ],
          "pie": [
           {
            "automargin": true,
            "type": "pie"
           }
          ],
          "scatter": [
           {
            "marker": {
             "colorbar": {
              "outlinewidth": 0,
              "ticks": ""
             }
            },
            "type": "scatter"
           }
          ],
          "scatter3d": [
           {
            "line": {
             "colorbar": {
              "outlinewidth": 0,
              "ticks": ""
             }
            },
            "marker": {
             "colorbar": {
              "outlinewidth": 0,
              "ticks": ""
             }
            },
            "type": "scatter3d"
           }
          ],
          "scattercarpet": [
           {
            "marker": {
             "colorbar": {
              "outlinewidth": 0,
              "ticks": ""
             }
            },
            "type": "scattercarpet"
           }
          ],
          "scattergeo": [
           {
            "marker": {
             "colorbar": {
              "outlinewidth": 0,
              "ticks": ""
             }
            },
            "type": "scattergeo"
           }
          ],
          "scattergl": [
           {
            "marker": {
             "colorbar": {
              "outlinewidth": 0,
              "ticks": ""
             }
            },
            "type": "scattergl"
           }
          ],
          "scattermapbox": [
           {
            "marker": {
             "colorbar": {
              "outlinewidth": 0,
              "ticks": ""
             }
            },
            "type": "scattermapbox"
           }
          ],
          "scatterpolar": [
           {
            "marker": {
             "colorbar": {
              "outlinewidth": 0,
              "ticks": ""
             }
            },
            "type": "scatterpolar"
           }
          ],
          "scatterpolargl": [
           {
            "marker": {
             "colorbar": {
              "outlinewidth": 0,
              "ticks": ""
             }
            },
            "type": "scatterpolargl"
           }
          ],
          "scatterternary": [
           {
            "marker": {
             "colorbar": {
              "outlinewidth": 0,
              "ticks": ""
             }
            },
            "type": "scatterternary"
           }
          ],
          "surface": [
           {
            "colorbar": {
             "outlinewidth": 0,
             "ticks": ""
            },
            "colorscale": [
             [
              0,
              "#0d0887"
             ],
             [
              0.1111111111111111,
              "#46039f"
             ],
             [
              0.2222222222222222,
              "#7201a8"
             ],
             [
              0.3333333333333333,
              "#9c179e"
             ],
             [
              0.4444444444444444,
              "#bd3786"
             ],
             [
              0.5555555555555556,
              "#d8576b"
             ],
             [
              0.6666666666666666,
              "#ed7953"
             ],
             [
              0.7777777777777778,
              "#fb9f3a"
             ],
             [
              0.8888888888888888,
              "#fdca26"
             ],
             [
              1,
              "#f0f921"
             ]
            ],
            "type": "surface"
           }
          ],
          "table": [
           {
            "cells": {
             "fill": {
              "color": "#EBF0F8"
             },
             "line": {
              "color": "white"
             }
            },
            "header": {
             "fill": {
              "color": "#C8D4E3"
             },
             "line": {
              "color": "white"
             }
            },
            "type": "table"
           }
          ]
         },
         "layout": {
          "annotationdefaults": {
           "arrowcolor": "#2a3f5f",
           "arrowhead": 0,
           "arrowwidth": 1
          },
          "coloraxis": {
           "colorbar": {
            "outlinewidth": 0,
            "ticks": ""
           }
          },
          "colorscale": {
           "diverging": [
            [
             0,
             "#8e0152"
            ],
            [
             0.1,
             "#c51b7d"
            ],
            [
             0.2,
             "#de77ae"
            ],
            [
             0.3,
             "#f1b6da"
            ],
            [
             0.4,
             "#fde0ef"
            ],
            [
             0.5,
             "#f7f7f7"
            ],
            [
             0.6,
             "#e6f5d0"
            ],
            [
             0.7,
             "#b8e186"
            ],
            [
             0.8,
             "#7fbc41"
            ],
            [
             0.9,
             "#4d9221"
            ],
            [
             1,
             "#276419"
            ]
           ],
           "sequential": [
            [
             0,
             "#0d0887"
            ],
            [
             0.1111111111111111,
             "#46039f"
            ],
            [
             0.2222222222222222,
             "#7201a8"
            ],
            [
             0.3333333333333333,
             "#9c179e"
            ],
            [
             0.4444444444444444,
             "#bd3786"
            ],
            [
             0.5555555555555556,
             "#d8576b"
            ],
            [
             0.6666666666666666,
             "#ed7953"
            ],
            [
             0.7777777777777778,
             "#fb9f3a"
            ],
            [
             0.8888888888888888,
             "#fdca26"
            ],
            [
             1,
             "#f0f921"
            ]
           ],
           "sequentialminus": [
            [
             0,
             "#0d0887"
            ],
            [
             0.1111111111111111,
             "#46039f"
            ],
            [
             0.2222222222222222,
             "#7201a8"
            ],
            [
             0.3333333333333333,
             "#9c179e"
            ],
            [
             0.4444444444444444,
             "#bd3786"
            ],
            [
             0.5555555555555556,
             "#d8576b"
            ],
            [
             0.6666666666666666,
             "#ed7953"
            ],
            [
             0.7777777777777778,
             "#fb9f3a"
            ],
            [
             0.8888888888888888,
             "#fdca26"
            ],
            [
             1,
             "#f0f921"
            ]
           ]
          },
          "colorway": [
           "#636efa",
           "#EF553B",
           "#00cc96",
           "#ab63fa",
           "#FFA15A",
           "#19d3f3",
           "#FF6692",
           "#B6E880",
           "#FF97FF",
           "#FECB52"
          ],
          "font": {
           "color": "#2a3f5f"
          },
          "geo": {
           "bgcolor": "white",
           "lakecolor": "white",
           "landcolor": "#E5ECF6",
           "showlakes": true,
           "showland": true,
           "subunitcolor": "white"
          },
          "hoverlabel": {
           "align": "left"
          },
          "hovermode": "closest",
          "mapbox": {
           "style": "light"
          },
          "paper_bgcolor": "white",
          "plot_bgcolor": "#E5ECF6",
          "polar": {
           "angularaxis": {
            "gridcolor": "white",
            "linecolor": "white",
            "ticks": ""
           },
           "bgcolor": "#E5ECF6",
           "radialaxis": {
            "gridcolor": "white",
            "linecolor": "white",
            "ticks": ""
           }
          },
          "scene": {
           "xaxis": {
            "backgroundcolor": "#E5ECF6",
            "gridcolor": "white",
            "gridwidth": 2,
            "linecolor": "white",
            "showbackground": true,
            "ticks": "",
            "zerolinecolor": "white"
           },
           "yaxis": {
            "backgroundcolor": "#E5ECF6",
            "gridcolor": "white",
            "gridwidth": 2,
            "linecolor": "white",
            "showbackground": true,
            "ticks": "",
            "zerolinecolor": "white"
           },
           "zaxis": {
            "backgroundcolor": "#E5ECF6",
            "gridcolor": "white",
            "gridwidth": 2,
            "linecolor": "white",
            "showbackground": true,
            "ticks": "",
            "zerolinecolor": "white"
           }
          },
          "shapedefaults": {
           "line": {
            "color": "#2a3f5f"
           }
          },
          "ternary": {
           "aaxis": {
            "gridcolor": "white",
            "linecolor": "white",
            "ticks": ""
           },
           "baxis": {
            "gridcolor": "white",
            "linecolor": "white",
            "ticks": ""
           },
           "bgcolor": "#E5ECF6",
           "caxis": {
            "gridcolor": "white",
            "linecolor": "white",
            "ticks": ""
           }
          },
          "title": {
           "x": 0.05
          },
          "xaxis": {
           "automargin": true,
           "gridcolor": "white",
           "linecolor": "white",
           "ticks": "",
           "title": {
            "standoff": 15
           },
           "zerolinecolor": "white",
           "zerolinewidth": 2
          },
          "yaxis": {
           "automargin": true,
           "gridcolor": "white",
           "linecolor": "white",
           "ticks": "",
           "title": {
            "standoff": 15
           },
           "zerolinecolor": "white",
           "zerolinewidth": 2
          }
         }
        },
        "title": {
         "font": {
          "color": "#4D5663"
         }
        },
        "xaxis": {
         "gridcolor": "#E1E5ED",
         "showgrid": true,
         "tickfont": {
          "color": "#4D5663"
         },
         "title": {
          "font": {
           "color": "#4D5663"
          },
          "text": ""
         },
         "zerolinecolor": "#E1E5ED"
        },
        "yaxis": {
         "gridcolor": "#E1E5ED",
         "showgrid": true,
         "tickfont": {
          "color": "#4D5663"
         },
         "title": {
          "font": {
           "color": "#4D5663"
          },
          "text": ""
         },
         "zerolinecolor": "#E1E5ED"
        }
       }
      },
      "text/html": [
       "<div>\n",
       "        \n",
       "        \n",
       "            <div id=\"ee141c86-c657-49a9-8498-04912a1ee77d\" class=\"plotly-graph-div\" style=\"height:525px; width:100%;\"></div>\n",
       "            <script type=\"text/javascript\">\n",
       "                require([\"plotly\"], function(Plotly) {\n",
       "                    window.PLOTLYENV=window.PLOTLYENV || {};\n",
       "                    window.PLOTLYENV.BASE_URL='https://plot.ly';\n",
       "                    \n",
       "                if (document.getElementById(\"ee141c86-c657-49a9-8498-04912a1ee77d\")) {\n",
       "                    Plotly.newPlot(\n",
       "                        'ee141c86-c657-49a9-8498-04912a1ee77d',\n",
       "                        [{\"line\": {\"color\": \"rgba(255, 153, 51, 1.0)\", \"dash\": \"solid\", \"shape\": \"linear\", \"width\": 1.3}, \"mode\": \"lines\", \"name\": \"B\", \"text\": \"\", \"type\": \"scatter\", \"x\": [0.48758791284167, -1.0945360538696463, -0.025109160636671034, 0.5318438573072443, 1.170821047816164, -1.0781069618216137, 0.023929908721716072, -0.3341668073479446, 0.15466770476350178, 1.5446639151497434, 1.4056054833842484, 1.6261568763361154, -1.1227374435458701, 0.28194097407828445, -0.682223671693977, -0.9562545728370384, -0.7209835661743308, -0.03317994654738412, 0.5205553063310279, -1.1366028975811477, -0.9786485170200829, 0.13548859544218975, -0.0009540853056883342, 0.5979449535006777, 1.1149531211625783, 0.4283544325769933, -0.2411460571149065, -1.2870861552795327, 0.03636844814017887, 1.2075977330375478, -1.1535869763732076, 1.0628415041799286, -1.0491639233442693, 1.3811022114090363, -0.3613211905254392, -0.45890225542836116, -0.12162760141230262, -0.8396215800903595, -0.565381067065979, -3.4566182937067276, 0.8993420377570022, 0.2165974313829244, 1.6103508033055005, 0.0094913782519163, 0.45531265282040323, 0.6119558083278896, -0.2942946657226144, -1.2729657899992224, -0.3545189453227468, 0.07805696223208544, -0.66178932419833, -1.6925420918465717, -0.1307554580410991, -0.39774105359567025, -1.516011865561858, -0.5391143165355534, -1.1142859655918813, 1.0551320487656342, -0.5717178581500568, -0.1073076890360471, -1.5270560562106272, -0.7899843365922449, -0.6356350799456826, -0.41468126319261245, 1.6781806287486598, -0.33874390881565875, 0.18609602799409797, -1.2338502645280391, 0.10345221635878635, 0.6586971927026098, 0.5813188464153145, 1.3837115433387472, -0.29753261872603187, -1.6128956978544893, -1.103081913031465, -0.15162181863861388, 0.7316627867109841, -0.8665646320585265, -1.701661298481288, 1.596184275190892, 0.14494608879711593, -0.41603294033322546, 0.9563325173459639, -0.30156389581498877, 0.926333185290943, 0.6631382639673186, 0.39152621569100776, -0.5826926583224311, 0.6255130281637811, -0.21940433600962406, -0.9505295760532173, -0.10707435083175479, 0.37504647253794426, -0.7821664392300294, 1.213031390357866, -0.009994398016467693, 0.9894948390200397, -1.647259086231465, 0.9233657259667436, 0.17155861516031895], \"y\": [-0.3260093462636492, 0.24999368535084174, 0.23529007756177991, 1.497738301294124, -1.9235211183341405, -2.0300951821002418, -0.8026053432036195, -0.062102401082379945, 0.5733134985509706, -0.028200152143247094, 0.5457366836861638, 1.9105677035222017, -1.8510783961436936, 1.8936264586473475, 0.8455161682358032, 0.08530004905902606, 1.15547970626262, 0.33241678821461357, 0.8973896937867161, 0.19756270998312664, -0.5551208869803647, -0.7141539274695231, 0.009781143871655847, -0.7963514852359374, 0.18435114594596597, -0.7236122806767714, -0.6268367864953104, -1.0069813144186306, -0.5997263961705249, 0.2218092724149917, -1.170188533181909, -0.7686459812838211, -0.5673983196078344, 1.5249329961718672, -2.1774022163390523, -0.16736496395437145, 1.0228620924991214, 0.3910535831520817, 1.728288848550678, -0.009405137671356954, 0.9241988728738655, 0.44155721095505096, -0.22054721336042088, 0.5781436798174855, -1.290605550402523, -0.8219921260635391, 0.6672891466109183, -1.0544087228560581, 0.8576970417953911, 1.4773492966329609, -0.37563342720144566, 1.2771642094219255, 1.4113133544016951, -0.29750095974408886, -0.3162064319347066, 1.188528108737439, 0.579601446889555, -1.7869180545292704, 0.6597949108832315, -0.0001365483231869348, 1.1812217654383987, -0.039242310036225546, 0.055462809310465856, -0.26055519934982774, 0.6725828725192213, -0.5868956518865107, -0.36545184706978795, 0.9293783772779497, -1.12768298608976, -0.6802463660504389, 1.0337663943479858, -0.11482295289181627, -0.050142642112852305, -0.7605981670708353, 1.1776341864268012, -1.046185183818184, -0.7725793465552173, -0.19141931620324604, -0.5627311353208561, -0.6551472073374759, 0.1682953138174061, -1.219605336933295, 1.1676004025006497, -1.729816895327089, 0.7124705106659508, 1.5236894135662393, -1.6321268418409738, -0.7707520544200946, -0.05597956411105408, 0.16633345555002213, 1.3749075858226854, 0.7668818323383592, 1.2292117573820642, -0.09963937439980546, 1.8913086287611742, -0.13916805496855586, -0.8661975302049588, 0.011535216890753078, 1.2450592447021642, -2.211752092799134]}],\n",
       "                        {\"legend\": {\"bgcolor\": \"#F5F6F9\", \"font\": {\"color\": \"#4D5663\"}}, \"paper_bgcolor\": \"#F5F6F9\", \"plot_bgcolor\": \"#F5F6F9\", \"template\": {\"data\": {\"bar\": [{\"error_x\": {\"color\": \"#2a3f5f\"}, \"error_y\": {\"color\": \"#2a3f5f\"}, \"marker\": {\"line\": {\"color\": \"#E5ECF6\", \"width\": 0.5}}, \"type\": \"bar\"}], \"barpolar\": [{\"marker\": {\"line\": {\"color\": \"#E5ECF6\", \"width\": 0.5}}, \"type\": \"barpolar\"}], \"carpet\": [{\"aaxis\": {\"endlinecolor\": \"#2a3f5f\", \"gridcolor\": \"white\", \"linecolor\": \"white\", \"minorgridcolor\": \"white\", \"startlinecolor\": \"#2a3f5f\"}, \"baxis\": {\"endlinecolor\": \"#2a3f5f\", \"gridcolor\": \"white\", \"linecolor\": \"white\", \"minorgridcolor\": \"white\", \"startlinecolor\": \"#2a3f5f\"}, \"type\": \"carpet\"}], \"choropleth\": [{\"colorbar\": {\"outlinewidth\": 0, \"ticks\": \"\"}, \"type\": \"choropleth\"}], \"contour\": [{\"colorbar\": {\"outlinewidth\": 0, \"ticks\": \"\"}, \"colorscale\": [[0.0, \"#0d0887\"], [0.1111111111111111, \"#46039f\"], [0.2222222222222222, \"#7201a8\"], [0.3333333333333333, \"#9c179e\"], [0.4444444444444444, \"#bd3786\"], [0.5555555555555556, \"#d8576b\"], [0.6666666666666666, \"#ed7953\"], [0.7777777777777778, \"#fb9f3a\"], [0.8888888888888888, \"#fdca26\"], [1.0, \"#f0f921\"]], \"type\": \"contour\"}], \"contourcarpet\": [{\"colorbar\": {\"outlinewidth\": 0, \"ticks\": \"\"}, \"type\": \"contourcarpet\"}], \"heatmap\": [{\"colorbar\": {\"outlinewidth\": 0, \"ticks\": \"\"}, \"colorscale\": [[0.0, \"#0d0887\"], [0.1111111111111111, \"#46039f\"], [0.2222222222222222, \"#7201a8\"], [0.3333333333333333, \"#9c179e\"], [0.4444444444444444, \"#bd3786\"], [0.5555555555555556, \"#d8576b\"], [0.6666666666666666, \"#ed7953\"], [0.7777777777777778, \"#fb9f3a\"], [0.8888888888888888, \"#fdca26\"], [1.0, \"#f0f921\"]], \"type\": \"heatmap\"}], \"heatmapgl\": [{\"colorbar\": {\"outlinewidth\": 0, \"ticks\": \"\"}, \"colorscale\": [[0.0, \"#0d0887\"], [0.1111111111111111, \"#46039f\"], [0.2222222222222222, \"#7201a8\"], [0.3333333333333333, \"#9c179e\"], [0.4444444444444444, \"#bd3786\"], [0.5555555555555556, \"#d8576b\"], [0.6666666666666666, \"#ed7953\"], [0.7777777777777778, \"#fb9f3a\"], [0.8888888888888888, \"#fdca26\"], [1.0, \"#f0f921\"]], \"type\": \"heatmapgl\"}], \"histogram\": [{\"marker\": {\"colorbar\": {\"outlinewidth\": 0, \"ticks\": \"\"}}, \"type\": \"histogram\"}], \"histogram2d\": [{\"colorbar\": {\"outlinewidth\": 0, \"ticks\": \"\"}, \"colorscale\": [[0.0, \"#0d0887\"], [0.1111111111111111, \"#46039f\"], [0.2222222222222222, \"#7201a8\"], [0.3333333333333333, \"#9c179e\"], [0.4444444444444444, \"#bd3786\"], [0.5555555555555556, \"#d8576b\"], [0.6666666666666666, \"#ed7953\"], [0.7777777777777778, \"#fb9f3a\"], [0.8888888888888888, \"#fdca26\"], [1.0, \"#f0f921\"]], \"type\": \"histogram2d\"}], \"histogram2dcontour\": [{\"colorbar\": {\"outlinewidth\": 0, \"ticks\": \"\"}, \"colorscale\": [[0.0, \"#0d0887\"], [0.1111111111111111, \"#46039f\"], [0.2222222222222222, \"#7201a8\"], [0.3333333333333333, \"#9c179e\"], [0.4444444444444444, \"#bd3786\"], [0.5555555555555556, \"#d8576b\"], [0.6666666666666666, \"#ed7953\"], [0.7777777777777778, \"#fb9f3a\"], [0.8888888888888888, \"#fdca26\"], [1.0, \"#f0f921\"]], \"type\": \"histogram2dcontour\"}], \"mesh3d\": [{\"colorbar\": {\"outlinewidth\": 0, \"ticks\": \"\"}, \"type\": \"mesh3d\"}], \"parcoords\": [{\"line\": {\"colorbar\": {\"outlinewidth\": 0, \"ticks\": \"\"}}, \"type\": \"parcoords\"}], \"pie\": [{\"automargin\": true, \"type\": \"pie\"}], \"scatter\": [{\"marker\": {\"colorbar\": {\"outlinewidth\": 0, \"ticks\": \"\"}}, \"type\": \"scatter\"}], \"scatter3d\": [{\"line\": {\"colorbar\": {\"outlinewidth\": 0, \"ticks\": \"\"}}, \"marker\": {\"colorbar\": {\"outlinewidth\": 0, \"ticks\": \"\"}}, \"type\": \"scatter3d\"}], \"scattercarpet\": [{\"marker\": {\"colorbar\": {\"outlinewidth\": 0, \"ticks\": \"\"}}, \"type\": \"scattercarpet\"}], \"scattergeo\": [{\"marker\": {\"colorbar\": {\"outlinewidth\": 0, \"ticks\": \"\"}}, \"type\": \"scattergeo\"}], \"scattergl\": [{\"marker\": {\"colorbar\": {\"outlinewidth\": 0, \"ticks\": \"\"}}, \"type\": \"scattergl\"}], \"scattermapbox\": [{\"marker\": {\"colorbar\": {\"outlinewidth\": 0, \"ticks\": \"\"}}, \"type\": \"scattermapbox\"}], \"scatterpolar\": [{\"marker\": {\"colorbar\": {\"outlinewidth\": 0, \"ticks\": \"\"}}, \"type\": \"scatterpolar\"}], \"scatterpolargl\": [{\"marker\": {\"colorbar\": {\"outlinewidth\": 0, \"ticks\": \"\"}}, \"type\": \"scatterpolargl\"}], \"scatterternary\": [{\"marker\": {\"colorbar\": {\"outlinewidth\": 0, \"ticks\": \"\"}}, \"type\": \"scatterternary\"}], \"surface\": [{\"colorbar\": {\"outlinewidth\": 0, \"ticks\": \"\"}, \"colorscale\": [[0.0, \"#0d0887\"], [0.1111111111111111, \"#46039f\"], [0.2222222222222222, \"#7201a8\"], [0.3333333333333333, \"#9c179e\"], [0.4444444444444444, \"#bd3786\"], [0.5555555555555556, \"#d8576b\"], [0.6666666666666666, \"#ed7953\"], [0.7777777777777778, \"#fb9f3a\"], [0.8888888888888888, \"#fdca26\"], [1.0, \"#f0f921\"]], \"type\": \"surface\"}], \"table\": [{\"cells\": {\"fill\": {\"color\": \"#EBF0F8\"}, \"line\": {\"color\": \"white\"}}, \"header\": {\"fill\": {\"color\": \"#C8D4E3\"}, \"line\": {\"color\": \"white\"}}, \"type\": \"table\"}]}, \"layout\": {\"annotationdefaults\": {\"arrowcolor\": \"#2a3f5f\", \"arrowhead\": 0, \"arrowwidth\": 1}, \"coloraxis\": {\"colorbar\": {\"outlinewidth\": 0, \"ticks\": \"\"}}, \"colorscale\": {\"diverging\": [[0, \"#8e0152\"], [0.1, \"#c51b7d\"], [0.2, \"#de77ae\"], [0.3, \"#f1b6da\"], [0.4, \"#fde0ef\"], [0.5, \"#f7f7f7\"], [0.6, \"#e6f5d0\"], [0.7, \"#b8e186\"], [0.8, \"#7fbc41\"], [0.9, \"#4d9221\"], [1, \"#276419\"]], \"sequential\": [[0.0, \"#0d0887\"], [0.1111111111111111, \"#46039f\"], [0.2222222222222222, \"#7201a8\"], [0.3333333333333333, \"#9c179e\"], [0.4444444444444444, \"#bd3786\"], [0.5555555555555556, \"#d8576b\"], [0.6666666666666666, \"#ed7953\"], [0.7777777777777778, \"#fb9f3a\"], [0.8888888888888888, \"#fdca26\"], [1.0, \"#f0f921\"]], \"sequentialminus\": [[0.0, \"#0d0887\"], [0.1111111111111111, \"#46039f\"], [0.2222222222222222, \"#7201a8\"], [0.3333333333333333, \"#9c179e\"], [0.4444444444444444, \"#bd3786\"], [0.5555555555555556, \"#d8576b\"], [0.6666666666666666, \"#ed7953\"], [0.7777777777777778, \"#fb9f3a\"], [0.8888888888888888, \"#fdca26\"], [1.0, \"#f0f921\"]]}, \"colorway\": [\"#636efa\", \"#EF553B\", \"#00cc96\", \"#ab63fa\", \"#FFA15A\", \"#19d3f3\", \"#FF6692\", \"#B6E880\", \"#FF97FF\", \"#FECB52\"], \"font\": {\"color\": \"#2a3f5f\"}, \"geo\": {\"bgcolor\": \"white\", \"lakecolor\": \"white\", \"landcolor\": \"#E5ECF6\", \"showlakes\": true, \"showland\": true, \"subunitcolor\": \"white\"}, \"hoverlabel\": {\"align\": \"left\"}, \"hovermode\": \"closest\", \"mapbox\": {\"style\": \"light\"}, \"paper_bgcolor\": \"white\", \"plot_bgcolor\": \"#E5ECF6\", \"polar\": {\"angularaxis\": {\"gridcolor\": \"white\", \"linecolor\": \"white\", \"ticks\": \"\"}, \"bgcolor\": \"#E5ECF6\", \"radialaxis\": {\"gridcolor\": \"white\", \"linecolor\": \"white\", \"ticks\": \"\"}}, \"scene\": {\"xaxis\": {\"backgroundcolor\": \"#E5ECF6\", \"gridcolor\": \"white\", \"gridwidth\": 2, \"linecolor\": \"white\", \"showbackground\": true, \"ticks\": \"\", \"zerolinecolor\": \"white\"}, \"yaxis\": {\"backgroundcolor\": \"#E5ECF6\", \"gridcolor\": \"white\", \"gridwidth\": 2, \"linecolor\": \"white\", \"showbackground\": true, \"ticks\": \"\", \"zerolinecolor\": \"white\"}, \"zaxis\": {\"backgroundcolor\": \"#E5ECF6\", \"gridcolor\": \"white\", \"gridwidth\": 2, \"linecolor\": \"white\", \"showbackground\": true, \"ticks\": \"\", \"zerolinecolor\": \"white\"}}, \"shapedefaults\": {\"line\": {\"color\": \"#2a3f5f\"}}, \"ternary\": {\"aaxis\": {\"gridcolor\": \"white\", \"linecolor\": \"white\", \"ticks\": \"\"}, \"baxis\": {\"gridcolor\": \"white\", \"linecolor\": \"white\", \"ticks\": \"\"}, \"bgcolor\": \"#E5ECF6\", \"caxis\": {\"gridcolor\": \"white\", \"linecolor\": \"white\", \"ticks\": \"\"}}, \"title\": {\"x\": 0.05}, \"xaxis\": {\"automargin\": true, \"gridcolor\": \"white\", \"linecolor\": \"white\", \"ticks\": \"\", \"title\": {\"standoff\": 15}, \"zerolinecolor\": \"white\", \"zerolinewidth\": 2}, \"yaxis\": {\"automargin\": true, \"gridcolor\": \"white\", \"linecolor\": \"white\", \"ticks\": \"\", \"title\": {\"standoff\": 15}, \"zerolinecolor\": \"white\", \"zerolinewidth\": 2}}}, \"title\": {\"font\": {\"color\": \"#4D5663\"}}, \"xaxis\": {\"gridcolor\": \"#E1E5ED\", \"showgrid\": true, \"tickfont\": {\"color\": \"#4D5663\"}, \"title\": {\"font\": {\"color\": \"#4D5663\"}, \"text\": \"\"}, \"zerolinecolor\": \"#E1E5ED\"}, \"yaxis\": {\"gridcolor\": \"#E1E5ED\", \"showgrid\": true, \"tickfont\": {\"color\": \"#4D5663\"}, \"title\": {\"font\": {\"color\": \"#4D5663\"}, \"text\": \"\"}, \"zerolinecolor\": \"#E1E5ED\"}},\n",
       "                        {\"showLink\": true, \"linkText\": \"Export to plot.ly\", \"plotlyServerURL\": \"https://plot.ly\", \"responsive\": true}\n",
       "                    ).then(function(){\n",
       "                            \n",
       "var gd = document.getElementById('ee141c86-c657-49a9-8498-04912a1ee77d');\n",
       "var x = new MutationObserver(function (mutations, observer) {{\n",
       "        var display = window.getComputedStyle(gd).display;\n",
       "        if (!display || display === 'none') {{\n",
       "            console.log([gd, 'removed!']);\n",
       "            Plotly.purge(gd);\n",
       "            observer.disconnect();\n",
       "        }}\n",
       "}});\n",
       "\n",
       "// Listen for the removal of the full notebook cells\n",
       "var notebookContainer = gd.closest('#notebook-container');\n",
       "if (notebookContainer) {{\n",
       "    x.observe(notebookContainer, {childList: true});\n",
       "}}\n",
       "\n",
       "// Listen for the clearing of the current output cell\n",
       "var outputEl = gd.closest('.output');\n",
       "if (outputEl) {{\n",
       "    x.observe(outputEl, {childList: true});\n",
       "}}\n",
       "\n",
       "                        })\n",
       "                };\n",
       "                });\n",
       "            </script>\n",
       "        </div>"
      ]
     },
     "metadata": {},
     "output_type": "display_data"
    }
   ],
   "source": [
    "df.iplot(kind='scatter',x='A',y='B') "
   ]
  },
  {
   "cell_type": "code",
   "execution_count": 18,
   "metadata": {},
   "outputs": [
    {
     "data": {
      "application/vnd.plotly.v1+json": {
       "config": {
        "linkText": "Export to plot.ly",
        "plotlyServerURL": "https://plot.ly",
        "showLink": true
       },
       "data": [
        {
         "line": {
          "color": "rgba(255, 153, 51, 1.0)",
          "dash": "solid",
          "shape": "linear",
          "width": 1.3
         },
         "marker": {
          "size": 12,
          "symbol": "circle"
         },
         "mode": "markers",
         "name": "B",
         "text": "",
         "type": "scatter",
         "x": [
          0.48758791284167,
          -1.0945360538696463,
          -0.025109160636671034,
          0.5318438573072443,
          1.170821047816164,
          -1.0781069618216137,
          0.023929908721716072,
          -0.3341668073479446,
          0.15466770476350178,
          1.5446639151497434,
          1.4056054833842484,
          1.6261568763361154,
          -1.1227374435458701,
          0.28194097407828445,
          -0.682223671693977,
          -0.9562545728370384,
          -0.7209835661743308,
          -0.03317994654738412,
          0.5205553063310279,
          -1.1366028975811477,
          -0.9786485170200829,
          0.13548859544218975,
          -0.0009540853056883342,
          0.5979449535006777,
          1.1149531211625783,
          0.4283544325769933,
          -0.2411460571149065,
          -1.2870861552795327,
          0.03636844814017887,
          1.2075977330375478,
          -1.1535869763732076,
          1.0628415041799286,
          -1.0491639233442693,
          1.3811022114090363,
          -0.3613211905254392,
          -0.45890225542836116,
          -0.12162760141230262,
          -0.8396215800903595,
          -0.565381067065979,
          -3.4566182937067276,
          0.8993420377570022,
          0.2165974313829244,
          1.6103508033055005,
          0.0094913782519163,
          0.45531265282040323,
          0.6119558083278896,
          -0.2942946657226144,
          -1.2729657899992224,
          -0.3545189453227468,
          0.07805696223208544,
          -0.66178932419833,
          -1.6925420918465717,
          -0.1307554580410991,
          -0.39774105359567025,
          -1.516011865561858,
          -0.5391143165355534,
          -1.1142859655918813,
          1.0551320487656342,
          -0.5717178581500568,
          -0.1073076890360471,
          -1.5270560562106272,
          -0.7899843365922449,
          -0.6356350799456826,
          -0.41468126319261245,
          1.6781806287486598,
          -0.33874390881565875,
          0.18609602799409797,
          -1.2338502645280391,
          0.10345221635878635,
          0.6586971927026098,
          0.5813188464153145,
          1.3837115433387472,
          -0.29753261872603187,
          -1.6128956978544893,
          -1.103081913031465,
          -0.15162181863861388,
          0.7316627867109841,
          -0.8665646320585265,
          -1.701661298481288,
          1.596184275190892,
          0.14494608879711593,
          -0.41603294033322546,
          0.9563325173459639,
          -0.30156389581498877,
          0.926333185290943,
          0.6631382639673186,
          0.39152621569100776,
          -0.5826926583224311,
          0.6255130281637811,
          -0.21940433600962406,
          -0.9505295760532173,
          -0.10707435083175479,
          0.37504647253794426,
          -0.7821664392300294,
          1.213031390357866,
          -0.009994398016467693,
          0.9894948390200397,
          -1.647259086231465,
          0.9233657259667436,
          0.17155861516031895
         ],
         "y": [
          -0.3260093462636492,
          0.24999368535084174,
          0.23529007756177991,
          1.497738301294124,
          -1.9235211183341405,
          -2.0300951821002418,
          -0.8026053432036195,
          -0.062102401082379945,
          0.5733134985509706,
          -0.028200152143247094,
          0.5457366836861638,
          1.9105677035222017,
          -1.8510783961436936,
          1.8936264586473475,
          0.8455161682358032,
          0.08530004905902606,
          1.15547970626262,
          0.33241678821461357,
          0.8973896937867161,
          0.19756270998312664,
          -0.5551208869803647,
          -0.7141539274695231,
          0.009781143871655847,
          -0.7963514852359374,
          0.18435114594596597,
          -0.7236122806767714,
          -0.6268367864953104,
          -1.0069813144186306,
          -0.5997263961705249,
          0.2218092724149917,
          -1.170188533181909,
          -0.7686459812838211,
          -0.5673983196078344,
          1.5249329961718672,
          -2.1774022163390523,
          -0.16736496395437145,
          1.0228620924991214,
          0.3910535831520817,
          1.728288848550678,
          -0.009405137671356954,
          0.9241988728738655,
          0.44155721095505096,
          -0.22054721336042088,
          0.5781436798174855,
          -1.290605550402523,
          -0.8219921260635391,
          0.6672891466109183,
          -1.0544087228560581,
          0.8576970417953911,
          1.4773492966329609,
          -0.37563342720144566,
          1.2771642094219255,
          1.4113133544016951,
          -0.29750095974408886,
          -0.3162064319347066,
          1.188528108737439,
          0.579601446889555,
          -1.7869180545292704,
          0.6597949108832315,
          -0.0001365483231869348,
          1.1812217654383987,
          -0.039242310036225546,
          0.055462809310465856,
          -0.26055519934982774,
          0.6725828725192213,
          -0.5868956518865107,
          -0.36545184706978795,
          0.9293783772779497,
          -1.12768298608976,
          -0.6802463660504389,
          1.0337663943479858,
          -0.11482295289181627,
          -0.050142642112852305,
          -0.7605981670708353,
          1.1776341864268012,
          -1.046185183818184,
          -0.7725793465552173,
          -0.19141931620324604,
          -0.5627311353208561,
          -0.6551472073374759,
          0.1682953138174061,
          -1.219605336933295,
          1.1676004025006497,
          -1.729816895327089,
          0.7124705106659508,
          1.5236894135662393,
          -1.6321268418409738,
          -0.7707520544200946,
          -0.05597956411105408,
          0.16633345555002213,
          1.3749075858226854,
          0.7668818323383592,
          1.2292117573820642,
          -0.09963937439980546,
          1.8913086287611742,
          -0.13916805496855586,
          -0.8661975302049588,
          0.011535216890753078,
          1.2450592447021642,
          -2.211752092799134
         ]
        }
       ],
       "layout": {
        "legend": {
         "bgcolor": "#F5F6F9",
         "font": {
          "color": "#4D5663"
         }
        },
        "paper_bgcolor": "#F5F6F9",
        "plot_bgcolor": "#F5F6F9",
        "template": {
         "data": {
          "bar": [
           {
            "error_x": {
             "color": "#2a3f5f"
            },
            "error_y": {
             "color": "#2a3f5f"
            },
            "marker": {
             "line": {
              "color": "#E5ECF6",
              "width": 0.5
             }
            },
            "type": "bar"
           }
          ],
          "barpolar": [
           {
            "marker": {
             "line": {
              "color": "#E5ECF6",
              "width": 0.5
             }
            },
            "type": "barpolar"
           }
          ],
          "carpet": [
           {
            "aaxis": {
             "endlinecolor": "#2a3f5f",
             "gridcolor": "white",
             "linecolor": "white",
             "minorgridcolor": "white",
             "startlinecolor": "#2a3f5f"
            },
            "baxis": {
             "endlinecolor": "#2a3f5f",
             "gridcolor": "white",
             "linecolor": "white",
             "minorgridcolor": "white",
             "startlinecolor": "#2a3f5f"
            },
            "type": "carpet"
           }
          ],
          "choropleth": [
           {
            "colorbar": {
             "outlinewidth": 0,
             "ticks": ""
            },
            "type": "choropleth"
           }
          ],
          "contour": [
           {
            "colorbar": {
             "outlinewidth": 0,
             "ticks": ""
            },
            "colorscale": [
             [
              0,
              "#0d0887"
             ],
             [
              0.1111111111111111,
              "#46039f"
             ],
             [
              0.2222222222222222,
              "#7201a8"
             ],
             [
              0.3333333333333333,
              "#9c179e"
             ],
             [
              0.4444444444444444,
              "#bd3786"
             ],
             [
              0.5555555555555556,
              "#d8576b"
             ],
             [
              0.6666666666666666,
              "#ed7953"
             ],
             [
              0.7777777777777778,
              "#fb9f3a"
             ],
             [
              0.8888888888888888,
              "#fdca26"
             ],
             [
              1,
              "#f0f921"
             ]
            ],
            "type": "contour"
           }
          ],
          "contourcarpet": [
           {
            "colorbar": {
             "outlinewidth": 0,
             "ticks": ""
            },
            "type": "contourcarpet"
           }
          ],
          "heatmap": [
           {
            "colorbar": {
             "outlinewidth": 0,
             "ticks": ""
            },
            "colorscale": [
             [
              0,
              "#0d0887"
             ],
             [
              0.1111111111111111,
              "#46039f"
             ],
             [
              0.2222222222222222,
              "#7201a8"
             ],
             [
              0.3333333333333333,
              "#9c179e"
             ],
             [
              0.4444444444444444,
              "#bd3786"
             ],
             [
              0.5555555555555556,
              "#d8576b"
             ],
             [
              0.6666666666666666,
              "#ed7953"
             ],
             [
              0.7777777777777778,
              "#fb9f3a"
             ],
             [
              0.8888888888888888,
              "#fdca26"
             ],
             [
              1,
              "#f0f921"
             ]
            ],
            "type": "heatmap"
           }
          ],
          "heatmapgl": [
           {
            "colorbar": {
             "outlinewidth": 0,
             "ticks": ""
            },
            "colorscale": [
             [
              0,
              "#0d0887"
             ],
             [
              0.1111111111111111,
              "#46039f"
             ],
             [
              0.2222222222222222,
              "#7201a8"
             ],
             [
              0.3333333333333333,
              "#9c179e"
             ],
             [
              0.4444444444444444,
              "#bd3786"
             ],
             [
              0.5555555555555556,
              "#d8576b"
             ],
             [
              0.6666666666666666,
              "#ed7953"
             ],
             [
              0.7777777777777778,
              "#fb9f3a"
             ],
             [
              0.8888888888888888,
              "#fdca26"
             ],
             [
              1,
              "#f0f921"
             ]
            ],
            "type": "heatmapgl"
           }
          ],
          "histogram": [
           {
            "marker": {
             "colorbar": {
              "outlinewidth": 0,
              "ticks": ""
             }
            },
            "type": "histogram"
           }
          ],
          "histogram2d": [
           {
            "colorbar": {
             "outlinewidth": 0,
             "ticks": ""
            },
            "colorscale": [
             [
              0,
              "#0d0887"
             ],
             [
              0.1111111111111111,
              "#46039f"
             ],
             [
              0.2222222222222222,
              "#7201a8"
             ],
             [
              0.3333333333333333,
              "#9c179e"
             ],
             [
              0.4444444444444444,
              "#bd3786"
             ],
             [
              0.5555555555555556,
              "#d8576b"
             ],
             [
              0.6666666666666666,
              "#ed7953"
             ],
             [
              0.7777777777777778,
              "#fb9f3a"
             ],
             [
              0.8888888888888888,
              "#fdca26"
             ],
             [
              1,
              "#f0f921"
             ]
            ],
            "type": "histogram2d"
           }
          ],
          "histogram2dcontour": [
           {
            "colorbar": {
             "outlinewidth": 0,
             "ticks": ""
            },
            "colorscale": [
             [
              0,
              "#0d0887"
             ],
             [
              0.1111111111111111,
              "#46039f"
             ],
             [
              0.2222222222222222,
              "#7201a8"
             ],
             [
              0.3333333333333333,
              "#9c179e"
             ],
             [
              0.4444444444444444,
              "#bd3786"
             ],
             [
              0.5555555555555556,
              "#d8576b"
             ],
             [
              0.6666666666666666,
              "#ed7953"
             ],
             [
              0.7777777777777778,
              "#fb9f3a"
             ],
             [
              0.8888888888888888,
              "#fdca26"
             ],
             [
              1,
              "#f0f921"
             ]
            ],
            "type": "histogram2dcontour"
           }
          ],
          "mesh3d": [
           {
            "colorbar": {
             "outlinewidth": 0,
             "ticks": ""
            },
            "type": "mesh3d"
           }
          ],
          "parcoords": [
           {
            "line": {
             "colorbar": {
              "outlinewidth": 0,
              "ticks": ""
             }
            },
            "type": "parcoords"
           }
          ],
          "pie": [
           {
            "automargin": true,
            "type": "pie"
           }
          ],
          "scatter": [
           {
            "marker": {
             "colorbar": {
              "outlinewidth": 0,
              "ticks": ""
             }
            },
            "type": "scatter"
           }
          ],
          "scatter3d": [
           {
            "line": {
             "colorbar": {
              "outlinewidth": 0,
              "ticks": ""
             }
            },
            "marker": {
             "colorbar": {
              "outlinewidth": 0,
              "ticks": ""
             }
            },
            "type": "scatter3d"
           }
          ],
          "scattercarpet": [
           {
            "marker": {
             "colorbar": {
              "outlinewidth": 0,
              "ticks": ""
             }
            },
            "type": "scattercarpet"
           }
          ],
          "scattergeo": [
           {
            "marker": {
             "colorbar": {
              "outlinewidth": 0,
              "ticks": ""
             }
            },
            "type": "scattergeo"
           }
          ],
          "scattergl": [
           {
            "marker": {
             "colorbar": {
              "outlinewidth": 0,
              "ticks": ""
             }
            },
            "type": "scattergl"
           }
          ],
          "scattermapbox": [
           {
            "marker": {
             "colorbar": {
              "outlinewidth": 0,
              "ticks": ""
             }
            },
            "type": "scattermapbox"
           }
          ],
          "scatterpolar": [
           {
            "marker": {
             "colorbar": {
              "outlinewidth": 0,
              "ticks": ""
             }
            },
            "type": "scatterpolar"
           }
          ],
          "scatterpolargl": [
           {
            "marker": {
             "colorbar": {
              "outlinewidth": 0,
              "ticks": ""
             }
            },
            "type": "scatterpolargl"
           }
          ],
          "scatterternary": [
           {
            "marker": {
             "colorbar": {
              "outlinewidth": 0,
              "ticks": ""
             }
            },
            "type": "scatterternary"
           }
          ],
          "surface": [
           {
            "colorbar": {
             "outlinewidth": 0,
             "ticks": ""
            },
            "colorscale": [
             [
              0,
              "#0d0887"
             ],
             [
              0.1111111111111111,
              "#46039f"
             ],
             [
              0.2222222222222222,
              "#7201a8"
             ],
             [
              0.3333333333333333,
              "#9c179e"
             ],
             [
              0.4444444444444444,
              "#bd3786"
             ],
             [
              0.5555555555555556,
              "#d8576b"
             ],
             [
              0.6666666666666666,
              "#ed7953"
             ],
             [
              0.7777777777777778,
              "#fb9f3a"
             ],
             [
              0.8888888888888888,
              "#fdca26"
             ],
             [
              1,
              "#f0f921"
             ]
            ],
            "type": "surface"
           }
          ],
          "table": [
           {
            "cells": {
             "fill": {
              "color": "#EBF0F8"
             },
             "line": {
              "color": "white"
             }
            },
            "header": {
             "fill": {
              "color": "#C8D4E3"
             },
             "line": {
              "color": "white"
             }
            },
            "type": "table"
           }
          ]
         },
         "layout": {
          "annotationdefaults": {
           "arrowcolor": "#2a3f5f",
           "arrowhead": 0,
           "arrowwidth": 1
          },
          "coloraxis": {
           "colorbar": {
            "outlinewidth": 0,
            "ticks": ""
           }
          },
          "colorscale": {
           "diverging": [
            [
             0,
             "#8e0152"
            ],
            [
             0.1,
             "#c51b7d"
            ],
            [
             0.2,
             "#de77ae"
            ],
            [
             0.3,
             "#f1b6da"
            ],
            [
             0.4,
             "#fde0ef"
            ],
            [
             0.5,
             "#f7f7f7"
            ],
            [
             0.6,
             "#e6f5d0"
            ],
            [
             0.7,
             "#b8e186"
            ],
            [
             0.8,
             "#7fbc41"
            ],
            [
             0.9,
             "#4d9221"
            ],
            [
             1,
             "#276419"
            ]
           ],
           "sequential": [
            [
             0,
             "#0d0887"
            ],
            [
             0.1111111111111111,
             "#46039f"
            ],
            [
             0.2222222222222222,
             "#7201a8"
            ],
            [
             0.3333333333333333,
             "#9c179e"
            ],
            [
             0.4444444444444444,
             "#bd3786"
            ],
            [
             0.5555555555555556,
             "#d8576b"
            ],
            [
             0.6666666666666666,
             "#ed7953"
            ],
            [
             0.7777777777777778,
             "#fb9f3a"
            ],
            [
             0.8888888888888888,
             "#fdca26"
            ],
            [
             1,
             "#f0f921"
            ]
           ],
           "sequentialminus": [
            [
             0,
             "#0d0887"
            ],
            [
             0.1111111111111111,
             "#46039f"
            ],
            [
             0.2222222222222222,
             "#7201a8"
            ],
            [
             0.3333333333333333,
             "#9c179e"
            ],
            [
             0.4444444444444444,
             "#bd3786"
            ],
            [
             0.5555555555555556,
             "#d8576b"
            ],
            [
             0.6666666666666666,
             "#ed7953"
            ],
            [
             0.7777777777777778,
             "#fb9f3a"
            ],
            [
             0.8888888888888888,
             "#fdca26"
            ],
            [
             1,
             "#f0f921"
            ]
           ]
          },
          "colorway": [
           "#636efa",
           "#EF553B",
           "#00cc96",
           "#ab63fa",
           "#FFA15A",
           "#19d3f3",
           "#FF6692",
           "#B6E880",
           "#FF97FF",
           "#FECB52"
          ],
          "font": {
           "color": "#2a3f5f"
          },
          "geo": {
           "bgcolor": "white",
           "lakecolor": "white",
           "landcolor": "#E5ECF6",
           "showlakes": true,
           "showland": true,
           "subunitcolor": "white"
          },
          "hoverlabel": {
           "align": "left"
          },
          "hovermode": "closest",
          "mapbox": {
           "style": "light"
          },
          "paper_bgcolor": "white",
          "plot_bgcolor": "#E5ECF6",
          "polar": {
           "angularaxis": {
            "gridcolor": "white",
            "linecolor": "white",
            "ticks": ""
           },
           "bgcolor": "#E5ECF6",
           "radialaxis": {
            "gridcolor": "white",
            "linecolor": "white",
            "ticks": ""
           }
          },
          "scene": {
           "xaxis": {
            "backgroundcolor": "#E5ECF6",
            "gridcolor": "white",
            "gridwidth": 2,
            "linecolor": "white",
            "showbackground": true,
            "ticks": "",
            "zerolinecolor": "white"
           },
           "yaxis": {
            "backgroundcolor": "#E5ECF6",
            "gridcolor": "white",
            "gridwidth": 2,
            "linecolor": "white",
            "showbackground": true,
            "ticks": "",
            "zerolinecolor": "white"
           },
           "zaxis": {
            "backgroundcolor": "#E5ECF6",
            "gridcolor": "white",
            "gridwidth": 2,
            "linecolor": "white",
            "showbackground": true,
            "ticks": "",
            "zerolinecolor": "white"
           }
          },
          "shapedefaults": {
           "line": {
            "color": "#2a3f5f"
           }
          },
          "ternary": {
           "aaxis": {
            "gridcolor": "white",
            "linecolor": "white",
            "ticks": ""
           },
           "baxis": {
            "gridcolor": "white",
            "linecolor": "white",
            "ticks": ""
           },
           "bgcolor": "#E5ECF6",
           "caxis": {
            "gridcolor": "white",
            "linecolor": "white",
            "ticks": ""
           }
          },
          "title": {
           "x": 0.05
          },
          "xaxis": {
           "automargin": true,
           "gridcolor": "white",
           "linecolor": "white",
           "ticks": "",
           "title": {
            "standoff": 15
           },
           "zerolinecolor": "white",
           "zerolinewidth": 2
          },
          "yaxis": {
           "automargin": true,
           "gridcolor": "white",
           "linecolor": "white",
           "ticks": "",
           "title": {
            "standoff": 15
           },
           "zerolinecolor": "white",
           "zerolinewidth": 2
          }
         }
        },
        "title": {
         "font": {
          "color": "#4D5663"
         }
        },
        "xaxis": {
         "gridcolor": "#E1E5ED",
         "showgrid": true,
         "tickfont": {
          "color": "#4D5663"
         },
         "title": {
          "font": {
           "color": "#4D5663"
          },
          "text": ""
         },
         "zerolinecolor": "#E1E5ED"
        },
        "yaxis": {
         "gridcolor": "#E1E5ED",
         "showgrid": true,
         "tickfont": {
          "color": "#4D5663"
         },
         "title": {
          "font": {
           "color": "#4D5663"
          },
          "text": ""
         },
         "zerolinecolor": "#E1E5ED"
        }
       }
      },
      "text/html": [
       "<div>\n",
       "        \n",
       "        \n",
       "            <div id=\"ff6cd6b4-7b1a-4bf9-8a4b-8f3205bfe82e\" class=\"plotly-graph-div\" style=\"height:525px; width:100%;\"></div>\n",
       "            <script type=\"text/javascript\">\n",
       "                require([\"plotly\"], function(Plotly) {\n",
       "                    window.PLOTLYENV=window.PLOTLYENV || {};\n",
       "                    window.PLOTLYENV.BASE_URL='https://plot.ly';\n",
       "                    \n",
       "                if (document.getElementById(\"ff6cd6b4-7b1a-4bf9-8a4b-8f3205bfe82e\")) {\n",
       "                    Plotly.newPlot(\n",
       "                        'ff6cd6b4-7b1a-4bf9-8a4b-8f3205bfe82e',\n",
       "                        [{\"line\": {\"color\": \"rgba(255, 153, 51, 1.0)\", \"dash\": \"solid\", \"shape\": \"linear\", \"width\": 1.3}, \"marker\": {\"size\": 12, \"symbol\": \"circle\"}, \"mode\": \"markers\", \"name\": \"B\", \"text\": \"\", \"type\": \"scatter\", \"x\": [0.48758791284167, -1.0945360538696463, -0.025109160636671034, 0.5318438573072443, 1.170821047816164, -1.0781069618216137, 0.023929908721716072, -0.3341668073479446, 0.15466770476350178, 1.5446639151497434, 1.4056054833842484, 1.6261568763361154, -1.1227374435458701, 0.28194097407828445, -0.682223671693977, -0.9562545728370384, -0.7209835661743308, -0.03317994654738412, 0.5205553063310279, -1.1366028975811477, -0.9786485170200829, 0.13548859544218975, -0.0009540853056883342, 0.5979449535006777, 1.1149531211625783, 0.4283544325769933, -0.2411460571149065, -1.2870861552795327, 0.03636844814017887, 1.2075977330375478, -1.1535869763732076, 1.0628415041799286, -1.0491639233442693, 1.3811022114090363, -0.3613211905254392, -0.45890225542836116, -0.12162760141230262, -0.8396215800903595, -0.565381067065979, -3.4566182937067276, 0.8993420377570022, 0.2165974313829244, 1.6103508033055005, 0.0094913782519163, 0.45531265282040323, 0.6119558083278896, -0.2942946657226144, -1.2729657899992224, -0.3545189453227468, 0.07805696223208544, -0.66178932419833, -1.6925420918465717, -0.1307554580410991, -0.39774105359567025, -1.516011865561858, -0.5391143165355534, -1.1142859655918813, 1.0551320487656342, -0.5717178581500568, -0.1073076890360471, -1.5270560562106272, -0.7899843365922449, -0.6356350799456826, -0.41468126319261245, 1.6781806287486598, -0.33874390881565875, 0.18609602799409797, -1.2338502645280391, 0.10345221635878635, 0.6586971927026098, 0.5813188464153145, 1.3837115433387472, -0.29753261872603187, -1.6128956978544893, -1.103081913031465, -0.15162181863861388, 0.7316627867109841, -0.8665646320585265, -1.701661298481288, 1.596184275190892, 0.14494608879711593, -0.41603294033322546, 0.9563325173459639, -0.30156389581498877, 0.926333185290943, 0.6631382639673186, 0.39152621569100776, -0.5826926583224311, 0.6255130281637811, -0.21940433600962406, -0.9505295760532173, -0.10707435083175479, 0.37504647253794426, -0.7821664392300294, 1.213031390357866, -0.009994398016467693, 0.9894948390200397, -1.647259086231465, 0.9233657259667436, 0.17155861516031895], \"y\": [-0.3260093462636492, 0.24999368535084174, 0.23529007756177991, 1.497738301294124, -1.9235211183341405, -2.0300951821002418, -0.8026053432036195, -0.062102401082379945, 0.5733134985509706, -0.028200152143247094, 0.5457366836861638, 1.9105677035222017, -1.8510783961436936, 1.8936264586473475, 0.8455161682358032, 0.08530004905902606, 1.15547970626262, 0.33241678821461357, 0.8973896937867161, 0.19756270998312664, -0.5551208869803647, -0.7141539274695231, 0.009781143871655847, -0.7963514852359374, 0.18435114594596597, -0.7236122806767714, -0.6268367864953104, -1.0069813144186306, -0.5997263961705249, 0.2218092724149917, -1.170188533181909, -0.7686459812838211, -0.5673983196078344, 1.5249329961718672, -2.1774022163390523, -0.16736496395437145, 1.0228620924991214, 0.3910535831520817, 1.728288848550678, -0.009405137671356954, 0.9241988728738655, 0.44155721095505096, -0.22054721336042088, 0.5781436798174855, -1.290605550402523, -0.8219921260635391, 0.6672891466109183, -1.0544087228560581, 0.8576970417953911, 1.4773492966329609, -0.37563342720144566, 1.2771642094219255, 1.4113133544016951, -0.29750095974408886, -0.3162064319347066, 1.188528108737439, 0.579601446889555, -1.7869180545292704, 0.6597949108832315, -0.0001365483231869348, 1.1812217654383987, -0.039242310036225546, 0.055462809310465856, -0.26055519934982774, 0.6725828725192213, -0.5868956518865107, -0.36545184706978795, 0.9293783772779497, -1.12768298608976, -0.6802463660504389, 1.0337663943479858, -0.11482295289181627, -0.050142642112852305, -0.7605981670708353, 1.1776341864268012, -1.046185183818184, -0.7725793465552173, -0.19141931620324604, -0.5627311353208561, -0.6551472073374759, 0.1682953138174061, -1.219605336933295, 1.1676004025006497, -1.729816895327089, 0.7124705106659508, 1.5236894135662393, -1.6321268418409738, -0.7707520544200946, -0.05597956411105408, 0.16633345555002213, 1.3749075858226854, 0.7668818323383592, 1.2292117573820642, -0.09963937439980546, 1.8913086287611742, -0.13916805496855586, -0.8661975302049588, 0.011535216890753078, 1.2450592447021642, -2.211752092799134]}],\n",
       "                        {\"legend\": {\"bgcolor\": \"#F5F6F9\", \"font\": {\"color\": \"#4D5663\"}}, \"paper_bgcolor\": \"#F5F6F9\", \"plot_bgcolor\": \"#F5F6F9\", \"template\": {\"data\": {\"bar\": [{\"error_x\": {\"color\": \"#2a3f5f\"}, \"error_y\": {\"color\": \"#2a3f5f\"}, \"marker\": {\"line\": {\"color\": \"#E5ECF6\", \"width\": 0.5}}, \"type\": \"bar\"}], \"barpolar\": [{\"marker\": {\"line\": {\"color\": \"#E5ECF6\", \"width\": 0.5}}, \"type\": \"barpolar\"}], \"carpet\": [{\"aaxis\": {\"endlinecolor\": \"#2a3f5f\", \"gridcolor\": \"white\", \"linecolor\": \"white\", \"minorgridcolor\": \"white\", \"startlinecolor\": \"#2a3f5f\"}, \"baxis\": {\"endlinecolor\": \"#2a3f5f\", \"gridcolor\": \"white\", \"linecolor\": \"white\", \"minorgridcolor\": \"white\", \"startlinecolor\": \"#2a3f5f\"}, \"type\": \"carpet\"}], \"choropleth\": [{\"colorbar\": {\"outlinewidth\": 0, \"ticks\": \"\"}, \"type\": \"choropleth\"}], \"contour\": [{\"colorbar\": {\"outlinewidth\": 0, \"ticks\": \"\"}, \"colorscale\": [[0.0, \"#0d0887\"], [0.1111111111111111, \"#46039f\"], [0.2222222222222222, \"#7201a8\"], [0.3333333333333333, \"#9c179e\"], [0.4444444444444444, \"#bd3786\"], [0.5555555555555556, \"#d8576b\"], [0.6666666666666666, \"#ed7953\"], [0.7777777777777778, \"#fb9f3a\"], [0.8888888888888888, \"#fdca26\"], [1.0, \"#f0f921\"]], \"type\": \"contour\"}], \"contourcarpet\": [{\"colorbar\": {\"outlinewidth\": 0, \"ticks\": \"\"}, \"type\": \"contourcarpet\"}], \"heatmap\": [{\"colorbar\": {\"outlinewidth\": 0, \"ticks\": \"\"}, \"colorscale\": [[0.0, \"#0d0887\"], [0.1111111111111111, \"#46039f\"], [0.2222222222222222, \"#7201a8\"], [0.3333333333333333, \"#9c179e\"], [0.4444444444444444, \"#bd3786\"], [0.5555555555555556, \"#d8576b\"], [0.6666666666666666, \"#ed7953\"], [0.7777777777777778, \"#fb9f3a\"], [0.8888888888888888, \"#fdca26\"], [1.0, \"#f0f921\"]], \"type\": \"heatmap\"}], \"heatmapgl\": [{\"colorbar\": {\"outlinewidth\": 0, \"ticks\": \"\"}, \"colorscale\": [[0.0, \"#0d0887\"], [0.1111111111111111, \"#46039f\"], [0.2222222222222222, \"#7201a8\"], [0.3333333333333333, \"#9c179e\"], [0.4444444444444444, \"#bd3786\"], [0.5555555555555556, \"#d8576b\"], [0.6666666666666666, \"#ed7953\"], [0.7777777777777778, \"#fb9f3a\"], [0.8888888888888888, \"#fdca26\"], [1.0, \"#f0f921\"]], \"type\": \"heatmapgl\"}], \"histogram\": [{\"marker\": {\"colorbar\": {\"outlinewidth\": 0, \"ticks\": \"\"}}, \"type\": \"histogram\"}], \"histogram2d\": [{\"colorbar\": {\"outlinewidth\": 0, \"ticks\": \"\"}, \"colorscale\": [[0.0, \"#0d0887\"], [0.1111111111111111, \"#46039f\"], [0.2222222222222222, \"#7201a8\"], [0.3333333333333333, \"#9c179e\"], [0.4444444444444444, \"#bd3786\"], [0.5555555555555556, \"#d8576b\"], [0.6666666666666666, \"#ed7953\"], [0.7777777777777778, \"#fb9f3a\"], [0.8888888888888888, \"#fdca26\"], [1.0, \"#f0f921\"]], \"type\": \"histogram2d\"}], \"histogram2dcontour\": [{\"colorbar\": {\"outlinewidth\": 0, \"ticks\": \"\"}, \"colorscale\": [[0.0, \"#0d0887\"], [0.1111111111111111, \"#46039f\"], [0.2222222222222222, \"#7201a8\"], [0.3333333333333333, \"#9c179e\"], [0.4444444444444444, \"#bd3786\"], [0.5555555555555556, \"#d8576b\"], [0.6666666666666666, \"#ed7953\"], [0.7777777777777778, \"#fb9f3a\"], [0.8888888888888888, \"#fdca26\"], [1.0, \"#f0f921\"]], \"type\": \"histogram2dcontour\"}], \"mesh3d\": [{\"colorbar\": {\"outlinewidth\": 0, \"ticks\": \"\"}, \"type\": \"mesh3d\"}], \"parcoords\": [{\"line\": {\"colorbar\": {\"outlinewidth\": 0, \"ticks\": \"\"}}, \"type\": \"parcoords\"}], \"pie\": [{\"automargin\": true, \"type\": \"pie\"}], \"scatter\": [{\"marker\": {\"colorbar\": {\"outlinewidth\": 0, \"ticks\": \"\"}}, \"type\": \"scatter\"}], \"scatter3d\": [{\"line\": {\"colorbar\": {\"outlinewidth\": 0, \"ticks\": \"\"}}, \"marker\": {\"colorbar\": {\"outlinewidth\": 0, \"ticks\": \"\"}}, \"type\": \"scatter3d\"}], \"scattercarpet\": [{\"marker\": {\"colorbar\": {\"outlinewidth\": 0, \"ticks\": \"\"}}, \"type\": \"scattercarpet\"}], \"scattergeo\": [{\"marker\": {\"colorbar\": {\"outlinewidth\": 0, \"ticks\": \"\"}}, \"type\": \"scattergeo\"}], \"scattergl\": [{\"marker\": {\"colorbar\": {\"outlinewidth\": 0, \"ticks\": \"\"}}, \"type\": \"scattergl\"}], \"scattermapbox\": [{\"marker\": {\"colorbar\": {\"outlinewidth\": 0, \"ticks\": \"\"}}, \"type\": \"scattermapbox\"}], \"scatterpolar\": [{\"marker\": {\"colorbar\": {\"outlinewidth\": 0, \"ticks\": \"\"}}, \"type\": \"scatterpolar\"}], \"scatterpolargl\": [{\"marker\": {\"colorbar\": {\"outlinewidth\": 0, \"ticks\": \"\"}}, \"type\": \"scatterpolargl\"}], \"scatterternary\": [{\"marker\": {\"colorbar\": {\"outlinewidth\": 0, \"ticks\": \"\"}}, \"type\": \"scatterternary\"}], \"surface\": [{\"colorbar\": {\"outlinewidth\": 0, \"ticks\": \"\"}, \"colorscale\": [[0.0, \"#0d0887\"], [0.1111111111111111, \"#46039f\"], [0.2222222222222222, \"#7201a8\"], [0.3333333333333333, \"#9c179e\"], [0.4444444444444444, \"#bd3786\"], [0.5555555555555556, \"#d8576b\"], [0.6666666666666666, \"#ed7953\"], [0.7777777777777778, \"#fb9f3a\"], [0.8888888888888888, \"#fdca26\"], [1.0, \"#f0f921\"]], \"type\": \"surface\"}], \"table\": [{\"cells\": {\"fill\": {\"color\": \"#EBF0F8\"}, \"line\": {\"color\": \"white\"}}, \"header\": {\"fill\": {\"color\": \"#C8D4E3\"}, \"line\": {\"color\": \"white\"}}, \"type\": \"table\"}]}, \"layout\": {\"annotationdefaults\": {\"arrowcolor\": \"#2a3f5f\", \"arrowhead\": 0, \"arrowwidth\": 1}, \"coloraxis\": {\"colorbar\": {\"outlinewidth\": 0, \"ticks\": \"\"}}, \"colorscale\": {\"diverging\": [[0, \"#8e0152\"], [0.1, \"#c51b7d\"], [0.2, \"#de77ae\"], [0.3, \"#f1b6da\"], [0.4, \"#fde0ef\"], [0.5, \"#f7f7f7\"], [0.6, \"#e6f5d0\"], [0.7, \"#b8e186\"], [0.8, \"#7fbc41\"], [0.9, \"#4d9221\"], [1, \"#276419\"]], \"sequential\": [[0.0, \"#0d0887\"], [0.1111111111111111, \"#46039f\"], [0.2222222222222222, \"#7201a8\"], [0.3333333333333333, \"#9c179e\"], [0.4444444444444444, \"#bd3786\"], [0.5555555555555556, \"#d8576b\"], [0.6666666666666666, \"#ed7953\"], [0.7777777777777778, \"#fb9f3a\"], [0.8888888888888888, \"#fdca26\"], [1.0, \"#f0f921\"]], \"sequentialminus\": [[0.0, \"#0d0887\"], [0.1111111111111111, \"#46039f\"], [0.2222222222222222, \"#7201a8\"], [0.3333333333333333, \"#9c179e\"], [0.4444444444444444, \"#bd3786\"], [0.5555555555555556, \"#d8576b\"], [0.6666666666666666, \"#ed7953\"], [0.7777777777777778, \"#fb9f3a\"], [0.8888888888888888, \"#fdca26\"], [1.0, \"#f0f921\"]]}, \"colorway\": [\"#636efa\", \"#EF553B\", \"#00cc96\", \"#ab63fa\", \"#FFA15A\", \"#19d3f3\", \"#FF6692\", \"#B6E880\", \"#FF97FF\", \"#FECB52\"], \"font\": {\"color\": \"#2a3f5f\"}, \"geo\": {\"bgcolor\": \"white\", \"lakecolor\": \"white\", \"landcolor\": \"#E5ECF6\", \"showlakes\": true, \"showland\": true, \"subunitcolor\": \"white\"}, \"hoverlabel\": {\"align\": \"left\"}, \"hovermode\": \"closest\", \"mapbox\": {\"style\": \"light\"}, \"paper_bgcolor\": \"white\", \"plot_bgcolor\": \"#E5ECF6\", \"polar\": {\"angularaxis\": {\"gridcolor\": \"white\", \"linecolor\": \"white\", \"ticks\": \"\"}, \"bgcolor\": \"#E5ECF6\", \"radialaxis\": {\"gridcolor\": \"white\", \"linecolor\": \"white\", \"ticks\": \"\"}}, \"scene\": {\"xaxis\": {\"backgroundcolor\": \"#E5ECF6\", \"gridcolor\": \"white\", \"gridwidth\": 2, \"linecolor\": \"white\", \"showbackground\": true, \"ticks\": \"\", \"zerolinecolor\": \"white\"}, \"yaxis\": {\"backgroundcolor\": \"#E5ECF6\", \"gridcolor\": \"white\", \"gridwidth\": 2, \"linecolor\": \"white\", \"showbackground\": true, \"ticks\": \"\", \"zerolinecolor\": \"white\"}, \"zaxis\": {\"backgroundcolor\": \"#E5ECF6\", \"gridcolor\": \"white\", \"gridwidth\": 2, \"linecolor\": \"white\", \"showbackground\": true, \"ticks\": \"\", \"zerolinecolor\": \"white\"}}, \"shapedefaults\": {\"line\": {\"color\": \"#2a3f5f\"}}, \"ternary\": {\"aaxis\": {\"gridcolor\": \"white\", \"linecolor\": \"white\", \"ticks\": \"\"}, \"baxis\": {\"gridcolor\": \"white\", \"linecolor\": \"white\", \"ticks\": \"\"}, \"bgcolor\": \"#E5ECF6\", \"caxis\": {\"gridcolor\": \"white\", \"linecolor\": \"white\", \"ticks\": \"\"}}, \"title\": {\"x\": 0.05}, \"xaxis\": {\"automargin\": true, \"gridcolor\": \"white\", \"linecolor\": \"white\", \"ticks\": \"\", \"title\": {\"standoff\": 15}, \"zerolinecolor\": \"white\", \"zerolinewidth\": 2}, \"yaxis\": {\"automargin\": true, \"gridcolor\": \"white\", \"linecolor\": \"white\", \"ticks\": \"\", \"title\": {\"standoff\": 15}, \"zerolinecolor\": \"white\", \"zerolinewidth\": 2}}}, \"title\": {\"font\": {\"color\": \"#4D5663\"}}, \"xaxis\": {\"gridcolor\": \"#E1E5ED\", \"showgrid\": true, \"tickfont\": {\"color\": \"#4D5663\"}, \"title\": {\"font\": {\"color\": \"#4D5663\"}, \"text\": \"\"}, \"zerolinecolor\": \"#E1E5ED\"}, \"yaxis\": {\"gridcolor\": \"#E1E5ED\", \"showgrid\": true, \"tickfont\": {\"color\": \"#4D5663\"}, \"title\": {\"font\": {\"color\": \"#4D5663\"}, \"text\": \"\"}, \"zerolinecolor\": \"#E1E5ED\"}},\n",
       "                        {\"showLink\": true, \"linkText\": \"Export to plot.ly\", \"plotlyServerURL\": \"https://plot.ly\", \"responsive\": true}\n",
       "                    ).then(function(){\n",
       "                            \n",
       "var gd = document.getElementById('ff6cd6b4-7b1a-4bf9-8a4b-8f3205bfe82e');\n",
       "var x = new MutationObserver(function (mutations, observer) {{\n",
       "        var display = window.getComputedStyle(gd).display;\n",
       "        if (!display || display === 'none') {{\n",
       "            console.log([gd, 'removed!']);\n",
       "            Plotly.purge(gd);\n",
       "            observer.disconnect();\n",
       "        }}\n",
       "}});\n",
       "\n",
       "// Listen for the removal of the full notebook cells\n",
       "var notebookContainer = gd.closest('#notebook-container');\n",
       "if (notebookContainer) {{\n",
       "    x.observe(notebookContainer, {childList: true});\n",
       "}}\n",
       "\n",
       "// Listen for the clearing of the current output cell\n",
       "var outputEl = gd.closest('.output');\n",
       "if (outputEl) {{\n",
       "    x.observe(outputEl, {childList: true});\n",
       "}}\n",
       "\n",
       "                        })\n",
       "                };\n",
       "                });\n",
       "            </script>\n",
       "        </div>"
      ]
     },
     "metadata": {},
     "output_type": "display_data"
    }
   ],
   "source": [
    "# mode parameter is used to make the scatter points appear without lines \n",
    "df.iplot(kind='scatter',x='A',y='B',mode='markers') "
   ]
  },
  {
   "cell_type": "code",
   "execution_count": 19,
   "metadata": {},
   "outputs": [
    {
     "data": {
      "application/vnd.plotly.v1+json": {
       "config": {
        "linkText": "Export to plot.ly",
        "plotlyServerURL": "https://plot.ly",
        "showLink": true
       },
       "data": [
        {
         "line": {
          "color": "rgba(255, 153, 51, 1.0)",
          "dash": "solid",
          "shape": "linear",
          "width": 1.3
         },
         "marker": {
          "size": 20,
          "symbol": "circle"
         },
         "mode": "markers",
         "name": "B",
         "text": "",
         "type": "scatter",
         "x": [
          0.48758791284167,
          -1.0945360538696463,
          -0.025109160636671034,
          0.5318438573072443,
          1.170821047816164,
          -1.0781069618216137,
          0.023929908721716072,
          -0.3341668073479446,
          0.15466770476350178,
          1.5446639151497434,
          1.4056054833842484,
          1.6261568763361154,
          -1.1227374435458701,
          0.28194097407828445,
          -0.682223671693977,
          -0.9562545728370384,
          -0.7209835661743308,
          -0.03317994654738412,
          0.5205553063310279,
          -1.1366028975811477,
          -0.9786485170200829,
          0.13548859544218975,
          -0.0009540853056883342,
          0.5979449535006777,
          1.1149531211625783,
          0.4283544325769933,
          -0.2411460571149065,
          -1.2870861552795327,
          0.03636844814017887,
          1.2075977330375478,
          -1.1535869763732076,
          1.0628415041799286,
          -1.0491639233442693,
          1.3811022114090363,
          -0.3613211905254392,
          -0.45890225542836116,
          -0.12162760141230262,
          -0.8396215800903595,
          -0.565381067065979,
          -3.4566182937067276,
          0.8993420377570022,
          0.2165974313829244,
          1.6103508033055005,
          0.0094913782519163,
          0.45531265282040323,
          0.6119558083278896,
          -0.2942946657226144,
          -1.2729657899992224,
          -0.3545189453227468,
          0.07805696223208544,
          -0.66178932419833,
          -1.6925420918465717,
          -0.1307554580410991,
          -0.39774105359567025,
          -1.516011865561858,
          -0.5391143165355534,
          -1.1142859655918813,
          1.0551320487656342,
          -0.5717178581500568,
          -0.1073076890360471,
          -1.5270560562106272,
          -0.7899843365922449,
          -0.6356350799456826,
          -0.41468126319261245,
          1.6781806287486598,
          -0.33874390881565875,
          0.18609602799409797,
          -1.2338502645280391,
          0.10345221635878635,
          0.6586971927026098,
          0.5813188464153145,
          1.3837115433387472,
          -0.29753261872603187,
          -1.6128956978544893,
          -1.103081913031465,
          -0.15162181863861388,
          0.7316627867109841,
          -0.8665646320585265,
          -1.701661298481288,
          1.596184275190892,
          0.14494608879711593,
          -0.41603294033322546,
          0.9563325173459639,
          -0.30156389581498877,
          0.926333185290943,
          0.6631382639673186,
          0.39152621569100776,
          -0.5826926583224311,
          0.6255130281637811,
          -0.21940433600962406,
          -0.9505295760532173,
          -0.10707435083175479,
          0.37504647253794426,
          -0.7821664392300294,
          1.213031390357866,
          -0.009994398016467693,
          0.9894948390200397,
          -1.647259086231465,
          0.9233657259667436,
          0.17155861516031895
         ],
         "y": [
          -0.3260093462636492,
          0.24999368535084174,
          0.23529007756177991,
          1.497738301294124,
          -1.9235211183341405,
          -2.0300951821002418,
          -0.8026053432036195,
          -0.062102401082379945,
          0.5733134985509706,
          -0.028200152143247094,
          0.5457366836861638,
          1.9105677035222017,
          -1.8510783961436936,
          1.8936264586473475,
          0.8455161682358032,
          0.08530004905902606,
          1.15547970626262,
          0.33241678821461357,
          0.8973896937867161,
          0.19756270998312664,
          -0.5551208869803647,
          -0.7141539274695231,
          0.009781143871655847,
          -0.7963514852359374,
          0.18435114594596597,
          -0.7236122806767714,
          -0.6268367864953104,
          -1.0069813144186306,
          -0.5997263961705249,
          0.2218092724149917,
          -1.170188533181909,
          -0.7686459812838211,
          -0.5673983196078344,
          1.5249329961718672,
          -2.1774022163390523,
          -0.16736496395437145,
          1.0228620924991214,
          0.3910535831520817,
          1.728288848550678,
          -0.009405137671356954,
          0.9241988728738655,
          0.44155721095505096,
          -0.22054721336042088,
          0.5781436798174855,
          -1.290605550402523,
          -0.8219921260635391,
          0.6672891466109183,
          -1.0544087228560581,
          0.8576970417953911,
          1.4773492966329609,
          -0.37563342720144566,
          1.2771642094219255,
          1.4113133544016951,
          -0.29750095974408886,
          -0.3162064319347066,
          1.188528108737439,
          0.579601446889555,
          -1.7869180545292704,
          0.6597949108832315,
          -0.0001365483231869348,
          1.1812217654383987,
          -0.039242310036225546,
          0.055462809310465856,
          -0.26055519934982774,
          0.6725828725192213,
          -0.5868956518865107,
          -0.36545184706978795,
          0.9293783772779497,
          -1.12768298608976,
          -0.6802463660504389,
          1.0337663943479858,
          -0.11482295289181627,
          -0.050142642112852305,
          -0.7605981670708353,
          1.1776341864268012,
          -1.046185183818184,
          -0.7725793465552173,
          -0.19141931620324604,
          -0.5627311353208561,
          -0.6551472073374759,
          0.1682953138174061,
          -1.219605336933295,
          1.1676004025006497,
          -1.729816895327089,
          0.7124705106659508,
          1.5236894135662393,
          -1.6321268418409738,
          -0.7707520544200946,
          -0.05597956411105408,
          0.16633345555002213,
          1.3749075858226854,
          0.7668818323383592,
          1.2292117573820642,
          -0.09963937439980546,
          1.8913086287611742,
          -0.13916805496855586,
          -0.8661975302049588,
          0.011535216890753078,
          1.2450592447021642,
          -2.211752092799134
         ]
        }
       ],
       "layout": {
        "legend": {
         "bgcolor": "#F5F6F9",
         "font": {
          "color": "#4D5663"
         }
        },
        "paper_bgcolor": "#F5F6F9",
        "plot_bgcolor": "#F5F6F9",
        "template": {
         "data": {
          "bar": [
           {
            "error_x": {
             "color": "#2a3f5f"
            },
            "error_y": {
             "color": "#2a3f5f"
            },
            "marker": {
             "line": {
              "color": "#E5ECF6",
              "width": 0.5
             }
            },
            "type": "bar"
           }
          ],
          "barpolar": [
           {
            "marker": {
             "line": {
              "color": "#E5ECF6",
              "width": 0.5
             }
            },
            "type": "barpolar"
           }
          ],
          "carpet": [
           {
            "aaxis": {
             "endlinecolor": "#2a3f5f",
             "gridcolor": "white",
             "linecolor": "white",
             "minorgridcolor": "white",
             "startlinecolor": "#2a3f5f"
            },
            "baxis": {
             "endlinecolor": "#2a3f5f",
             "gridcolor": "white",
             "linecolor": "white",
             "minorgridcolor": "white",
             "startlinecolor": "#2a3f5f"
            },
            "type": "carpet"
           }
          ],
          "choropleth": [
           {
            "colorbar": {
             "outlinewidth": 0,
             "ticks": ""
            },
            "type": "choropleth"
           }
          ],
          "contour": [
           {
            "colorbar": {
             "outlinewidth": 0,
             "ticks": ""
            },
            "colorscale": [
             [
              0,
              "#0d0887"
             ],
             [
              0.1111111111111111,
              "#46039f"
             ],
             [
              0.2222222222222222,
              "#7201a8"
             ],
             [
              0.3333333333333333,
              "#9c179e"
             ],
             [
              0.4444444444444444,
              "#bd3786"
             ],
             [
              0.5555555555555556,
              "#d8576b"
             ],
             [
              0.6666666666666666,
              "#ed7953"
             ],
             [
              0.7777777777777778,
              "#fb9f3a"
             ],
             [
              0.8888888888888888,
              "#fdca26"
             ],
             [
              1,
              "#f0f921"
             ]
            ],
            "type": "contour"
           }
          ],
          "contourcarpet": [
           {
            "colorbar": {
             "outlinewidth": 0,
             "ticks": ""
            },
            "type": "contourcarpet"
           }
          ],
          "heatmap": [
           {
            "colorbar": {
             "outlinewidth": 0,
             "ticks": ""
            },
            "colorscale": [
             [
              0,
              "#0d0887"
             ],
             [
              0.1111111111111111,
              "#46039f"
             ],
             [
              0.2222222222222222,
              "#7201a8"
             ],
             [
              0.3333333333333333,
              "#9c179e"
             ],
             [
              0.4444444444444444,
              "#bd3786"
             ],
             [
              0.5555555555555556,
              "#d8576b"
             ],
             [
              0.6666666666666666,
              "#ed7953"
             ],
             [
              0.7777777777777778,
              "#fb9f3a"
             ],
             [
              0.8888888888888888,
              "#fdca26"
             ],
             [
              1,
              "#f0f921"
             ]
            ],
            "type": "heatmap"
           }
          ],
          "heatmapgl": [
           {
            "colorbar": {
             "outlinewidth": 0,
             "ticks": ""
            },
            "colorscale": [
             [
              0,
              "#0d0887"
             ],
             [
              0.1111111111111111,
              "#46039f"
             ],
             [
              0.2222222222222222,
              "#7201a8"
             ],
             [
              0.3333333333333333,
              "#9c179e"
             ],
             [
              0.4444444444444444,
              "#bd3786"
             ],
             [
              0.5555555555555556,
              "#d8576b"
             ],
             [
              0.6666666666666666,
              "#ed7953"
             ],
             [
              0.7777777777777778,
              "#fb9f3a"
             ],
             [
              0.8888888888888888,
              "#fdca26"
             ],
             [
              1,
              "#f0f921"
             ]
            ],
            "type": "heatmapgl"
           }
          ],
          "histogram": [
           {
            "marker": {
             "colorbar": {
              "outlinewidth": 0,
              "ticks": ""
             }
            },
            "type": "histogram"
           }
          ],
          "histogram2d": [
           {
            "colorbar": {
             "outlinewidth": 0,
             "ticks": ""
            },
            "colorscale": [
             [
              0,
              "#0d0887"
             ],
             [
              0.1111111111111111,
              "#46039f"
             ],
             [
              0.2222222222222222,
              "#7201a8"
             ],
             [
              0.3333333333333333,
              "#9c179e"
             ],
             [
              0.4444444444444444,
              "#bd3786"
             ],
             [
              0.5555555555555556,
              "#d8576b"
             ],
             [
              0.6666666666666666,
              "#ed7953"
             ],
             [
              0.7777777777777778,
              "#fb9f3a"
             ],
             [
              0.8888888888888888,
              "#fdca26"
             ],
             [
              1,
              "#f0f921"
             ]
            ],
            "type": "histogram2d"
           }
          ],
          "histogram2dcontour": [
           {
            "colorbar": {
             "outlinewidth": 0,
             "ticks": ""
            },
            "colorscale": [
             [
              0,
              "#0d0887"
             ],
             [
              0.1111111111111111,
              "#46039f"
             ],
             [
              0.2222222222222222,
              "#7201a8"
             ],
             [
              0.3333333333333333,
              "#9c179e"
             ],
             [
              0.4444444444444444,
              "#bd3786"
             ],
             [
              0.5555555555555556,
              "#d8576b"
             ],
             [
              0.6666666666666666,
              "#ed7953"
             ],
             [
              0.7777777777777778,
              "#fb9f3a"
             ],
             [
              0.8888888888888888,
              "#fdca26"
             ],
             [
              1,
              "#f0f921"
             ]
            ],
            "type": "histogram2dcontour"
           }
          ],
          "mesh3d": [
           {
            "colorbar": {
             "outlinewidth": 0,
             "ticks": ""
            },
            "type": "mesh3d"
           }
          ],
          "parcoords": [
           {
            "line": {
             "colorbar": {
              "outlinewidth": 0,
              "ticks": ""
             }
            },
            "type": "parcoords"
           }
          ],
          "pie": [
           {
            "automargin": true,
            "type": "pie"
           }
          ],
          "scatter": [
           {
            "marker": {
             "colorbar": {
              "outlinewidth": 0,
              "ticks": ""
             }
            },
            "type": "scatter"
           }
          ],
          "scatter3d": [
           {
            "line": {
             "colorbar": {
              "outlinewidth": 0,
              "ticks": ""
             }
            },
            "marker": {
             "colorbar": {
              "outlinewidth": 0,
              "ticks": ""
             }
            },
            "type": "scatter3d"
           }
          ],
          "scattercarpet": [
           {
            "marker": {
             "colorbar": {
              "outlinewidth": 0,
              "ticks": ""
             }
            },
            "type": "scattercarpet"
           }
          ],
          "scattergeo": [
           {
            "marker": {
             "colorbar": {
              "outlinewidth": 0,
              "ticks": ""
             }
            },
            "type": "scattergeo"
           }
          ],
          "scattergl": [
           {
            "marker": {
             "colorbar": {
              "outlinewidth": 0,
              "ticks": ""
             }
            },
            "type": "scattergl"
           }
          ],
          "scattermapbox": [
           {
            "marker": {
             "colorbar": {
              "outlinewidth": 0,
              "ticks": ""
             }
            },
            "type": "scattermapbox"
           }
          ],
          "scatterpolar": [
           {
            "marker": {
             "colorbar": {
              "outlinewidth": 0,
              "ticks": ""
             }
            },
            "type": "scatterpolar"
           }
          ],
          "scatterpolargl": [
           {
            "marker": {
             "colorbar": {
              "outlinewidth": 0,
              "ticks": ""
             }
            },
            "type": "scatterpolargl"
           }
          ],
          "scatterternary": [
           {
            "marker": {
             "colorbar": {
              "outlinewidth": 0,
              "ticks": ""
             }
            },
            "type": "scatterternary"
           }
          ],
          "surface": [
           {
            "colorbar": {
             "outlinewidth": 0,
             "ticks": ""
            },
            "colorscale": [
             [
              0,
              "#0d0887"
             ],
             [
              0.1111111111111111,
              "#46039f"
             ],
             [
              0.2222222222222222,
              "#7201a8"
             ],
             [
              0.3333333333333333,
              "#9c179e"
             ],
             [
              0.4444444444444444,
              "#bd3786"
             ],
             [
              0.5555555555555556,
              "#d8576b"
             ],
             [
              0.6666666666666666,
              "#ed7953"
             ],
             [
              0.7777777777777778,
              "#fb9f3a"
             ],
             [
              0.8888888888888888,
              "#fdca26"
             ],
             [
              1,
              "#f0f921"
             ]
            ],
            "type": "surface"
           }
          ],
          "table": [
           {
            "cells": {
             "fill": {
              "color": "#EBF0F8"
             },
             "line": {
              "color": "white"
             }
            },
            "header": {
             "fill": {
              "color": "#C8D4E3"
             },
             "line": {
              "color": "white"
             }
            },
            "type": "table"
           }
          ]
         },
         "layout": {
          "annotationdefaults": {
           "arrowcolor": "#2a3f5f",
           "arrowhead": 0,
           "arrowwidth": 1
          },
          "coloraxis": {
           "colorbar": {
            "outlinewidth": 0,
            "ticks": ""
           }
          },
          "colorscale": {
           "diverging": [
            [
             0,
             "#8e0152"
            ],
            [
             0.1,
             "#c51b7d"
            ],
            [
             0.2,
             "#de77ae"
            ],
            [
             0.3,
             "#f1b6da"
            ],
            [
             0.4,
             "#fde0ef"
            ],
            [
             0.5,
             "#f7f7f7"
            ],
            [
             0.6,
             "#e6f5d0"
            ],
            [
             0.7,
             "#b8e186"
            ],
            [
             0.8,
             "#7fbc41"
            ],
            [
             0.9,
             "#4d9221"
            ],
            [
             1,
             "#276419"
            ]
           ],
           "sequential": [
            [
             0,
             "#0d0887"
            ],
            [
             0.1111111111111111,
             "#46039f"
            ],
            [
             0.2222222222222222,
             "#7201a8"
            ],
            [
             0.3333333333333333,
             "#9c179e"
            ],
            [
             0.4444444444444444,
             "#bd3786"
            ],
            [
             0.5555555555555556,
             "#d8576b"
            ],
            [
             0.6666666666666666,
             "#ed7953"
            ],
            [
             0.7777777777777778,
             "#fb9f3a"
            ],
            [
             0.8888888888888888,
             "#fdca26"
            ],
            [
             1,
             "#f0f921"
            ]
           ],
           "sequentialminus": [
            [
             0,
             "#0d0887"
            ],
            [
             0.1111111111111111,
             "#46039f"
            ],
            [
             0.2222222222222222,
             "#7201a8"
            ],
            [
             0.3333333333333333,
             "#9c179e"
            ],
            [
             0.4444444444444444,
             "#bd3786"
            ],
            [
             0.5555555555555556,
             "#d8576b"
            ],
            [
             0.6666666666666666,
             "#ed7953"
            ],
            [
             0.7777777777777778,
             "#fb9f3a"
            ],
            [
             0.8888888888888888,
             "#fdca26"
            ],
            [
             1,
             "#f0f921"
            ]
           ]
          },
          "colorway": [
           "#636efa",
           "#EF553B",
           "#00cc96",
           "#ab63fa",
           "#FFA15A",
           "#19d3f3",
           "#FF6692",
           "#B6E880",
           "#FF97FF",
           "#FECB52"
          ],
          "font": {
           "color": "#2a3f5f"
          },
          "geo": {
           "bgcolor": "white",
           "lakecolor": "white",
           "landcolor": "#E5ECF6",
           "showlakes": true,
           "showland": true,
           "subunitcolor": "white"
          },
          "hoverlabel": {
           "align": "left"
          },
          "hovermode": "closest",
          "mapbox": {
           "style": "light"
          },
          "paper_bgcolor": "white",
          "plot_bgcolor": "#E5ECF6",
          "polar": {
           "angularaxis": {
            "gridcolor": "white",
            "linecolor": "white",
            "ticks": ""
           },
           "bgcolor": "#E5ECF6",
           "radialaxis": {
            "gridcolor": "white",
            "linecolor": "white",
            "ticks": ""
           }
          },
          "scene": {
           "xaxis": {
            "backgroundcolor": "#E5ECF6",
            "gridcolor": "white",
            "gridwidth": 2,
            "linecolor": "white",
            "showbackground": true,
            "ticks": "",
            "zerolinecolor": "white"
           },
           "yaxis": {
            "backgroundcolor": "#E5ECF6",
            "gridcolor": "white",
            "gridwidth": 2,
            "linecolor": "white",
            "showbackground": true,
            "ticks": "",
            "zerolinecolor": "white"
           },
           "zaxis": {
            "backgroundcolor": "#E5ECF6",
            "gridcolor": "white",
            "gridwidth": 2,
            "linecolor": "white",
            "showbackground": true,
            "ticks": "",
            "zerolinecolor": "white"
           }
          },
          "shapedefaults": {
           "line": {
            "color": "#2a3f5f"
           }
          },
          "ternary": {
           "aaxis": {
            "gridcolor": "white",
            "linecolor": "white",
            "ticks": ""
           },
           "baxis": {
            "gridcolor": "white",
            "linecolor": "white",
            "ticks": ""
           },
           "bgcolor": "#E5ECF6",
           "caxis": {
            "gridcolor": "white",
            "linecolor": "white",
            "ticks": ""
           }
          },
          "title": {
           "x": 0.05
          },
          "xaxis": {
           "automargin": true,
           "gridcolor": "white",
           "linecolor": "white",
           "ticks": "",
           "title": {
            "standoff": 15
           },
           "zerolinecolor": "white",
           "zerolinewidth": 2
          },
          "yaxis": {
           "automargin": true,
           "gridcolor": "white",
           "linecolor": "white",
           "ticks": "",
           "title": {
            "standoff": 15
           },
           "zerolinecolor": "white",
           "zerolinewidth": 2
          }
         }
        },
        "title": {
         "font": {
          "color": "#4D5663"
         }
        },
        "xaxis": {
         "gridcolor": "#E1E5ED",
         "showgrid": true,
         "tickfont": {
          "color": "#4D5663"
         },
         "title": {
          "font": {
           "color": "#4D5663"
          },
          "text": ""
         },
         "zerolinecolor": "#E1E5ED"
        },
        "yaxis": {
         "gridcolor": "#E1E5ED",
         "showgrid": true,
         "tickfont": {
          "color": "#4D5663"
         },
         "title": {
          "font": {
           "color": "#4D5663"
          },
          "text": ""
         },
         "zerolinecolor": "#E1E5ED"
        }
       }
      },
      "text/html": [
       "<div>\n",
       "        \n",
       "        \n",
       "            <div id=\"981237c4-e814-4fdf-aa77-f31d5fc5ab03\" class=\"plotly-graph-div\" style=\"height:525px; width:100%;\"></div>\n",
       "            <script type=\"text/javascript\">\n",
       "                require([\"plotly\"], function(Plotly) {\n",
       "                    window.PLOTLYENV=window.PLOTLYENV || {};\n",
       "                    window.PLOTLYENV.BASE_URL='https://plot.ly';\n",
       "                    \n",
       "                if (document.getElementById(\"981237c4-e814-4fdf-aa77-f31d5fc5ab03\")) {\n",
       "                    Plotly.newPlot(\n",
       "                        '981237c4-e814-4fdf-aa77-f31d5fc5ab03',\n",
       "                        [{\"line\": {\"color\": \"rgba(255, 153, 51, 1.0)\", \"dash\": \"solid\", \"shape\": \"linear\", \"width\": 1.3}, \"marker\": {\"size\": 20, \"symbol\": \"circle\"}, \"mode\": \"markers\", \"name\": \"B\", \"text\": \"\", \"type\": \"scatter\", \"x\": [0.48758791284167, -1.0945360538696463, -0.025109160636671034, 0.5318438573072443, 1.170821047816164, -1.0781069618216137, 0.023929908721716072, -0.3341668073479446, 0.15466770476350178, 1.5446639151497434, 1.4056054833842484, 1.6261568763361154, -1.1227374435458701, 0.28194097407828445, -0.682223671693977, -0.9562545728370384, -0.7209835661743308, -0.03317994654738412, 0.5205553063310279, -1.1366028975811477, -0.9786485170200829, 0.13548859544218975, -0.0009540853056883342, 0.5979449535006777, 1.1149531211625783, 0.4283544325769933, -0.2411460571149065, -1.2870861552795327, 0.03636844814017887, 1.2075977330375478, -1.1535869763732076, 1.0628415041799286, -1.0491639233442693, 1.3811022114090363, -0.3613211905254392, -0.45890225542836116, -0.12162760141230262, -0.8396215800903595, -0.565381067065979, -3.4566182937067276, 0.8993420377570022, 0.2165974313829244, 1.6103508033055005, 0.0094913782519163, 0.45531265282040323, 0.6119558083278896, -0.2942946657226144, -1.2729657899992224, -0.3545189453227468, 0.07805696223208544, -0.66178932419833, -1.6925420918465717, -0.1307554580410991, -0.39774105359567025, -1.516011865561858, -0.5391143165355534, -1.1142859655918813, 1.0551320487656342, -0.5717178581500568, -0.1073076890360471, -1.5270560562106272, -0.7899843365922449, -0.6356350799456826, -0.41468126319261245, 1.6781806287486598, -0.33874390881565875, 0.18609602799409797, -1.2338502645280391, 0.10345221635878635, 0.6586971927026098, 0.5813188464153145, 1.3837115433387472, -0.29753261872603187, -1.6128956978544893, -1.103081913031465, -0.15162181863861388, 0.7316627867109841, -0.8665646320585265, -1.701661298481288, 1.596184275190892, 0.14494608879711593, -0.41603294033322546, 0.9563325173459639, -0.30156389581498877, 0.926333185290943, 0.6631382639673186, 0.39152621569100776, -0.5826926583224311, 0.6255130281637811, -0.21940433600962406, -0.9505295760532173, -0.10707435083175479, 0.37504647253794426, -0.7821664392300294, 1.213031390357866, -0.009994398016467693, 0.9894948390200397, -1.647259086231465, 0.9233657259667436, 0.17155861516031895], \"y\": [-0.3260093462636492, 0.24999368535084174, 0.23529007756177991, 1.497738301294124, -1.9235211183341405, -2.0300951821002418, -0.8026053432036195, -0.062102401082379945, 0.5733134985509706, -0.028200152143247094, 0.5457366836861638, 1.9105677035222017, -1.8510783961436936, 1.8936264586473475, 0.8455161682358032, 0.08530004905902606, 1.15547970626262, 0.33241678821461357, 0.8973896937867161, 0.19756270998312664, -0.5551208869803647, -0.7141539274695231, 0.009781143871655847, -0.7963514852359374, 0.18435114594596597, -0.7236122806767714, -0.6268367864953104, -1.0069813144186306, -0.5997263961705249, 0.2218092724149917, -1.170188533181909, -0.7686459812838211, -0.5673983196078344, 1.5249329961718672, -2.1774022163390523, -0.16736496395437145, 1.0228620924991214, 0.3910535831520817, 1.728288848550678, -0.009405137671356954, 0.9241988728738655, 0.44155721095505096, -0.22054721336042088, 0.5781436798174855, -1.290605550402523, -0.8219921260635391, 0.6672891466109183, -1.0544087228560581, 0.8576970417953911, 1.4773492966329609, -0.37563342720144566, 1.2771642094219255, 1.4113133544016951, -0.29750095974408886, -0.3162064319347066, 1.188528108737439, 0.579601446889555, -1.7869180545292704, 0.6597949108832315, -0.0001365483231869348, 1.1812217654383987, -0.039242310036225546, 0.055462809310465856, -0.26055519934982774, 0.6725828725192213, -0.5868956518865107, -0.36545184706978795, 0.9293783772779497, -1.12768298608976, -0.6802463660504389, 1.0337663943479858, -0.11482295289181627, -0.050142642112852305, -0.7605981670708353, 1.1776341864268012, -1.046185183818184, -0.7725793465552173, -0.19141931620324604, -0.5627311353208561, -0.6551472073374759, 0.1682953138174061, -1.219605336933295, 1.1676004025006497, -1.729816895327089, 0.7124705106659508, 1.5236894135662393, -1.6321268418409738, -0.7707520544200946, -0.05597956411105408, 0.16633345555002213, 1.3749075858226854, 0.7668818323383592, 1.2292117573820642, -0.09963937439980546, 1.8913086287611742, -0.13916805496855586, -0.8661975302049588, 0.011535216890753078, 1.2450592447021642, -2.211752092799134]}],\n",
       "                        {\"legend\": {\"bgcolor\": \"#F5F6F9\", \"font\": {\"color\": \"#4D5663\"}}, \"paper_bgcolor\": \"#F5F6F9\", \"plot_bgcolor\": \"#F5F6F9\", \"template\": {\"data\": {\"bar\": [{\"error_x\": {\"color\": \"#2a3f5f\"}, \"error_y\": {\"color\": \"#2a3f5f\"}, \"marker\": {\"line\": {\"color\": \"#E5ECF6\", \"width\": 0.5}}, \"type\": \"bar\"}], \"barpolar\": [{\"marker\": {\"line\": {\"color\": \"#E5ECF6\", \"width\": 0.5}}, \"type\": \"barpolar\"}], \"carpet\": [{\"aaxis\": {\"endlinecolor\": \"#2a3f5f\", \"gridcolor\": \"white\", \"linecolor\": \"white\", \"minorgridcolor\": \"white\", \"startlinecolor\": \"#2a3f5f\"}, \"baxis\": {\"endlinecolor\": \"#2a3f5f\", \"gridcolor\": \"white\", \"linecolor\": \"white\", \"minorgridcolor\": \"white\", \"startlinecolor\": \"#2a3f5f\"}, \"type\": \"carpet\"}], \"choropleth\": [{\"colorbar\": {\"outlinewidth\": 0, \"ticks\": \"\"}, \"type\": \"choropleth\"}], \"contour\": [{\"colorbar\": {\"outlinewidth\": 0, \"ticks\": \"\"}, \"colorscale\": [[0.0, \"#0d0887\"], [0.1111111111111111, \"#46039f\"], [0.2222222222222222, \"#7201a8\"], [0.3333333333333333, \"#9c179e\"], [0.4444444444444444, \"#bd3786\"], [0.5555555555555556, \"#d8576b\"], [0.6666666666666666, \"#ed7953\"], [0.7777777777777778, \"#fb9f3a\"], [0.8888888888888888, \"#fdca26\"], [1.0, \"#f0f921\"]], \"type\": \"contour\"}], \"contourcarpet\": [{\"colorbar\": {\"outlinewidth\": 0, \"ticks\": \"\"}, \"type\": \"contourcarpet\"}], \"heatmap\": [{\"colorbar\": {\"outlinewidth\": 0, \"ticks\": \"\"}, \"colorscale\": [[0.0, \"#0d0887\"], [0.1111111111111111, \"#46039f\"], [0.2222222222222222, \"#7201a8\"], [0.3333333333333333, \"#9c179e\"], [0.4444444444444444, \"#bd3786\"], [0.5555555555555556, \"#d8576b\"], [0.6666666666666666, \"#ed7953\"], [0.7777777777777778, \"#fb9f3a\"], [0.8888888888888888, \"#fdca26\"], [1.0, \"#f0f921\"]], \"type\": \"heatmap\"}], \"heatmapgl\": [{\"colorbar\": {\"outlinewidth\": 0, \"ticks\": \"\"}, \"colorscale\": [[0.0, \"#0d0887\"], [0.1111111111111111, \"#46039f\"], [0.2222222222222222, \"#7201a8\"], [0.3333333333333333, \"#9c179e\"], [0.4444444444444444, \"#bd3786\"], [0.5555555555555556, \"#d8576b\"], [0.6666666666666666, \"#ed7953\"], [0.7777777777777778, \"#fb9f3a\"], [0.8888888888888888, \"#fdca26\"], [1.0, \"#f0f921\"]], \"type\": \"heatmapgl\"}], \"histogram\": [{\"marker\": {\"colorbar\": {\"outlinewidth\": 0, \"ticks\": \"\"}}, \"type\": \"histogram\"}], \"histogram2d\": [{\"colorbar\": {\"outlinewidth\": 0, \"ticks\": \"\"}, \"colorscale\": [[0.0, \"#0d0887\"], [0.1111111111111111, \"#46039f\"], [0.2222222222222222, \"#7201a8\"], [0.3333333333333333, \"#9c179e\"], [0.4444444444444444, \"#bd3786\"], [0.5555555555555556, \"#d8576b\"], [0.6666666666666666, \"#ed7953\"], [0.7777777777777778, \"#fb9f3a\"], [0.8888888888888888, \"#fdca26\"], [1.0, \"#f0f921\"]], \"type\": \"histogram2d\"}], \"histogram2dcontour\": [{\"colorbar\": {\"outlinewidth\": 0, \"ticks\": \"\"}, \"colorscale\": [[0.0, \"#0d0887\"], [0.1111111111111111, \"#46039f\"], [0.2222222222222222, \"#7201a8\"], [0.3333333333333333, \"#9c179e\"], [0.4444444444444444, \"#bd3786\"], [0.5555555555555556, \"#d8576b\"], [0.6666666666666666, \"#ed7953\"], [0.7777777777777778, \"#fb9f3a\"], [0.8888888888888888, \"#fdca26\"], [1.0, \"#f0f921\"]], \"type\": \"histogram2dcontour\"}], \"mesh3d\": [{\"colorbar\": {\"outlinewidth\": 0, \"ticks\": \"\"}, \"type\": \"mesh3d\"}], \"parcoords\": [{\"line\": {\"colorbar\": {\"outlinewidth\": 0, \"ticks\": \"\"}}, \"type\": \"parcoords\"}], \"pie\": [{\"automargin\": true, \"type\": \"pie\"}], \"scatter\": [{\"marker\": {\"colorbar\": {\"outlinewidth\": 0, \"ticks\": \"\"}}, \"type\": \"scatter\"}], \"scatter3d\": [{\"line\": {\"colorbar\": {\"outlinewidth\": 0, \"ticks\": \"\"}}, \"marker\": {\"colorbar\": {\"outlinewidth\": 0, \"ticks\": \"\"}}, \"type\": \"scatter3d\"}], \"scattercarpet\": [{\"marker\": {\"colorbar\": {\"outlinewidth\": 0, \"ticks\": \"\"}}, \"type\": \"scattercarpet\"}], \"scattergeo\": [{\"marker\": {\"colorbar\": {\"outlinewidth\": 0, \"ticks\": \"\"}}, \"type\": \"scattergeo\"}], \"scattergl\": [{\"marker\": {\"colorbar\": {\"outlinewidth\": 0, \"ticks\": \"\"}}, \"type\": \"scattergl\"}], \"scattermapbox\": [{\"marker\": {\"colorbar\": {\"outlinewidth\": 0, \"ticks\": \"\"}}, \"type\": \"scattermapbox\"}], \"scatterpolar\": [{\"marker\": {\"colorbar\": {\"outlinewidth\": 0, \"ticks\": \"\"}}, \"type\": \"scatterpolar\"}], \"scatterpolargl\": [{\"marker\": {\"colorbar\": {\"outlinewidth\": 0, \"ticks\": \"\"}}, \"type\": \"scatterpolargl\"}], \"scatterternary\": [{\"marker\": {\"colorbar\": {\"outlinewidth\": 0, \"ticks\": \"\"}}, \"type\": \"scatterternary\"}], \"surface\": [{\"colorbar\": {\"outlinewidth\": 0, \"ticks\": \"\"}, \"colorscale\": [[0.0, \"#0d0887\"], [0.1111111111111111, \"#46039f\"], [0.2222222222222222, \"#7201a8\"], [0.3333333333333333, \"#9c179e\"], [0.4444444444444444, \"#bd3786\"], [0.5555555555555556, \"#d8576b\"], [0.6666666666666666, \"#ed7953\"], [0.7777777777777778, \"#fb9f3a\"], [0.8888888888888888, \"#fdca26\"], [1.0, \"#f0f921\"]], \"type\": \"surface\"}], \"table\": [{\"cells\": {\"fill\": {\"color\": \"#EBF0F8\"}, \"line\": {\"color\": \"white\"}}, \"header\": {\"fill\": {\"color\": \"#C8D4E3\"}, \"line\": {\"color\": \"white\"}}, \"type\": \"table\"}]}, \"layout\": {\"annotationdefaults\": {\"arrowcolor\": \"#2a3f5f\", \"arrowhead\": 0, \"arrowwidth\": 1}, \"coloraxis\": {\"colorbar\": {\"outlinewidth\": 0, \"ticks\": \"\"}}, \"colorscale\": {\"diverging\": [[0, \"#8e0152\"], [0.1, \"#c51b7d\"], [0.2, \"#de77ae\"], [0.3, \"#f1b6da\"], [0.4, \"#fde0ef\"], [0.5, \"#f7f7f7\"], [0.6, \"#e6f5d0\"], [0.7, \"#b8e186\"], [0.8, \"#7fbc41\"], [0.9, \"#4d9221\"], [1, \"#276419\"]], \"sequential\": [[0.0, \"#0d0887\"], [0.1111111111111111, \"#46039f\"], [0.2222222222222222, \"#7201a8\"], [0.3333333333333333, \"#9c179e\"], [0.4444444444444444, \"#bd3786\"], [0.5555555555555556, \"#d8576b\"], [0.6666666666666666, \"#ed7953\"], [0.7777777777777778, \"#fb9f3a\"], [0.8888888888888888, \"#fdca26\"], [1.0, \"#f0f921\"]], \"sequentialminus\": [[0.0, \"#0d0887\"], [0.1111111111111111, \"#46039f\"], [0.2222222222222222, \"#7201a8\"], [0.3333333333333333, \"#9c179e\"], [0.4444444444444444, \"#bd3786\"], [0.5555555555555556, \"#d8576b\"], [0.6666666666666666, \"#ed7953\"], [0.7777777777777778, \"#fb9f3a\"], [0.8888888888888888, \"#fdca26\"], [1.0, \"#f0f921\"]]}, \"colorway\": [\"#636efa\", \"#EF553B\", \"#00cc96\", \"#ab63fa\", \"#FFA15A\", \"#19d3f3\", \"#FF6692\", \"#B6E880\", \"#FF97FF\", \"#FECB52\"], \"font\": {\"color\": \"#2a3f5f\"}, \"geo\": {\"bgcolor\": \"white\", \"lakecolor\": \"white\", \"landcolor\": \"#E5ECF6\", \"showlakes\": true, \"showland\": true, \"subunitcolor\": \"white\"}, \"hoverlabel\": {\"align\": \"left\"}, \"hovermode\": \"closest\", \"mapbox\": {\"style\": \"light\"}, \"paper_bgcolor\": \"white\", \"plot_bgcolor\": \"#E5ECF6\", \"polar\": {\"angularaxis\": {\"gridcolor\": \"white\", \"linecolor\": \"white\", \"ticks\": \"\"}, \"bgcolor\": \"#E5ECF6\", \"radialaxis\": {\"gridcolor\": \"white\", \"linecolor\": \"white\", \"ticks\": \"\"}}, \"scene\": {\"xaxis\": {\"backgroundcolor\": \"#E5ECF6\", \"gridcolor\": \"white\", \"gridwidth\": 2, \"linecolor\": \"white\", \"showbackground\": true, \"ticks\": \"\", \"zerolinecolor\": \"white\"}, \"yaxis\": {\"backgroundcolor\": \"#E5ECF6\", \"gridcolor\": \"white\", \"gridwidth\": 2, \"linecolor\": \"white\", \"showbackground\": true, \"ticks\": \"\", \"zerolinecolor\": \"white\"}, \"zaxis\": {\"backgroundcolor\": \"#E5ECF6\", \"gridcolor\": \"white\", \"gridwidth\": 2, \"linecolor\": \"white\", \"showbackground\": true, \"ticks\": \"\", \"zerolinecolor\": \"white\"}}, \"shapedefaults\": {\"line\": {\"color\": \"#2a3f5f\"}}, \"ternary\": {\"aaxis\": {\"gridcolor\": \"white\", \"linecolor\": \"white\", \"ticks\": \"\"}, \"baxis\": {\"gridcolor\": \"white\", \"linecolor\": \"white\", \"ticks\": \"\"}, \"bgcolor\": \"#E5ECF6\", \"caxis\": {\"gridcolor\": \"white\", \"linecolor\": \"white\", \"ticks\": \"\"}}, \"title\": {\"x\": 0.05}, \"xaxis\": {\"automargin\": true, \"gridcolor\": \"white\", \"linecolor\": \"white\", \"ticks\": \"\", \"title\": {\"standoff\": 15}, \"zerolinecolor\": \"white\", \"zerolinewidth\": 2}, \"yaxis\": {\"automargin\": true, \"gridcolor\": \"white\", \"linecolor\": \"white\", \"ticks\": \"\", \"title\": {\"standoff\": 15}, \"zerolinecolor\": \"white\", \"zerolinewidth\": 2}}}, \"title\": {\"font\": {\"color\": \"#4D5663\"}}, \"xaxis\": {\"gridcolor\": \"#E1E5ED\", \"showgrid\": true, \"tickfont\": {\"color\": \"#4D5663\"}, \"title\": {\"font\": {\"color\": \"#4D5663\"}, \"text\": \"\"}, \"zerolinecolor\": \"#E1E5ED\"}, \"yaxis\": {\"gridcolor\": \"#E1E5ED\", \"showgrid\": true, \"tickfont\": {\"color\": \"#4D5663\"}, \"title\": {\"font\": {\"color\": \"#4D5663\"}, \"text\": \"\"}, \"zerolinecolor\": \"#E1E5ED\"}},\n",
       "                        {\"showLink\": true, \"linkText\": \"Export to plot.ly\", \"plotlyServerURL\": \"https://plot.ly\", \"responsive\": true}\n",
       "                    ).then(function(){\n",
       "                            \n",
       "var gd = document.getElementById('981237c4-e814-4fdf-aa77-f31d5fc5ab03');\n",
       "var x = new MutationObserver(function (mutations, observer) {{\n",
       "        var display = window.getComputedStyle(gd).display;\n",
       "        if (!display || display === 'none') {{\n",
       "            console.log([gd, 'removed!']);\n",
       "            Plotly.purge(gd);\n",
       "            observer.disconnect();\n",
       "        }}\n",
       "}});\n",
       "\n",
       "// Listen for the removal of the full notebook cells\n",
       "var notebookContainer = gd.closest('#notebook-container');\n",
       "if (notebookContainer) {{\n",
       "    x.observe(notebookContainer, {childList: true});\n",
       "}}\n",
       "\n",
       "// Listen for the clearing of the current output cell\n",
       "var outputEl = gd.closest('.output');\n",
       "if (outputEl) {{\n",
       "    x.observe(outputEl, {childList: true});\n",
       "}}\n",
       "\n",
       "                        })\n",
       "                };\n",
       "                });\n",
       "            </script>\n",
       "        </div>"
      ]
     },
     "metadata": {},
     "output_type": "display_data"
    }
   ],
   "source": [
    "# to enlarge the points use size \n",
    "df.iplot(kind='scatter',x='A',y='B',mode='markers',size=20) "
   ]
  },
  {
   "cell_type": "code",
   "execution_count": 20,
   "metadata": {},
   "outputs": [
    {
     "data": {
      "application/vnd.plotly.v1+json": {
       "config": {
        "linkText": "Export to plot.ly",
        "plotlyServerURL": "https://plot.ly",
        "showLink": true
       },
       "data": [
        {
         "marker": {
          "color": "rgba(255, 153, 51, 0.6)",
          "line": {
           "color": "rgba(255, 153, 51, 1.0)",
           "width": 1
          }
         },
         "name": "Values",
         "orientation": "v",
         "text": "",
         "type": "bar",
         "x": [
          "A",
          "B",
          "C"
         ],
         "y": [
          32,
          43,
          50
         ]
        }
       ],
       "layout": {
        "legend": {
         "bgcolor": "#F5F6F9",
         "font": {
          "color": "#4D5663"
         }
        },
        "paper_bgcolor": "#F5F6F9",
        "plot_bgcolor": "#F5F6F9",
        "template": {
         "data": {
          "bar": [
           {
            "error_x": {
             "color": "#2a3f5f"
            },
            "error_y": {
             "color": "#2a3f5f"
            },
            "marker": {
             "line": {
              "color": "#E5ECF6",
              "width": 0.5
             }
            },
            "type": "bar"
           }
          ],
          "barpolar": [
           {
            "marker": {
             "line": {
              "color": "#E5ECF6",
              "width": 0.5
             }
            },
            "type": "barpolar"
           }
          ],
          "carpet": [
           {
            "aaxis": {
             "endlinecolor": "#2a3f5f",
             "gridcolor": "white",
             "linecolor": "white",
             "minorgridcolor": "white",
             "startlinecolor": "#2a3f5f"
            },
            "baxis": {
             "endlinecolor": "#2a3f5f",
             "gridcolor": "white",
             "linecolor": "white",
             "minorgridcolor": "white",
             "startlinecolor": "#2a3f5f"
            },
            "type": "carpet"
           }
          ],
          "choropleth": [
           {
            "colorbar": {
             "outlinewidth": 0,
             "ticks": ""
            },
            "type": "choropleth"
           }
          ],
          "contour": [
           {
            "colorbar": {
             "outlinewidth": 0,
             "ticks": ""
            },
            "colorscale": [
             [
              0,
              "#0d0887"
             ],
             [
              0.1111111111111111,
              "#46039f"
             ],
             [
              0.2222222222222222,
              "#7201a8"
             ],
             [
              0.3333333333333333,
              "#9c179e"
             ],
             [
              0.4444444444444444,
              "#bd3786"
             ],
             [
              0.5555555555555556,
              "#d8576b"
             ],
             [
              0.6666666666666666,
              "#ed7953"
             ],
             [
              0.7777777777777778,
              "#fb9f3a"
             ],
             [
              0.8888888888888888,
              "#fdca26"
             ],
             [
              1,
              "#f0f921"
             ]
            ],
            "type": "contour"
           }
          ],
          "contourcarpet": [
           {
            "colorbar": {
             "outlinewidth": 0,
             "ticks": ""
            },
            "type": "contourcarpet"
           }
          ],
          "heatmap": [
           {
            "colorbar": {
             "outlinewidth": 0,
             "ticks": ""
            },
            "colorscale": [
             [
              0,
              "#0d0887"
             ],
             [
              0.1111111111111111,
              "#46039f"
             ],
             [
              0.2222222222222222,
              "#7201a8"
             ],
             [
              0.3333333333333333,
              "#9c179e"
             ],
             [
              0.4444444444444444,
              "#bd3786"
             ],
             [
              0.5555555555555556,
              "#d8576b"
             ],
             [
              0.6666666666666666,
              "#ed7953"
             ],
             [
              0.7777777777777778,
              "#fb9f3a"
             ],
             [
              0.8888888888888888,
              "#fdca26"
             ],
             [
              1,
              "#f0f921"
             ]
            ],
            "type": "heatmap"
           }
          ],
          "heatmapgl": [
           {
            "colorbar": {
             "outlinewidth": 0,
             "ticks": ""
            },
            "colorscale": [
             [
              0,
              "#0d0887"
             ],
             [
              0.1111111111111111,
              "#46039f"
             ],
             [
              0.2222222222222222,
              "#7201a8"
             ],
             [
              0.3333333333333333,
              "#9c179e"
             ],
             [
              0.4444444444444444,
              "#bd3786"
             ],
             [
              0.5555555555555556,
              "#d8576b"
             ],
             [
              0.6666666666666666,
              "#ed7953"
             ],
             [
              0.7777777777777778,
              "#fb9f3a"
             ],
             [
              0.8888888888888888,
              "#fdca26"
             ],
             [
              1,
              "#f0f921"
             ]
            ],
            "type": "heatmapgl"
           }
          ],
          "histogram": [
           {
            "marker": {
             "colorbar": {
              "outlinewidth": 0,
              "ticks": ""
             }
            },
            "type": "histogram"
           }
          ],
          "histogram2d": [
           {
            "colorbar": {
             "outlinewidth": 0,
             "ticks": ""
            },
            "colorscale": [
             [
              0,
              "#0d0887"
             ],
             [
              0.1111111111111111,
              "#46039f"
             ],
             [
              0.2222222222222222,
              "#7201a8"
             ],
             [
              0.3333333333333333,
              "#9c179e"
             ],
             [
              0.4444444444444444,
              "#bd3786"
             ],
             [
              0.5555555555555556,
              "#d8576b"
             ],
             [
              0.6666666666666666,
              "#ed7953"
             ],
             [
              0.7777777777777778,
              "#fb9f3a"
             ],
             [
              0.8888888888888888,
              "#fdca26"
             ],
             [
              1,
              "#f0f921"
             ]
            ],
            "type": "histogram2d"
           }
          ],
          "histogram2dcontour": [
           {
            "colorbar": {
             "outlinewidth": 0,
             "ticks": ""
            },
            "colorscale": [
             [
              0,
              "#0d0887"
             ],
             [
              0.1111111111111111,
              "#46039f"
             ],
             [
              0.2222222222222222,
              "#7201a8"
             ],
             [
              0.3333333333333333,
              "#9c179e"
             ],
             [
              0.4444444444444444,
              "#bd3786"
             ],
             [
              0.5555555555555556,
              "#d8576b"
             ],
             [
              0.6666666666666666,
              "#ed7953"
             ],
             [
              0.7777777777777778,
              "#fb9f3a"
             ],
             [
              0.8888888888888888,
              "#fdca26"
             ],
             [
              1,
              "#f0f921"
             ]
            ],
            "type": "histogram2dcontour"
           }
          ],
          "mesh3d": [
           {
            "colorbar": {
             "outlinewidth": 0,
             "ticks": ""
            },
            "type": "mesh3d"
           }
          ],
          "parcoords": [
           {
            "line": {
             "colorbar": {
              "outlinewidth": 0,
              "ticks": ""
             }
            },
            "type": "parcoords"
           }
          ],
          "pie": [
           {
            "automargin": true,
            "type": "pie"
           }
          ],
          "scatter": [
           {
            "marker": {
             "colorbar": {
              "outlinewidth": 0,
              "ticks": ""
             }
            },
            "type": "scatter"
           }
          ],
          "scatter3d": [
           {
            "line": {
             "colorbar": {
              "outlinewidth": 0,
              "ticks": ""
             }
            },
            "marker": {
             "colorbar": {
              "outlinewidth": 0,
              "ticks": ""
             }
            },
            "type": "scatter3d"
           }
          ],
          "scattercarpet": [
           {
            "marker": {
             "colorbar": {
              "outlinewidth": 0,
              "ticks": ""
             }
            },
            "type": "scattercarpet"
           }
          ],
          "scattergeo": [
           {
            "marker": {
             "colorbar": {
              "outlinewidth": 0,
              "ticks": ""
             }
            },
            "type": "scattergeo"
           }
          ],
          "scattergl": [
           {
            "marker": {
             "colorbar": {
              "outlinewidth": 0,
              "ticks": ""
             }
            },
            "type": "scattergl"
           }
          ],
          "scattermapbox": [
           {
            "marker": {
             "colorbar": {
              "outlinewidth": 0,
              "ticks": ""
             }
            },
            "type": "scattermapbox"
           }
          ],
          "scatterpolar": [
           {
            "marker": {
             "colorbar": {
              "outlinewidth": 0,
              "ticks": ""
             }
            },
            "type": "scatterpolar"
           }
          ],
          "scatterpolargl": [
           {
            "marker": {
             "colorbar": {
              "outlinewidth": 0,
              "ticks": ""
             }
            },
            "type": "scatterpolargl"
           }
          ],
          "scatterternary": [
           {
            "marker": {
             "colorbar": {
              "outlinewidth": 0,
              "ticks": ""
             }
            },
            "type": "scatterternary"
           }
          ],
          "surface": [
           {
            "colorbar": {
             "outlinewidth": 0,
             "ticks": ""
            },
            "colorscale": [
             [
              0,
              "#0d0887"
             ],
             [
              0.1111111111111111,
              "#46039f"
             ],
             [
              0.2222222222222222,
              "#7201a8"
             ],
             [
              0.3333333333333333,
              "#9c179e"
             ],
             [
              0.4444444444444444,
              "#bd3786"
             ],
             [
              0.5555555555555556,
              "#d8576b"
             ],
             [
              0.6666666666666666,
              "#ed7953"
             ],
             [
              0.7777777777777778,
              "#fb9f3a"
             ],
             [
              0.8888888888888888,
              "#fdca26"
             ],
             [
              1,
              "#f0f921"
             ]
            ],
            "type": "surface"
           }
          ],
          "table": [
           {
            "cells": {
             "fill": {
              "color": "#EBF0F8"
             },
             "line": {
              "color": "white"
             }
            },
            "header": {
             "fill": {
              "color": "#C8D4E3"
             },
             "line": {
              "color": "white"
             }
            },
            "type": "table"
           }
          ]
         },
         "layout": {
          "annotationdefaults": {
           "arrowcolor": "#2a3f5f",
           "arrowhead": 0,
           "arrowwidth": 1
          },
          "coloraxis": {
           "colorbar": {
            "outlinewidth": 0,
            "ticks": ""
           }
          },
          "colorscale": {
           "diverging": [
            [
             0,
             "#8e0152"
            ],
            [
             0.1,
             "#c51b7d"
            ],
            [
             0.2,
             "#de77ae"
            ],
            [
             0.3,
             "#f1b6da"
            ],
            [
             0.4,
             "#fde0ef"
            ],
            [
             0.5,
             "#f7f7f7"
            ],
            [
             0.6,
             "#e6f5d0"
            ],
            [
             0.7,
             "#b8e186"
            ],
            [
             0.8,
             "#7fbc41"
            ],
            [
             0.9,
             "#4d9221"
            ],
            [
             1,
             "#276419"
            ]
           ],
           "sequential": [
            [
             0,
             "#0d0887"
            ],
            [
             0.1111111111111111,
             "#46039f"
            ],
            [
             0.2222222222222222,
             "#7201a8"
            ],
            [
             0.3333333333333333,
             "#9c179e"
            ],
            [
             0.4444444444444444,
             "#bd3786"
            ],
            [
             0.5555555555555556,
             "#d8576b"
            ],
            [
             0.6666666666666666,
             "#ed7953"
            ],
            [
             0.7777777777777778,
             "#fb9f3a"
            ],
            [
             0.8888888888888888,
             "#fdca26"
            ],
            [
             1,
             "#f0f921"
            ]
           ],
           "sequentialminus": [
            [
             0,
             "#0d0887"
            ],
            [
             0.1111111111111111,
             "#46039f"
            ],
            [
             0.2222222222222222,
             "#7201a8"
            ],
            [
             0.3333333333333333,
             "#9c179e"
            ],
            [
             0.4444444444444444,
             "#bd3786"
            ],
            [
             0.5555555555555556,
             "#d8576b"
            ],
            [
             0.6666666666666666,
             "#ed7953"
            ],
            [
             0.7777777777777778,
             "#fb9f3a"
            ],
            [
             0.8888888888888888,
             "#fdca26"
            ],
            [
             1,
             "#f0f921"
            ]
           ]
          },
          "colorway": [
           "#636efa",
           "#EF553B",
           "#00cc96",
           "#ab63fa",
           "#FFA15A",
           "#19d3f3",
           "#FF6692",
           "#B6E880",
           "#FF97FF",
           "#FECB52"
          ],
          "font": {
           "color": "#2a3f5f"
          },
          "geo": {
           "bgcolor": "white",
           "lakecolor": "white",
           "landcolor": "#E5ECF6",
           "showlakes": true,
           "showland": true,
           "subunitcolor": "white"
          },
          "hoverlabel": {
           "align": "left"
          },
          "hovermode": "closest",
          "mapbox": {
           "style": "light"
          },
          "paper_bgcolor": "white",
          "plot_bgcolor": "#E5ECF6",
          "polar": {
           "angularaxis": {
            "gridcolor": "white",
            "linecolor": "white",
            "ticks": ""
           },
           "bgcolor": "#E5ECF6",
           "radialaxis": {
            "gridcolor": "white",
            "linecolor": "white",
            "ticks": ""
           }
          },
          "scene": {
           "xaxis": {
            "backgroundcolor": "#E5ECF6",
            "gridcolor": "white",
            "gridwidth": 2,
            "linecolor": "white",
            "showbackground": true,
            "ticks": "",
            "zerolinecolor": "white"
           },
           "yaxis": {
            "backgroundcolor": "#E5ECF6",
            "gridcolor": "white",
            "gridwidth": 2,
            "linecolor": "white",
            "showbackground": true,
            "ticks": "",
            "zerolinecolor": "white"
           },
           "zaxis": {
            "backgroundcolor": "#E5ECF6",
            "gridcolor": "white",
            "gridwidth": 2,
            "linecolor": "white",
            "showbackground": true,
            "ticks": "",
            "zerolinecolor": "white"
           }
          },
          "shapedefaults": {
           "line": {
            "color": "#2a3f5f"
           }
          },
          "ternary": {
           "aaxis": {
            "gridcolor": "white",
            "linecolor": "white",
            "ticks": ""
           },
           "baxis": {
            "gridcolor": "white",
            "linecolor": "white",
            "ticks": ""
           },
           "bgcolor": "#E5ECF6",
           "caxis": {
            "gridcolor": "white",
            "linecolor": "white",
            "ticks": ""
           }
          },
          "title": {
           "x": 0.05
          },
          "xaxis": {
           "automargin": true,
           "gridcolor": "white",
           "linecolor": "white",
           "ticks": "",
           "title": {
            "standoff": 15
           },
           "zerolinecolor": "white",
           "zerolinewidth": 2
          },
          "yaxis": {
           "automargin": true,
           "gridcolor": "white",
           "linecolor": "white",
           "ticks": "",
           "title": {
            "standoff": 15
           },
           "zerolinecolor": "white",
           "zerolinewidth": 2
          }
         }
        },
        "title": {
         "font": {
          "color": "#4D5663"
         }
        },
        "xaxis": {
         "gridcolor": "#E1E5ED",
         "showgrid": true,
         "tickfont": {
          "color": "#4D5663"
         },
         "title": {
          "font": {
           "color": "#4D5663"
          },
          "text": ""
         },
         "zerolinecolor": "#E1E5ED"
        },
        "yaxis": {
         "gridcolor": "#E1E5ED",
         "showgrid": true,
         "tickfont": {
          "color": "#4D5663"
         },
         "title": {
          "font": {
           "color": "#4D5663"
          },
          "text": ""
         },
         "zerolinecolor": "#E1E5ED"
        }
       }
      },
      "text/html": [
       "<div>\n",
       "        \n",
       "        \n",
       "            <div id=\"42bba2fb-8810-4f60-8ac8-5ad75da7df86\" class=\"plotly-graph-div\" style=\"height:525px; width:100%;\"></div>\n",
       "            <script type=\"text/javascript\">\n",
       "                require([\"plotly\"], function(Plotly) {\n",
       "                    window.PLOTLYENV=window.PLOTLYENV || {};\n",
       "                    window.PLOTLYENV.BASE_URL='https://plot.ly';\n",
       "                    \n",
       "                if (document.getElementById(\"42bba2fb-8810-4f60-8ac8-5ad75da7df86\")) {\n",
       "                    Plotly.newPlot(\n",
       "                        '42bba2fb-8810-4f60-8ac8-5ad75da7df86',\n",
       "                        [{\"marker\": {\"color\": \"rgba(255, 153, 51, 0.6)\", \"line\": {\"color\": \"rgba(255, 153, 51, 1.0)\", \"width\": 1}}, \"name\": \"Values\", \"orientation\": \"v\", \"text\": \"\", \"type\": \"bar\", \"x\": [\"A\", \"B\", \"C\"], \"y\": [32, 43, 50]}],\n",
       "                        {\"legend\": {\"bgcolor\": \"#F5F6F9\", \"font\": {\"color\": \"#4D5663\"}}, \"paper_bgcolor\": \"#F5F6F9\", \"plot_bgcolor\": \"#F5F6F9\", \"template\": {\"data\": {\"bar\": [{\"error_x\": {\"color\": \"#2a3f5f\"}, \"error_y\": {\"color\": \"#2a3f5f\"}, \"marker\": {\"line\": {\"color\": \"#E5ECF6\", \"width\": 0.5}}, \"type\": \"bar\"}], \"barpolar\": [{\"marker\": {\"line\": {\"color\": \"#E5ECF6\", \"width\": 0.5}}, \"type\": \"barpolar\"}], \"carpet\": [{\"aaxis\": {\"endlinecolor\": \"#2a3f5f\", \"gridcolor\": \"white\", \"linecolor\": \"white\", \"minorgridcolor\": \"white\", \"startlinecolor\": \"#2a3f5f\"}, \"baxis\": {\"endlinecolor\": \"#2a3f5f\", \"gridcolor\": \"white\", \"linecolor\": \"white\", \"minorgridcolor\": \"white\", \"startlinecolor\": \"#2a3f5f\"}, \"type\": \"carpet\"}], \"choropleth\": [{\"colorbar\": {\"outlinewidth\": 0, \"ticks\": \"\"}, \"type\": \"choropleth\"}], \"contour\": [{\"colorbar\": {\"outlinewidth\": 0, \"ticks\": \"\"}, \"colorscale\": [[0.0, \"#0d0887\"], [0.1111111111111111, \"#46039f\"], [0.2222222222222222, \"#7201a8\"], [0.3333333333333333, \"#9c179e\"], [0.4444444444444444, \"#bd3786\"], [0.5555555555555556, \"#d8576b\"], [0.6666666666666666, \"#ed7953\"], [0.7777777777777778, \"#fb9f3a\"], [0.8888888888888888, \"#fdca26\"], [1.0, \"#f0f921\"]], \"type\": \"contour\"}], \"contourcarpet\": [{\"colorbar\": {\"outlinewidth\": 0, \"ticks\": \"\"}, \"type\": \"contourcarpet\"}], \"heatmap\": [{\"colorbar\": {\"outlinewidth\": 0, \"ticks\": \"\"}, \"colorscale\": [[0.0, \"#0d0887\"], [0.1111111111111111, \"#46039f\"], [0.2222222222222222, \"#7201a8\"], [0.3333333333333333, \"#9c179e\"], [0.4444444444444444, \"#bd3786\"], [0.5555555555555556, \"#d8576b\"], [0.6666666666666666, \"#ed7953\"], [0.7777777777777778, \"#fb9f3a\"], [0.8888888888888888, \"#fdca26\"], [1.0, \"#f0f921\"]], \"type\": \"heatmap\"}], \"heatmapgl\": [{\"colorbar\": {\"outlinewidth\": 0, \"ticks\": \"\"}, \"colorscale\": [[0.0, \"#0d0887\"], [0.1111111111111111, \"#46039f\"], [0.2222222222222222, \"#7201a8\"], [0.3333333333333333, \"#9c179e\"], [0.4444444444444444, \"#bd3786\"], [0.5555555555555556, \"#d8576b\"], [0.6666666666666666, \"#ed7953\"], [0.7777777777777778, \"#fb9f3a\"], [0.8888888888888888, \"#fdca26\"], [1.0, \"#f0f921\"]], \"type\": \"heatmapgl\"}], \"histogram\": [{\"marker\": {\"colorbar\": {\"outlinewidth\": 0, \"ticks\": \"\"}}, \"type\": \"histogram\"}], \"histogram2d\": [{\"colorbar\": {\"outlinewidth\": 0, \"ticks\": \"\"}, \"colorscale\": [[0.0, \"#0d0887\"], [0.1111111111111111, \"#46039f\"], [0.2222222222222222, \"#7201a8\"], [0.3333333333333333, \"#9c179e\"], [0.4444444444444444, \"#bd3786\"], [0.5555555555555556, \"#d8576b\"], [0.6666666666666666, \"#ed7953\"], [0.7777777777777778, \"#fb9f3a\"], [0.8888888888888888, \"#fdca26\"], [1.0, \"#f0f921\"]], \"type\": \"histogram2d\"}], \"histogram2dcontour\": [{\"colorbar\": {\"outlinewidth\": 0, \"ticks\": \"\"}, \"colorscale\": [[0.0, \"#0d0887\"], [0.1111111111111111, \"#46039f\"], [0.2222222222222222, \"#7201a8\"], [0.3333333333333333, \"#9c179e\"], [0.4444444444444444, \"#bd3786\"], [0.5555555555555556, \"#d8576b\"], [0.6666666666666666, \"#ed7953\"], [0.7777777777777778, \"#fb9f3a\"], [0.8888888888888888, \"#fdca26\"], [1.0, \"#f0f921\"]], \"type\": \"histogram2dcontour\"}], \"mesh3d\": [{\"colorbar\": {\"outlinewidth\": 0, \"ticks\": \"\"}, \"type\": \"mesh3d\"}], \"parcoords\": [{\"line\": {\"colorbar\": {\"outlinewidth\": 0, \"ticks\": \"\"}}, \"type\": \"parcoords\"}], \"pie\": [{\"automargin\": true, \"type\": \"pie\"}], \"scatter\": [{\"marker\": {\"colorbar\": {\"outlinewidth\": 0, \"ticks\": \"\"}}, \"type\": \"scatter\"}], \"scatter3d\": [{\"line\": {\"colorbar\": {\"outlinewidth\": 0, \"ticks\": \"\"}}, \"marker\": {\"colorbar\": {\"outlinewidth\": 0, \"ticks\": \"\"}}, \"type\": \"scatter3d\"}], \"scattercarpet\": [{\"marker\": {\"colorbar\": {\"outlinewidth\": 0, \"ticks\": \"\"}}, \"type\": \"scattercarpet\"}], \"scattergeo\": [{\"marker\": {\"colorbar\": {\"outlinewidth\": 0, \"ticks\": \"\"}}, \"type\": \"scattergeo\"}], \"scattergl\": [{\"marker\": {\"colorbar\": {\"outlinewidth\": 0, \"ticks\": \"\"}}, \"type\": \"scattergl\"}], \"scattermapbox\": [{\"marker\": {\"colorbar\": {\"outlinewidth\": 0, \"ticks\": \"\"}}, \"type\": \"scattermapbox\"}], \"scatterpolar\": [{\"marker\": {\"colorbar\": {\"outlinewidth\": 0, \"ticks\": \"\"}}, \"type\": \"scatterpolar\"}], \"scatterpolargl\": [{\"marker\": {\"colorbar\": {\"outlinewidth\": 0, \"ticks\": \"\"}}, \"type\": \"scatterpolargl\"}], \"scatterternary\": [{\"marker\": {\"colorbar\": {\"outlinewidth\": 0, \"ticks\": \"\"}}, \"type\": \"scatterternary\"}], \"surface\": [{\"colorbar\": {\"outlinewidth\": 0, \"ticks\": \"\"}, \"colorscale\": [[0.0, \"#0d0887\"], [0.1111111111111111, \"#46039f\"], [0.2222222222222222, \"#7201a8\"], [0.3333333333333333, \"#9c179e\"], [0.4444444444444444, \"#bd3786\"], [0.5555555555555556, \"#d8576b\"], [0.6666666666666666, \"#ed7953\"], [0.7777777777777778, \"#fb9f3a\"], [0.8888888888888888, \"#fdca26\"], [1.0, \"#f0f921\"]], \"type\": \"surface\"}], \"table\": [{\"cells\": {\"fill\": {\"color\": \"#EBF0F8\"}, \"line\": {\"color\": \"white\"}}, \"header\": {\"fill\": {\"color\": \"#C8D4E3\"}, \"line\": {\"color\": \"white\"}}, \"type\": \"table\"}]}, \"layout\": {\"annotationdefaults\": {\"arrowcolor\": \"#2a3f5f\", \"arrowhead\": 0, \"arrowwidth\": 1}, \"coloraxis\": {\"colorbar\": {\"outlinewidth\": 0, \"ticks\": \"\"}}, \"colorscale\": {\"diverging\": [[0, \"#8e0152\"], [0.1, \"#c51b7d\"], [0.2, \"#de77ae\"], [0.3, \"#f1b6da\"], [0.4, \"#fde0ef\"], [0.5, \"#f7f7f7\"], [0.6, \"#e6f5d0\"], [0.7, \"#b8e186\"], [0.8, \"#7fbc41\"], [0.9, \"#4d9221\"], [1, \"#276419\"]], \"sequential\": [[0.0, \"#0d0887\"], [0.1111111111111111, \"#46039f\"], [0.2222222222222222, \"#7201a8\"], [0.3333333333333333, \"#9c179e\"], [0.4444444444444444, \"#bd3786\"], [0.5555555555555556, \"#d8576b\"], [0.6666666666666666, \"#ed7953\"], [0.7777777777777778, \"#fb9f3a\"], [0.8888888888888888, \"#fdca26\"], [1.0, \"#f0f921\"]], \"sequentialminus\": [[0.0, \"#0d0887\"], [0.1111111111111111, \"#46039f\"], [0.2222222222222222, \"#7201a8\"], [0.3333333333333333, \"#9c179e\"], [0.4444444444444444, \"#bd3786\"], [0.5555555555555556, \"#d8576b\"], [0.6666666666666666, \"#ed7953\"], [0.7777777777777778, \"#fb9f3a\"], [0.8888888888888888, \"#fdca26\"], [1.0, \"#f0f921\"]]}, \"colorway\": [\"#636efa\", \"#EF553B\", \"#00cc96\", \"#ab63fa\", \"#FFA15A\", \"#19d3f3\", \"#FF6692\", \"#B6E880\", \"#FF97FF\", \"#FECB52\"], \"font\": {\"color\": \"#2a3f5f\"}, \"geo\": {\"bgcolor\": \"white\", \"lakecolor\": \"white\", \"landcolor\": \"#E5ECF6\", \"showlakes\": true, \"showland\": true, \"subunitcolor\": \"white\"}, \"hoverlabel\": {\"align\": \"left\"}, \"hovermode\": \"closest\", \"mapbox\": {\"style\": \"light\"}, \"paper_bgcolor\": \"white\", \"plot_bgcolor\": \"#E5ECF6\", \"polar\": {\"angularaxis\": {\"gridcolor\": \"white\", \"linecolor\": \"white\", \"ticks\": \"\"}, \"bgcolor\": \"#E5ECF6\", \"radialaxis\": {\"gridcolor\": \"white\", \"linecolor\": \"white\", \"ticks\": \"\"}}, \"scene\": {\"xaxis\": {\"backgroundcolor\": \"#E5ECF6\", \"gridcolor\": \"white\", \"gridwidth\": 2, \"linecolor\": \"white\", \"showbackground\": true, \"ticks\": \"\", \"zerolinecolor\": \"white\"}, \"yaxis\": {\"backgroundcolor\": \"#E5ECF6\", \"gridcolor\": \"white\", \"gridwidth\": 2, \"linecolor\": \"white\", \"showbackground\": true, \"ticks\": \"\", \"zerolinecolor\": \"white\"}, \"zaxis\": {\"backgroundcolor\": \"#E5ECF6\", \"gridcolor\": \"white\", \"gridwidth\": 2, \"linecolor\": \"white\", \"showbackground\": true, \"ticks\": \"\", \"zerolinecolor\": \"white\"}}, \"shapedefaults\": {\"line\": {\"color\": \"#2a3f5f\"}}, \"ternary\": {\"aaxis\": {\"gridcolor\": \"white\", \"linecolor\": \"white\", \"ticks\": \"\"}, \"baxis\": {\"gridcolor\": \"white\", \"linecolor\": \"white\", \"ticks\": \"\"}, \"bgcolor\": \"#E5ECF6\", \"caxis\": {\"gridcolor\": \"white\", \"linecolor\": \"white\", \"ticks\": \"\"}}, \"title\": {\"x\": 0.05}, \"xaxis\": {\"automargin\": true, \"gridcolor\": \"white\", \"linecolor\": \"white\", \"ticks\": \"\", \"title\": {\"standoff\": 15}, \"zerolinecolor\": \"white\", \"zerolinewidth\": 2}, \"yaxis\": {\"automargin\": true, \"gridcolor\": \"white\", \"linecolor\": \"white\", \"ticks\": \"\", \"title\": {\"standoff\": 15}, \"zerolinecolor\": \"white\", \"zerolinewidth\": 2}}}, \"title\": {\"font\": {\"color\": \"#4D5663\"}}, \"xaxis\": {\"gridcolor\": \"#E1E5ED\", \"showgrid\": true, \"tickfont\": {\"color\": \"#4D5663\"}, \"title\": {\"font\": {\"color\": \"#4D5663\"}, \"text\": \"\"}, \"zerolinecolor\": \"#E1E5ED\"}, \"yaxis\": {\"gridcolor\": \"#E1E5ED\", \"showgrid\": true, \"tickfont\": {\"color\": \"#4D5663\"}, \"title\": {\"font\": {\"color\": \"#4D5663\"}, \"text\": \"\"}, \"zerolinecolor\": \"#E1E5ED\"}},\n",
       "                        {\"showLink\": true, \"linkText\": \"Export to plot.ly\", \"plotlyServerURL\": \"https://plot.ly\", \"responsive\": true}\n",
       "                    ).then(function(){\n",
       "                            \n",
       "var gd = document.getElementById('42bba2fb-8810-4f60-8ac8-5ad75da7df86');\n",
       "var x = new MutationObserver(function (mutations, observer) {{\n",
       "        var display = window.getComputedStyle(gd).display;\n",
       "        if (!display || display === 'none') {{\n",
       "            console.log([gd, 'removed!']);\n",
       "            Plotly.purge(gd);\n",
       "            observer.disconnect();\n",
       "        }}\n",
       "}});\n",
       "\n",
       "// Listen for the removal of the full notebook cells\n",
       "var notebookContainer = gd.closest('#notebook-container');\n",
       "if (notebookContainer) {{\n",
       "    x.observe(notebookContainer, {childList: true});\n",
       "}}\n",
       "\n",
       "// Listen for the clearing of the current output cell\n",
       "var outputEl = gd.closest('.output');\n",
       "if (outputEl) {{\n",
       "    x.observe(outputEl, {childList: true});\n",
       "}}\n",
       "\n",
       "                        })\n",
       "                };\n",
       "                });\n",
       "            </script>\n",
       "        </div>"
      ]
     },
     "metadata": {},
     "output_type": "display_data"
    }
   ],
   "source": [
    "# barplot\n",
    "df2.iplot(kind='bar',x='Category',y='Values')"
   ]
  },
  {
   "cell_type": "code",
   "execution_count": 21,
   "metadata": {},
   "outputs": [
    {
     "data": {
      "application/vnd.plotly.v1+json": {
       "config": {
        "linkText": "Export to plot.ly",
        "plotlyServerURL": "https://plot.ly",
        "showLink": true
       },
       "data": [
        {
         "marker": {
          "color": "rgba(255, 153, 51, 0.6)",
          "line": {
           "color": "rgba(255, 153, 51, 1.0)",
           "width": 1
          }
         },
         "name": "A",
         "orientation": "v",
         "text": "",
         "type": "bar",
         "x": [
          0,
          1,
          2,
          3,
          4,
          5,
          6,
          7,
          8,
          9,
          10,
          11,
          12,
          13,
          14,
          15,
          16,
          17,
          18,
          19,
          20,
          21,
          22,
          23,
          24,
          25,
          26,
          27,
          28,
          29,
          30,
          31,
          32,
          33,
          34,
          35,
          36,
          37,
          38,
          39,
          40,
          41,
          42,
          43,
          44,
          45,
          46,
          47,
          48,
          49,
          50,
          51,
          52,
          53,
          54,
          55,
          56,
          57,
          58,
          59,
          60,
          61,
          62,
          63,
          64,
          65,
          66,
          67,
          68,
          69,
          70,
          71,
          72,
          73,
          74,
          75,
          76,
          77,
          78,
          79,
          80,
          81,
          82,
          83,
          84,
          85,
          86,
          87,
          88,
          89,
          90,
          91,
          92,
          93,
          94,
          95,
          96,
          97,
          98,
          99
         ],
         "y": [
          0.48758791284167,
          -1.0945360538696463,
          -0.025109160636671034,
          0.5318438573072443,
          1.170821047816164,
          -1.0781069618216137,
          0.023929908721716072,
          -0.3341668073479446,
          0.15466770476350178,
          1.5446639151497434,
          1.4056054833842484,
          1.6261568763361154,
          -1.1227374435458701,
          0.28194097407828445,
          -0.682223671693977,
          -0.9562545728370384,
          -0.7209835661743308,
          -0.03317994654738412,
          0.5205553063310279,
          -1.1366028975811477,
          -0.9786485170200829,
          0.13548859544218975,
          -0.0009540853056883342,
          0.5979449535006777,
          1.1149531211625783,
          0.4283544325769933,
          -0.2411460571149065,
          -1.2870861552795327,
          0.03636844814017887,
          1.2075977330375478,
          -1.1535869763732076,
          1.0628415041799286,
          -1.0491639233442693,
          1.3811022114090363,
          -0.3613211905254392,
          -0.45890225542836116,
          -0.12162760141230262,
          -0.8396215800903595,
          -0.565381067065979,
          -3.4566182937067276,
          0.8993420377570022,
          0.2165974313829244,
          1.6103508033055005,
          0.0094913782519163,
          0.45531265282040323,
          0.6119558083278896,
          -0.2942946657226144,
          -1.2729657899992224,
          -0.3545189453227468,
          0.07805696223208544,
          -0.66178932419833,
          -1.6925420918465717,
          -0.1307554580410991,
          -0.39774105359567025,
          -1.516011865561858,
          -0.5391143165355534,
          -1.1142859655918813,
          1.0551320487656342,
          -0.5717178581500568,
          -0.1073076890360471,
          -1.5270560562106272,
          -0.7899843365922449,
          -0.6356350799456826,
          -0.41468126319261245,
          1.6781806287486598,
          -0.33874390881565875,
          0.18609602799409797,
          -1.2338502645280391,
          0.10345221635878635,
          0.6586971927026098,
          0.5813188464153145,
          1.3837115433387472,
          -0.29753261872603187,
          -1.6128956978544893,
          -1.103081913031465,
          -0.15162181863861388,
          0.7316627867109841,
          -0.8665646320585265,
          -1.701661298481288,
          1.596184275190892,
          0.14494608879711593,
          -0.41603294033322546,
          0.9563325173459639,
          -0.30156389581498877,
          0.926333185290943,
          0.6631382639673186,
          0.39152621569100776,
          -0.5826926583224311,
          0.6255130281637811,
          -0.21940433600962406,
          -0.9505295760532173,
          -0.10707435083175479,
          0.37504647253794426,
          -0.7821664392300294,
          1.213031390357866,
          -0.009994398016467693,
          0.9894948390200397,
          -1.647259086231465,
          0.9233657259667436,
          0.17155861516031895
         ]
        },
        {
         "marker": {
          "color": "rgba(55, 128, 191, 0.6)",
          "line": {
           "color": "rgba(55, 128, 191, 1.0)",
           "width": 1
          }
         },
         "name": "B",
         "orientation": "v",
         "text": "",
         "type": "bar",
         "x": [
          0,
          1,
          2,
          3,
          4,
          5,
          6,
          7,
          8,
          9,
          10,
          11,
          12,
          13,
          14,
          15,
          16,
          17,
          18,
          19,
          20,
          21,
          22,
          23,
          24,
          25,
          26,
          27,
          28,
          29,
          30,
          31,
          32,
          33,
          34,
          35,
          36,
          37,
          38,
          39,
          40,
          41,
          42,
          43,
          44,
          45,
          46,
          47,
          48,
          49,
          50,
          51,
          52,
          53,
          54,
          55,
          56,
          57,
          58,
          59,
          60,
          61,
          62,
          63,
          64,
          65,
          66,
          67,
          68,
          69,
          70,
          71,
          72,
          73,
          74,
          75,
          76,
          77,
          78,
          79,
          80,
          81,
          82,
          83,
          84,
          85,
          86,
          87,
          88,
          89,
          90,
          91,
          92,
          93,
          94,
          95,
          96,
          97,
          98,
          99
         ],
         "y": [
          -0.3260093462636492,
          0.24999368535084174,
          0.23529007756177991,
          1.497738301294124,
          -1.9235211183341405,
          -2.0300951821002418,
          -0.8026053432036195,
          -0.062102401082379945,
          0.5733134985509706,
          -0.028200152143247094,
          0.5457366836861638,
          1.9105677035222017,
          -1.8510783961436936,
          1.8936264586473475,
          0.8455161682358032,
          0.08530004905902606,
          1.15547970626262,
          0.33241678821461357,
          0.8973896937867161,
          0.19756270998312664,
          -0.5551208869803647,
          -0.7141539274695231,
          0.009781143871655847,
          -0.7963514852359374,
          0.18435114594596597,
          -0.7236122806767714,
          -0.6268367864953104,
          -1.0069813144186306,
          -0.5997263961705249,
          0.2218092724149917,
          -1.170188533181909,
          -0.7686459812838211,
          -0.5673983196078344,
          1.5249329961718672,
          -2.1774022163390523,
          -0.16736496395437145,
          1.0228620924991214,
          0.3910535831520817,
          1.728288848550678,
          -0.009405137671356954,
          0.9241988728738655,
          0.44155721095505096,
          -0.22054721336042088,
          0.5781436798174855,
          -1.290605550402523,
          -0.8219921260635391,
          0.6672891466109183,
          -1.0544087228560581,
          0.8576970417953911,
          1.4773492966329609,
          -0.37563342720144566,
          1.2771642094219255,
          1.4113133544016951,
          -0.29750095974408886,
          -0.3162064319347066,
          1.188528108737439,
          0.579601446889555,
          -1.7869180545292704,
          0.6597949108832315,
          -0.0001365483231869348,
          1.1812217654383987,
          -0.039242310036225546,
          0.055462809310465856,
          -0.26055519934982774,
          0.6725828725192213,
          -0.5868956518865107,
          -0.36545184706978795,
          0.9293783772779497,
          -1.12768298608976,
          -0.6802463660504389,
          1.0337663943479858,
          -0.11482295289181627,
          -0.050142642112852305,
          -0.7605981670708353,
          1.1776341864268012,
          -1.046185183818184,
          -0.7725793465552173,
          -0.19141931620324604,
          -0.5627311353208561,
          -0.6551472073374759,
          0.1682953138174061,
          -1.219605336933295,
          1.1676004025006497,
          -1.729816895327089,
          0.7124705106659508,
          1.5236894135662393,
          -1.6321268418409738,
          -0.7707520544200946,
          -0.05597956411105408,
          0.16633345555002213,
          1.3749075858226854,
          0.7668818323383592,
          1.2292117573820642,
          -0.09963937439980546,
          1.8913086287611742,
          -0.13916805496855586,
          -0.8661975302049588,
          0.011535216890753078,
          1.2450592447021642,
          -2.211752092799134
         ]
        },
        {
         "marker": {
          "color": "rgba(50, 171, 96, 0.6)",
          "line": {
           "color": "rgba(50, 171, 96, 1.0)",
           "width": 1
          }
         },
         "name": "C",
         "orientation": "v",
         "text": "",
         "type": "bar",
         "x": [
          0,
          1,
          2,
          3,
          4,
          5,
          6,
          7,
          8,
          9,
          10,
          11,
          12,
          13,
          14,
          15,
          16,
          17,
          18,
          19,
          20,
          21,
          22,
          23,
          24,
          25,
          26,
          27,
          28,
          29,
          30,
          31,
          32,
          33,
          34,
          35,
          36,
          37,
          38,
          39,
          40,
          41,
          42,
          43,
          44,
          45,
          46,
          47,
          48,
          49,
          50,
          51,
          52,
          53,
          54,
          55,
          56,
          57,
          58,
          59,
          60,
          61,
          62,
          63,
          64,
          65,
          66,
          67,
          68,
          69,
          70,
          71,
          72,
          73,
          74,
          75,
          76,
          77,
          78,
          79,
          80,
          81,
          82,
          83,
          84,
          85,
          86,
          87,
          88,
          89,
          90,
          91,
          92,
          93,
          94,
          95,
          96,
          97,
          98,
          99
         ],
         "y": [
          -0.9215737996680481,
          0.24257794495661747,
          0.28730374971215455,
          0.14040275264155666,
          -0.01454372243547929,
          0.5701479887456785,
          -0.5913889393179355,
          -0.5391923903512743,
          -0.1268109615054854,
          0.8330285935502711,
          -0.45887812076157464,
          -0.9098656132168144,
          0.30937887086993643,
          -1.3173769403479854,
          1.1390528635745454,
          -0.054313980526728284,
          -0.06345952949402739,
          -1.1848137236310903,
          0.07638907718243115,
          -0.7575403986569592,
          1.7111419842743498,
          0.27368305370590473,
          -0.14455085058261638,
          0.035816694898625955,
          0.21415107397239885,
          1.9934432737074155,
          0.25865489493566746,
          -2.311189157953442,
          0.6209601156744055,
          0.7504779554943947,
          0.09748343837697022,
          0.17482346528953707,
          0.5823900490090388,
          1.1176691088840645,
          -0.15595798168684122,
          -0.39505494965702165,
          -0.43222799923157496,
          -0.021203250326226684,
          1.536868590901801,
          0.8289905654680133,
          0.920122027822724,
          0.7552087906910285,
          -0.4435526780625535,
          0.7533509524104882,
          -0.3163692824277632,
          -1.3740015077056968,
          1.4844837012254757,
          1.6989196256086767,
          0.21383303878010604,
          0.8903447804836941,
          -0.4811875074025367,
          -0.4083018305349428,
          1.5122987569757786,
          -3.456495150976108,
          -0.5078588732223014,
          -0.19091788141284483,
          0.07076357456210358,
          -1.1408201971843714,
          1.8997545762062136,
          0.09703976302099852,
          0.039703654766854495,
          1.0494411955167449,
          0.029929215098847543,
          1.7940867369711784,
          -1.4870984274296137,
          -0.6874900617646675,
          1.4365266243030386,
          0.0230165236855401,
          -0.3063837206223713,
          -2.659682030893965,
          1.2274792247016022,
          0.3119932445595903,
          1.2018157112787466,
          0.5033149695523894,
          -0.01920839903472686,
          0.15679949048063785,
          0.12213403014052661,
          -0.12491818968818347,
          0.9322611703529357,
          -0.32080906005630394,
          -1.9843429087528304,
          -2.1117410103351584,
          -0.9971293003585686,
          1.2539711506249005,
          -0.9705376358440737,
          1.110380938606927,
          -0.9658677901361647,
          -1.3794425991471915,
          -0.18429815818266237,
          -2.4709888143236496,
          2.0947893798665924,
          -0.3557969469360339,
          0.5337181750396833,
          0.12295132345624875,
          1.425546310958585,
          0.1999557525436834,
          -1.293395493776135,
          1.221242082392363,
          -0.7800515940717015,
          -0.4455096834649943
         ]
        },
        {
         "marker": {
          "color": "rgba(128, 0, 128, 0.6)",
          "line": {
           "color": "rgba(128, 0, 128, 1.0)",
           "width": 1
          }
         },
         "name": "D",
         "orientation": "v",
         "text": "",
         "type": "bar",
         "x": [
          0,
          1,
          2,
          3,
          4,
          5,
          6,
          7,
          8,
          9,
          10,
          11,
          12,
          13,
          14,
          15,
          16,
          17,
          18,
          19,
          20,
          21,
          22,
          23,
          24,
          25,
          26,
          27,
          28,
          29,
          30,
          31,
          32,
          33,
          34,
          35,
          36,
          37,
          38,
          39,
          40,
          41,
          42,
          43,
          44,
          45,
          46,
          47,
          48,
          49,
          50,
          51,
          52,
          53,
          54,
          55,
          56,
          57,
          58,
          59,
          60,
          61,
          62,
          63,
          64,
          65,
          66,
          67,
          68,
          69,
          70,
          71,
          72,
          73,
          74,
          75,
          76,
          77,
          78,
          79,
          80,
          81,
          82,
          83,
          84,
          85,
          86,
          87,
          88,
          89,
          90,
          91,
          92,
          93,
          94,
          95,
          96,
          97,
          98,
          99
         ],
         "y": [
          -0.3732001785635488,
          0.02772057204258057,
          2.0780977673160814,
          1.3345213603864252,
          0.1694366973809169,
          -0.2684697638023764,
          -0.6082296092599212,
          0.6508892453079715,
          -0.4345062907402152,
          -0.5617920353885649,
          -0.587017228791666,
          -1.090602506962519,
          -0.47177082945853616,
          -0.5047968481345675,
          0.30674061235988115,
          -0.2580618267023648,
          1.213046387572064,
          -0.10336248572090953,
          1.2135641909949002,
          -0.29573781138810157,
          0.09265697441911201,
          1.181111268444659,
          0.9794260265187278,
          -0.2066609559336435,
          -1.4324849127349883,
          1.8973719521978711,
          -1.5770524954708642,
          -1.5233755285194996,
          -0.11954388695033413,
          0.408227044615286,
          -0.7943217801990868,
          -0.4074277029874315,
          -1.2964724531322758,
          1.3531820244255979,
          -0.10209548025668516,
          -3.962267411342711,
          0.3925374957693042,
          -1.5987574555527004,
          -0.015690786883268432,
          -1.3646431233639413,
          0.005367302494327931,
          -1.1544773552282033,
          0.6812441407429343,
          1.3980508128192732,
          -0.6960723365727628,
          0.8007104031685038,
          0.22814968085465678,
          0.39540184605719475,
          -0.6465850039640896,
          -0.49131677264646473,
          -1.7766857278277122,
          -0.5308430489637528,
          -0.4143386231020363,
          0.9564710084119504,
          -0.3110460476539002,
          1.8446499699453207,
          0.38994548400707324,
          -2.7684282902563084,
          -2.119079548307512,
          -0.1266261950522138,
          -0.45611608273969556,
          0.077912447832572,
          -0.21689984979054935,
          -0.7121695757676461,
          -0.3490408053170844,
          0.3906916972874522,
          -0.8297333159231602,
          -0.707490514149694,
          -1.2545296140226112,
          -0.05515145982340287,
          -0.40172092888359184,
          -1.8846250805252711,
          0.9566507481486777,
          1.6497778073533933,
          -1.4767802190660844,
          0.05283350103280196,
          -1.0329661785748872,
          0.5644947822224133,
          -3.2623765712883497,
          -0.050082748227648924,
          -0.31321634490070466,
          -1.0917145834668929,
          0.5450272060871032,
          -0.27725916223419866,
          -1.3544628542209094,
          -2.561107978279768,
          -0.29988417704474407,
          -0.08734822296629834,
          0.31378902477164194,
          -0.08316283323673339,
          -0.057673051473649005,
          -1.1827138584189956,
          -0.9354931234512995,
          0.5391231576807595,
          0.6683226564578738,
          1.4246185626652708,
          -0.250826647645536,
          -1.7472524156312297,
          0.0165326921674526,
          -0.07634791957043927
         ]
        }
       ],
       "layout": {
        "legend": {
         "bgcolor": "#F5F6F9",
         "font": {
          "color": "#4D5663"
         }
        },
        "paper_bgcolor": "#F5F6F9",
        "plot_bgcolor": "#F5F6F9",
        "template": {
         "data": {
          "bar": [
           {
            "error_x": {
             "color": "#2a3f5f"
            },
            "error_y": {
             "color": "#2a3f5f"
            },
            "marker": {
             "line": {
              "color": "#E5ECF6",
              "width": 0.5
             }
            },
            "type": "bar"
           }
          ],
          "barpolar": [
           {
            "marker": {
             "line": {
              "color": "#E5ECF6",
              "width": 0.5
             }
            },
            "type": "barpolar"
           }
          ],
          "carpet": [
           {
            "aaxis": {
             "endlinecolor": "#2a3f5f",
             "gridcolor": "white",
             "linecolor": "white",
             "minorgridcolor": "white",
             "startlinecolor": "#2a3f5f"
            },
            "baxis": {
             "endlinecolor": "#2a3f5f",
             "gridcolor": "white",
             "linecolor": "white",
             "minorgridcolor": "white",
             "startlinecolor": "#2a3f5f"
            },
            "type": "carpet"
           }
          ],
          "choropleth": [
           {
            "colorbar": {
             "outlinewidth": 0,
             "ticks": ""
            },
            "type": "choropleth"
           }
          ],
          "contour": [
           {
            "colorbar": {
             "outlinewidth": 0,
             "ticks": ""
            },
            "colorscale": [
             [
              0,
              "#0d0887"
             ],
             [
              0.1111111111111111,
              "#46039f"
             ],
             [
              0.2222222222222222,
              "#7201a8"
             ],
             [
              0.3333333333333333,
              "#9c179e"
             ],
             [
              0.4444444444444444,
              "#bd3786"
             ],
             [
              0.5555555555555556,
              "#d8576b"
             ],
             [
              0.6666666666666666,
              "#ed7953"
             ],
             [
              0.7777777777777778,
              "#fb9f3a"
             ],
             [
              0.8888888888888888,
              "#fdca26"
             ],
             [
              1,
              "#f0f921"
             ]
            ],
            "type": "contour"
           }
          ],
          "contourcarpet": [
           {
            "colorbar": {
             "outlinewidth": 0,
             "ticks": ""
            },
            "type": "contourcarpet"
           }
          ],
          "heatmap": [
           {
            "colorbar": {
             "outlinewidth": 0,
             "ticks": ""
            },
            "colorscale": [
             [
              0,
              "#0d0887"
             ],
             [
              0.1111111111111111,
              "#46039f"
             ],
             [
              0.2222222222222222,
              "#7201a8"
             ],
             [
              0.3333333333333333,
              "#9c179e"
             ],
             [
              0.4444444444444444,
              "#bd3786"
             ],
             [
              0.5555555555555556,
              "#d8576b"
             ],
             [
              0.6666666666666666,
              "#ed7953"
             ],
             [
              0.7777777777777778,
              "#fb9f3a"
             ],
             [
              0.8888888888888888,
              "#fdca26"
             ],
             [
              1,
              "#f0f921"
             ]
            ],
            "type": "heatmap"
           }
          ],
          "heatmapgl": [
           {
            "colorbar": {
             "outlinewidth": 0,
             "ticks": ""
            },
            "colorscale": [
             [
              0,
              "#0d0887"
             ],
             [
              0.1111111111111111,
              "#46039f"
             ],
             [
              0.2222222222222222,
              "#7201a8"
             ],
             [
              0.3333333333333333,
              "#9c179e"
             ],
             [
              0.4444444444444444,
              "#bd3786"
             ],
             [
              0.5555555555555556,
              "#d8576b"
             ],
             [
              0.6666666666666666,
              "#ed7953"
             ],
             [
              0.7777777777777778,
              "#fb9f3a"
             ],
             [
              0.8888888888888888,
              "#fdca26"
             ],
             [
              1,
              "#f0f921"
             ]
            ],
            "type": "heatmapgl"
           }
          ],
          "histogram": [
           {
            "marker": {
             "colorbar": {
              "outlinewidth": 0,
              "ticks": ""
             }
            },
            "type": "histogram"
           }
          ],
          "histogram2d": [
           {
            "colorbar": {
             "outlinewidth": 0,
             "ticks": ""
            },
            "colorscale": [
             [
              0,
              "#0d0887"
             ],
             [
              0.1111111111111111,
              "#46039f"
             ],
             [
              0.2222222222222222,
              "#7201a8"
             ],
             [
              0.3333333333333333,
              "#9c179e"
             ],
             [
              0.4444444444444444,
              "#bd3786"
             ],
             [
              0.5555555555555556,
              "#d8576b"
             ],
             [
              0.6666666666666666,
              "#ed7953"
             ],
             [
              0.7777777777777778,
              "#fb9f3a"
             ],
             [
              0.8888888888888888,
              "#fdca26"
             ],
             [
              1,
              "#f0f921"
             ]
            ],
            "type": "histogram2d"
           }
          ],
          "histogram2dcontour": [
           {
            "colorbar": {
             "outlinewidth": 0,
             "ticks": ""
            },
            "colorscale": [
             [
              0,
              "#0d0887"
             ],
             [
              0.1111111111111111,
              "#46039f"
             ],
             [
              0.2222222222222222,
              "#7201a8"
             ],
             [
              0.3333333333333333,
              "#9c179e"
             ],
             [
              0.4444444444444444,
              "#bd3786"
             ],
             [
              0.5555555555555556,
              "#d8576b"
             ],
             [
              0.6666666666666666,
              "#ed7953"
             ],
             [
              0.7777777777777778,
              "#fb9f3a"
             ],
             [
              0.8888888888888888,
              "#fdca26"
             ],
             [
              1,
              "#f0f921"
             ]
            ],
            "type": "histogram2dcontour"
           }
          ],
          "mesh3d": [
           {
            "colorbar": {
             "outlinewidth": 0,
             "ticks": ""
            },
            "type": "mesh3d"
           }
          ],
          "parcoords": [
           {
            "line": {
             "colorbar": {
              "outlinewidth": 0,
              "ticks": ""
             }
            },
            "type": "parcoords"
           }
          ],
          "pie": [
           {
            "automargin": true,
            "type": "pie"
           }
          ],
          "scatter": [
           {
            "marker": {
             "colorbar": {
              "outlinewidth": 0,
              "ticks": ""
             }
            },
            "type": "scatter"
           }
          ],
          "scatter3d": [
           {
            "line": {
             "colorbar": {
              "outlinewidth": 0,
              "ticks": ""
             }
            },
            "marker": {
             "colorbar": {
              "outlinewidth": 0,
              "ticks": ""
             }
            },
            "type": "scatter3d"
           }
          ],
          "scattercarpet": [
           {
            "marker": {
             "colorbar": {
              "outlinewidth": 0,
              "ticks": ""
             }
            },
            "type": "scattercarpet"
           }
          ],
          "scattergeo": [
           {
            "marker": {
             "colorbar": {
              "outlinewidth": 0,
              "ticks": ""
             }
            },
            "type": "scattergeo"
           }
          ],
          "scattergl": [
           {
            "marker": {
             "colorbar": {
              "outlinewidth": 0,
              "ticks": ""
             }
            },
            "type": "scattergl"
           }
          ],
          "scattermapbox": [
           {
            "marker": {
             "colorbar": {
              "outlinewidth": 0,
              "ticks": ""
             }
            },
            "type": "scattermapbox"
           }
          ],
          "scatterpolar": [
           {
            "marker": {
             "colorbar": {
              "outlinewidth": 0,
              "ticks": ""
             }
            },
            "type": "scatterpolar"
           }
          ],
          "scatterpolargl": [
           {
            "marker": {
             "colorbar": {
              "outlinewidth": 0,
              "ticks": ""
             }
            },
            "type": "scatterpolargl"
           }
          ],
          "scatterternary": [
           {
            "marker": {
             "colorbar": {
              "outlinewidth": 0,
              "ticks": ""
             }
            },
            "type": "scatterternary"
           }
          ],
          "surface": [
           {
            "colorbar": {
             "outlinewidth": 0,
             "ticks": ""
            },
            "colorscale": [
             [
              0,
              "#0d0887"
             ],
             [
              0.1111111111111111,
              "#46039f"
             ],
             [
              0.2222222222222222,
              "#7201a8"
             ],
             [
              0.3333333333333333,
              "#9c179e"
             ],
             [
              0.4444444444444444,
              "#bd3786"
             ],
             [
              0.5555555555555556,
              "#d8576b"
             ],
             [
              0.6666666666666666,
              "#ed7953"
             ],
             [
              0.7777777777777778,
              "#fb9f3a"
             ],
             [
              0.8888888888888888,
              "#fdca26"
             ],
             [
              1,
              "#f0f921"
             ]
            ],
            "type": "surface"
           }
          ],
          "table": [
           {
            "cells": {
             "fill": {
              "color": "#EBF0F8"
             },
             "line": {
              "color": "white"
             }
            },
            "header": {
             "fill": {
              "color": "#C8D4E3"
             },
             "line": {
              "color": "white"
             }
            },
            "type": "table"
           }
          ]
         },
         "layout": {
          "annotationdefaults": {
           "arrowcolor": "#2a3f5f",
           "arrowhead": 0,
           "arrowwidth": 1
          },
          "coloraxis": {
           "colorbar": {
            "outlinewidth": 0,
            "ticks": ""
           }
          },
          "colorscale": {
           "diverging": [
            [
             0,
             "#8e0152"
            ],
            [
             0.1,
             "#c51b7d"
            ],
            [
             0.2,
             "#de77ae"
            ],
            [
             0.3,
             "#f1b6da"
            ],
            [
             0.4,
             "#fde0ef"
            ],
            [
             0.5,
             "#f7f7f7"
            ],
            [
             0.6,
             "#e6f5d0"
            ],
            [
             0.7,
             "#b8e186"
            ],
            [
             0.8,
             "#7fbc41"
            ],
            [
             0.9,
             "#4d9221"
            ],
            [
             1,
             "#276419"
            ]
           ],
           "sequential": [
            [
             0,
             "#0d0887"
            ],
            [
             0.1111111111111111,
             "#46039f"
            ],
            [
             0.2222222222222222,
             "#7201a8"
            ],
            [
             0.3333333333333333,
             "#9c179e"
            ],
            [
             0.4444444444444444,
             "#bd3786"
            ],
            [
             0.5555555555555556,
             "#d8576b"
            ],
            [
             0.6666666666666666,
             "#ed7953"
            ],
            [
             0.7777777777777778,
             "#fb9f3a"
            ],
            [
             0.8888888888888888,
             "#fdca26"
            ],
            [
             1,
             "#f0f921"
            ]
           ],
           "sequentialminus": [
            [
             0,
             "#0d0887"
            ],
            [
             0.1111111111111111,
             "#46039f"
            ],
            [
             0.2222222222222222,
             "#7201a8"
            ],
            [
             0.3333333333333333,
             "#9c179e"
            ],
            [
             0.4444444444444444,
             "#bd3786"
            ],
            [
             0.5555555555555556,
             "#d8576b"
            ],
            [
             0.6666666666666666,
             "#ed7953"
            ],
            [
             0.7777777777777778,
             "#fb9f3a"
            ],
            [
             0.8888888888888888,
             "#fdca26"
            ],
            [
             1,
             "#f0f921"
            ]
           ]
          },
          "colorway": [
           "#636efa",
           "#EF553B",
           "#00cc96",
           "#ab63fa",
           "#FFA15A",
           "#19d3f3",
           "#FF6692",
           "#B6E880",
           "#FF97FF",
           "#FECB52"
          ],
          "font": {
           "color": "#2a3f5f"
          },
          "geo": {
           "bgcolor": "white",
           "lakecolor": "white",
           "landcolor": "#E5ECF6",
           "showlakes": true,
           "showland": true,
           "subunitcolor": "white"
          },
          "hoverlabel": {
           "align": "left"
          },
          "hovermode": "closest",
          "mapbox": {
           "style": "light"
          },
          "paper_bgcolor": "white",
          "plot_bgcolor": "#E5ECF6",
          "polar": {
           "angularaxis": {
            "gridcolor": "white",
            "linecolor": "white",
            "ticks": ""
           },
           "bgcolor": "#E5ECF6",
           "radialaxis": {
            "gridcolor": "white",
            "linecolor": "white",
            "ticks": ""
           }
          },
          "scene": {
           "xaxis": {
            "backgroundcolor": "#E5ECF6",
            "gridcolor": "white",
            "gridwidth": 2,
            "linecolor": "white",
            "showbackground": true,
            "ticks": "",
            "zerolinecolor": "white"
           },
           "yaxis": {
            "backgroundcolor": "#E5ECF6",
            "gridcolor": "white",
            "gridwidth": 2,
            "linecolor": "white",
            "showbackground": true,
            "ticks": "",
            "zerolinecolor": "white"
           },
           "zaxis": {
            "backgroundcolor": "#E5ECF6",
            "gridcolor": "white",
            "gridwidth": 2,
            "linecolor": "white",
            "showbackground": true,
            "ticks": "",
            "zerolinecolor": "white"
           }
          },
          "shapedefaults": {
           "line": {
            "color": "#2a3f5f"
           }
          },
          "ternary": {
           "aaxis": {
            "gridcolor": "white",
            "linecolor": "white",
            "ticks": ""
           },
           "baxis": {
            "gridcolor": "white",
            "linecolor": "white",
            "ticks": ""
           },
           "bgcolor": "#E5ECF6",
           "caxis": {
            "gridcolor": "white",
            "linecolor": "white",
            "ticks": ""
           }
          },
          "title": {
           "x": 0.05
          },
          "xaxis": {
           "automargin": true,
           "gridcolor": "white",
           "linecolor": "white",
           "ticks": "",
           "title": {
            "standoff": 15
           },
           "zerolinecolor": "white",
           "zerolinewidth": 2
          },
          "yaxis": {
           "automargin": true,
           "gridcolor": "white",
           "linecolor": "white",
           "ticks": "",
           "title": {
            "standoff": 15
           },
           "zerolinecolor": "white",
           "zerolinewidth": 2
          }
         }
        },
        "title": {
         "font": {
          "color": "#4D5663"
         }
        },
        "xaxis": {
         "gridcolor": "#E1E5ED",
         "showgrid": true,
         "tickfont": {
          "color": "#4D5663"
         },
         "title": {
          "font": {
           "color": "#4D5663"
          },
          "text": ""
         },
         "zerolinecolor": "#E1E5ED"
        },
        "yaxis": {
         "gridcolor": "#E1E5ED",
         "showgrid": true,
         "tickfont": {
          "color": "#4D5663"
         },
         "title": {
          "font": {
           "color": "#4D5663"
          },
          "text": ""
         },
         "zerolinecolor": "#E1E5ED"
        }
       }
      },
      "text/html": [
       "<div>\n",
       "        \n",
       "        \n",
       "            <div id=\"677ad369-d9fb-4768-bb18-15c025b142a4\" class=\"plotly-graph-div\" style=\"height:525px; width:100%;\"></div>\n",
       "            <script type=\"text/javascript\">\n",
       "                require([\"plotly\"], function(Plotly) {\n",
       "                    window.PLOTLYENV=window.PLOTLYENV || {};\n",
       "                    window.PLOTLYENV.BASE_URL='https://plot.ly';\n",
       "                    \n",
       "                if (document.getElementById(\"677ad369-d9fb-4768-bb18-15c025b142a4\")) {\n",
       "                    Plotly.newPlot(\n",
       "                        '677ad369-d9fb-4768-bb18-15c025b142a4',\n",
       "                        [{\"marker\": {\"color\": \"rgba(255, 153, 51, 0.6)\", \"line\": {\"color\": \"rgba(255, 153, 51, 1.0)\", \"width\": 1}}, \"name\": \"A\", \"orientation\": \"v\", \"text\": \"\", \"type\": \"bar\", \"x\": [0, 1, 2, 3, 4, 5, 6, 7, 8, 9, 10, 11, 12, 13, 14, 15, 16, 17, 18, 19, 20, 21, 22, 23, 24, 25, 26, 27, 28, 29, 30, 31, 32, 33, 34, 35, 36, 37, 38, 39, 40, 41, 42, 43, 44, 45, 46, 47, 48, 49, 50, 51, 52, 53, 54, 55, 56, 57, 58, 59, 60, 61, 62, 63, 64, 65, 66, 67, 68, 69, 70, 71, 72, 73, 74, 75, 76, 77, 78, 79, 80, 81, 82, 83, 84, 85, 86, 87, 88, 89, 90, 91, 92, 93, 94, 95, 96, 97, 98, 99], \"y\": [0.48758791284167, -1.0945360538696463, -0.025109160636671034, 0.5318438573072443, 1.170821047816164, -1.0781069618216137, 0.023929908721716072, -0.3341668073479446, 0.15466770476350178, 1.5446639151497434, 1.4056054833842484, 1.6261568763361154, -1.1227374435458701, 0.28194097407828445, -0.682223671693977, -0.9562545728370384, -0.7209835661743308, -0.03317994654738412, 0.5205553063310279, -1.1366028975811477, -0.9786485170200829, 0.13548859544218975, -0.0009540853056883342, 0.5979449535006777, 1.1149531211625783, 0.4283544325769933, -0.2411460571149065, -1.2870861552795327, 0.03636844814017887, 1.2075977330375478, -1.1535869763732076, 1.0628415041799286, -1.0491639233442693, 1.3811022114090363, -0.3613211905254392, -0.45890225542836116, -0.12162760141230262, -0.8396215800903595, -0.565381067065979, -3.4566182937067276, 0.8993420377570022, 0.2165974313829244, 1.6103508033055005, 0.0094913782519163, 0.45531265282040323, 0.6119558083278896, -0.2942946657226144, -1.2729657899992224, -0.3545189453227468, 0.07805696223208544, -0.66178932419833, -1.6925420918465717, -0.1307554580410991, -0.39774105359567025, -1.516011865561858, -0.5391143165355534, -1.1142859655918813, 1.0551320487656342, -0.5717178581500568, -0.1073076890360471, -1.5270560562106272, -0.7899843365922449, -0.6356350799456826, -0.41468126319261245, 1.6781806287486598, -0.33874390881565875, 0.18609602799409797, -1.2338502645280391, 0.10345221635878635, 0.6586971927026098, 0.5813188464153145, 1.3837115433387472, -0.29753261872603187, -1.6128956978544893, -1.103081913031465, -0.15162181863861388, 0.7316627867109841, -0.8665646320585265, -1.701661298481288, 1.596184275190892, 0.14494608879711593, -0.41603294033322546, 0.9563325173459639, -0.30156389581498877, 0.926333185290943, 0.6631382639673186, 0.39152621569100776, -0.5826926583224311, 0.6255130281637811, -0.21940433600962406, -0.9505295760532173, -0.10707435083175479, 0.37504647253794426, -0.7821664392300294, 1.213031390357866, -0.009994398016467693, 0.9894948390200397, -1.647259086231465, 0.9233657259667436, 0.17155861516031895]}, {\"marker\": {\"color\": \"rgba(55, 128, 191, 0.6)\", \"line\": {\"color\": \"rgba(55, 128, 191, 1.0)\", \"width\": 1}}, \"name\": \"B\", \"orientation\": \"v\", \"text\": \"\", \"type\": \"bar\", \"x\": [0, 1, 2, 3, 4, 5, 6, 7, 8, 9, 10, 11, 12, 13, 14, 15, 16, 17, 18, 19, 20, 21, 22, 23, 24, 25, 26, 27, 28, 29, 30, 31, 32, 33, 34, 35, 36, 37, 38, 39, 40, 41, 42, 43, 44, 45, 46, 47, 48, 49, 50, 51, 52, 53, 54, 55, 56, 57, 58, 59, 60, 61, 62, 63, 64, 65, 66, 67, 68, 69, 70, 71, 72, 73, 74, 75, 76, 77, 78, 79, 80, 81, 82, 83, 84, 85, 86, 87, 88, 89, 90, 91, 92, 93, 94, 95, 96, 97, 98, 99], \"y\": [-0.3260093462636492, 0.24999368535084174, 0.23529007756177991, 1.497738301294124, -1.9235211183341405, -2.0300951821002418, -0.8026053432036195, -0.062102401082379945, 0.5733134985509706, -0.028200152143247094, 0.5457366836861638, 1.9105677035222017, -1.8510783961436936, 1.8936264586473475, 0.8455161682358032, 0.08530004905902606, 1.15547970626262, 0.33241678821461357, 0.8973896937867161, 0.19756270998312664, -0.5551208869803647, -0.7141539274695231, 0.009781143871655847, -0.7963514852359374, 0.18435114594596597, -0.7236122806767714, -0.6268367864953104, -1.0069813144186306, -0.5997263961705249, 0.2218092724149917, -1.170188533181909, -0.7686459812838211, -0.5673983196078344, 1.5249329961718672, -2.1774022163390523, -0.16736496395437145, 1.0228620924991214, 0.3910535831520817, 1.728288848550678, -0.009405137671356954, 0.9241988728738655, 0.44155721095505096, -0.22054721336042088, 0.5781436798174855, -1.290605550402523, -0.8219921260635391, 0.6672891466109183, -1.0544087228560581, 0.8576970417953911, 1.4773492966329609, -0.37563342720144566, 1.2771642094219255, 1.4113133544016951, -0.29750095974408886, -0.3162064319347066, 1.188528108737439, 0.579601446889555, -1.7869180545292704, 0.6597949108832315, -0.0001365483231869348, 1.1812217654383987, -0.039242310036225546, 0.055462809310465856, -0.26055519934982774, 0.6725828725192213, -0.5868956518865107, -0.36545184706978795, 0.9293783772779497, -1.12768298608976, -0.6802463660504389, 1.0337663943479858, -0.11482295289181627, -0.050142642112852305, -0.7605981670708353, 1.1776341864268012, -1.046185183818184, -0.7725793465552173, -0.19141931620324604, -0.5627311353208561, -0.6551472073374759, 0.1682953138174061, -1.219605336933295, 1.1676004025006497, -1.729816895327089, 0.7124705106659508, 1.5236894135662393, -1.6321268418409738, -0.7707520544200946, -0.05597956411105408, 0.16633345555002213, 1.3749075858226854, 0.7668818323383592, 1.2292117573820642, -0.09963937439980546, 1.8913086287611742, -0.13916805496855586, -0.8661975302049588, 0.011535216890753078, 1.2450592447021642, -2.211752092799134]}, {\"marker\": {\"color\": \"rgba(50, 171, 96, 0.6)\", \"line\": {\"color\": \"rgba(50, 171, 96, 1.0)\", \"width\": 1}}, \"name\": \"C\", \"orientation\": \"v\", \"text\": \"\", \"type\": \"bar\", \"x\": [0, 1, 2, 3, 4, 5, 6, 7, 8, 9, 10, 11, 12, 13, 14, 15, 16, 17, 18, 19, 20, 21, 22, 23, 24, 25, 26, 27, 28, 29, 30, 31, 32, 33, 34, 35, 36, 37, 38, 39, 40, 41, 42, 43, 44, 45, 46, 47, 48, 49, 50, 51, 52, 53, 54, 55, 56, 57, 58, 59, 60, 61, 62, 63, 64, 65, 66, 67, 68, 69, 70, 71, 72, 73, 74, 75, 76, 77, 78, 79, 80, 81, 82, 83, 84, 85, 86, 87, 88, 89, 90, 91, 92, 93, 94, 95, 96, 97, 98, 99], \"y\": [-0.9215737996680481, 0.24257794495661747, 0.28730374971215455, 0.14040275264155666, -0.01454372243547929, 0.5701479887456785, -0.5913889393179355, -0.5391923903512743, -0.1268109615054854, 0.8330285935502711, -0.45887812076157464, -0.9098656132168144, 0.30937887086993643, -1.3173769403479854, 1.1390528635745454, -0.054313980526728284, -0.06345952949402739, -1.1848137236310903, 0.07638907718243115, -0.7575403986569592, 1.7111419842743498, 0.27368305370590473, -0.14455085058261638, 0.035816694898625955, 0.21415107397239885, 1.9934432737074155, 0.25865489493566746, -2.311189157953442, 0.6209601156744055, 0.7504779554943947, 0.09748343837697022, 0.17482346528953707, 0.5823900490090388, 1.1176691088840645, -0.15595798168684122, -0.39505494965702165, -0.43222799923157496, -0.021203250326226684, 1.536868590901801, 0.8289905654680133, 0.920122027822724, 0.7552087906910285, -0.4435526780625535, 0.7533509524104882, -0.3163692824277632, -1.3740015077056968, 1.4844837012254757, 1.6989196256086767, 0.21383303878010604, 0.8903447804836941, -0.4811875074025367, -0.4083018305349428, 1.5122987569757786, -3.456495150976108, -0.5078588732223014, -0.19091788141284483, 0.07076357456210358, -1.1408201971843714, 1.8997545762062136, 0.09703976302099852, 0.039703654766854495, 1.0494411955167449, 0.029929215098847543, 1.7940867369711784, -1.4870984274296137, -0.6874900617646675, 1.4365266243030386, 0.0230165236855401, -0.3063837206223713, -2.659682030893965, 1.2274792247016022, 0.3119932445595903, 1.2018157112787466, 0.5033149695523894, -0.01920839903472686, 0.15679949048063785, 0.12213403014052661, -0.12491818968818347, 0.9322611703529357, -0.32080906005630394, -1.9843429087528304, -2.1117410103351584, -0.9971293003585686, 1.2539711506249005, -0.9705376358440737, 1.110380938606927, -0.9658677901361647, -1.3794425991471915, -0.18429815818266237, -2.4709888143236496, 2.0947893798665924, -0.3557969469360339, 0.5337181750396833, 0.12295132345624875, 1.425546310958585, 0.1999557525436834, -1.293395493776135, 1.221242082392363, -0.7800515940717015, -0.4455096834649943]}, {\"marker\": {\"color\": \"rgba(128, 0, 128, 0.6)\", \"line\": {\"color\": \"rgba(128, 0, 128, 1.0)\", \"width\": 1}}, \"name\": \"D\", \"orientation\": \"v\", \"text\": \"\", \"type\": \"bar\", \"x\": [0, 1, 2, 3, 4, 5, 6, 7, 8, 9, 10, 11, 12, 13, 14, 15, 16, 17, 18, 19, 20, 21, 22, 23, 24, 25, 26, 27, 28, 29, 30, 31, 32, 33, 34, 35, 36, 37, 38, 39, 40, 41, 42, 43, 44, 45, 46, 47, 48, 49, 50, 51, 52, 53, 54, 55, 56, 57, 58, 59, 60, 61, 62, 63, 64, 65, 66, 67, 68, 69, 70, 71, 72, 73, 74, 75, 76, 77, 78, 79, 80, 81, 82, 83, 84, 85, 86, 87, 88, 89, 90, 91, 92, 93, 94, 95, 96, 97, 98, 99], \"y\": [-0.3732001785635488, 0.02772057204258057, 2.0780977673160814, 1.3345213603864252, 0.1694366973809169, -0.2684697638023764, -0.6082296092599212, 0.6508892453079715, -0.4345062907402152, -0.5617920353885649, -0.587017228791666, -1.090602506962519, -0.47177082945853616, -0.5047968481345675, 0.30674061235988115, -0.2580618267023648, 1.213046387572064, -0.10336248572090953, 1.2135641909949002, -0.29573781138810157, 0.09265697441911201, 1.181111268444659, 0.9794260265187278, -0.2066609559336435, -1.4324849127349883, 1.8973719521978711, -1.5770524954708642, -1.5233755285194996, -0.11954388695033413, 0.408227044615286, -0.7943217801990868, -0.4074277029874315, -1.2964724531322758, 1.3531820244255979, -0.10209548025668516, -3.962267411342711, 0.3925374957693042, -1.5987574555527004, -0.015690786883268432, -1.3646431233639413, 0.005367302494327931, -1.1544773552282033, 0.6812441407429343, 1.3980508128192732, -0.6960723365727628, 0.8007104031685038, 0.22814968085465678, 0.39540184605719475, -0.6465850039640896, -0.49131677264646473, -1.7766857278277122, -0.5308430489637528, -0.4143386231020363, 0.9564710084119504, -0.3110460476539002, 1.8446499699453207, 0.38994548400707324, -2.7684282902563084, -2.119079548307512, -0.1266261950522138, -0.45611608273969556, 0.077912447832572, -0.21689984979054935, -0.7121695757676461, -0.3490408053170844, 0.3906916972874522, -0.8297333159231602, -0.707490514149694, -1.2545296140226112, -0.05515145982340287, -0.40172092888359184, -1.8846250805252711, 0.9566507481486777, 1.6497778073533933, -1.4767802190660844, 0.05283350103280196, -1.0329661785748872, 0.5644947822224133, -3.2623765712883497, -0.050082748227648924, -0.31321634490070466, -1.0917145834668929, 0.5450272060871032, -0.27725916223419866, -1.3544628542209094, -2.561107978279768, -0.29988417704474407, -0.08734822296629834, 0.31378902477164194, -0.08316283323673339, -0.057673051473649005, -1.1827138584189956, -0.9354931234512995, 0.5391231576807595, 0.6683226564578738, 1.4246185626652708, -0.250826647645536, -1.7472524156312297, 0.0165326921674526, -0.07634791957043927]}],\n",
       "                        {\"legend\": {\"bgcolor\": \"#F5F6F9\", \"font\": {\"color\": \"#4D5663\"}}, \"paper_bgcolor\": \"#F5F6F9\", \"plot_bgcolor\": \"#F5F6F9\", \"template\": {\"data\": {\"bar\": [{\"error_x\": {\"color\": \"#2a3f5f\"}, \"error_y\": {\"color\": \"#2a3f5f\"}, \"marker\": {\"line\": {\"color\": \"#E5ECF6\", \"width\": 0.5}}, \"type\": \"bar\"}], \"barpolar\": [{\"marker\": {\"line\": {\"color\": \"#E5ECF6\", \"width\": 0.5}}, \"type\": \"barpolar\"}], \"carpet\": [{\"aaxis\": {\"endlinecolor\": \"#2a3f5f\", \"gridcolor\": \"white\", \"linecolor\": \"white\", \"minorgridcolor\": \"white\", \"startlinecolor\": \"#2a3f5f\"}, \"baxis\": {\"endlinecolor\": \"#2a3f5f\", \"gridcolor\": \"white\", \"linecolor\": \"white\", \"minorgridcolor\": \"white\", \"startlinecolor\": \"#2a3f5f\"}, \"type\": \"carpet\"}], \"choropleth\": [{\"colorbar\": {\"outlinewidth\": 0, \"ticks\": \"\"}, \"type\": \"choropleth\"}], \"contour\": [{\"colorbar\": {\"outlinewidth\": 0, \"ticks\": \"\"}, \"colorscale\": [[0.0, \"#0d0887\"], [0.1111111111111111, \"#46039f\"], [0.2222222222222222, \"#7201a8\"], [0.3333333333333333, \"#9c179e\"], [0.4444444444444444, \"#bd3786\"], [0.5555555555555556, \"#d8576b\"], [0.6666666666666666, \"#ed7953\"], [0.7777777777777778, \"#fb9f3a\"], [0.8888888888888888, \"#fdca26\"], [1.0, \"#f0f921\"]], \"type\": \"contour\"}], \"contourcarpet\": [{\"colorbar\": {\"outlinewidth\": 0, \"ticks\": \"\"}, \"type\": \"contourcarpet\"}], \"heatmap\": [{\"colorbar\": {\"outlinewidth\": 0, \"ticks\": \"\"}, \"colorscale\": [[0.0, \"#0d0887\"], [0.1111111111111111, \"#46039f\"], [0.2222222222222222, \"#7201a8\"], [0.3333333333333333, \"#9c179e\"], [0.4444444444444444, \"#bd3786\"], [0.5555555555555556, \"#d8576b\"], [0.6666666666666666, \"#ed7953\"], [0.7777777777777778, \"#fb9f3a\"], [0.8888888888888888, \"#fdca26\"], [1.0, \"#f0f921\"]], \"type\": \"heatmap\"}], \"heatmapgl\": [{\"colorbar\": {\"outlinewidth\": 0, \"ticks\": \"\"}, \"colorscale\": [[0.0, \"#0d0887\"], [0.1111111111111111, \"#46039f\"], [0.2222222222222222, \"#7201a8\"], [0.3333333333333333, \"#9c179e\"], [0.4444444444444444, \"#bd3786\"], [0.5555555555555556, \"#d8576b\"], [0.6666666666666666, \"#ed7953\"], [0.7777777777777778, \"#fb9f3a\"], [0.8888888888888888, \"#fdca26\"], [1.0, \"#f0f921\"]], \"type\": \"heatmapgl\"}], \"histogram\": [{\"marker\": {\"colorbar\": {\"outlinewidth\": 0, \"ticks\": \"\"}}, \"type\": \"histogram\"}], \"histogram2d\": [{\"colorbar\": {\"outlinewidth\": 0, \"ticks\": \"\"}, \"colorscale\": [[0.0, \"#0d0887\"], [0.1111111111111111, \"#46039f\"], [0.2222222222222222, \"#7201a8\"], [0.3333333333333333, \"#9c179e\"], [0.4444444444444444, \"#bd3786\"], [0.5555555555555556, \"#d8576b\"], [0.6666666666666666, \"#ed7953\"], [0.7777777777777778, \"#fb9f3a\"], [0.8888888888888888, \"#fdca26\"], [1.0, \"#f0f921\"]], \"type\": \"histogram2d\"}], \"histogram2dcontour\": [{\"colorbar\": {\"outlinewidth\": 0, \"ticks\": \"\"}, \"colorscale\": [[0.0, \"#0d0887\"], [0.1111111111111111, \"#46039f\"], [0.2222222222222222, \"#7201a8\"], [0.3333333333333333, \"#9c179e\"], [0.4444444444444444, \"#bd3786\"], [0.5555555555555556, \"#d8576b\"], [0.6666666666666666, \"#ed7953\"], [0.7777777777777778, \"#fb9f3a\"], [0.8888888888888888, \"#fdca26\"], [1.0, \"#f0f921\"]], \"type\": \"histogram2dcontour\"}], \"mesh3d\": [{\"colorbar\": {\"outlinewidth\": 0, \"ticks\": \"\"}, \"type\": \"mesh3d\"}], \"parcoords\": [{\"line\": {\"colorbar\": {\"outlinewidth\": 0, \"ticks\": \"\"}}, \"type\": \"parcoords\"}], \"pie\": [{\"automargin\": true, \"type\": \"pie\"}], \"scatter\": [{\"marker\": {\"colorbar\": {\"outlinewidth\": 0, \"ticks\": \"\"}}, \"type\": \"scatter\"}], \"scatter3d\": [{\"line\": {\"colorbar\": {\"outlinewidth\": 0, \"ticks\": \"\"}}, \"marker\": {\"colorbar\": {\"outlinewidth\": 0, \"ticks\": \"\"}}, \"type\": \"scatter3d\"}], \"scattercarpet\": [{\"marker\": {\"colorbar\": {\"outlinewidth\": 0, \"ticks\": \"\"}}, \"type\": \"scattercarpet\"}], \"scattergeo\": [{\"marker\": {\"colorbar\": {\"outlinewidth\": 0, \"ticks\": \"\"}}, \"type\": \"scattergeo\"}], \"scattergl\": [{\"marker\": {\"colorbar\": {\"outlinewidth\": 0, \"ticks\": \"\"}}, \"type\": \"scattergl\"}], \"scattermapbox\": [{\"marker\": {\"colorbar\": {\"outlinewidth\": 0, \"ticks\": \"\"}}, \"type\": \"scattermapbox\"}], \"scatterpolar\": [{\"marker\": {\"colorbar\": {\"outlinewidth\": 0, \"ticks\": \"\"}}, \"type\": \"scatterpolar\"}], \"scatterpolargl\": [{\"marker\": {\"colorbar\": {\"outlinewidth\": 0, \"ticks\": \"\"}}, \"type\": \"scatterpolargl\"}], \"scatterternary\": [{\"marker\": {\"colorbar\": {\"outlinewidth\": 0, \"ticks\": \"\"}}, \"type\": \"scatterternary\"}], \"surface\": [{\"colorbar\": {\"outlinewidth\": 0, \"ticks\": \"\"}, \"colorscale\": [[0.0, \"#0d0887\"], [0.1111111111111111, \"#46039f\"], [0.2222222222222222, \"#7201a8\"], [0.3333333333333333, \"#9c179e\"], [0.4444444444444444, \"#bd3786\"], [0.5555555555555556, \"#d8576b\"], [0.6666666666666666, \"#ed7953\"], [0.7777777777777778, \"#fb9f3a\"], [0.8888888888888888, \"#fdca26\"], [1.0, \"#f0f921\"]], \"type\": \"surface\"}], \"table\": [{\"cells\": {\"fill\": {\"color\": \"#EBF0F8\"}, \"line\": {\"color\": \"white\"}}, \"header\": {\"fill\": {\"color\": \"#C8D4E3\"}, \"line\": {\"color\": \"white\"}}, \"type\": \"table\"}]}, \"layout\": {\"annotationdefaults\": {\"arrowcolor\": \"#2a3f5f\", \"arrowhead\": 0, \"arrowwidth\": 1}, \"coloraxis\": {\"colorbar\": {\"outlinewidth\": 0, \"ticks\": \"\"}}, \"colorscale\": {\"diverging\": [[0, \"#8e0152\"], [0.1, \"#c51b7d\"], [0.2, \"#de77ae\"], [0.3, \"#f1b6da\"], [0.4, \"#fde0ef\"], [0.5, \"#f7f7f7\"], [0.6, \"#e6f5d0\"], [0.7, \"#b8e186\"], [0.8, \"#7fbc41\"], [0.9, \"#4d9221\"], [1, \"#276419\"]], \"sequential\": [[0.0, \"#0d0887\"], [0.1111111111111111, \"#46039f\"], [0.2222222222222222, \"#7201a8\"], [0.3333333333333333, \"#9c179e\"], [0.4444444444444444, \"#bd3786\"], [0.5555555555555556, \"#d8576b\"], [0.6666666666666666, \"#ed7953\"], [0.7777777777777778, \"#fb9f3a\"], [0.8888888888888888, \"#fdca26\"], [1.0, \"#f0f921\"]], \"sequentialminus\": [[0.0, \"#0d0887\"], [0.1111111111111111, \"#46039f\"], [0.2222222222222222, \"#7201a8\"], [0.3333333333333333, \"#9c179e\"], [0.4444444444444444, \"#bd3786\"], [0.5555555555555556, \"#d8576b\"], [0.6666666666666666, \"#ed7953\"], [0.7777777777777778, \"#fb9f3a\"], [0.8888888888888888, \"#fdca26\"], [1.0, \"#f0f921\"]]}, \"colorway\": [\"#636efa\", \"#EF553B\", \"#00cc96\", \"#ab63fa\", \"#FFA15A\", \"#19d3f3\", \"#FF6692\", \"#B6E880\", \"#FF97FF\", \"#FECB52\"], \"font\": {\"color\": \"#2a3f5f\"}, \"geo\": {\"bgcolor\": \"white\", \"lakecolor\": \"white\", \"landcolor\": \"#E5ECF6\", \"showlakes\": true, \"showland\": true, \"subunitcolor\": \"white\"}, \"hoverlabel\": {\"align\": \"left\"}, \"hovermode\": \"closest\", \"mapbox\": {\"style\": \"light\"}, \"paper_bgcolor\": \"white\", \"plot_bgcolor\": \"#E5ECF6\", \"polar\": {\"angularaxis\": {\"gridcolor\": \"white\", \"linecolor\": \"white\", \"ticks\": \"\"}, \"bgcolor\": \"#E5ECF6\", \"radialaxis\": {\"gridcolor\": \"white\", \"linecolor\": \"white\", \"ticks\": \"\"}}, \"scene\": {\"xaxis\": {\"backgroundcolor\": \"#E5ECF6\", \"gridcolor\": \"white\", \"gridwidth\": 2, \"linecolor\": \"white\", \"showbackground\": true, \"ticks\": \"\", \"zerolinecolor\": \"white\"}, \"yaxis\": {\"backgroundcolor\": \"#E5ECF6\", \"gridcolor\": \"white\", \"gridwidth\": 2, \"linecolor\": \"white\", \"showbackground\": true, \"ticks\": \"\", \"zerolinecolor\": \"white\"}, \"zaxis\": {\"backgroundcolor\": \"#E5ECF6\", \"gridcolor\": \"white\", \"gridwidth\": 2, \"linecolor\": \"white\", \"showbackground\": true, \"ticks\": \"\", \"zerolinecolor\": \"white\"}}, \"shapedefaults\": {\"line\": {\"color\": \"#2a3f5f\"}}, \"ternary\": {\"aaxis\": {\"gridcolor\": \"white\", \"linecolor\": \"white\", \"ticks\": \"\"}, \"baxis\": {\"gridcolor\": \"white\", \"linecolor\": \"white\", \"ticks\": \"\"}, \"bgcolor\": \"#E5ECF6\", \"caxis\": {\"gridcolor\": \"white\", \"linecolor\": \"white\", \"ticks\": \"\"}}, \"title\": {\"x\": 0.05}, \"xaxis\": {\"automargin\": true, \"gridcolor\": \"white\", \"linecolor\": \"white\", \"ticks\": \"\", \"title\": {\"standoff\": 15}, \"zerolinecolor\": \"white\", \"zerolinewidth\": 2}, \"yaxis\": {\"automargin\": true, \"gridcolor\": \"white\", \"linecolor\": \"white\", \"ticks\": \"\", \"title\": {\"standoff\": 15}, \"zerolinecolor\": \"white\", \"zerolinewidth\": 2}}}, \"title\": {\"font\": {\"color\": \"#4D5663\"}}, \"xaxis\": {\"gridcolor\": \"#E1E5ED\", \"showgrid\": true, \"tickfont\": {\"color\": \"#4D5663\"}, \"title\": {\"font\": {\"color\": \"#4D5663\"}, \"text\": \"\"}, \"zerolinecolor\": \"#E1E5ED\"}, \"yaxis\": {\"gridcolor\": \"#E1E5ED\", \"showgrid\": true, \"tickfont\": {\"color\": \"#4D5663\"}, \"title\": {\"font\": {\"color\": \"#4D5663\"}, \"text\": \"\"}, \"zerolinecolor\": \"#E1E5ED\"}},\n",
       "                        {\"showLink\": true, \"linkText\": \"Export to plot.ly\", \"plotlyServerURL\": \"https://plot.ly\", \"responsive\": true}\n",
       "                    ).then(function(){\n",
       "                            \n",
       "var gd = document.getElementById('677ad369-d9fb-4768-bb18-15c025b142a4');\n",
       "var x = new MutationObserver(function (mutations, observer) {{\n",
       "        var display = window.getComputedStyle(gd).display;\n",
       "        if (!display || display === 'none') {{\n",
       "            console.log([gd, 'removed!']);\n",
       "            Plotly.purge(gd);\n",
       "            observer.disconnect();\n",
       "        }}\n",
       "}});\n",
       "\n",
       "// Listen for the removal of the full notebook cells\n",
       "var notebookContainer = gd.closest('#notebook-container');\n",
       "if (notebookContainer) {{\n",
       "    x.observe(notebookContainer, {childList: true});\n",
       "}}\n",
       "\n",
       "// Listen for the clearing of the current output cell\n",
       "var outputEl = gd.closest('.output');\n",
       "if (outputEl) {{\n",
       "    x.observe(outputEl, {childList: true});\n",
       "}}\n",
       "\n",
       "                        })\n",
       "                };\n",
       "                });\n",
       "            </script>\n",
       "        </div>"
      ]
     },
     "metadata": {},
     "output_type": "display_data"
    }
   ],
   "source": [
    "# if we want to use barplot with numerical values we should use an aggregate function on this values to get a clear barplot\n",
    "# this shape is not a clear shape of barplot so it doesn't help us clearly \n",
    "df.iplot(kind='bar')"
   ]
  },
  {
   "cell_type": "code",
   "execution_count": 25,
   "metadata": {},
   "outputs": [
    {
     "data": {
      "application/vnd.plotly.v1+json": {
       "config": {
        "linkText": "Export to plot.ly",
        "plotlyServerURL": "https://plot.ly",
        "showLink": true
       },
       "data": [
        {
         "marker": {
          "color": "rgba(255, 153, 51, 0.6)",
          "line": {
           "color": "rgba(255, 153, 51, 1.0)",
           "width": 1
          }
         },
         "name": "None",
         "orientation": "v",
         "text": "",
         "type": "bar",
         "x": [
          "A",
          "B",
          "C",
          "D"
         ],
         "y": [
          0.9388002268784568,
          0.9922331357527798,
          1.0574998725783382,
          1.0693093589858067
         ]
        }
       ],
       "layout": {
        "legend": {
         "bgcolor": "#F5F6F9",
         "font": {
          "color": "#4D5663"
         }
        },
        "paper_bgcolor": "#F5F6F9",
        "plot_bgcolor": "#F5F6F9",
        "template": {
         "data": {
          "bar": [
           {
            "error_x": {
             "color": "#2a3f5f"
            },
            "error_y": {
             "color": "#2a3f5f"
            },
            "marker": {
             "line": {
              "color": "#E5ECF6",
              "width": 0.5
             }
            },
            "type": "bar"
           }
          ],
          "barpolar": [
           {
            "marker": {
             "line": {
              "color": "#E5ECF6",
              "width": 0.5
             }
            },
            "type": "barpolar"
           }
          ],
          "carpet": [
           {
            "aaxis": {
             "endlinecolor": "#2a3f5f",
             "gridcolor": "white",
             "linecolor": "white",
             "minorgridcolor": "white",
             "startlinecolor": "#2a3f5f"
            },
            "baxis": {
             "endlinecolor": "#2a3f5f",
             "gridcolor": "white",
             "linecolor": "white",
             "minorgridcolor": "white",
             "startlinecolor": "#2a3f5f"
            },
            "type": "carpet"
           }
          ],
          "choropleth": [
           {
            "colorbar": {
             "outlinewidth": 0,
             "ticks": ""
            },
            "type": "choropleth"
           }
          ],
          "contour": [
           {
            "colorbar": {
             "outlinewidth": 0,
             "ticks": ""
            },
            "colorscale": [
             [
              0,
              "#0d0887"
             ],
             [
              0.1111111111111111,
              "#46039f"
             ],
             [
              0.2222222222222222,
              "#7201a8"
             ],
             [
              0.3333333333333333,
              "#9c179e"
             ],
             [
              0.4444444444444444,
              "#bd3786"
             ],
             [
              0.5555555555555556,
              "#d8576b"
             ],
             [
              0.6666666666666666,
              "#ed7953"
             ],
             [
              0.7777777777777778,
              "#fb9f3a"
             ],
             [
              0.8888888888888888,
              "#fdca26"
             ],
             [
              1,
              "#f0f921"
             ]
            ],
            "type": "contour"
           }
          ],
          "contourcarpet": [
           {
            "colorbar": {
             "outlinewidth": 0,
             "ticks": ""
            },
            "type": "contourcarpet"
           }
          ],
          "heatmap": [
           {
            "colorbar": {
             "outlinewidth": 0,
             "ticks": ""
            },
            "colorscale": [
             [
              0,
              "#0d0887"
             ],
             [
              0.1111111111111111,
              "#46039f"
             ],
             [
              0.2222222222222222,
              "#7201a8"
             ],
             [
              0.3333333333333333,
              "#9c179e"
             ],
             [
              0.4444444444444444,
              "#bd3786"
             ],
             [
              0.5555555555555556,
              "#d8576b"
             ],
             [
              0.6666666666666666,
              "#ed7953"
             ],
             [
              0.7777777777777778,
              "#fb9f3a"
             ],
             [
              0.8888888888888888,
              "#fdca26"
             ],
             [
              1,
              "#f0f921"
             ]
            ],
            "type": "heatmap"
           }
          ],
          "heatmapgl": [
           {
            "colorbar": {
             "outlinewidth": 0,
             "ticks": ""
            },
            "colorscale": [
             [
              0,
              "#0d0887"
             ],
             [
              0.1111111111111111,
              "#46039f"
             ],
             [
              0.2222222222222222,
              "#7201a8"
             ],
             [
              0.3333333333333333,
              "#9c179e"
             ],
             [
              0.4444444444444444,
              "#bd3786"
             ],
             [
              0.5555555555555556,
              "#d8576b"
             ],
             [
              0.6666666666666666,
              "#ed7953"
             ],
             [
              0.7777777777777778,
              "#fb9f3a"
             ],
             [
              0.8888888888888888,
              "#fdca26"
             ],
             [
              1,
              "#f0f921"
             ]
            ],
            "type": "heatmapgl"
           }
          ],
          "histogram": [
           {
            "marker": {
             "colorbar": {
              "outlinewidth": 0,
              "ticks": ""
             }
            },
            "type": "histogram"
           }
          ],
          "histogram2d": [
           {
            "colorbar": {
             "outlinewidth": 0,
             "ticks": ""
            },
            "colorscale": [
             [
              0,
              "#0d0887"
             ],
             [
              0.1111111111111111,
              "#46039f"
             ],
             [
              0.2222222222222222,
              "#7201a8"
             ],
             [
              0.3333333333333333,
              "#9c179e"
             ],
             [
              0.4444444444444444,
              "#bd3786"
             ],
             [
              0.5555555555555556,
              "#d8576b"
             ],
             [
              0.6666666666666666,
              "#ed7953"
             ],
             [
              0.7777777777777778,
              "#fb9f3a"
             ],
             [
              0.8888888888888888,
              "#fdca26"
             ],
             [
              1,
              "#f0f921"
             ]
            ],
            "type": "histogram2d"
           }
          ],
          "histogram2dcontour": [
           {
            "colorbar": {
             "outlinewidth": 0,
             "ticks": ""
            },
            "colorscale": [
             [
              0,
              "#0d0887"
             ],
             [
              0.1111111111111111,
              "#46039f"
             ],
             [
              0.2222222222222222,
              "#7201a8"
             ],
             [
              0.3333333333333333,
              "#9c179e"
             ],
             [
              0.4444444444444444,
              "#bd3786"
             ],
             [
              0.5555555555555556,
              "#d8576b"
             ],
             [
              0.6666666666666666,
              "#ed7953"
             ],
             [
              0.7777777777777778,
              "#fb9f3a"
             ],
             [
              0.8888888888888888,
              "#fdca26"
             ],
             [
              1,
              "#f0f921"
             ]
            ],
            "type": "histogram2dcontour"
           }
          ],
          "mesh3d": [
           {
            "colorbar": {
             "outlinewidth": 0,
             "ticks": ""
            },
            "type": "mesh3d"
           }
          ],
          "parcoords": [
           {
            "line": {
             "colorbar": {
              "outlinewidth": 0,
              "ticks": ""
             }
            },
            "type": "parcoords"
           }
          ],
          "pie": [
           {
            "automargin": true,
            "type": "pie"
           }
          ],
          "scatter": [
           {
            "marker": {
             "colorbar": {
              "outlinewidth": 0,
              "ticks": ""
             }
            },
            "type": "scatter"
           }
          ],
          "scatter3d": [
           {
            "line": {
             "colorbar": {
              "outlinewidth": 0,
              "ticks": ""
             }
            },
            "marker": {
             "colorbar": {
              "outlinewidth": 0,
              "ticks": ""
             }
            },
            "type": "scatter3d"
           }
          ],
          "scattercarpet": [
           {
            "marker": {
             "colorbar": {
              "outlinewidth": 0,
              "ticks": ""
             }
            },
            "type": "scattercarpet"
           }
          ],
          "scattergeo": [
           {
            "marker": {
             "colorbar": {
              "outlinewidth": 0,
              "ticks": ""
             }
            },
            "type": "scattergeo"
           }
          ],
          "scattergl": [
           {
            "marker": {
             "colorbar": {
              "outlinewidth": 0,
              "ticks": ""
             }
            },
            "type": "scattergl"
           }
          ],
          "scattermapbox": [
           {
            "marker": {
             "colorbar": {
              "outlinewidth": 0,
              "ticks": ""
             }
            },
            "type": "scattermapbox"
           }
          ],
          "scatterpolar": [
           {
            "marker": {
             "colorbar": {
              "outlinewidth": 0,
              "ticks": ""
             }
            },
            "type": "scatterpolar"
           }
          ],
          "scatterpolargl": [
           {
            "marker": {
             "colorbar": {
              "outlinewidth": 0,
              "ticks": ""
             }
            },
            "type": "scatterpolargl"
           }
          ],
          "scatterternary": [
           {
            "marker": {
             "colorbar": {
              "outlinewidth": 0,
              "ticks": ""
             }
            },
            "type": "scatterternary"
           }
          ],
          "surface": [
           {
            "colorbar": {
             "outlinewidth": 0,
             "ticks": ""
            },
            "colorscale": [
             [
              0,
              "#0d0887"
             ],
             [
              0.1111111111111111,
              "#46039f"
             ],
             [
              0.2222222222222222,
              "#7201a8"
             ],
             [
              0.3333333333333333,
              "#9c179e"
             ],
             [
              0.4444444444444444,
              "#bd3786"
             ],
             [
              0.5555555555555556,
              "#d8576b"
             ],
             [
              0.6666666666666666,
              "#ed7953"
             ],
             [
              0.7777777777777778,
              "#fb9f3a"
             ],
             [
              0.8888888888888888,
              "#fdca26"
             ],
             [
              1,
              "#f0f921"
             ]
            ],
            "type": "surface"
           }
          ],
          "table": [
           {
            "cells": {
             "fill": {
              "color": "#EBF0F8"
             },
             "line": {
              "color": "white"
             }
            },
            "header": {
             "fill": {
              "color": "#C8D4E3"
             },
             "line": {
              "color": "white"
             }
            },
            "type": "table"
           }
          ]
         },
         "layout": {
          "annotationdefaults": {
           "arrowcolor": "#2a3f5f",
           "arrowhead": 0,
           "arrowwidth": 1
          },
          "coloraxis": {
           "colorbar": {
            "outlinewidth": 0,
            "ticks": ""
           }
          },
          "colorscale": {
           "diverging": [
            [
             0,
             "#8e0152"
            ],
            [
             0.1,
             "#c51b7d"
            ],
            [
             0.2,
             "#de77ae"
            ],
            [
             0.3,
             "#f1b6da"
            ],
            [
             0.4,
             "#fde0ef"
            ],
            [
             0.5,
             "#f7f7f7"
            ],
            [
             0.6,
             "#e6f5d0"
            ],
            [
             0.7,
             "#b8e186"
            ],
            [
             0.8,
             "#7fbc41"
            ],
            [
             0.9,
             "#4d9221"
            ],
            [
             1,
             "#276419"
            ]
           ],
           "sequential": [
            [
             0,
             "#0d0887"
            ],
            [
             0.1111111111111111,
             "#46039f"
            ],
            [
             0.2222222222222222,
             "#7201a8"
            ],
            [
             0.3333333333333333,
             "#9c179e"
            ],
            [
             0.4444444444444444,
             "#bd3786"
            ],
            [
             0.5555555555555556,
             "#d8576b"
            ],
            [
             0.6666666666666666,
             "#ed7953"
            ],
            [
             0.7777777777777778,
             "#fb9f3a"
            ],
            [
             0.8888888888888888,
             "#fdca26"
            ],
            [
             1,
             "#f0f921"
            ]
           ],
           "sequentialminus": [
            [
             0,
             "#0d0887"
            ],
            [
             0.1111111111111111,
             "#46039f"
            ],
            [
             0.2222222222222222,
             "#7201a8"
            ],
            [
             0.3333333333333333,
             "#9c179e"
            ],
            [
             0.4444444444444444,
             "#bd3786"
            ],
            [
             0.5555555555555556,
             "#d8576b"
            ],
            [
             0.6666666666666666,
             "#ed7953"
            ],
            [
             0.7777777777777778,
             "#fb9f3a"
            ],
            [
             0.8888888888888888,
             "#fdca26"
            ],
            [
             1,
             "#f0f921"
            ]
           ]
          },
          "colorway": [
           "#636efa",
           "#EF553B",
           "#00cc96",
           "#ab63fa",
           "#FFA15A",
           "#19d3f3",
           "#FF6692",
           "#B6E880",
           "#FF97FF",
           "#FECB52"
          ],
          "font": {
           "color": "#2a3f5f"
          },
          "geo": {
           "bgcolor": "white",
           "lakecolor": "white",
           "landcolor": "#E5ECF6",
           "showlakes": true,
           "showland": true,
           "subunitcolor": "white"
          },
          "hoverlabel": {
           "align": "left"
          },
          "hovermode": "closest",
          "mapbox": {
           "style": "light"
          },
          "paper_bgcolor": "white",
          "plot_bgcolor": "#E5ECF6",
          "polar": {
           "angularaxis": {
            "gridcolor": "white",
            "linecolor": "white",
            "ticks": ""
           },
           "bgcolor": "#E5ECF6",
           "radialaxis": {
            "gridcolor": "white",
            "linecolor": "white",
            "ticks": ""
           }
          },
          "scene": {
           "xaxis": {
            "backgroundcolor": "#E5ECF6",
            "gridcolor": "white",
            "gridwidth": 2,
            "linecolor": "white",
            "showbackground": true,
            "ticks": "",
            "zerolinecolor": "white"
           },
           "yaxis": {
            "backgroundcolor": "#E5ECF6",
            "gridcolor": "white",
            "gridwidth": 2,
            "linecolor": "white",
            "showbackground": true,
            "ticks": "",
            "zerolinecolor": "white"
           },
           "zaxis": {
            "backgroundcolor": "#E5ECF6",
            "gridcolor": "white",
            "gridwidth": 2,
            "linecolor": "white",
            "showbackground": true,
            "ticks": "",
            "zerolinecolor": "white"
           }
          },
          "shapedefaults": {
           "line": {
            "color": "#2a3f5f"
           }
          },
          "ternary": {
           "aaxis": {
            "gridcolor": "white",
            "linecolor": "white",
            "ticks": ""
           },
           "baxis": {
            "gridcolor": "white",
            "linecolor": "white",
            "ticks": ""
           },
           "bgcolor": "#E5ECF6",
           "caxis": {
            "gridcolor": "white",
            "linecolor": "white",
            "ticks": ""
           }
          },
          "title": {
           "x": 0.05
          },
          "xaxis": {
           "automargin": true,
           "gridcolor": "white",
           "linecolor": "white",
           "ticks": "",
           "title": {
            "standoff": 15
           },
           "zerolinecolor": "white",
           "zerolinewidth": 2
          },
          "yaxis": {
           "automargin": true,
           "gridcolor": "white",
           "linecolor": "white",
           "ticks": "",
           "title": {
            "standoff": 15
           },
           "zerolinecolor": "white",
           "zerolinewidth": 2
          }
         }
        },
        "title": {
         "font": {
          "color": "#4D5663"
         }
        },
        "xaxis": {
         "gridcolor": "#E1E5ED",
         "showgrid": true,
         "tickfont": {
          "color": "#4D5663"
         },
         "title": {
          "font": {
           "color": "#4D5663"
          },
          "text": ""
         },
         "zerolinecolor": "#E1E5ED"
        },
        "yaxis": {
         "gridcolor": "#E1E5ED",
         "showgrid": true,
         "tickfont": {
          "color": "#4D5663"
         },
         "title": {
          "font": {
           "color": "#4D5663"
          },
          "text": ""
         },
         "zerolinecolor": "#E1E5ED"
        }
       }
      },
      "text/html": [
       "<div>\n",
       "        \n",
       "        \n",
       "            <div id=\"0d05985e-13de-467d-bb6d-33eb0ddb0c1e\" class=\"plotly-graph-div\" style=\"height:525px; width:100%;\"></div>\n",
       "            <script type=\"text/javascript\">\n",
       "                require([\"plotly\"], function(Plotly) {\n",
       "                    window.PLOTLYENV=window.PLOTLYENV || {};\n",
       "                    window.PLOTLYENV.BASE_URL='https://plot.ly';\n",
       "                    \n",
       "                if (document.getElementById(\"0d05985e-13de-467d-bb6d-33eb0ddb0c1e\")) {\n",
       "                    Plotly.newPlot(\n",
       "                        '0d05985e-13de-467d-bb6d-33eb0ddb0c1e',\n",
       "                        [{\"marker\": {\"color\": \"rgba(255, 153, 51, 0.6)\", \"line\": {\"color\": \"rgba(255, 153, 51, 1.0)\", \"width\": 1}}, \"name\": \"None\", \"orientation\": \"v\", \"text\": \"\", \"type\": \"bar\", \"x\": [\"A\", \"B\", \"C\", \"D\"], \"y\": [0.9388002268784568, 0.9922331357527798, 1.0574998725783382, 1.0693093589858067]}],\n",
       "                        {\"legend\": {\"bgcolor\": \"#F5F6F9\", \"font\": {\"color\": \"#4D5663\"}}, \"paper_bgcolor\": \"#F5F6F9\", \"plot_bgcolor\": \"#F5F6F9\", \"template\": {\"data\": {\"bar\": [{\"error_x\": {\"color\": \"#2a3f5f\"}, \"error_y\": {\"color\": \"#2a3f5f\"}, \"marker\": {\"line\": {\"color\": \"#E5ECF6\", \"width\": 0.5}}, \"type\": \"bar\"}], \"barpolar\": [{\"marker\": {\"line\": {\"color\": \"#E5ECF6\", \"width\": 0.5}}, \"type\": \"barpolar\"}], \"carpet\": [{\"aaxis\": {\"endlinecolor\": \"#2a3f5f\", \"gridcolor\": \"white\", \"linecolor\": \"white\", \"minorgridcolor\": \"white\", \"startlinecolor\": \"#2a3f5f\"}, \"baxis\": {\"endlinecolor\": \"#2a3f5f\", \"gridcolor\": \"white\", \"linecolor\": \"white\", \"minorgridcolor\": \"white\", \"startlinecolor\": \"#2a3f5f\"}, \"type\": \"carpet\"}], \"choropleth\": [{\"colorbar\": {\"outlinewidth\": 0, \"ticks\": \"\"}, \"type\": \"choropleth\"}], \"contour\": [{\"colorbar\": {\"outlinewidth\": 0, \"ticks\": \"\"}, \"colorscale\": [[0.0, \"#0d0887\"], [0.1111111111111111, \"#46039f\"], [0.2222222222222222, \"#7201a8\"], [0.3333333333333333, \"#9c179e\"], [0.4444444444444444, \"#bd3786\"], [0.5555555555555556, \"#d8576b\"], [0.6666666666666666, \"#ed7953\"], [0.7777777777777778, \"#fb9f3a\"], [0.8888888888888888, \"#fdca26\"], [1.0, \"#f0f921\"]], \"type\": \"contour\"}], \"contourcarpet\": [{\"colorbar\": {\"outlinewidth\": 0, \"ticks\": \"\"}, \"type\": \"contourcarpet\"}], \"heatmap\": [{\"colorbar\": {\"outlinewidth\": 0, \"ticks\": \"\"}, \"colorscale\": [[0.0, \"#0d0887\"], [0.1111111111111111, \"#46039f\"], [0.2222222222222222, \"#7201a8\"], [0.3333333333333333, \"#9c179e\"], [0.4444444444444444, \"#bd3786\"], [0.5555555555555556, \"#d8576b\"], [0.6666666666666666, \"#ed7953\"], [0.7777777777777778, \"#fb9f3a\"], [0.8888888888888888, \"#fdca26\"], [1.0, \"#f0f921\"]], \"type\": \"heatmap\"}], \"heatmapgl\": [{\"colorbar\": {\"outlinewidth\": 0, \"ticks\": \"\"}, \"colorscale\": [[0.0, \"#0d0887\"], [0.1111111111111111, \"#46039f\"], [0.2222222222222222, \"#7201a8\"], [0.3333333333333333, \"#9c179e\"], [0.4444444444444444, \"#bd3786\"], [0.5555555555555556, \"#d8576b\"], [0.6666666666666666, \"#ed7953\"], [0.7777777777777778, \"#fb9f3a\"], [0.8888888888888888, \"#fdca26\"], [1.0, \"#f0f921\"]], \"type\": \"heatmapgl\"}], \"histogram\": [{\"marker\": {\"colorbar\": {\"outlinewidth\": 0, \"ticks\": \"\"}}, \"type\": \"histogram\"}], \"histogram2d\": [{\"colorbar\": {\"outlinewidth\": 0, \"ticks\": \"\"}, \"colorscale\": [[0.0, \"#0d0887\"], [0.1111111111111111, \"#46039f\"], [0.2222222222222222, \"#7201a8\"], [0.3333333333333333, \"#9c179e\"], [0.4444444444444444, \"#bd3786\"], [0.5555555555555556, \"#d8576b\"], [0.6666666666666666, \"#ed7953\"], [0.7777777777777778, \"#fb9f3a\"], [0.8888888888888888, \"#fdca26\"], [1.0, \"#f0f921\"]], \"type\": \"histogram2d\"}], \"histogram2dcontour\": [{\"colorbar\": {\"outlinewidth\": 0, \"ticks\": \"\"}, \"colorscale\": [[0.0, \"#0d0887\"], [0.1111111111111111, \"#46039f\"], [0.2222222222222222, \"#7201a8\"], [0.3333333333333333, \"#9c179e\"], [0.4444444444444444, \"#bd3786\"], [0.5555555555555556, \"#d8576b\"], [0.6666666666666666, \"#ed7953\"], [0.7777777777777778, \"#fb9f3a\"], [0.8888888888888888, \"#fdca26\"], [1.0, \"#f0f921\"]], \"type\": \"histogram2dcontour\"}], \"mesh3d\": [{\"colorbar\": {\"outlinewidth\": 0, \"ticks\": \"\"}, \"type\": \"mesh3d\"}], \"parcoords\": [{\"line\": {\"colorbar\": {\"outlinewidth\": 0, \"ticks\": \"\"}}, \"type\": \"parcoords\"}], \"pie\": [{\"automargin\": true, \"type\": \"pie\"}], \"scatter\": [{\"marker\": {\"colorbar\": {\"outlinewidth\": 0, \"ticks\": \"\"}}, \"type\": \"scatter\"}], \"scatter3d\": [{\"line\": {\"colorbar\": {\"outlinewidth\": 0, \"ticks\": \"\"}}, \"marker\": {\"colorbar\": {\"outlinewidth\": 0, \"ticks\": \"\"}}, \"type\": \"scatter3d\"}], \"scattercarpet\": [{\"marker\": {\"colorbar\": {\"outlinewidth\": 0, \"ticks\": \"\"}}, \"type\": \"scattercarpet\"}], \"scattergeo\": [{\"marker\": {\"colorbar\": {\"outlinewidth\": 0, \"ticks\": \"\"}}, \"type\": \"scattergeo\"}], \"scattergl\": [{\"marker\": {\"colorbar\": {\"outlinewidth\": 0, \"ticks\": \"\"}}, \"type\": \"scattergl\"}], \"scattermapbox\": [{\"marker\": {\"colorbar\": {\"outlinewidth\": 0, \"ticks\": \"\"}}, \"type\": \"scattermapbox\"}], \"scatterpolar\": [{\"marker\": {\"colorbar\": {\"outlinewidth\": 0, \"ticks\": \"\"}}, \"type\": \"scatterpolar\"}], \"scatterpolargl\": [{\"marker\": {\"colorbar\": {\"outlinewidth\": 0, \"ticks\": \"\"}}, \"type\": \"scatterpolargl\"}], \"scatterternary\": [{\"marker\": {\"colorbar\": {\"outlinewidth\": 0, \"ticks\": \"\"}}, \"type\": \"scatterternary\"}], \"surface\": [{\"colorbar\": {\"outlinewidth\": 0, \"ticks\": \"\"}, \"colorscale\": [[0.0, \"#0d0887\"], [0.1111111111111111, \"#46039f\"], [0.2222222222222222, \"#7201a8\"], [0.3333333333333333, \"#9c179e\"], [0.4444444444444444, \"#bd3786\"], [0.5555555555555556, \"#d8576b\"], [0.6666666666666666, \"#ed7953\"], [0.7777777777777778, \"#fb9f3a\"], [0.8888888888888888, \"#fdca26\"], [1.0, \"#f0f921\"]], \"type\": \"surface\"}], \"table\": [{\"cells\": {\"fill\": {\"color\": \"#EBF0F8\"}, \"line\": {\"color\": \"white\"}}, \"header\": {\"fill\": {\"color\": \"#C8D4E3\"}, \"line\": {\"color\": \"white\"}}, \"type\": \"table\"}]}, \"layout\": {\"annotationdefaults\": {\"arrowcolor\": \"#2a3f5f\", \"arrowhead\": 0, \"arrowwidth\": 1}, \"coloraxis\": {\"colorbar\": {\"outlinewidth\": 0, \"ticks\": \"\"}}, \"colorscale\": {\"diverging\": [[0, \"#8e0152\"], [0.1, \"#c51b7d\"], [0.2, \"#de77ae\"], [0.3, \"#f1b6da\"], [0.4, \"#fde0ef\"], [0.5, \"#f7f7f7\"], [0.6, \"#e6f5d0\"], [0.7, \"#b8e186\"], [0.8, \"#7fbc41\"], [0.9, \"#4d9221\"], [1, \"#276419\"]], \"sequential\": [[0.0, \"#0d0887\"], [0.1111111111111111, \"#46039f\"], [0.2222222222222222, \"#7201a8\"], [0.3333333333333333, \"#9c179e\"], [0.4444444444444444, \"#bd3786\"], [0.5555555555555556, \"#d8576b\"], [0.6666666666666666, \"#ed7953\"], [0.7777777777777778, \"#fb9f3a\"], [0.8888888888888888, \"#fdca26\"], [1.0, \"#f0f921\"]], \"sequentialminus\": [[0.0, \"#0d0887\"], [0.1111111111111111, \"#46039f\"], [0.2222222222222222, \"#7201a8\"], [0.3333333333333333, \"#9c179e\"], [0.4444444444444444, \"#bd3786\"], [0.5555555555555556, \"#d8576b\"], [0.6666666666666666, \"#ed7953\"], [0.7777777777777778, \"#fb9f3a\"], [0.8888888888888888, \"#fdca26\"], [1.0, \"#f0f921\"]]}, \"colorway\": [\"#636efa\", \"#EF553B\", \"#00cc96\", \"#ab63fa\", \"#FFA15A\", \"#19d3f3\", \"#FF6692\", \"#B6E880\", \"#FF97FF\", \"#FECB52\"], \"font\": {\"color\": \"#2a3f5f\"}, \"geo\": {\"bgcolor\": \"white\", \"lakecolor\": \"white\", \"landcolor\": \"#E5ECF6\", \"showlakes\": true, \"showland\": true, \"subunitcolor\": \"white\"}, \"hoverlabel\": {\"align\": \"left\"}, \"hovermode\": \"closest\", \"mapbox\": {\"style\": \"light\"}, \"paper_bgcolor\": \"white\", \"plot_bgcolor\": \"#E5ECF6\", \"polar\": {\"angularaxis\": {\"gridcolor\": \"white\", \"linecolor\": \"white\", \"ticks\": \"\"}, \"bgcolor\": \"#E5ECF6\", \"radialaxis\": {\"gridcolor\": \"white\", \"linecolor\": \"white\", \"ticks\": \"\"}}, \"scene\": {\"xaxis\": {\"backgroundcolor\": \"#E5ECF6\", \"gridcolor\": \"white\", \"gridwidth\": 2, \"linecolor\": \"white\", \"showbackground\": true, \"ticks\": \"\", \"zerolinecolor\": \"white\"}, \"yaxis\": {\"backgroundcolor\": \"#E5ECF6\", \"gridcolor\": \"white\", \"gridwidth\": 2, \"linecolor\": \"white\", \"showbackground\": true, \"ticks\": \"\", \"zerolinecolor\": \"white\"}, \"zaxis\": {\"backgroundcolor\": \"#E5ECF6\", \"gridcolor\": \"white\", \"gridwidth\": 2, \"linecolor\": \"white\", \"showbackground\": true, \"ticks\": \"\", \"zerolinecolor\": \"white\"}}, \"shapedefaults\": {\"line\": {\"color\": \"#2a3f5f\"}}, \"ternary\": {\"aaxis\": {\"gridcolor\": \"white\", \"linecolor\": \"white\", \"ticks\": \"\"}, \"baxis\": {\"gridcolor\": \"white\", \"linecolor\": \"white\", \"ticks\": \"\"}, \"bgcolor\": \"#E5ECF6\", \"caxis\": {\"gridcolor\": \"white\", \"linecolor\": \"white\", \"ticks\": \"\"}}, \"title\": {\"x\": 0.05}, \"xaxis\": {\"automargin\": true, \"gridcolor\": \"white\", \"linecolor\": \"white\", \"ticks\": \"\", \"title\": {\"standoff\": 15}, \"zerolinecolor\": \"white\", \"zerolinewidth\": 2}, \"yaxis\": {\"automargin\": true, \"gridcolor\": \"white\", \"linecolor\": \"white\", \"ticks\": \"\", \"title\": {\"standoff\": 15}, \"zerolinecolor\": \"white\", \"zerolinewidth\": 2}}}, \"title\": {\"font\": {\"color\": \"#4D5663\"}}, \"xaxis\": {\"gridcolor\": \"#E1E5ED\", \"showgrid\": true, \"tickfont\": {\"color\": \"#4D5663\"}, \"title\": {\"font\": {\"color\": \"#4D5663\"}, \"text\": \"\"}, \"zerolinecolor\": \"#E1E5ED\"}, \"yaxis\": {\"gridcolor\": \"#E1E5ED\", \"showgrid\": true, \"tickfont\": {\"color\": \"#4D5663\"}, \"title\": {\"font\": {\"color\": \"#4D5663\"}, \"text\": \"\"}, \"zerolinecolor\": \"#E1E5ED\"}},\n",
       "                        {\"showLink\": true, \"linkText\": \"Export to plot.ly\", \"plotlyServerURL\": \"https://plot.ly\", \"responsive\": true}\n",
       "                    ).then(function(){\n",
       "                            \n",
       "var gd = document.getElementById('0d05985e-13de-467d-bb6d-33eb0ddb0c1e');\n",
       "var x = new MutationObserver(function (mutations, observer) {{\n",
       "        var display = window.getComputedStyle(gd).display;\n",
       "        if (!display || display === 'none') {{\n",
       "            console.log([gd, 'removed!']);\n",
       "            Plotly.purge(gd);\n",
       "            observer.disconnect();\n",
       "        }}\n",
       "}});\n",
       "\n",
       "// Listen for the removal of the full notebook cells\n",
       "var notebookContainer = gd.closest('#notebook-container');\n",
       "if (notebookContainer) {{\n",
       "    x.observe(notebookContainer, {childList: true});\n",
       "}}\n",
       "\n",
       "// Listen for the clearing of the current output cell\n",
       "var outputEl = gd.closest('.output');\n",
       "if (outputEl) {{\n",
       "    x.observe(outputEl, {childList: true});\n",
       "}}\n",
       "\n",
       "                        })\n",
       "                };\n",
       "                });\n",
       "            </script>\n",
       "        </div>"
      ]
     },
     "metadata": {},
     "output_type": "display_data"
    }
   ],
   "source": [
    "# this is the example on the aggregate function that make the shape clear and we can know information from this shape\n",
    "df.std().iplot(kind='bar')"
   ]
  },
  {
   "cell_type": "code",
   "execution_count": 26,
   "metadata": {},
   "outputs": [
    {
     "data": {
      "application/vnd.plotly.v1+json": {
       "config": {
        "linkText": "Export to plot.ly",
        "plotlyServerURL": "https://plot.ly",
        "showLink": true
       },
       "data": [
        {
         "boxpoints": false,
         "line": {
          "width": 1.3
         },
         "marker": {
          "color": "rgba(255, 153, 51, 1.0)"
         },
         "name": "A",
         "orientation": "v",
         "type": "box",
         "y": [
          0.48758791284167,
          -1.0945360538696463,
          -0.025109160636671034,
          0.5318438573072443,
          1.170821047816164,
          -1.0781069618216137,
          0.023929908721716072,
          -0.3341668073479446,
          0.15466770476350178,
          1.5446639151497434,
          1.4056054833842484,
          1.6261568763361154,
          -1.1227374435458701,
          0.28194097407828445,
          -0.682223671693977,
          -0.9562545728370384,
          -0.7209835661743308,
          -0.03317994654738412,
          0.5205553063310279,
          -1.1366028975811477,
          -0.9786485170200829,
          0.13548859544218975,
          -0.0009540853056883342,
          0.5979449535006777,
          1.1149531211625783,
          0.4283544325769933,
          -0.2411460571149065,
          -1.2870861552795327,
          0.03636844814017887,
          1.2075977330375478,
          -1.1535869763732076,
          1.0628415041799286,
          -1.0491639233442693,
          1.3811022114090363,
          -0.3613211905254392,
          -0.45890225542836116,
          -0.12162760141230262,
          -0.8396215800903595,
          -0.565381067065979,
          -3.4566182937067276,
          0.8993420377570022,
          0.2165974313829244,
          1.6103508033055005,
          0.0094913782519163,
          0.45531265282040323,
          0.6119558083278896,
          -0.2942946657226144,
          -1.2729657899992224,
          -0.3545189453227468,
          0.07805696223208544,
          -0.66178932419833,
          -1.6925420918465717,
          -0.1307554580410991,
          -0.39774105359567025,
          -1.516011865561858,
          -0.5391143165355534,
          -1.1142859655918813,
          1.0551320487656342,
          -0.5717178581500568,
          -0.1073076890360471,
          -1.5270560562106272,
          -0.7899843365922449,
          -0.6356350799456826,
          -0.41468126319261245,
          1.6781806287486598,
          -0.33874390881565875,
          0.18609602799409797,
          -1.2338502645280391,
          0.10345221635878635,
          0.6586971927026098,
          0.5813188464153145,
          1.3837115433387472,
          -0.29753261872603187,
          -1.6128956978544893,
          -1.103081913031465,
          -0.15162181863861388,
          0.7316627867109841,
          -0.8665646320585265,
          -1.701661298481288,
          1.596184275190892,
          0.14494608879711593,
          -0.41603294033322546,
          0.9563325173459639,
          -0.30156389581498877,
          0.926333185290943,
          0.6631382639673186,
          0.39152621569100776,
          -0.5826926583224311,
          0.6255130281637811,
          -0.21940433600962406,
          -0.9505295760532173,
          -0.10707435083175479,
          0.37504647253794426,
          -0.7821664392300294,
          1.213031390357866,
          -0.009994398016467693,
          0.9894948390200397,
          -1.647259086231465,
          0.9233657259667436,
          0.17155861516031895
         ]
        },
        {
         "boxpoints": false,
         "line": {
          "width": 1.3
         },
         "marker": {
          "color": "rgba(55, 128, 191, 1.0)"
         },
         "name": "B",
         "orientation": "v",
         "type": "box",
         "y": [
          -0.3260093462636492,
          0.24999368535084174,
          0.23529007756177991,
          1.497738301294124,
          -1.9235211183341405,
          -2.0300951821002418,
          -0.8026053432036195,
          -0.062102401082379945,
          0.5733134985509706,
          -0.028200152143247094,
          0.5457366836861638,
          1.9105677035222017,
          -1.8510783961436936,
          1.8936264586473475,
          0.8455161682358032,
          0.08530004905902606,
          1.15547970626262,
          0.33241678821461357,
          0.8973896937867161,
          0.19756270998312664,
          -0.5551208869803647,
          -0.7141539274695231,
          0.009781143871655847,
          -0.7963514852359374,
          0.18435114594596597,
          -0.7236122806767714,
          -0.6268367864953104,
          -1.0069813144186306,
          -0.5997263961705249,
          0.2218092724149917,
          -1.170188533181909,
          -0.7686459812838211,
          -0.5673983196078344,
          1.5249329961718672,
          -2.1774022163390523,
          -0.16736496395437145,
          1.0228620924991214,
          0.3910535831520817,
          1.728288848550678,
          -0.009405137671356954,
          0.9241988728738655,
          0.44155721095505096,
          -0.22054721336042088,
          0.5781436798174855,
          -1.290605550402523,
          -0.8219921260635391,
          0.6672891466109183,
          -1.0544087228560581,
          0.8576970417953911,
          1.4773492966329609,
          -0.37563342720144566,
          1.2771642094219255,
          1.4113133544016951,
          -0.29750095974408886,
          -0.3162064319347066,
          1.188528108737439,
          0.579601446889555,
          -1.7869180545292704,
          0.6597949108832315,
          -0.0001365483231869348,
          1.1812217654383987,
          -0.039242310036225546,
          0.055462809310465856,
          -0.26055519934982774,
          0.6725828725192213,
          -0.5868956518865107,
          -0.36545184706978795,
          0.9293783772779497,
          -1.12768298608976,
          -0.6802463660504389,
          1.0337663943479858,
          -0.11482295289181627,
          -0.050142642112852305,
          -0.7605981670708353,
          1.1776341864268012,
          -1.046185183818184,
          -0.7725793465552173,
          -0.19141931620324604,
          -0.5627311353208561,
          -0.6551472073374759,
          0.1682953138174061,
          -1.219605336933295,
          1.1676004025006497,
          -1.729816895327089,
          0.7124705106659508,
          1.5236894135662393,
          -1.6321268418409738,
          -0.7707520544200946,
          -0.05597956411105408,
          0.16633345555002213,
          1.3749075858226854,
          0.7668818323383592,
          1.2292117573820642,
          -0.09963937439980546,
          1.8913086287611742,
          -0.13916805496855586,
          -0.8661975302049588,
          0.011535216890753078,
          1.2450592447021642,
          -2.211752092799134
         ]
        },
        {
         "boxpoints": false,
         "line": {
          "width": 1.3
         },
         "marker": {
          "color": "rgba(50, 171, 96, 1.0)"
         },
         "name": "C",
         "orientation": "v",
         "type": "box",
         "y": [
          -0.9215737996680481,
          0.24257794495661747,
          0.28730374971215455,
          0.14040275264155666,
          -0.01454372243547929,
          0.5701479887456785,
          -0.5913889393179355,
          -0.5391923903512743,
          -0.1268109615054854,
          0.8330285935502711,
          -0.45887812076157464,
          -0.9098656132168144,
          0.30937887086993643,
          -1.3173769403479854,
          1.1390528635745454,
          -0.054313980526728284,
          -0.06345952949402739,
          -1.1848137236310903,
          0.07638907718243115,
          -0.7575403986569592,
          1.7111419842743498,
          0.27368305370590473,
          -0.14455085058261638,
          0.035816694898625955,
          0.21415107397239885,
          1.9934432737074155,
          0.25865489493566746,
          -2.311189157953442,
          0.6209601156744055,
          0.7504779554943947,
          0.09748343837697022,
          0.17482346528953707,
          0.5823900490090388,
          1.1176691088840645,
          -0.15595798168684122,
          -0.39505494965702165,
          -0.43222799923157496,
          -0.021203250326226684,
          1.536868590901801,
          0.8289905654680133,
          0.920122027822724,
          0.7552087906910285,
          -0.4435526780625535,
          0.7533509524104882,
          -0.3163692824277632,
          -1.3740015077056968,
          1.4844837012254757,
          1.6989196256086767,
          0.21383303878010604,
          0.8903447804836941,
          -0.4811875074025367,
          -0.4083018305349428,
          1.5122987569757786,
          -3.456495150976108,
          -0.5078588732223014,
          -0.19091788141284483,
          0.07076357456210358,
          -1.1408201971843714,
          1.8997545762062136,
          0.09703976302099852,
          0.039703654766854495,
          1.0494411955167449,
          0.029929215098847543,
          1.7940867369711784,
          -1.4870984274296137,
          -0.6874900617646675,
          1.4365266243030386,
          0.0230165236855401,
          -0.3063837206223713,
          -2.659682030893965,
          1.2274792247016022,
          0.3119932445595903,
          1.2018157112787466,
          0.5033149695523894,
          -0.01920839903472686,
          0.15679949048063785,
          0.12213403014052661,
          -0.12491818968818347,
          0.9322611703529357,
          -0.32080906005630394,
          -1.9843429087528304,
          -2.1117410103351584,
          -0.9971293003585686,
          1.2539711506249005,
          -0.9705376358440737,
          1.110380938606927,
          -0.9658677901361647,
          -1.3794425991471915,
          -0.18429815818266237,
          -2.4709888143236496,
          2.0947893798665924,
          -0.3557969469360339,
          0.5337181750396833,
          0.12295132345624875,
          1.425546310958585,
          0.1999557525436834,
          -1.293395493776135,
          1.221242082392363,
          -0.7800515940717015,
          -0.4455096834649943
         ]
        },
        {
         "boxpoints": false,
         "line": {
          "width": 1.3
         },
         "marker": {
          "color": "rgba(128, 0, 128, 1.0)"
         },
         "name": "D",
         "orientation": "v",
         "type": "box",
         "y": [
          -0.3732001785635488,
          0.02772057204258057,
          2.0780977673160814,
          1.3345213603864252,
          0.1694366973809169,
          -0.2684697638023764,
          -0.6082296092599212,
          0.6508892453079715,
          -0.4345062907402152,
          -0.5617920353885649,
          -0.587017228791666,
          -1.090602506962519,
          -0.47177082945853616,
          -0.5047968481345675,
          0.30674061235988115,
          -0.2580618267023648,
          1.213046387572064,
          -0.10336248572090953,
          1.2135641909949002,
          -0.29573781138810157,
          0.09265697441911201,
          1.181111268444659,
          0.9794260265187278,
          -0.2066609559336435,
          -1.4324849127349883,
          1.8973719521978711,
          -1.5770524954708642,
          -1.5233755285194996,
          -0.11954388695033413,
          0.408227044615286,
          -0.7943217801990868,
          -0.4074277029874315,
          -1.2964724531322758,
          1.3531820244255979,
          -0.10209548025668516,
          -3.962267411342711,
          0.3925374957693042,
          -1.5987574555527004,
          -0.015690786883268432,
          -1.3646431233639413,
          0.005367302494327931,
          -1.1544773552282033,
          0.6812441407429343,
          1.3980508128192732,
          -0.6960723365727628,
          0.8007104031685038,
          0.22814968085465678,
          0.39540184605719475,
          -0.6465850039640896,
          -0.49131677264646473,
          -1.7766857278277122,
          -0.5308430489637528,
          -0.4143386231020363,
          0.9564710084119504,
          -0.3110460476539002,
          1.8446499699453207,
          0.38994548400707324,
          -2.7684282902563084,
          -2.119079548307512,
          -0.1266261950522138,
          -0.45611608273969556,
          0.077912447832572,
          -0.21689984979054935,
          -0.7121695757676461,
          -0.3490408053170844,
          0.3906916972874522,
          -0.8297333159231602,
          -0.707490514149694,
          -1.2545296140226112,
          -0.05515145982340287,
          -0.40172092888359184,
          -1.8846250805252711,
          0.9566507481486777,
          1.6497778073533933,
          -1.4767802190660844,
          0.05283350103280196,
          -1.0329661785748872,
          0.5644947822224133,
          -3.2623765712883497,
          -0.050082748227648924,
          -0.31321634490070466,
          -1.0917145834668929,
          0.5450272060871032,
          -0.27725916223419866,
          -1.3544628542209094,
          -2.561107978279768,
          -0.29988417704474407,
          -0.08734822296629834,
          0.31378902477164194,
          -0.08316283323673339,
          -0.057673051473649005,
          -1.1827138584189956,
          -0.9354931234512995,
          0.5391231576807595,
          0.6683226564578738,
          1.4246185626652708,
          -0.250826647645536,
          -1.7472524156312297,
          0.0165326921674526,
          -0.07634791957043927
         ]
        }
       ],
       "layout": {
        "legend": {
         "bgcolor": "#F5F6F9",
         "font": {
          "color": "#4D5663"
         }
        },
        "paper_bgcolor": "#F5F6F9",
        "plot_bgcolor": "#F5F6F9",
        "template": {
         "data": {
          "bar": [
           {
            "error_x": {
             "color": "#2a3f5f"
            },
            "error_y": {
             "color": "#2a3f5f"
            },
            "marker": {
             "line": {
              "color": "#E5ECF6",
              "width": 0.5
             }
            },
            "type": "bar"
           }
          ],
          "barpolar": [
           {
            "marker": {
             "line": {
              "color": "#E5ECF6",
              "width": 0.5
             }
            },
            "type": "barpolar"
           }
          ],
          "carpet": [
           {
            "aaxis": {
             "endlinecolor": "#2a3f5f",
             "gridcolor": "white",
             "linecolor": "white",
             "minorgridcolor": "white",
             "startlinecolor": "#2a3f5f"
            },
            "baxis": {
             "endlinecolor": "#2a3f5f",
             "gridcolor": "white",
             "linecolor": "white",
             "minorgridcolor": "white",
             "startlinecolor": "#2a3f5f"
            },
            "type": "carpet"
           }
          ],
          "choropleth": [
           {
            "colorbar": {
             "outlinewidth": 0,
             "ticks": ""
            },
            "type": "choropleth"
           }
          ],
          "contour": [
           {
            "colorbar": {
             "outlinewidth": 0,
             "ticks": ""
            },
            "colorscale": [
             [
              0,
              "#0d0887"
             ],
             [
              0.1111111111111111,
              "#46039f"
             ],
             [
              0.2222222222222222,
              "#7201a8"
             ],
             [
              0.3333333333333333,
              "#9c179e"
             ],
             [
              0.4444444444444444,
              "#bd3786"
             ],
             [
              0.5555555555555556,
              "#d8576b"
             ],
             [
              0.6666666666666666,
              "#ed7953"
             ],
             [
              0.7777777777777778,
              "#fb9f3a"
             ],
             [
              0.8888888888888888,
              "#fdca26"
             ],
             [
              1,
              "#f0f921"
             ]
            ],
            "type": "contour"
           }
          ],
          "contourcarpet": [
           {
            "colorbar": {
             "outlinewidth": 0,
             "ticks": ""
            },
            "type": "contourcarpet"
           }
          ],
          "heatmap": [
           {
            "colorbar": {
             "outlinewidth": 0,
             "ticks": ""
            },
            "colorscale": [
             [
              0,
              "#0d0887"
             ],
             [
              0.1111111111111111,
              "#46039f"
             ],
             [
              0.2222222222222222,
              "#7201a8"
             ],
             [
              0.3333333333333333,
              "#9c179e"
             ],
             [
              0.4444444444444444,
              "#bd3786"
             ],
             [
              0.5555555555555556,
              "#d8576b"
             ],
             [
              0.6666666666666666,
              "#ed7953"
             ],
             [
              0.7777777777777778,
              "#fb9f3a"
             ],
             [
              0.8888888888888888,
              "#fdca26"
             ],
             [
              1,
              "#f0f921"
             ]
            ],
            "type": "heatmap"
           }
          ],
          "heatmapgl": [
           {
            "colorbar": {
             "outlinewidth": 0,
             "ticks": ""
            },
            "colorscale": [
             [
              0,
              "#0d0887"
             ],
             [
              0.1111111111111111,
              "#46039f"
             ],
             [
              0.2222222222222222,
              "#7201a8"
             ],
             [
              0.3333333333333333,
              "#9c179e"
             ],
             [
              0.4444444444444444,
              "#bd3786"
             ],
             [
              0.5555555555555556,
              "#d8576b"
             ],
             [
              0.6666666666666666,
              "#ed7953"
             ],
             [
              0.7777777777777778,
              "#fb9f3a"
             ],
             [
              0.8888888888888888,
              "#fdca26"
             ],
             [
              1,
              "#f0f921"
             ]
            ],
            "type": "heatmapgl"
           }
          ],
          "histogram": [
           {
            "marker": {
             "colorbar": {
              "outlinewidth": 0,
              "ticks": ""
             }
            },
            "type": "histogram"
           }
          ],
          "histogram2d": [
           {
            "colorbar": {
             "outlinewidth": 0,
             "ticks": ""
            },
            "colorscale": [
             [
              0,
              "#0d0887"
             ],
             [
              0.1111111111111111,
              "#46039f"
             ],
             [
              0.2222222222222222,
              "#7201a8"
             ],
             [
              0.3333333333333333,
              "#9c179e"
             ],
             [
              0.4444444444444444,
              "#bd3786"
             ],
             [
              0.5555555555555556,
              "#d8576b"
             ],
             [
              0.6666666666666666,
              "#ed7953"
             ],
             [
              0.7777777777777778,
              "#fb9f3a"
             ],
             [
              0.8888888888888888,
              "#fdca26"
             ],
             [
              1,
              "#f0f921"
             ]
            ],
            "type": "histogram2d"
           }
          ],
          "histogram2dcontour": [
           {
            "colorbar": {
             "outlinewidth": 0,
             "ticks": ""
            },
            "colorscale": [
             [
              0,
              "#0d0887"
             ],
             [
              0.1111111111111111,
              "#46039f"
             ],
             [
              0.2222222222222222,
              "#7201a8"
             ],
             [
              0.3333333333333333,
              "#9c179e"
             ],
             [
              0.4444444444444444,
              "#bd3786"
             ],
             [
              0.5555555555555556,
              "#d8576b"
             ],
             [
              0.6666666666666666,
              "#ed7953"
             ],
             [
              0.7777777777777778,
              "#fb9f3a"
             ],
             [
              0.8888888888888888,
              "#fdca26"
             ],
             [
              1,
              "#f0f921"
             ]
            ],
            "type": "histogram2dcontour"
           }
          ],
          "mesh3d": [
           {
            "colorbar": {
             "outlinewidth": 0,
             "ticks": ""
            },
            "type": "mesh3d"
           }
          ],
          "parcoords": [
           {
            "line": {
             "colorbar": {
              "outlinewidth": 0,
              "ticks": ""
             }
            },
            "type": "parcoords"
           }
          ],
          "pie": [
           {
            "automargin": true,
            "type": "pie"
           }
          ],
          "scatter": [
           {
            "marker": {
             "colorbar": {
              "outlinewidth": 0,
              "ticks": ""
             }
            },
            "type": "scatter"
           }
          ],
          "scatter3d": [
           {
            "line": {
             "colorbar": {
              "outlinewidth": 0,
              "ticks": ""
             }
            },
            "marker": {
             "colorbar": {
              "outlinewidth": 0,
              "ticks": ""
             }
            },
            "type": "scatter3d"
           }
          ],
          "scattercarpet": [
           {
            "marker": {
             "colorbar": {
              "outlinewidth": 0,
              "ticks": ""
             }
            },
            "type": "scattercarpet"
           }
          ],
          "scattergeo": [
           {
            "marker": {
             "colorbar": {
              "outlinewidth": 0,
              "ticks": ""
             }
            },
            "type": "scattergeo"
           }
          ],
          "scattergl": [
           {
            "marker": {
             "colorbar": {
              "outlinewidth": 0,
              "ticks": ""
             }
            },
            "type": "scattergl"
           }
          ],
          "scattermapbox": [
           {
            "marker": {
             "colorbar": {
              "outlinewidth": 0,
              "ticks": ""
             }
            },
            "type": "scattermapbox"
           }
          ],
          "scatterpolar": [
           {
            "marker": {
             "colorbar": {
              "outlinewidth": 0,
              "ticks": ""
             }
            },
            "type": "scatterpolar"
           }
          ],
          "scatterpolargl": [
           {
            "marker": {
             "colorbar": {
              "outlinewidth": 0,
              "ticks": ""
             }
            },
            "type": "scatterpolargl"
           }
          ],
          "scatterternary": [
           {
            "marker": {
             "colorbar": {
              "outlinewidth": 0,
              "ticks": ""
             }
            },
            "type": "scatterternary"
           }
          ],
          "surface": [
           {
            "colorbar": {
             "outlinewidth": 0,
             "ticks": ""
            },
            "colorscale": [
             [
              0,
              "#0d0887"
             ],
             [
              0.1111111111111111,
              "#46039f"
             ],
             [
              0.2222222222222222,
              "#7201a8"
             ],
             [
              0.3333333333333333,
              "#9c179e"
             ],
             [
              0.4444444444444444,
              "#bd3786"
             ],
             [
              0.5555555555555556,
              "#d8576b"
             ],
             [
              0.6666666666666666,
              "#ed7953"
             ],
             [
              0.7777777777777778,
              "#fb9f3a"
             ],
             [
              0.8888888888888888,
              "#fdca26"
             ],
             [
              1,
              "#f0f921"
             ]
            ],
            "type": "surface"
           }
          ],
          "table": [
           {
            "cells": {
             "fill": {
              "color": "#EBF0F8"
             },
             "line": {
              "color": "white"
             }
            },
            "header": {
             "fill": {
              "color": "#C8D4E3"
             },
             "line": {
              "color": "white"
             }
            },
            "type": "table"
           }
          ]
         },
         "layout": {
          "annotationdefaults": {
           "arrowcolor": "#2a3f5f",
           "arrowhead": 0,
           "arrowwidth": 1
          },
          "coloraxis": {
           "colorbar": {
            "outlinewidth": 0,
            "ticks": ""
           }
          },
          "colorscale": {
           "diverging": [
            [
             0,
             "#8e0152"
            ],
            [
             0.1,
             "#c51b7d"
            ],
            [
             0.2,
             "#de77ae"
            ],
            [
             0.3,
             "#f1b6da"
            ],
            [
             0.4,
             "#fde0ef"
            ],
            [
             0.5,
             "#f7f7f7"
            ],
            [
             0.6,
             "#e6f5d0"
            ],
            [
             0.7,
             "#b8e186"
            ],
            [
             0.8,
             "#7fbc41"
            ],
            [
             0.9,
             "#4d9221"
            ],
            [
             1,
             "#276419"
            ]
           ],
           "sequential": [
            [
             0,
             "#0d0887"
            ],
            [
             0.1111111111111111,
             "#46039f"
            ],
            [
             0.2222222222222222,
             "#7201a8"
            ],
            [
             0.3333333333333333,
             "#9c179e"
            ],
            [
             0.4444444444444444,
             "#bd3786"
            ],
            [
             0.5555555555555556,
             "#d8576b"
            ],
            [
             0.6666666666666666,
             "#ed7953"
            ],
            [
             0.7777777777777778,
             "#fb9f3a"
            ],
            [
             0.8888888888888888,
             "#fdca26"
            ],
            [
             1,
             "#f0f921"
            ]
           ],
           "sequentialminus": [
            [
             0,
             "#0d0887"
            ],
            [
             0.1111111111111111,
             "#46039f"
            ],
            [
             0.2222222222222222,
             "#7201a8"
            ],
            [
             0.3333333333333333,
             "#9c179e"
            ],
            [
             0.4444444444444444,
             "#bd3786"
            ],
            [
             0.5555555555555556,
             "#d8576b"
            ],
            [
             0.6666666666666666,
             "#ed7953"
            ],
            [
             0.7777777777777778,
             "#fb9f3a"
            ],
            [
             0.8888888888888888,
             "#fdca26"
            ],
            [
             1,
             "#f0f921"
            ]
           ]
          },
          "colorway": [
           "#636efa",
           "#EF553B",
           "#00cc96",
           "#ab63fa",
           "#FFA15A",
           "#19d3f3",
           "#FF6692",
           "#B6E880",
           "#FF97FF",
           "#FECB52"
          ],
          "font": {
           "color": "#2a3f5f"
          },
          "geo": {
           "bgcolor": "white",
           "lakecolor": "white",
           "landcolor": "#E5ECF6",
           "showlakes": true,
           "showland": true,
           "subunitcolor": "white"
          },
          "hoverlabel": {
           "align": "left"
          },
          "hovermode": "closest",
          "mapbox": {
           "style": "light"
          },
          "paper_bgcolor": "white",
          "plot_bgcolor": "#E5ECF6",
          "polar": {
           "angularaxis": {
            "gridcolor": "white",
            "linecolor": "white",
            "ticks": ""
           },
           "bgcolor": "#E5ECF6",
           "radialaxis": {
            "gridcolor": "white",
            "linecolor": "white",
            "ticks": ""
           }
          },
          "scene": {
           "xaxis": {
            "backgroundcolor": "#E5ECF6",
            "gridcolor": "white",
            "gridwidth": 2,
            "linecolor": "white",
            "showbackground": true,
            "ticks": "",
            "zerolinecolor": "white"
           },
           "yaxis": {
            "backgroundcolor": "#E5ECF6",
            "gridcolor": "white",
            "gridwidth": 2,
            "linecolor": "white",
            "showbackground": true,
            "ticks": "",
            "zerolinecolor": "white"
           },
           "zaxis": {
            "backgroundcolor": "#E5ECF6",
            "gridcolor": "white",
            "gridwidth": 2,
            "linecolor": "white",
            "showbackground": true,
            "ticks": "",
            "zerolinecolor": "white"
           }
          },
          "shapedefaults": {
           "line": {
            "color": "#2a3f5f"
           }
          },
          "ternary": {
           "aaxis": {
            "gridcolor": "white",
            "linecolor": "white",
            "ticks": ""
           },
           "baxis": {
            "gridcolor": "white",
            "linecolor": "white",
            "ticks": ""
           },
           "bgcolor": "#E5ECF6",
           "caxis": {
            "gridcolor": "white",
            "linecolor": "white",
            "ticks": ""
           }
          },
          "title": {
           "x": 0.05
          },
          "xaxis": {
           "automargin": true,
           "gridcolor": "white",
           "linecolor": "white",
           "ticks": "",
           "title": {
            "standoff": 15
           },
           "zerolinecolor": "white",
           "zerolinewidth": 2
          },
          "yaxis": {
           "automargin": true,
           "gridcolor": "white",
           "linecolor": "white",
           "ticks": "",
           "title": {
            "standoff": 15
           },
           "zerolinecolor": "white",
           "zerolinewidth": 2
          }
         }
        },
        "title": {
         "font": {
          "color": "#4D5663"
         }
        },
        "xaxis": {
         "gridcolor": "#E1E5ED",
         "showgrid": true,
         "tickfont": {
          "color": "#4D5663"
         },
         "title": {
          "font": {
           "color": "#4D5663"
          },
          "text": ""
         },
         "zerolinecolor": "#E1E5ED"
        },
        "yaxis": {
         "gridcolor": "#E1E5ED",
         "showgrid": true,
         "tickfont": {
          "color": "#4D5663"
         },
         "title": {
          "font": {
           "color": "#4D5663"
          },
          "text": ""
         },
         "zerolinecolor": "#E1E5ED"
        }
       }
      },
      "text/html": [
       "<div>\n",
       "        \n",
       "        \n",
       "            <div id=\"470db388-4e60-4599-b974-f99ecde776e9\" class=\"plotly-graph-div\" style=\"height:525px; width:100%;\"></div>\n",
       "            <script type=\"text/javascript\">\n",
       "                require([\"plotly\"], function(Plotly) {\n",
       "                    window.PLOTLYENV=window.PLOTLYENV || {};\n",
       "                    window.PLOTLYENV.BASE_URL='https://plot.ly';\n",
       "                    \n",
       "                if (document.getElementById(\"470db388-4e60-4599-b974-f99ecde776e9\")) {\n",
       "                    Plotly.newPlot(\n",
       "                        '470db388-4e60-4599-b974-f99ecde776e9',\n",
       "                        [{\"boxpoints\": false, \"line\": {\"width\": 1.3}, \"marker\": {\"color\": \"rgba(255, 153, 51, 1.0)\"}, \"name\": \"A\", \"orientation\": \"v\", \"type\": \"box\", \"y\": [0.48758791284167, -1.0945360538696463, -0.025109160636671034, 0.5318438573072443, 1.170821047816164, -1.0781069618216137, 0.023929908721716072, -0.3341668073479446, 0.15466770476350178, 1.5446639151497434, 1.4056054833842484, 1.6261568763361154, -1.1227374435458701, 0.28194097407828445, -0.682223671693977, -0.9562545728370384, -0.7209835661743308, -0.03317994654738412, 0.5205553063310279, -1.1366028975811477, -0.9786485170200829, 0.13548859544218975, -0.0009540853056883342, 0.5979449535006777, 1.1149531211625783, 0.4283544325769933, -0.2411460571149065, -1.2870861552795327, 0.03636844814017887, 1.2075977330375478, -1.1535869763732076, 1.0628415041799286, -1.0491639233442693, 1.3811022114090363, -0.3613211905254392, -0.45890225542836116, -0.12162760141230262, -0.8396215800903595, -0.565381067065979, -3.4566182937067276, 0.8993420377570022, 0.2165974313829244, 1.6103508033055005, 0.0094913782519163, 0.45531265282040323, 0.6119558083278896, -0.2942946657226144, -1.2729657899992224, -0.3545189453227468, 0.07805696223208544, -0.66178932419833, -1.6925420918465717, -0.1307554580410991, -0.39774105359567025, -1.516011865561858, -0.5391143165355534, -1.1142859655918813, 1.0551320487656342, -0.5717178581500568, -0.1073076890360471, -1.5270560562106272, -0.7899843365922449, -0.6356350799456826, -0.41468126319261245, 1.6781806287486598, -0.33874390881565875, 0.18609602799409797, -1.2338502645280391, 0.10345221635878635, 0.6586971927026098, 0.5813188464153145, 1.3837115433387472, -0.29753261872603187, -1.6128956978544893, -1.103081913031465, -0.15162181863861388, 0.7316627867109841, -0.8665646320585265, -1.701661298481288, 1.596184275190892, 0.14494608879711593, -0.41603294033322546, 0.9563325173459639, -0.30156389581498877, 0.926333185290943, 0.6631382639673186, 0.39152621569100776, -0.5826926583224311, 0.6255130281637811, -0.21940433600962406, -0.9505295760532173, -0.10707435083175479, 0.37504647253794426, -0.7821664392300294, 1.213031390357866, -0.009994398016467693, 0.9894948390200397, -1.647259086231465, 0.9233657259667436, 0.17155861516031895]}, {\"boxpoints\": false, \"line\": {\"width\": 1.3}, \"marker\": {\"color\": \"rgba(55, 128, 191, 1.0)\"}, \"name\": \"B\", \"orientation\": \"v\", \"type\": \"box\", \"y\": [-0.3260093462636492, 0.24999368535084174, 0.23529007756177991, 1.497738301294124, -1.9235211183341405, -2.0300951821002418, -0.8026053432036195, -0.062102401082379945, 0.5733134985509706, -0.028200152143247094, 0.5457366836861638, 1.9105677035222017, -1.8510783961436936, 1.8936264586473475, 0.8455161682358032, 0.08530004905902606, 1.15547970626262, 0.33241678821461357, 0.8973896937867161, 0.19756270998312664, -0.5551208869803647, -0.7141539274695231, 0.009781143871655847, -0.7963514852359374, 0.18435114594596597, -0.7236122806767714, -0.6268367864953104, -1.0069813144186306, -0.5997263961705249, 0.2218092724149917, -1.170188533181909, -0.7686459812838211, -0.5673983196078344, 1.5249329961718672, -2.1774022163390523, -0.16736496395437145, 1.0228620924991214, 0.3910535831520817, 1.728288848550678, -0.009405137671356954, 0.9241988728738655, 0.44155721095505096, -0.22054721336042088, 0.5781436798174855, -1.290605550402523, -0.8219921260635391, 0.6672891466109183, -1.0544087228560581, 0.8576970417953911, 1.4773492966329609, -0.37563342720144566, 1.2771642094219255, 1.4113133544016951, -0.29750095974408886, -0.3162064319347066, 1.188528108737439, 0.579601446889555, -1.7869180545292704, 0.6597949108832315, -0.0001365483231869348, 1.1812217654383987, -0.039242310036225546, 0.055462809310465856, -0.26055519934982774, 0.6725828725192213, -0.5868956518865107, -0.36545184706978795, 0.9293783772779497, -1.12768298608976, -0.6802463660504389, 1.0337663943479858, -0.11482295289181627, -0.050142642112852305, -0.7605981670708353, 1.1776341864268012, -1.046185183818184, -0.7725793465552173, -0.19141931620324604, -0.5627311353208561, -0.6551472073374759, 0.1682953138174061, -1.219605336933295, 1.1676004025006497, -1.729816895327089, 0.7124705106659508, 1.5236894135662393, -1.6321268418409738, -0.7707520544200946, -0.05597956411105408, 0.16633345555002213, 1.3749075858226854, 0.7668818323383592, 1.2292117573820642, -0.09963937439980546, 1.8913086287611742, -0.13916805496855586, -0.8661975302049588, 0.011535216890753078, 1.2450592447021642, -2.211752092799134]}, {\"boxpoints\": false, \"line\": {\"width\": 1.3}, \"marker\": {\"color\": \"rgba(50, 171, 96, 1.0)\"}, \"name\": \"C\", \"orientation\": \"v\", \"type\": \"box\", \"y\": [-0.9215737996680481, 0.24257794495661747, 0.28730374971215455, 0.14040275264155666, -0.01454372243547929, 0.5701479887456785, -0.5913889393179355, -0.5391923903512743, -0.1268109615054854, 0.8330285935502711, -0.45887812076157464, -0.9098656132168144, 0.30937887086993643, -1.3173769403479854, 1.1390528635745454, -0.054313980526728284, -0.06345952949402739, -1.1848137236310903, 0.07638907718243115, -0.7575403986569592, 1.7111419842743498, 0.27368305370590473, -0.14455085058261638, 0.035816694898625955, 0.21415107397239885, 1.9934432737074155, 0.25865489493566746, -2.311189157953442, 0.6209601156744055, 0.7504779554943947, 0.09748343837697022, 0.17482346528953707, 0.5823900490090388, 1.1176691088840645, -0.15595798168684122, -0.39505494965702165, -0.43222799923157496, -0.021203250326226684, 1.536868590901801, 0.8289905654680133, 0.920122027822724, 0.7552087906910285, -0.4435526780625535, 0.7533509524104882, -0.3163692824277632, -1.3740015077056968, 1.4844837012254757, 1.6989196256086767, 0.21383303878010604, 0.8903447804836941, -0.4811875074025367, -0.4083018305349428, 1.5122987569757786, -3.456495150976108, -0.5078588732223014, -0.19091788141284483, 0.07076357456210358, -1.1408201971843714, 1.8997545762062136, 0.09703976302099852, 0.039703654766854495, 1.0494411955167449, 0.029929215098847543, 1.7940867369711784, -1.4870984274296137, -0.6874900617646675, 1.4365266243030386, 0.0230165236855401, -0.3063837206223713, -2.659682030893965, 1.2274792247016022, 0.3119932445595903, 1.2018157112787466, 0.5033149695523894, -0.01920839903472686, 0.15679949048063785, 0.12213403014052661, -0.12491818968818347, 0.9322611703529357, -0.32080906005630394, -1.9843429087528304, -2.1117410103351584, -0.9971293003585686, 1.2539711506249005, -0.9705376358440737, 1.110380938606927, -0.9658677901361647, -1.3794425991471915, -0.18429815818266237, -2.4709888143236496, 2.0947893798665924, -0.3557969469360339, 0.5337181750396833, 0.12295132345624875, 1.425546310958585, 0.1999557525436834, -1.293395493776135, 1.221242082392363, -0.7800515940717015, -0.4455096834649943]}, {\"boxpoints\": false, \"line\": {\"width\": 1.3}, \"marker\": {\"color\": \"rgba(128, 0, 128, 1.0)\"}, \"name\": \"D\", \"orientation\": \"v\", \"type\": \"box\", \"y\": [-0.3732001785635488, 0.02772057204258057, 2.0780977673160814, 1.3345213603864252, 0.1694366973809169, -0.2684697638023764, -0.6082296092599212, 0.6508892453079715, -0.4345062907402152, -0.5617920353885649, -0.587017228791666, -1.090602506962519, -0.47177082945853616, -0.5047968481345675, 0.30674061235988115, -0.2580618267023648, 1.213046387572064, -0.10336248572090953, 1.2135641909949002, -0.29573781138810157, 0.09265697441911201, 1.181111268444659, 0.9794260265187278, -0.2066609559336435, -1.4324849127349883, 1.8973719521978711, -1.5770524954708642, -1.5233755285194996, -0.11954388695033413, 0.408227044615286, -0.7943217801990868, -0.4074277029874315, -1.2964724531322758, 1.3531820244255979, -0.10209548025668516, -3.962267411342711, 0.3925374957693042, -1.5987574555527004, -0.015690786883268432, -1.3646431233639413, 0.005367302494327931, -1.1544773552282033, 0.6812441407429343, 1.3980508128192732, -0.6960723365727628, 0.8007104031685038, 0.22814968085465678, 0.39540184605719475, -0.6465850039640896, -0.49131677264646473, -1.7766857278277122, -0.5308430489637528, -0.4143386231020363, 0.9564710084119504, -0.3110460476539002, 1.8446499699453207, 0.38994548400707324, -2.7684282902563084, -2.119079548307512, -0.1266261950522138, -0.45611608273969556, 0.077912447832572, -0.21689984979054935, -0.7121695757676461, -0.3490408053170844, 0.3906916972874522, -0.8297333159231602, -0.707490514149694, -1.2545296140226112, -0.05515145982340287, -0.40172092888359184, -1.8846250805252711, 0.9566507481486777, 1.6497778073533933, -1.4767802190660844, 0.05283350103280196, -1.0329661785748872, 0.5644947822224133, -3.2623765712883497, -0.050082748227648924, -0.31321634490070466, -1.0917145834668929, 0.5450272060871032, -0.27725916223419866, -1.3544628542209094, -2.561107978279768, -0.29988417704474407, -0.08734822296629834, 0.31378902477164194, -0.08316283323673339, -0.057673051473649005, -1.1827138584189956, -0.9354931234512995, 0.5391231576807595, 0.6683226564578738, 1.4246185626652708, -0.250826647645536, -1.7472524156312297, 0.0165326921674526, -0.07634791957043927]}],\n",
       "                        {\"legend\": {\"bgcolor\": \"#F5F6F9\", \"font\": {\"color\": \"#4D5663\"}}, \"paper_bgcolor\": \"#F5F6F9\", \"plot_bgcolor\": \"#F5F6F9\", \"template\": {\"data\": {\"bar\": [{\"error_x\": {\"color\": \"#2a3f5f\"}, \"error_y\": {\"color\": \"#2a3f5f\"}, \"marker\": {\"line\": {\"color\": \"#E5ECF6\", \"width\": 0.5}}, \"type\": \"bar\"}], \"barpolar\": [{\"marker\": {\"line\": {\"color\": \"#E5ECF6\", \"width\": 0.5}}, \"type\": \"barpolar\"}], \"carpet\": [{\"aaxis\": {\"endlinecolor\": \"#2a3f5f\", \"gridcolor\": \"white\", \"linecolor\": \"white\", \"minorgridcolor\": \"white\", \"startlinecolor\": \"#2a3f5f\"}, \"baxis\": {\"endlinecolor\": \"#2a3f5f\", \"gridcolor\": \"white\", \"linecolor\": \"white\", \"minorgridcolor\": \"white\", \"startlinecolor\": \"#2a3f5f\"}, \"type\": \"carpet\"}], \"choropleth\": [{\"colorbar\": {\"outlinewidth\": 0, \"ticks\": \"\"}, \"type\": \"choropleth\"}], \"contour\": [{\"colorbar\": {\"outlinewidth\": 0, \"ticks\": \"\"}, \"colorscale\": [[0.0, \"#0d0887\"], [0.1111111111111111, \"#46039f\"], [0.2222222222222222, \"#7201a8\"], [0.3333333333333333, \"#9c179e\"], [0.4444444444444444, \"#bd3786\"], [0.5555555555555556, \"#d8576b\"], [0.6666666666666666, \"#ed7953\"], [0.7777777777777778, \"#fb9f3a\"], [0.8888888888888888, \"#fdca26\"], [1.0, \"#f0f921\"]], \"type\": \"contour\"}], \"contourcarpet\": [{\"colorbar\": {\"outlinewidth\": 0, \"ticks\": \"\"}, \"type\": \"contourcarpet\"}], \"heatmap\": [{\"colorbar\": {\"outlinewidth\": 0, \"ticks\": \"\"}, \"colorscale\": [[0.0, \"#0d0887\"], [0.1111111111111111, \"#46039f\"], [0.2222222222222222, \"#7201a8\"], [0.3333333333333333, \"#9c179e\"], [0.4444444444444444, \"#bd3786\"], [0.5555555555555556, \"#d8576b\"], [0.6666666666666666, \"#ed7953\"], [0.7777777777777778, \"#fb9f3a\"], [0.8888888888888888, \"#fdca26\"], [1.0, \"#f0f921\"]], \"type\": \"heatmap\"}], \"heatmapgl\": [{\"colorbar\": {\"outlinewidth\": 0, \"ticks\": \"\"}, \"colorscale\": [[0.0, \"#0d0887\"], [0.1111111111111111, \"#46039f\"], [0.2222222222222222, \"#7201a8\"], [0.3333333333333333, \"#9c179e\"], [0.4444444444444444, \"#bd3786\"], [0.5555555555555556, \"#d8576b\"], [0.6666666666666666, \"#ed7953\"], [0.7777777777777778, \"#fb9f3a\"], [0.8888888888888888, \"#fdca26\"], [1.0, \"#f0f921\"]], \"type\": \"heatmapgl\"}], \"histogram\": [{\"marker\": {\"colorbar\": {\"outlinewidth\": 0, \"ticks\": \"\"}}, \"type\": \"histogram\"}], \"histogram2d\": [{\"colorbar\": {\"outlinewidth\": 0, \"ticks\": \"\"}, \"colorscale\": [[0.0, \"#0d0887\"], [0.1111111111111111, \"#46039f\"], [0.2222222222222222, \"#7201a8\"], [0.3333333333333333, \"#9c179e\"], [0.4444444444444444, \"#bd3786\"], [0.5555555555555556, \"#d8576b\"], [0.6666666666666666, \"#ed7953\"], [0.7777777777777778, \"#fb9f3a\"], [0.8888888888888888, \"#fdca26\"], [1.0, \"#f0f921\"]], \"type\": \"histogram2d\"}], \"histogram2dcontour\": [{\"colorbar\": {\"outlinewidth\": 0, \"ticks\": \"\"}, \"colorscale\": [[0.0, \"#0d0887\"], [0.1111111111111111, \"#46039f\"], [0.2222222222222222, \"#7201a8\"], [0.3333333333333333, \"#9c179e\"], [0.4444444444444444, \"#bd3786\"], [0.5555555555555556, \"#d8576b\"], [0.6666666666666666, \"#ed7953\"], [0.7777777777777778, \"#fb9f3a\"], [0.8888888888888888, \"#fdca26\"], [1.0, \"#f0f921\"]], \"type\": \"histogram2dcontour\"}], \"mesh3d\": [{\"colorbar\": {\"outlinewidth\": 0, \"ticks\": \"\"}, \"type\": \"mesh3d\"}], \"parcoords\": [{\"line\": {\"colorbar\": {\"outlinewidth\": 0, \"ticks\": \"\"}}, \"type\": \"parcoords\"}], \"pie\": [{\"automargin\": true, \"type\": \"pie\"}], \"scatter\": [{\"marker\": {\"colorbar\": {\"outlinewidth\": 0, \"ticks\": \"\"}}, \"type\": \"scatter\"}], \"scatter3d\": [{\"line\": {\"colorbar\": {\"outlinewidth\": 0, \"ticks\": \"\"}}, \"marker\": {\"colorbar\": {\"outlinewidth\": 0, \"ticks\": \"\"}}, \"type\": \"scatter3d\"}], \"scattercarpet\": [{\"marker\": {\"colorbar\": {\"outlinewidth\": 0, \"ticks\": \"\"}}, \"type\": \"scattercarpet\"}], \"scattergeo\": [{\"marker\": {\"colorbar\": {\"outlinewidth\": 0, \"ticks\": \"\"}}, \"type\": \"scattergeo\"}], \"scattergl\": [{\"marker\": {\"colorbar\": {\"outlinewidth\": 0, \"ticks\": \"\"}}, \"type\": \"scattergl\"}], \"scattermapbox\": [{\"marker\": {\"colorbar\": {\"outlinewidth\": 0, \"ticks\": \"\"}}, \"type\": \"scattermapbox\"}], \"scatterpolar\": [{\"marker\": {\"colorbar\": {\"outlinewidth\": 0, \"ticks\": \"\"}}, \"type\": \"scatterpolar\"}], \"scatterpolargl\": [{\"marker\": {\"colorbar\": {\"outlinewidth\": 0, \"ticks\": \"\"}}, \"type\": \"scatterpolargl\"}], \"scatterternary\": [{\"marker\": {\"colorbar\": {\"outlinewidth\": 0, \"ticks\": \"\"}}, \"type\": \"scatterternary\"}], \"surface\": [{\"colorbar\": {\"outlinewidth\": 0, \"ticks\": \"\"}, \"colorscale\": [[0.0, \"#0d0887\"], [0.1111111111111111, \"#46039f\"], [0.2222222222222222, \"#7201a8\"], [0.3333333333333333, \"#9c179e\"], [0.4444444444444444, \"#bd3786\"], [0.5555555555555556, \"#d8576b\"], [0.6666666666666666, \"#ed7953\"], [0.7777777777777778, \"#fb9f3a\"], [0.8888888888888888, \"#fdca26\"], [1.0, \"#f0f921\"]], \"type\": \"surface\"}], \"table\": [{\"cells\": {\"fill\": {\"color\": \"#EBF0F8\"}, \"line\": {\"color\": \"white\"}}, \"header\": {\"fill\": {\"color\": \"#C8D4E3\"}, \"line\": {\"color\": \"white\"}}, \"type\": \"table\"}]}, \"layout\": {\"annotationdefaults\": {\"arrowcolor\": \"#2a3f5f\", \"arrowhead\": 0, \"arrowwidth\": 1}, \"coloraxis\": {\"colorbar\": {\"outlinewidth\": 0, \"ticks\": \"\"}}, \"colorscale\": {\"diverging\": [[0, \"#8e0152\"], [0.1, \"#c51b7d\"], [0.2, \"#de77ae\"], [0.3, \"#f1b6da\"], [0.4, \"#fde0ef\"], [0.5, \"#f7f7f7\"], [0.6, \"#e6f5d0\"], [0.7, \"#b8e186\"], [0.8, \"#7fbc41\"], [0.9, \"#4d9221\"], [1, \"#276419\"]], \"sequential\": [[0.0, \"#0d0887\"], [0.1111111111111111, \"#46039f\"], [0.2222222222222222, \"#7201a8\"], [0.3333333333333333, \"#9c179e\"], [0.4444444444444444, \"#bd3786\"], [0.5555555555555556, \"#d8576b\"], [0.6666666666666666, \"#ed7953\"], [0.7777777777777778, \"#fb9f3a\"], [0.8888888888888888, \"#fdca26\"], [1.0, \"#f0f921\"]], \"sequentialminus\": [[0.0, \"#0d0887\"], [0.1111111111111111, \"#46039f\"], [0.2222222222222222, \"#7201a8\"], [0.3333333333333333, \"#9c179e\"], [0.4444444444444444, \"#bd3786\"], [0.5555555555555556, \"#d8576b\"], [0.6666666666666666, \"#ed7953\"], [0.7777777777777778, \"#fb9f3a\"], [0.8888888888888888, \"#fdca26\"], [1.0, \"#f0f921\"]]}, \"colorway\": [\"#636efa\", \"#EF553B\", \"#00cc96\", \"#ab63fa\", \"#FFA15A\", \"#19d3f3\", \"#FF6692\", \"#B6E880\", \"#FF97FF\", \"#FECB52\"], \"font\": {\"color\": \"#2a3f5f\"}, \"geo\": {\"bgcolor\": \"white\", \"lakecolor\": \"white\", \"landcolor\": \"#E5ECF6\", \"showlakes\": true, \"showland\": true, \"subunitcolor\": \"white\"}, \"hoverlabel\": {\"align\": \"left\"}, \"hovermode\": \"closest\", \"mapbox\": {\"style\": \"light\"}, \"paper_bgcolor\": \"white\", \"plot_bgcolor\": \"#E5ECF6\", \"polar\": {\"angularaxis\": {\"gridcolor\": \"white\", \"linecolor\": \"white\", \"ticks\": \"\"}, \"bgcolor\": \"#E5ECF6\", \"radialaxis\": {\"gridcolor\": \"white\", \"linecolor\": \"white\", \"ticks\": \"\"}}, \"scene\": {\"xaxis\": {\"backgroundcolor\": \"#E5ECF6\", \"gridcolor\": \"white\", \"gridwidth\": 2, \"linecolor\": \"white\", \"showbackground\": true, \"ticks\": \"\", \"zerolinecolor\": \"white\"}, \"yaxis\": {\"backgroundcolor\": \"#E5ECF6\", \"gridcolor\": \"white\", \"gridwidth\": 2, \"linecolor\": \"white\", \"showbackground\": true, \"ticks\": \"\", \"zerolinecolor\": \"white\"}, \"zaxis\": {\"backgroundcolor\": \"#E5ECF6\", \"gridcolor\": \"white\", \"gridwidth\": 2, \"linecolor\": \"white\", \"showbackground\": true, \"ticks\": \"\", \"zerolinecolor\": \"white\"}}, \"shapedefaults\": {\"line\": {\"color\": \"#2a3f5f\"}}, \"ternary\": {\"aaxis\": {\"gridcolor\": \"white\", \"linecolor\": \"white\", \"ticks\": \"\"}, \"baxis\": {\"gridcolor\": \"white\", \"linecolor\": \"white\", \"ticks\": \"\"}, \"bgcolor\": \"#E5ECF6\", \"caxis\": {\"gridcolor\": \"white\", \"linecolor\": \"white\", \"ticks\": \"\"}}, \"title\": {\"x\": 0.05}, \"xaxis\": {\"automargin\": true, \"gridcolor\": \"white\", \"linecolor\": \"white\", \"ticks\": \"\", \"title\": {\"standoff\": 15}, \"zerolinecolor\": \"white\", \"zerolinewidth\": 2}, \"yaxis\": {\"automargin\": true, \"gridcolor\": \"white\", \"linecolor\": \"white\", \"ticks\": \"\", \"title\": {\"standoff\": 15}, \"zerolinecolor\": \"white\", \"zerolinewidth\": 2}}}, \"title\": {\"font\": {\"color\": \"#4D5663\"}}, \"xaxis\": {\"gridcolor\": \"#E1E5ED\", \"showgrid\": true, \"tickfont\": {\"color\": \"#4D5663\"}, \"title\": {\"font\": {\"color\": \"#4D5663\"}, \"text\": \"\"}, \"zerolinecolor\": \"#E1E5ED\"}, \"yaxis\": {\"gridcolor\": \"#E1E5ED\", \"showgrid\": true, \"tickfont\": {\"color\": \"#4D5663\"}, \"title\": {\"font\": {\"color\": \"#4D5663\"}, \"text\": \"\"}, \"zerolinecolor\": \"#E1E5ED\"}},\n",
       "                        {\"showLink\": true, \"linkText\": \"Export to plot.ly\", \"plotlyServerURL\": \"https://plot.ly\", \"responsive\": true}\n",
       "                    ).then(function(){\n",
       "                            \n",
       "var gd = document.getElementById('470db388-4e60-4599-b974-f99ecde776e9');\n",
       "var x = new MutationObserver(function (mutations, observer) {{\n",
       "        var display = window.getComputedStyle(gd).display;\n",
       "        if (!display || display === 'none') {{\n",
       "            console.log([gd, 'removed!']);\n",
       "            Plotly.purge(gd);\n",
       "            observer.disconnect();\n",
       "        }}\n",
       "}});\n",
       "\n",
       "// Listen for the removal of the full notebook cells\n",
       "var notebookContainer = gd.closest('#notebook-container');\n",
       "if (notebookContainer) {{\n",
       "    x.observe(notebookContainer, {childList: true});\n",
       "}}\n",
       "\n",
       "// Listen for the clearing of the current output cell\n",
       "var outputEl = gd.closest('.output');\n",
       "if (outputEl) {{\n",
       "    x.observe(outputEl, {childList: true});\n",
       "}}\n",
       "\n",
       "                        })\n",
       "                };\n",
       "                });\n",
       "            </script>\n",
       "        </div>"
      ]
     },
     "metadata": {},
     "output_type": "display_data"
    }
   ],
   "source": [
    "# Box Plot\n",
    "df.iplot(kind='box')"
   ]
  },
  {
   "cell_type": "code",
   "execution_count": 27,
   "metadata": {},
   "outputs": [],
   "source": [
    "# we made another dataframe to use it in the 3d surfaces\n",
    "df3=pd.DataFrame({'x':[1,2,3,4,5],'y':[10,20,30,40,50],'z':[500,400,300,200,100]})"
   ]
  },
  {
   "cell_type": "code",
   "execution_count": 28,
   "metadata": {},
   "outputs": [
    {
     "data": {
      "text/html": [
       "<div>\n",
       "<style scoped>\n",
       "    .dataframe tbody tr th:only-of-type {\n",
       "        vertical-align: middle;\n",
       "    }\n",
       "\n",
       "    .dataframe tbody tr th {\n",
       "        vertical-align: top;\n",
       "    }\n",
       "\n",
       "    .dataframe thead th {\n",
       "        text-align: right;\n",
       "    }\n",
       "</style>\n",
       "<table border=\"1\" class=\"dataframe\">\n",
       "  <thead>\n",
       "    <tr style=\"text-align: right;\">\n",
       "      <th></th>\n",
       "      <th>x</th>\n",
       "      <th>y</th>\n",
       "      <th>z</th>\n",
       "    </tr>\n",
       "  </thead>\n",
       "  <tbody>\n",
       "    <tr>\n",
       "      <th>0</th>\n",
       "      <td>1</td>\n",
       "      <td>10</td>\n",
       "      <td>500</td>\n",
       "    </tr>\n",
       "    <tr>\n",
       "      <th>1</th>\n",
       "      <td>2</td>\n",
       "      <td>20</td>\n",
       "      <td>400</td>\n",
       "    </tr>\n",
       "    <tr>\n",
       "      <th>2</th>\n",
       "      <td>3</td>\n",
       "      <td>30</td>\n",
       "      <td>300</td>\n",
       "    </tr>\n",
       "    <tr>\n",
       "      <th>3</th>\n",
       "      <td>4</td>\n",
       "      <td>40</td>\n",
       "      <td>200</td>\n",
       "    </tr>\n",
       "    <tr>\n",
       "      <th>4</th>\n",
       "      <td>5</td>\n",
       "      <td>50</td>\n",
       "      <td>100</td>\n",
       "    </tr>\n",
       "  </tbody>\n",
       "</table>\n",
       "</div>"
      ],
      "text/plain": [
       "   x   y    z\n",
       "0  1  10  500\n",
       "1  2  20  400\n",
       "2  3  30  300\n",
       "3  4  40  200\n",
       "4  5  50  100"
      ]
     },
     "execution_count": 28,
     "metadata": {},
     "output_type": "execute_result"
    }
   ],
   "source": [
    "df3"
   ]
  },
  {
   "cell_type": "code",
   "execution_count": 29,
   "metadata": {},
   "outputs": [
    {
     "data": {
      "application/vnd.plotly.v1+json": {
       "config": {
        "linkText": "Export to plot.ly",
        "plotlyServerURL": "https://plot.ly",
        "showLink": true
       },
       "data": [
        {
         "colorscale": [
          [
           0,
           "rgb(255, 153, 51)"
          ],
          [
           0.1111111111111111,
           "rgb(55, 128, 191)"
          ],
          [
           0.2222222222222222,
           "rgb(50, 171, 96)"
          ],
          [
           0.3333333333333333,
           "rgb(128, 0, 128)"
          ],
          [
           0.4444444444444444,
           "rgb(219, 64, 82)"
          ],
          [
           0.5555555555555556,
           "rgb(0, 128, 128)"
          ],
          [
           0.6666666666666666,
           "rgb(255, 255, 51)"
          ],
          [
           0.7777777777777778,
           "rgb(128, 128, 0)"
          ],
          [
           0.8888888888888888,
           "rgb(251, 128, 114)"
          ],
          [
           1,
           "rgb(128, 177, 211)"
          ]
         ],
         "type": "surface",
         "x": [
          0,
          1,
          2,
          3,
          4
         ],
         "y": [
          "x",
          "y",
          "z"
         ],
         "z": [
          [
           1,
           2,
           3,
           4,
           5
          ],
          [
           10,
           20,
           30,
           40,
           50
          ],
          [
           500,
           400,
           300,
           200,
           100
          ]
         ]
        }
       ],
       "layout": {
        "legend": {
         "bgcolor": "#F5F6F9",
         "font": {
          "color": "#4D5663"
         }
        },
        "paper_bgcolor": "#F5F6F9",
        "plot_bgcolor": "#F5F6F9",
        "template": {
         "data": {
          "bar": [
           {
            "error_x": {
             "color": "#2a3f5f"
            },
            "error_y": {
             "color": "#2a3f5f"
            },
            "marker": {
             "line": {
              "color": "#E5ECF6",
              "width": 0.5
             }
            },
            "type": "bar"
           }
          ],
          "barpolar": [
           {
            "marker": {
             "line": {
              "color": "#E5ECF6",
              "width": 0.5
             }
            },
            "type": "barpolar"
           }
          ],
          "carpet": [
           {
            "aaxis": {
             "endlinecolor": "#2a3f5f",
             "gridcolor": "white",
             "linecolor": "white",
             "minorgridcolor": "white",
             "startlinecolor": "#2a3f5f"
            },
            "baxis": {
             "endlinecolor": "#2a3f5f",
             "gridcolor": "white",
             "linecolor": "white",
             "minorgridcolor": "white",
             "startlinecolor": "#2a3f5f"
            },
            "type": "carpet"
           }
          ],
          "choropleth": [
           {
            "colorbar": {
             "outlinewidth": 0,
             "ticks": ""
            },
            "type": "choropleth"
           }
          ],
          "contour": [
           {
            "colorbar": {
             "outlinewidth": 0,
             "ticks": ""
            },
            "colorscale": [
             [
              0,
              "#0d0887"
             ],
             [
              0.1111111111111111,
              "#46039f"
             ],
             [
              0.2222222222222222,
              "#7201a8"
             ],
             [
              0.3333333333333333,
              "#9c179e"
             ],
             [
              0.4444444444444444,
              "#bd3786"
             ],
             [
              0.5555555555555556,
              "#d8576b"
             ],
             [
              0.6666666666666666,
              "#ed7953"
             ],
             [
              0.7777777777777778,
              "#fb9f3a"
             ],
             [
              0.8888888888888888,
              "#fdca26"
             ],
             [
              1,
              "#f0f921"
             ]
            ],
            "type": "contour"
           }
          ],
          "contourcarpet": [
           {
            "colorbar": {
             "outlinewidth": 0,
             "ticks": ""
            },
            "type": "contourcarpet"
           }
          ],
          "heatmap": [
           {
            "colorbar": {
             "outlinewidth": 0,
             "ticks": ""
            },
            "colorscale": [
             [
              0,
              "#0d0887"
             ],
             [
              0.1111111111111111,
              "#46039f"
             ],
             [
              0.2222222222222222,
              "#7201a8"
             ],
             [
              0.3333333333333333,
              "#9c179e"
             ],
             [
              0.4444444444444444,
              "#bd3786"
             ],
             [
              0.5555555555555556,
              "#d8576b"
             ],
             [
              0.6666666666666666,
              "#ed7953"
             ],
             [
              0.7777777777777778,
              "#fb9f3a"
             ],
             [
              0.8888888888888888,
              "#fdca26"
             ],
             [
              1,
              "#f0f921"
             ]
            ],
            "type": "heatmap"
           }
          ],
          "heatmapgl": [
           {
            "colorbar": {
             "outlinewidth": 0,
             "ticks": ""
            },
            "colorscale": [
             [
              0,
              "#0d0887"
             ],
             [
              0.1111111111111111,
              "#46039f"
             ],
             [
              0.2222222222222222,
              "#7201a8"
             ],
             [
              0.3333333333333333,
              "#9c179e"
             ],
             [
              0.4444444444444444,
              "#bd3786"
             ],
             [
              0.5555555555555556,
              "#d8576b"
             ],
             [
              0.6666666666666666,
              "#ed7953"
             ],
             [
              0.7777777777777778,
              "#fb9f3a"
             ],
             [
              0.8888888888888888,
              "#fdca26"
             ],
             [
              1,
              "#f0f921"
             ]
            ],
            "type": "heatmapgl"
           }
          ],
          "histogram": [
           {
            "marker": {
             "colorbar": {
              "outlinewidth": 0,
              "ticks": ""
             }
            },
            "type": "histogram"
           }
          ],
          "histogram2d": [
           {
            "colorbar": {
             "outlinewidth": 0,
             "ticks": ""
            },
            "colorscale": [
             [
              0,
              "#0d0887"
             ],
             [
              0.1111111111111111,
              "#46039f"
             ],
             [
              0.2222222222222222,
              "#7201a8"
             ],
             [
              0.3333333333333333,
              "#9c179e"
             ],
             [
              0.4444444444444444,
              "#bd3786"
             ],
             [
              0.5555555555555556,
              "#d8576b"
             ],
             [
              0.6666666666666666,
              "#ed7953"
             ],
             [
              0.7777777777777778,
              "#fb9f3a"
             ],
             [
              0.8888888888888888,
              "#fdca26"
             ],
             [
              1,
              "#f0f921"
             ]
            ],
            "type": "histogram2d"
           }
          ],
          "histogram2dcontour": [
           {
            "colorbar": {
             "outlinewidth": 0,
             "ticks": ""
            },
            "colorscale": [
             [
              0,
              "#0d0887"
             ],
             [
              0.1111111111111111,
              "#46039f"
             ],
             [
              0.2222222222222222,
              "#7201a8"
             ],
             [
              0.3333333333333333,
              "#9c179e"
             ],
             [
              0.4444444444444444,
              "#bd3786"
             ],
             [
              0.5555555555555556,
              "#d8576b"
             ],
             [
              0.6666666666666666,
              "#ed7953"
             ],
             [
              0.7777777777777778,
              "#fb9f3a"
             ],
             [
              0.8888888888888888,
              "#fdca26"
             ],
             [
              1,
              "#f0f921"
             ]
            ],
            "type": "histogram2dcontour"
           }
          ],
          "mesh3d": [
           {
            "colorbar": {
             "outlinewidth": 0,
             "ticks": ""
            },
            "type": "mesh3d"
           }
          ],
          "parcoords": [
           {
            "line": {
             "colorbar": {
              "outlinewidth": 0,
              "ticks": ""
             }
            },
            "type": "parcoords"
           }
          ],
          "pie": [
           {
            "automargin": true,
            "type": "pie"
           }
          ],
          "scatter": [
           {
            "marker": {
             "colorbar": {
              "outlinewidth": 0,
              "ticks": ""
             }
            },
            "type": "scatter"
           }
          ],
          "scatter3d": [
           {
            "line": {
             "colorbar": {
              "outlinewidth": 0,
              "ticks": ""
             }
            },
            "marker": {
             "colorbar": {
              "outlinewidth": 0,
              "ticks": ""
             }
            },
            "type": "scatter3d"
           }
          ],
          "scattercarpet": [
           {
            "marker": {
             "colorbar": {
              "outlinewidth": 0,
              "ticks": ""
             }
            },
            "type": "scattercarpet"
           }
          ],
          "scattergeo": [
           {
            "marker": {
             "colorbar": {
              "outlinewidth": 0,
              "ticks": ""
             }
            },
            "type": "scattergeo"
           }
          ],
          "scattergl": [
           {
            "marker": {
             "colorbar": {
              "outlinewidth": 0,
              "ticks": ""
             }
            },
            "type": "scattergl"
           }
          ],
          "scattermapbox": [
           {
            "marker": {
             "colorbar": {
              "outlinewidth": 0,
              "ticks": ""
             }
            },
            "type": "scattermapbox"
           }
          ],
          "scatterpolar": [
           {
            "marker": {
             "colorbar": {
              "outlinewidth": 0,
              "ticks": ""
             }
            },
            "type": "scatterpolar"
           }
          ],
          "scatterpolargl": [
           {
            "marker": {
             "colorbar": {
              "outlinewidth": 0,
              "ticks": ""
             }
            },
            "type": "scatterpolargl"
           }
          ],
          "scatterternary": [
           {
            "marker": {
             "colorbar": {
              "outlinewidth": 0,
              "ticks": ""
             }
            },
            "type": "scatterternary"
           }
          ],
          "surface": [
           {
            "colorbar": {
             "outlinewidth": 0,
             "ticks": ""
            },
            "colorscale": [
             [
              0,
              "#0d0887"
             ],
             [
              0.1111111111111111,
              "#46039f"
             ],
             [
              0.2222222222222222,
              "#7201a8"
             ],
             [
              0.3333333333333333,
              "#9c179e"
             ],
             [
              0.4444444444444444,
              "#bd3786"
             ],
             [
              0.5555555555555556,
              "#d8576b"
             ],
             [
              0.6666666666666666,
              "#ed7953"
             ],
             [
              0.7777777777777778,
              "#fb9f3a"
             ],
             [
              0.8888888888888888,
              "#fdca26"
             ],
             [
              1,
              "#f0f921"
             ]
            ],
            "type": "surface"
           }
          ],
          "table": [
           {
            "cells": {
             "fill": {
              "color": "#EBF0F8"
             },
             "line": {
              "color": "white"
             }
            },
            "header": {
             "fill": {
              "color": "#C8D4E3"
             },
             "line": {
              "color": "white"
             }
            },
            "type": "table"
           }
          ]
         },
         "layout": {
          "annotationdefaults": {
           "arrowcolor": "#2a3f5f",
           "arrowhead": 0,
           "arrowwidth": 1
          },
          "coloraxis": {
           "colorbar": {
            "outlinewidth": 0,
            "ticks": ""
           }
          },
          "colorscale": {
           "diverging": [
            [
             0,
             "#8e0152"
            ],
            [
             0.1,
             "#c51b7d"
            ],
            [
             0.2,
             "#de77ae"
            ],
            [
             0.3,
             "#f1b6da"
            ],
            [
             0.4,
             "#fde0ef"
            ],
            [
             0.5,
             "#f7f7f7"
            ],
            [
             0.6,
             "#e6f5d0"
            ],
            [
             0.7,
             "#b8e186"
            ],
            [
             0.8,
             "#7fbc41"
            ],
            [
             0.9,
             "#4d9221"
            ],
            [
             1,
             "#276419"
            ]
           ],
           "sequential": [
            [
             0,
             "#0d0887"
            ],
            [
             0.1111111111111111,
             "#46039f"
            ],
            [
             0.2222222222222222,
             "#7201a8"
            ],
            [
             0.3333333333333333,
             "#9c179e"
            ],
            [
             0.4444444444444444,
             "#bd3786"
            ],
            [
             0.5555555555555556,
             "#d8576b"
            ],
            [
             0.6666666666666666,
             "#ed7953"
            ],
            [
             0.7777777777777778,
             "#fb9f3a"
            ],
            [
             0.8888888888888888,
             "#fdca26"
            ],
            [
             1,
             "#f0f921"
            ]
           ],
           "sequentialminus": [
            [
             0,
             "#0d0887"
            ],
            [
             0.1111111111111111,
             "#46039f"
            ],
            [
             0.2222222222222222,
             "#7201a8"
            ],
            [
             0.3333333333333333,
             "#9c179e"
            ],
            [
             0.4444444444444444,
             "#bd3786"
            ],
            [
             0.5555555555555556,
             "#d8576b"
            ],
            [
             0.6666666666666666,
             "#ed7953"
            ],
            [
             0.7777777777777778,
             "#fb9f3a"
            ],
            [
             0.8888888888888888,
             "#fdca26"
            ],
            [
             1,
             "#f0f921"
            ]
           ]
          },
          "colorway": [
           "#636efa",
           "#EF553B",
           "#00cc96",
           "#ab63fa",
           "#FFA15A",
           "#19d3f3",
           "#FF6692",
           "#B6E880",
           "#FF97FF",
           "#FECB52"
          ],
          "font": {
           "color": "#2a3f5f"
          },
          "geo": {
           "bgcolor": "white",
           "lakecolor": "white",
           "landcolor": "#E5ECF6",
           "showlakes": true,
           "showland": true,
           "subunitcolor": "white"
          },
          "hoverlabel": {
           "align": "left"
          },
          "hovermode": "closest",
          "mapbox": {
           "style": "light"
          },
          "paper_bgcolor": "white",
          "plot_bgcolor": "#E5ECF6",
          "polar": {
           "angularaxis": {
            "gridcolor": "white",
            "linecolor": "white",
            "ticks": ""
           },
           "bgcolor": "#E5ECF6",
           "radialaxis": {
            "gridcolor": "white",
            "linecolor": "white",
            "ticks": ""
           }
          },
          "scene": {
           "xaxis": {
            "backgroundcolor": "#E5ECF6",
            "gridcolor": "white",
            "gridwidth": 2,
            "linecolor": "white",
            "showbackground": true,
            "ticks": "",
            "zerolinecolor": "white"
           },
           "yaxis": {
            "backgroundcolor": "#E5ECF6",
            "gridcolor": "white",
            "gridwidth": 2,
            "linecolor": "white",
            "showbackground": true,
            "ticks": "",
            "zerolinecolor": "white"
           },
           "zaxis": {
            "backgroundcolor": "#E5ECF6",
            "gridcolor": "white",
            "gridwidth": 2,
            "linecolor": "white",
            "showbackground": true,
            "ticks": "",
            "zerolinecolor": "white"
           }
          },
          "shapedefaults": {
           "line": {
            "color": "#2a3f5f"
           }
          },
          "ternary": {
           "aaxis": {
            "gridcolor": "white",
            "linecolor": "white",
            "ticks": ""
           },
           "baxis": {
            "gridcolor": "white",
            "linecolor": "white",
            "ticks": ""
           },
           "bgcolor": "#E5ECF6",
           "caxis": {
            "gridcolor": "white",
            "linecolor": "white",
            "ticks": ""
           }
          },
          "title": {
           "x": 0.05
          },
          "xaxis": {
           "automargin": true,
           "gridcolor": "white",
           "linecolor": "white",
           "ticks": "",
           "title": {
            "standoff": 15
           },
           "zerolinecolor": "white",
           "zerolinewidth": 2
          },
          "yaxis": {
           "automargin": true,
           "gridcolor": "white",
           "linecolor": "white",
           "ticks": "",
           "title": {
            "standoff": 15
           },
           "zerolinecolor": "white",
           "zerolinewidth": 2
          }
         }
        },
        "title": {
         "font": {
          "color": "#4D5663"
         }
        },
        "xaxis": {
         "gridcolor": "#E1E5ED",
         "showgrid": true,
         "tickfont": {
          "color": "#4D5663"
         },
         "title": {
          "font": {
           "color": "#4D5663"
          },
          "text": ""
         },
         "zerolinecolor": "#E1E5ED"
        },
        "yaxis": {
         "gridcolor": "#E1E5ED",
         "showgrid": true,
         "tickfont": {
          "color": "#4D5663"
         },
         "title": {
          "font": {
           "color": "#4D5663"
          },
          "text": ""
         },
         "zerolinecolor": "#E1E5ED"
        }
       }
      },
      "text/html": [
       "<div>\n",
       "        \n",
       "        \n",
       "            <div id=\"f55e3bd3-5899-4a36-a202-0c3f3da99b79\" class=\"plotly-graph-div\" style=\"height:525px; width:100%;\"></div>\n",
       "            <script type=\"text/javascript\">\n",
       "                require([\"plotly\"], function(Plotly) {\n",
       "                    window.PLOTLYENV=window.PLOTLYENV || {};\n",
       "                    window.PLOTLYENV.BASE_URL='https://plot.ly';\n",
       "                    \n",
       "                if (document.getElementById(\"f55e3bd3-5899-4a36-a202-0c3f3da99b79\")) {\n",
       "                    Plotly.newPlot(\n",
       "                        'f55e3bd3-5899-4a36-a202-0c3f3da99b79',\n",
       "                        [{\"colorscale\": [[0.0, \"rgb(255, 153, 51)\"], [0.1111111111111111, \"rgb(55, 128, 191)\"], [0.2222222222222222, \"rgb(50, 171, 96)\"], [0.3333333333333333, \"rgb(128, 0, 128)\"], [0.4444444444444444, \"rgb(219, 64, 82)\"], [0.5555555555555556, \"rgb(0, 128, 128)\"], [0.6666666666666666, \"rgb(255, 255, 51)\"], [0.7777777777777778, \"rgb(128, 128, 0)\"], [0.8888888888888888, \"rgb(251, 128, 114)\"], [1.0, \"rgb(128, 177, 211)\"]], \"type\": \"surface\", \"x\": [0, 1, 2, 3, 4], \"y\": [\"x\", \"y\", \"z\"], \"z\": [[1, 2, 3, 4, 5], [10, 20, 30, 40, 50], [500, 400, 300, 200, 100]]}],\n",
       "                        {\"legend\": {\"bgcolor\": \"#F5F6F9\", \"font\": {\"color\": \"#4D5663\"}}, \"paper_bgcolor\": \"#F5F6F9\", \"plot_bgcolor\": \"#F5F6F9\", \"template\": {\"data\": {\"bar\": [{\"error_x\": {\"color\": \"#2a3f5f\"}, \"error_y\": {\"color\": \"#2a3f5f\"}, \"marker\": {\"line\": {\"color\": \"#E5ECF6\", \"width\": 0.5}}, \"type\": \"bar\"}], \"barpolar\": [{\"marker\": {\"line\": {\"color\": \"#E5ECF6\", \"width\": 0.5}}, \"type\": \"barpolar\"}], \"carpet\": [{\"aaxis\": {\"endlinecolor\": \"#2a3f5f\", \"gridcolor\": \"white\", \"linecolor\": \"white\", \"minorgridcolor\": \"white\", \"startlinecolor\": \"#2a3f5f\"}, \"baxis\": {\"endlinecolor\": \"#2a3f5f\", \"gridcolor\": \"white\", \"linecolor\": \"white\", \"minorgridcolor\": \"white\", \"startlinecolor\": \"#2a3f5f\"}, \"type\": \"carpet\"}], \"choropleth\": [{\"colorbar\": {\"outlinewidth\": 0, \"ticks\": \"\"}, \"type\": \"choropleth\"}], \"contour\": [{\"colorbar\": {\"outlinewidth\": 0, \"ticks\": \"\"}, \"colorscale\": [[0.0, \"#0d0887\"], [0.1111111111111111, \"#46039f\"], [0.2222222222222222, \"#7201a8\"], [0.3333333333333333, \"#9c179e\"], [0.4444444444444444, \"#bd3786\"], [0.5555555555555556, \"#d8576b\"], [0.6666666666666666, \"#ed7953\"], [0.7777777777777778, \"#fb9f3a\"], [0.8888888888888888, \"#fdca26\"], [1.0, \"#f0f921\"]], \"type\": \"contour\"}], \"contourcarpet\": [{\"colorbar\": {\"outlinewidth\": 0, \"ticks\": \"\"}, \"type\": \"contourcarpet\"}], \"heatmap\": [{\"colorbar\": {\"outlinewidth\": 0, \"ticks\": \"\"}, \"colorscale\": [[0.0, \"#0d0887\"], [0.1111111111111111, \"#46039f\"], [0.2222222222222222, \"#7201a8\"], [0.3333333333333333, \"#9c179e\"], [0.4444444444444444, \"#bd3786\"], [0.5555555555555556, \"#d8576b\"], [0.6666666666666666, \"#ed7953\"], [0.7777777777777778, \"#fb9f3a\"], [0.8888888888888888, \"#fdca26\"], [1.0, \"#f0f921\"]], \"type\": \"heatmap\"}], \"heatmapgl\": [{\"colorbar\": {\"outlinewidth\": 0, \"ticks\": \"\"}, \"colorscale\": [[0.0, \"#0d0887\"], [0.1111111111111111, \"#46039f\"], [0.2222222222222222, \"#7201a8\"], [0.3333333333333333, \"#9c179e\"], [0.4444444444444444, \"#bd3786\"], [0.5555555555555556, \"#d8576b\"], [0.6666666666666666, \"#ed7953\"], [0.7777777777777778, \"#fb9f3a\"], [0.8888888888888888, \"#fdca26\"], [1.0, \"#f0f921\"]], \"type\": \"heatmapgl\"}], \"histogram\": [{\"marker\": {\"colorbar\": {\"outlinewidth\": 0, \"ticks\": \"\"}}, \"type\": \"histogram\"}], \"histogram2d\": [{\"colorbar\": {\"outlinewidth\": 0, \"ticks\": \"\"}, \"colorscale\": [[0.0, \"#0d0887\"], [0.1111111111111111, \"#46039f\"], [0.2222222222222222, \"#7201a8\"], [0.3333333333333333, \"#9c179e\"], [0.4444444444444444, \"#bd3786\"], [0.5555555555555556, \"#d8576b\"], [0.6666666666666666, \"#ed7953\"], [0.7777777777777778, \"#fb9f3a\"], [0.8888888888888888, \"#fdca26\"], [1.0, \"#f0f921\"]], \"type\": \"histogram2d\"}], \"histogram2dcontour\": [{\"colorbar\": {\"outlinewidth\": 0, \"ticks\": \"\"}, \"colorscale\": [[0.0, \"#0d0887\"], [0.1111111111111111, \"#46039f\"], [0.2222222222222222, \"#7201a8\"], [0.3333333333333333, \"#9c179e\"], [0.4444444444444444, \"#bd3786\"], [0.5555555555555556, \"#d8576b\"], [0.6666666666666666, \"#ed7953\"], [0.7777777777777778, \"#fb9f3a\"], [0.8888888888888888, \"#fdca26\"], [1.0, \"#f0f921\"]], \"type\": \"histogram2dcontour\"}], \"mesh3d\": [{\"colorbar\": {\"outlinewidth\": 0, \"ticks\": \"\"}, \"type\": \"mesh3d\"}], \"parcoords\": [{\"line\": {\"colorbar\": {\"outlinewidth\": 0, \"ticks\": \"\"}}, \"type\": \"parcoords\"}], \"pie\": [{\"automargin\": true, \"type\": \"pie\"}], \"scatter\": [{\"marker\": {\"colorbar\": {\"outlinewidth\": 0, \"ticks\": \"\"}}, \"type\": \"scatter\"}], \"scatter3d\": [{\"line\": {\"colorbar\": {\"outlinewidth\": 0, \"ticks\": \"\"}}, \"marker\": {\"colorbar\": {\"outlinewidth\": 0, \"ticks\": \"\"}}, \"type\": \"scatter3d\"}], \"scattercarpet\": [{\"marker\": {\"colorbar\": {\"outlinewidth\": 0, \"ticks\": \"\"}}, \"type\": \"scattercarpet\"}], \"scattergeo\": [{\"marker\": {\"colorbar\": {\"outlinewidth\": 0, \"ticks\": \"\"}}, \"type\": \"scattergeo\"}], \"scattergl\": [{\"marker\": {\"colorbar\": {\"outlinewidth\": 0, \"ticks\": \"\"}}, \"type\": \"scattergl\"}], \"scattermapbox\": [{\"marker\": {\"colorbar\": {\"outlinewidth\": 0, \"ticks\": \"\"}}, \"type\": \"scattermapbox\"}], \"scatterpolar\": [{\"marker\": {\"colorbar\": {\"outlinewidth\": 0, \"ticks\": \"\"}}, \"type\": \"scatterpolar\"}], \"scatterpolargl\": [{\"marker\": {\"colorbar\": {\"outlinewidth\": 0, \"ticks\": \"\"}}, \"type\": \"scatterpolargl\"}], \"scatterternary\": [{\"marker\": {\"colorbar\": {\"outlinewidth\": 0, \"ticks\": \"\"}}, \"type\": \"scatterternary\"}], \"surface\": [{\"colorbar\": {\"outlinewidth\": 0, \"ticks\": \"\"}, \"colorscale\": [[0.0, \"#0d0887\"], [0.1111111111111111, \"#46039f\"], [0.2222222222222222, \"#7201a8\"], [0.3333333333333333, \"#9c179e\"], [0.4444444444444444, \"#bd3786\"], [0.5555555555555556, \"#d8576b\"], [0.6666666666666666, \"#ed7953\"], [0.7777777777777778, \"#fb9f3a\"], [0.8888888888888888, \"#fdca26\"], [1.0, \"#f0f921\"]], \"type\": \"surface\"}], \"table\": [{\"cells\": {\"fill\": {\"color\": \"#EBF0F8\"}, \"line\": {\"color\": \"white\"}}, \"header\": {\"fill\": {\"color\": \"#C8D4E3\"}, \"line\": {\"color\": \"white\"}}, \"type\": \"table\"}]}, \"layout\": {\"annotationdefaults\": {\"arrowcolor\": \"#2a3f5f\", \"arrowhead\": 0, \"arrowwidth\": 1}, \"coloraxis\": {\"colorbar\": {\"outlinewidth\": 0, \"ticks\": \"\"}}, \"colorscale\": {\"diverging\": [[0, \"#8e0152\"], [0.1, \"#c51b7d\"], [0.2, \"#de77ae\"], [0.3, \"#f1b6da\"], [0.4, \"#fde0ef\"], [0.5, \"#f7f7f7\"], [0.6, \"#e6f5d0\"], [0.7, \"#b8e186\"], [0.8, \"#7fbc41\"], [0.9, \"#4d9221\"], [1, \"#276419\"]], \"sequential\": [[0.0, \"#0d0887\"], [0.1111111111111111, \"#46039f\"], [0.2222222222222222, \"#7201a8\"], [0.3333333333333333, \"#9c179e\"], [0.4444444444444444, \"#bd3786\"], [0.5555555555555556, \"#d8576b\"], [0.6666666666666666, \"#ed7953\"], [0.7777777777777778, \"#fb9f3a\"], [0.8888888888888888, \"#fdca26\"], [1.0, \"#f0f921\"]], \"sequentialminus\": [[0.0, \"#0d0887\"], [0.1111111111111111, \"#46039f\"], [0.2222222222222222, \"#7201a8\"], [0.3333333333333333, \"#9c179e\"], [0.4444444444444444, \"#bd3786\"], [0.5555555555555556, \"#d8576b\"], [0.6666666666666666, \"#ed7953\"], [0.7777777777777778, \"#fb9f3a\"], [0.8888888888888888, \"#fdca26\"], [1.0, \"#f0f921\"]]}, \"colorway\": [\"#636efa\", \"#EF553B\", \"#00cc96\", \"#ab63fa\", \"#FFA15A\", \"#19d3f3\", \"#FF6692\", \"#B6E880\", \"#FF97FF\", \"#FECB52\"], \"font\": {\"color\": \"#2a3f5f\"}, \"geo\": {\"bgcolor\": \"white\", \"lakecolor\": \"white\", \"landcolor\": \"#E5ECF6\", \"showlakes\": true, \"showland\": true, \"subunitcolor\": \"white\"}, \"hoverlabel\": {\"align\": \"left\"}, \"hovermode\": \"closest\", \"mapbox\": {\"style\": \"light\"}, \"paper_bgcolor\": \"white\", \"plot_bgcolor\": \"#E5ECF6\", \"polar\": {\"angularaxis\": {\"gridcolor\": \"white\", \"linecolor\": \"white\", \"ticks\": \"\"}, \"bgcolor\": \"#E5ECF6\", \"radialaxis\": {\"gridcolor\": \"white\", \"linecolor\": \"white\", \"ticks\": \"\"}}, \"scene\": {\"xaxis\": {\"backgroundcolor\": \"#E5ECF6\", \"gridcolor\": \"white\", \"gridwidth\": 2, \"linecolor\": \"white\", \"showbackground\": true, \"ticks\": \"\", \"zerolinecolor\": \"white\"}, \"yaxis\": {\"backgroundcolor\": \"#E5ECF6\", \"gridcolor\": \"white\", \"gridwidth\": 2, \"linecolor\": \"white\", \"showbackground\": true, \"ticks\": \"\", \"zerolinecolor\": \"white\"}, \"zaxis\": {\"backgroundcolor\": \"#E5ECF6\", \"gridcolor\": \"white\", \"gridwidth\": 2, \"linecolor\": \"white\", \"showbackground\": true, \"ticks\": \"\", \"zerolinecolor\": \"white\"}}, \"shapedefaults\": {\"line\": {\"color\": \"#2a3f5f\"}}, \"ternary\": {\"aaxis\": {\"gridcolor\": \"white\", \"linecolor\": \"white\", \"ticks\": \"\"}, \"baxis\": {\"gridcolor\": \"white\", \"linecolor\": \"white\", \"ticks\": \"\"}, \"bgcolor\": \"#E5ECF6\", \"caxis\": {\"gridcolor\": \"white\", \"linecolor\": \"white\", \"ticks\": \"\"}}, \"title\": {\"x\": 0.05}, \"xaxis\": {\"automargin\": true, \"gridcolor\": \"white\", \"linecolor\": \"white\", \"ticks\": \"\", \"title\": {\"standoff\": 15}, \"zerolinecolor\": \"white\", \"zerolinewidth\": 2}, \"yaxis\": {\"automargin\": true, \"gridcolor\": \"white\", \"linecolor\": \"white\", \"ticks\": \"\", \"title\": {\"standoff\": 15}, \"zerolinecolor\": \"white\", \"zerolinewidth\": 2}}}, \"title\": {\"font\": {\"color\": \"#4D5663\"}}, \"xaxis\": {\"gridcolor\": \"#E1E5ED\", \"showgrid\": true, \"tickfont\": {\"color\": \"#4D5663\"}, \"title\": {\"font\": {\"color\": \"#4D5663\"}, \"text\": \"\"}, \"zerolinecolor\": \"#E1E5ED\"}, \"yaxis\": {\"gridcolor\": \"#E1E5ED\", \"showgrid\": true, \"tickfont\": {\"color\": \"#4D5663\"}, \"title\": {\"font\": {\"color\": \"#4D5663\"}, \"text\": \"\"}, \"zerolinecolor\": \"#E1E5ED\"}},\n",
       "                        {\"showLink\": true, \"linkText\": \"Export to plot.ly\", \"plotlyServerURL\": \"https://plot.ly\", \"responsive\": true}\n",
       "                    ).then(function(){\n",
       "                            \n",
       "var gd = document.getElementById('f55e3bd3-5899-4a36-a202-0c3f3da99b79');\n",
       "var x = new MutationObserver(function (mutations, observer) {{\n",
       "        var display = window.getComputedStyle(gd).display;\n",
       "        if (!display || display === 'none') {{\n",
       "            console.log([gd, 'removed!']);\n",
       "            Plotly.purge(gd);\n",
       "            observer.disconnect();\n",
       "        }}\n",
       "}});\n",
       "\n",
       "// Listen for the removal of the full notebook cells\n",
       "var notebookContainer = gd.closest('#notebook-container');\n",
       "if (notebookContainer) {{\n",
       "    x.observe(notebookContainer, {childList: true});\n",
       "}}\n",
       "\n",
       "// Listen for the clearing of the current output cell\n",
       "var outputEl = gd.closest('.output');\n",
       "if (outputEl) {{\n",
       "    x.observe(outputEl, {childList: true});\n",
       "}}\n",
       "\n",
       "                        })\n",
       "                };\n",
       "                });\n",
       "            </script>\n",
       "        </div>"
      ]
     },
     "metadata": {},
     "output_type": "display_data"
    }
   ],
   "source": [
    "# here it shows us a 3d surface\n",
    "df3.iplot(kind='surface')"
   ]
  },
  {
   "cell_type": "code",
   "execution_count": 30,
   "metadata": {},
   "outputs": [],
   "source": [
    "df1=pd.DataFrame({'x':[1,2,3,4,5],'y':[10,20,30,40,50],'z':[5,4,3,2,1]})"
   ]
  },
  {
   "cell_type": "code",
   "execution_count": 36,
   "metadata": {},
   "outputs": [
    {
     "data": {
      "application/vnd.plotly.v1+json": {
       "config": {
        "linkText": "Export to plot.ly",
        "plotlyServerURL": "https://plot.ly",
        "showLink": true
       },
       "data": [
        {
         "colorscale": [
          [
           0,
           "rgb(165,0,38)"
          ],
          [
           0.1,
           "rgb(215,48,39)"
          ],
          [
           0.2,
           "rgb(244,109,67)"
          ],
          [
           0.3,
           "rgb(253,174,97)"
          ],
          [
           0.4,
           "rgb(254,224,144)"
          ],
          [
           0.5,
           "rgb(255,255,191)"
          ],
          [
           0.6,
           "rgb(224,243,248)"
          ],
          [
           0.7,
           "rgb(171,217,233)"
          ],
          [
           0.8,
           "rgb(116,173,209)"
          ],
          [
           0.9,
           "rgb(69,117,180)"
          ],
          [
           1,
           "rgb(49,54,149)"
          ]
         ],
         "type": "surface",
         "x": [
          0,
          1,
          2,
          3,
          4
         ],
         "y": [
          "x",
          "y",
          "z"
         ],
         "z": [
          [
           1,
           2,
           3,
           4,
           5
          ],
          [
           10,
           20,
           30,
           40,
           50
          ],
          [
           5,
           4,
           3,
           2,
           1
          ]
         ]
        }
       ],
       "layout": {
        "legend": {
         "bgcolor": "#F5F6F9",
         "font": {
          "color": "#4D5663"
         }
        },
        "paper_bgcolor": "#F5F6F9",
        "plot_bgcolor": "#F5F6F9",
        "template": {
         "data": {
          "bar": [
           {
            "error_x": {
             "color": "#2a3f5f"
            },
            "error_y": {
             "color": "#2a3f5f"
            },
            "marker": {
             "line": {
              "color": "#E5ECF6",
              "width": 0.5
             }
            },
            "type": "bar"
           }
          ],
          "barpolar": [
           {
            "marker": {
             "line": {
              "color": "#E5ECF6",
              "width": 0.5
             }
            },
            "type": "barpolar"
           }
          ],
          "carpet": [
           {
            "aaxis": {
             "endlinecolor": "#2a3f5f",
             "gridcolor": "white",
             "linecolor": "white",
             "minorgridcolor": "white",
             "startlinecolor": "#2a3f5f"
            },
            "baxis": {
             "endlinecolor": "#2a3f5f",
             "gridcolor": "white",
             "linecolor": "white",
             "minorgridcolor": "white",
             "startlinecolor": "#2a3f5f"
            },
            "type": "carpet"
           }
          ],
          "choropleth": [
           {
            "colorbar": {
             "outlinewidth": 0,
             "ticks": ""
            },
            "type": "choropleth"
           }
          ],
          "contour": [
           {
            "colorbar": {
             "outlinewidth": 0,
             "ticks": ""
            },
            "colorscale": [
             [
              0,
              "#0d0887"
             ],
             [
              0.1111111111111111,
              "#46039f"
             ],
             [
              0.2222222222222222,
              "#7201a8"
             ],
             [
              0.3333333333333333,
              "#9c179e"
             ],
             [
              0.4444444444444444,
              "#bd3786"
             ],
             [
              0.5555555555555556,
              "#d8576b"
             ],
             [
              0.6666666666666666,
              "#ed7953"
             ],
             [
              0.7777777777777778,
              "#fb9f3a"
             ],
             [
              0.8888888888888888,
              "#fdca26"
             ],
             [
              1,
              "#f0f921"
             ]
            ],
            "type": "contour"
           }
          ],
          "contourcarpet": [
           {
            "colorbar": {
             "outlinewidth": 0,
             "ticks": ""
            },
            "type": "contourcarpet"
           }
          ],
          "heatmap": [
           {
            "colorbar": {
             "outlinewidth": 0,
             "ticks": ""
            },
            "colorscale": [
             [
              0,
              "#0d0887"
             ],
             [
              0.1111111111111111,
              "#46039f"
             ],
             [
              0.2222222222222222,
              "#7201a8"
             ],
             [
              0.3333333333333333,
              "#9c179e"
             ],
             [
              0.4444444444444444,
              "#bd3786"
             ],
             [
              0.5555555555555556,
              "#d8576b"
             ],
             [
              0.6666666666666666,
              "#ed7953"
             ],
             [
              0.7777777777777778,
              "#fb9f3a"
             ],
             [
              0.8888888888888888,
              "#fdca26"
             ],
             [
              1,
              "#f0f921"
             ]
            ],
            "type": "heatmap"
           }
          ],
          "heatmapgl": [
           {
            "colorbar": {
             "outlinewidth": 0,
             "ticks": ""
            },
            "colorscale": [
             [
              0,
              "#0d0887"
             ],
             [
              0.1111111111111111,
              "#46039f"
             ],
             [
              0.2222222222222222,
              "#7201a8"
             ],
             [
              0.3333333333333333,
              "#9c179e"
             ],
             [
              0.4444444444444444,
              "#bd3786"
             ],
             [
              0.5555555555555556,
              "#d8576b"
             ],
             [
              0.6666666666666666,
              "#ed7953"
             ],
             [
              0.7777777777777778,
              "#fb9f3a"
             ],
             [
              0.8888888888888888,
              "#fdca26"
             ],
             [
              1,
              "#f0f921"
             ]
            ],
            "type": "heatmapgl"
           }
          ],
          "histogram": [
           {
            "marker": {
             "colorbar": {
              "outlinewidth": 0,
              "ticks": ""
             }
            },
            "type": "histogram"
           }
          ],
          "histogram2d": [
           {
            "colorbar": {
             "outlinewidth": 0,
             "ticks": ""
            },
            "colorscale": [
             [
              0,
              "#0d0887"
             ],
             [
              0.1111111111111111,
              "#46039f"
             ],
             [
              0.2222222222222222,
              "#7201a8"
             ],
             [
              0.3333333333333333,
              "#9c179e"
             ],
             [
              0.4444444444444444,
              "#bd3786"
             ],
             [
              0.5555555555555556,
              "#d8576b"
             ],
             [
              0.6666666666666666,
              "#ed7953"
             ],
             [
              0.7777777777777778,
              "#fb9f3a"
             ],
             [
              0.8888888888888888,
              "#fdca26"
             ],
             [
              1,
              "#f0f921"
             ]
            ],
            "type": "histogram2d"
           }
          ],
          "histogram2dcontour": [
           {
            "colorbar": {
             "outlinewidth": 0,
             "ticks": ""
            },
            "colorscale": [
             [
              0,
              "#0d0887"
             ],
             [
              0.1111111111111111,
              "#46039f"
             ],
             [
              0.2222222222222222,
              "#7201a8"
             ],
             [
              0.3333333333333333,
              "#9c179e"
             ],
             [
              0.4444444444444444,
              "#bd3786"
             ],
             [
              0.5555555555555556,
              "#d8576b"
             ],
             [
              0.6666666666666666,
              "#ed7953"
             ],
             [
              0.7777777777777778,
              "#fb9f3a"
             ],
             [
              0.8888888888888888,
              "#fdca26"
             ],
             [
              1,
              "#f0f921"
             ]
            ],
            "type": "histogram2dcontour"
           }
          ],
          "mesh3d": [
           {
            "colorbar": {
             "outlinewidth": 0,
             "ticks": ""
            },
            "type": "mesh3d"
           }
          ],
          "parcoords": [
           {
            "line": {
             "colorbar": {
              "outlinewidth": 0,
              "ticks": ""
             }
            },
            "type": "parcoords"
           }
          ],
          "pie": [
           {
            "automargin": true,
            "type": "pie"
           }
          ],
          "scatter": [
           {
            "marker": {
             "colorbar": {
              "outlinewidth": 0,
              "ticks": ""
             }
            },
            "type": "scatter"
           }
          ],
          "scatter3d": [
           {
            "line": {
             "colorbar": {
              "outlinewidth": 0,
              "ticks": ""
             }
            },
            "marker": {
             "colorbar": {
              "outlinewidth": 0,
              "ticks": ""
             }
            },
            "type": "scatter3d"
           }
          ],
          "scattercarpet": [
           {
            "marker": {
             "colorbar": {
              "outlinewidth": 0,
              "ticks": ""
             }
            },
            "type": "scattercarpet"
           }
          ],
          "scattergeo": [
           {
            "marker": {
             "colorbar": {
              "outlinewidth": 0,
              "ticks": ""
             }
            },
            "type": "scattergeo"
           }
          ],
          "scattergl": [
           {
            "marker": {
             "colorbar": {
              "outlinewidth": 0,
              "ticks": ""
             }
            },
            "type": "scattergl"
           }
          ],
          "scattermapbox": [
           {
            "marker": {
             "colorbar": {
              "outlinewidth": 0,
              "ticks": ""
             }
            },
            "type": "scattermapbox"
           }
          ],
          "scatterpolar": [
           {
            "marker": {
             "colorbar": {
              "outlinewidth": 0,
              "ticks": ""
             }
            },
            "type": "scatterpolar"
           }
          ],
          "scatterpolargl": [
           {
            "marker": {
             "colorbar": {
              "outlinewidth": 0,
              "ticks": ""
             }
            },
            "type": "scatterpolargl"
           }
          ],
          "scatterternary": [
           {
            "marker": {
             "colorbar": {
              "outlinewidth": 0,
              "ticks": ""
             }
            },
            "type": "scatterternary"
           }
          ],
          "surface": [
           {
            "colorbar": {
             "outlinewidth": 0,
             "ticks": ""
            },
            "colorscale": [
             [
              0,
              "#0d0887"
             ],
             [
              0.1111111111111111,
              "#46039f"
             ],
             [
              0.2222222222222222,
              "#7201a8"
             ],
             [
              0.3333333333333333,
              "#9c179e"
             ],
             [
              0.4444444444444444,
              "#bd3786"
             ],
             [
              0.5555555555555556,
              "#d8576b"
             ],
             [
              0.6666666666666666,
              "#ed7953"
             ],
             [
              0.7777777777777778,
              "#fb9f3a"
             ],
             [
              0.8888888888888888,
              "#fdca26"
             ],
             [
              1,
              "#f0f921"
             ]
            ],
            "type": "surface"
           }
          ],
          "table": [
           {
            "cells": {
             "fill": {
              "color": "#EBF0F8"
             },
             "line": {
              "color": "white"
             }
            },
            "header": {
             "fill": {
              "color": "#C8D4E3"
             },
             "line": {
              "color": "white"
             }
            },
            "type": "table"
           }
          ]
         },
         "layout": {
          "annotationdefaults": {
           "arrowcolor": "#2a3f5f",
           "arrowhead": 0,
           "arrowwidth": 1
          },
          "coloraxis": {
           "colorbar": {
            "outlinewidth": 0,
            "ticks": ""
           }
          },
          "colorscale": {
           "diverging": [
            [
             0,
             "#8e0152"
            ],
            [
             0.1,
             "#c51b7d"
            ],
            [
             0.2,
             "#de77ae"
            ],
            [
             0.3,
             "#f1b6da"
            ],
            [
             0.4,
             "#fde0ef"
            ],
            [
             0.5,
             "#f7f7f7"
            ],
            [
             0.6,
             "#e6f5d0"
            ],
            [
             0.7,
             "#b8e186"
            ],
            [
             0.8,
             "#7fbc41"
            ],
            [
             0.9,
             "#4d9221"
            ],
            [
             1,
             "#276419"
            ]
           ],
           "sequential": [
            [
             0,
             "#0d0887"
            ],
            [
             0.1111111111111111,
             "#46039f"
            ],
            [
             0.2222222222222222,
             "#7201a8"
            ],
            [
             0.3333333333333333,
             "#9c179e"
            ],
            [
             0.4444444444444444,
             "#bd3786"
            ],
            [
             0.5555555555555556,
             "#d8576b"
            ],
            [
             0.6666666666666666,
             "#ed7953"
            ],
            [
             0.7777777777777778,
             "#fb9f3a"
            ],
            [
             0.8888888888888888,
             "#fdca26"
            ],
            [
             1,
             "#f0f921"
            ]
           ],
           "sequentialminus": [
            [
             0,
             "#0d0887"
            ],
            [
             0.1111111111111111,
             "#46039f"
            ],
            [
             0.2222222222222222,
             "#7201a8"
            ],
            [
             0.3333333333333333,
             "#9c179e"
            ],
            [
             0.4444444444444444,
             "#bd3786"
            ],
            [
             0.5555555555555556,
             "#d8576b"
            ],
            [
             0.6666666666666666,
             "#ed7953"
            ],
            [
             0.7777777777777778,
             "#fb9f3a"
            ],
            [
             0.8888888888888888,
             "#fdca26"
            ],
            [
             1,
             "#f0f921"
            ]
           ]
          },
          "colorway": [
           "#636efa",
           "#EF553B",
           "#00cc96",
           "#ab63fa",
           "#FFA15A",
           "#19d3f3",
           "#FF6692",
           "#B6E880",
           "#FF97FF",
           "#FECB52"
          ],
          "font": {
           "color": "#2a3f5f"
          },
          "geo": {
           "bgcolor": "white",
           "lakecolor": "white",
           "landcolor": "#E5ECF6",
           "showlakes": true,
           "showland": true,
           "subunitcolor": "white"
          },
          "hoverlabel": {
           "align": "left"
          },
          "hovermode": "closest",
          "mapbox": {
           "style": "light"
          },
          "paper_bgcolor": "white",
          "plot_bgcolor": "#E5ECF6",
          "polar": {
           "angularaxis": {
            "gridcolor": "white",
            "linecolor": "white",
            "ticks": ""
           },
           "bgcolor": "#E5ECF6",
           "radialaxis": {
            "gridcolor": "white",
            "linecolor": "white",
            "ticks": ""
           }
          },
          "scene": {
           "xaxis": {
            "backgroundcolor": "#E5ECF6",
            "gridcolor": "white",
            "gridwidth": 2,
            "linecolor": "white",
            "showbackground": true,
            "ticks": "",
            "zerolinecolor": "white"
           },
           "yaxis": {
            "backgroundcolor": "#E5ECF6",
            "gridcolor": "white",
            "gridwidth": 2,
            "linecolor": "white",
            "showbackground": true,
            "ticks": "",
            "zerolinecolor": "white"
           },
           "zaxis": {
            "backgroundcolor": "#E5ECF6",
            "gridcolor": "white",
            "gridwidth": 2,
            "linecolor": "white",
            "showbackground": true,
            "ticks": "",
            "zerolinecolor": "white"
           }
          },
          "shapedefaults": {
           "line": {
            "color": "#2a3f5f"
           }
          },
          "ternary": {
           "aaxis": {
            "gridcolor": "white",
            "linecolor": "white",
            "ticks": ""
           },
           "baxis": {
            "gridcolor": "white",
            "linecolor": "white",
            "ticks": ""
           },
           "bgcolor": "#E5ECF6",
           "caxis": {
            "gridcolor": "white",
            "linecolor": "white",
            "ticks": ""
           }
          },
          "title": {
           "x": 0.05
          },
          "xaxis": {
           "automargin": true,
           "gridcolor": "white",
           "linecolor": "white",
           "ticks": "",
           "title": {
            "standoff": 15
           },
           "zerolinecolor": "white",
           "zerolinewidth": 2
          },
          "yaxis": {
           "automargin": true,
           "gridcolor": "white",
           "linecolor": "white",
           "ticks": "",
           "title": {
            "standoff": 15
           },
           "zerolinecolor": "white",
           "zerolinewidth": 2
          }
         }
        },
        "title": {
         "font": {
          "color": "#4D5663"
         }
        },
        "xaxis": {
         "gridcolor": "#E1E5ED",
         "showgrid": true,
         "tickfont": {
          "color": "#4D5663"
         },
         "title": {
          "font": {
           "color": "#4D5663"
          },
          "text": ""
         },
         "zerolinecolor": "#E1E5ED"
        },
        "yaxis": {
         "gridcolor": "#E1E5ED",
         "showgrid": true,
         "tickfont": {
          "color": "#4D5663"
         },
         "title": {
          "font": {
           "color": "#4D5663"
          },
          "text": ""
         },
         "zerolinecolor": "#E1E5ED"
        }
       }
      },
      "text/html": [
       "<div>\n",
       "        \n",
       "        \n",
       "            <div id=\"9b151a48-6453-4515-b73c-c909efc84086\" class=\"plotly-graph-div\" style=\"height:525px; width:100%;\"></div>\n",
       "            <script type=\"text/javascript\">\n",
       "                require([\"plotly\"], function(Plotly) {\n",
       "                    window.PLOTLYENV=window.PLOTLYENV || {};\n",
       "                    window.PLOTLYENV.BASE_URL='https://plot.ly';\n",
       "                    \n",
       "                if (document.getElementById(\"9b151a48-6453-4515-b73c-c909efc84086\")) {\n",
       "                    Plotly.newPlot(\n",
       "                        '9b151a48-6453-4515-b73c-c909efc84086',\n",
       "                        [{\"colorscale\": [[0.0, \"rgb(165,0,38)\"], [0.1, \"rgb(215,48,39)\"], [0.2, \"rgb(244,109,67)\"], [0.3, \"rgb(253,174,97)\"], [0.4, \"rgb(254,224,144)\"], [0.5, \"rgb(255,255,191)\"], [0.6, \"rgb(224,243,248)\"], [0.7, \"rgb(171,217,233)\"], [0.8, \"rgb(116,173,209)\"], [0.9, \"rgb(69,117,180)\"], [1.0, \"rgb(49,54,149)\"]], \"type\": \"surface\", \"x\": [0, 1, 2, 3, 4], \"y\": [\"x\", \"y\", \"z\"], \"z\": [[1, 2, 3, 4, 5], [10, 20, 30, 40, 50], [5, 4, 3, 2, 1]]}],\n",
       "                        {\"legend\": {\"bgcolor\": \"#F5F6F9\", \"font\": {\"color\": \"#4D5663\"}}, \"paper_bgcolor\": \"#F5F6F9\", \"plot_bgcolor\": \"#F5F6F9\", \"template\": {\"data\": {\"bar\": [{\"error_x\": {\"color\": \"#2a3f5f\"}, \"error_y\": {\"color\": \"#2a3f5f\"}, \"marker\": {\"line\": {\"color\": \"#E5ECF6\", \"width\": 0.5}}, \"type\": \"bar\"}], \"barpolar\": [{\"marker\": {\"line\": {\"color\": \"#E5ECF6\", \"width\": 0.5}}, \"type\": \"barpolar\"}], \"carpet\": [{\"aaxis\": {\"endlinecolor\": \"#2a3f5f\", \"gridcolor\": \"white\", \"linecolor\": \"white\", \"minorgridcolor\": \"white\", \"startlinecolor\": \"#2a3f5f\"}, \"baxis\": {\"endlinecolor\": \"#2a3f5f\", \"gridcolor\": \"white\", \"linecolor\": \"white\", \"minorgridcolor\": \"white\", \"startlinecolor\": \"#2a3f5f\"}, \"type\": \"carpet\"}], \"choropleth\": [{\"colorbar\": {\"outlinewidth\": 0, \"ticks\": \"\"}, \"type\": \"choropleth\"}], \"contour\": [{\"colorbar\": {\"outlinewidth\": 0, \"ticks\": \"\"}, \"colorscale\": [[0.0, \"#0d0887\"], [0.1111111111111111, \"#46039f\"], [0.2222222222222222, \"#7201a8\"], [0.3333333333333333, \"#9c179e\"], [0.4444444444444444, \"#bd3786\"], [0.5555555555555556, \"#d8576b\"], [0.6666666666666666, \"#ed7953\"], [0.7777777777777778, \"#fb9f3a\"], [0.8888888888888888, \"#fdca26\"], [1.0, \"#f0f921\"]], \"type\": \"contour\"}], \"contourcarpet\": [{\"colorbar\": {\"outlinewidth\": 0, \"ticks\": \"\"}, \"type\": \"contourcarpet\"}], \"heatmap\": [{\"colorbar\": {\"outlinewidth\": 0, \"ticks\": \"\"}, \"colorscale\": [[0.0, \"#0d0887\"], [0.1111111111111111, \"#46039f\"], [0.2222222222222222, \"#7201a8\"], [0.3333333333333333, \"#9c179e\"], [0.4444444444444444, \"#bd3786\"], [0.5555555555555556, \"#d8576b\"], [0.6666666666666666, \"#ed7953\"], [0.7777777777777778, \"#fb9f3a\"], [0.8888888888888888, \"#fdca26\"], [1.0, \"#f0f921\"]], \"type\": \"heatmap\"}], \"heatmapgl\": [{\"colorbar\": {\"outlinewidth\": 0, \"ticks\": \"\"}, \"colorscale\": [[0.0, \"#0d0887\"], [0.1111111111111111, \"#46039f\"], [0.2222222222222222, \"#7201a8\"], [0.3333333333333333, \"#9c179e\"], [0.4444444444444444, \"#bd3786\"], [0.5555555555555556, \"#d8576b\"], [0.6666666666666666, \"#ed7953\"], [0.7777777777777778, \"#fb9f3a\"], [0.8888888888888888, \"#fdca26\"], [1.0, \"#f0f921\"]], \"type\": \"heatmapgl\"}], \"histogram\": [{\"marker\": {\"colorbar\": {\"outlinewidth\": 0, \"ticks\": \"\"}}, \"type\": \"histogram\"}], \"histogram2d\": [{\"colorbar\": {\"outlinewidth\": 0, \"ticks\": \"\"}, \"colorscale\": [[0.0, \"#0d0887\"], [0.1111111111111111, \"#46039f\"], [0.2222222222222222, \"#7201a8\"], [0.3333333333333333, \"#9c179e\"], [0.4444444444444444, \"#bd3786\"], [0.5555555555555556, \"#d8576b\"], [0.6666666666666666, \"#ed7953\"], [0.7777777777777778, \"#fb9f3a\"], [0.8888888888888888, \"#fdca26\"], [1.0, \"#f0f921\"]], \"type\": \"histogram2d\"}], \"histogram2dcontour\": [{\"colorbar\": {\"outlinewidth\": 0, \"ticks\": \"\"}, \"colorscale\": [[0.0, \"#0d0887\"], [0.1111111111111111, \"#46039f\"], [0.2222222222222222, \"#7201a8\"], [0.3333333333333333, \"#9c179e\"], [0.4444444444444444, \"#bd3786\"], [0.5555555555555556, \"#d8576b\"], [0.6666666666666666, \"#ed7953\"], [0.7777777777777778, \"#fb9f3a\"], [0.8888888888888888, \"#fdca26\"], [1.0, \"#f0f921\"]], \"type\": \"histogram2dcontour\"}], \"mesh3d\": [{\"colorbar\": {\"outlinewidth\": 0, \"ticks\": \"\"}, \"type\": \"mesh3d\"}], \"parcoords\": [{\"line\": {\"colorbar\": {\"outlinewidth\": 0, \"ticks\": \"\"}}, \"type\": \"parcoords\"}], \"pie\": [{\"automargin\": true, \"type\": \"pie\"}], \"scatter\": [{\"marker\": {\"colorbar\": {\"outlinewidth\": 0, \"ticks\": \"\"}}, \"type\": \"scatter\"}], \"scatter3d\": [{\"line\": {\"colorbar\": {\"outlinewidth\": 0, \"ticks\": \"\"}}, \"marker\": {\"colorbar\": {\"outlinewidth\": 0, \"ticks\": \"\"}}, \"type\": \"scatter3d\"}], \"scattercarpet\": [{\"marker\": {\"colorbar\": {\"outlinewidth\": 0, \"ticks\": \"\"}}, \"type\": \"scattercarpet\"}], \"scattergeo\": [{\"marker\": {\"colorbar\": {\"outlinewidth\": 0, \"ticks\": \"\"}}, \"type\": \"scattergeo\"}], \"scattergl\": [{\"marker\": {\"colorbar\": {\"outlinewidth\": 0, \"ticks\": \"\"}}, \"type\": \"scattergl\"}], \"scattermapbox\": [{\"marker\": {\"colorbar\": {\"outlinewidth\": 0, \"ticks\": \"\"}}, \"type\": \"scattermapbox\"}], \"scatterpolar\": [{\"marker\": {\"colorbar\": {\"outlinewidth\": 0, \"ticks\": \"\"}}, \"type\": \"scatterpolar\"}], \"scatterpolargl\": [{\"marker\": {\"colorbar\": {\"outlinewidth\": 0, \"ticks\": \"\"}}, \"type\": \"scatterpolargl\"}], \"scatterternary\": [{\"marker\": {\"colorbar\": {\"outlinewidth\": 0, \"ticks\": \"\"}}, \"type\": \"scatterternary\"}], \"surface\": [{\"colorbar\": {\"outlinewidth\": 0, \"ticks\": \"\"}, \"colorscale\": [[0.0, \"#0d0887\"], [0.1111111111111111, \"#46039f\"], [0.2222222222222222, \"#7201a8\"], [0.3333333333333333, \"#9c179e\"], [0.4444444444444444, \"#bd3786\"], [0.5555555555555556, \"#d8576b\"], [0.6666666666666666, \"#ed7953\"], [0.7777777777777778, \"#fb9f3a\"], [0.8888888888888888, \"#fdca26\"], [1.0, \"#f0f921\"]], \"type\": \"surface\"}], \"table\": [{\"cells\": {\"fill\": {\"color\": \"#EBF0F8\"}, \"line\": {\"color\": \"white\"}}, \"header\": {\"fill\": {\"color\": \"#C8D4E3\"}, \"line\": {\"color\": \"white\"}}, \"type\": \"table\"}]}, \"layout\": {\"annotationdefaults\": {\"arrowcolor\": \"#2a3f5f\", \"arrowhead\": 0, \"arrowwidth\": 1}, \"coloraxis\": {\"colorbar\": {\"outlinewidth\": 0, \"ticks\": \"\"}}, \"colorscale\": {\"diverging\": [[0, \"#8e0152\"], [0.1, \"#c51b7d\"], [0.2, \"#de77ae\"], [0.3, \"#f1b6da\"], [0.4, \"#fde0ef\"], [0.5, \"#f7f7f7\"], [0.6, \"#e6f5d0\"], [0.7, \"#b8e186\"], [0.8, \"#7fbc41\"], [0.9, \"#4d9221\"], [1, \"#276419\"]], \"sequential\": [[0.0, \"#0d0887\"], [0.1111111111111111, \"#46039f\"], [0.2222222222222222, \"#7201a8\"], [0.3333333333333333, \"#9c179e\"], [0.4444444444444444, \"#bd3786\"], [0.5555555555555556, \"#d8576b\"], [0.6666666666666666, \"#ed7953\"], [0.7777777777777778, \"#fb9f3a\"], [0.8888888888888888, \"#fdca26\"], [1.0, \"#f0f921\"]], \"sequentialminus\": [[0.0, \"#0d0887\"], [0.1111111111111111, \"#46039f\"], [0.2222222222222222, \"#7201a8\"], [0.3333333333333333, \"#9c179e\"], [0.4444444444444444, \"#bd3786\"], [0.5555555555555556, \"#d8576b\"], [0.6666666666666666, \"#ed7953\"], [0.7777777777777778, \"#fb9f3a\"], [0.8888888888888888, \"#fdca26\"], [1.0, \"#f0f921\"]]}, \"colorway\": [\"#636efa\", \"#EF553B\", \"#00cc96\", \"#ab63fa\", \"#FFA15A\", \"#19d3f3\", \"#FF6692\", \"#B6E880\", \"#FF97FF\", \"#FECB52\"], \"font\": {\"color\": \"#2a3f5f\"}, \"geo\": {\"bgcolor\": \"white\", \"lakecolor\": \"white\", \"landcolor\": \"#E5ECF6\", \"showlakes\": true, \"showland\": true, \"subunitcolor\": \"white\"}, \"hoverlabel\": {\"align\": \"left\"}, \"hovermode\": \"closest\", \"mapbox\": {\"style\": \"light\"}, \"paper_bgcolor\": \"white\", \"plot_bgcolor\": \"#E5ECF6\", \"polar\": {\"angularaxis\": {\"gridcolor\": \"white\", \"linecolor\": \"white\", \"ticks\": \"\"}, \"bgcolor\": \"#E5ECF6\", \"radialaxis\": {\"gridcolor\": \"white\", \"linecolor\": \"white\", \"ticks\": \"\"}}, \"scene\": {\"xaxis\": {\"backgroundcolor\": \"#E5ECF6\", \"gridcolor\": \"white\", \"gridwidth\": 2, \"linecolor\": \"white\", \"showbackground\": true, \"ticks\": \"\", \"zerolinecolor\": \"white\"}, \"yaxis\": {\"backgroundcolor\": \"#E5ECF6\", \"gridcolor\": \"white\", \"gridwidth\": 2, \"linecolor\": \"white\", \"showbackground\": true, \"ticks\": \"\", \"zerolinecolor\": \"white\"}, \"zaxis\": {\"backgroundcolor\": \"#E5ECF6\", \"gridcolor\": \"white\", \"gridwidth\": 2, \"linecolor\": \"white\", \"showbackground\": true, \"ticks\": \"\", \"zerolinecolor\": \"white\"}}, \"shapedefaults\": {\"line\": {\"color\": \"#2a3f5f\"}}, \"ternary\": {\"aaxis\": {\"gridcolor\": \"white\", \"linecolor\": \"white\", \"ticks\": \"\"}, \"baxis\": {\"gridcolor\": \"white\", \"linecolor\": \"white\", \"ticks\": \"\"}, \"bgcolor\": \"#E5ECF6\", \"caxis\": {\"gridcolor\": \"white\", \"linecolor\": \"white\", \"ticks\": \"\"}}, \"title\": {\"x\": 0.05}, \"xaxis\": {\"automargin\": true, \"gridcolor\": \"white\", \"linecolor\": \"white\", \"ticks\": \"\", \"title\": {\"standoff\": 15}, \"zerolinecolor\": \"white\", \"zerolinewidth\": 2}, \"yaxis\": {\"automargin\": true, \"gridcolor\": \"white\", \"linecolor\": \"white\", \"ticks\": \"\", \"title\": {\"standoff\": 15}, \"zerolinecolor\": \"white\", \"zerolinewidth\": 2}}}, \"title\": {\"font\": {\"color\": \"#4D5663\"}}, \"xaxis\": {\"gridcolor\": \"#E1E5ED\", \"showgrid\": true, \"tickfont\": {\"color\": \"#4D5663\"}, \"title\": {\"font\": {\"color\": \"#4D5663\"}, \"text\": \"\"}, \"zerolinecolor\": \"#E1E5ED\"}, \"yaxis\": {\"gridcolor\": \"#E1E5ED\", \"showgrid\": true, \"tickfont\": {\"color\": \"#4D5663\"}, \"title\": {\"font\": {\"color\": \"#4D5663\"}, \"text\": \"\"}, \"zerolinecolor\": \"#E1E5ED\"}},\n",
       "                        {\"showLink\": true, \"linkText\": \"Export to plot.ly\", \"plotlyServerURL\": \"https://plot.ly\", \"responsive\": true}\n",
       "                    ).then(function(){\n",
       "                            \n",
       "var gd = document.getElementById('9b151a48-6453-4515-b73c-c909efc84086');\n",
       "var x = new MutationObserver(function (mutations, observer) {{\n",
       "        var display = window.getComputedStyle(gd).display;\n",
       "        if (!display || display === 'none') {{\n",
       "            console.log([gd, 'removed!']);\n",
       "            Plotly.purge(gd);\n",
       "            observer.disconnect();\n",
       "        }}\n",
       "}});\n",
       "\n",
       "// Listen for the removal of the full notebook cells\n",
       "var notebookContainer = gd.closest('#notebook-container');\n",
       "if (notebookContainer) {{\n",
       "    x.observe(notebookContainer, {childList: true});\n",
       "}}\n",
       "\n",
       "// Listen for the clearing of the current output cell\n",
       "var outputEl = gd.closest('.output');\n",
       "if (outputEl) {{\n",
       "    x.observe(outputEl, {childList: true});\n",
       "}}\n",
       "\n",
       "                        })\n",
       "                };\n",
       "                });\n",
       "            </script>\n",
       "        </div>"
      ]
     },
     "metadata": {},
     "output_type": "display_data"
    }
   ],
   "source": [
    "# another shape of 3d surfaces\n",
    "# colorscale is used to change the sequence of colors\n",
    "# the names (abbreviations) of colors are fully documented in plotly documentations\n",
    "\n",
    "df1.iplot(kind='surface',colorscale='rdylbu')"
   ]
  },
  {
   "cell_type": "code",
   "execution_count": 37,
   "metadata": {},
   "outputs": [
    {
     "data": {
      "application/vnd.plotly.v1+json": {
       "config": {
        "linkText": "Export to plot.ly",
        "plotlyServerURL": "https://plot.ly",
        "showLink": true
       },
       "data": [
        {
         "histfunc": "count",
         "histnorm": "",
         "marker": {
          "color": "rgba(255, 153, 51, 1.0)",
          "line": {
           "color": "#4D5663",
           "width": 1.3
          }
         },
         "name": "A",
         "opacity": 0.8,
         "orientation": "v",
         "type": "histogram",
         "x": [
          0.48758791284167,
          -1.0945360538696463,
          -0.025109160636671034,
          0.5318438573072443,
          1.170821047816164,
          -1.0781069618216137,
          0.023929908721716072,
          -0.3341668073479446,
          0.15466770476350178,
          1.5446639151497434,
          1.4056054833842484,
          1.6261568763361154,
          -1.1227374435458701,
          0.28194097407828445,
          -0.682223671693977,
          -0.9562545728370384,
          -0.7209835661743308,
          -0.03317994654738412,
          0.5205553063310279,
          -1.1366028975811477,
          -0.9786485170200829,
          0.13548859544218975,
          -0.0009540853056883342,
          0.5979449535006777,
          1.1149531211625783,
          0.4283544325769933,
          -0.2411460571149065,
          -1.2870861552795327,
          0.03636844814017887,
          1.2075977330375478,
          -1.1535869763732076,
          1.0628415041799286,
          -1.0491639233442693,
          1.3811022114090363,
          -0.3613211905254392,
          -0.45890225542836116,
          -0.12162760141230262,
          -0.8396215800903595,
          -0.565381067065979,
          -3.4566182937067276,
          0.8993420377570022,
          0.2165974313829244,
          1.6103508033055005,
          0.0094913782519163,
          0.45531265282040323,
          0.6119558083278896,
          -0.2942946657226144,
          -1.2729657899992224,
          -0.3545189453227468,
          0.07805696223208544,
          -0.66178932419833,
          -1.6925420918465717,
          -0.1307554580410991,
          -0.39774105359567025,
          -1.516011865561858,
          -0.5391143165355534,
          -1.1142859655918813,
          1.0551320487656342,
          -0.5717178581500568,
          -0.1073076890360471,
          -1.5270560562106272,
          -0.7899843365922449,
          -0.6356350799456826,
          -0.41468126319261245,
          1.6781806287486598,
          -0.33874390881565875,
          0.18609602799409797,
          -1.2338502645280391,
          0.10345221635878635,
          0.6586971927026098,
          0.5813188464153145,
          1.3837115433387472,
          -0.29753261872603187,
          -1.6128956978544893,
          -1.103081913031465,
          -0.15162181863861388,
          0.7316627867109841,
          -0.8665646320585265,
          -1.701661298481288,
          1.596184275190892,
          0.14494608879711593,
          -0.41603294033322546,
          0.9563325173459639,
          -0.30156389581498877,
          0.926333185290943,
          0.6631382639673186,
          0.39152621569100776,
          -0.5826926583224311,
          0.6255130281637811,
          -0.21940433600962406,
          -0.9505295760532173,
          -0.10707435083175479,
          0.37504647253794426,
          -0.7821664392300294,
          1.213031390357866,
          -0.009994398016467693,
          0.9894948390200397,
          -1.647259086231465,
          0.9233657259667436,
          0.17155861516031895
         ]
        }
       ],
       "layout": {
        "barmode": "overlay",
        "legend": {
         "bgcolor": "#F5F6F9",
         "font": {
          "color": "#4D5663"
         }
        },
        "paper_bgcolor": "#F5F6F9",
        "plot_bgcolor": "#F5F6F9",
        "template": {
         "data": {
          "bar": [
           {
            "error_x": {
             "color": "#2a3f5f"
            },
            "error_y": {
             "color": "#2a3f5f"
            },
            "marker": {
             "line": {
              "color": "#E5ECF6",
              "width": 0.5
             }
            },
            "type": "bar"
           }
          ],
          "barpolar": [
           {
            "marker": {
             "line": {
              "color": "#E5ECF6",
              "width": 0.5
             }
            },
            "type": "barpolar"
           }
          ],
          "carpet": [
           {
            "aaxis": {
             "endlinecolor": "#2a3f5f",
             "gridcolor": "white",
             "linecolor": "white",
             "minorgridcolor": "white",
             "startlinecolor": "#2a3f5f"
            },
            "baxis": {
             "endlinecolor": "#2a3f5f",
             "gridcolor": "white",
             "linecolor": "white",
             "minorgridcolor": "white",
             "startlinecolor": "#2a3f5f"
            },
            "type": "carpet"
           }
          ],
          "choropleth": [
           {
            "colorbar": {
             "outlinewidth": 0,
             "ticks": ""
            },
            "type": "choropleth"
           }
          ],
          "contour": [
           {
            "colorbar": {
             "outlinewidth": 0,
             "ticks": ""
            },
            "colorscale": [
             [
              0,
              "#0d0887"
             ],
             [
              0.1111111111111111,
              "#46039f"
             ],
             [
              0.2222222222222222,
              "#7201a8"
             ],
             [
              0.3333333333333333,
              "#9c179e"
             ],
             [
              0.4444444444444444,
              "#bd3786"
             ],
             [
              0.5555555555555556,
              "#d8576b"
             ],
             [
              0.6666666666666666,
              "#ed7953"
             ],
             [
              0.7777777777777778,
              "#fb9f3a"
             ],
             [
              0.8888888888888888,
              "#fdca26"
             ],
             [
              1,
              "#f0f921"
             ]
            ],
            "type": "contour"
           }
          ],
          "contourcarpet": [
           {
            "colorbar": {
             "outlinewidth": 0,
             "ticks": ""
            },
            "type": "contourcarpet"
           }
          ],
          "heatmap": [
           {
            "colorbar": {
             "outlinewidth": 0,
             "ticks": ""
            },
            "colorscale": [
             [
              0,
              "#0d0887"
             ],
             [
              0.1111111111111111,
              "#46039f"
             ],
             [
              0.2222222222222222,
              "#7201a8"
             ],
             [
              0.3333333333333333,
              "#9c179e"
             ],
             [
              0.4444444444444444,
              "#bd3786"
             ],
             [
              0.5555555555555556,
              "#d8576b"
             ],
             [
              0.6666666666666666,
              "#ed7953"
             ],
             [
              0.7777777777777778,
              "#fb9f3a"
             ],
             [
              0.8888888888888888,
              "#fdca26"
             ],
             [
              1,
              "#f0f921"
             ]
            ],
            "type": "heatmap"
           }
          ],
          "heatmapgl": [
           {
            "colorbar": {
             "outlinewidth": 0,
             "ticks": ""
            },
            "colorscale": [
             [
              0,
              "#0d0887"
             ],
             [
              0.1111111111111111,
              "#46039f"
             ],
             [
              0.2222222222222222,
              "#7201a8"
             ],
             [
              0.3333333333333333,
              "#9c179e"
             ],
             [
              0.4444444444444444,
              "#bd3786"
             ],
             [
              0.5555555555555556,
              "#d8576b"
             ],
             [
              0.6666666666666666,
              "#ed7953"
             ],
             [
              0.7777777777777778,
              "#fb9f3a"
             ],
             [
              0.8888888888888888,
              "#fdca26"
             ],
             [
              1,
              "#f0f921"
             ]
            ],
            "type": "heatmapgl"
           }
          ],
          "histogram": [
           {
            "marker": {
             "colorbar": {
              "outlinewidth": 0,
              "ticks": ""
             }
            },
            "type": "histogram"
           }
          ],
          "histogram2d": [
           {
            "colorbar": {
             "outlinewidth": 0,
             "ticks": ""
            },
            "colorscale": [
             [
              0,
              "#0d0887"
             ],
             [
              0.1111111111111111,
              "#46039f"
             ],
             [
              0.2222222222222222,
              "#7201a8"
             ],
             [
              0.3333333333333333,
              "#9c179e"
             ],
             [
              0.4444444444444444,
              "#bd3786"
             ],
             [
              0.5555555555555556,
              "#d8576b"
             ],
             [
              0.6666666666666666,
              "#ed7953"
             ],
             [
              0.7777777777777778,
              "#fb9f3a"
             ],
             [
              0.8888888888888888,
              "#fdca26"
             ],
             [
              1,
              "#f0f921"
             ]
            ],
            "type": "histogram2d"
           }
          ],
          "histogram2dcontour": [
           {
            "colorbar": {
             "outlinewidth": 0,
             "ticks": ""
            },
            "colorscale": [
             [
              0,
              "#0d0887"
             ],
             [
              0.1111111111111111,
              "#46039f"
             ],
             [
              0.2222222222222222,
              "#7201a8"
             ],
             [
              0.3333333333333333,
              "#9c179e"
             ],
             [
              0.4444444444444444,
              "#bd3786"
             ],
             [
              0.5555555555555556,
              "#d8576b"
             ],
             [
              0.6666666666666666,
              "#ed7953"
             ],
             [
              0.7777777777777778,
              "#fb9f3a"
             ],
             [
              0.8888888888888888,
              "#fdca26"
             ],
             [
              1,
              "#f0f921"
             ]
            ],
            "type": "histogram2dcontour"
           }
          ],
          "mesh3d": [
           {
            "colorbar": {
             "outlinewidth": 0,
             "ticks": ""
            },
            "type": "mesh3d"
           }
          ],
          "parcoords": [
           {
            "line": {
             "colorbar": {
              "outlinewidth": 0,
              "ticks": ""
             }
            },
            "type": "parcoords"
           }
          ],
          "pie": [
           {
            "automargin": true,
            "type": "pie"
           }
          ],
          "scatter": [
           {
            "marker": {
             "colorbar": {
              "outlinewidth": 0,
              "ticks": ""
             }
            },
            "type": "scatter"
           }
          ],
          "scatter3d": [
           {
            "line": {
             "colorbar": {
              "outlinewidth": 0,
              "ticks": ""
             }
            },
            "marker": {
             "colorbar": {
              "outlinewidth": 0,
              "ticks": ""
             }
            },
            "type": "scatter3d"
           }
          ],
          "scattercarpet": [
           {
            "marker": {
             "colorbar": {
              "outlinewidth": 0,
              "ticks": ""
             }
            },
            "type": "scattercarpet"
           }
          ],
          "scattergeo": [
           {
            "marker": {
             "colorbar": {
              "outlinewidth": 0,
              "ticks": ""
             }
            },
            "type": "scattergeo"
           }
          ],
          "scattergl": [
           {
            "marker": {
             "colorbar": {
              "outlinewidth": 0,
              "ticks": ""
             }
            },
            "type": "scattergl"
           }
          ],
          "scattermapbox": [
           {
            "marker": {
             "colorbar": {
              "outlinewidth": 0,
              "ticks": ""
             }
            },
            "type": "scattermapbox"
           }
          ],
          "scatterpolar": [
           {
            "marker": {
             "colorbar": {
              "outlinewidth": 0,
              "ticks": ""
             }
            },
            "type": "scatterpolar"
           }
          ],
          "scatterpolargl": [
           {
            "marker": {
             "colorbar": {
              "outlinewidth": 0,
              "ticks": ""
             }
            },
            "type": "scatterpolargl"
           }
          ],
          "scatterternary": [
           {
            "marker": {
             "colorbar": {
              "outlinewidth": 0,
              "ticks": ""
             }
            },
            "type": "scatterternary"
           }
          ],
          "surface": [
           {
            "colorbar": {
             "outlinewidth": 0,
             "ticks": ""
            },
            "colorscale": [
             [
              0,
              "#0d0887"
             ],
             [
              0.1111111111111111,
              "#46039f"
             ],
             [
              0.2222222222222222,
              "#7201a8"
             ],
             [
              0.3333333333333333,
              "#9c179e"
             ],
             [
              0.4444444444444444,
              "#bd3786"
             ],
             [
              0.5555555555555556,
              "#d8576b"
             ],
             [
              0.6666666666666666,
              "#ed7953"
             ],
             [
              0.7777777777777778,
              "#fb9f3a"
             ],
             [
              0.8888888888888888,
              "#fdca26"
             ],
             [
              1,
              "#f0f921"
             ]
            ],
            "type": "surface"
           }
          ],
          "table": [
           {
            "cells": {
             "fill": {
              "color": "#EBF0F8"
             },
             "line": {
              "color": "white"
             }
            },
            "header": {
             "fill": {
              "color": "#C8D4E3"
             },
             "line": {
              "color": "white"
             }
            },
            "type": "table"
           }
          ]
         },
         "layout": {
          "annotationdefaults": {
           "arrowcolor": "#2a3f5f",
           "arrowhead": 0,
           "arrowwidth": 1
          },
          "coloraxis": {
           "colorbar": {
            "outlinewidth": 0,
            "ticks": ""
           }
          },
          "colorscale": {
           "diverging": [
            [
             0,
             "#8e0152"
            ],
            [
             0.1,
             "#c51b7d"
            ],
            [
             0.2,
             "#de77ae"
            ],
            [
             0.3,
             "#f1b6da"
            ],
            [
             0.4,
             "#fde0ef"
            ],
            [
             0.5,
             "#f7f7f7"
            ],
            [
             0.6,
             "#e6f5d0"
            ],
            [
             0.7,
             "#b8e186"
            ],
            [
             0.8,
             "#7fbc41"
            ],
            [
             0.9,
             "#4d9221"
            ],
            [
             1,
             "#276419"
            ]
           ],
           "sequential": [
            [
             0,
             "#0d0887"
            ],
            [
             0.1111111111111111,
             "#46039f"
            ],
            [
             0.2222222222222222,
             "#7201a8"
            ],
            [
             0.3333333333333333,
             "#9c179e"
            ],
            [
             0.4444444444444444,
             "#bd3786"
            ],
            [
             0.5555555555555556,
             "#d8576b"
            ],
            [
             0.6666666666666666,
             "#ed7953"
            ],
            [
             0.7777777777777778,
             "#fb9f3a"
            ],
            [
             0.8888888888888888,
             "#fdca26"
            ],
            [
             1,
             "#f0f921"
            ]
           ],
           "sequentialminus": [
            [
             0,
             "#0d0887"
            ],
            [
             0.1111111111111111,
             "#46039f"
            ],
            [
             0.2222222222222222,
             "#7201a8"
            ],
            [
             0.3333333333333333,
             "#9c179e"
            ],
            [
             0.4444444444444444,
             "#bd3786"
            ],
            [
             0.5555555555555556,
             "#d8576b"
            ],
            [
             0.6666666666666666,
             "#ed7953"
            ],
            [
             0.7777777777777778,
             "#fb9f3a"
            ],
            [
             0.8888888888888888,
             "#fdca26"
            ],
            [
             1,
             "#f0f921"
            ]
           ]
          },
          "colorway": [
           "#636efa",
           "#EF553B",
           "#00cc96",
           "#ab63fa",
           "#FFA15A",
           "#19d3f3",
           "#FF6692",
           "#B6E880",
           "#FF97FF",
           "#FECB52"
          ],
          "font": {
           "color": "#2a3f5f"
          },
          "geo": {
           "bgcolor": "white",
           "lakecolor": "white",
           "landcolor": "#E5ECF6",
           "showlakes": true,
           "showland": true,
           "subunitcolor": "white"
          },
          "hoverlabel": {
           "align": "left"
          },
          "hovermode": "closest",
          "mapbox": {
           "style": "light"
          },
          "paper_bgcolor": "white",
          "plot_bgcolor": "#E5ECF6",
          "polar": {
           "angularaxis": {
            "gridcolor": "white",
            "linecolor": "white",
            "ticks": ""
           },
           "bgcolor": "#E5ECF6",
           "radialaxis": {
            "gridcolor": "white",
            "linecolor": "white",
            "ticks": ""
           }
          },
          "scene": {
           "xaxis": {
            "backgroundcolor": "#E5ECF6",
            "gridcolor": "white",
            "gridwidth": 2,
            "linecolor": "white",
            "showbackground": true,
            "ticks": "",
            "zerolinecolor": "white"
           },
           "yaxis": {
            "backgroundcolor": "#E5ECF6",
            "gridcolor": "white",
            "gridwidth": 2,
            "linecolor": "white",
            "showbackground": true,
            "ticks": "",
            "zerolinecolor": "white"
           },
           "zaxis": {
            "backgroundcolor": "#E5ECF6",
            "gridcolor": "white",
            "gridwidth": 2,
            "linecolor": "white",
            "showbackground": true,
            "ticks": "",
            "zerolinecolor": "white"
           }
          },
          "shapedefaults": {
           "line": {
            "color": "#2a3f5f"
           }
          },
          "ternary": {
           "aaxis": {
            "gridcolor": "white",
            "linecolor": "white",
            "ticks": ""
           },
           "baxis": {
            "gridcolor": "white",
            "linecolor": "white",
            "ticks": ""
           },
           "bgcolor": "#E5ECF6",
           "caxis": {
            "gridcolor": "white",
            "linecolor": "white",
            "ticks": ""
           }
          },
          "title": {
           "x": 0.05
          },
          "xaxis": {
           "automargin": true,
           "gridcolor": "white",
           "linecolor": "white",
           "ticks": "",
           "title": {
            "standoff": 15
           },
           "zerolinecolor": "white",
           "zerolinewidth": 2
          },
          "yaxis": {
           "automargin": true,
           "gridcolor": "white",
           "linecolor": "white",
           "ticks": "",
           "title": {
            "standoff": 15
           },
           "zerolinecolor": "white",
           "zerolinewidth": 2
          }
         }
        },
        "title": {
         "font": {
          "color": "#4D5663"
         }
        },
        "xaxis": {
         "gridcolor": "#E1E5ED",
         "showgrid": true,
         "tickfont": {
          "color": "#4D5663"
         },
         "title": {
          "font": {
           "color": "#4D5663"
          },
          "text": ""
         },
         "zerolinecolor": "#E1E5ED"
        },
        "yaxis": {
         "gridcolor": "#E1E5ED",
         "showgrid": true,
         "tickfont": {
          "color": "#4D5663"
         },
         "title": {
          "font": {
           "color": "#4D5663"
          },
          "text": ""
         },
         "zerolinecolor": "#E1E5ED"
        }
       }
      },
      "text/html": [
       "<div>\n",
       "        \n",
       "        \n",
       "            <div id=\"fa652329-aa8b-4383-bfee-31a4cf5b6f9b\" class=\"plotly-graph-div\" style=\"height:525px; width:100%;\"></div>\n",
       "            <script type=\"text/javascript\">\n",
       "                require([\"plotly\"], function(Plotly) {\n",
       "                    window.PLOTLYENV=window.PLOTLYENV || {};\n",
       "                    window.PLOTLYENV.BASE_URL='https://plot.ly';\n",
       "                    \n",
       "                if (document.getElementById(\"fa652329-aa8b-4383-bfee-31a4cf5b6f9b\")) {\n",
       "                    Plotly.newPlot(\n",
       "                        'fa652329-aa8b-4383-bfee-31a4cf5b6f9b',\n",
       "                        [{\"histfunc\": \"count\", \"histnorm\": \"\", \"marker\": {\"color\": \"rgba(255, 153, 51, 1.0)\", \"line\": {\"color\": \"#4D5663\", \"width\": 1.3}}, \"name\": \"A\", \"opacity\": 0.8, \"orientation\": \"v\", \"type\": \"histogram\", \"x\": [0.48758791284167, -1.0945360538696463, -0.025109160636671034, 0.5318438573072443, 1.170821047816164, -1.0781069618216137, 0.023929908721716072, -0.3341668073479446, 0.15466770476350178, 1.5446639151497434, 1.4056054833842484, 1.6261568763361154, -1.1227374435458701, 0.28194097407828445, -0.682223671693977, -0.9562545728370384, -0.7209835661743308, -0.03317994654738412, 0.5205553063310279, -1.1366028975811477, -0.9786485170200829, 0.13548859544218975, -0.0009540853056883342, 0.5979449535006777, 1.1149531211625783, 0.4283544325769933, -0.2411460571149065, -1.2870861552795327, 0.03636844814017887, 1.2075977330375478, -1.1535869763732076, 1.0628415041799286, -1.0491639233442693, 1.3811022114090363, -0.3613211905254392, -0.45890225542836116, -0.12162760141230262, -0.8396215800903595, -0.565381067065979, -3.4566182937067276, 0.8993420377570022, 0.2165974313829244, 1.6103508033055005, 0.0094913782519163, 0.45531265282040323, 0.6119558083278896, -0.2942946657226144, -1.2729657899992224, -0.3545189453227468, 0.07805696223208544, -0.66178932419833, -1.6925420918465717, -0.1307554580410991, -0.39774105359567025, -1.516011865561858, -0.5391143165355534, -1.1142859655918813, 1.0551320487656342, -0.5717178581500568, -0.1073076890360471, -1.5270560562106272, -0.7899843365922449, -0.6356350799456826, -0.41468126319261245, 1.6781806287486598, -0.33874390881565875, 0.18609602799409797, -1.2338502645280391, 0.10345221635878635, 0.6586971927026098, 0.5813188464153145, 1.3837115433387472, -0.29753261872603187, -1.6128956978544893, -1.103081913031465, -0.15162181863861388, 0.7316627867109841, -0.8665646320585265, -1.701661298481288, 1.596184275190892, 0.14494608879711593, -0.41603294033322546, 0.9563325173459639, -0.30156389581498877, 0.926333185290943, 0.6631382639673186, 0.39152621569100776, -0.5826926583224311, 0.6255130281637811, -0.21940433600962406, -0.9505295760532173, -0.10707435083175479, 0.37504647253794426, -0.7821664392300294, 1.213031390357866, -0.009994398016467693, 0.9894948390200397, -1.647259086231465, 0.9233657259667436, 0.17155861516031895]}],\n",
       "                        {\"barmode\": \"overlay\", \"legend\": {\"bgcolor\": \"#F5F6F9\", \"font\": {\"color\": \"#4D5663\"}}, \"paper_bgcolor\": \"#F5F6F9\", \"plot_bgcolor\": \"#F5F6F9\", \"template\": {\"data\": {\"bar\": [{\"error_x\": {\"color\": \"#2a3f5f\"}, \"error_y\": {\"color\": \"#2a3f5f\"}, \"marker\": {\"line\": {\"color\": \"#E5ECF6\", \"width\": 0.5}}, \"type\": \"bar\"}], \"barpolar\": [{\"marker\": {\"line\": {\"color\": \"#E5ECF6\", \"width\": 0.5}}, \"type\": \"barpolar\"}], \"carpet\": [{\"aaxis\": {\"endlinecolor\": \"#2a3f5f\", \"gridcolor\": \"white\", \"linecolor\": \"white\", \"minorgridcolor\": \"white\", \"startlinecolor\": \"#2a3f5f\"}, \"baxis\": {\"endlinecolor\": \"#2a3f5f\", \"gridcolor\": \"white\", \"linecolor\": \"white\", \"minorgridcolor\": \"white\", \"startlinecolor\": \"#2a3f5f\"}, \"type\": \"carpet\"}], \"choropleth\": [{\"colorbar\": {\"outlinewidth\": 0, \"ticks\": \"\"}, \"type\": \"choropleth\"}], \"contour\": [{\"colorbar\": {\"outlinewidth\": 0, \"ticks\": \"\"}, \"colorscale\": [[0.0, \"#0d0887\"], [0.1111111111111111, \"#46039f\"], [0.2222222222222222, \"#7201a8\"], [0.3333333333333333, \"#9c179e\"], [0.4444444444444444, \"#bd3786\"], [0.5555555555555556, \"#d8576b\"], [0.6666666666666666, \"#ed7953\"], [0.7777777777777778, \"#fb9f3a\"], [0.8888888888888888, \"#fdca26\"], [1.0, \"#f0f921\"]], \"type\": \"contour\"}], \"contourcarpet\": [{\"colorbar\": {\"outlinewidth\": 0, \"ticks\": \"\"}, \"type\": \"contourcarpet\"}], \"heatmap\": [{\"colorbar\": {\"outlinewidth\": 0, \"ticks\": \"\"}, \"colorscale\": [[0.0, \"#0d0887\"], [0.1111111111111111, \"#46039f\"], [0.2222222222222222, \"#7201a8\"], [0.3333333333333333, \"#9c179e\"], [0.4444444444444444, \"#bd3786\"], [0.5555555555555556, \"#d8576b\"], [0.6666666666666666, \"#ed7953\"], [0.7777777777777778, \"#fb9f3a\"], [0.8888888888888888, \"#fdca26\"], [1.0, \"#f0f921\"]], \"type\": \"heatmap\"}], \"heatmapgl\": [{\"colorbar\": {\"outlinewidth\": 0, \"ticks\": \"\"}, \"colorscale\": [[0.0, \"#0d0887\"], [0.1111111111111111, \"#46039f\"], [0.2222222222222222, \"#7201a8\"], [0.3333333333333333, \"#9c179e\"], [0.4444444444444444, \"#bd3786\"], [0.5555555555555556, \"#d8576b\"], [0.6666666666666666, \"#ed7953\"], [0.7777777777777778, \"#fb9f3a\"], [0.8888888888888888, \"#fdca26\"], [1.0, \"#f0f921\"]], \"type\": \"heatmapgl\"}], \"histogram\": [{\"marker\": {\"colorbar\": {\"outlinewidth\": 0, \"ticks\": \"\"}}, \"type\": \"histogram\"}], \"histogram2d\": [{\"colorbar\": {\"outlinewidth\": 0, \"ticks\": \"\"}, \"colorscale\": [[0.0, \"#0d0887\"], [0.1111111111111111, \"#46039f\"], [0.2222222222222222, \"#7201a8\"], [0.3333333333333333, \"#9c179e\"], [0.4444444444444444, \"#bd3786\"], [0.5555555555555556, \"#d8576b\"], [0.6666666666666666, \"#ed7953\"], [0.7777777777777778, \"#fb9f3a\"], [0.8888888888888888, \"#fdca26\"], [1.0, \"#f0f921\"]], \"type\": \"histogram2d\"}], \"histogram2dcontour\": [{\"colorbar\": {\"outlinewidth\": 0, \"ticks\": \"\"}, \"colorscale\": [[0.0, \"#0d0887\"], [0.1111111111111111, \"#46039f\"], [0.2222222222222222, \"#7201a8\"], [0.3333333333333333, \"#9c179e\"], [0.4444444444444444, \"#bd3786\"], [0.5555555555555556, \"#d8576b\"], [0.6666666666666666, \"#ed7953\"], [0.7777777777777778, \"#fb9f3a\"], [0.8888888888888888, \"#fdca26\"], [1.0, \"#f0f921\"]], \"type\": \"histogram2dcontour\"}], \"mesh3d\": [{\"colorbar\": {\"outlinewidth\": 0, \"ticks\": \"\"}, \"type\": \"mesh3d\"}], \"parcoords\": [{\"line\": {\"colorbar\": {\"outlinewidth\": 0, \"ticks\": \"\"}}, \"type\": \"parcoords\"}], \"pie\": [{\"automargin\": true, \"type\": \"pie\"}], \"scatter\": [{\"marker\": {\"colorbar\": {\"outlinewidth\": 0, \"ticks\": \"\"}}, \"type\": \"scatter\"}], \"scatter3d\": [{\"line\": {\"colorbar\": {\"outlinewidth\": 0, \"ticks\": \"\"}}, \"marker\": {\"colorbar\": {\"outlinewidth\": 0, \"ticks\": \"\"}}, \"type\": \"scatter3d\"}], \"scattercarpet\": [{\"marker\": {\"colorbar\": {\"outlinewidth\": 0, \"ticks\": \"\"}}, \"type\": \"scattercarpet\"}], \"scattergeo\": [{\"marker\": {\"colorbar\": {\"outlinewidth\": 0, \"ticks\": \"\"}}, \"type\": \"scattergeo\"}], \"scattergl\": [{\"marker\": {\"colorbar\": {\"outlinewidth\": 0, \"ticks\": \"\"}}, \"type\": \"scattergl\"}], \"scattermapbox\": [{\"marker\": {\"colorbar\": {\"outlinewidth\": 0, \"ticks\": \"\"}}, \"type\": \"scattermapbox\"}], \"scatterpolar\": [{\"marker\": {\"colorbar\": {\"outlinewidth\": 0, \"ticks\": \"\"}}, \"type\": \"scatterpolar\"}], \"scatterpolargl\": [{\"marker\": {\"colorbar\": {\"outlinewidth\": 0, \"ticks\": \"\"}}, \"type\": \"scatterpolargl\"}], \"scatterternary\": [{\"marker\": {\"colorbar\": {\"outlinewidth\": 0, \"ticks\": \"\"}}, \"type\": \"scatterternary\"}], \"surface\": [{\"colorbar\": {\"outlinewidth\": 0, \"ticks\": \"\"}, \"colorscale\": [[0.0, \"#0d0887\"], [0.1111111111111111, \"#46039f\"], [0.2222222222222222, \"#7201a8\"], [0.3333333333333333, \"#9c179e\"], [0.4444444444444444, \"#bd3786\"], [0.5555555555555556, \"#d8576b\"], [0.6666666666666666, \"#ed7953\"], [0.7777777777777778, \"#fb9f3a\"], [0.8888888888888888, \"#fdca26\"], [1.0, \"#f0f921\"]], \"type\": \"surface\"}], \"table\": [{\"cells\": {\"fill\": {\"color\": \"#EBF0F8\"}, \"line\": {\"color\": \"white\"}}, \"header\": {\"fill\": {\"color\": \"#C8D4E3\"}, \"line\": {\"color\": \"white\"}}, \"type\": \"table\"}]}, \"layout\": {\"annotationdefaults\": {\"arrowcolor\": \"#2a3f5f\", \"arrowhead\": 0, \"arrowwidth\": 1}, \"coloraxis\": {\"colorbar\": {\"outlinewidth\": 0, \"ticks\": \"\"}}, \"colorscale\": {\"diverging\": [[0, \"#8e0152\"], [0.1, \"#c51b7d\"], [0.2, \"#de77ae\"], [0.3, \"#f1b6da\"], [0.4, \"#fde0ef\"], [0.5, \"#f7f7f7\"], [0.6, \"#e6f5d0\"], [0.7, \"#b8e186\"], [0.8, \"#7fbc41\"], [0.9, \"#4d9221\"], [1, \"#276419\"]], \"sequential\": [[0.0, \"#0d0887\"], [0.1111111111111111, \"#46039f\"], [0.2222222222222222, \"#7201a8\"], [0.3333333333333333, \"#9c179e\"], [0.4444444444444444, \"#bd3786\"], [0.5555555555555556, \"#d8576b\"], [0.6666666666666666, \"#ed7953\"], [0.7777777777777778, \"#fb9f3a\"], [0.8888888888888888, \"#fdca26\"], [1.0, \"#f0f921\"]], \"sequentialminus\": [[0.0, \"#0d0887\"], [0.1111111111111111, \"#46039f\"], [0.2222222222222222, \"#7201a8\"], [0.3333333333333333, \"#9c179e\"], [0.4444444444444444, \"#bd3786\"], [0.5555555555555556, \"#d8576b\"], [0.6666666666666666, \"#ed7953\"], [0.7777777777777778, \"#fb9f3a\"], [0.8888888888888888, \"#fdca26\"], [1.0, \"#f0f921\"]]}, \"colorway\": [\"#636efa\", \"#EF553B\", \"#00cc96\", \"#ab63fa\", \"#FFA15A\", \"#19d3f3\", \"#FF6692\", \"#B6E880\", \"#FF97FF\", \"#FECB52\"], \"font\": {\"color\": \"#2a3f5f\"}, \"geo\": {\"bgcolor\": \"white\", \"lakecolor\": \"white\", \"landcolor\": \"#E5ECF6\", \"showlakes\": true, \"showland\": true, \"subunitcolor\": \"white\"}, \"hoverlabel\": {\"align\": \"left\"}, \"hovermode\": \"closest\", \"mapbox\": {\"style\": \"light\"}, \"paper_bgcolor\": \"white\", \"plot_bgcolor\": \"#E5ECF6\", \"polar\": {\"angularaxis\": {\"gridcolor\": \"white\", \"linecolor\": \"white\", \"ticks\": \"\"}, \"bgcolor\": \"#E5ECF6\", \"radialaxis\": {\"gridcolor\": \"white\", \"linecolor\": \"white\", \"ticks\": \"\"}}, \"scene\": {\"xaxis\": {\"backgroundcolor\": \"#E5ECF6\", \"gridcolor\": \"white\", \"gridwidth\": 2, \"linecolor\": \"white\", \"showbackground\": true, \"ticks\": \"\", \"zerolinecolor\": \"white\"}, \"yaxis\": {\"backgroundcolor\": \"#E5ECF6\", \"gridcolor\": \"white\", \"gridwidth\": 2, \"linecolor\": \"white\", \"showbackground\": true, \"ticks\": \"\", \"zerolinecolor\": \"white\"}, \"zaxis\": {\"backgroundcolor\": \"#E5ECF6\", \"gridcolor\": \"white\", \"gridwidth\": 2, \"linecolor\": \"white\", \"showbackground\": true, \"ticks\": \"\", \"zerolinecolor\": \"white\"}}, \"shapedefaults\": {\"line\": {\"color\": \"#2a3f5f\"}}, \"ternary\": {\"aaxis\": {\"gridcolor\": \"white\", \"linecolor\": \"white\", \"ticks\": \"\"}, \"baxis\": {\"gridcolor\": \"white\", \"linecolor\": \"white\", \"ticks\": \"\"}, \"bgcolor\": \"#E5ECF6\", \"caxis\": {\"gridcolor\": \"white\", \"linecolor\": \"white\", \"ticks\": \"\"}}, \"title\": {\"x\": 0.05}, \"xaxis\": {\"automargin\": true, \"gridcolor\": \"white\", \"linecolor\": \"white\", \"ticks\": \"\", \"title\": {\"standoff\": 15}, \"zerolinecolor\": \"white\", \"zerolinewidth\": 2}, \"yaxis\": {\"automargin\": true, \"gridcolor\": \"white\", \"linecolor\": \"white\", \"ticks\": \"\", \"title\": {\"standoff\": 15}, \"zerolinecolor\": \"white\", \"zerolinewidth\": 2}}}, \"title\": {\"font\": {\"color\": \"#4D5663\"}}, \"xaxis\": {\"gridcolor\": \"#E1E5ED\", \"showgrid\": true, \"tickfont\": {\"color\": \"#4D5663\"}, \"title\": {\"font\": {\"color\": \"#4D5663\"}, \"text\": \"\"}, \"zerolinecolor\": \"#E1E5ED\"}, \"yaxis\": {\"gridcolor\": \"#E1E5ED\", \"showgrid\": true, \"tickfont\": {\"color\": \"#4D5663\"}, \"title\": {\"font\": {\"color\": \"#4D5663\"}, \"text\": \"\"}, \"zerolinecolor\": \"#E1E5ED\"}},\n",
       "                        {\"showLink\": true, \"linkText\": \"Export to plot.ly\", \"plotlyServerURL\": \"https://plot.ly\", \"responsive\": true}\n",
       "                    ).then(function(){\n",
       "                            \n",
       "var gd = document.getElementById('fa652329-aa8b-4383-bfee-31a4cf5b6f9b');\n",
       "var x = new MutationObserver(function (mutations, observer) {{\n",
       "        var display = window.getComputedStyle(gd).display;\n",
       "        if (!display || display === 'none') {{\n",
       "            console.log([gd, 'removed!']);\n",
       "            Plotly.purge(gd);\n",
       "            observer.disconnect();\n",
       "        }}\n",
       "}});\n",
       "\n",
       "// Listen for the removal of the full notebook cells\n",
       "var notebookContainer = gd.closest('#notebook-container');\n",
       "if (notebookContainer) {{\n",
       "    x.observe(notebookContainer, {childList: true});\n",
       "}}\n",
       "\n",
       "// Listen for the clearing of the current output cell\n",
       "var outputEl = gd.closest('.output');\n",
       "if (outputEl) {{\n",
       "    x.observe(outputEl, {childList: true});\n",
       "}}\n",
       "\n",
       "                        })\n",
       "                };\n",
       "                });\n",
       "            </script>\n",
       "        </div>"
      ]
     },
     "metadata": {},
     "output_type": "display_data"
    }
   ],
   "source": [
    "# histogram\n",
    "# one column in histogram\n",
    "df['A'].iplot(kind='hist')"
   ]
  },
  {
   "cell_type": "code",
   "execution_count": 38,
   "metadata": {},
   "outputs": [
    {
     "data": {
      "application/vnd.plotly.v1+json": {
       "config": {
        "linkText": "Export to plot.ly",
        "plotlyServerURL": "https://plot.ly",
        "showLink": true
       },
       "data": [
        {
         "histfunc": "count",
         "histnorm": "",
         "marker": {
          "color": "rgba(255, 153, 51, 1.0)",
          "line": {
           "color": "#4D5663",
           "width": 1.3
          }
         },
         "name": "A",
         "opacity": 0.8,
         "orientation": "v",
         "type": "histogram",
         "x": [
          0.48758791284167,
          -1.0945360538696463,
          -0.025109160636671034,
          0.5318438573072443,
          1.170821047816164,
          -1.0781069618216137,
          0.023929908721716072,
          -0.3341668073479446,
          0.15466770476350178,
          1.5446639151497434,
          1.4056054833842484,
          1.6261568763361154,
          -1.1227374435458701,
          0.28194097407828445,
          -0.682223671693977,
          -0.9562545728370384,
          -0.7209835661743308,
          -0.03317994654738412,
          0.5205553063310279,
          -1.1366028975811477,
          -0.9786485170200829,
          0.13548859544218975,
          -0.0009540853056883342,
          0.5979449535006777,
          1.1149531211625783,
          0.4283544325769933,
          -0.2411460571149065,
          -1.2870861552795327,
          0.03636844814017887,
          1.2075977330375478,
          -1.1535869763732076,
          1.0628415041799286,
          -1.0491639233442693,
          1.3811022114090363,
          -0.3613211905254392,
          -0.45890225542836116,
          -0.12162760141230262,
          -0.8396215800903595,
          -0.565381067065979,
          -3.4566182937067276,
          0.8993420377570022,
          0.2165974313829244,
          1.6103508033055005,
          0.0094913782519163,
          0.45531265282040323,
          0.6119558083278896,
          -0.2942946657226144,
          -1.2729657899992224,
          -0.3545189453227468,
          0.07805696223208544,
          -0.66178932419833,
          -1.6925420918465717,
          -0.1307554580410991,
          -0.39774105359567025,
          -1.516011865561858,
          -0.5391143165355534,
          -1.1142859655918813,
          1.0551320487656342,
          -0.5717178581500568,
          -0.1073076890360471,
          -1.5270560562106272,
          -0.7899843365922449,
          -0.6356350799456826,
          -0.41468126319261245,
          1.6781806287486598,
          -0.33874390881565875,
          0.18609602799409797,
          -1.2338502645280391,
          0.10345221635878635,
          0.6586971927026098,
          0.5813188464153145,
          1.3837115433387472,
          -0.29753261872603187,
          -1.6128956978544893,
          -1.103081913031465,
          -0.15162181863861388,
          0.7316627867109841,
          -0.8665646320585265,
          -1.701661298481288,
          1.596184275190892,
          0.14494608879711593,
          -0.41603294033322546,
          0.9563325173459639,
          -0.30156389581498877,
          0.926333185290943,
          0.6631382639673186,
          0.39152621569100776,
          -0.5826926583224311,
          0.6255130281637811,
          -0.21940433600962406,
          -0.9505295760532173,
          -0.10707435083175479,
          0.37504647253794426,
          -0.7821664392300294,
          1.213031390357866,
          -0.009994398016467693,
          0.9894948390200397,
          -1.647259086231465,
          0.9233657259667436,
          0.17155861516031895
         ]
        },
        {
         "histfunc": "count",
         "histnorm": "",
         "marker": {
          "color": "rgba(55, 128, 191, 1.0)",
          "line": {
           "color": "#4D5663",
           "width": 1.3
          }
         },
         "name": "B",
         "opacity": 0.8,
         "orientation": "v",
         "type": "histogram",
         "x": [
          -0.3260093462636492,
          0.24999368535084174,
          0.23529007756177991,
          1.497738301294124,
          -1.9235211183341405,
          -2.0300951821002418,
          -0.8026053432036195,
          -0.062102401082379945,
          0.5733134985509706,
          -0.028200152143247094,
          0.5457366836861638,
          1.9105677035222017,
          -1.8510783961436936,
          1.8936264586473475,
          0.8455161682358032,
          0.08530004905902606,
          1.15547970626262,
          0.33241678821461357,
          0.8973896937867161,
          0.19756270998312664,
          -0.5551208869803647,
          -0.7141539274695231,
          0.009781143871655847,
          -0.7963514852359374,
          0.18435114594596597,
          -0.7236122806767714,
          -0.6268367864953104,
          -1.0069813144186306,
          -0.5997263961705249,
          0.2218092724149917,
          -1.170188533181909,
          -0.7686459812838211,
          -0.5673983196078344,
          1.5249329961718672,
          -2.1774022163390523,
          -0.16736496395437145,
          1.0228620924991214,
          0.3910535831520817,
          1.728288848550678,
          -0.009405137671356954,
          0.9241988728738655,
          0.44155721095505096,
          -0.22054721336042088,
          0.5781436798174855,
          -1.290605550402523,
          -0.8219921260635391,
          0.6672891466109183,
          -1.0544087228560581,
          0.8576970417953911,
          1.4773492966329609,
          -0.37563342720144566,
          1.2771642094219255,
          1.4113133544016951,
          -0.29750095974408886,
          -0.3162064319347066,
          1.188528108737439,
          0.579601446889555,
          -1.7869180545292704,
          0.6597949108832315,
          -0.0001365483231869348,
          1.1812217654383987,
          -0.039242310036225546,
          0.055462809310465856,
          -0.26055519934982774,
          0.6725828725192213,
          -0.5868956518865107,
          -0.36545184706978795,
          0.9293783772779497,
          -1.12768298608976,
          -0.6802463660504389,
          1.0337663943479858,
          -0.11482295289181627,
          -0.050142642112852305,
          -0.7605981670708353,
          1.1776341864268012,
          -1.046185183818184,
          -0.7725793465552173,
          -0.19141931620324604,
          -0.5627311353208561,
          -0.6551472073374759,
          0.1682953138174061,
          -1.219605336933295,
          1.1676004025006497,
          -1.729816895327089,
          0.7124705106659508,
          1.5236894135662393,
          -1.6321268418409738,
          -0.7707520544200946,
          -0.05597956411105408,
          0.16633345555002213,
          1.3749075858226854,
          0.7668818323383592,
          1.2292117573820642,
          -0.09963937439980546,
          1.8913086287611742,
          -0.13916805496855586,
          -0.8661975302049588,
          0.011535216890753078,
          1.2450592447021642,
          -2.211752092799134
         ]
        },
        {
         "histfunc": "count",
         "histnorm": "",
         "marker": {
          "color": "rgba(50, 171, 96, 1.0)",
          "line": {
           "color": "#4D5663",
           "width": 1.3
          }
         },
         "name": "C",
         "opacity": 0.8,
         "orientation": "v",
         "type": "histogram",
         "x": [
          -0.9215737996680481,
          0.24257794495661747,
          0.28730374971215455,
          0.14040275264155666,
          -0.01454372243547929,
          0.5701479887456785,
          -0.5913889393179355,
          -0.5391923903512743,
          -0.1268109615054854,
          0.8330285935502711,
          -0.45887812076157464,
          -0.9098656132168144,
          0.30937887086993643,
          -1.3173769403479854,
          1.1390528635745454,
          -0.054313980526728284,
          -0.06345952949402739,
          -1.1848137236310903,
          0.07638907718243115,
          -0.7575403986569592,
          1.7111419842743498,
          0.27368305370590473,
          -0.14455085058261638,
          0.035816694898625955,
          0.21415107397239885,
          1.9934432737074155,
          0.25865489493566746,
          -2.311189157953442,
          0.6209601156744055,
          0.7504779554943947,
          0.09748343837697022,
          0.17482346528953707,
          0.5823900490090388,
          1.1176691088840645,
          -0.15595798168684122,
          -0.39505494965702165,
          -0.43222799923157496,
          -0.021203250326226684,
          1.536868590901801,
          0.8289905654680133,
          0.920122027822724,
          0.7552087906910285,
          -0.4435526780625535,
          0.7533509524104882,
          -0.3163692824277632,
          -1.3740015077056968,
          1.4844837012254757,
          1.6989196256086767,
          0.21383303878010604,
          0.8903447804836941,
          -0.4811875074025367,
          -0.4083018305349428,
          1.5122987569757786,
          -3.456495150976108,
          -0.5078588732223014,
          -0.19091788141284483,
          0.07076357456210358,
          -1.1408201971843714,
          1.8997545762062136,
          0.09703976302099852,
          0.039703654766854495,
          1.0494411955167449,
          0.029929215098847543,
          1.7940867369711784,
          -1.4870984274296137,
          -0.6874900617646675,
          1.4365266243030386,
          0.0230165236855401,
          -0.3063837206223713,
          -2.659682030893965,
          1.2274792247016022,
          0.3119932445595903,
          1.2018157112787466,
          0.5033149695523894,
          -0.01920839903472686,
          0.15679949048063785,
          0.12213403014052661,
          -0.12491818968818347,
          0.9322611703529357,
          -0.32080906005630394,
          -1.9843429087528304,
          -2.1117410103351584,
          -0.9971293003585686,
          1.2539711506249005,
          -0.9705376358440737,
          1.110380938606927,
          -0.9658677901361647,
          -1.3794425991471915,
          -0.18429815818266237,
          -2.4709888143236496,
          2.0947893798665924,
          -0.3557969469360339,
          0.5337181750396833,
          0.12295132345624875,
          1.425546310958585,
          0.1999557525436834,
          -1.293395493776135,
          1.221242082392363,
          -0.7800515940717015,
          -0.4455096834649943
         ]
        },
        {
         "histfunc": "count",
         "histnorm": "",
         "marker": {
          "color": "rgba(128, 0, 128, 1.0)",
          "line": {
           "color": "#4D5663",
           "width": 1.3
          }
         },
         "name": "D",
         "opacity": 0.8,
         "orientation": "v",
         "type": "histogram",
         "x": [
          -0.3732001785635488,
          0.02772057204258057,
          2.0780977673160814,
          1.3345213603864252,
          0.1694366973809169,
          -0.2684697638023764,
          -0.6082296092599212,
          0.6508892453079715,
          -0.4345062907402152,
          -0.5617920353885649,
          -0.587017228791666,
          -1.090602506962519,
          -0.47177082945853616,
          -0.5047968481345675,
          0.30674061235988115,
          -0.2580618267023648,
          1.213046387572064,
          -0.10336248572090953,
          1.2135641909949002,
          -0.29573781138810157,
          0.09265697441911201,
          1.181111268444659,
          0.9794260265187278,
          -0.2066609559336435,
          -1.4324849127349883,
          1.8973719521978711,
          -1.5770524954708642,
          -1.5233755285194996,
          -0.11954388695033413,
          0.408227044615286,
          -0.7943217801990868,
          -0.4074277029874315,
          -1.2964724531322758,
          1.3531820244255979,
          -0.10209548025668516,
          -3.962267411342711,
          0.3925374957693042,
          -1.5987574555527004,
          -0.015690786883268432,
          -1.3646431233639413,
          0.005367302494327931,
          -1.1544773552282033,
          0.6812441407429343,
          1.3980508128192732,
          -0.6960723365727628,
          0.8007104031685038,
          0.22814968085465678,
          0.39540184605719475,
          -0.6465850039640896,
          -0.49131677264646473,
          -1.7766857278277122,
          -0.5308430489637528,
          -0.4143386231020363,
          0.9564710084119504,
          -0.3110460476539002,
          1.8446499699453207,
          0.38994548400707324,
          -2.7684282902563084,
          -2.119079548307512,
          -0.1266261950522138,
          -0.45611608273969556,
          0.077912447832572,
          -0.21689984979054935,
          -0.7121695757676461,
          -0.3490408053170844,
          0.3906916972874522,
          -0.8297333159231602,
          -0.707490514149694,
          -1.2545296140226112,
          -0.05515145982340287,
          -0.40172092888359184,
          -1.8846250805252711,
          0.9566507481486777,
          1.6497778073533933,
          -1.4767802190660844,
          0.05283350103280196,
          -1.0329661785748872,
          0.5644947822224133,
          -3.2623765712883497,
          -0.050082748227648924,
          -0.31321634490070466,
          -1.0917145834668929,
          0.5450272060871032,
          -0.27725916223419866,
          -1.3544628542209094,
          -2.561107978279768,
          -0.29988417704474407,
          -0.08734822296629834,
          0.31378902477164194,
          -0.08316283323673339,
          -0.057673051473649005,
          -1.1827138584189956,
          -0.9354931234512995,
          0.5391231576807595,
          0.6683226564578738,
          1.4246185626652708,
          -0.250826647645536,
          -1.7472524156312297,
          0.0165326921674526,
          -0.07634791957043927
         ]
        }
       ],
       "layout": {
        "barmode": "overlay",
        "legend": {
         "bgcolor": "#F5F6F9",
         "font": {
          "color": "#4D5663"
         }
        },
        "paper_bgcolor": "#F5F6F9",
        "plot_bgcolor": "#F5F6F9",
        "template": {
         "data": {
          "bar": [
           {
            "error_x": {
             "color": "#2a3f5f"
            },
            "error_y": {
             "color": "#2a3f5f"
            },
            "marker": {
             "line": {
              "color": "#E5ECF6",
              "width": 0.5
             }
            },
            "type": "bar"
           }
          ],
          "barpolar": [
           {
            "marker": {
             "line": {
              "color": "#E5ECF6",
              "width": 0.5
             }
            },
            "type": "barpolar"
           }
          ],
          "carpet": [
           {
            "aaxis": {
             "endlinecolor": "#2a3f5f",
             "gridcolor": "white",
             "linecolor": "white",
             "minorgridcolor": "white",
             "startlinecolor": "#2a3f5f"
            },
            "baxis": {
             "endlinecolor": "#2a3f5f",
             "gridcolor": "white",
             "linecolor": "white",
             "minorgridcolor": "white",
             "startlinecolor": "#2a3f5f"
            },
            "type": "carpet"
           }
          ],
          "choropleth": [
           {
            "colorbar": {
             "outlinewidth": 0,
             "ticks": ""
            },
            "type": "choropleth"
           }
          ],
          "contour": [
           {
            "colorbar": {
             "outlinewidth": 0,
             "ticks": ""
            },
            "colorscale": [
             [
              0,
              "#0d0887"
             ],
             [
              0.1111111111111111,
              "#46039f"
             ],
             [
              0.2222222222222222,
              "#7201a8"
             ],
             [
              0.3333333333333333,
              "#9c179e"
             ],
             [
              0.4444444444444444,
              "#bd3786"
             ],
             [
              0.5555555555555556,
              "#d8576b"
             ],
             [
              0.6666666666666666,
              "#ed7953"
             ],
             [
              0.7777777777777778,
              "#fb9f3a"
             ],
             [
              0.8888888888888888,
              "#fdca26"
             ],
             [
              1,
              "#f0f921"
             ]
            ],
            "type": "contour"
           }
          ],
          "contourcarpet": [
           {
            "colorbar": {
             "outlinewidth": 0,
             "ticks": ""
            },
            "type": "contourcarpet"
           }
          ],
          "heatmap": [
           {
            "colorbar": {
             "outlinewidth": 0,
             "ticks": ""
            },
            "colorscale": [
             [
              0,
              "#0d0887"
             ],
             [
              0.1111111111111111,
              "#46039f"
             ],
             [
              0.2222222222222222,
              "#7201a8"
             ],
             [
              0.3333333333333333,
              "#9c179e"
             ],
             [
              0.4444444444444444,
              "#bd3786"
             ],
             [
              0.5555555555555556,
              "#d8576b"
             ],
             [
              0.6666666666666666,
              "#ed7953"
             ],
             [
              0.7777777777777778,
              "#fb9f3a"
             ],
             [
              0.8888888888888888,
              "#fdca26"
             ],
             [
              1,
              "#f0f921"
             ]
            ],
            "type": "heatmap"
           }
          ],
          "heatmapgl": [
           {
            "colorbar": {
             "outlinewidth": 0,
             "ticks": ""
            },
            "colorscale": [
             [
              0,
              "#0d0887"
             ],
             [
              0.1111111111111111,
              "#46039f"
             ],
             [
              0.2222222222222222,
              "#7201a8"
             ],
             [
              0.3333333333333333,
              "#9c179e"
             ],
             [
              0.4444444444444444,
              "#bd3786"
             ],
             [
              0.5555555555555556,
              "#d8576b"
             ],
             [
              0.6666666666666666,
              "#ed7953"
             ],
             [
              0.7777777777777778,
              "#fb9f3a"
             ],
             [
              0.8888888888888888,
              "#fdca26"
             ],
             [
              1,
              "#f0f921"
             ]
            ],
            "type": "heatmapgl"
           }
          ],
          "histogram": [
           {
            "marker": {
             "colorbar": {
              "outlinewidth": 0,
              "ticks": ""
             }
            },
            "type": "histogram"
           }
          ],
          "histogram2d": [
           {
            "colorbar": {
             "outlinewidth": 0,
             "ticks": ""
            },
            "colorscale": [
             [
              0,
              "#0d0887"
             ],
             [
              0.1111111111111111,
              "#46039f"
             ],
             [
              0.2222222222222222,
              "#7201a8"
             ],
             [
              0.3333333333333333,
              "#9c179e"
             ],
             [
              0.4444444444444444,
              "#bd3786"
             ],
             [
              0.5555555555555556,
              "#d8576b"
             ],
             [
              0.6666666666666666,
              "#ed7953"
             ],
             [
              0.7777777777777778,
              "#fb9f3a"
             ],
             [
              0.8888888888888888,
              "#fdca26"
             ],
             [
              1,
              "#f0f921"
             ]
            ],
            "type": "histogram2d"
           }
          ],
          "histogram2dcontour": [
           {
            "colorbar": {
             "outlinewidth": 0,
             "ticks": ""
            },
            "colorscale": [
             [
              0,
              "#0d0887"
             ],
             [
              0.1111111111111111,
              "#46039f"
             ],
             [
              0.2222222222222222,
              "#7201a8"
             ],
             [
              0.3333333333333333,
              "#9c179e"
             ],
             [
              0.4444444444444444,
              "#bd3786"
             ],
             [
              0.5555555555555556,
              "#d8576b"
             ],
             [
              0.6666666666666666,
              "#ed7953"
             ],
             [
              0.7777777777777778,
              "#fb9f3a"
             ],
             [
              0.8888888888888888,
              "#fdca26"
             ],
             [
              1,
              "#f0f921"
             ]
            ],
            "type": "histogram2dcontour"
           }
          ],
          "mesh3d": [
           {
            "colorbar": {
             "outlinewidth": 0,
             "ticks": ""
            },
            "type": "mesh3d"
           }
          ],
          "parcoords": [
           {
            "line": {
             "colorbar": {
              "outlinewidth": 0,
              "ticks": ""
             }
            },
            "type": "parcoords"
           }
          ],
          "pie": [
           {
            "automargin": true,
            "type": "pie"
           }
          ],
          "scatter": [
           {
            "marker": {
             "colorbar": {
              "outlinewidth": 0,
              "ticks": ""
             }
            },
            "type": "scatter"
           }
          ],
          "scatter3d": [
           {
            "line": {
             "colorbar": {
              "outlinewidth": 0,
              "ticks": ""
             }
            },
            "marker": {
             "colorbar": {
              "outlinewidth": 0,
              "ticks": ""
             }
            },
            "type": "scatter3d"
           }
          ],
          "scattercarpet": [
           {
            "marker": {
             "colorbar": {
              "outlinewidth": 0,
              "ticks": ""
             }
            },
            "type": "scattercarpet"
           }
          ],
          "scattergeo": [
           {
            "marker": {
             "colorbar": {
              "outlinewidth": 0,
              "ticks": ""
             }
            },
            "type": "scattergeo"
           }
          ],
          "scattergl": [
           {
            "marker": {
             "colorbar": {
              "outlinewidth": 0,
              "ticks": ""
             }
            },
            "type": "scattergl"
           }
          ],
          "scattermapbox": [
           {
            "marker": {
             "colorbar": {
              "outlinewidth": 0,
              "ticks": ""
             }
            },
            "type": "scattermapbox"
           }
          ],
          "scatterpolar": [
           {
            "marker": {
             "colorbar": {
              "outlinewidth": 0,
              "ticks": ""
             }
            },
            "type": "scatterpolar"
           }
          ],
          "scatterpolargl": [
           {
            "marker": {
             "colorbar": {
              "outlinewidth": 0,
              "ticks": ""
             }
            },
            "type": "scatterpolargl"
           }
          ],
          "scatterternary": [
           {
            "marker": {
             "colorbar": {
              "outlinewidth": 0,
              "ticks": ""
             }
            },
            "type": "scatterternary"
           }
          ],
          "surface": [
           {
            "colorbar": {
             "outlinewidth": 0,
             "ticks": ""
            },
            "colorscale": [
             [
              0,
              "#0d0887"
             ],
             [
              0.1111111111111111,
              "#46039f"
             ],
             [
              0.2222222222222222,
              "#7201a8"
             ],
             [
              0.3333333333333333,
              "#9c179e"
             ],
             [
              0.4444444444444444,
              "#bd3786"
             ],
             [
              0.5555555555555556,
              "#d8576b"
             ],
             [
              0.6666666666666666,
              "#ed7953"
             ],
             [
              0.7777777777777778,
              "#fb9f3a"
             ],
             [
              0.8888888888888888,
              "#fdca26"
             ],
             [
              1,
              "#f0f921"
             ]
            ],
            "type": "surface"
           }
          ],
          "table": [
           {
            "cells": {
             "fill": {
              "color": "#EBF0F8"
             },
             "line": {
              "color": "white"
             }
            },
            "header": {
             "fill": {
              "color": "#C8D4E3"
             },
             "line": {
              "color": "white"
             }
            },
            "type": "table"
           }
          ]
         },
         "layout": {
          "annotationdefaults": {
           "arrowcolor": "#2a3f5f",
           "arrowhead": 0,
           "arrowwidth": 1
          },
          "coloraxis": {
           "colorbar": {
            "outlinewidth": 0,
            "ticks": ""
           }
          },
          "colorscale": {
           "diverging": [
            [
             0,
             "#8e0152"
            ],
            [
             0.1,
             "#c51b7d"
            ],
            [
             0.2,
             "#de77ae"
            ],
            [
             0.3,
             "#f1b6da"
            ],
            [
             0.4,
             "#fde0ef"
            ],
            [
             0.5,
             "#f7f7f7"
            ],
            [
             0.6,
             "#e6f5d0"
            ],
            [
             0.7,
             "#b8e186"
            ],
            [
             0.8,
             "#7fbc41"
            ],
            [
             0.9,
             "#4d9221"
            ],
            [
             1,
             "#276419"
            ]
           ],
           "sequential": [
            [
             0,
             "#0d0887"
            ],
            [
             0.1111111111111111,
             "#46039f"
            ],
            [
             0.2222222222222222,
             "#7201a8"
            ],
            [
             0.3333333333333333,
             "#9c179e"
            ],
            [
             0.4444444444444444,
             "#bd3786"
            ],
            [
             0.5555555555555556,
             "#d8576b"
            ],
            [
             0.6666666666666666,
             "#ed7953"
            ],
            [
             0.7777777777777778,
             "#fb9f3a"
            ],
            [
             0.8888888888888888,
             "#fdca26"
            ],
            [
             1,
             "#f0f921"
            ]
           ],
           "sequentialminus": [
            [
             0,
             "#0d0887"
            ],
            [
             0.1111111111111111,
             "#46039f"
            ],
            [
             0.2222222222222222,
             "#7201a8"
            ],
            [
             0.3333333333333333,
             "#9c179e"
            ],
            [
             0.4444444444444444,
             "#bd3786"
            ],
            [
             0.5555555555555556,
             "#d8576b"
            ],
            [
             0.6666666666666666,
             "#ed7953"
            ],
            [
             0.7777777777777778,
             "#fb9f3a"
            ],
            [
             0.8888888888888888,
             "#fdca26"
            ],
            [
             1,
             "#f0f921"
            ]
           ]
          },
          "colorway": [
           "#636efa",
           "#EF553B",
           "#00cc96",
           "#ab63fa",
           "#FFA15A",
           "#19d3f3",
           "#FF6692",
           "#B6E880",
           "#FF97FF",
           "#FECB52"
          ],
          "font": {
           "color": "#2a3f5f"
          },
          "geo": {
           "bgcolor": "white",
           "lakecolor": "white",
           "landcolor": "#E5ECF6",
           "showlakes": true,
           "showland": true,
           "subunitcolor": "white"
          },
          "hoverlabel": {
           "align": "left"
          },
          "hovermode": "closest",
          "mapbox": {
           "style": "light"
          },
          "paper_bgcolor": "white",
          "plot_bgcolor": "#E5ECF6",
          "polar": {
           "angularaxis": {
            "gridcolor": "white",
            "linecolor": "white",
            "ticks": ""
           },
           "bgcolor": "#E5ECF6",
           "radialaxis": {
            "gridcolor": "white",
            "linecolor": "white",
            "ticks": ""
           }
          },
          "scene": {
           "xaxis": {
            "backgroundcolor": "#E5ECF6",
            "gridcolor": "white",
            "gridwidth": 2,
            "linecolor": "white",
            "showbackground": true,
            "ticks": "",
            "zerolinecolor": "white"
           },
           "yaxis": {
            "backgroundcolor": "#E5ECF6",
            "gridcolor": "white",
            "gridwidth": 2,
            "linecolor": "white",
            "showbackground": true,
            "ticks": "",
            "zerolinecolor": "white"
           },
           "zaxis": {
            "backgroundcolor": "#E5ECF6",
            "gridcolor": "white",
            "gridwidth": 2,
            "linecolor": "white",
            "showbackground": true,
            "ticks": "",
            "zerolinecolor": "white"
           }
          },
          "shapedefaults": {
           "line": {
            "color": "#2a3f5f"
           }
          },
          "ternary": {
           "aaxis": {
            "gridcolor": "white",
            "linecolor": "white",
            "ticks": ""
           },
           "baxis": {
            "gridcolor": "white",
            "linecolor": "white",
            "ticks": ""
           },
           "bgcolor": "#E5ECF6",
           "caxis": {
            "gridcolor": "white",
            "linecolor": "white",
            "ticks": ""
           }
          },
          "title": {
           "x": 0.05
          },
          "xaxis": {
           "automargin": true,
           "gridcolor": "white",
           "linecolor": "white",
           "ticks": "",
           "title": {
            "standoff": 15
           },
           "zerolinecolor": "white",
           "zerolinewidth": 2
          },
          "yaxis": {
           "automargin": true,
           "gridcolor": "white",
           "linecolor": "white",
           "ticks": "",
           "title": {
            "standoff": 15
           },
           "zerolinecolor": "white",
           "zerolinewidth": 2
          }
         }
        },
        "title": {
         "font": {
          "color": "#4D5663"
         }
        },
        "xaxis": {
         "gridcolor": "#E1E5ED",
         "showgrid": true,
         "tickfont": {
          "color": "#4D5663"
         },
         "title": {
          "font": {
           "color": "#4D5663"
          },
          "text": ""
         },
         "zerolinecolor": "#E1E5ED"
        },
        "yaxis": {
         "gridcolor": "#E1E5ED",
         "showgrid": true,
         "tickfont": {
          "color": "#4D5663"
         },
         "title": {
          "font": {
           "color": "#4D5663"
          },
          "text": ""
         },
         "zerolinecolor": "#E1E5ED"
        }
       }
      },
      "text/html": [
       "<div>\n",
       "        \n",
       "        \n",
       "            <div id=\"75bee36e-10da-4fa0-ae78-af5edd5f6e67\" class=\"plotly-graph-div\" style=\"height:525px; width:100%;\"></div>\n",
       "            <script type=\"text/javascript\">\n",
       "                require([\"plotly\"], function(Plotly) {\n",
       "                    window.PLOTLYENV=window.PLOTLYENV || {};\n",
       "                    window.PLOTLYENV.BASE_URL='https://plot.ly';\n",
       "                    \n",
       "                if (document.getElementById(\"75bee36e-10da-4fa0-ae78-af5edd5f6e67\")) {\n",
       "                    Plotly.newPlot(\n",
       "                        '75bee36e-10da-4fa0-ae78-af5edd5f6e67',\n",
       "                        [{\"histfunc\": \"count\", \"histnorm\": \"\", \"marker\": {\"color\": \"rgba(255, 153, 51, 1.0)\", \"line\": {\"color\": \"#4D5663\", \"width\": 1.3}}, \"name\": \"A\", \"opacity\": 0.8, \"orientation\": \"v\", \"type\": \"histogram\", \"x\": [0.48758791284167, -1.0945360538696463, -0.025109160636671034, 0.5318438573072443, 1.170821047816164, -1.0781069618216137, 0.023929908721716072, -0.3341668073479446, 0.15466770476350178, 1.5446639151497434, 1.4056054833842484, 1.6261568763361154, -1.1227374435458701, 0.28194097407828445, -0.682223671693977, -0.9562545728370384, -0.7209835661743308, -0.03317994654738412, 0.5205553063310279, -1.1366028975811477, -0.9786485170200829, 0.13548859544218975, -0.0009540853056883342, 0.5979449535006777, 1.1149531211625783, 0.4283544325769933, -0.2411460571149065, -1.2870861552795327, 0.03636844814017887, 1.2075977330375478, -1.1535869763732076, 1.0628415041799286, -1.0491639233442693, 1.3811022114090363, -0.3613211905254392, -0.45890225542836116, -0.12162760141230262, -0.8396215800903595, -0.565381067065979, -3.4566182937067276, 0.8993420377570022, 0.2165974313829244, 1.6103508033055005, 0.0094913782519163, 0.45531265282040323, 0.6119558083278896, -0.2942946657226144, -1.2729657899992224, -0.3545189453227468, 0.07805696223208544, -0.66178932419833, -1.6925420918465717, -0.1307554580410991, -0.39774105359567025, -1.516011865561858, -0.5391143165355534, -1.1142859655918813, 1.0551320487656342, -0.5717178581500568, -0.1073076890360471, -1.5270560562106272, -0.7899843365922449, -0.6356350799456826, -0.41468126319261245, 1.6781806287486598, -0.33874390881565875, 0.18609602799409797, -1.2338502645280391, 0.10345221635878635, 0.6586971927026098, 0.5813188464153145, 1.3837115433387472, -0.29753261872603187, -1.6128956978544893, -1.103081913031465, -0.15162181863861388, 0.7316627867109841, -0.8665646320585265, -1.701661298481288, 1.596184275190892, 0.14494608879711593, -0.41603294033322546, 0.9563325173459639, -0.30156389581498877, 0.926333185290943, 0.6631382639673186, 0.39152621569100776, -0.5826926583224311, 0.6255130281637811, -0.21940433600962406, -0.9505295760532173, -0.10707435083175479, 0.37504647253794426, -0.7821664392300294, 1.213031390357866, -0.009994398016467693, 0.9894948390200397, -1.647259086231465, 0.9233657259667436, 0.17155861516031895]}, {\"histfunc\": \"count\", \"histnorm\": \"\", \"marker\": {\"color\": \"rgba(55, 128, 191, 1.0)\", \"line\": {\"color\": \"#4D5663\", \"width\": 1.3}}, \"name\": \"B\", \"opacity\": 0.8, \"orientation\": \"v\", \"type\": \"histogram\", \"x\": [-0.3260093462636492, 0.24999368535084174, 0.23529007756177991, 1.497738301294124, -1.9235211183341405, -2.0300951821002418, -0.8026053432036195, -0.062102401082379945, 0.5733134985509706, -0.028200152143247094, 0.5457366836861638, 1.9105677035222017, -1.8510783961436936, 1.8936264586473475, 0.8455161682358032, 0.08530004905902606, 1.15547970626262, 0.33241678821461357, 0.8973896937867161, 0.19756270998312664, -0.5551208869803647, -0.7141539274695231, 0.009781143871655847, -0.7963514852359374, 0.18435114594596597, -0.7236122806767714, -0.6268367864953104, -1.0069813144186306, -0.5997263961705249, 0.2218092724149917, -1.170188533181909, -0.7686459812838211, -0.5673983196078344, 1.5249329961718672, -2.1774022163390523, -0.16736496395437145, 1.0228620924991214, 0.3910535831520817, 1.728288848550678, -0.009405137671356954, 0.9241988728738655, 0.44155721095505096, -0.22054721336042088, 0.5781436798174855, -1.290605550402523, -0.8219921260635391, 0.6672891466109183, -1.0544087228560581, 0.8576970417953911, 1.4773492966329609, -0.37563342720144566, 1.2771642094219255, 1.4113133544016951, -0.29750095974408886, -0.3162064319347066, 1.188528108737439, 0.579601446889555, -1.7869180545292704, 0.6597949108832315, -0.0001365483231869348, 1.1812217654383987, -0.039242310036225546, 0.055462809310465856, -0.26055519934982774, 0.6725828725192213, -0.5868956518865107, -0.36545184706978795, 0.9293783772779497, -1.12768298608976, -0.6802463660504389, 1.0337663943479858, -0.11482295289181627, -0.050142642112852305, -0.7605981670708353, 1.1776341864268012, -1.046185183818184, -0.7725793465552173, -0.19141931620324604, -0.5627311353208561, -0.6551472073374759, 0.1682953138174061, -1.219605336933295, 1.1676004025006497, -1.729816895327089, 0.7124705106659508, 1.5236894135662393, -1.6321268418409738, -0.7707520544200946, -0.05597956411105408, 0.16633345555002213, 1.3749075858226854, 0.7668818323383592, 1.2292117573820642, -0.09963937439980546, 1.8913086287611742, -0.13916805496855586, -0.8661975302049588, 0.011535216890753078, 1.2450592447021642, -2.211752092799134]}, {\"histfunc\": \"count\", \"histnorm\": \"\", \"marker\": {\"color\": \"rgba(50, 171, 96, 1.0)\", \"line\": {\"color\": \"#4D5663\", \"width\": 1.3}}, \"name\": \"C\", \"opacity\": 0.8, \"orientation\": \"v\", \"type\": \"histogram\", \"x\": [-0.9215737996680481, 0.24257794495661747, 0.28730374971215455, 0.14040275264155666, -0.01454372243547929, 0.5701479887456785, -0.5913889393179355, -0.5391923903512743, -0.1268109615054854, 0.8330285935502711, -0.45887812076157464, -0.9098656132168144, 0.30937887086993643, -1.3173769403479854, 1.1390528635745454, -0.054313980526728284, -0.06345952949402739, -1.1848137236310903, 0.07638907718243115, -0.7575403986569592, 1.7111419842743498, 0.27368305370590473, -0.14455085058261638, 0.035816694898625955, 0.21415107397239885, 1.9934432737074155, 0.25865489493566746, -2.311189157953442, 0.6209601156744055, 0.7504779554943947, 0.09748343837697022, 0.17482346528953707, 0.5823900490090388, 1.1176691088840645, -0.15595798168684122, -0.39505494965702165, -0.43222799923157496, -0.021203250326226684, 1.536868590901801, 0.8289905654680133, 0.920122027822724, 0.7552087906910285, -0.4435526780625535, 0.7533509524104882, -0.3163692824277632, -1.3740015077056968, 1.4844837012254757, 1.6989196256086767, 0.21383303878010604, 0.8903447804836941, -0.4811875074025367, -0.4083018305349428, 1.5122987569757786, -3.456495150976108, -0.5078588732223014, -0.19091788141284483, 0.07076357456210358, -1.1408201971843714, 1.8997545762062136, 0.09703976302099852, 0.039703654766854495, 1.0494411955167449, 0.029929215098847543, 1.7940867369711784, -1.4870984274296137, -0.6874900617646675, 1.4365266243030386, 0.0230165236855401, -0.3063837206223713, -2.659682030893965, 1.2274792247016022, 0.3119932445595903, 1.2018157112787466, 0.5033149695523894, -0.01920839903472686, 0.15679949048063785, 0.12213403014052661, -0.12491818968818347, 0.9322611703529357, -0.32080906005630394, -1.9843429087528304, -2.1117410103351584, -0.9971293003585686, 1.2539711506249005, -0.9705376358440737, 1.110380938606927, -0.9658677901361647, -1.3794425991471915, -0.18429815818266237, -2.4709888143236496, 2.0947893798665924, -0.3557969469360339, 0.5337181750396833, 0.12295132345624875, 1.425546310958585, 0.1999557525436834, -1.293395493776135, 1.221242082392363, -0.7800515940717015, -0.4455096834649943]}, {\"histfunc\": \"count\", \"histnorm\": \"\", \"marker\": {\"color\": \"rgba(128, 0, 128, 1.0)\", \"line\": {\"color\": \"#4D5663\", \"width\": 1.3}}, \"name\": \"D\", \"opacity\": 0.8, \"orientation\": \"v\", \"type\": \"histogram\", \"x\": [-0.3732001785635488, 0.02772057204258057, 2.0780977673160814, 1.3345213603864252, 0.1694366973809169, -0.2684697638023764, -0.6082296092599212, 0.6508892453079715, -0.4345062907402152, -0.5617920353885649, -0.587017228791666, -1.090602506962519, -0.47177082945853616, -0.5047968481345675, 0.30674061235988115, -0.2580618267023648, 1.213046387572064, -0.10336248572090953, 1.2135641909949002, -0.29573781138810157, 0.09265697441911201, 1.181111268444659, 0.9794260265187278, -0.2066609559336435, -1.4324849127349883, 1.8973719521978711, -1.5770524954708642, -1.5233755285194996, -0.11954388695033413, 0.408227044615286, -0.7943217801990868, -0.4074277029874315, -1.2964724531322758, 1.3531820244255979, -0.10209548025668516, -3.962267411342711, 0.3925374957693042, -1.5987574555527004, -0.015690786883268432, -1.3646431233639413, 0.005367302494327931, -1.1544773552282033, 0.6812441407429343, 1.3980508128192732, -0.6960723365727628, 0.8007104031685038, 0.22814968085465678, 0.39540184605719475, -0.6465850039640896, -0.49131677264646473, -1.7766857278277122, -0.5308430489637528, -0.4143386231020363, 0.9564710084119504, -0.3110460476539002, 1.8446499699453207, 0.38994548400707324, -2.7684282902563084, -2.119079548307512, -0.1266261950522138, -0.45611608273969556, 0.077912447832572, -0.21689984979054935, -0.7121695757676461, -0.3490408053170844, 0.3906916972874522, -0.8297333159231602, -0.707490514149694, -1.2545296140226112, -0.05515145982340287, -0.40172092888359184, -1.8846250805252711, 0.9566507481486777, 1.6497778073533933, -1.4767802190660844, 0.05283350103280196, -1.0329661785748872, 0.5644947822224133, -3.2623765712883497, -0.050082748227648924, -0.31321634490070466, -1.0917145834668929, 0.5450272060871032, -0.27725916223419866, -1.3544628542209094, -2.561107978279768, -0.29988417704474407, -0.08734822296629834, 0.31378902477164194, -0.08316283323673339, -0.057673051473649005, -1.1827138584189956, -0.9354931234512995, 0.5391231576807595, 0.6683226564578738, 1.4246185626652708, -0.250826647645536, -1.7472524156312297, 0.0165326921674526, -0.07634791957043927]}],\n",
       "                        {\"barmode\": \"overlay\", \"legend\": {\"bgcolor\": \"#F5F6F9\", \"font\": {\"color\": \"#4D5663\"}}, \"paper_bgcolor\": \"#F5F6F9\", \"plot_bgcolor\": \"#F5F6F9\", \"template\": {\"data\": {\"bar\": [{\"error_x\": {\"color\": \"#2a3f5f\"}, \"error_y\": {\"color\": \"#2a3f5f\"}, \"marker\": {\"line\": {\"color\": \"#E5ECF6\", \"width\": 0.5}}, \"type\": \"bar\"}], \"barpolar\": [{\"marker\": {\"line\": {\"color\": \"#E5ECF6\", \"width\": 0.5}}, \"type\": \"barpolar\"}], \"carpet\": [{\"aaxis\": {\"endlinecolor\": \"#2a3f5f\", \"gridcolor\": \"white\", \"linecolor\": \"white\", \"minorgridcolor\": \"white\", \"startlinecolor\": \"#2a3f5f\"}, \"baxis\": {\"endlinecolor\": \"#2a3f5f\", \"gridcolor\": \"white\", \"linecolor\": \"white\", \"minorgridcolor\": \"white\", \"startlinecolor\": \"#2a3f5f\"}, \"type\": \"carpet\"}], \"choropleth\": [{\"colorbar\": {\"outlinewidth\": 0, \"ticks\": \"\"}, \"type\": \"choropleth\"}], \"contour\": [{\"colorbar\": {\"outlinewidth\": 0, \"ticks\": \"\"}, \"colorscale\": [[0.0, \"#0d0887\"], [0.1111111111111111, \"#46039f\"], [0.2222222222222222, \"#7201a8\"], [0.3333333333333333, \"#9c179e\"], [0.4444444444444444, \"#bd3786\"], [0.5555555555555556, \"#d8576b\"], [0.6666666666666666, \"#ed7953\"], [0.7777777777777778, \"#fb9f3a\"], [0.8888888888888888, \"#fdca26\"], [1.0, \"#f0f921\"]], \"type\": \"contour\"}], \"contourcarpet\": [{\"colorbar\": {\"outlinewidth\": 0, \"ticks\": \"\"}, \"type\": \"contourcarpet\"}], \"heatmap\": [{\"colorbar\": {\"outlinewidth\": 0, \"ticks\": \"\"}, \"colorscale\": [[0.0, \"#0d0887\"], [0.1111111111111111, \"#46039f\"], [0.2222222222222222, \"#7201a8\"], [0.3333333333333333, \"#9c179e\"], [0.4444444444444444, \"#bd3786\"], [0.5555555555555556, \"#d8576b\"], [0.6666666666666666, \"#ed7953\"], [0.7777777777777778, \"#fb9f3a\"], [0.8888888888888888, \"#fdca26\"], [1.0, \"#f0f921\"]], \"type\": \"heatmap\"}], \"heatmapgl\": [{\"colorbar\": {\"outlinewidth\": 0, \"ticks\": \"\"}, \"colorscale\": [[0.0, \"#0d0887\"], [0.1111111111111111, \"#46039f\"], [0.2222222222222222, \"#7201a8\"], [0.3333333333333333, \"#9c179e\"], [0.4444444444444444, \"#bd3786\"], [0.5555555555555556, \"#d8576b\"], [0.6666666666666666, \"#ed7953\"], [0.7777777777777778, \"#fb9f3a\"], [0.8888888888888888, \"#fdca26\"], [1.0, \"#f0f921\"]], \"type\": \"heatmapgl\"}], \"histogram\": [{\"marker\": {\"colorbar\": {\"outlinewidth\": 0, \"ticks\": \"\"}}, \"type\": \"histogram\"}], \"histogram2d\": [{\"colorbar\": {\"outlinewidth\": 0, \"ticks\": \"\"}, \"colorscale\": [[0.0, \"#0d0887\"], [0.1111111111111111, \"#46039f\"], [0.2222222222222222, \"#7201a8\"], [0.3333333333333333, \"#9c179e\"], [0.4444444444444444, \"#bd3786\"], [0.5555555555555556, \"#d8576b\"], [0.6666666666666666, \"#ed7953\"], [0.7777777777777778, \"#fb9f3a\"], [0.8888888888888888, \"#fdca26\"], [1.0, \"#f0f921\"]], \"type\": \"histogram2d\"}], \"histogram2dcontour\": [{\"colorbar\": {\"outlinewidth\": 0, \"ticks\": \"\"}, \"colorscale\": [[0.0, \"#0d0887\"], [0.1111111111111111, \"#46039f\"], [0.2222222222222222, \"#7201a8\"], [0.3333333333333333, \"#9c179e\"], [0.4444444444444444, \"#bd3786\"], [0.5555555555555556, \"#d8576b\"], [0.6666666666666666, \"#ed7953\"], [0.7777777777777778, \"#fb9f3a\"], [0.8888888888888888, \"#fdca26\"], [1.0, \"#f0f921\"]], \"type\": \"histogram2dcontour\"}], \"mesh3d\": [{\"colorbar\": {\"outlinewidth\": 0, \"ticks\": \"\"}, \"type\": \"mesh3d\"}], \"parcoords\": [{\"line\": {\"colorbar\": {\"outlinewidth\": 0, \"ticks\": \"\"}}, \"type\": \"parcoords\"}], \"pie\": [{\"automargin\": true, \"type\": \"pie\"}], \"scatter\": [{\"marker\": {\"colorbar\": {\"outlinewidth\": 0, \"ticks\": \"\"}}, \"type\": \"scatter\"}], \"scatter3d\": [{\"line\": {\"colorbar\": {\"outlinewidth\": 0, \"ticks\": \"\"}}, \"marker\": {\"colorbar\": {\"outlinewidth\": 0, \"ticks\": \"\"}}, \"type\": \"scatter3d\"}], \"scattercarpet\": [{\"marker\": {\"colorbar\": {\"outlinewidth\": 0, \"ticks\": \"\"}}, \"type\": \"scattercarpet\"}], \"scattergeo\": [{\"marker\": {\"colorbar\": {\"outlinewidth\": 0, \"ticks\": \"\"}}, \"type\": \"scattergeo\"}], \"scattergl\": [{\"marker\": {\"colorbar\": {\"outlinewidth\": 0, \"ticks\": \"\"}}, \"type\": \"scattergl\"}], \"scattermapbox\": [{\"marker\": {\"colorbar\": {\"outlinewidth\": 0, \"ticks\": \"\"}}, \"type\": \"scattermapbox\"}], \"scatterpolar\": [{\"marker\": {\"colorbar\": {\"outlinewidth\": 0, \"ticks\": \"\"}}, \"type\": \"scatterpolar\"}], \"scatterpolargl\": [{\"marker\": {\"colorbar\": {\"outlinewidth\": 0, \"ticks\": \"\"}}, \"type\": \"scatterpolargl\"}], \"scatterternary\": [{\"marker\": {\"colorbar\": {\"outlinewidth\": 0, \"ticks\": \"\"}}, \"type\": \"scatterternary\"}], \"surface\": [{\"colorbar\": {\"outlinewidth\": 0, \"ticks\": \"\"}, \"colorscale\": [[0.0, \"#0d0887\"], [0.1111111111111111, \"#46039f\"], [0.2222222222222222, \"#7201a8\"], [0.3333333333333333, \"#9c179e\"], [0.4444444444444444, \"#bd3786\"], [0.5555555555555556, \"#d8576b\"], [0.6666666666666666, \"#ed7953\"], [0.7777777777777778, \"#fb9f3a\"], [0.8888888888888888, \"#fdca26\"], [1.0, \"#f0f921\"]], \"type\": \"surface\"}], \"table\": [{\"cells\": {\"fill\": {\"color\": \"#EBF0F8\"}, \"line\": {\"color\": \"white\"}}, \"header\": {\"fill\": {\"color\": \"#C8D4E3\"}, \"line\": {\"color\": \"white\"}}, \"type\": \"table\"}]}, \"layout\": {\"annotationdefaults\": {\"arrowcolor\": \"#2a3f5f\", \"arrowhead\": 0, \"arrowwidth\": 1}, \"coloraxis\": {\"colorbar\": {\"outlinewidth\": 0, \"ticks\": \"\"}}, \"colorscale\": {\"diverging\": [[0, \"#8e0152\"], [0.1, \"#c51b7d\"], [0.2, \"#de77ae\"], [0.3, \"#f1b6da\"], [0.4, \"#fde0ef\"], [0.5, \"#f7f7f7\"], [0.6, \"#e6f5d0\"], [0.7, \"#b8e186\"], [0.8, \"#7fbc41\"], [0.9, \"#4d9221\"], [1, \"#276419\"]], \"sequential\": [[0.0, \"#0d0887\"], [0.1111111111111111, \"#46039f\"], [0.2222222222222222, \"#7201a8\"], [0.3333333333333333, \"#9c179e\"], [0.4444444444444444, \"#bd3786\"], [0.5555555555555556, \"#d8576b\"], [0.6666666666666666, \"#ed7953\"], [0.7777777777777778, \"#fb9f3a\"], [0.8888888888888888, \"#fdca26\"], [1.0, \"#f0f921\"]], \"sequentialminus\": [[0.0, \"#0d0887\"], [0.1111111111111111, \"#46039f\"], [0.2222222222222222, \"#7201a8\"], [0.3333333333333333, \"#9c179e\"], [0.4444444444444444, \"#bd3786\"], [0.5555555555555556, \"#d8576b\"], [0.6666666666666666, \"#ed7953\"], [0.7777777777777778, \"#fb9f3a\"], [0.8888888888888888, \"#fdca26\"], [1.0, \"#f0f921\"]]}, \"colorway\": [\"#636efa\", \"#EF553B\", \"#00cc96\", \"#ab63fa\", \"#FFA15A\", \"#19d3f3\", \"#FF6692\", \"#B6E880\", \"#FF97FF\", \"#FECB52\"], \"font\": {\"color\": \"#2a3f5f\"}, \"geo\": {\"bgcolor\": \"white\", \"lakecolor\": \"white\", \"landcolor\": \"#E5ECF6\", \"showlakes\": true, \"showland\": true, \"subunitcolor\": \"white\"}, \"hoverlabel\": {\"align\": \"left\"}, \"hovermode\": \"closest\", \"mapbox\": {\"style\": \"light\"}, \"paper_bgcolor\": \"white\", \"plot_bgcolor\": \"#E5ECF6\", \"polar\": {\"angularaxis\": {\"gridcolor\": \"white\", \"linecolor\": \"white\", \"ticks\": \"\"}, \"bgcolor\": \"#E5ECF6\", \"radialaxis\": {\"gridcolor\": \"white\", \"linecolor\": \"white\", \"ticks\": \"\"}}, \"scene\": {\"xaxis\": {\"backgroundcolor\": \"#E5ECF6\", \"gridcolor\": \"white\", \"gridwidth\": 2, \"linecolor\": \"white\", \"showbackground\": true, \"ticks\": \"\", \"zerolinecolor\": \"white\"}, \"yaxis\": {\"backgroundcolor\": \"#E5ECF6\", \"gridcolor\": \"white\", \"gridwidth\": 2, \"linecolor\": \"white\", \"showbackground\": true, \"ticks\": \"\", \"zerolinecolor\": \"white\"}, \"zaxis\": {\"backgroundcolor\": \"#E5ECF6\", \"gridcolor\": \"white\", \"gridwidth\": 2, \"linecolor\": \"white\", \"showbackground\": true, \"ticks\": \"\", \"zerolinecolor\": \"white\"}}, \"shapedefaults\": {\"line\": {\"color\": \"#2a3f5f\"}}, \"ternary\": {\"aaxis\": {\"gridcolor\": \"white\", \"linecolor\": \"white\", \"ticks\": \"\"}, \"baxis\": {\"gridcolor\": \"white\", \"linecolor\": \"white\", \"ticks\": \"\"}, \"bgcolor\": \"#E5ECF6\", \"caxis\": {\"gridcolor\": \"white\", \"linecolor\": \"white\", \"ticks\": \"\"}}, \"title\": {\"x\": 0.05}, \"xaxis\": {\"automargin\": true, \"gridcolor\": \"white\", \"linecolor\": \"white\", \"ticks\": \"\", \"title\": {\"standoff\": 15}, \"zerolinecolor\": \"white\", \"zerolinewidth\": 2}, \"yaxis\": {\"automargin\": true, \"gridcolor\": \"white\", \"linecolor\": \"white\", \"ticks\": \"\", \"title\": {\"standoff\": 15}, \"zerolinecolor\": \"white\", \"zerolinewidth\": 2}}}, \"title\": {\"font\": {\"color\": \"#4D5663\"}}, \"xaxis\": {\"gridcolor\": \"#E1E5ED\", \"showgrid\": true, \"tickfont\": {\"color\": \"#4D5663\"}, \"title\": {\"font\": {\"color\": \"#4D5663\"}, \"text\": \"\"}, \"zerolinecolor\": \"#E1E5ED\"}, \"yaxis\": {\"gridcolor\": \"#E1E5ED\", \"showgrid\": true, \"tickfont\": {\"color\": \"#4D5663\"}, \"title\": {\"font\": {\"color\": \"#4D5663\"}, \"text\": \"\"}, \"zerolinecolor\": \"#E1E5ED\"}},\n",
       "                        {\"showLink\": true, \"linkText\": \"Export to plot.ly\", \"plotlyServerURL\": \"https://plot.ly\", \"responsive\": true}\n",
       "                    ).then(function(){\n",
       "                            \n",
       "var gd = document.getElementById('75bee36e-10da-4fa0-ae78-af5edd5f6e67');\n",
       "var x = new MutationObserver(function (mutations, observer) {{\n",
       "        var display = window.getComputedStyle(gd).display;\n",
       "        if (!display || display === 'none') {{\n",
       "            console.log([gd, 'removed!']);\n",
       "            Plotly.purge(gd);\n",
       "            observer.disconnect();\n",
       "        }}\n",
       "}});\n",
       "\n",
       "// Listen for the removal of the full notebook cells\n",
       "var notebookContainer = gd.closest('#notebook-container');\n",
       "if (notebookContainer) {{\n",
       "    x.observe(notebookContainer, {childList: true});\n",
       "}}\n",
       "\n",
       "// Listen for the clearing of the current output cell\n",
       "var outputEl = gd.closest('.output');\n",
       "if (outputEl) {{\n",
       "    x.observe(outputEl, {childList: true});\n",
       "}}\n",
       "\n",
       "                        })\n",
       "                };\n",
       "                });\n",
       "            </script>\n",
       "        </div>"
      ]
     },
     "metadata": {},
     "output_type": "display_data"
    }
   ],
   "source": [
    "# the whole dataframe in histogram\n",
    "df.iplot(kind='hist')"
   ]
  },
  {
   "cell_type": "code",
   "execution_count": 39,
   "metadata": {},
   "outputs": [
    {
     "name": "stderr",
     "output_type": "stream",
     "text": [
      "C:\\Users\\admin\\anaconda3\\lib\\site-packages\\cufflinks\\plotlytools.py:849: FutureWarning:\n",
      "\n",
      "The pandas.np module is deprecated and will be removed from pandas in a future version. Import numpy directly instead\n",
      "\n",
      "C:\\Users\\admin\\anaconda3\\lib\\site-packages\\cufflinks\\plotlytools.py:850: FutureWarning:\n",
      "\n",
      "The pandas.np module is deprecated and will be removed from pandas in a future version. Import numpy directly instead\n",
      "\n"
     ]
    },
    {
     "data": {
      "application/vnd.plotly.v1+json": {
       "config": {
        "linkText": "Export to plot.ly",
        "plotlyServerURL": "https://plot.ly",
        "showLink": true
       },
       "data": [
        {
         "line": {
          "color": "rgba(255, 153, 51, 1.0)",
          "dash": "solid",
          "shape": "linear",
          "width": 1.3
         },
         "mode": "lines",
         "name": "A",
         "text": "",
         "type": "scatter",
         "x": [
          0,
          1,
          2,
          3,
          4,
          5,
          6,
          7,
          8,
          9,
          10,
          11,
          12,
          13,
          14,
          15,
          16,
          17,
          18,
          19,
          20,
          21,
          22,
          23,
          24,
          25,
          26,
          27,
          28,
          29,
          30,
          31,
          32,
          33,
          34,
          35,
          36,
          37,
          38,
          39,
          40,
          41,
          42,
          43,
          44,
          45,
          46,
          47,
          48,
          49,
          50,
          51,
          52,
          53,
          54,
          55,
          56,
          57,
          58,
          59,
          60,
          61,
          62,
          63,
          64,
          65,
          66,
          67,
          68,
          69,
          70,
          71,
          72,
          73,
          74,
          75,
          76,
          77,
          78,
          79,
          80,
          81,
          82,
          83,
          84,
          85,
          86,
          87,
          88,
          89,
          90,
          91,
          92,
          93,
          94,
          95,
          96,
          97,
          98,
          99
         ],
         "y": [
          0.48758791284167,
          -1.0945360538696463,
          -0.025109160636671034,
          0.5318438573072443,
          1.170821047816164,
          -1.0781069618216137,
          0.023929908721716072,
          -0.3341668073479446,
          0.15466770476350178,
          1.5446639151497434,
          1.4056054833842484,
          1.6261568763361154,
          -1.1227374435458701,
          0.28194097407828445,
          -0.682223671693977,
          -0.9562545728370384,
          -0.7209835661743308,
          -0.03317994654738412,
          0.5205553063310279,
          -1.1366028975811477,
          -0.9786485170200829,
          0.13548859544218975,
          -0.0009540853056883342,
          0.5979449535006777,
          1.1149531211625783,
          0.4283544325769933,
          -0.2411460571149065,
          -1.2870861552795327,
          0.03636844814017887,
          1.2075977330375478,
          -1.1535869763732076,
          1.0628415041799286,
          -1.0491639233442693,
          1.3811022114090363,
          -0.3613211905254392,
          -0.45890225542836116,
          -0.12162760141230262,
          -0.8396215800903595,
          -0.565381067065979,
          -3.4566182937067276,
          0.8993420377570022,
          0.2165974313829244,
          1.6103508033055005,
          0.0094913782519163,
          0.45531265282040323,
          0.6119558083278896,
          -0.2942946657226144,
          -1.2729657899992224,
          -0.3545189453227468,
          0.07805696223208544,
          -0.66178932419833,
          -1.6925420918465717,
          -0.1307554580410991,
          -0.39774105359567025,
          -1.516011865561858,
          -0.5391143165355534,
          -1.1142859655918813,
          1.0551320487656342,
          -0.5717178581500568,
          -0.1073076890360471,
          -1.5270560562106272,
          -0.7899843365922449,
          -0.6356350799456826,
          -0.41468126319261245,
          1.6781806287486598,
          -0.33874390881565875,
          0.18609602799409797,
          -1.2338502645280391,
          0.10345221635878635,
          0.6586971927026098,
          0.5813188464153145,
          1.3837115433387472,
          -0.29753261872603187,
          -1.6128956978544893,
          -1.103081913031465,
          -0.15162181863861388,
          0.7316627867109841,
          -0.8665646320585265,
          -1.701661298481288,
          1.596184275190892,
          0.14494608879711593,
          -0.41603294033322546,
          0.9563325173459639,
          -0.30156389581498877,
          0.926333185290943,
          0.6631382639673186,
          0.39152621569100776,
          -0.5826926583224311,
          0.6255130281637811,
          -0.21940433600962406,
          -0.9505295760532173,
          -0.10707435083175479,
          0.37504647253794426,
          -0.7821664392300294,
          1.213031390357866,
          -0.009994398016467693,
          0.9894948390200397,
          -1.647259086231465,
          0.9233657259667436,
          0.17155861516031895
         ]
        },
        {
         "line": {
          "color": "rgba(55, 128, 191, 1.0)",
          "dash": "solid",
          "shape": "linear",
          "width": 1.3
         },
         "mode": "lines",
         "name": "B",
         "text": "",
         "type": "scatter",
         "x": [
          0,
          1,
          2,
          3,
          4,
          5,
          6,
          7,
          8,
          9,
          10,
          11,
          12,
          13,
          14,
          15,
          16,
          17,
          18,
          19,
          20,
          21,
          22,
          23,
          24,
          25,
          26,
          27,
          28,
          29,
          30,
          31,
          32,
          33,
          34,
          35,
          36,
          37,
          38,
          39,
          40,
          41,
          42,
          43,
          44,
          45,
          46,
          47,
          48,
          49,
          50,
          51,
          52,
          53,
          54,
          55,
          56,
          57,
          58,
          59,
          60,
          61,
          62,
          63,
          64,
          65,
          66,
          67,
          68,
          69,
          70,
          71,
          72,
          73,
          74,
          75,
          76,
          77,
          78,
          79,
          80,
          81,
          82,
          83,
          84,
          85,
          86,
          87,
          88,
          89,
          90,
          91,
          92,
          93,
          94,
          95,
          96,
          97,
          98,
          99
         ],
         "y": [
          -0.3260093462636492,
          0.24999368535084174,
          0.23529007756177991,
          1.497738301294124,
          -1.9235211183341405,
          -2.0300951821002418,
          -0.8026053432036195,
          -0.062102401082379945,
          0.5733134985509706,
          -0.028200152143247094,
          0.5457366836861638,
          1.9105677035222017,
          -1.8510783961436936,
          1.8936264586473475,
          0.8455161682358032,
          0.08530004905902606,
          1.15547970626262,
          0.33241678821461357,
          0.8973896937867161,
          0.19756270998312664,
          -0.5551208869803647,
          -0.7141539274695231,
          0.009781143871655847,
          -0.7963514852359374,
          0.18435114594596597,
          -0.7236122806767714,
          -0.6268367864953104,
          -1.0069813144186306,
          -0.5997263961705249,
          0.2218092724149917,
          -1.170188533181909,
          -0.7686459812838211,
          -0.5673983196078344,
          1.5249329961718672,
          -2.1774022163390523,
          -0.16736496395437145,
          1.0228620924991214,
          0.3910535831520817,
          1.728288848550678,
          -0.009405137671356954,
          0.9241988728738655,
          0.44155721095505096,
          -0.22054721336042088,
          0.5781436798174855,
          -1.290605550402523,
          -0.8219921260635391,
          0.6672891466109183,
          -1.0544087228560581,
          0.8576970417953911,
          1.4773492966329609,
          -0.37563342720144566,
          1.2771642094219255,
          1.4113133544016951,
          -0.29750095974408886,
          -0.3162064319347066,
          1.188528108737439,
          0.579601446889555,
          -1.7869180545292704,
          0.6597949108832315,
          -0.0001365483231869348,
          1.1812217654383987,
          -0.039242310036225546,
          0.055462809310465856,
          -0.26055519934982774,
          0.6725828725192213,
          -0.5868956518865107,
          -0.36545184706978795,
          0.9293783772779497,
          -1.12768298608976,
          -0.6802463660504389,
          1.0337663943479858,
          -0.11482295289181627,
          -0.050142642112852305,
          -0.7605981670708353,
          1.1776341864268012,
          -1.046185183818184,
          -0.7725793465552173,
          -0.19141931620324604,
          -0.5627311353208561,
          -0.6551472073374759,
          0.1682953138174061,
          -1.219605336933295,
          1.1676004025006497,
          -1.729816895327089,
          0.7124705106659508,
          1.5236894135662393,
          -1.6321268418409738,
          -0.7707520544200946,
          -0.05597956411105408,
          0.16633345555002213,
          1.3749075858226854,
          0.7668818323383592,
          1.2292117573820642,
          -0.09963937439980546,
          1.8913086287611742,
          -0.13916805496855586,
          -0.8661975302049588,
          0.011535216890753078,
          1.2450592447021642,
          -2.211752092799134
         ]
        },
        {
         "connectgaps": false,
         "fill": "tozeroy",
         "line": {
          "color": "green",
          "dash": "solid",
          "shape": "linear",
          "width": 0.5
         },
         "mode": "lines",
         "name": "Spread",
         "showlegend": false,
         "type": "scatter",
         "x": [
          0,
          1,
          2,
          3,
          4,
          5,
          6,
          7,
          8,
          9,
          10,
          11,
          12,
          13,
          14,
          15,
          16,
          17,
          18,
          19,
          20,
          21,
          22,
          23,
          24,
          25,
          26,
          27,
          28,
          29,
          30,
          31,
          32,
          33,
          34,
          35,
          36,
          37,
          38,
          39,
          40,
          41,
          42,
          43,
          44,
          45,
          46,
          47,
          48,
          49,
          50,
          51,
          52,
          53,
          54,
          55,
          56,
          57,
          58,
          59,
          60,
          61,
          62,
          63,
          64,
          65,
          66,
          67,
          68,
          69,
          70,
          71,
          72,
          73,
          74,
          75,
          76,
          77,
          78,
          79,
          80,
          81,
          82,
          83,
          84,
          85,
          86,
          87,
          88,
          89,
          90,
          91,
          92,
          93,
          94,
          95,
          96,
          97,
          98,
          99
         ],
         "xaxis": "x2",
         "y": [
          0.8135972591053192,
          "",
          "",
          "",
          3.0943421661503043,
          0.9519882202786281,
          0.8265352519253356,
          "",
          "",
          1.5728640672929906,
          0.8598687996980846,
          "",
          0.7283409525978235,
          "",
          "",
          "",
          "",
          "",
          "",
          "",
          "",
          0.8496425229117128,
          "",
          1.394296438736615,
          0.9306019752166124,
          1.1519667132537648,
          0.3856907293804039,
          "",
          0.6360948443107038,
          0.9857884606225561,
          0.016601556808701456,
          1.8314874854637497,
          "",
          "",
          1.816081025813613,
          "",
          "",
          "",
          "",
          "",
          "",
          "",
          1.8308980166659214,
          "",
          1.7459182032229261,
          1.4339479343914288,
          "",
          "",
          "",
          "",
          "",
          "",
          "",
          "",
          "",
          "",
          "",
          2.8420501032949046,
          "",
          "",
          "",
          "",
          "",
          "",
          1.0055977562294385,
          0.24815174307085197,
          0.5515478750638859,
          "",
          1.2311352024485462,
          1.3389435587530487,
          "",
          1.4985344962305636,
          "",
          "",
          "",
          0.89456336517957,
          1.5042421332662013,
          "",
          "",
          2.251331482528368,
          "",
          0.8035723966000696,
          "",
          1.4282529995121003,
          0.2138626746249922,
          "",
          2.0236530575319813,
          0.18805939609766353,
          0.6814925922748352,
          "",
          "",
          "",
          "",
          "",
          "",
          0.12917365695208816,
          1.8556923692249985,
          "",
          "",
          2.3833107079594527
         ],
         "yaxis": "y2"
        },
        {
         "connectgaps": false,
         "fill": "tozeroy",
         "line": {
          "color": "red",
          "dash": "solid",
          "shape": "linear",
          "width": 0.5
         },
         "mode": "lines",
         "name": "Spread",
         "showlegend": false,
         "type": "scatter",
         "x": [
          0,
          1,
          2,
          3,
          4,
          5,
          6,
          7,
          8,
          9,
          10,
          11,
          12,
          13,
          14,
          15,
          16,
          17,
          18,
          19,
          20,
          21,
          22,
          23,
          24,
          25,
          26,
          27,
          28,
          29,
          30,
          31,
          32,
          33,
          34,
          35,
          36,
          37,
          38,
          39,
          40,
          41,
          42,
          43,
          44,
          45,
          46,
          47,
          48,
          49,
          50,
          51,
          52,
          53,
          54,
          55,
          56,
          57,
          58,
          59,
          60,
          61,
          62,
          63,
          64,
          65,
          66,
          67,
          68,
          69,
          70,
          71,
          72,
          73,
          74,
          75,
          76,
          77,
          78,
          79,
          80,
          81,
          82,
          83,
          84,
          85,
          86,
          87,
          88,
          89,
          90,
          91,
          92,
          93,
          94,
          95,
          96,
          97,
          98,
          99
         ],
         "xaxis": "x2",
         "y": [
          "",
          -1.344529739220488,
          -0.26039923819845096,
          -0.9658944439868798,
          "",
          "",
          "",
          -0.27206440626556466,
          -0.4186457937874688,
          "",
          "",
          -0.28441082718608635,
          "",
          -1.6116854845690631,
          -1.5277398399297804,
          -1.0415546218960645,
          -1.876463272436951,
          -0.36559673476199767,
          -0.3768343874556882,
          -1.3341656075642745,
          -0.4235276300397183,
          "",
          -0.010735229177344182,
          "",
          "",
          "",
          "",
          -0.28010484086090215,
          "",
          "",
          "",
          "",
          -0.48176560373643496,
          -0.14383078476283084,
          "",
          -0.2915372914739897,
          -1.144489693911424,
          -1.230675163242441,
          -2.293669915616657,
          -3.4472131560353705,
          -0.02485683511686332,
          -0.22495977957212657,
          "",
          -0.5686523015655692,
          "",
          "",
          -0.9615838123335327,
          -0.21855706714316425,
          -1.212215987118138,
          -1.3992923344008754,
          -0.2861558969968844,
          -2.969706301268497,
          -1.5420688124427941,
          -0.10024009385158139,
          -1.1998054336271513,
          -1.7276424252729925,
          -1.6938874124814363,
          "",
          -1.2315127690332883,
          -0.10717114071286016,
          -2.708277821649026,
          -0.7507420265560193,
          -0.6910978892561485,
          -0.1541260638427847,
          "",
          "",
          "",
          -2.163228641805989,
          "",
          "",
          -0.4524475479326713,
          "",
          -0.24738997661317957,
          -0.852297530783654,
          -2.2807160994582665,
          "",
          "",
          -0.6751453158552805,
          -1.138930163160432,
          "",
          -0.02334922502029016,
          "",
          -0.21126788515468575,
          "",
          "",
          -0.8605511495989208,
          "",
          "",
          "",
          -0.38573779155964616,
          -2.325437161875903,
          -0.8739561831701139,
          -0.8541652848441199,
          -0.682527064830224,
          -0.6782772384033082,
          "",
          "",
          -1.658794303122218,
          -0.3216935187354206,
          ""
         ],
         "yaxis": "y2"
        }
       ],
       "layout": {
        "hovermode": "x",
        "legend": {
         "bgcolor": "#F5F6F9",
         "font": {
          "color": "#4D5663"
         }
        },
        "paper_bgcolor": "#F5F6F9",
        "plot_bgcolor": "#F5F6F9",
        "template": {
         "data": {
          "bar": [
           {
            "error_x": {
             "color": "#2a3f5f"
            },
            "error_y": {
             "color": "#2a3f5f"
            },
            "marker": {
             "line": {
              "color": "#E5ECF6",
              "width": 0.5
             }
            },
            "type": "bar"
           }
          ],
          "barpolar": [
           {
            "marker": {
             "line": {
              "color": "#E5ECF6",
              "width": 0.5
             }
            },
            "type": "barpolar"
           }
          ],
          "carpet": [
           {
            "aaxis": {
             "endlinecolor": "#2a3f5f",
             "gridcolor": "white",
             "linecolor": "white",
             "minorgridcolor": "white",
             "startlinecolor": "#2a3f5f"
            },
            "baxis": {
             "endlinecolor": "#2a3f5f",
             "gridcolor": "white",
             "linecolor": "white",
             "minorgridcolor": "white",
             "startlinecolor": "#2a3f5f"
            },
            "type": "carpet"
           }
          ],
          "choropleth": [
           {
            "colorbar": {
             "outlinewidth": 0,
             "ticks": ""
            },
            "type": "choropleth"
           }
          ],
          "contour": [
           {
            "colorbar": {
             "outlinewidth": 0,
             "ticks": ""
            },
            "colorscale": [
             [
              0,
              "#0d0887"
             ],
             [
              0.1111111111111111,
              "#46039f"
             ],
             [
              0.2222222222222222,
              "#7201a8"
             ],
             [
              0.3333333333333333,
              "#9c179e"
             ],
             [
              0.4444444444444444,
              "#bd3786"
             ],
             [
              0.5555555555555556,
              "#d8576b"
             ],
             [
              0.6666666666666666,
              "#ed7953"
             ],
             [
              0.7777777777777778,
              "#fb9f3a"
             ],
             [
              0.8888888888888888,
              "#fdca26"
             ],
             [
              1,
              "#f0f921"
             ]
            ],
            "type": "contour"
           }
          ],
          "contourcarpet": [
           {
            "colorbar": {
             "outlinewidth": 0,
             "ticks": ""
            },
            "type": "contourcarpet"
           }
          ],
          "heatmap": [
           {
            "colorbar": {
             "outlinewidth": 0,
             "ticks": ""
            },
            "colorscale": [
             [
              0,
              "#0d0887"
             ],
             [
              0.1111111111111111,
              "#46039f"
             ],
             [
              0.2222222222222222,
              "#7201a8"
             ],
             [
              0.3333333333333333,
              "#9c179e"
             ],
             [
              0.4444444444444444,
              "#bd3786"
             ],
             [
              0.5555555555555556,
              "#d8576b"
             ],
             [
              0.6666666666666666,
              "#ed7953"
             ],
             [
              0.7777777777777778,
              "#fb9f3a"
             ],
             [
              0.8888888888888888,
              "#fdca26"
             ],
             [
              1,
              "#f0f921"
             ]
            ],
            "type": "heatmap"
           }
          ],
          "heatmapgl": [
           {
            "colorbar": {
             "outlinewidth": 0,
             "ticks": ""
            },
            "colorscale": [
             [
              0,
              "#0d0887"
             ],
             [
              0.1111111111111111,
              "#46039f"
             ],
             [
              0.2222222222222222,
              "#7201a8"
             ],
             [
              0.3333333333333333,
              "#9c179e"
             ],
             [
              0.4444444444444444,
              "#bd3786"
             ],
             [
              0.5555555555555556,
              "#d8576b"
             ],
             [
              0.6666666666666666,
              "#ed7953"
             ],
             [
              0.7777777777777778,
              "#fb9f3a"
             ],
             [
              0.8888888888888888,
              "#fdca26"
             ],
             [
              1,
              "#f0f921"
             ]
            ],
            "type": "heatmapgl"
           }
          ],
          "histogram": [
           {
            "marker": {
             "colorbar": {
              "outlinewidth": 0,
              "ticks": ""
             }
            },
            "type": "histogram"
           }
          ],
          "histogram2d": [
           {
            "colorbar": {
             "outlinewidth": 0,
             "ticks": ""
            },
            "colorscale": [
             [
              0,
              "#0d0887"
             ],
             [
              0.1111111111111111,
              "#46039f"
             ],
             [
              0.2222222222222222,
              "#7201a8"
             ],
             [
              0.3333333333333333,
              "#9c179e"
             ],
             [
              0.4444444444444444,
              "#bd3786"
             ],
             [
              0.5555555555555556,
              "#d8576b"
             ],
             [
              0.6666666666666666,
              "#ed7953"
             ],
             [
              0.7777777777777778,
              "#fb9f3a"
             ],
             [
              0.8888888888888888,
              "#fdca26"
             ],
             [
              1,
              "#f0f921"
             ]
            ],
            "type": "histogram2d"
           }
          ],
          "histogram2dcontour": [
           {
            "colorbar": {
             "outlinewidth": 0,
             "ticks": ""
            },
            "colorscale": [
             [
              0,
              "#0d0887"
             ],
             [
              0.1111111111111111,
              "#46039f"
             ],
             [
              0.2222222222222222,
              "#7201a8"
             ],
             [
              0.3333333333333333,
              "#9c179e"
             ],
             [
              0.4444444444444444,
              "#bd3786"
             ],
             [
              0.5555555555555556,
              "#d8576b"
             ],
             [
              0.6666666666666666,
              "#ed7953"
             ],
             [
              0.7777777777777778,
              "#fb9f3a"
             ],
             [
              0.8888888888888888,
              "#fdca26"
             ],
             [
              1,
              "#f0f921"
             ]
            ],
            "type": "histogram2dcontour"
           }
          ],
          "mesh3d": [
           {
            "colorbar": {
             "outlinewidth": 0,
             "ticks": ""
            },
            "type": "mesh3d"
           }
          ],
          "parcoords": [
           {
            "line": {
             "colorbar": {
              "outlinewidth": 0,
              "ticks": ""
             }
            },
            "type": "parcoords"
           }
          ],
          "pie": [
           {
            "automargin": true,
            "type": "pie"
           }
          ],
          "scatter": [
           {
            "marker": {
             "colorbar": {
              "outlinewidth": 0,
              "ticks": ""
             }
            },
            "type": "scatter"
           }
          ],
          "scatter3d": [
           {
            "line": {
             "colorbar": {
              "outlinewidth": 0,
              "ticks": ""
             }
            },
            "marker": {
             "colorbar": {
              "outlinewidth": 0,
              "ticks": ""
             }
            },
            "type": "scatter3d"
           }
          ],
          "scattercarpet": [
           {
            "marker": {
             "colorbar": {
              "outlinewidth": 0,
              "ticks": ""
             }
            },
            "type": "scattercarpet"
           }
          ],
          "scattergeo": [
           {
            "marker": {
             "colorbar": {
              "outlinewidth": 0,
              "ticks": ""
             }
            },
            "type": "scattergeo"
           }
          ],
          "scattergl": [
           {
            "marker": {
             "colorbar": {
              "outlinewidth": 0,
              "ticks": ""
             }
            },
            "type": "scattergl"
           }
          ],
          "scattermapbox": [
           {
            "marker": {
             "colorbar": {
              "outlinewidth": 0,
              "ticks": ""
             }
            },
            "type": "scattermapbox"
           }
          ],
          "scatterpolar": [
           {
            "marker": {
             "colorbar": {
              "outlinewidth": 0,
              "ticks": ""
             }
            },
            "type": "scatterpolar"
           }
          ],
          "scatterpolargl": [
           {
            "marker": {
             "colorbar": {
              "outlinewidth": 0,
              "ticks": ""
             }
            },
            "type": "scatterpolargl"
           }
          ],
          "scatterternary": [
           {
            "marker": {
             "colorbar": {
              "outlinewidth": 0,
              "ticks": ""
             }
            },
            "type": "scatterternary"
           }
          ],
          "surface": [
           {
            "colorbar": {
             "outlinewidth": 0,
             "ticks": ""
            },
            "colorscale": [
             [
              0,
              "#0d0887"
             ],
             [
              0.1111111111111111,
              "#46039f"
             ],
             [
              0.2222222222222222,
              "#7201a8"
             ],
             [
              0.3333333333333333,
              "#9c179e"
             ],
             [
              0.4444444444444444,
              "#bd3786"
             ],
             [
              0.5555555555555556,
              "#d8576b"
             ],
             [
              0.6666666666666666,
              "#ed7953"
             ],
             [
              0.7777777777777778,
              "#fb9f3a"
             ],
             [
              0.8888888888888888,
              "#fdca26"
             ],
             [
              1,
              "#f0f921"
             ]
            ],
            "type": "surface"
           }
          ],
          "table": [
           {
            "cells": {
             "fill": {
              "color": "#EBF0F8"
             },
             "line": {
              "color": "white"
             }
            },
            "header": {
             "fill": {
              "color": "#C8D4E3"
             },
             "line": {
              "color": "white"
             }
            },
            "type": "table"
           }
          ]
         },
         "layout": {
          "annotationdefaults": {
           "arrowcolor": "#2a3f5f",
           "arrowhead": 0,
           "arrowwidth": 1
          },
          "coloraxis": {
           "colorbar": {
            "outlinewidth": 0,
            "ticks": ""
           }
          },
          "colorscale": {
           "diverging": [
            [
             0,
             "#8e0152"
            ],
            [
             0.1,
             "#c51b7d"
            ],
            [
             0.2,
             "#de77ae"
            ],
            [
             0.3,
             "#f1b6da"
            ],
            [
             0.4,
             "#fde0ef"
            ],
            [
             0.5,
             "#f7f7f7"
            ],
            [
             0.6,
             "#e6f5d0"
            ],
            [
             0.7,
             "#b8e186"
            ],
            [
             0.8,
             "#7fbc41"
            ],
            [
             0.9,
             "#4d9221"
            ],
            [
             1,
             "#276419"
            ]
           ],
           "sequential": [
            [
             0,
             "#0d0887"
            ],
            [
             0.1111111111111111,
             "#46039f"
            ],
            [
             0.2222222222222222,
             "#7201a8"
            ],
            [
             0.3333333333333333,
             "#9c179e"
            ],
            [
             0.4444444444444444,
             "#bd3786"
            ],
            [
             0.5555555555555556,
             "#d8576b"
            ],
            [
             0.6666666666666666,
             "#ed7953"
            ],
            [
             0.7777777777777778,
             "#fb9f3a"
            ],
            [
             0.8888888888888888,
             "#fdca26"
            ],
            [
             1,
             "#f0f921"
            ]
           ],
           "sequentialminus": [
            [
             0,
             "#0d0887"
            ],
            [
             0.1111111111111111,
             "#46039f"
            ],
            [
             0.2222222222222222,
             "#7201a8"
            ],
            [
             0.3333333333333333,
             "#9c179e"
            ],
            [
             0.4444444444444444,
             "#bd3786"
            ],
            [
             0.5555555555555556,
             "#d8576b"
            ],
            [
             0.6666666666666666,
             "#ed7953"
            ],
            [
             0.7777777777777778,
             "#fb9f3a"
            ],
            [
             0.8888888888888888,
             "#fdca26"
            ],
            [
             1,
             "#f0f921"
            ]
           ]
          },
          "colorway": [
           "#636efa",
           "#EF553B",
           "#00cc96",
           "#ab63fa",
           "#FFA15A",
           "#19d3f3",
           "#FF6692",
           "#B6E880",
           "#FF97FF",
           "#FECB52"
          ],
          "font": {
           "color": "#2a3f5f"
          },
          "geo": {
           "bgcolor": "white",
           "lakecolor": "white",
           "landcolor": "#E5ECF6",
           "showlakes": true,
           "showland": true,
           "subunitcolor": "white"
          },
          "hoverlabel": {
           "align": "left"
          },
          "hovermode": "closest",
          "mapbox": {
           "style": "light"
          },
          "paper_bgcolor": "white",
          "plot_bgcolor": "#E5ECF6",
          "polar": {
           "angularaxis": {
            "gridcolor": "white",
            "linecolor": "white",
            "ticks": ""
           },
           "bgcolor": "#E5ECF6",
           "radialaxis": {
            "gridcolor": "white",
            "linecolor": "white",
            "ticks": ""
           }
          },
          "scene": {
           "xaxis": {
            "backgroundcolor": "#E5ECF6",
            "gridcolor": "white",
            "gridwidth": 2,
            "linecolor": "white",
            "showbackground": true,
            "ticks": "",
            "zerolinecolor": "white"
           },
           "yaxis": {
            "backgroundcolor": "#E5ECF6",
            "gridcolor": "white",
            "gridwidth": 2,
            "linecolor": "white",
            "showbackground": true,
            "ticks": "",
            "zerolinecolor": "white"
           },
           "zaxis": {
            "backgroundcolor": "#E5ECF6",
            "gridcolor": "white",
            "gridwidth": 2,
            "linecolor": "white",
            "showbackground": true,
            "ticks": "",
            "zerolinecolor": "white"
           }
          },
          "shapedefaults": {
           "line": {
            "color": "#2a3f5f"
           }
          },
          "ternary": {
           "aaxis": {
            "gridcolor": "white",
            "linecolor": "white",
            "ticks": ""
           },
           "baxis": {
            "gridcolor": "white",
            "linecolor": "white",
            "ticks": ""
           },
           "bgcolor": "#E5ECF6",
           "caxis": {
            "gridcolor": "white",
            "linecolor": "white",
            "ticks": ""
           }
          },
          "title": {
           "x": 0.05
          },
          "xaxis": {
           "automargin": true,
           "gridcolor": "white",
           "linecolor": "white",
           "ticks": "",
           "title": {
            "standoff": 15
           },
           "zerolinecolor": "white",
           "zerolinewidth": 2
          },
          "yaxis": {
           "automargin": true,
           "gridcolor": "white",
           "linecolor": "white",
           "ticks": "",
           "title": {
            "standoff": 15
           },
           "zerolinecolor": "white",
           "zerolinewidth": 2
          }
         }
        },
        "title": {
         "font": {
          "color": "#4D5663"
         }
        },
        "xaxis": {
         "gridcolor": "#E1E5ED",
         "showgrid": true,
         "tickfont": {
          "color": "#4D5663"
         },
         "title": {
          "font": {
           "color": "#4D5663"
          },
          "text": ""
         },
         "zerolinecolor": "#E1E5ED"
        },
        "xaxis2": {
         "anchor": "y2",
         "gridcolor": "#E1E5ED",
         "showgrid": true,
         "showticklabels": false,
         "tickfont": {
          "color": "#4D5663"
         },
         "title": {
          "font": {
           "color": "#4D5663"
          },
          "text": ""
         },
         "zerolinecolor": "#E1E5ED"
        },
        "yaxis": {
         "domain": [
          0.3,
          1
         ],
         "gridcolor": "#E1E5ED",
         "showgrid": true,
         "tickfont": {
          "color": "#4D5663"
         },
         "title": {
          "font": {
           "color": "#4D5663"
          },
          "text": ""
         },
         "zerolinecolor": "#E1E5ED"
        },
        "yaxis2": {
         "domain": [
          0,
          0.25
         ],
         "gridcolor": "#E1E5ED",
         "showgrid": true,
         "tickfont": {
          "color": "#4D5663"
         },
         "title": {
          "font": {
           "color": "#4D5663"
          },
          "text": "Spread"
         },
         "zerolinecolor": "#E1E5ED"
        }
       }
      },
      "text/html": [
       "<div>\n",
       "        \n",
       "        \n",
       "            <div id=\"b3092408-0ed6-4860-8b49-ab655b0d36b2\" class=\"plotly-graph-div\" style=\"height:525px; width:100%;\"></div>\n",
       "            <script type=\"text/javascript\">\n",
       "                require([\"plotly\"], function(Plotly) {\n",
       "                    window.PLOTLYENV=window.PLOTLYENV || {};\n",
       "                    window.PLOTLYENV.BASE_URL='https://plot.ly';\n",
       "                    \n",
       "                if (document.getElementById(\"b3092408-0ed6-4860-8b49-ab655b0d36b2\")) {\n",
       "                    Plotly.newPlot(\n",
       "                        'b3092408-0ed6-4860-8b49-ab655b0d36b2',\n",
       "                        [{\"line\": {\"color\": \"rgba(255, 153, 51, 1.0)\", \"dash\": \"solid\", \"shape\": \"linear\", \"width\": 1.3}, \"mode\": \"lines\", \"name\": \"A\", \"text\": \"\", \"type\": \"scatter\", \"x\": [0, 1, 2, 3, 4, 5, 6, 7, 8, 9, 10, 11, 12, 13, 14, 15, 16, 17, 18, 19, 20, 21, 22, 23, 24, 25, 26, 27, 28, 29, 30, 31, 32, 33, 34, 35, 36, 37, 38, 39, 40, 41, 42, 43, 44, 45, 46, 47, 48, 49, 50, 51, 52, 53, 54, 55, 56, 57, 58, 59, 60, 61, 62, 63, 64, 65, 66, 67, 68, 69, 70, 71, 72, 73, 74, 75, 76, 77, 78, 79, 80, 81, 82, 83, 84, 85, 86, 87, 88, 89, 90, 91, 92, 93, 94, 95, 96, 97, 98, 99], \"y\": [0.48758791284167, -1.0945360538696463, -0.025109160636671034, 0.5318438573072443, 1.170821047816164, -1.0781069618216137, 0.023929908721716072, -0.3341668073479446, 0.15466770476350178, 1.5446639151497434, 1.4056054833842484, 1.6261568763361154, -1.1227374435458701, 0.28194097407828445, -0.682223671693977, -0.9562545728370384, -0.7209835661743308, -0.03317994654738412, 0.5205553063310279, -1.1366028975811477, -0.9786485170200829, 0.13548859544218975, -0.0009540853056883342, 0.5979449535006777, 1.1149531211625783, 0.4283544325769933, -0.2411460571149065, -1.2870861552795327, 0.03636844814017887, 1.2075977330375478, -1.1535869763732076, 1.0628415041799286, -1.0491639233442693, 1.3811022114090363, -0.3613211905254392, -0.45890225542836116, -0.12162760141230262, -0.8396215800903595, -0.565381067065979, -3.4566182937067276, 0.8993420377570022, 0.2165974313829244, 1.6103508033055005, 0.0094913782519163, 0.45531265282040323, 0.6119558083278896, -0.2942946657226144, -1.2729657899992224, -0.3545189453227468, 0.07805696223208544, -0.66178932419833, -1.6925420918465717, -0.1307554580410991, -0.39774105359567025, -1.516011865561858, -0.5391143165355534, -1.1142859655918813, 1.0551320487656342, -0.5717178581500568, -0.1073076890360471, -1.5270560562106272, -0.7899843365922449, -0.6356350799456826, -0.41468126319261245, 1.6781806287486598, -0.33874390881565875, 0.18609602799409797, -1.2338502645280391, 0.10345221635878635, 0.6586971927026098, 0.5813188464153145, 1.3837115433387472, -0.29753261872603187, -1.6128956978544893, -1.103081913031465, -0.15162181863861388, 0.7316627867109841, -0.8665646320585265, -1.701661298481288, 1.596184275190892, 0.14494608879711593, -0.41603294033322546, 0.9563325173459639, -0.30156389581498877, 0.926333185290943, 0.6631382639673186, 0.39152621569100776, -0.5826926583224311, 0.6255130281637811, -0.21940433600962406, -0.9505295760532173, -0.10707435083175479, 0.37504647253794426, -0.7821664392300294, 1.213031390357866, -0.009994398016467693, 0.9894948390200397, -1.647259086231465, 0.9233657259667436, 0.17155861516031895]}, {\"line\": {\"color\": \"rgba(55, 128, 191, 1.0)\", \"dash\": \"solid\", \"shape\": \"linear\", \"width\": 1.3}, \"mode\": \"lines\", \"name\": \"B\", \"text\": \"\", \"type\": \"scatter\", \"x\": [0, 1, 2, 3, 4, 5, 6, 7, 8, 9, 10, 11, 12, 13, 14, 15, 16, 17, 18, 19, 20, 21, 22, 23, 24, 25, 26, 27, 28, 29, 30, 31, 32, 33, 34, 35, 36, 37, 38, 39, 40, 41, 42, 43, 44, 45, 46, 47, 48, 49, 50, 51, 52, 53, 54, 55, 56, 57, 58, 59, 60, 61, 62, 63, 64, 65, 66, 67, 68, 69, 70, 71, 72, 73, 74, 75, 76, 77, 78, 79, 80, 81, 82, 83, 84, 85, 86, 87, 88, 89, 90, 91, 92, 93, 94, 95, 96, 97, 98, 99], \"y\": [-0.3260093462636492, 0.24999368535084174, 0.23529007756177991, 1.497738301294124, -1.9235211183341405, -2.0300951821002418, -0.8026053432036195, -0.062102401082379945, 0.5733134985509706, -0.028200152143247094, 0.5457366836861638, 1.9105677035222017, -1.8510783961436936, 1.8936264586473475, 0.8455161682358032, 0.08530004905902606, 1.15547970626262, 0.33241678821461357, 0.8973896937867161, 0.19756270998312664, -0.5551208869803647, -0.7141539274695231, 0.009781143871655847, -0.7963514852359374, 0.18435114594596597, -0.7236122806767714, -0.6268367864953104, -1.0069813144186306, -0.5997263961705249, 0.2218092724149917, -1.170188533181909, -0.7686459812838211, -0.5673983196078344, 1.5249329961718672, -2.1774022163390523, -0.16736496395437145, 1.0228620924991214, 0.3910535831520817, 1.728288848550678, -0.009405137671356954, 0.9241988728738655, 0.44155721095505096, -0.22054721336042088, 0.5781436798174855, -1.290605550402523, -0.8219921260635391, 0.6672891466109183, -1.0544087228560581, 0.8576970417953911, 1.4773492966329609, -0.37563342720144566, 1.2771642094219255, 1.4113133544016951, -0.29750095974408886, -0.3162064319347066, 1.188528108737439, 0.579601446889555, -1.7869180545292704, 0.6597949108832315, -0.0001365483231869348, 1.1812217654383987, -0.039242310036225546, 0.055462809310465856, -0.26055519934982774, 0.6725828725192213, -0.5868956518865107, -0.36545184706978795, 0.9293783772779497, -1.12768298608976, -0.6802463660504389, 1.0337663943479858, -0.11482295289181627, -0.050142642112852305, -0.7605981670708353, 1.1776341864268012, -1.046185183818184, -0.7725793465552173, -0.19141931620324604, -0.5627311353208561, -0.6551472073374759, 0.1682953138174061, -1.219605336933295, 1.1676004025006497, -1.729816895327089, 0.7124705106659508, 1.5236894135662393, -1.6321268418409738, -0.7707520544200946, -0.05597956411105408, 0.16633345555002213, 1.3749075858226854, 0.7668818323383592, 1.2292117573820642, -0.09963937439980546, 1.8913086287611742, -0.13916805496855586, -0.8661975302049588, 0.011535216890753078, 1.2450592447021642, -2.211752092799134]}, {\"connectgaps\": false, \"fill\": \"tozeroy\", \"line\": {\"color\": \"green\", \"dash\": \"solid\", \"shape\": \"linear\", \"width\": 0.5}, \"mode\": \"lines\", \"name\": \"Spread\", \"showlegend\": false, \"type\": \"scatter\", \"x\": [0, 1, 2, 3, 4, 5, 6, 7, 8, 9, 10, 11, 12, 13, 14, 15, 16, 17, 18, 19, 20, 21, 22, 23, 24, 25, 26, 27, 28, 29, 30, 31, 32, 33, 34, 35, 36, 37, 38, 39, 40, 41, 42, 43, 44, 45, 46, 47, 48, 49, 50, 51, 52, 53, 54, 55, 56, 57, 58, 59, 60, 61, 62, 63, 64, 65, 66, 67, 68, 69, 70, 71, 72, 73, 74, 75, 76, 77, 78, 79, 80, 81, 82, 83, 84, 85, 86, 87, 88, 89, 90, 91, 92, 93, 94, 95, 96, 97, 98, 99], \"xaxis\": \"x2\", \"y\": [0.8135972591053192, \"\", \"\", \"\", 3.0943421661503043, 0.9519882202786281, 0.8265352519253356, \"\", \"\", 1.5728640672929906, 0.8598687996980846, \"\", 0.7283409525978235, \"\", \"\", \"\", \"\", \"\", \"\", \"\", \"\", 0.8496425229117128, \"\", 1.394296438736615, 0.9306019752166124, 1.1519667132537648, 0.3856907293804039, \"\", 0.6360948443107038, 0.9857884606225561, 0.016601556808701456, 1.8314874854637497, \"\", \"\", 1.816081025813613, \"\", \"\", \"\", \"\", \"\", \"\", \"\", 1.8308980166659214, \"\", 1.7459182032229261, 1.4339479343914288, \"\", \"\", \"\", \"\", \"\", \"\", \"\", \"\", \"\", \"\", \"\", 2.8420501032949046, \"\", \"\", \"\", \"\", \"\", \"\", 1.0055977562294385, 0.24815174307085197, 0.5515478750638859, \"\", 1.2311352024485462, 1.3389435587530487, \"\", 1.4985344962305636, \"\", \"\", \"\", 0.89456336517957, 1.5042421332662013, \"\", \"\", 2.251331482528368, \"\", 0.8035723966000696, \"\", 1.4282529995121003, 0.2138626746249922, \"\", 2.0236530575319813, 0.18805939609766353, 0.6814925922748352, \"\", \"\", \"\", \"\", \"\", \"\", 0.12917365695208816, 1.8556923692249985, \"\", \"\", 2.3833107079594527], \"yaxis\": \"y2\"}, {\"connectgaps\": false, \"fill\": \"tozeroy\", \"line\": {\"color\": \"red\", \"dash\": \"solid\", \"shape\": \"linear\", \"width\": 0.5}, \"mode\": \"lines\", \"name\": \"Spread\", \"showlegend\": false, \"type\": \"scatter\", \"x\": [0, 1, 2, 3, 4, 5, 6, 7, 8, 9, 10, 11, 12, 13, 14, 15, 16, 17, 18, 19, 20, 21, 22, 23, 24, 25, 26, 27, 28, 29, 30, 31, 32, 33, 34, 35, 36, 37, 38, 39, 40, 41, 42, 43, 44, 45, 46, 47, 48, 49, 50, 51, 52, 53, 54, 55, 56, 57, 58, 59, 60, 61, 62, 63, 64, 65, 66, 67, 68, 69, 70, 71, 72, 73, 74, 75, 76, 77, 78, 79, 80, 81, 82, 83, 84, 85, 86, 87, 88, 89, 90, 91, 92, 93, 94, 95, 96, 97, 98, 99], \"xaxis\": \"x2\", \"y\": [\"\", -1.344529739220488, -0.26039923819845096, -0.9658944439868798, \"\", \"\", \"\", -0.27206440626556466, -0.4186457937874688, \"\", \"\", -0.28441082718608635, \"\", -1.6116854845690631, -1.5277398399297804, -1.0415546218960645, -1.876463272436951, -0.36559673476199767, -0.3768343874556882, -1.3341656075642745, -0.4235276300397183, \"\", -0.010735229177344182, \"\", \"\", \"\", \"\", -0.28010484086090215, \"\", \"\", \"\", \"\", -0.48176560373643496, -0.14383078476283084, \"\", -0.2915372914739897, -1.144489693911424, -1.230675163242441, -2.293669915616657, -3.4472131560353705, -0.02485683511686332, -0.22495977957212657, \"\", -0.5686523015655692, \"\", \"\", -0.9615838123335327, -0.21855706714316425, -1.212215987118138, -1.3992923344008754, -0.2861558969968844, -2.969706301268497, -1.5420688124427941, -0.10024009385158139, -1.1998054336271513, -1.7276424252729925, -1.6938874124814363, \"\", -1.2315127690332883, -0.10717114071286016, -2.708277821649026, -0.7507420265560193, -0.6910978892561485, -0.1541260638427847, \"\", \"\", \"\", -2.163228641805989, \"\", \"\", -0.4524475479326713, \"\", -0.24738997661317957, -0.852297530783654, -2.2807160994582665, \"\", \"\", -0.6751453158552805, -1.138930163160432, \"\", -0.02334922502029016, \"\", -0.21126788515468575, \"\", \"\", -0.8605511495989208, \"\", \"\", \"\", -0.38573779155964616, -2.325437161875903, -0.8739561831701139, -0.8541652848441199, -0.682527064830224, -0.6782772384033082, \"\", \"\", -1.658794303122218, -0.3216935187354206, \"\"], \"yaxis\": \"y2\"}],\n",
       "                        {\"hovermode\": \"x\", \"legend\": {\"bgcolor\": \"#F5F6F9\", \"font\": {\"color\": \"#4D5663\"}}, \"paper_bgcolor\": \"#F5F6F9\", \"plot_bgcolor\": \"#F5F6F9\", \"template\": {\"data\": {\"bar\": [{\"error_x\": {\"color\": \"#2a3f5f\"}, \"error_y\": {\"color\": \"#2a3f5f\"}, \"marker\": {\"line\": {\"color\": \"#E5ECF6\", \"width\": 0.5}}, \"type\": \"bar\"}], \"barpolar\": [{\"marker\": {\"line\": {\"color\": \"#E5ECF6\", \"width\": 0.5}}, \"type\": \"barpolar\"}], \"carpet\": [{\"aaxis\": {\"endlinecolor\": \"#2a3f5f\", \"gridcolor\": \"white\", \"linecolor\": \"white\", \"minorgridcolor\": \"white\", \"startlinecolor\": \"#2a3f5f\"}, \"baxis\": {\"endlinecolor\": \"#2a3f5f\", \"gridcolor\": \"white\", \"linecolor\": \"white\", \"minorgridcolor\": \"white\", \"startlinecolor\": \"#2a3f5f\"}, \"type\": \"carpet\"}], \"choropleth\": [{\"colorbar\": {\"outlinewidth\": 0, \"ticks\": \"\"}, \"type\": \"choropleth\"}], \"contour\": [{\"colorbar\": {\"outlinewidth\": 0, \"ticks\": \"\"}, \"colorscale\": [[0.0, \"#0d0887\"], [0.1111111111111111, \"#46039f\"], [0.2222222222222222, \"#7201a8\"], [0.3333333333333333, \"#9c179e\"], [0.4444444444444444, \"#bd3786\"], [0.5555555555555556, \"#d8576b\"], [0.6666666666666666, \"#ed7953\"], [0.7777777777777778, \"#fb9f3a\"], [0.8888888888888888, \"#fdca26\"], [1.0, \"#f0f921\"]], \"type\": \"contour\"}], \"contourcarpet\": [{\"colorbar\": {\"outlinewidth\": 0, \"ticks\": \"\"}, \"type\": \"contourcarpet\"}], \"heatmap\": [{\"colorbar\": {\"outlinewidth\": 0, \"ticks\": \"\"}, \"colorscale\": [[0.0, \"#0d0887\"], [0.1111111111111111, \"#46039f\"], [0.2222222222222222, \"#7201a8\"], [0.3333333333333333, \"#9c179e\"], [0.4444444444444444, \"#bd3786\"], [0.5555555555555556, \"#d8576b\"], [0.6666666666666666, \"#ed7953\"], [0.7777777777777778, \"#fb9f3a\"], [0.8888888888888888, \"#fdca26\"], [1.0, \"#f0f921\"]], \"type\": \"heatmap\"}], \"heatmapgl\": [{\"colorbar\": {\"outlinewidth\": 0, \"ticks\": \"\"}, \"colorscale\": [[0.0, \"#0d0887\"], [0.1111111111111111, \"#46039f\"], [0.2222222222222222, \"#7201a8\"], [0.3333333333333333, \"#9c179e\"], [0.4444444444444444, \"#bd3786\"], [0.5555555555555556, \"#d8576b\"], [0.6666666666666666, \"#ed7953\"], [0.7777777777777778, \"#fb9f3a\"], [0.8888888888888888, \"#fdca26\"], [1.0, \"#f0f921\"]], \"type\": \"heatmapgl\"}], \"histogram\": [{\"marker\": {\"colorbar\": {\"outlinewidth\": 0, \"ticks\": \"\"}}, \"type\": \"histogram\"}], \"histogram2d\": [{\"colorbar\": {\"outlinewidth\": 0, \"ticks\": \"\"}, \"colorscale\": [[0.0, \"#0d0887\"], [0.1111111111111111, \"#46039f\"], [0.2222222222222222, \"#7201a8\"], [0.3333333333333333, \"#9c179e\"], [0.4444444444444444, \"#bd3786\"], [0.5555555555555556, \"#d8576b\"], [0.6666666666666666, \"#ed7953\"], [0.7777777777777778, \"#fb9f3a\"], [0.8888888888888888, \"#fdca26\"], [1.0, \"#f0f921\"]], \"type\": \"histogram2d\"}], \"histogram2dcontour\": [{\"colorbar\": {\"outlinewidth\": 0, \"ticks\": \"\"}, \"colorscale\": [[0.0, \"#0d0887\"], [0.1111111111111111, \"#46039f\"], [0.2222222222222222, \"#7201a8\"], [0.3333333333333333, \"#9c179e\"], [0.4444444444444444, \"#bd3786\"], [0.5555555555555556, \"#d8576b\"], [0.6666666666666666, \"#ed7953\"], [0.7777777777777778, \"#fb9f3a\"], [0.8888888888888888, \"#fdca26\"], [1.0, \"#f0f921\"]], \"type\": \"histogram2dcontour\"}], \"mesh3d\": [{\"colorbar\": {\"outlinewidth\": 0, \"ticks\": \"\"}, \"type\": \"mesh3d\"}], \"parcoords\": [{\"line\": {\"colorbar\": {\"outlinewidth\": 0, \"ticks\": \"\"}}, \"type\": \"parcoords\"}], \"pie\": [{\"automargin\": true, \"type\": \"pie\"}], \"scatter\": [{\"marker\": {\"colorbar\": {\"outlinewidth\": 0, \"ticks\": \"\"}}, \"type\": \"scatter\"}], \"scatter3d\": [{\"line\": {\"colorbar\": {\"outlinewidth\": 0, \"ticks\": \"\"}}, \"marker\": {\"colorbar\": {\"outlinewidth\": 0, \"ticks\": \"\"}}, \"type\": \"scatter3d\"}], \"scattercarpet\": [{\"marker\": {\"colorbar\": {\"outlinewidth\": 0, \"ticks\": \"\"}}, \"type\": \"scattercarpet\"}], \"scattergeo\": [{\"marker\": {\"colorbar\": {\"outlinewidth\": 0, \"ticks\": \"\"}}, \"type\": \"scattergeo\"}], \"scattergl\": [{\"marker\": {\"colorbar\": {\"outlinewidth\": 0, \"ticks\": \"\"}}, \"type\": \"scattergl\"}], \"scattermapbox\": [{\"marker\": {\"colorbar\": {\"outlinewidth\": 0, \"ticks\": \"\"}}, \"type\": \"scattermapbox\"}], \"scatterpolar\": [{\"marker\": {\"colorbar\": {\"outlinewidth\": 0, \"ticks\": \"\"}}, \"type\": \"scatterpolar\"}], \"scatterpolargl\": [{\"marker\": {\"colorbar\": {\"outlinewidth\": 0, \"ticks\": \"\"}}, \"type\": \"scatterpolargl\"}], \"scatterternary\": [{\"marker\": {\"colorbar\": {\"outlinewidth\": 0, \"ticks\": \"\"}}, \"type\": \"scatterternary\"}], \"surface\": [{\"colorbar\": {\"outlinewidth\": 0, \"ticks\": \"\"}, \"colorscale\": [[0.0, \"#0d0887\"], [0.1111111111111111, \"#46039f\"], [0.2222222222222222, \"#7201a8\"], [0.3333333333333333, \"#9c179e\"], [0.4444444444444444, \"#bd3786\"], [0.5555555555555556, \"#d8576b\"], [0.6666666666666666, \"#ed7953\"], [0.7777777777777778, \"#fb9f3a\"], [0.8888888888888888, \"#fdca26\"], [1.0, \"#f0f921\"]], \"type\": \"surface\"}], \"table\": [{\"cells\": {\"fill\": {\"color\": \"#EBF0F8\"}, \"line\": {\"color\": \"white\"}}, \"header\": {\"fill\": {\"color\": \"#C8D4E3\"}, \"line\": {\"color\": \"white\"}}, \"type\": \"table\"}]}, \"layout\": {\"annotationdefaults\": {\"arrowcolor\": \"#2a3f5f\", \"arrowhead\": 0, \"arrowwidth\": 1}, \"coloraxis\": {\"colorbar\": {\"outlinewidth\": 0, \"ticks\": \"\"}}, \"colorscale\": {\"diverging\": [[0, \"#8e0152\"], [0.1, \"#c51b7d\"], [0.2, \"#de77ae\"], [0.3, \"#f1b6da\"], [0.4, \"#fde0ef\"], [0.5, \"#f7f7f7\"], [0.6, \"#e6f5d0\"], [0.7, \"#b8e186\"], [0.8, \"#7fbc41\"], [0.9, \"#4d9221\"], [1, \"#276419\"]], \"sequential\": [[0.0, \"#0d0887\"], [0.1111111111111111, \"#46039f\"], [0.2222222222222222, \"#7201a8\"], [0.3333333333333333, \"#9c179e\"], [0.4444444444444444, \"#bd3786\"], [0.5555555555555556, \"#d8576b\"], [0.6666666666666666, \"#ed7953\"], [0.7777777777777778, \"#fb9f3a\"], [0.8888888888888888, \"#fdca26\"], [1.0, \"#f0f921\"]], \"sequentialminus\": [[0.0, \"#0d0887\"], [0.1111111111111111, \"#46039f\"], [0.2222222222222222, \"#7201a8\"], [0.3333333333333333, \"#9c179e\"], [0.4444444444444444, \"#bd3786\"], [0.5555555555555556, \"#d8576b\"], [0.6666666666666666, \"#ed7953\"], [0.7777777777777778, \"#fb9f3a\"], [0.8888888888888888, \"#fdca26\"], [1.0, \"#f0f921\"]]}, \"colorway\": [\"#636efa\", \"#EF553B\", \"#00cc96\", \"#ab63fa\", \"#FFA15A\", \"#19d3f3\", \"#FF6692\", \"#B6E880\", \"#FF97FF\", \"#FECB52\"], \"font\": {\"color\": \"#2a3f5f\"}, \"geo\": {\"bgcolor\": \"white\", \"lakecolor\": \"white\", \"landcolor\": \"#E5ECF6\", \"showlakes\": true, \"showland\": true, \"subunitcolor\": \"white\"}, \"hoverlabel\": {\"align\": \"left\"}, \"hovermode\": \"closest\", \"mapbox\": {\"style\": \"light\"}, \"paper_bgcolor\": \"white\", \"plot_bgcolor\": \"#E5ECF6\", \"polar\": {\"angularaxis\": {\"gridcolor\": \"white\", \"linecolor\": \"white\", \"ticks\": \"\"}, \"bgcolor\": \"#E5ECF6\", \"radialaxis\": {\"gridcolor\": \"white\", \"linecolor\": \"white\", \"ticks\": \"\"}}, \"scene\": {\"xaxis\": {\"backgroundcolor\": \"#E5ECF6\", \"gridcolor\": \"white\", \"gridwidth\": 2, \"linecolor\": \"white\", \"showbackground\": true, \"ticks\": \"\", \"zerolinecolor\": \"white\"}, \"yaxis\": {\"backgroundcolor\": \"#E5ECF6\", \"gridcolor\": \"white\", \"gridwidth\": 2, \"linecolor\": \"white\", \"showbackground\": true, \"ticks\": \"\", \"zerolinecolor\": \"white\"}, \"zaxis\": {\"backgroundcolor\": \"#E5ECF6\", \"gridcolor\": \"white\", \"gridwidth\": 2, \"linecolor\": \"white\", \"showbackground\": true, \"ticks\": \"\", \"zerolinecolor\": \"white\"}}, \"shapedefaults\": {\"line\": {\"color\": \"#2a3f5f\"}}, \"ternary\": {\"aaxis\": {\"gridcolor\": \"white\", \"linecolor\": \"white\", \"ticks\": \"\"}, \"baxis\": {\"gridcolor\": \"white\", \"linecolor\": \"white\", \"ticks\": \"\"}, \"bgcolor\": \"#E5ECF6\", \"caxis\": {\"gridcolor\": \"white\", \"linecolor\": \"white\", \"ticks\": \"\"}}, \"title\": {\"x\": 0.05}, \"xaxis\": {\"automargin\": true, \"gridcolor\": \"white\", \"linecolor\": \"white\", \"ticks\": \"\", \"title\": {\"standoff\": 15}, \"zerolinecolor\": \"white\", \"zerolinewidth\": 2}, \"yaxis\": {\"automargin\": true, \"gridcolor\": \"white\", \"linecolor\": \"white\", \"ticks\": \"\", \"title\": {\"standoff\": 15}, \"zerolinecolor\": \"white\", \"zerolinewidth\": 2}}}, \"title\": {\"font\": {\"color\": \"#4D5663\"}}, \"xaxis\": {\"gridcolor\": \"#E1E5ED\", \"showgrid\": true, \"tickfont\": {\"color\": \"#4D5663\"}, \"title\": {\"font\": {\"color\": \"#4D5663\"}, \"text\": \"\"}, \"zerolinecolor\": \"#E1E5ED\"}, \"xaxis2\": {\"anchor\": \"y2\", \"gridcolor\": \"#E1E5ED\", \"showgrid\": true, \"showticklabels\": false, \"tickfont\": {\"color\": \"#4D5663\"}, \"title\": {\"font\": {\"color\": \"#4D5663\"}, \"text\": \"\"}, \"zerolinecolor\": \"#E1E5ED\"}, \"yaxis\": {\"domain\": [0.3, 1], \"gridcolor\": \"#E1E5ED\", \"showgrid\": true, \"tickfont\": {\"color\": \"#4D5663\"}, \"title\": {\"font\": {\"color\": \"#4D5663\"}, \"text\": \"\"}, \"zerolinecolor\": \"#E1E5ED\"}, \"yaxis2\": {\"domain\": [0, 0.25], \"gridcolor\": \"#E1E5ED\", \"showgrid\": true, \"tickfont\": {\"color\": \"#4D5663\"}, \"title\": {\"font\": {\"color\": \"#4D5663\"}, \"text\": \"Spread\"}, \"zerolinecolor\": \"#E1E5ED\"}},\n",
       "                        {\"showLink\": true, \"linkText\": \"Export to plot.ly\", \"plotlyServerURL\": \"https://plot.ly\", \"responsive\": true}\n",
       "                    ).then(function(){\n",
       "                            \n",
       "var gd = document.getElementById('b3092408-0ed6-4860-8b49-ab655b0d36b2');\n",
       "var x = new MutationObserver(function (mutations, observer) {{\n",
       "        var display = window.getComputedStyle(gd).display;\n",
       "        if (!display || display === 'none') {{\n",
       "            console.log([gd, 'removed!']);\n",
       "            Plotly.purge(gd);\n",
       "            observer.disconnect();\n",
       "        }}\n",
       "}});\n",
       "\n",
       "// Listen for the removal of the full notebook cells\n",
       "var notebookContainer = gd.closest('#notebook-container');\n",
       "if (notebookContainer) {{\n",
       "    x.observe(notebookContainer, {childList: true});\n",
       "}}\n",
       "\n",
       "// Listen for the clearing of the current output cell\n",
       "var outputEl = gd.closest('.output');\n",
       "if (outputEl) {{\n",
       "    x.observe(outputEl, {childList: true});\n",
       "}}\n",
       "\n",
       "                        })\n",
       "                };\n",
       "                });\n",
       "            </script>\n",
       "        </div>"
      ]
     },
     "metadata": {},
     "output_type": "display_data"
    }
   ],
   "source": [
    "# the spread gives us 2 graphs \n",
    "# one is line graph\n",
    "# two is the spread graph and it is really useful to see the spread between 2 columns \n",
    "df[['A','B']].iplot(kind='spread')"
   ]
  },
  {
   "cell_type": "code",
   "execution_count": 45,
   "metadata": {},
   "outputs": [
    {
     "data": {
      "application/vnd.plotly.v1+json": {
       "config": {
        "linkText": "Export to plot.ly",
        "plotlyServerURL": "https://plot.ly",
        "showLink": true
       },
       "data": [
        {
         "marker": {
          "color": [
           "blue",
           "blue",
           "blue",
           "blue",
           "blue",
           "blue",
           "blue",
           "blue",
           "blue",
           "blue",
           "blue",
           "blue",
           "blue",
           "blue",
           "blue",
           "blue",
           "blue",
           "blue",
           "blue",
           "blue",
           "blue",
           "blue",
           "blue",
           "blue",
           "blue",
           "blue",
           "blue",
           "blue",
           "blue",
           "blue",
           "blue",
           "blue",
           "blue",
           "blue",
           "blue",
           "blue",
           "blue",
           "blue",
           "blue",
           "blue",
           "blue",
           "blue",
           "blue",
           "blue",
           "blue",
           "blue",
           "blue",
           "blue",
           "blue",
           "blue",
           "blue",
           "blue",
           "blue",
           "blue",
           "blue",
           "blue",
           "blue",
           "blue",
           "blue",
           "blue",
           "blue",
           "blue",
           "blue",
           "blue",
           "blue",
           "blue",
           "blue",
           "blue",
           "blue",
           "blue",
           "blue",
           "blue",
           "blue",
           "blue",
           "blue",
           "blue",
           "blue",
           "blue",
           "blue",
           "blue",
           "blue",
           "blue",
           "blue",
           "blue",
           "blue",
           "blue",
           "blue",
           "blue",
           "blue",
           "blue",
           "blue",
           "blue",
           "blue",
           "blue",
           "blue",
           "blue",
           "blue",
           "blue",
           "blue",
           "blue"
          ],
          "line": {
           "width": 1.3
          },
          "size": [
           57,
           78,
           79,
           76,
           74,
           84,
           63,
           64,
           71,
           89,
           65,
           57,
           79,
           50,
           94,
           73,
           73,
           52,
           75,
           60,
           105,
           79,
           71,
           74,
           78,
           110,
           78,
           32,
           85,
           87,
           76,
           77,
           84,
           94,
           71,
           67,
           66,
           73,
           101,
           89,
           90,
           87,
           66,
           87,
           68,
           49,
           101,
           104,
           78,
           90,
           65,
           66,
           101,
           12,
           65,
           70,
           75,
           53,
           108,
           76,
           74,
           93,
           74,
           106,
           47,
           61,
           100,
           74,
           68,
           26,
           96,
           79,
           95,
           83,
           73,
           77,
           76,
           72,
           91,
           68,
           38,
           36,
           56,
           96,
           56,
           94,
           56,
           49,
           70,
           29,
           112,
           67,
           83,
           76,
           99,
           77,
           50,
           96,
           60,
           66
          ],
          "symbol": "circle"
         },
         "mode": "markers",
         "text": "",
         "type": "scatter",
         "x": [
          0.48758791284167,
          -1.0945360538696463,
          -0.025109160636671034,
          0.5318438573072443,
          1.170821047816164,
          -1.0781069618216137,
          0.023929908721716072,
          -0.3341668073479446,
          0.15466770476350178,
          1.5446639151497434,
          1.4056054833842484,
          1.6261568763361154,
          -1.1227374435458701,
          0.28194097407828445,
          -0.682223671693977,
          -0.9562545728370384,
          -0.7209835661743308,
          -0.03317994654738412,
          0.5205553063310279,
          -1.1366028975811477,
          -0.9786485170200829,
          0.13548859544218975,
          -0.0009540853056883342,
          0.5979449535006777,
          1.1149531211625783,
          0.4283544325769933,
          -0.2411460571149065,
          -1.2870861552795327,
          0.03636844814017887,
          1.2075977330375478,
          -1.1535869763732076,
          1.0628415041799286,
          -1.0491639233442693,
          1.3811022114090363,
          -0.3613211905254392,
          -0.45890225542836116,
          -0.12162760141230262,
          -0.8396215800903595,
          -0.565381067065979,
          -3.4566182937067276,
          0.8993420377570022,
          0.2165974313829244,
          1.6103508033055005,
          0.0094913782519163,
          0.45531265282040323,
          0.6119558083278896,
          -0.2942946657226144,
          -1.2729657899992224,
          -0.3545189453227468,
          0.07805696223208544,
          -0.66178932419833,
          -1.6925420918465717,
          -0.1307554580410991,
          -0.39774105359567025,
          -1.516011865561858,
          -0.5391143165355534,
          -1.1142859655918813,
          1.0551320487656342,
          -0.5717178581500568,
          -0.1073076890360471,
          -1.5270560562106272,
          -0.7899843365922449,
          -0.6356350799456826,
          -0.41468126319261245,
          1.6781806287486598,
          -0.33874390881565875,
          0.18609602799409797,
          -1.2338502645280391,
          0.10345221635878635,
          0.6586971927026098,
          0.5813188464153145,
          1.3837115433387472,
          -0.29753261872603187,
          -1.6128956978544893,
          -1.103081913031465,
          -0.15162181863861388,
          0.7316627867109841,
          -0.8665646320585265,
          -1.701661298481288,
          1.596184275190892,
          0.14494608879711593,
          -0.41603294033322546,
          0.9563325173459639,
          -0.30156389581498877,
          0.926333185290943,
          0.6631382639673186,
          0.39152621569100776,
          -0.5826926583224311,
          0.6255130281637811,
          -0.21940433600962406,
          -0.9505295760532173,
          -0.10707435083175479,
          0.37504647253794426,
          -0.7821664392300294,
          1.213031390357866,
          -0.009994398016467693,
          0.9894948390200397,
          -1.647259086231465,
          0.9233657259667436,
          0.17155861516031895
         ],
         "y": [
          -0.3260093462636492,
          0.24999368535084174,
          0.23529007756177991,
          1.497738301294124,
          -1.9235211183341405,
          -2.0300951821002418,
          -0.8026053432036195,
          -0.062102401082379945,
          0.5733134985509706,
          -0.028200152143247094,
          0.5457366836861638,
          1.9105677035222017,
          -1.8510783961436936,
          1.8936264586473475,
          0.8455161682358032,
          0.08530004905902606,
          1.15547970626262,
          0.33241678821461357,
          0.8973896937867161,
          0.19756270998312664,
          -0.5551208869803647,
          -0.7141539274695231,
          0.009781143871655847,
          -0.7963514852359374,
          0.18435114594596597,
          -0.7236122806767714,
          -0.6268367864953104,
          -1.0069813144186306,
          -0.5997263961705249,
          0.2218092724149917,
          -1.170188533181909,
          -0.7686459812838211,
          -0.5673983196078344,
          1.5249329961718672,
          -2.1774022163390523,
          -0.16736496395437145,
          1.0228620924991214,
          0.3910535831520817,
          1.728288848550678,
          -0.009405137671356954,
          0.9241988728738655,
          0.44155721095505096,
          -0.22054721336042088,
          0.5781436798174855,
          -1.290605550402523,
          -0.8219921260635391,
          0.6672891466109183,
          -1.0544087228560581,
          0.8576970417953911,
          1.4773492966329609,
          -0.37563342720144566,
          1.2771642094219255,
          1.4113133544016951,
          -0.29750095974408886,
          -0.3162064319347066,
          1.188528108737439,
          0.579601446889555,
          -1.7869180545292704,
          0.6597949108832315,
          -0.0001365483231869348,
          1.1812217654383987,
          -0.039242310036225546,
          0.055462809310465856,
          -0.26055519934982774,
          0.6725828725192213,
          -0.5868956518865107,
          -0.36545184706978795,
          0.9293783772779497,
          -1.12768298608976,
          -0.6802463660504389,
          1.0337663943479858,
          -0.11482295289181627,
          -0.050142642112852305,
          -0.7605981670708353,
          1.1776341864268012,
          -1.046185183818184,
          -0.7725793465552173,
          -0.19141931620324604,
          -0.5627311353208561,
          -0.6551472073374759,
          0.1682953138174061,
          -1.219605336933295,
          1.1676004025006497,
          -1.729816895327089,
          0.7124705106659508,
          1.5236894135662393,
          -1.6321268418409738,
          -0.7707520544200946,
          -0.05597956411105408,
          0.16633345555002213,
          1.3749075858226854,
          0.7668818323383592,
          1.2292117573820642,
          -0.09963937439980546,
          1.8913086287611742,
          -0.13916805496855586,
          -0.8661975302049588,
          0.011535216890753078,
          1.2450592447021642,
          -2.211752092799134
         ]
        }
       ],
       "layout": {
        "legend": {
         "bgcolor": "#F5F6F9",
         "font": {
          "color": "#4D5663"
         }
        },
        "paper_bgcolor": "#F5F6F9",
        "plot_bgcolor": "#F5F6F9",
        "template": {
         "data": {
          "bar": [
           {
            "error_x": {
             "color": "#2a3f5f"
            },
            "error_y": {
             "color": "#2a3f5f"
            },
            "marker": {
             "line": {
              "color": "#E5ECF6",
              "width": 0.5
             }
            },
            "type": "bar"
           }
          ],
          "barpolar": [
           {
            "marker": {
             "line": {
              "color": "#E5ECF6",
              "width": 0.5
             }
            },
            "type": "barpolar"
           }
          ],
          "carpet": [
           {
            "aaxis": {
             "endlinecolor": "#2a3f5f",
             "gridcolor": "white",
             "linecolor": "white",
             "minorgridcolor": "white",
             "startlinecolor": "#2a3f5f"
            },
            "baxis": {
             "endlinecolor": "#2a3f5f",
             "gridcolor": "white",
             "linecolor": "white",
             "minorgridcolor": "white",
             "startlinecolor": "#2a3f5f"
            },
            "type": "carpet"
           }
          ],
          "choropleth": [
           {
            "colorbar": {
             "outlinewidth": 0,
             "ticks": ""
            },
            "type": "choropleth"
           }
          ],
          "contour": [
           {
            "colorbar": {
             "outlinewidth": 0,
             "ticks": ""
            },
            "colorscale": [
             [
              0,
              "#0d0887"
             ],
             [
              0.1111111111111111,
              "#46039f"
             ],
             [
              0.2222222222222222,
              "#7201a8"
             ],
             [
              0.3333333333333333,
              "#9c179e"
             ],
             [
              0.4444444444444444,
              "#bd3786"
             ],
             [
              0.5555555555555556,
              "#d8576b"
             ],
             [
              0.6666666666666666,
              "#ed7953"
             ],
             [
              0.7777777777777778,
              "#fb9f3a"
             ],
             [
              0.8888888888888888,
              "#fdca26"
             ],
             [
              1,
              "#f0f921"
             ]
            ],
            "type": "contour"
           }
          ],
          "contourcarpet": [
           {
            "colorbar": {
             "outlinewidth": 0,
             "ticks": ""
            },
            "type": "contourcarpet"
           }
          ],
          "heatmap": [
           {
            "colorbar": {
             "outlinewidth": 0,
             "ticks": ""
            },
            "colorscale": [
             [
              0,
              "#0d0887"
             ],
             [
              0.1111111111111111,
              "#46039f"
             ],
             [
              0.2222222222222222,
              "#7201a8"
             ],
             [
              0.3333333333333333,
              "#9c179e"
             ],
             [
              0.4444444444444444,
              "#bd3786"
             ],
             [
              0.5555555555555556,
              "#d8576b"
             ],
             [
              0.6666666666666666,
              "#ed7953"
             ],
             [
              0.7777777777777778,
              "#fb9f3a"
             ],
             [
              0.8888888888888888,
              "#fdca26"
             ],
             [
              1,
              "#f0f921"
             ]
            ],
            "type": "heatmap"
           }
          ],
          "heatmapgl": [
           {
            "colorbar": {
             "outlinewidth": 0,
             "ticks": ""
            },
            "colorscale": [
             [
              0,
              "#0d0887"
             ],
             [
              0.1111111111111111,
              "#46039f"
             ],
             [
              0.2222222222222222,
              "#7201a8"
             ],
             [
              0.3333333333333333,
              "#9c179e"
             ],
             [
              0.4444444444444444,
              "#bd3786"
             ],
             [
              0.5555555555555556,
              "#d8576b"
             ],
             [
              0.6666666666666666,
              "#ed7953"
             ],
             [
              0.7777777777777778,
              "#fb9f3a"
             ],
             [
              0.8888888888888888,
              "#fdca26"
             ],
             [
              1,
              "#f0f921"
             ]
            ],
            "type": "heatmapgl"
           }
          ],
          "histogram": [
           {
            "marker": {
             "colorbar": {
              "outlinewidth": 0,
              "ticks": ""
             }
            },
            "type": "histogram"
           }
          ],
          "histogram2d": [
           {
            "colorbar": {
             "outlinewidth": 0,
             "ticks": ""
            },
            "colorscale": [
             [
              0,
              "#0d0887"
             ],
             [
              0.1111111111111111,
              "#46039f"
             ],
             [
              0.2222222222222222,
              "#7201a8"
             ],
             [
              0.3333333333333333,
              "#9c179e"
             ],
             [
              0.4444444444444444,
              "#bd3786"
             ],
             [
              0.5555555555555556,
              "#d8576b"
             ],
             [
              0.6666666666666666,
              "#ed7953"
             ],
             [
              0.7777777777777778,
              "#fb9f3a"
             ],
             [
              0.8888888888888888,
              "#fdca26"
             ],
             [
              1,
              "#f0f921"
             ]
            ],
            "type": "histogram2d"
           }
          ],
          "histogram2dcontour": [
           {
            "colorbar": {
             "outlinewidth": 0,
             "ticks": ""
            },
            "colorscale": [
             [
              0,
              "#0d0887"
             ],
             [
              0.1111111111111111,
              "#46039f"
             ],
             [
              0.2222222222222222,
              "#7201a8"
             ],
             [
              0.3333333333333333,
              "#9c179e"
             ],
             [
              0.4444444444444444,
              "#bd3786"
             ],
             [
              0.5555555555555556,
              "#d8576b"
             ],
             [
              0.6666666666666666,
              "#ed7953"
             ],
             [
              0.7777777777777778,
              "#fb9f3a"
             ],
             [
              0.8888888888888888,
              "#fdca26"
             ],
             [
              1,
              "#f0f921"
             ]
            ],
            "type": "histogram2dcontour"
           }
          ],
          "mesh3d": [
           {
            "colorbar": {
             "outlinewidth": 0,
             "ticks": ""
            },
            "type": "mesh3d"
           }
          ],
          "parcoords": [
           {
            "line": {
             "colorbar": {
              "outlinewidth": 0,
              "ticks": ""
             }
            },
            "type": "parcoords"
           }
          ],
          "pie": [
           {
            "automargin": true,
            "type": "pie"
           }
          ],
          "scatter": [
           {
            "marker": {
             "colorbar": {
              "outlinewidth": 0,
              "ticks": ""
             }
            },
            "type": "scatter"
           }
          ],
          "scatter3d": [
           {
            "line": {
             "colorbar": {
              "outlinewidth": 0,
              "ticks": ""
             }
            },
            "marker": {
             "colorbar": {
              "outlinewidth": 0,
              "ticks": ""
             }
            },
            "type": "scatter3d"
           }
          ],
          "scattercarpet": [
           {
            "marker": {
             "colorbar": {
              "outlinewidth": 0,
              "ticks": ""
             }
            },
            "type": "scattercarpet"
           }
          ],
          "scattergeo": [
           {
            "marker": {
             "colorbar": {
              "outlinewidth": 0,
              "ticks": ""
             }
            },
            "type": "scattergeo"
           }
          ],
          "scattergl": [
           {
            "marker": {
             "colorbar": {
              "outlinewidth": 0,
              "ticks": ""
             }
            },
            "type": "scattergl"
           }
          ],
          "scattermapbox": [
           {
            "marker": {
             "colorbar": {
              "outlinewidth": 0,
              "ticks": ""
             }
            },
            "type": "scattermapbox"
           }
          ],
          "scatterpolar": [
           {
            "marker": {
             "colorbar": {
              "outlinewidth": 0,
              "ticks": ""
             }
            },
            "type": "scatterpolar"
           }
          ],
          "scatterpolargl": [
           {
            "marker": {
             "colorbar": {
              "outlinewidth": 0,
              "ticks": ""
             }
            },
            "type": "scatterpolargl"
           }
          ],
          "scatterternary": [
           {
            "marker": {
             "colorbar": {
              "outlinewidth": 0,
              "ticks": ""
             }
            },
            "type": "scatterternary"
           }
          ],
          "surface": [
           {
            "colorbar": {
             "outlinewidth": 0,
             "ticks": ""
            },
            "colorscale": [
             [
              0,
              "#0d0887"
             ],
             [
              0.1111111111111111,
              "#46039f"
             ],
             [
              0.2222222222222222,
              "#7201a8"
             ],
             [
              0.3333333333333333,
              "#9c179e"
             ],
             [
              0.4444444444444444,
              "#bd3786"
             ],
             [
              0.5555555555555556,
              "#d8576b"
             ],
             [
              0.6666666666666666,
              "#ed7953"
             ],
             [
              0.7777777777777778,
              "#fb9f3a"
             ],
             [
              0.8888888888888888,
              "#fdca26"
             ],
             [
              1,
              "#f0f921"
             ]
            ],
            "type": "surface"
           }
          ],
          "table": [
           {
            "cells": {
             "fill": {
              "color": "#EBF0F8"
             },
             "line": {
              "color": "white"
             }
            },
            "header": {
             "fill": {
              "color": "#C8D4E3"
             },
             "line": {
              "color": "white"
             }
            },
            "type": "table"
           }
          ]
         },
         "layout": {
          "annotationdefaults": {
           "arrowcolor": "#2a3f5f",
           "arrowhead": 0,
           "arrowwidth": 1
          },
          "coloraxis": {
           "colorbar": {
            "outlinewidth": 0,
            "ticks": ""
           }
          },
          "colorscale": {
           "diverging": [
            [
             0,
             "#8e0152"
            ],
            [
             0.1,
             "#c51b7d"
            ],
            [
             0.2,
             "#de77ae"
            ],
            [
             0.3,
             "#f1b6da"
            ],
            [
             0.4,
             "#fde0ef"
            ],
            [
             0.5,
             "#f7f7f7"
            ],
            [
             0.6,
             "#e6f5d0"
            ],
            [
             0.7,
             "#b8e186"
            ],
            [
             0.8,
             "#7fbc41"
            ],
            [
             0.9,
             "#4d9221"
            ],
            [
             1,
             "#276419"
            ]
           ],
           "sequential": [
            [
             0,
             "#0d0887"
            ],
            [
             0.1111111111111111,
             "#46039f"
            ],
            [
             0.2222222222222222,
             "#7201a8"
            ],
            [
             0.3333333333333333,
             "#9c179e"
            ],
            [
             0.4444444444444444,
             "#bd3786"
            ],
            [
             0.5555555555555556,
             "#d8576b"
            ],
            [
             0.6666666666666666,
             "#ed7953"
            ],
            [
             0.7777777777777778,
             "#fb9f3a"
            ],
            [
             0.8888888888888888,
             "#fdca26"
            ],
            [
             1,
             "#f0f921"
            ]
           ],
           "sequentialminus": [
            [
             0,
             "#0d0887"
            ],
            [
             0.1111111111111111,
             "#46039f"
            ],
            [
             0.2222222222222222,
             "#7201a8"
            ],
            [
             0.3333333333333333,
             "#9c179e"
            ],
            [
             0.4444444444444444,
             "#bd3786"
            ],
            [
             0.5555555555555556,
             "#d8576b"
            ],
            [
             0.6666666666666666,
             "#ed7953"
            ],
            [
             0.7777777777777778,
             "#fb9f3a"
            ],
            [
             0.8888888888888888,
             "#fdca26"
            ],
            [
             1,
             "#f0f921"
            ]
           ]
          },
          "colorway": [
           "#636efa",
           "#EF553B",
           "#00cc96",
           "#ab63fa",
           "#FFA15A",
           "#19d3f3",
           "#FF6692",
           "#B6E880",
           "#FF97FF",
           "#FECB52"
          ],
          "font": {
           "color": "#2a3f5f"
          },
          "geo": {
           "bgcolor": "white",
           "lakecolor": "white",
           "landcolor": "#E5ECF6",
           "showlakes": true,
           "showland": true,
           "subunitcolor": "white"
          },
          "hoverlabel": {
           "align": "left"
          },
          "hovermode": "closest",
          "mapbox": {
           "style": "light"
          },
          "paper_bgcolor": "white",
          "plot_bgcolor": "#E5ECF6",
          "polar": {
           "angularaxis": {
            "gridcolor": "white",
            "linecolor": "white",
            "ticks": ""
           },
           "bgcolor": "#E5ECF6",
           "radialaxis": {
            "gridcolor": "white",
            "linecolor": "white",
            "ticks": ""
           }
          },
          "scene": {
           "xaxis": {
            "backgroundcolor": "#E5ECF6",
            "gridcolor": "white",
            "gridwidth": 2,
            "linecolor": "white",
            "showbackground": true,
            "ticks": "",
            "zerolinecolor": "white"
           },
           "yaxis": {
            "backgroundcolor": "#E5ECF6",
            "gridcolor": "white",
            "gridwidth": 2,
            "linecolor": "white",
            "showbackground": true,
            "ticks": "",
            "zerolinecolor": "white"
           },
           "zaxis": {
            "backgroundcolor": "#E5ECF6",
            "gridcolor": "white",
            "gridwidth": 2,
            "linecolor": "white",
            "showbackground": true,
            "ticks": "",
            "zerolinecolor": "white"
           }
          },
          "shapedefaults": {
           "line": {
            "color": "#2a3f5f"
           }
          },
          "ternary": {
           "aaxis": {
            "gridcolor": "white",
            "linecolor": "white",
            "ticks": ""
           },
           "baxis": {
            "gridcolor": "white",
            "linecolor": "white",
            "ticks": ""
           },
           "bgcolor": "#E5ECF6",
           "caxis": {
            "gridcolor": "white",
            "linecolor": "white",
            "ticks": ""
           }
          },
          "title": {
           "x": 0.05
          },
          "xaxis": {
           "automargin": true,
           "gridcolor": "white",
           "linecolor": "white",
           "ticks": "",
           "title": {
            "standoff": 15
           },
           "zerolinecolor": "white",
           "zerolinewidth": 2
          },
          "yaxis": {
           "automargin": true,
           "gridcolor": "white",
           "linecolor": "white",
           "ticks": "",
           "title": {
            "standoff": 15
           },
           "zerolinecolor": "white",
           "zerolinewidth": 2
          }
         }
        },
        "title": {
         "font": {
          "color": "#4D5663"
         }
        },
        "xaxis": {
         "gridcolor": "#E1E5ED",
         "showgrid": true,
         "tickfont": {
          "color": "#4D5663"
         },
         "title": {
          "font": {
           "color": "#4D5663"
          },
          "text": ""
         },
         "zerolinecolor": "#E1E5ED"
        },
        "yaxis": {
         "gridcolor": "#E1E5ED",
         "showgrid": true,
         "tickfont": {
          "color": "#4D5663"
         },
         "title": {
          "font": {
           "color": "#4D5663"
          },
          "text": ""
         },
         "zerolinecolor": "#E1E5ED"
        }
       }
      },
      "text/html": [
       "<div>\n",
       "        \n",
       "        \n",
       "            <div id=\"2101bc3c-8162-4a6e-8e24-8acf30221bf3\" class=\"plotly-graph-div\" style=\"height:525px; width:100%;\"></div>\n",
       "            <script type=\"text/javascript\">\n",
       "                require([\"plotly\"], function(Plotly) {\n",
       "                    window.PLOTLYENV=window.PLOTLYENV || {};\n",
       "                    window.PLOTLYENV.BASE_URL='https://plot.ly';\n",
       "                    \n",
       "                if (document.getElementById(\"2101bc3c-8162-4a6e-8e24-8acf30221bf3\")) {\n",
       "                    Plotly.newPlot(\n",
       "                        '2101bc3c-8162-4a6e-8e24-8acf30221bf3',\n",
       "                        [{\"marker\": {\"color\": [\"blue\", \"blue\", \"blue\", \"blue\", \"blue\", \"blue\", \"blue\", \"blue\", \"blue\", \"blue\", \"blue\", \"blue\", \"blue\", \"blue\", \"blue\", \"blue\", \"blue\", \"blue\", \"blue\", \"blue\", \"blue\", \"blue\", \"blue\", \"blue\", \"blue\", \"blue\", \"blue\", \"blue\", \"blue\", \"blue\", \"blue\", \"blue\", \"blue\", \"blue\", \"blue\", \"blue\", \"blue\", \"blue\", \"blue\", \"blue\", \"blue\", \"blue\", \"blue\", \"blue\", \"blue\", \"blue\", \"blue\", \"blue\", \"blue\", \"blue\", \"blue\", \"blue\", \"blue\", \"blue\", \"blue\", \"blue\", \"blue\", \"blue\", \"blue\", \"blue\", \"blue\", \"blue\", \"blue\", \"blue\", \"blue\", \"blue\", \"blue\", \"blue\", \"blue\", \"blue\", \"blue\", \"blue\", \"blue\", \"blue\", \"blue\", \"blue\", \"blue\", \"blue\", \"blue\", \"blue\", \"blue\", \"blue\", \"blue\", \"blue\", \"blue\", \"blue\", \"blue\", \"blue\", \"blue\", \"blue\", \"blue\", \"blue\", \"blue\", \"blue\", \"blue\", \"blue\", \"blue\", \"blue\", \"blue\", \"blue\"], \"line\": {\"width\": 1.3}, \"size\": [57, 78, 79, 76, 74, 84, 63, 64, 71, 89, 65, 57, 79, 50, 94, 73, 73, 52, 75, 60, 105, 79, 71, 74, 78, 110, 78, 32, 85, 87, 76, 77, 84, 94, 71, 67, 66, 73, 101, 89, 90, 87, 66, 87, 68, 49, 101, 104, 78, 90, 65, 66, 101, 12, 65, 70, 75, 53, 108, 76, 74, 93, 74, 106, 47, 61, 100, 74, 68, 26, 96, 79, 95, 83, 73, 77, 76, 72, 91, 68, 38, 36, 56, 96, 56, 94, 56, 49, 70, 29, 112, 67, 83, 76, 99, 77, 50, 96, 60, 66], \"symbol\": \"circle\"}, \"mode\": \"markers\", \"text\": \"\", \"type\": \"scatter\", \"x\": [0.48758791284167, -1.0945360538696463, -0.025109160636671034, 0.5318438573072443, 1.170821047816164, -1.0781069618216137, 0.023929908721716072, -0.3341668073479446, 0.15466770476350178, 1.5446639151497434, 1.4056054833842484, 1.6261568763361154, -1.1227374435458701, 0.28194097407828445, -0.682223671693977, -0.9562545728370384, -0.7209835661743308, -0.03317994654738412, 0.5205553063310279, -1.1366028975811477, -0.9786485170200829, 0.13548859544218975, -0.0009540853056883342, 0.5979449535006777, 1.1149531211625783, 0.4283544325769933, -0.2411460571149065, -1.2870861552795327, 0.03636844814017887, 1.2075977330375478, -1.1535869763732076, 1.0628415041799286, -1.0491639233442693, 1.3811022114090363, -0.3613211905254392, -0.45890225542836116, -0.12162760141230262, -0.8396215800903595, -0.565381067065979, -3.4566182937067276, 0.8993420377570022, 0.2165974313829244, 1.6103508033055005, 0.0094913782519163, 0.45531265282040323, 0.6119558083278896, -0.2942946657226144, -1.2729657899992224, -0.3545189453227468, 0.07805696223208544, -0.66178932419833, -1.6925420918465717, -0.1307554580410991, -0.39774105359567025, -1.516011865561858, -0.5391143165355534, -1.1142859655918813, 1.0551320487656342, -0.5717178581500568, -0.1073076890360471, -1.5270560562106272, -0.7899843365922449, -0.6356350799456826, -0.41468126319261245, 1.6781806287486598, -0.33874390881565875, 0.18609602799409797, -1.2338502645280391, 0.10345221635878635, 0.6586971927026098, 0.5813188464153145, 1.3837115433387472, -0.29753261872603187, -1.6128956978544893, -1.103081913031465, -0.15162181863861388, 0.7316627867109841, -0.8665646320585265, -1.701661298481288, 1.596184275190892, 0.14494608879711593, -0.41603294033322546, 0.9563325173459639, -0.30156389581498877, 0.926333185290943, 0.6631382639673186, 0.39152621569100776, -0.5826926583224311, 0.6255130281637811, -0.21940433600962406, -0.9505295760532173, -0.10707435083175479, 0.37504647253794426, -0.7821664392300294, 1.213031390357866, -0.009994398016467693, 0.9894948390200397, -1.647259086231465, 0.9233657259667436, 0.17155861516031895], \"y\": [-0.3260093462636492, 0.24999368535084174, 0.23529007756177991, 1.497738301294124, -1.9235211183341405, -2.0300951821002418, -0.8026053432036195, -0.062102401082379945, 0.5733134985509706, -0.028200152143247094, 0.5457366836861638, 1.9105677035222017, -1.8510783961436936, 1.8936264586473475, 0.8455161682358032, 0.08530004905902606, 1.15547970626262, 0.33241678821461357, 0.8973896937867161, 0.19756270998312664, -0.5551208869803647, -0.7141539274695231, 0.009781143871655847, -0.7963514852359374, 0.18435114594596597, -0.7236122806767714, -0.6268367864953104, -1.0069813144186306, -0.5997263961705249, 0.2218092724149917, -1.170188533181909, -0.7686459812838211, -0.5673983196078344, 1.5249329961718672, -2.1774022163390523, -0.16736496395437145, 1.0228620924991214, 0.3910535831520817, 1.728288848550678, -0.009405137671356954, 0.9241988728738655, 0.44155721095505096, -0.22054721336042088, 0.5781436798174855, -1.290605550402523, -0.8219921260635391, 0.6672891466109183, -1.0544087228560581, 0.8576970417953911, 1.4773492966329609, -0.37563342720144566, 1.2771642094219255, 1.4113133544016951, -0.29750095974408886, -0.3162064319347066, 1.188528108737439, 0.579601446889555, -1.7869180545292704, 0.6597949108832315, -0.0001365483231869348, 1.1812217654383987, -0.039242310036225546, 0.055462809310465856, -0.26055519934982774, 0.6725828725192213, -0.5868956518865107, -0.36545184706978795, 0.9293783772779497, -1.12768298608976, -0.6802463660504389, 1.0337663943479858, -0.11482295289181627, -0.050142642112852305, -0.7605981670708353, 1.1776341864268012, -1.046185183818184, -0.7725793465552173, -0.19141931620324604, -0.5627311353208561, -0.6551472073374759, 0.1682953138174061, -1.219605336933295, 1.1676004025006497, -1.729816895327089, 0.7124705106659508, 1.5236894135662393, -1.6321268418409738, -0.7707520544200946, -0.05597956411105408, 0.16633345555002213, 1.3749075858226854, 0.7668818323383592, 1.2292117573820642, -0.09963937439980546, 1.8913086287611742, -0.13916805496855586, -0.8661975302049588, 0.011535216890753078, 1.2450592447021642, -2.211752092799134]}],\n",
       "                        {\"legend\": {\"bgcolor\": \"#F5F6F9\", \"font\": {\"color\": \"#4D5663\"}}, \"paper_bgcolor\": \"#F5F6F9\", \"plot_bgcolor\": \"#F5F6F9\", \"template\": {\"data\": {\"bar\": [{\"error_x\": {\"color\": \"#2a3f5f\"}, \"error_y\": {\"color\": \"#2a3f5f\"}, \"marker\": {\"line\": {\"color\": \"#E5ECF6\", \"width\": 0.5}}, \"type\": \"bar\"}], \"barpolar\": [{\"marker\": {\"line\": {\"color\": \"#E5ECF6\", \"width\": 0.5}}, \"type\": \"barpolar\"}], \"carpet\": [{\"aaxis\": {\"endlinecolor\": \"#2a3f5f\", \"gridcolor\": \"white\", \"linecolor\": \"white\", \"minorgridcolor\": \"white\", \"startlinecolor\": \"#2a3f5f\"}, \"baxis\": {\"endlinecolor\": \"#2a3f5f\", \"gridcolor\": \"white\", \"linecolor\": \"white\", \"minorgridcolor\": \"white\", \"startlinecolor\": \"#2a3f5f\"}, \"type\": \"carpet\"}], \"choropleth\": [{\"colorbar\": {\"outlinewidth\": 0, \"ticks\": \"\"}, \"type\": \"choropleth\"}], \"contour\": [{\"colorbar\": {\"outlinewidth\": 0, \"ticks\": \"\"}, \"colorscale\": [[0.0, \"#0d0887\"], [0.1111111111111111, \"#46039f\"], [0.2222222222222222, \"#7201a8\"], [0.3333333333333333, \"#9c179e\"], [0.4444444444444444, \"#bd3786\"], [0.5555555555555556, \"#d8576b\"], [0.6666666666666666, \"#ed7953\"], [0.7777777777777778, \"#fb9f3a\"], [0.8888888888888888, \"#fdca26\"], [1.0, \"#f0f921\"]], \"type\": \"contour\"}], \"contourcarpet\": [{\"colorbar\": {\"outlinewidth\": 0, \"ticks\": \"\"}, \"type\": \"contourcarpet\"}], \"heatmap\": [{\"colorbar\": {\"outlinewidth\": 0, \"ticks\": \"\"}, \"colorscale\": [[0.0, \"#0d0887\"], [0.1111111111111111, \"#46039f\"], [0.2222222222222222, \"#7201a8\"], [0.3333333333333333, \"#9c179e\"], [0.4444444444444444, \"#bd3786\"], [0.5555555555555556, \"#d8576b\"], [0.6666666666666666, \"#ed7953\"], [0.7777777777777778, \"#fb9f3a\"], [0.8888888888888888, \"#fdca26\"], [1.0, \"#f0f921\"]], \"type\": \"heatmap\"}], \"heatmapgl\": [{\"colorbar\": {\"outlinewidth\": 0, \"ticks\": \"\"}, \"colorscale\": [[0.0, \"#0d0887\"], [0.1111111111111111, \"#46039f\"], [0.2222222222222222, \"#7201a8\"], [0.3333333333333333, \"#9c179e\"], [0.4444444444444444, \"#bd3786\"], [0.5555555555555556, \"#d8576b\"], [0.6666666666666666, \"#ed7953\"], [0.7777777777777778, \"#fb9f3a\"], [0.8888888888888888, \"#fdca26\"], [1.0, \"#f0f921\"]], \"type\": \"heatmapgl\"}], \"histogram\": [{\"marker\": {\"colorbar\": {\"outlinewidth\": 0, \"ticks\": \"\"}}, \"type\": \"histogram\"}], \"histogram2d\": [{\"colorbar\": {\"outlinewidth\": 0, \"ticks\": \"\"}, \"colorscale\": [[0.0, \"#0d0887\"], [0.1111111111111111, \"#46039f\"], [0.2222222222222222, \"#7201a8\"], [0.3333333333333333, \"#9c179e\"], [0.4444444444444444, \"#bd3786\"], [0.5555555555555556, \"#d8576b\"], [0.6666666666666666, \"#ed7953\"], [0.7777777777777778, \"#fb9f3a\"], [0.8888888888888888, \"#fdca26\"], [1.0, \"#f0f921\"]], \"type\": \"histogram2d\"}], \"histogram2dcontour\": [{\"colorbar\": {\"outlinewidth\": 0, \"ticks\": \"\"}, \"colorscale\": [[0.0, \"#0d0887\"], [0.1111111111111111, \"#46039f\"], [0.2222222222222222, \"#7201a8\"], [0.3333333333333333, \"#9c179e\"], [0.4444444444444444, \"#bd3786\"], [0.5555555555555556, \"#d8576b\"], [0.6666666666666666, \"#ed7953\"], [0.7777777777777778, \"#fb9f3a\"], [0.8888888888888888, \"#fdca26\"], [1.0, \"#f0f921\"]], \"type\": \"histogram2dcontour\"}], \"mesh3d\": [{\"colorbar\": {\"outlinewidth\": 0, \"ticks\": \"\"}, \"type\": \"mesh3d\"}], \"parcoords\": [{\"line\": {\"colorbar\": {\"outlinewidth\": 0, \"ticks\": \"\"}}, \"type\": \"parcoords\"}], \"pie\": [{\"automargin\": true, \"type\": \"pie\"}], \"scatter\": [{\"marker\": {\"colorbar\": {\"outlinewidth\": 0, \"ticks\": \"\"}}, \"type\": \"scatter\"}], \"scatter3d\": [{\"line\": {\"colorbar\": {\"outlinewidth\": 0, \"ticks\": \"\"}}, \"marker\": {\"colorbar\": {\"outlinewidth\": 0, \"ticks\": \"\"}}, \"type\": \"scatter3d\"}], \"scattercarpet\": [{\"marker\": {\"colorbar\": {\"outlinewidth\": 0, \"ticks\": \"\"}}, \"type\": \"scattercarpet\"}], \"scattergeo\": [{\"marker\": {\"colorbar\": {\"outlinewidth\": 0, \"ticks\": \"\"}}, \"type\": \"scattergeo\"}], \"scattergl\": [{\"marker\": {\"colorbar\": {\"outlinewidth\": 0, \"ticks\": \"\"}}, \"type\": \"scattergl\"}], \"scattermapbox\": [{\"marker\": {\"colorbar\": {\"outlinewidth\": 0, \"ticks\": \"\"}}, \"type\": \"scattermapbox\"}], \"scatterpolar\": [{\"marker\": {\"colorbar\": {\"outlinewidth\": 0, \"ticks\": \"\"}}, \"type\": \"scatterpolar\"}], \"scatterpolargl\": [{\"marker\": {\"colorbar\": {\"outlinewidth\": 0, \"ticks\": \"\"}}, \"type\": \"scatterpolargl\"}], \"scatterternary\": [{\"marker\": {\"colorbar\": {\"outlinewidth\": 0, \"ticks\": \"\"}}, \"type\": \"scatterternary\"}], \"surface\": [{\"colorbar\": {\"outlinewidth\": 0, \"ticks\": \"\"}, \"colorscale\": [[0.0, \"#0d0887\"], [0.1111111111111111, \"#46039f\"], [0.2222222222222222, \"#7201a8\"], [0.3333333333333333, \"#9c179e\"], [0.4444444444444444, \"#bd3786\"], [0.5555555555555556, \"#d8576b\"], [0.6666666666666666, \"#ed7953\"], [0.7777777777777778, \"#fb9f3a\"], [0.8888888888888888, \"#fdca26\"], [1.0, \"#f0f921\"]], \"type\": \"surface\"}], \"table\": [{\"cells\": {\"fill\": {\"color\": \"#EBF0F8\"}, \"line\": {\"color\": \"white\"}}, \"header\": {\"fill\": {\"color\": \"#C8D4E3\"}, \"line\": {\"color\": \"white\"}}, \"type\": \"table\"}]}, \"layout\": {\"annotationdefaults\": {\"arrowcolor\": \"#2a3f5f\", \"arrowhead\": 0, \"arrowwidth\": 1}, \"coloraxis\": {\"colorbar\": {\"outlinewidth\": 0, \"ticks\": \"\"}}, \"colorscale\": {\"diverging\": [[0, \"#8e0152\"], [0.1, \"#c51b7d\"], [0.2, \"#de77ae\"], [0.3, \"#f1b6da\"], [0.4, \"#fde0ef\"], [0.5, \"#f7f7f7\"], [0.6, \"#e6f5d0\"], [0.7, \"#b8e186\"], [0.8, \"#7fbc41\"], [0.9, \"#4d9221\"], [1, \"#276419\"]], \"sequential\": [[0.0, \"#0d0887\"], [0.1111111111111111, \"#46039f\"], [0.2222222222222222, \"#7201a8\"], [0.3333333333333333, \"#9c179e\"], [0.4444444444444444, \"#bd3786\"], [0.5555555555555556, \"#d8576b\"], [0.6666666666666666, \"#ed7953\"], [0.7777777777777778, \"#fb9f3a\"], [0.8888888888888888, \"#fdca26\"], [1.0, \"#f0f921\"]], \"sequentialminus\": [[0.0, \"#0d0887\"], [0.1111111111111111, \"#46039f\"], [0.2222222222222222, \"#7201a8\"], [0.3333333333333333, \"#9c179e\"], [0.4444444444444444, \"#bd3786\"], [0.5555555555555556, \"#d8576b\"], [0.6666666666666666, \"#ed7953\"], [0.7777777777777778, \"#fb9f3a\"], [0.8888888888888888, \"#fdca26\"], [1.0, \"#f0f921\"]]}, \"colorway\": [\"#636efa\", \"#EF553B\", \"#00cc96\", \"#ab63fa\", \"#FFA15A\", \"#19d3f3\", \"#FF6692\", \"#B6E880\", \"#FF97FF\", \"#FECB52\"], \"font\": {\"color\": \"#2a3f5f\"}, \"geo\": {\"bgcolor\": \"white\", \"lakecolor\": \"white\", \"landcolor\": \"#E5ECF6\", \"showlakes\": true, \"showland\": true, \"subunitcolor\": \"white\"}, \"hoverlabel\": {\"align\": \"left\"}, \"hovermode\": \"closest\", \"mapbox\": {\"style\": \"light\"}, \"paper_bgcolor\": \"white\", \"plot_bgcolor\": \"#E5ECF6\", \"polar\": {\"angularaxis\": {\"gridcolor\": \"white\", \"linecolor\": \"white\", \"ticks\": \"\"}, \"bgcolor\": \"#E5ECF6\", \"radialaxis\": {\"gridcolor\": \"white\", \"linecolor\": \"white\", \"ticks\": \"\"}}, \"scene\": {\"xaxis\": {\"backgroundcolor\": \"#E5ECF6\", \"gridcolor\": \"white\", \"gridwidth\": 2, \"linecolor\": \"white\", \"showbackground\": true, \"ticks\": \"\", \"zerolinecolor\": \"white\"}, \"yaxis\": {\"backgroundcolor\": \"#E5ECF6\", \"gridcolor\": \"white\", \"gridwidth\": 2, \"linecolor\": \"white\", \"showbackground\": true, \"ticks\": \"\", \"zerolinecolor\": \"white\"}, \"zaxis\": {\"backgroundcolor\": \"#E5ECF6\", \"gridcolor\": \"white\", \"gridwidth\": 2, \"linecolor\": \"white\", \"showbackground\": true, \"ticks\": \"\", \"zerolinecolor\": \"white\"}}, \"shapedefaults\": {\"line\": {\"color\": \"#2a3f5f\"}}, \"ternary\": {\"aaxis\": {\"gridcolor\": \"white\", \"linecolor\": \"white\", \"ticks\": \"\"}, \"baxis\": {\"gridcolor\": \"white\", \"linecolor\": \"white\", \"ticks\": \"\"}, \"bgcolor\": \"#E5ECF6\", \"caxis\": {\"gridcolor\": \"white\", \"linecolor\": \"white\", \"ticks\": \"\"}}, \"title\": {\"x\": 0.05}, \"xaxis\": {\"automargin\": true, \"gridcolor\": \"white\", \"linecolor\": \"white\", \"ticks\": \"\", \"title\": {\"standoff\": 15}, \"zerolinecolor\": \"white\", \"zerolinewidth\": 2}, \"yaxis\": {\"automargin\": true, \"gridcolor\": \"white\", \"linecolor\": \"white\", \"ticks\": \"\", \"title\": {\"standoff\": 15}, \"zerolinecolor\": \"white\", \"zerolinewidth\": 2}}}, \"title\": {\"font\": {\"color\": \"#4D5663\"}}, \"xaxis\": {\"gridcolor\": \"#E1E5ED\", \"showgrid\": true, \"tickfont\": {\"color\": \"#4D5663\"}, \"title\": {\"font\": {\"color\": \"#4D5663\"}, \"text\": \"\"}, \"zerolinecolor\": \"#E1E5ED\"}, \"yaxis\": {\"gridcolor\": \"#E1E5ED\", \"showgrid\": true, \"tickfont\": {\"color\": \"#4D5663\"}, \"title\": {\"font\": {\"color\": \"#4D5663\"}, \"text\": \"\"}, \"zerolinecolor\": \"#E1E5ED\"}},\n",
       "                        {\"showLink\": true, \"linkText\": \"Export to plot.ly\", \"plotlyServerURL\": \"https://plot.ly\", \"responsive\": true}\n",
       "                    ).then(function(){\n",
       "                            \n",
       "var gd = document.getElementById('2101bc3c-8162-4a6e-8e24-8acf30221bf3');\n",
       "var x = new MutationObserver(function (mutations, observer) {{\n",
       "        var display = window.getComputedStyle(gd).display;\n",
       "        if (!display || display === 'none') {{\n",
       "            console.log([gd, 'removed!']);\n",
       "            Plotly.purge(gd);\n",
       "            observer.disconnect();\n",
       "        }}\n",
       "}});\n",
       "\n",
       "// Listen for the removal of the full notebook cells\n",
       "var notebookContainer = gd.closest('#notebook-container');\n",
       "if (notebookContainer) {{\n",
       "    x.observe(notebookContainer, {childList: true});\n",
       "}}\n",
       "\n",
       "// Listen for the clearing of the current output cell\n",
       "var outputEl = gd.closest('.output');\n",
       "if (outputEl) {{\n",
       "    x.observe(outputEl, {childList: true});\n",
       "}}\n",
       "\n",
       "                        })\n",
       "                };\n",
       "                });\n",
       "            </script>\n",
       "        </div>"
      ]
     },
     "metadata": {},
     "output_type": "display_data"
    }
   ],
   "source": [
    "#bubbleplot \n",
    "#bubbleplot like the scatter but we can control the size of the bubbles by another column and they are bubbles not points\n",
    "df.iplot(kind='bubble',x='A',y='B',size='C',color='blue')"
   ]
  },
  {
   "cell_type": "code",
   "execution_count": 46,
   "metadata": {},
   "outputs": [
    {
     "data": {
      "application/vnd.plotly.v1+json": {
       "config": {
        "linkText": "Export to plot.ly",
        "plotlyServerURL": "https://plot.ly",
        "showLink": true
       },
       "data": [
        {
         "histfunc": "count",
         "histnorm": "",
         "marker": {
          "color": "rgba(255, 153, 51, 1.0)",
          "line": {
           "color": "#4D5663",
           "width": 1.3
          }
         },
         "name": "A",
         "nbinsx": 10,
         "opacity": 0.8,
         "orientation": "v",
         "type": "histogram",
         "x": [
          0.48758791284167,
          -1.0945360538696463,
          -0.025109160636671034,
          0.5318438573072443,
          1.170821047816164,
          -1.0781069618216137,
          0.023929908721716072,
          -0.3341668073479446,
          0.15466770476350178,
          1.5446639151497434,
          1.4056054833842484,
          1.6261568763361154,
          -1.1227374435458701,
          0.28194097407828445,
          -0.682223671693977,
          -0.9562545728370384,
          -0.7209835661743308,
          -0.03317994654738412,
          0.5205553063310279,
          -1.1366028975811477,
          -0.9786485170200829,
          0.13548859544218975,
          -0.0009540853056883342,
          0.5979449535006777,
          1.1149531211625783,
          0.4283544325769933,
          -0.2411460571149065,
          -1.2870861552795327,
          0.03636844814017887,
          1.2075977330375478,
          -1.1535869763732076,
          1.0628415041799286,
          -1.0491639233442693,
          1.3811022114090363,
          -0.3613211905254392,
          -0.45890225542836116,
          -0.12162760141230262,
          -0.8396215800903595,
          -0.565381067065979,
          -3.4566182937067276,
          0.8993420377570022,
          0.2165974313829244,
          1.6103508033055005,
          0.0094913782519163,
          0.45531265282040323,
          0.6119558083278896,
          -0.2942946657226144,
          -1.2729657899992224,
          -0.3545189453227468,
          0.07805696223208544,
          -0.66178932419833,
          -1.6925420918465717,
          -0.1307554580410991,
          -0.39774105359567025,
          -1.516011865561858,
          -0.5391143165355534,
          -1.1142859655918813,
          1.0551320487656342,
          -0.5717178581500568,
          -0.1073076890360471,
          -1.5270560562106272,
          -0.7899843365922449,
          -0.6356350799456826,
          -0.41468126319261245,
          1.6781806287486598,
          -0.33874390881565875,
          0.18609602799409797,
          -1.2338502645280391,
          0.10345221635878635,
          0.6586971927026098,
          0.5813188464153145,
          1.3837115433387472,
          -0.29753261872603187,
          -1.6128956978544893,
          -1.103081913031465,
          -0.15162181863861388,
          0.7316627867109841,
          -0.8665646320585265,
          -1.701661298481288,
          1.596184275190892,
          0.14494608879711593,
          -0.41603294033322546,
          0.9563325173459639,
          -0.30156389581498877,
          0.926333185290943,
          0.6631382639673186,
          0.39152621569100776,
          -0.5826926583224311,
          0.6255130281637811,
          -0.21940433600962406,
          -0.9505295760532173,
          -0.10707435083175479,
          0.37504647253794426,
          -0.7821664392300294,
          1.213031390357866,
          -0.009994398016467693,
          0.9894948390200397,
          -1.647259086231465,
          0.9233657259667436,
          0.17155861516031895
         ],
         "xaxis": "x",
         "yaxis": "y"
        },
        {
         "line": {
          "color": "rgba(128, 128, 128, 1.0)",
          "dash": "solid",
          "shape": "linear",
          "width": 1.3
         },
         "marker": {
          "size": 2,
          "symbol": "circle"
         },
         "mode": "markers",
         "name": "A",
         "text": "",
         "type": "scatter",
         "x": [
          -0.3260093462636492,
          0.24999368535084174,
          0.23529007756177991,
          1.497738301294124,
          -1.9235211183341405,
          -2.0300951821002418,
          -0.8026053432036195,
          -0.062102401082379945,
          0.5733134985509706,
          -0.028200152143247094,
          0.5457366836861638,
          1.9105677035222017,
          -1.8510783961436936,
          1.8936264586473475,
          0.8455161682358032,
          0.08530004905902606,
          1.15547970626262,
          0.33241678821461357,
          0.8973896937867161,
          0.19756270998312664,
          -0.5551208869803647,
          -0.7141539274695231,
          0.009781143871655847,
          -0.7963514852359374,
          0.18435114594596597,
          -0.7236122806767714,
          -0.6268367864953104,
          -1.0069813144186306,
          -0.5997263961705249,
          0.2218092724149917,
          -1.170188533181909,
          -0.7686459812838211,
          -0.5673983196078344,
          1.5249329961718672,
          -2.1774022163390523,
          -0.16736496395437145,
          1.0228620924991214,
          0.3910535831520817,
          1.728288848550678,
          -0.009405137671356954,
          0.9241988728738655,
          0.44155721095505096,
          -0.22054721336042088,
          0.5781436798174855,
          -1.290605550402523,
          -0.8219921260635391,
          0.6672891466109183,
          -1.0544087228560581,
          0.8576970417953911,
          1.4773492966329609,
          -0.37563342720144566,
          1.2771642094219255,
          1.4113133544016951,
          -0.29750095974408886,
          -0.3162064319347066,
          1.188528108737439,
          0.579601446889555,
          -1.7869180545292704,
          0.6597949108832315,
          -0.0001365483231869348,
          1.1812217654383987,
          -0.039242310036225546,
          0.055462809310465856,
          -0.26055519934982774,
          0.6725828725192213,
          -0.5868956518865107,
          -0.36545184706978795,
          0.9293783772779497,
          -1.12768298608976,
          -0.6802463660504389,
          1.0337663943479858,
          -0.11482295289181627,
          -0.050142642112852305,
          -0.7605981670708353,
          1.1776341864268012,
          -1.046185183818184,
          -0.7725793465552173,
          -0.19141931620324604,
          -0.5627311353208561,
          -0.6551472073374759,
          0.1682953138174061,
          -1.219605336933295,
          1.1676004025006497,
          -1.729816895327089,
          0.7124705106659508,
          1.5236894135662393,
          -1.6321268418409738,
          -0.7707520544200946,
          -0.05597956411105408,
          0.16633345555002213,
          1.3749075858226854,
          0.7668818323383592,
          1.2292117573820642,
          -0.09963937439980546,
          1.8913086287611742,
          -0.13916805496855586,
          -0.8661975302049588,
          0.011535216890753078,
          1.2450592447021642,
          -2.211752092799134
         ],
         "xaxis": "x2",
         "y": [
          0.48758791284167,
          -1.0945360538696463,
          -0.025109160636671034,
          0.5318438573072443,
          1.170821047816164,
          -1.0781069618216137,
          0.023929908721716072,
          -0.3341668073479446,
          0.15466770476350178,
          1.5446639151497434,
          1.4056054833842484,
          1.6261568763361154,
          -1.1227374435458701,
          0.28194097407828445,
          -0.682223671693977,
          -0.9562545728370384,
          -0.7209835661743308,
          -0.03317994654738412,
          0.5205553063310279,
          -1.1366028975811477,
          -0.9786485170200829,
          0.13548859544218975,
          -0.0009540853056883342,
          0.5979449535006777,
          1.1149531211625783,
          0.4283544325769933,
          -0.2411460571149065,
          -1.2870861552795327,
          0.03636844814017887,
          1.2075977330375478,
          -1.1535869763732076,
          1.0628415041799286,
          -1.0491639233442693,
          1.3811022114090363,
          -0.3613211905254392,
          -0.45890225542836116,
          -0.12162760141230262,
          -0.8396215800903595,
          -0.565381067065979,
          -3.4566182937067276,
          0.8993420377570022,
          0.2165974313829244,
          1.6103508033055005,
          0.0094913782519163,
          0.45531265282040323,
          0.6119558083278896,
          -0.2942946657226144,
          -1.2729657899992224,
          -0.3545189453227468,
          0.07805696223208544,
          -0.66178932419833,
          -1.6925420918465717,
          -0.1307554580410991,
          -0.39774105359567025,
          -1.516011865561858,
          -0.5391143165355534,
          -1.1142859655918813,
          1.0551320487656342,
          -0.5717178581500568,
          -0.1073076890360471,
          -1.5270560562106272,
          -0.7899843365922449,
          -0.6356350799456826,
          -0.41468126319261245,
          1.6781806287486598,
          -0.33874390881565875,
          0.18609602799409797,
          -1.2338502645280391,
          0.10345221635878635,
          0.6586971927026098,
          0.5813188464153145,
          1.3837115433387472,
          -0.29753261872603187,
          -1.6128956978544893,
          -1.103081913031465,
          -0.15162181863861388,
          0.7316627867109841,
          -0.8665646320585265,
          -1.701661298481288,
          1.596184275190892,
          0.14494608879711593,
          -0.41603294033322546,
          0.9563325173459639,
          -0.30156389581498877,
          0.926333185290943,
          0.6631382639673186,
          0.39152621569100776,
          -0.5826926583224311,
          0.6255130281637811,
          -0.21940433600962406,
          -0.9505295760532173,
          -0.10707435083175479,
          0.37504647253794426,
          -0.7821664392300294,
          1.213031390357866,
          -0.009994398016467693,
          0.9894948390200397,
          -1.647259086231465,
          0.9233657259667436,
          0.17155861516031895
         ],
         "yaxis": "y2"
        },
        {
         "line": {
          "color": "rgba(128, 128, 128, 1.0)",
          "dash": "solid",
          "shape": "linear",
          "width": 1.3
         },
         "marker": {
          "size": 2,
          "symbol": "circle"
         },
         "mode": "markers",
         "name": "A",
         "text": "",
         "type": "scatter",
         "x": [
          -0.9215737996680481,
          0.24257794495661747,
          0.28730374971215455,
          0.14040275264155666,
          -0.01454372243547929,
          0.5701479887456785,
          -0.5913889393179355,
          -0.5391923903512743,
          -0.1268109615054854,
          0.8330285935502711,
          -0.45887812076157464,
          -0.9098656132168144,
          0.30937887086993643,
          -1.3173769403479854,
          1.1390528635745454,
          -0.054313980526728284,
          -0.06345952949402739,
          -1.1848137236310903,
          0.07638907718243115,
          -0.7575403986569592,
          1.7111419842743498,
          0.27368305370590473,
          -0.14455085058261638,
          0.035816694898625955,
          0.21415107397239885,
          1.9934432737074155,
          0.25865489493566746,
          -2.311189157953442,
          0.6209601156744055,
          0.7504779554943947,
          0.09748343837697022,
          0.17482346528953707,
          0.5823900490090388,
          1.1176691088840645,
          -0.15595798168684122,
          -0.39505494965702165,
          -0.43222799923157496,
          -0.021203250326226684,
          1.536868590901801,
          0.8289905654680133,
          0.920122027822724,
          0.7552087906910285,
          -0.4435526780625535,
          0.7533509524104882,
          -0.3163692824277632,
          -1.3740015077056968,
          1.4844837012254757,
          1.6989196256086767,
          0.21383303878010604,
          0.8903447804836941,
          -0.4811875074025367,
          -0.4083018305349428,
          1.5122987569757786,
          -3.456495150976108,
          -0.5078588732223014,
          -0.19091788141284483,
          0.07076357456210358,
          -1.1408201971843714,
          1.8997545762062136,
          0.09703976302099852,
          0.039703654766854495,
          1.0494411955167449,
          0.029929215098847543,
          1.7940867369711784,
          -1.4870984274296137,
          -0.6874900617646675,
          1.4365266243030386,
          0.0230165236855401,
          -0.3063837206223713,
          -2.659682030893965,
          1.2274792247016022,
          0.3119932445595903,
          1.2018157112787466,
          0.5033149695523894,
          -0.01920839903472686,
          0.15679949048063785,
          0.12213403014052661,
          -0.12491818968818347,
          0.9322611703529357,
          -0.32080906005630394,
          -1.9843429087528304,
          -2.1117410103351584,
          -0.9971293003585686,
          1.2539711506249005,
          -0.9705376358440737,
          1.110380938606927,
          -0.9658677901361647,
          -1.3794425991471915,
          -0.18429815818266237,
          -2.4709888143236496,
          2.0947893798665924,
          -0.3557969469360339,
          0.5337181750396833,
          0.12295132345624875,
          1.425546310958585,
          0.1999557525436834,
          -1.293395493776135,
          1.221242082392363,
          -0.7800515940717015,
          -0.4455096834649943
         ],
         "xaxis": "x3",
         "y": [
          0.48758791284167,
          -1.0945360538696463,
          -0.025109160636671034,
          0.5318438573072443,
          1.170821047816164,
          -1.0781069618216137,
          0.023929908721716072,
          -0.3341668073479446,
          0.15466770476350178,
          1.5446639151497434,
          1.4056054833842484,
          1.6261568763361154,
          -1.1227374435458701,
          0.28194097407828445,
          -0.682223671693977,
          -0.9562545728370384,
          -0.7209835661743308,
          -0.03317994654738412,
          0.5205553063310279,
          -1.1366028975811477,
          -0.9786485170200829,
          0.13548859544218975,
          -0.0009540853056883342,
          0.5979449535006777,
          1.1149531211625783,
          0.4283544325769933,
          -0.2411460571149065,
          -1.2870861552795327,
          0.03636844814017887,
          1.2075977330375478,
          -1.1535869763732076,
          1.0628415041799286,
          -1.0491639233442693,
          1.3811022114090363,
          -0.3613211905254392,
          -0.45890225542836116,
          -0.12162760141230262,
          -0.8396215800903595,
          -0.565381067065979,
          -3.4566182937067276,
          0.8993420377570022,
          0.2165974313829244,
          1.6103508033055005,
          0.0094913782519163,
          0.45531265282040323,
          0.6119558083278896,
          -0.2942946657226144,
          -1.2729657899992224,
          -0.3545189453227468,
          0.07805696223208544,
          -0.66178932419833,
          -1.6925420918465717,
          -0.1307554580410991,
          -0.39774105359567025,
          -1.516011865561858,
          -0.5391143165355534,
          -1.1142859655918813,
          1.0551320487656342,
          -0.5717178581500568,
          -0.1073076890360471,
          -1.5270560562106272,
          -0.7899843365922449,
          -0.6356350799456826,
          -0.41468126319261245,
          1.6781806287486598,
          -0.33874390881565875,
          0.18609602799409797,
          -1.2338502645280391,
          0.10345221635878635,
          0.6586971927026098,
          0.5813188464153145,
          1.3837115433387472,
          -0.29753261872603187,
          -1.6128956978544893,
          -1.103081913031465,
          -0.15162181863861388,
          0.7316627867109841,
          -0.8665646320585265,
          -1.701661298481288,
          1.596184275190892,
          0.14494608879711593,
          -0.41603294033322546,
          0.9563325173459639,
          -0.30156389581498877,
          0.926333185290943,
          0.6631382639673186,
          0.39152621569100776,
          -0.5826926583224311,
          0.6255130281637811,
          -0.21940433600962406,
          -0.9505295760532173,
          -0.10707435083175479,
          0.37504647253794426,
          -0.7821664392300294,
          1.213031390357866,
          -0.009994398016467693,
          0.9894948390200397,
          -1.647259086231465,
          0.9233657259667436,
          0.17155861516031895
         ],
         "yaxis": "y3"
        },
        {
         "line": {
          "color": "rgba(128, 128, 128, 1.0)",
          "dash": "solid",
          "shape": "linear",
          "width": 1.3
         },
         "marker": {
          "size": 2,
          "symbol": "circle"
         },
         "mode": "markers",
         "name": "A",
         "text": "",
         "type": "scatter",
         "x": [
          -0.3732001785635488,
          0.02772057204258057,
          2.0780977673160814,
          1.3345213603864252,
          0.1694366973809169,
          -0.2684697638023764,
          -0.6082296092599212,
          0.6508892453079715,
          -0.4345062907402152,
          -0.5617920353885649,
          -0.587017228791666,
          -1.090602506962519,
          -0.47177082945853616,
          -0.5047968481345675,
          0.30674061235988115,
          -0.2580618267023648,
          1.213046387572064,
          -0.10336248572090953,
          1.2135641909949002,
          -0.29573781138810157,
          0.09265697441911201,
          1.181111268444659,
          0.9794260265187278,
          -0.2066609559336435,
          -1.4324849127349883,
          1.8973719521978711,
          -1.5770524954708642,
          -1.5233755285194996,
          -0.11954388695033413,
          0.408227044615286,
          -0.7943217801990868,
          -0.4074277029874315,
          -1.2964724531322758,
          1.3531820244255979,
          -0.10209548025668516,
          -3.962267411342711,
          0.3925374957693042,
          -1.5987574555527004,
          -0.015690786883268432,
          -1.3646431233639413,
          0.005367302494327931,
          -1.1544773552282033,
          0.6812441407429343,
          1.3980508128192732,
          -0.6960723365727628,
          0.8007104031685038,
          0.22814968085465678,
          0.39540184605719475,
          -0.6465850039640896,
          -0.49131677264646473,
          -1.7766857278277122,
          -0.5308430489637528,
          -0.4143386231020363,
          0.9564710084119504,
          -0.3110460476539002,
          1.8446499699453207,
          0.38994548400707324,
          -2.7684282902563084,
          -2.119079548307512,
          -0.1266261950522138,
          -0.45611608273969556,
          0.077912447832572,
          -0.21689984979054935,
          -0.7121695757676461,
          -0.3490408053170844,
          0.3906916972874522,
          -0.8297333159231602,
          -0.707490514149694,
          -1.2545296140226112,
          -0.05515145982340287,
          -0.40172092888359184,
          -1.8846250805252711,
          0.9566507481486777,
          1.6497778073533933,
          -1.4767802190660844,
          0.05283350103280196,
          -1.0329661785748872,
          0.5644947822224133,
          -3.2623765712883497,
          -0.050082748227648924,
          -0.31321634490070466,
          -1.0917145834668929,
          0.5450272060871032,
          -0.27725916223419866,
          -1.3544628542209094,
          -2.561107978279768,
          -0.29988417704474407,
          -0.08734822296629834,
          0.31378902477164194,
          -0.08316283323673339,
          -0.057673051473649005,
          -1.1827138584189956,
          -0.9354931234512995,
          0.5391231576807595,
          0.6683226564578738,
          1.4246185626652708,
          -0.250826647645536,
          -1.7472524156312297,
          0.0165326921674526,
          -0.07634791957043927
         ],
         "xaxis": "x4",
         "y": [
          0.48758791284167,
          -1.0945360538696463,
          -0.025109160636671034,
          0.5318438573072443,
          1.170821047816164,
          -1.0781069618216137,
          0.023929908721716072,
          -0.3341668073479446,
          0.15466770476350178,
          1.5446639151497434,
          1.4056054833842484,
          1.6261568763361154,
          -1.1227374435458701,
          0.28194097407828445,
          -0.682223671693977,
          -0.9562545728370384,
          -0.7209835661743308,
          -0.03317994654738412,
          0.5205553063310279,
          -1.1366028975811477,
          -0.9786485170200829,
          0.13548859544218975,
          -0.0009540853056883342,
          0.5979449535006777,
          1.1149531211625783,
          0.4283544325769933,
          -0.2411460571149065,
          -1.2870861552795327,
          0.03636844814017887,
          1.2075977330375478,
          -1.1535869763732076,
          1.0628415041799286,
          -1.0491639233442693,
          1.3811022114090363,
          -0.3613211905254392,
          -0.45890225542836116,
          -0.12162760141230262,
          -0.8396215800903595,
          -0.565381067065979,
          -3.4566182937067276,
          0.8993420377570022,
          0.2165974313829244,
          1.6103508033055005,
          0.0094913782519163,
          0.45531265282040323,
          0.6119558083278896,
          -0.2942946657226144,
          -1.2729657899992224,
          -0.3545189453227468,
          0.07805696223208544,
          -0.66178932419833,
          -1.6925420918465717,
          -0.1307554580410991,
          -0.39774105359567025,
          -1.516011865561858,
          -0.5391143165355534,
          -1.1142859655918813,
          1.0551320487656342,
          -0.5717178581500568,
          -0.1073076890360471,
          -1.5270560562106272,
          -0.7899843365922449,
          -0.6356350799456826,
          -0.41468126319261245,
          1.6781806287486598,
          -0.33874390881565875,
          0.18609602799409797,
          -1.2338502645280391,
          0.10345221635878635,
          0.6586971927026098,
          0.5813188464153145,
          1.3837115433387472,
          -0.29753261872603187,
          -1.6128956978544893,
          -1.103081913031465,
          -0.15162181863861388,
          0.7316627867109841,
          -0.8665646320585265,
          -1.701661298481288,
          1.596184275190892,
          0.14494608879711593,
          -0.41603294033322546,
          0.9563325173459639,
          -0.30156389581498877,
          0.926333185290943,
          0.6631382639673186,
          0.39152621569100776,
          -0.5826926583224311,
          0.6255130281637811,
          -0.21940433600962406,
          -0.9505295760532173,
          -0.10707435083175479,
          0.37504647253794426,
          -0.7821664392300294,
          1.213031390357866,
          -0.009994398016467693,
          0.9894948390200397,
          -1.647259086231465,
          0.9233657259667436,
          0.17155861516031895
         ],
         "yaxis": "y4"
        },
        {
         "line": {
          "color": "rgba(128, 128, 128, 1.0)",
          "dash": "solid",
          "shape": "linear",
          "width": 1.3
         },
         "marker": {
          "size": 2,
          "symbol": "circle"
         },
         "mode": "markers",
         "name": "B",
         "text": "",
         "type": "scatter",
         "x": [
          0.48758791284167,
          -1.0945360538696463,
          -0.025109160636671034,
          0.5318438573072443,
          1.170821047816164,
          -1.0781069618216137,
          0.023929908721716072,
          -0.3341668073479446,
          0.15466770476350178,
          1.5446639151497434,
          1.4056054833842484,
          1.6261568763361154,
          -1.1227374435458701,
          0.28194097407828445,
          -0.682223671693977,
          -0.9562545728370384,
          -0.7209835661743308,
          -0.03317994654738412,
          0.5205553063310279,
          -1.1366028975811477,
          -0.9786485170200829,
          0.13548859544218975,
          -0.0009540853056883342,
          0.5979449535006777,
          1.1149531211625783,
          0.4283544325769933,
          -0.2411460571149065,
          -1.2870861552795327,
          0.03636844814017887,
          1.2075977330375478,
          -1.1535869763732076,
          1.0628415041799286,
          -1.0491639233442693,
          1.3811022114090363,
          -0.3613211905254392,
          -0.45890225542836116,
          -0.12162760141230262,
          -0.8396215800903595,
          -0.565381067065979,
          -3.4566182937067276,
          0.8993420377570022,
          0.2165974313829244,
          1.6103508033055005,
          0.0094913782519163,
          0.45531265282040323,
          0.6119558083278896,
          -0.2942946657226144,
          -1.2729657899992224,
          -0.3545189453227468,
          0.07805696223208544,
          -0.66178932419833,
          -1.6925420918465717,
          -0.1307554580410991,
          -0.39774105359567025,
          -1.516011865561858,
          -0.5391143165355534,
          -1.1142859655918813,
          1.0551320487656342,
          -0.5717178581500568,
          -0.1073076890360471,
          -1.5270560562106272,
          -0.7899843365922449,
          -0.6356350799456826,
          -0.41468126319261245,
          1.6781806287486598,
          -0.33874390881565875,
          0.18609602799409797,
          -1.2338502645280391,
          0.10345221635878635,
          0.6586971927026098,
          0.5813188464153145,
          1.3837115433387472,
          -0.29753261872603187,
          -1.6128956978544893,
          -1.103081913031465,
          -0.15162181863861388,
          0.7316627867109841,
          -0.8665646320585265,
          -1.701661298481288,
          1.596184275190892,
          0.14494608879711593,
          -0.41603294033322546,
          0.9563325173459639,
          -0.30156389581498877,
          0.926333185290943,
          0.6631382639673186,
          0.39152621569100776,
          -0.5826926583224311,
          0.6255130281637811,
          -0.21940433600962406,
          -0.9505295760532173,
          -0.10707435083175479,
          0.37504647253794426,
          -0.7821664392300294,
          1.213031390357866,
          -0.009994398016467693,
          0.9894948390200397,
          -1.647259086231465,
          0.9233657259667436,
          0.17155861516031895
         ],
         "xaxis": "x5",
         "y": [
          -0.3260093462636492,
          0.24999368535084174,
          0.23529007756177991,
          1.497738301294124,
          -1.9235211183341405,
          -2.0300951821002418,
          -0.8026053432036195,
          -0.062102401082379945,
          0.5733134985509706,
          -0.028200152143247094,
          0.5457366836861638,
          1.9105677035222017,
          -1.8510783961436936,
          1.8936264586473475,
          0.8455161682358032,
          0.08530004905902606,
          1.15547970626262,
          0.33241678821461357,
          0.8973896937867161,
          0.19756270998312664,
          -0.5551208869803647,
          -0.7141539274695231,
          0.009781143871655847,
          -0.7963514852359374,
          0.18435114594596597,
          -0.7236122806767714,
          -0.6268367864953104,
          -1.0069813144186306,
          -0.5997263961705249,
          0.2218092724149917,
          -1.170188533181909,
          -0.7686459812838211,
          -0.5673983196078344,
          1.5249329961718672,
          -2.1774022163390523,
          -0.16736496395437145,
          1.0228620924991214,
          0.3910535831520817,
          1.728288848550678,
          -0.009405137671356954,
          0.9241988728738655,
          0.44155721095505096,
          -0.22054721336042088,
          0.5781436798174855,
          -1.290605550402523,
          -0.8219921260635391,
          0.6672891466109183,
          -1.0544087228560581,
          0.8576970417953911,
          1.4773492966329609,
          -0.37563342720144566,
          1.2771642094219255,
          1.4113133544016951,
          -0.29750095974408886,
          -0.3162064319347066,
          1.188528108737439,
          0.579601446889555,
          -1.7869180545292704,
          0.6597949108832315,
          -0.0001365483231869348,
          1.1812217654383987,
          -0.039242310036225546,
          0.055462809310465856,
          -0.26055519934982774,
          0.6725828725192213,
          -0.5868956518865107,
          -0.36545184706978795,
          0.9293783772779497,
          -1.12768298608976,
          -0.6802463660504389,
          1.0337663943479858,
          -0.11482295289181627,
          -0.050142642112852305,
          -0.7605981670708353,
          1.1776341864268012,
          -1.046185183818184,
          -0.7725793465552173,
          -0.19141931620324604,
          -0.5627311353208561,
          -0.6551472073374759,
          0.1682953138174061,
          -1.219605336933295,
          1.1676004025006497,
          -1.729816895327089,
          0.7124705106659508,
          1.5236894135662393,
          -1.6321268418409738,
          -0.7707520544200946,
          -0.05597956411105408,
          0.16633345555002213,
          1.3749075858226854,
          0.7668818323383592,
          1.2292117573820642,
          -0.09963937439980546,
          1.8913086287611742,
          -0.13916805496855586,
          -0.8661975302049588,
          0.011535216890753078,
          1.2450592447021642,
          -2.211752092799134
         ],
         "yaxis": "y5"
        },
        {
         "histfunc": "count",
         "histnorm": "",
         "marker": {
          "color": "rgba(55, 128, 191, 1.0)",
          "line": {
           "color": "#4D5663",
           "width": 1.3
          }
         },
         "name": "B",
         "nbinsx": 10,
         "opacity": 0.8,
         "orientation": "v",
         "type": "histogram",
         "x": [
          -0.3260093462636492,
          0.24999368535084174,
          0.23529007756177991,
          1.497738301294124,
          -1.9235211183341405,
          -2.0300951821002418,
          -0.8026053432036195,
          -0.062102401082379945,
          0.5733134985509706,
          -0.028200152143247094,
          0.5457366836861638,
          1.9105677035222017,
          -1.8510783961436936,
          1.8936264586473475,
          0.8455161682358032,
          0.08530004905902606,
          1.15547970626262,
          0.33241678821461357,
          0.8973896937867161,
          0.19756270998312664,
          -0.5551208869803647,
          -0.7141539274695231,
          0.009781143871655847,
          -0.7963514852359374,
          0.18435114594596597,
          -0.7236122806767714,
          -0.6268367864953104,
          -1.0069813144186306,
          -0.5997263961705249,
          0.2218092724149917,
          -1.170188533181909,
          -0.7686459812838211,
          -0.5673983196078344,
          1.5249329961718672,
          -2.1774022163390523,
          -0.16736496395437145,
          1.0228620924991214,
          0.3910535831520817,
          1.728288848550678,
          -0.009405137671356954,
          0.9241988728738655,
          0.44155721095505096,
          -0.22054721336042088,
          0.5781436798174855,
          -1.290605550402523,
          -0.8219921260635391,
          0.6672891466109183,
          -1.0544087228560581,
          0.8576970417953911,
          1.4773492966329609,
          -0.37563342720144566,
          1.2771642094219255,
          1.4113133544016951,
          -0.29750095974408886,
          -0.3162064319347066,
          1.188528108737439,
          0.579601446889555,
          -1.7869180545292704,
          0.6597949108832315,
          -0.0001365483231869348,
          1.1812217654383987,
          -0.039242310036225546,
          0.055462809310465856,
          -0.26055519934982774,
          0.6725828725192213,
          -0.5868956518865107,
          -0.36545184706978795,
          0.9293783772779497,
          -1.12768298608976,
          -0.6802463660504389,
          1.0337663943479858,
          -0.11482295289181627,
          -0.050142642112852305,
          -0.7605981670708353,
          1.1776341864268012,
          -1.046185183818184,
          -0.7725793465552173,
          -0.19141931620324604,
          -0.5627311353208561,
          -0.6551472073374759,
          0.1682953138174061,
          -1.219605336933295,
          1.1676004025006497,
          -1.729816895327089,
          0.7124705106659508,
          1.5236894135662393,
          -1.6321268418409738,
          -0.7707520544200946,
          -0.05597956411105408,
          0.16633345555002213,
          1.3749075858226854,
          0.7668818323383592,
          1.2292117573820642,
          -0.09963937439980546,
          1.8913086287611742,
          -0.13916805496855586,
          -0.8661975302049588,
          0.011535216890753078,
          1.2450592447021642,
          -2.211752092799134
         ],
         "xaxis": "x6",
         "yaxis": "y6"
        },
        {
         "line": {
          "color": "rgba(128, 128, 128, 1.0)",
          "dash": "solid",
          "shape": "linear",
          "width": 1.3
         },
         "marker": {
          "size": 2,
          "symbol": "circle"
         },
         "mode": "markers",
         "name": "B",
         "text": "",
         "type": "scatter",
         "x": [
          -0.9215737996680481,
          0.24257794495661747,
          0.28730374971215455,
          0.14040275264155666,
          -0.01454372243547929,
          0.5701479887456785,
          -0.5913889393179355,
          -0.5391923903512743,
          -0.1268109615054854,
          0.8330285935502711,
          -0.45887812076157464,
          -0.9098656132168144,
          0.30937887086993643,
          -1.3173769403479854,
          1.1390528635745454,
          -0.054313980526728284,
          -0.06345952949402739,
          -1.1848137236310903,
          0.07638907718243115,
          -0.7575403986569592,
          1.7111419842743498,
          0.27368305370590473,
          -0.14455085058261638,
          0.035816694898625955,
          0.21415107397239885,
          1.9934432737074155,
          0.25865489493566746,
          -2.311189157953442,
          0.6209601156744055,
          0.7504779554943947,
          0.09748343837697022,
          0.17482346528953707,
          0.5823900490090388,
          1.1176691088840645,
          -0.15595798168684122,
          -0.39505494965702165,
          -0.43222799923157496,
          -0.021203250326226684,
          1.536868590901801,
          0.8289905654680133,
          0.920122027822724,
          0.7552087906910285,
          -0.4435526780625535,
          0.7533509524104882,
          -0.3163692824277632,
          -1.3740015077056968,
          1.4844837012254757,
          1.6989196256086767,
          0.21383303878010604,
          0.8903447804836941,
          -0.4811875074025367,
          -0.4083018305349428,
          1.5122987569757786,
          -3.456495150976108,
          -0.5078588732223014,
          -0.19091788141284483,
          0.07076357456210358,
          -1.1408201971843714,
          1.8997545762062136,
          0.09703976302099852,
          0.039703654766854495,
          1.0494411955167449,
          0.029929215098847543,
          1.7940867369711784,
          -1.4870984274296137,
          -0.6874900617646675,
          1.4365266243030386,
          0.0230165236855401,
          -0.3063837206223713,
          -2.659682030893965,
          1.2274792247016022,
          0.3119932445595903,
          1.2018157112787466,
          0.5033149695523894,
          -0.01920839903472686,
          0.15679949048063785,
          0.12213403014052661,
          -0.12491818968818347,
          0.9322611703529357,
          -0.32080906005630394,
          -1.9843429087528304,
          -2.1117410103351584,
          -0.9971293003585686,
          1.2539711506249005,
          -0.9705376358440737,
          1.110380938606927,
          -0.9658677901361647,
          -1.3794425991471915,
          -0.18429815818266237,
          -2.4709888143236496,
          2.0947893798665924,
          -0.3557969469360339,
          0.5337181750396833,
          0.12295132345624875,
          1.425546310958585,
          0.1999557525436834,
          -1.293395493776135,
          1.221242082392363,
          -0.7800515940717015,
          -0.4455096834649943
         ],
         "xaxis": "x7",
         "y": [
          -0.3260093462636492,
          0.24999368535084174,
          0.23529007756177991,
          1.497738301294124,
          -1.9235211183341405,
          -2.0300951821002418,
          -0.8026053432036195,
          -0.062102401082379945,
          0.5733134985509706,
          -0.028200152143247094,
          0.5457366836861638,
          1.9105677035222017,
          -1.8510783961436936,
          1.8936264586473475,
          0.8455161682358032,
          0.08530004905902606,
          1.15547970626262,
          0.33241678821461357,
          0.8973896937867161,
          0.19756270998312664,
          -0.5551208869803647,
          -0.7141539274695231,
          0.009781143871655847,
          -0.7963514852359374,
          0.18435114594596597,
          -0.7236122806767714,
          -0.6268367864953104,
          -1.0069813144186306,
          -0.5997263961705249,
          0.2218092724149917,
          -1.170188533181909,
          -0.7686459812838211,
          -0.5673983196078344,
          1.5249329961718672,
          -2.1774022163390523,
          -0.16736496395437145,
          1.0228620924991214,
          0.3910535831520817,
          1.728288848550678,
          -0.009405137671356954,
          0.9241988728738655,
          0.44155721095505096,
          -0.22054721336042088,
          0.5781436798174855,
          -1.290605550402523,
          -0.8219921260635391,
          0.6672891466109183,
          -1.0544087228560581,
          0.8576970417953911,
          1.4773492966329609,
          -0.37563342720144566,
          1.2771642094219255,
          1.4113133544016951,
          -0.29750095974408886,
          -0.3162064319347066,
          1.188528108737439,
          0.579601446889555,
          -1.7869180545292704,
          0.6597949108832315,
          -0.0001365483231869348,
          1.1812217654383987,
          -0.039242310036225546,
          0.055462809310465856,
          -0.26055519934982774,
          0.6725828725192213,
          -0.5868956518865107,
          -0.36545184706978795,
          0.9293783772779497,
          -1.12768298608976,
          -0.6802463660504389,
          1.0337663943479858,
          -0.11482295289181627,
          -0.050142642112852305,
          -0.7605981670708353,
          1.1776341864268012,
          -1.046185183818184,
          -0.7725793465552173,
          -0.19141931620324604,
          -0.5627311353208561,
          -0.6551472073374759,
          0.1682953138174061,
          -1.219605336933295,
          1.1676004025006497,
          -1.729816895327089,
          0.7124705106659508,
          1.5236894135662393,
          -1.6321268418409738,
          -0.7707520544200946,
          -0.05597956411105408,
          0.16633345555002213,
          1.3749075858226854,
          0.7668818323383592,
          1.2292117573820642,
          -0.09963937439980546,
          1.8913086287611742,
          -0.13916805496855586,
          -0.8661975302049588,
          0.011535216890753078,
          1.2450592447021642,
          -2.211752092799134
         ],
         "yaxis": "y7"
        },
        {
         "line": {
          "color": "rgba(128, 128, 128, 1.0)",
          "dash": "solid",
          "shape": "linear",
          "width": 1.3
         },
         "marker": {
          "size": 2,
          "symbol": "circle"
         },
         "mode": "markers",
         "name": "B",
         "text": "",
         "type": "scatter",
         "x": [
          -0.3732001785635488,
          0.02772057204258057,
          2.0780977673160814,
          1.3345213603864252,
          0.1694366973809169,
          -0.2684697638023764,
          -0.6082296092599212,
          0.6508892453079715,
          -0.4345062907402152,
          -0.5617920353885649,
          -0.587017228791666,
          -1.090602506962519,
          -0.47177082945853616,
          -0.5047968481345675,
          0.30674061235988115,
          -0.2580618267023648,
          1.213046387572064,
          -0.10336248572090953,
          1.2135641909949002,
          -0.29573781138810157,
          0.09265697441911201,
          1.181111268444659,
          0.9794260265187278,
          -0.2066609559336435,
          -1.4324849127349883,
          1.8973719521978711,
          -1.5770524954708642,
          -1.5233755285194996,
          -0.11954388695033413,
          0.408227044615286,
          -0.7943217801990868,
          -0.4074277029874315,
          -1.2964724531322758,
          1.3531820244255979,
          -0.10209548025668516,
          -3.962267411342711,
          0.3925374957693042,
          -1.5987574555527004,
          -0.015690786883268432,
          -1.3646431233639413,
          0.005367302494327931,
          -1.1544773552282033,
          0.6812441407429343,
          1.3980508128192732,
          -0.6960723365727628,
          0.8007104031685038,
          0.22814968085465678,
          0.39540184605719475,
          -0.6465850039640896,
          -0.49131677264646473,
          -1.7766857278277122,
          -0.5308430489637528,
          -0.4143386231020363,
          0.9564710084119504,
          -0.3110460476539002,
          1.8446499699453207,
          0.38994548400707324,
          -2.7684282902563084,
          -2.119079548307512,
          -0.1266261950522138,
          -0.45611608273969556,
          0.077912447832572,
          -0.21689984979054935,
          -0.7121695757676461,
          -0.3490408053170844,
          0.3906916972874522,
          -0.8297333159231602,
          -0.707490514149694,
          -1.2545296140226112,
          -0.05515145982340287,
          -0.40172092888359184,
          -1.8846250805252711,
          0.9566507481486777,
          1.6497778073533933,
          -1.4767802190660844,
          0.05283350103280196,
          -1.0329661785748872,
          0.5644947822224133,
          -3.2623765712883497,
          -0.050082748227648924,
          -0.31321634490070466,
          -1.0917145834668929,
          0.5450272060871032,
          -0.27725916223419866,
          -1.3544628542209094,
          -2.561107978279768,
          -0.29988417704474407,
          -0.08734822296629834,
          0.31378902477164194,
          -0.08316283323673339,
          -0.057673051473649005,
          -1.1827138584189956,
          -0.9354931234512995,
          0.5391231576807595,
          0.6683226564578738,
          1.4246185626652708,
          -0.250826647645536,
          -1.7472524156312297,
          0.0165326921674526,
          -0.07634791957043927
         ],
         "xaxis": "x8",
         "y": [
          -0.3260093462636492,
          0.24999368535084174,
          0.23529007756177991,
          1.497738301294124,
          -1.9235211183341405,
          -2.0300951821002418,
          -0.8026053432036195,
          -0.062102401082379945,
          0.5733134985509706,
          -0.028200152143247094,
          0.5457366836861638,
          1.9105677035222017,
          -1.8510783961436936,
          1.8936264586473475,
          0.8455161682358032,
          0.08530004905902606,
          1.15547970626262,
          0.33241678821461357,
          0.8973896937867161,
          0.19756270998312664,
          -0.5551208869803647,
          -0.7141539274695231,
          0.009781143871655847,
          -0.7963514852359374,
          0.18435114594596597,
          -0.7236122806767714,
          -0.6268367864953104,
          -1.0069813144186306,
          -0.5997263961705249,
          0.2218092724149917,
          -1.170188533181909,
          -0.7686459812838211,
          -0.5673983196078344,
          1.5249329961718672,
          -2.1774022163390523,
          -0.16736496395437145,
          1.0228620924991214,
          0.3910535831520817,
          1.728288848550678,
          -0.009405137671356954,
          0.9241988728738655,
          0.44155721095505096,
          -0.22054721336042088,
          0.5781436798174855,
          -1.290605550402523,
          -0.8219921260635391,
          0.6672891466109183,
          -1.0544087228560581,
          0.8576970417953911,
          1.4773492966329609,
          -0.37563342720144566,
          1.2771642094219255,
          1.4113133544016951,
          -0.29750095974408886,
          -0.3162064319347066,
          1.188528108737439,
          0.579601446889555,
          -1.7869180545292704,
          0.6597949108832315,
          -0.0001365483231869348,
          1.1812217654383987,
          -0.039242310036225546,
          0.055462809310465856,
          -0.26055519934982774,
          0.6725828725192213,
          -0.5868956518865107,
          -0.36545184706978795,
          0.9293783772779497,
          -1.12768298608976,
          -0.6802463660504389,
          1.0337663943479858,
          -0.11482295289181627,
          -0.050142642112852305,
          -0.7605981670708353,
          1.1776341864268012,
          -1.046185183818184,
          -0.7725793465552173,
          -0.19141931620324604,
          -0.5627311353208561,
          -0.6551472073374759,
          0.1682953138174061,
          -1.219605336933295,
          1.1676004025006497,
          -1.729816895327089,
          0.7124705106659508,
          1.5236894135662393,
          -1.6321268418409738,
          -0.7707520544200946,
          -0.05597956411105408,
          0.16633345555002213,
          1.3749075858226854,
          0.7668818323383592,
          1.2292117573820642,
          -0.09963937439980546,
          1.8913086287611742,
          -0.13916805496855586,
          -0.8661975302049588,
          0.011535216890753078,
          1.2450592447021642,
          -2.211752092799134
         ],
         "yaxis": "y8"
        },
        {
         "line": {
          "color": "rgba(128, 128, 128, 1.0)",
          "dash": "solid",
          "shape": "linear",
          "width": 1.3
         },
         "marker": {
          "size": 2,
          "symbol": "circle"
         },
         "mode": "markers",
         "name": "C",
         "text": "",
         "type": "scatter",
         "x": [
          0.48758791284167,
          -1.0945360538696463,
          -0.025109160636671034,
          0.5318438573072443,
          1.170821047816164,
          -1.0781069618216137,
          0.023929908721716072,
          -0.3341668073479446,
          0.15466770476350178,
          1.5446639151497434,
          1.4056054833842484,
          1.6261568763361154,
          -1.1227374435458701,
          0.28194097407828445,
          -0.682223671693977,
          -0.9562545728370384,
          -0.7209835661743308,
          -0.03317994654738412,
          0.5205553063310279,
          -1.1366028975811477,
          -0.9786485170200829,
          0.13548859544218975,
          -0.0009540853056883342,
          0.5979449535006777,
          1.1149531211625783,
          0.4283544325769933,
          -0.2411460571149065,
          -1.2870861552795327,
          0.03636844814017887,
          1.2075977330375478,
          -1.1535869763732076,
          1.0628415041799286,
          -1.0491639233442693,
          1.3811022114090363,
          -0.3613211905254392,
          -0.45890225542836116,
          -0.12162760141230262,
          -0.8396215800903595,
          -0.565381067065979,
          -3.4566182937067276,
          0.8993420377570022,
          0.2165974313829244,
          1.6103508033055005,
          0.0094913782519163,
          0.45531265282040323,
          0.6119558083278896,
          -0.2942946657226144,
          -1.2729657899992224,
          -0.3545189453227468,
          0.07805696223208544,
          -0.66178932419833,
          -1.6925420918465717,
          -0.1307554580410991,
          -0.39774105359567025,
          -1.516011865561858,
          -0.5391143165355534,
          -1.1142859655918813,
          1.0551320487656342,
          -0.5717178581500568,
          -0.1073076890360471,
          -1.5270560562106272,
          -0.7899843365922449,
          -0.6356350799456826,
          -0.41468126319261245,
          1.6781806287486598,
          -0.33874390881565875,
          0.18609602799409797,
          -1.2338502645280391,
          0.10345221635878635,
          0.6586971927026098,
          0.5813188464153145,
          1.3837115433387472,
          -0.29753261872603187,
          -1.6128956978544893,
          -1.103081913031465,
          -0.15162181863861388,
          0.7316627867109841,
          -0.8665646320585265,
          -1.701661298481288,
          1.596184275190892,
          0.14494608879711593,
          -0.41603294033322546,
          0.9563325173459639,
          -0.30156389581498877,
          0.926333185290943,
          0.6631382639673186,
          0.39152621569100776,
          -0.5826926583224311,
          0.6255130281637811,
          -0.21940433600962406,
          -0.9505295760532173,
          -0.10707435083175479,
          0.37504647253794426,
          -0.7821664392300294,
          1.213031390357866,
          -0.009994398016467693,
          0.9894948390200397,
          -1.647259086231465,
          0.9233657259667436,
          0.17155861516031895
         ],
         "xaxis": "x9",
         "y": [
          -0.9215737996680481,
          0.24257794495661747,
          0.28730374971215455,
          0.14040275264155666,
          -0.01454372243547929,
          0.5701479887456785,
          -0.5913889393179355,
          -0.5391923903512743,
          -0.1268109615054854,
          0.8330285935502711,
          -0.45887812076157464,
          -0.9098656132168144,
          0.30937887086993643,
          -1.3173769403479854,
          1.1390528635745454,
          -0.054313980526728284,
          -0.06345952949402739,
          -1.1848137236310903,
          0.07638907718243115,
          -0.7575403986569592,
          1.7111419842743498,
          0.27368305370590473,
          -0.14455085058261638,
          0.035816694898625955,
          0.21415107397239885,
          1.9934432737074155,
          0.25865489493566746,
          -2.311189157953442,
          0.6209601156744055,
          0.7504779554943947,
          0.09748343837697022,
          0.17482346528953707,
          0.5823900490090388,
          1.1176691088840645,
          -0.15595798168684122,
          -0.39505494965702165,
          -0.43222799923157496,
          -0.021203250326226684,
          1.536868590901801,
          0.8289905654680133,
          0.920122027822724,
          0.7552087906910285,
          -0.4435526780625535,
          0.7533509524104882,
          -0.3163692824277632,
          -1.3740015077056968,
          1.4844837012254757,
          1.6989196256086767,
          0.21383303878010604,
          0.8903447804836941,
          -0.4811875074025367,
          -0.4083018305349428,
          1.5122987569757786,
          -3.456495150976108,
          -0.5078588732223014,
          -0.19091788141284483,
          0.07076357456210358,
          -1.1408201971843714,
          1.8997545762062136,
          0.09703976302099852,
          0.039703654766854495,
          1.0494411955167449,
          0.029929215098847543,
          1.7940867369711784,
          -1.4870984274296137,
          -0.6874900617646675,
          1.4365266243030386,
          0.0230165236855401,
          -0.3063837206223713,
          -2.659682030893965,
          1.2274792247016022,
          0.3119932445595903,
          1.2018157112787466,
          0.5033149695523894,
          -0.01920839903472686,
          0.15679949048063785,
          0.12213403014052661,
          -0.12491818968818347,
          0.9322611703529357,
          -0.32080906005630394,
          -1.9843429087528304,
          -2.1117410103351584,
          -0.9971293003585686,
          1.2539711506249005,
          -0.9705376358440737,
          1.110380938606927,
          -0.9658677901361647,
          -1.3794425991471915,
          -0.18429815818266237,
          -2.4709888143236496,
          2.0947893798665924,
          -0.3557969469360339,
          0.5337181750396833,
          0.12295132345624875,
          1.425546310958585,
          0.1999557525436834,
          -1.293395493776135,
          1.221242082392363,
          -0.7800515940717015,
          -0.4455096834649943
         ],
         "yaxis": "y9"
        },
        {
         "line": {
          "color": "rgba(128, 128, 128, 1.0)",
          "dash": "solid",
          "shape": "linear",
          "width": 1.3
         },
         "marker": {
          "size": 2,
          "symbol": "circle"
         },
         "mode": "markers",
         "name": "C",
         "text": "",
         "type": "scatter",
         "x": [
          -0.3260093462636492,
          0.24999368535084174,
          0.23529007756177991,
          1.497738301294124,
          -1.9235211183341405,
          -2.0300951821002418,
          -0.8026053432036195,
          -0.062102401082379945,
          0.5733134985509706,
          -0.028200152143247094,
          0.5457366836861638,
          1.9105677035222017,
          -1.8510783961436936,
          1.8936264586473475,
          0.8455161682358032,
          0.08530004905902606,
          1.15547970626262,
          0.33241678821461357,
          0.8973896937867161,
          0.19756270998312664,
          -0.5551208869803647,
          -0.7141539274695231,
          0.009781143871655847,
          -0.7963514852359374,
          0.18435114594596597,
          -0.7236122806767714,
          -0.6268367864953104,
          -1.0069813144186306,
          -0.5997263961705249,
          0.2218092724149917,
          -1.170188533181909,
          -0.7686459812838211,
          -0.5673983196078344,
          1.5249329961718672,
          -2.1774022163390523,
          -0.16736496395437145,
          1.0228620924991214,
          0.3910535831520817,
          1.728288848550678,
          -0.009405137671356954,
          0.9241988728738655,
          0.44155721095505096,
          -0.22054721336042088,
          0.5781436798174855,
          -1.290605550402523,
          -0.8219921260635391,
          0.6672891466109183,
          -1.0544087228560581,
          0.8576970417953911,
          1.4773492966329609,
          -0.37563342720144566,
          1.2771642094219255,
          1.4113133544016951,
          -0.29750095974408886,
          -0.3162064319347066,
          1.188528108737439,
          0.579601446889555,
          -1.7869180545292704,
          0.6597949108832315,
          -0.0001365483231869348,
          1.1812217654383987,
          -0.039242310036225546,
          0.055462809310465856,
          -0.26055519934982774,
          0.6725828725192213,
          -0.5868956518865107,
          -0.36545184706978795,
          0.9293783772779497,
          -1.12768298608976,
          -0.6802463660504389,
          1.0337663943479858,
          -0.11482295289181627,
          -0.050142642112852305,
          -0.7605981670708353,
          1.1776341864268012,
          -1.046185183818184,
          -0.7725793465552173,
          -0.19141931620324604,
          -0.5627311353208561,
          -0.6551472073374759,
          0.1682953138174061,
          -1.219605336933295,
          1.1676004025006497,
          -1.729816895327089,
          0.7124705106659508,
          1.5236894135662393,
          -1.6321268418409738,
          -0.7707520544200946,
          -0.05597956411105408,
          0.16633345555002213,
          1.3749075858226854,
          0.7668818323383592,
          1.2292117573820642,
          -0.09963937439980546,
          1.8913086287611742,
          -0.13916805496855586,
          -0.8661975302049588,
          0.011535216890753078,
          1.2450592447021642,
          -2.211752092799134
         ],
         "xaxis": "x10",
         "y": [
          -0.9215737996680481,
          0.24257794495661747,
          0.28730374971215455,
          0.14040275264155666,
          -0.01454372243547929,
          0.5701479887456785,
          -0.5913889393179355,
          -0.5391923903512743,
          -0.1268109615054854,
          0.8330285935502711,
          -0.45887812076157464,
          -0.9098656132168144,
          0.30937887086993643,
          -1.3173769403479854,
          1.1390528635745454,
          -0.054313980526728284,
          -0.06345952949402739,
          -1.1848137236310903,
          0.07638907718243115,
          -0.7575403986569592,
          1.7111419842743498,
          0.27368305370590473,
          -0.14455085058261638,
          0.035816694898625955,
          0.21415107397239885,
          1.9934432737074155,
          0.25865489493566746,
          -2.311189157953442,
          0.6209601156744055,
          0.7504779554943947,
          0.09748343837697022,
          0.17482346528953707,
          0.5823900490090388,
          1.1176691088840645,
          -0.15595798168684122,
          -0.39505494965702165,
          -0.43222799923157496,
          -0.021203250326226684,
          1.536868590901801,
          0.8289905654680133,
          0.920122027822724,
          0.7552087906910285,
          -0.4435526780625535,
          0.7533509524104882,
          -0.3163692824277632,
          -1.3740015077056968,
          1.4844837012254757,
          1.6989196256086767,
          0.21383303878010604,
          0.8903447804836941,
          -0.4811875074025367,
          -0.4083018305349428,
          1.5122987569757786,
          -3.456495150976108,
          -0.5078588732223014,
          -0.19091788141284483,
          0.07076357456210358,
          -1.1408201971843714,
          1.8997545762062136,
          0.09703976302099852,
          0.039703654766854495,
          1.0494411955167449,
          0.029929215098847543,
          1.7940867369711784,
          -1.4870984274296137,
          -0.6874900617646675,
          1.4365266243030386,
          0.0230165236855401,
          -0.3063837206223713,
          -2.659682030893965,
          1.2274792247016022,
          0.3119932445595903,
          1.2018157112787466,
          0.5033149695523894,
          -0.01920839903472686,
          0.15679949048063785,
          0.12213403014052661,
          -0.12491818968818347,
          0.9322611703529357,
          -0.32080906005630394,
          -1.9843429087528304,
          -2.1117410103351584,
          -0.9971293003585686,
          1.2539711506249005,
          -0.9705376358440737,
          1.110380938606927,
          -0.9658677901361647,
          -1.3794425991471915,
          -0.18429815818266237,
          -2.4709888143236496,
          2.0947893798665924,
          -0.3557969469360339,
          0.5337181750396833,
          0.12295132345624875,
          1.425546310958585,
          0.1999557525436834,
          -1.293395493776135,
          1.221242082392363,
          -0.7800515940717015,
          -0.4455096834649943
         ],
         "yaxis": "y10"
        },
        {
         "histfunc": "count",
         "histnorm": "",
         "marker": {
          "color": "rgba(50, 171, 96, 1.0)",
          "line": {
           "color": "#4D5663",
           "width": 1.3
          }
         },
         "name": "C",
         "nbinsx": 10,
         "opacity": 0.8,
         "orientation": "v",
         "type": "histogram",
         "x": [
          -0.9215737996680481,
          0.24257794495661747,
          0.28730374971215455,
          0.14040275264155666,
          -0.01454372243547929,
          0.5701479887456785,
          -0.5913889393179355,
          -0.5391923903512743,
          -0.1268109615054854,
          0.8330285935502711,
          -0.45887812076157464,
          -0.9098656132168144,
          0.30937887086993643,
          -1.3173769403479854,
          1.1390528635745454,
          -0.054313980526728284,
          -0.06345952949402739,
          -1.1848137236310903,
          0.07638907718243115,
          -0.7575403986569592,
          1.7111419842743498,
          0.27368305370590473,
          -0.14455085058261638,
          0.035816694898625955,
          0.21415107397239885,
          1.9934432737074155,
          0.25865489493566746,
          -2.311189157953442,
          0.6209601156744055,
          0.7504779554943947,
          0.09748343837697022,
          0.17482346528953707,
          0.5823900490090388,
          1.1176691088840645,
          -0.15595798168684122,
          -0.39505494965702165,
          -0.43222799923157496,
          -0.021203250326226684,
          1.536868590901801,
          0.8289905654680133,
          0.920122027822724,
          0.7552087906910285,
          -0.4435526780625535,
          0.7533509524104882,
          -0.3163692824277632,
          -1.3740015077056968,
          1.4844837012254757,
          1.6989196256086767,
          0.21383303878010604,
          0.8903447804836941,
          -0.4811875074025367,
          -0.4083018305349428,
          1.5122987569757786,
          -3.456495150976108,
          -0.5078588732223014,
          -0.19091788141284483,
          0.07076357456210358,
          -1.1408201971843714,
          1.8997545762062136,
          0.09703976302099852,
          0.039703654766854495,
          1.0494411955167449,
          0.029929215098847543,
          1.7940867369711784,
          -1.4870984274296137,
          -0.6874900617646675,
          1.4365266243030386,
          0.0230165236855401,
          -0.3063837206223713,
          -2.659682030893965,
          1.2274792247016022,
          0.3119932445595903,
          1.2018157112787466,
          0.5033149695523894,
          -0.01920839903472686,
          0.15679949048063785,
          0.12213403014052661,
          -0.12491818968818347,
          0.9322611703529357,
          -0.32080906005630394,
          -1.9843429087528304,
          -2.1117410103351584,
          -0.9971293003585686,
          1.2539711506249005,
          -0.9705376358440737,
          1.110380938606927,
          -0.9658677901361647,
          -1.3794425991471915,
          -0.18429815818266237,
          -2.4709888143236496,
          2.0947893798665924,
          -0.3557969469360339,
          0.5337181750396833,
          0.12295132345624875,
          1.425546310958585,
          0.1999557525436834,
          -1.293395493776135,
          1.221242082392363,
          -0.7800515940717015,
          -0.4455096834649943
         ],
         "xaxis": "x11",
         "yaxis": "y11"
        },
        {
         "line": {
          "color": "rgba(128, 128, 128, 1.0)",
          "dash": "solid",
          "shape": "linear",
          "width": 1.3
         },
         "marker": {
          "size": 2,
          "symbol": "circle"
         },
         "mode": "markers",
         "name": "C",
         "text": "",
         "type": "scatter",
         "x": [
          -0.3732001785635488,
          0.02772057204258057,
          2.0780977673160814,
          1.3345213603864252,
          0.1694366973809169,
          -0.2684697638023764,
          -0.6082296092599212,
          0.6508892453079715,
          -0.4345062907402152,
          -0.5617920353885649,
          -0.587017228791666,
          -1.090602506962519,
          -0.47177082945853616,
          -0.5047968481345675,
          0.30674061235988115,
          -0.2580618267023648,
          1.213046387572064,
          -0.10336248572090953,
          1.2135641909949002,
          -0.29573781138810157,
          0.09265697441911201,
          1.181111268444659,
          0.9794260265187278,
          -0.2066609559336435,
          -1.4324849127349883,
          1.8973719521978711,
          -1.5770524954708642,
          -1.5233755285194996,
          -0.11954388695033413,
          0.408227044615286,
          -0.7943217801990868,
          -0.4074277029874315,
          -1.2964724531322758,
          1.3531820244255979,
          -0.10209548025668516,
          -3.962267411342711,
          0.3925374957693042,
          -1.5987574555527004,
          -0.015690786883268432,
          -1.3646431233639413,
          0.005367302494327931,
          -1.1544773552282033,
          0.6812441407429343,
          1.3980508128192732,
          -0.6960723365727628,
          0.8007104031685038,
          0.22814968085465678,
          0.39540184605719475,
          -0.6465850039640896,
          -0.49131677264646473,
          -1.7766857278277122,
          -0.5308430489637528,
          -0.4143386231020363,
          0.9564710084119504,
          -0.3110460476539002,
          1.8446499699453207,
          0.38994548400707324,
          -2.7684282902563084,
          -2.119079548307512,
          -0.1266261950522138,
          -0.45611608273969556,
          0.077912447832572,
          -0.21689984979054935,
          -0.7121695757676461,
          -0.3490408053170844,
          0.3906916972874522,
          -0.8297333159231602,
          -0.707490514149694,
          -1.2545296140226112,
          -0.05515145982340287,
          -0.40172092888359184,
          -1.8846250805252711,
          0.9566507481486777,
          1.6497778073533933,
          -1.4767802190660844,
          0.05283350103280196,
          -1.0329661785748872,
          0.5644947822224133,
          -3.2623765712883497,
          -0.050082748227648924,
          -0.31321634490070466,
          -1.0917145834668929,
          0.5450272060871032,
          -0.27725916223419866,
          -1.3544628542209094,
          -2.561107978279768,
          -0.29988417704474407,
          -0.08734822296629834,
          0.31378902477164194,
          -0.08316283323673339,
          -0.057673051473649005,
          -1.1827138584189956,
          -0.9354931234512995,
          0.5391231576807595,
          0.6683226564578738,
          1.4246185626652708,
          -0.250826647645536,
          -1.7472524156312297,
          0.0165326921674526,
          -0.07634791957043927
         ],
         "xaxis": "x12",
         "y": [
          -0.9215737996680481,
          0.24257794495661747,
          0.28730374971215455,
          0.14040275264155666,
          -0.01454372243547929,
          0.5701479887456785,
          -0.5913889393179355,
          -0.5391923903512743,
          -0.1268109615054854,
          0.8330285935502711,
          -0.45887812076157464,
          -0.9098656132168144,
          0.30937887086993643,
          -1.3173769403479854,
          1.1390528635745454,
          -0.054313980526728284,
          -0.06345952949402739,
          -1.1848137236310903,
          0.07638907718243115,
          -0.7575403986569592,
          1.7111419842743498,
          0.27368305370590473,
          -0.14455085058261638,
          0.035816694898625955,
          0.21415107397239885,
          1.9934432737074155,
          0.25865489493566746,
          -2.311189157953442,
          0.6209601156744055,
          0.7504779554943947,
          0.09748343837697022,
          0.17482346528953707,
          0.5823900490090388,
          1.1176691088840645,
          -0.15595798168684122,
          -0.39505494965702165,
          -0.43222799923157496,
          -0.021203250326226684,
          1.536868590901801,
          0.8289905654680133,
          0.920122027822724,
          0.7552087906910285,
          -0.4435526780625535,
          0.7533509524104882,
          -0.3163692824277632,
          -1.3740015077056968,
          1.4844837012254757,
          1.6989196256086767,
          0.21383303878010604,
          0.8903447804836941,
          -0.4811875074025367,
          -0.4083018305349428,
          1.5122987569757786,
          -3.456495150976108,
          -0.5078588732223014,
          -0.19091788141284483,
          0.07076357456210358,
          -1.1408201971843714,
          1.8997545762062136,
          0.09703976302099852,
          0.039703654766854495,
          1.0494411955167449,
          0.029929215098847543,
          1.7940867369711784,
          -1.4870984274296137,
          -0.6874900617646675,
          1.4365266243030386,
          0.0230165236855401,
          -0.3063837206223713,
          -2.659682030893965,
          1.2274792247016022,
          0.3119932445595903,
          1.2018157112787466,
          0.5033149695523894,
          -0.01920839903472686,
          0.15679949048063785,
          0.12213403014052661,
          -0.12491818968818347,
          0.9322611703529357,
          -0.32080906005630394,
          -1.9843429087528304,
          -2.1117410103351584,
          -0.9971293003585686,
          1.2539711506249005,
          -0.9705376358440737,
          1.110380938606927,
          -0.9658677901361647,
          -1.3794425991471915,
          -0.18429815818266237,
          -2.4709888143236496,
          2.0947893798665924,
          -0.3557969469360339,
          0.5337181750396833,
          0.12295132345624875,
          1.425546310958585,
          0.1999557525436834,
          -1.293395493776135,
          1.221242082392363,
          -0.7800515940717015,
          -0.4455096834649943
         ],
         "yaxis": "y12"
        },
        {
         "line": {
          "color": "rgba(128, 128, 128, 1.0)",
          "dash": "solid",
          "shape": "linear",
          "width": 1.3
         },
         "marker": {
          "size": 2,
          "symbol": "circle"
         },
         "mode": "markers",
         "name": "D",
         "text": "",
         "type": "scatter",
         "x": [
          0.48758791284167,
          -1.0945360538696463,
          -0.025109160636671034,
          0.5318438573072443,
          1.170821047816164,
          -1.0781069618216137,
          0.023929908721716072,
          -0.3341668073479446,
          0.15466770476350178,
          1.5446639151497434,
          1.4056054833842484,
          1.6261568763361154,
          -1.1227374435458701,
          0.28194097407828445,
          -0.682223671693977,
          -0.9562545728370384,
          -0.7209835661743308,
          -0.03317994654738412,
          0.5205553063310279,
          -1.1366028975811477,
          -0.9786485170200829,
          0.13548859544218975,
          -0.0009540853056883342,
          0.5979449535006777,
          1.1149531211625783,
          0.4283544325769933,
          -0.2411460571149065,
          -1.2870861552795327,
          0.03636844814017887,
          1.2075977330375478,
          -1.1535869763732076,
          1.0628415041799286,
          -1.0491639233442693,
          1.3811022114090363,
          -0.3613211905254392,
          -0.45890225542836116,
          -0.12162760141230262,
          -0.8396215800903595,
          -0.565381067065979,
          -3.4566182937067276,
          0.8993420377570022,
          0.2165974313829244,
          1.6103508033055005,
          0.0094913782519163,
          0.45531265282040323,
          0.6119558083278896,
          -0.2942946657226144,
          -1.2729657899992224,
          -0.3545189453227468,
          0.07805696223208544,
          -0.66178932419833,
          -1.6925420918465717,
          -0.1307554580410991,
          -0.39774105359567025,
          -1.516011865561858,
          -0.5391143165355534,
          -1.1142859655918813,
          1.0551320487656342,
          -0.5717178581500568,
          -0.1073076890360471,
          -1.5270560562106272,
          -0.7899843365922449,
          -0.6356350799456826,
          -0.41468126319261245,
          1.6781806287486598,
          -0.33874390881565875,
          0.18609602799409797,
          -1.2338502645280391,
          0.10345221635878635,
          0.6586971927026098,
          0.5813188464153145,
          1.3837115433387472,
          -0.29753261872603187,
          -1.6128956978544893,
          -1.103081913031465,
          -0.15162181863861388,
          0.7316627867109841,
          -0.8665646320585265,
          -1.701661298481288,
          1.596184275190892,
          0.14494608879711593,
          -0.41603294033322546,
          0.9563325173459639,
          -0.30156389581498877,
          0.926333185290943,
          0.6631382639673186,
          0.39152621569100776,
          -0.5826926583224311,
          0.6255130281637811,
          -0.21940433600962406,
          -0.9505295760532173,
          -0.10707435083175479,
          0.37504647253794426,
          -0.7821664392300294,
          1.213031390357866,
          -0.009994398016467693,
          0.9894948390200397,
          -1.647259086231465,
          0.9233657259667436,
          0.17155861516031895
         ],
         "xaxis": "x13",
         "y": [
          -0.3732001785635488,
          0.02772057204258057,
          2.0780977673160814,
          1.3345213603864252,
          0.1694366973809169,
          -0.2684697638023764,
          -0.6082296092599212,
          0.6508892453079715,
          -0.4345062907402152,
          -0.5617920353885649,
          -0.587017228791666,
          -1.090602506962519,
          -0.47177082945853616,
          -0.5047968481345675,
          0.30674061235988115,
          -0.2580618267023648,
          1.213046387572064,
          -0.10336248572090953,
          1.2135641909949002,
          -0.29573781138810157,
          0.09265697441911201,
          1.181111268444659,
          0.9794260265187278,
          -0.2066609559336435,
          -1.4324849127349883,
          1.8973719521978711,
          -1.5770524954708642,
          -1.5233755285194996,
          -0.11954388695033413,
          0.408227044615286,
          -0.7943217801990868,
          -0.4074277029874315,
          -1.2964724531322758,
          1.3531820244255979,
          -0.10209548025668516,
          -3.962267411342711,
          0.3925374957693042,
          -1.5987574555527004,
          -0.015690786883268432,
          -1.3646431233639413,
          0.005367302494327931,
          -1.1544773552282033,
          0.6812441407429343,
          1.3980508128192732,
          -0.6960723365727628,
          0.8007104031685038,
          0.22814968085465678,
          0.39540184605719475,
          -0.6465850039640896,
          -0.49131677264646473,
          -1.7766857278277122,
          -0.5308430489637528,
          -0.4143386231020363,
          0.9564710084119504,
          -0.3110460476539002,
          1.8446499699453207,
          0.38994548400707324,
          -2.7684282902563084,
          -2.119079548307512,
          -0.1266261950522138,
          -0.45611608273969556,
          0.077912447832572,
          -0.21689984979054935,
          -0.7121695757676461,
          -0.3490408053170844,
          0.3906916972874522,
          -0.8297333159231602,
          -0.707490514149694,
          -1.2545296140226112,
          -0.05515145982340287,
          -0.40172092888359184,
          -1.8846250805252711,
          0.9566507481486777,
          1.6497778073533933,
          -1.4767802190660844,
          0.05283350103280196,
          -1.0329661785748872,
          0.5644947822224133,
          -3.2623765712883497,
          -0.050082748227648924,
          -0.31321634490070466,
          -1.0917145834668929,
          0.5450272060871032,
          -0.27725916223419866,
          -1.3544628542209094,
          -2.561107978279768,
          -0.29988417704474407,
          -0.08734822296629834,
          0.31378902477164194,
          -0.08316283323673339,
          -0.057673051473649005,
          -1.1827138584189956,
          -0.9354931234512995,
          0.5391231576807595,
          0.6683226564578738,
          1.4246185626652708,
          -0.250826647645536,
          -1.7472524156312297,
          0.0165326921674526,
          -0.07634791957043927
         ],
         "yaxis": "y13"
        },
        {
         "line": {
          "color": "rgba(128, 128, 128, 1.0)",
          "dash": "solid",
          "shape": "linear",
          "width": 1.3
         },
         "marker": {
          "size": 2,
          "symbol": "circle"
         },
         "mode": "markers",
         "name": "D",
         "text": "",
         "type": "scatter",
         "x": [
          -0.3260093462636492,
          0.24999368535084174,
          0.23529007756177991,
          1.497738301294124,
          -1.9235211183341405,
          -2.0300951821002418,
          -0.8026053432036195,
          -0.062102401082379945,
          0.5733134985509706,
          -0.028200152143247094,
          0.5457366836861638,
          1.9105677035222017,
          -1.8510783961436936,
          1.8936264586473475,
          0.8455161682358032,
          0.08530004905902606,
          1.15547970626262,
          0.33241678821461357,
          0.8973896937867161,
          0.19756270998312664,
          -0.5551208869803647,
          -0.7141539274695231,
          0.009781143871655847,
          -0.7963514852359374,
          0.18435114594596597,
          -0.7236122806767714,
          -0.6268367864953104,
          -1.0069813144186306,
          -0.5997263961705249,
          0.2218092724149917,
          -1.170188533181909,
          -0.7686459812838211,
          -0.5673983196078344,
          1.5249329961718672,
          -2.1774022163390523,
          -0.16736496395437145,
          1.0228620924991214,
          0.3910535831520817,
          1.728288848550678,
          -0.009405137671356954,
          0.9241988728738655,
          0.44155721095505096,
          -0.22054721336042088,
          0.5781436798174855,
          -1.290605550402523,
          -0.8219921260635391,
          0.6672891466109183,
          -1.0544087228560581,
          0.8576970417953911,
          1.4773492966329609,
          -0.37563342720144566,
          1.2771642094219255,
          1.4113133544016951,
          -0.29750095974408886,
          -0.3162064319347066,
          1.188528108737439,
          0.579601446889555,
          -1.7869180545292704,
          0.6597949108832315,
          -0.0001365483231869348,
          1.1812217654383987,
          -0.039242310036225546,
          0.055462809310465856,
          -0.26055519934982774,
          0.6725828725192213,
          -0.5868956518865107,
          -0.36545184706978795,
          0.9293783772779497,
          -1.12768298608976,
          -0.6802463660504389,
          1.0337663943479858,
          -0.11482295289181627,
          -0.050142642112852305,
          -0.7605981670708353,
          1.1776341864268012,
          -1.046185183818184,
          -0.7725793465552173,
          -0.19141931620324604,
          -0.5627311353208561,
          -0.6551472073374759,
          0.1682953138174061,
          -1.219605336933295,
          1.1676004025006497,
          -1.729816895327089,
          0.7124705106659508,
          1.5236894135662393,
          -1.6321268418409738,
          -0.7707520544200946,
          -0.05597956411105408,
          0.16633345555002213,
          1.3749075858226854,
          0.7668818323383592,
          1.2292117573820642,
          -0.09963937439980546,
          1.8913086287611742,
          -0.13916805496855586,
          -0.8661975302049588,
          0.011535216890753078,
          1.2450592447021642,
          -2.211752092799134
         ],
         "xaxis": "x14",
         "y": [
          -0.3732001785635488,
          0.02772057204258057,
          2.0780977673160814,
          1.3345213603864252,
          0.1694366973809169,
          -0.2684697638023764,
          -0.6082296092599212,
          0.6508892453079715,
          -0.4345062907402152,
          -0.5617920353885649,
          -0.587017228791666,
          -1.090602506962519,
          -0.47177082945853616,
          -0.5047968481345675,
          0.30674061235988115,
          -0.2580618267023648,
          1.213046387572064,
          -0.10336248572090953,
          1.2135641909949002,
          -0.29573781138810157,
          0.09265697441911201,
          1.181111268444659,
          0.9794260265187278,
          -0.2066609559336435,
          -1.4324849127349883,
          1.8973719521978711,
          -1.5770524954708642,
          -1.5233755285194996,
          -0.11954388695033413,
          0.408227044615286,
          -0.7943217801990868,
          -0.4074277029874315,
          -1.2964724531322758,
          1.3531820244255979,
          -0.10209548025668516,
          -3.962267411342711,
          0.3925374957693042,
          -1.5987574555527004,
          -0.015690786883268432,
          -1.3646431233639413,
          0.005367302494327931,
          -1.1544773552282033,
          0.6812441407429343,
          1.3980508128192732,
          -0.6960723365727628,
          0.8007104031685038,
          0.22814968085465678,
          0.39540184605719475,
          -0.6465850039640896,
          -0.49131677264646473,
          -1.7766857278277122,
          -0.5308430489637528,
          -0.4143386231020363,
          0.9564710084119504,
          -0.3110460476539002,
          1.8446499699453207,
          0.38994548400707324,
          -2.7684282902563084,
          -2.119079548307512,
          -0.1266261950522138,
          -0.45611608273969556,
          0.077912447832572,
          -0.21689984979054935,
          -0.7121695757676461,
          -0.3490408053170844,
          0.3906916972874522,
          -0.8297333159231602,
          -0.707490514149694,
          -1.2545296140226112,
          -0.05515145982340287,
          -0.40172092888359184,
          -1.8846250805252711,
          0.9566507481486777,
          1.6497778073533933,
          -1.4767802190660844,
          0.05283350103280196,
          -1.0329661785748872,
          0.5644947822224133,
          -3.2623765712883497,
          -0.050082748227648924,
          -0.31321634490070466,
          -1.0917145834668929,
          0.5450272060871032,
          -0.27725916223419866,
          -1.3544628542209094,
          -2.561107978279768,
          -0.29988417704474407,
          -0.08734822296629834,
          0.31378902477164194,
          -0.08316283323673339,
          -0.057673051473649005,
          -1.1827138584189956,
          -0.9354931234512995,
          0.5391231576807595,
          0.6683226564578738,
          1.4246185626652708,
          -0.250826647645536,
          -1.7472524156312297,
          0.0165326921674526,
          -0.07634791957043927
         ],
         "yaxis": "y14"
        },
        {
         "line": {
          "color": "rgba(128, 128, 128, 1.0)",
          "dash": "solid",
          "shape": "linear",
          "width": 1.3
         },
         "marker": {
          "size": 2,
          "symbol": "circle"
         },
         "mode": "markers",
         "name": "D",
         "text": "",
         "type": "scatter",
         "x": [
          -0.9215737996680481,
          0.24257794495661747,
          0.28730374971215455,
          0.14040275264155666,
          -0.01454372243547929,
          0.5701479887456785,
          -0.5913889393179355,
          -0.5391923903512743,
          -0.1268109615054854,
          0.8330285935502711,
          -0.45887812076157464,
          -0.9098656132168144,
          0.30937887086993643,
          -1.3173769403479854,
          1.1390528635745454,
          -0.054313980526728284,
          -0.06345952949402739,
          -1.1848137236310903,
          0.07638907718243115,
          -0.7575403986569592,
          1.7111419842743498,
          0.27368305370590473,
          -0.14455085058261638,
          0.035816694898625955,
          0.21415107397239885,
          1.9934432737074155,
          0.25865489493566746,
          -2.311189157953442,
          0.6209601156744055,
          0.7504779554943947,
          0.09748343837697022,
          0.17482346528953707,
          0.5823900490090388,
          1.1176691088840645,
          -0.15595798168684122,
          -0.39505494965702165,
          -0.43222799923157496,
          -0.021203250326226684,
          1.536868590901801,
          0.8289905654680133,
          0.920122027822724,
          0.7552087906910285,
          -0.4435526780625535,
          0.7533509524104882,
          -0.3163692824277632,
          -1.3740015077056968,
          1.4844837012254757,
          1.6989196256086767,
          0.21383303878010604,
          0.8903447804836941,
          -0.4811875074025367,
          -0.4083018305349428,
          1.5122987569757786,
          -3.456495150976108,
          -0.5078588732223014,
          -0.19091788141284483,
          0.07076357456210358,
          -1.1408201971843714,
          1.8997545762062136,
          0.09703976302099852,
          0.039703654766854495,
          1.0494411955167449,
          0.029929215098847543,
          1.7940867369711784,
          -1.4870984274296137,
          -0.6874900617646675,
          1.4365266243030386,
          0.0230165236855401,
          -0.3063837206223713,
          -2.659682030893965,
          1.2274792247016022,
          0.3119932445595903,
          1.2018157112787466,
          0.5033149695523894,
          -0.01920839903472686,
          0.15679949048063785,
          0.12213403014052661,
          -0.12491818968818347,
          0.9322611703529357,
          -0.32080906005630394,
          -1.9843429087528304,
          -2.1117410103351584,
          -0.9971293003585686,
          1.2539711506249005,
          -0.9705376358440737,
          1.110380938606927,
          -0.9658677901361647,
          -1.3794425991471915,
          -0.18429815818266237,
          -2.4709888143236496,
          2.0947893798665924,
          -0.3557969469360339,
          0.5337181750396833,
          0.12295132345624875,
          1.425546310958585,
          0.1999557525436834,
          -1.293395493776135,
          1.221242082392363,
          -0.7800515940717015,
          -0.4455096834649943
         ],
         "xaxis": "x15",
         "y": [
          -0.3732001785635488,
          0.02772057204258057,
          2.0780977673160814,
          1.3345213603864252,
          0.1694366973809169,
          -0.2684697638023764,
          -0.6082296092599212,
          0.6508892453079715,
          -0.4345062907402152,
          -0.5617920353885649,
          -0.587017228791666,
          -1.090602506962519,
          -0.47177082945853616,
          -0.5047968481345675,
          0.30674061235988115,
          -0.2580618267023648,
          1.213046387572064,
          -0.10336248572090953,
          1.2135641909949002,
          -0.29573781138810157,
          0.09265697441911201,
          1.181111268444659,
          0.9794260265187278,
          -0.2066609559336435,
          -1.4324849127349883,
          1.8973719521978711,
          -1.5770524954708642,
          -1.5233755285194996,
          -0.11954388695033413,
          0.408227044615286,
          -0.7943217801990868,
          -0.4074277029874315,
          -1.2964724531322758,
          1.3531820244255979,
          -0.10209548025668516,
          -3.962267411342711,
          0.3925374957693042,
          -1.5987574555527004,
          -0.015690786883268432,
          -1.3646431233639413,
          0.005367302494327931,
          -1.1544773552282033,
          0.6812441407429343,
          1.3980508128192732,
          -0.6960723365727628,
          0.8007104031685038,
          0.22814968085465678,
          0.39540184605719475,
          -0.6465850039640896,
          -0.49131677264646473,
          -1.7766857278277122,
          -0.5308430489637528,
          -0.4143386231020363,
          0.9564710084119504,
          -0.3110460476539002,
          1.8446499699453207,
          0.38994548400707324,
          -2.7684282902563084,
          -2.119079548307512,
          -0.1266261950522138,
          -0.45611608273969556,
          0.077912447832572,
          -0.21689984979054935,
          -0.7121695757676461,
          -0.3490408053170844,
          0.3906916972874522,
          -0.8297333159231602,
          -0.707490514149694,
          -1.2545296140226112,
          -0.05515145982340287,
          -0.40172092888359184,
          -1.8846250805252711,
          0.9566507481486777,
          1.6497778073533933,
          -1.4767802190660844,
          0.05283350103280196,
          -1.0329661785748872,
          0.5644947822224133,
          -3.2623765712883497,
          -0.050082748227648924,
          -0.31321634490070466,
          -1.0917145834668929,
          0.5450272060871032,
          -0.27725916223419866,
          -1.3544628542209094,
          -2.561107978279768,
          -0.29988417704474407,
          -0.08734822296629834,
          0.31378902477164194,
          -0.08316283323673339,
          -0.057673051473649005,
          -1.1827138584189956,
          -0.9354931234512995,
          0.5391231576807595,
          0.6683226564578738,
          1.4246185626652708,
          -0.250826647645536,
          -1.7472524156312297,
          0.0165326921674526,
          -0.07634791957043927
         ],
         "yaxis": "y15"
        },
        {
         "histfunc": "count",
         "histnorm": "",
         "marker": {
          "color": "rgba(128, 0, 128, 1.0)",
          "line": {
           "color": "#4D5663",
           "width": 1.3
          }
         },
         "name": "D",
         "nbinsx": 10,
         "opacity": 0.8,
         "orientation": "v",
         "type": "histogram",
         "x": [
          -0.3732001785635488,
          0.02772057204258057,
          2.0780977673160814,
          1.3345213603864252,
          0.1694366973809169,
          -0.2684697638023764,
          -0.6082296092599212,
          0.6508892453079715,
          -0.4345062907402152,
          -0.5617920353885649,
          -0.587017228791666,
          -1.090602506962519,
          -0.47177082945853616,
          -0.5047968481345675,
          0.30674061235988115,
          -0.2580618267023648,
          1.213046387572064,
          -0.10336248572090953,
          1.2135641909949002,
          -0.29573781138810157,
          0.09265697441911201,
          1.181111268444659,
          0.9794260265187278,
          -0.2066609559336435,
          -1.4324849127349883,
          1.8973719521978711,
          -1.5770524954708642,
          -1.5233755285194996,
          -0.11954388695033413,
          0.408227044615286,
          -0.7943217801990868,
          -0.4074277029874315,
          -1.2964724531322758,
          1.3531820244255979,
          -0.10209548025668516,
          -3.962267411342711,
          0.3925374957693042,
          -1.5987574555527004,
          -0.015690786883268432,
          -1.3646431233639413,
          0.005367302494327931,
          -1.1544773552282033,
          0.6812441407429343,
          1.3980508128192732,
          -0.6960723365727628,
          0.8007104031685038,
          0.22814968085465678,
          0.39540184605719475,
          -0.6465850039640896,
          -0.49131677264646473,
          -1.7766857278277122,
          -0.5308430489637528,
          -0.4143386231020363,
          0.9564710084119504,
          -0.3110460476539002,
          1.8446499699453207,
          0.38994548400707324,
          -2.7684282902563084,
          -2.119079548307512,
          -0.1266261950522138,
          -0.45611608273969556,
          0.077912447832572,
          -0.21689984979054935,
          -0.7121695757676461,
          -0.3490408053170844,
          0.3906916972874522,
          -0.8297333159231602,
          -0.707490514149694,
          -1.2545296140226112,
          -0.05515145982340287,
          -0.40172092888359184,
          -1.8846250805252711,
          0.9566507481486777,
          1.6497778073533933,
          -1.4767802190660844,
          0.05283350103280196,
          -1.0329661785748872,
          0.5644947822224133,
          -3.2623765712883497,
          -0.050082748227648924,
          -0.31321634490070466,
          -1.0917145834668929,
          0.5450272060871032,
          -0.27725916223419866,
          -1.3544628542209094,
          -2.561107978279768,
          -0.29988417704474407,
          -0.08734822296629834,
          0.31378902477164194,
          -0.08316283323673339,
          -0.057673051473649005,
          -1.1827138584189956,
          -0.9354931234512995,
          0.5391231576807595,
          0.6683226564578738,
          1.4246185626652708,
          -0.250826647645536,
          -1.7472524156312297,
          0.0165326921674526,
          -0.07634791957043927
         ],
         "xaxis": "x16",
         "yaxis": "y16"
        }
       ],
       "layout": {
        "bargap": 0.02,
        "legend": {
         "bgcolor": "#F5F6F9",
         "font": {
          "color": "#4D5663"
         }
        },
        "paper_bgcolor": "#F5F6F9",
        "plot_bgcolor": "#F5F6F9",
        "showlegend": false,
        "template": {
         "data": {
          "bar": [
           {
            "error_x": {
             "color": "#2a3f5f"
            },
            "error_y": {
             "color": "#2a3f5f"
            },
            "marker": {
             "line": {
              "color": "#E5ECF6",
              "width": 0.5
             }
            },
            "type": "bar"
           }
          ],
          "barpolar": [
           {
            "marker": {
             "line": {
              "color": "#E5ECF6",
              "width": 0.5
             }
            },
            "type": "barpolar"
           }
          ],
          "carpet": [
           {
            "aaxis": {
             "endlinecolor": "#2a3f5f",
             "gridcolor": "white",
             "linecolor": "white",
             "minorgridcolor": "white",
             "startlinecolor": "#2a3f5f"
            },
            "baxis": {
             "endlinecolor": "#2a3f5f",
             "gridcolor": "white",
             "linecolor": "white",
             "minorgridcolor": "white",
             "startlinecolor": "#2a3f5f"
            },
            "type": "carpet"
           }
          ],
          "choropleth": [
           {
            "colorbar": {
             "outlinewidth": 0,
             "ticks": ""
            },
            "type": "choropleth"
           }
          ],
          "contour": [
           {
            "colorbar": {
             "outlinewidth": 0,
             "ticks": ""
            },
            "colorscale": [
             [
              0,
              "#0d0887"
             ],
             [
              0.1111111111111111,
              "#46039f"
             ],
             [
              0.2222222222222222,
              "#7201a8"
             ],
             [
              0.3333333333333333,
              "#9c179e"
             ],
             [
              0.4444444444444444,
              "#bd3786"
             ],
             [
              0.5555555555555556,
              "#d8576b"
             ],
             [
              0.6666666666666666,
              "#ed7953"
             ],
             [
              0.7777777777777778,
              "#fb9f3a"
             ],
             [
              0.8888888888888888,
              "#fdca26"
             ],
             [
              1,
              "#f0f921"
             ]
            ],
            "type": "contour"
           }
          ],
          "contourcarpet": [
           {
            "colorbar": {
             "outlinewidth": 0,
             "ticks": ""
            },
            "type": "contourcarpet"
           }
          ],
          "heatmap": [
           {
            "colorbar": {
             "outlinewidth": 0,
             "ticks": ""
            },
            "colorscale": [
             [
              0,
              "#0d0887"
             ],
             [
              0.1111111111111111,
              "#46039f"
             ],
             [
              0.2222222222222222,
              "#7201a8"
             ],
             [
              0.3333333333333333,
              "#9c179e"
             ],
             [
              0.4444444444444444,
              "#bd3786"
             ],
             [
              0.5555555555555556,
              "#d8576b"
             ],
             [
              0.6666666666666666,
              "#ed7953"
             ],
             [
              0.7777777777777778,
              "#fb9f3a"
             ],
             [
              0.8888888888888888,
              "#fdca26"
             ],
             [
              1,
              "#f0f921"
             ]
            ],
            "type": "heatmap"
           }
          ],
          "heatmapgl": [
           {
            "colorbar": {
             "outlinewidth": 0,
             "ticks": ""
            },
            "colorscale": [
             [
              0,
              "#0d0887"
             ],
             [
              0.1111111111111111,
              "#46039f"
             ],
             [
              0.2222222222222222,
              "#7201a8"
             ],
             [
              0.3333333333333333,
              "#9c179e"
             ],
             [
              0.4444444444444444,
              "#bd3786"
             ],
             [
              0.5555555555555556,
              "#d8576b"
             ],
             [
              0.6666666666666666,
              "#ed7953"
             ],
             [
              0.7777777777777778,
              "#fb9f3a"
             ],
             [
              0.8888888888888888,
              "#fdca26"
             ],
             [
              1,
              "#f0f921"
             ]
            ],
            "type": "heatmapgl"
           }
          ],
          "histogram": [
           {
            "marker": {
             "colorbar": {
              "outlinewidth": 0,
              "ticks": ""
             }
            },
            "type": "histogram"
           }
          ],
          "histogram2d": [
           {
            "colorbar": {
             "outlinewidth": 0,
             "ticks": ""
            },
            "colorscale": [
             [
              0,
              "#0d0887"
             ],
             [
              0.1111111111111111,
              "#46039f"
             ],
             [
              0.2222222222222222,
              "#7201a8"
             ],
             [
              0.3333333333333333,
              "#9c179e"
             ],
             [
              0.4444444444444444,
              "#bd3786"
             ],
             [
              0.5555555555555556,
              "#d8576b"
             ],
             [
              0.6666666666666666,
              "#ed7953"
             ],
             [
              0.7777777777777778,
              "#fb9f3a"
             ],
             [
              0.8888888888888888,
              "#fdca26"
             ],
             [
              1,
              "#f0f921"
             ]
            ],
            "type": "histogram2d"
           }
          ],
          "histogram2dcontour": [
           {
            "colorbar": {
             "outlinewidth": 0,
             "ticks": ""
            },
            "colorscale": [
             [
              0,
              "#0d0887"
             ],
             [
              0.1111111111111111,
              "#46039f"
             ],
             [
              0.2222222222222222,
              "#7201a8"
             ],
             [
              0.3333333333333333,
              "#9c179e"
             ],
             [
              0.4444444444444444,
              "#bd3786"
             ],
             [
              0.5555555555555556,
              "#d8576b"
             ],
             [
              0.6666666666666666,
              "#ed7953"
             ],
             [
              0.7777777777777778,
              "#fb9f3a"
             ],
             [
              0.8888888888888888,
              "#fdca26"
             ],
             [
              1,
              "#f0f921"
             ]
            ],
            "type": "histogram2dcontour"
           }
          ],
          "mesh3d": [
           {
            "colorbar": {
             "outlinewidth": 0,
             "ticks": ""
            },
            "type": "mesh3d"
           }
          ],
          "parcoords": [
           {
            "line": {
             "colorbar": {
              "outlinewidth": 0,
              "ticks": ""
             }
            },
            "type": "parcoords"
           }
          ],
          "pie": [
           {
            "automargin": true,
            "type": "pie"
           }
          ],
          "scatter": [
           {
            "marker": {
             "colorbar": {
              "outlinewidth": 0,
              "ticks": ""
             }
            },
            "type": "scatter"
           }
          ],
          "scatter3d": [
           {
            "line": {
             "colorbar": {
              "outlinewidth": 0,
              "ticks": ""
             }
            },
            "marker": {
             "colorbar": {
              "outlinewidth": 0,
              "ticks": ""
             }
            },
            "type": "scatter3d"
           }
          ],
          "scattercarpet": [
           {
            "marker": {
             "colorbar": {
              "outlinewidth": 0,
              "ticks": ""
             }
            },
            "type": "scattercarpet"
           }
          ],
          "scattergeo": [
           {
            "marker": {
             "colorbar": {
              "outlinewidth": 0,
              "ticks": ""
             }
            },
            "type": "scattergeo"
           }
          ],
          "scattergl": [
           {
            "marker": {
             "colorbar": {
              "outlinewidth": 0,
              "ticks": ""
             }
            },
            "type": "scattergl"
           }
          ],
          "scattermapbox": [
           {
            "marker": {
             "colorbar": {
              "outlinewidth": 0,
              "ticks": ""
             }
            },
            "type": "scattermapbox"
           }
          ],
          "scatterpolar": [
           {
            "marker": {
             "colorbar": {
              "outlinewidth": 0,
              "ticks": ""
             }
            },
            "type": "scatterpolar"
           }
          ],
          "scatterpolargl": [
           {
            "marker": {
             "colorbar": {
              "outlinewidth": 0,
              "ticks": ""
             }
            },
            "type": "scatterpolargl"
           }
          ],
          "scatterternary": [
           {
            "marker": {
             "colorbar": {
              "outlinewidth": 0,
              "ticks": ""
             }
            },
            "type": "scatterternary"
           }
          ],
          "surface": [
           {
            "colorbar": {
             "outlinewidth": 0,
             "ticks": ""
            },
            "colorscale": [
             [
              0,
              "#0d0887"
             ],
             [
              0.1111111111111111,
              "#46039f"
             ],
             [
              0.2222222222222222,
              "#7201a8"
             ],
             [
              0.3333333333333333,
              "#9c179e"
             ],
             [
              0.4444444444444444,
              "#bd3786"
             ],
             [
              0.5555555555555556,
              "#d8576b"
             ],
             [
              0.6666666666666666,
              "#ed7953"
             ],
             [
              0.7777777777777778,
              "#fb9f3a"
             ],
             [
              0.8888888888888888,
              "#fdca26"
             ],
             [
              1,
              "#f0f921"
             ]
            ],
            "type": "surface"
           }
          ],
          "table": [
           {
            "cells": {
             "fill": {
              "color": "#EBF0F8"
             },
             "line": {
              "color": "white"
             }
            },
            "header": {
             "fill": {
              "color": "#C8D4E3"
             },
             "line": {
              "color": "white"
             }
            },
            "type": "table"
           }
          ]
         },
         "layout": {
          "annotationdefaults": {
           "arrowcolor": "#2a3f5f",
           "arrowhead": 0,
           "arrowwidth": 1
          },
          "coloraxis": {
           "colorbar": {
            "outlinewidth": 0,
            "ticks": ""
           }
          },
          "colorscale": {
           "diverging": [
            [
             0,
             "#8e0152"
            ],
            [
             0.1,
             "#c51b7d"
            ],
            [
             0.2,
             "#de77ae"
            ],
            [
             0.3,
             "#f1b6da"
            ],
            [
             0.4,
             "#fde0ef"
            ],
            [
             0.5,
             "#f7f7f7"
            ],
            [
             0.6,
             "#e6f5d0"
            ],
            [
             0.7,
             "#b8e186"
            ],
            [
             0.8,
             "#7fbc41"
            ],
            [
             0.9,
             "#4d9221"
            ],
            [
             1,
             "#276419"
            ]
           ],
           "sequential": [
            [
             0,
             "#0d0887"
            ],
            [
             0.1111111111111111,
             "#46039f"
            ],
            [
             0.2222222222222222,
             "#7201a8"
            ],
            [
             0.3333333333333333,
             "#9c179e"
            ],
            [
             0.4444444444444444,
             "#bd3786"
            ],
            [
             0.5555555555555556,
             "#d8576b"
            ],
            [
             0.6666666666666666,
             "#ed7953"
            ],
            [
             0.7777777777777778,
             "#fb9f3a"
            ],
            [
             0.8888888888888888,
             "#fdca26"
            ],
            [
             1,
             "#f0f921"
            ]
           ],
           "sequentialminus": [
            [
             0,
             "#0d0887"
            ],
            [
             0.1111111111111111,
             "#46039f"
            ],
            [
             0.2222222222222222,
             "#7201a8"
            ],
            [
             0.3333333333333333,
             "#9c179e"
            ],
            [
             0.4444444444444444,
             "#bd3786"
            ],
            [
             0.5555555555555556,
             "#d8576b"
            ],
            [
             0.6666666666666666,
             "#ed7953"
            ],
            [
             0.7777777777777778,
             "#fb9f3a"
            ],
            [
             0.8888888888888888,
             "#fdca26"
            ],
            [
             1,
             "#f0f921"
            ]
           ]
          },
          "colorway": [
           "#636efa",
           "#EF553B",
           "#00cc96",
           "#ab63fa",
           "#FFA15A",
           "#19d3f3",
           "#FF6692",
           "#B6E880",
           "#FF97FF",
           "#FECB52"
          ],
          "font": {
           "color": "#2a3f5f"
          },
          "geo": {
           "bgcolor": "white",
           "lakecolor": "white",
           "landcolor": "#E5ECF6",
           "showlakes": true,
           "showland": true,
           "subunitcolor": "white"
          },
          "hoverlabel": {
           "align": "left"
          },
          "hovermode": "closest",
          "mapbox": {
           "style": "light"
          },
          "paper_bgcolor": "white",
          "plot_bgcolor": "#E5ECF6",
          "polar": {
           "angularaxis": {
            "gridcolor": "white",
            "linecolor": "white",
            "ticks": ""
           },
           "bgcolor": "#E5ECF6",
           "radialaxis": {
            "gridcolor": "white",
            "linecolor": "white",
            "ticks": ""
           }
          },
          "scene": {
           "xaxis": {
            "backgroundcolor": "#E5ECF6",
            "gridcolor": "white",
            "gridwidth": 2,
            "linecolor": "white",
            "showbackground": true,
            "ticks": "",
            "zerolinecolor": "white"
           },
           "yaxis": {
            "backgroundcolor": "#E5ECF6",
            "gridcolor": "white",
            "gridwidth": 2,
            "linecolor": "white",
            "showbackground": true,
            "ticks": "",
            "zerolinecolor": "white"
           },
           "zaxis": {
            "backgroundcolor": "#E5ECF6",
            "gridcolor": "white",
            "gridwidth": 2,
            "linecolor": "white",
            "showbackground": true,
            "ticks": "",
            "zerolinecolor": "white"
           }
          },
          "shapedefaults": {
           "line": {
            "color": "#2a3f5f"
           }
          },
          "ternary": {
           "aaxis": {
            "gridcolor": "white",
            "linecolor": "white",
            "ticks": ""
           },
           "baxis": {
            "gridcolor": "white",
            "linecolor": "white",
            "ticks": ""
           },
           "bgcolor": "#E5ECF6",
           "caxis": {
            "gridcolor": "white",
            "linecolor": "white",
            "ticks": ""
           }
          },
          "title": {
           "x": 0.05
          },
          "xaxis": {
           "automargin": true,
           "gridcolor": "white",
           "linecolor": "white",
           "ticks": "",
           "title": {
            "standoff": 15
           },
           "zerolinecolor": "white",
           "zerolinewidth": 2
          },
          "yaxis": {
           "automargin": true,
           "gridcolor": "white",
           "linecolor": "white",
           "ticks": "",
           "title": {
            "standoff": 15
           },
           "zerolinecolor": "white",
           "zerolinewidth": 2
          }
         }
        },
        "title": {
         "font": {
          "color": "#4D5663"
         }
        },
        "xaxis": {
         "anchor": "y",
         "domain": [
          0,
          0.2125
         ],
         "gridcolor": "#E1E5ED",
         "showgrid": false,
         "tickfont": {
          "color": "#4D5663"
         },
         "title": {
          "font": {
           "color": "#4D5663"
          },
          "text": ""
         },
         "zerolinecolor": "#E1E5ED"
        },
        "xaxis10": {
         "anchor": "y10",
         "domain": [
          0.2625,
          0.475
         ],
         "gridcolor": "#E1E5ED",
         "showgrid": false,
         "tickfont": {
          "color": "#4D5663"
         },
         "title": {
          "font": {
           "color": "#4D5663"
          },
          "text": ""
         },
         "zerolinecolor": "#E1E5ED"
        },
        "xaxis11": {
         "anchor": "y11",
         "domain": [
          0.525,
          0.7375
         ],
         "gridcolor": "#E1E5ED",
         "showgrid": false,
         "tickfont": {
          "color": "#4D5663"
         },
         "title": {
          "font": {
           "color": "#4D5663"
          },
          "text": ""
         },
         "zerolinecolor": "#E1E5ED"
        },
        "xaxis12": {
         "anchor": "y12",
         "domain": [
          0.7875,
          1
         ],
         "gridcolor": "#E1E5ED",
         "showgrid": false,
         "tickfont": {
          "color": "#4D5663"
         },
         "title": {
          "font": {
           "color": "#4D5663"
          },
          "text": ""
         },
         "zerolinecolor": "#E1E5ED"
        },
        "xaxis13": {
         "anchor": "y13",
         "domain": [
          0,
          0.2125
         ],
         "gridcolor": "#E1E5ED",
         "showgrid": false,
         "tickfont": {
          "color": "#4D5663"
         },
         "title": {
          "font": {
           "color": "#4D5663"
          },
          "text": ""
         },
         "zerolinecolor": "#E1E5ED"
        },
        "xaxis14": {
         "anchor": "y14",
         "domain": [
          0.2625,
          0.475
         ],
         "gridcolor": "#E1E5ED",
         "showgrid": false,
         "tickfont": {
          "color": "#4D5663"
         },
         "title": {
          "font": {
           "color": "#4D5663"
          },
          "text": ""
         },
         "zerolinecolor": "#E1E5ED"
        },
        "xaxis15": {
         "anchor": "y15",
         "domain": [
          0.525,
          0.7375
         ],
         "gridcolor": "#E1E5ED",
         "showgrid": false,
         "tickfont": {
          "color": "#4D5663"
         },
         "title": {
          "font": {
           "color": "#4D5663"
          },
          "text": ""
         },
         "zerolinecolor": "#E1E5ED"
        },
        "xaxis16": {
         "anchor": "y16",
         "domain": [
          0.7875,
          1
         ],
         "gridcolor": "#E1E5ED",
         "showgrid": false,
         "tickfont": {
          "color": "#4D5663"
         },
         "title": {
          "font": {
           "color": "#4D5663"
          },
          "text": ""
         },
         "zerolinecolor": "#E1E5ED"
        },
        "xaxis2": {
         "anchor": "y2",
         "domain": [
          0.2625,
          0.475
         ],
         "gridcolor": "#E1E5ED",
         "showgrid": false,
         "tickfont": {
          "color": "#4D5663"
         },
         "title": {
          "font": {
           "color": "#4D5663"
          },
          "text": ""
         },
         "zerolinecolor": "#E1E5ED"
        },
        "xaxis3": {
         "anchor": "y3",
         "domain": [
          0.525,
          0.7375
         ],
         "gridcolor": "#E1E5ED",
         "showgrid": false,
         "tickfont": {
          "color": "#4D5663"
         },
         "title": {
          "font": {
           "color": "#4D5663"
          },
          "text": ""
         },
         "zerolinecolor": "#E1E5ED"
        },
        "xaxis4": {
         "anchor": "y4",
         "domain": [
          0.7875,
          1
         ],
         "gridcolor": "#E1E5ED",
         "showgrid": false,
         "tickfont": {
          "color": "#4D5663"
         },
         "title": {
          "font": {
           "color": "#4D5663"
          },
          "text": ""
         },
         "zerolinecolor": "#E1E5ED"
        },
        "xaxis5": {
         "anchor": "y5",
         "domain": [
          0,
          0.2125
         ],
         "gridcolor": "#E1E5ED",
         "showgrid": false,
         "tickfont": {
          "color": "#4D5663"
         },
         "title": {
          "font": {
           "color": "#4D5663"
          },
          "text": ""
         },
         "zerolinecolor": "#E1E5ED"
        },
        "xaxis6": {
         "anchor": "y6",
         "domain": [
          0.2625,
          0.475
         ],
         "gridcolor": "#E1E5ED",
         "showgrid": false,
         "tickfont": {
          "color": "#4D5663"
         },
         "title": {
          "font": {
           "color": "#4D5663"
          },
          "text": ""
         },
         "zerolinecolor": "#E1E5ED"
        },
        "xaxis7": {
         "anchor": "y7",
         "domain": [
          0.525,
          0.7375
         ],
         "gridcolor": "#E1E5ED",
         "showgrid": false,
         "tickfont": {
          "color": "#4D5663"
         },
         "title": {
          "font": {
           "color": "#4D5663"
          },
          "text": ""
         },
         "zerolinecolor": "#E1E5ED"
        },
        "xaxis8": {
         "anchor": "y8",
         "domain": [
          0.7875,
          1
         ],
         "gridcolor": "#E1E5ED",
         "showgrid": false,
         "tickfont": {
          "color": "#4D5663"
         },
         "title": {
          "font": {
           "color": "#4D5663"
          },
          "text": ""
         },
         "zerolinecolor": "#E1E5ED"
        },
        "xaxis9": {
         "anchor": "y9",
         "domain": [
          0,
          0.2125
         ],
         "gridcolor": "#E1E5ED",
         "showgrid": false,
         "tickfont": {
          "color": "#4D5663"
         },
         "title": {
          "font": {
           "color": "#4D5663"
          },
          "text": ""
         },
         "zerolinecolor": "#E1E5ED"
        },
        "yaxis": {
         "anchor": "x",
         "domain": [
          0.8025,
          1
         ],
         "gridcolor": "#E1E5ED",
         "showgrid": false,
         "tickfont": {
          "color": "#4D5663"
         },
         "title": {
          "font": {
           "color": "#4D5663"
          },
          "text": ""
         },
         "zerolinecolor": "#E1E5ED"
        },
        "yaxis10": {
         "anchor": "x10",
         "domain": [
          0.2675,
          0.465
         ],
         "gridcolor": "#E1E5ED",
         "showgrid": false,
         "tickfont": {
          "color": "#4D5663"
         },
         "title": {
          "font": {
           "color": "#4D5663"
          },
          "text": ""
         },
         "zerolinecolor": "#E1E5ED"
        },
        "yaxis11": {
         "anchor": "x11",
         "domain": [
          0.2675,
          0.465
         ],
         "gridcolor": "#E1E5ED",
         "showgrid": false,
         "tickfont": {
          "color": "#4D5663"
         },
         "title": {
          "font": {
           "color": "#4D5663"
          },
          "text": ""
         },
         "zerolinecolor": "#E1E5ED"
        },
        "yaxis12": {
         "anchor": "x12",
         "domain": [
          0.2675,
          0.465
         ],
         "gridcolor": "#E1E5ED",
         "showgrid": false,
         "tickfont": {
          "color": "#4D5663"
         },
         "title": {
          "font": {
           "color": "#4D5663"
          },
          "text": ""
         },
         "zerolinecolor": "#E1E5ED"
        },
        "yaxis13": {
         "anchor": "x13",
         "domain": [
          0,
          0.1975
         ],
         "gridcolor": "#E1E5ED",
         "showgrid": false,
         "tickfont": {
          "color": "#4D5663"
         },
         "title": {
          "font": {
           "color": "#4D5663"
          },
          "text": ""
         },
         "zerolinecolor": "#E1E5ED"
        },
        "yaxis14": {
         "anchor": "x14",
         "domain": [
          0,
          0.1975
         ],
         "gridcolor": "#E1E5ED",
         "showgrid": false,
         "tickfont": {
          "color": "#4D5663"
         },
         "title": {
          "font": {
           "color": "#4D5663"
          },
          "text": ""
         },
         "zerolinecolor": "#E1E5ED"
        },
        "yaxis15": {
         "anchor": "x15",
         "domain": [
          0,
          0.1975
         ],
         "gridcolor": "#E1E5ED",
         "showgrid": false,
         "tickfont": {
          "color": "#4D5663"
         },
         "title": {
          "font": {
           "color": "#4D5663"
          },
          "text": ""
         },
         "zerolinecolor": "#E1E5ED"
        },
        "yaxis16": {
         "anchor": "x16",
         "domain": [
          0,
          0.1975
         ],
         "gridcolor": "#E1E5ED",
         "showgrid": false,
         "tickfont": {
          "color": "#4D5663"
         },
         "title": {
          "font": {
           "color": "#4D5663"
          },
          "text": ""
         },
         "zerolinecolor": "#E1E5ED"
        },
        "yaxis2": {
         "anchor": "x2",
         "domain": [
          0.8025,
          1
         ],
         "gridcolor": "#E1E5ED",
         "showgrid": false,
         "tickfont": {
          "color": "#4D5663"
         },
         "title": {
          "font": {
           "color": "#4D5663"
          },
          "text": ""
         },
         "zerolinecolor": "#E1E5ED"
        },
        "yaxis3": {
         "anchor": "x3",
         "domain": [
          0.8025,
          1
         ],
         "gridcolor": "#E1E5ED",
         "showgrid": false,
         "tickfont": {
          "color": "#4D5663"
         },
         "title": {
          "font": {
           "color": "#4D5663"
          },
          "text": ""
         },
         "zerolinecolor": "#E1E5ED"
        },
        "yaxis4": {
         "anchor": "x4",
         "domain": [
          0.8025,
          1
         ],
         "gridcolor": "#E1E5ED",
         "showgrid": false,
         "tickfont": {
          "color": "#4D5663"
         },
         "title": {
          "font": {
           "color": "#4D5663"
          },
          "text": ""
         },
         "zerolinecolor": "#E1E5ED"
        },
        "yaxis5": {
         "anchor": "x5",
         "domain": [
          0.535,
          0.7325
         ],
         "gridcolor": "#E1E5ED",
         "showgrid": false,
         "tickfont": {
          "color": "#4D5663"
         },
         "title": {
          "font": {
           "color": "#4D5663"
          },
          "text": ""
         },
         "zerolinecolor": "#E1E5ED"
        },
        "yaxis6": {
         "anchor": "x6",
         "domain": [
          0.535,
          0.7325
         ],
         "gridcolor": "#E1E5ED",
         "showgrid": false,
         "tickfont": {
          "color": "#4D5663"
         },
         "title": {
          "font": {
           "color": "#4D5663"
          },
          "text": ""
         },
         "zerolinecolor": "#E1E5ED"
        },
        "yaxis7": {
         "anchor": "x7",
         "domain": [
          0.535,
          0.7325
         ],
         "gridcolor": "#E1E5ED",
         "showgrid": false,
         "tickfont": {
          "color": "#4D5663"
         },
         "title": {
          "font": {
           "color": "#4D5663"
          },
          "text": ""
         },
         "zerolinecolor": "#E1E5ED"
        },
        "yaxis8": {
         "anchor": "x8",
         "domain": [
          0.535,
          0.7325
         ],
         "gridcolor": "#E1E5ED",
         "showgrid": false,
         "tickfont": {
          "color": "#4D5663"
         },
         "title": {
          "font": {
           "color": "#4D5663"
          },
          "text": ""
         },
         "zerolinecolor": "#E1E5ED"
        },
        "yaxis9": {
         "anchor": "x9",
         "domain": [
          0.2675,
          0.465
         ],
         "gridcolor": "#E1E5ED",
         "showgrid": false,
         "tickfont": {
          "color": "#4D5663"
         },
         "title": {
          "font": {
           "color": "#4D5663"
          },
          "text": ""
         },
         "zerolinecolor": "#E1E5ED"
        }
       }
      },
      "text/html": [
       "<div>\n",
       "        \n",
       "        \n",
       "            <div id=\"62c29153-631f-467d-9dcd-457250088c13\" class=\"plotly-graph-div\" style=\"height:525px; width:100%;\"></div>\n",
       "            <script type=\"text/javascript\">\n",
       "                require([\"plotly\"], function(Plotly) {\n",
       "                    window.PLOTLYENV=window.PLOTLYENV || {};\n",
       "                    window.PLOTLYENV.BASE_URL='https://plot.ly';\n",
       "                    \n",
       "                if (document.getElementById(\"62c29153-631f-467d-9dcd-457250088c13\")) {\n",
       "                    Plotly.newPlot(\n",
       "                        '62c29153-631f-467d-9dcd-457250088c13',\n",
       "                        [{\"histfunc\": \"count\", \"histnorm\": \"\", \"marker\": {\"color\": \"rgba(255, 153, 51, 1.0)\", \"line\": {\"color\": \"#4D5663\", \"width\": 1.3}}, \"name\": \"A\", \"nbinsx\": 10, \"opacity\": 0.8, \"orientation\": \"v\", \"type\": \"histogram\", \"x\": [0.48758791284167, -1.0945360538696463, -0.025109160636671034, 0.5318438573072443, 1.170821047816164, -1.0781069618216137, 0.023929908721716072, -0.3341668073479446, 0.15466770476350178, 1.5446639151497434, 1.4056054833842484, 1.6261568763361154, -1.1227374435458701, 0.28194097407828445, -0.682223671693977, -0.9562545728370384, -0.7209835661743308, -0.03317994654738412, 0.5205553063310279, -1.1366028975811477, -0.9786485170200829, 0.13548859544218975, -0.0009540853056883342, 0.5979449535006777, 1.1149531211625783, 0.4283544325769933, -0.2411460571149065, -1.2870861552795327, 0.03636844814017887, 1.2075977330375478, -1.1535869763732076, 1.0628415041799286, -1.0491639233442693, 1.3811022114090363, -0.3613211905254392, -0.45890225542836116, -0.12162760141230262, -0.8396215800903595, -0.565381067065979, -3.4566182937067276, 0.8993420377570022, 0.2165974313829244, 1.6103508033055005, 0.0094913782519163, 0.45531265282040323, 0.6119558083278896, -0.2942946657226144, -1.2729657899992224, -0.3545189453227468, 0.07805696223208544, -0.66178932419833, -1.6925420918465717, -0.1307554580410991, -0.39774105359567025, -1.516011865561858, -0.5391143165355534, -1.1142859655918813, 1.0551320487656342, -0.5717178581500568, -0.1073076890360471, -1.5270560562106272, -0.7899843365922449, -0.6356350799456826, -0.41468126319261245, 1.6781806287486598, -0.33874390881565875, 0.18609602799409797, -1.2338502645280391, 0.10345221635878635, 0.6586971927026098, 0.5813188464153145, 1.3837115433387472, -0.29753261872603187, -1.6128956978544893, -1.103081913031465, -0.15162181863861388, 0.7316627867109841, -0.8665646320585265, -1.701661298481288, 1.596184275190892, 0.14494608879711593, -0.41603294033322546, 0.9563325173459639, -0.30156389581498877, 0.926333185290943, 0.6631382639673186, 0.39152621569100776, -0.5826926583224311, 0.6255130281637811, -0.21940433600962406, -0.9505295760532173, -0.10707435083175479, 0.37504647253794426, -0.7821664392300294, 1.213031390357866, -0.009994398016467693, 0.9894948390200397, -1.647259086231465, 0.9233657259667436, 0.17155861516031895], \"xaxis\": \"x\", \"yaxis\": \"y\"}, {\"line\": {\"color\": \"rgba(128, 128, 128, 1.0)\", \"dash\": \"solid\", \"shape\": \"linear\", \"width\": 1.3}, \"marker\": {\"size\": 2, \"symbol\": \"circle\"}, \"mode\": \"markers\", \"name\": \"A\", \"text\": \"\", \"type\": \"scatter\", \"x\": [-0.3260093462636492, 0.24999368535084174, 0.23529007756177991, 1.497738301294124, -1.9235211183341405, -2.0300951821002418, -0.8026053432036195, -0.062102401082379945, 0.5733134985509706, -0.028200152143247094, 0.5457366836861638, 1.9105677035222017, -1.8510783961436936, 1.8936264586473475, 0.8455161682358032, 0.08530004905902606, 1.15547970626262, 0.33241678821461357, 0.8973896937867161, 0.19756270998312664, -0.5551208869803647, -0.7141539274695231, 0.009781143871655847, -0.7963514852359374, 0.18435114594596597, -0.7236122806767714, -0.6268367864953104, -1.0069813144186306, -0.5997263961705249, 0.2218092724149917, -1.170188533181909, -0.7686459812838211, -0.5673983196078344, 1.5249329961718672, -2.1774022163390523, -0.16736496395437145, 1.0228620924991214, 0.3910535831520817, 1.728288848550678, -0.009405137671356954, 0.9241988728738655, 0.44155721095505096, -0.22054721336042088, 0.5781436798174855, -1.290605550402523, -0.8219921260635391, 0.6672891466109183, -1.0544087228560581, 0.8576970417953911, 1.4773492966329609, -0.37563342720144566, 1.2771642094219255, 1.4113133544016951, -0.29750095974408886, -0.3162064319347066, 1.188528108737439, 0.579601446889555, -1.7869180545292704, 0.6597949108832315, -0.0001365483231869348, 1.1812217654383987, -0.039242310036225546, 0.055462809310465856, -0.26055519934982774, 0.6725828725192213, -0.5868956518865107, -0.36545184706978795, 0.9293783772779497, -1.12768298608976, -0.6802463660504389, 1.0337663943479858, -0.11482295289181627, -0.050142642112852305, -0.7605981670708353, 1.1776341864268012, -1.046185183818184, -0.7725793465552173, -0.19141931620324604, -0.5627311353208561, -0.6551472073374759, 0.1682953138174061, -1.219605336933295, 1.1676004025006497, -1.729816895327089, 0.7124705106659508, 1.5236894135662393, -1.6321268418409738, -0.7707520544200946, -0.05597956411105408, 0.16633345555002213, 1.3749075858226854, 0.7668818323383592, 1.2292117573820642, -0.09963937439980546, 1.8913086287611742, -0.13916805496855586, -0.8661975302049588, 0.011535216890753078, 1.2450592447021642, -2.211752092799134], \"xaxis\": \"x2\", \"y\": [0.48758791284167, -1.0945360538696463, -0.025109160636671034, 0.5318438573072443, 1.170821047816164, -1.0781069618216137, 0.023929908721716072, -0.3341668073479446, 0.15466770476350178, 1.5446639151497434, 1.4056054833842484, 1.6261568763361154, -1.1227374435458701, 0.28194097407828445, -0.682223671693977, -0.9562545728370384, -0.7209835661743308, -0.03317994654738412, 0.5205553063310279, -1.1366028975811477, -0.9786485170200829, 0.13548859544218975, -0.0009540853056883342, 0.5979449535006777, 1.1149531211625783, 0.4283544325769933, -0.2411460571149065, -1.2870861552795327, 0.03636844814017887, 1.2075977330375478, -1.1535869763732076, 1.0628415041799286, -1.0491639233442693, 1.3811022114090363, -0.3613211905254392, -0.45890225542836116, -0.12162760141230262, -0.8396215800903595, -0.565381067065979, -3.4566182937067276, 0.8993420377570022, 0.2165974313829244, 1.6103508033055005, 0.0094913782519163, 0.45531265282040323, 0.6119558083278896, -0.2942946657226144, -1.2729657899992224, -0.3545189453227468, 0.07805696223208544, -0.66178932419833, -1.6925420918465717, -0.1307554580410991, -0.39774105359567025, -1.516011865561858, -0.5391143165355534, -1.1142859655918813, 1.0551320487656342, -0.5717178581500568, -0.1073076890360471, -1.5270560562106272, -0.7899843365922449, -0.6356350799456826, -0.41468126319261245, 1.6781806287486598, -0.33874390881565875, 0.18609602799409797, -1.2338502645280391, 0.10345221635878635, 0.6586971927026098, 0.5813188464153145, 1.3837115433387472, -0.29753261872603187, -1.6128956978544893, -1.103081913031465, -0.15162181863861388, 0.7316627867109841, -0.8665646320585265, -1.701661298481288, 1.596184275190892, 0.14494608879711593, -0.41603294033322546, 0.9563325173459639, -0.30156389581498877, 0.926333185290943, 0.6631382639673186, 0.39152621569100776, -0.5826926583224311, 0.6255130281637811, -0.21940433600962406, -0.9505295760532173, -0.10707435083175479, 0.37504647253794426, -0.7821664392300294, 1.213031390357866, -0.009994398016467693, 0.9894948390200397, -1.647259086231465, 0.9233657259667436, 0.17155861516031895], \"yaxis\": \"y2\"}, {\"line\": {\"color\": \"rgba(128, 128, 128, 1.0)\", \"dash\": \"solid\", \"shape\": \"linear\", \"width\": 1.3}, \"marker\": {\"size\": 2, \"symbol\": \"circle\"}, \"mode\": \"markers\", \"name\": \"A\", \"text\": \"\", \"type\": \"scatter\", \"x\": [-0.9215737996680481, 0.24257794495661747, 0.28730374971215455, 0.14040275264155666, -0.01454372243547929, 0.5701479887456785, -0.5913889393179355, -0.5391923903512743, -0.1268109615054854, 0.8330285935502711, -0.45887812076157464, -0.9098656132168144, 0.30937887086993643, -1.3173769403479854, 1.1390528635745454, -0.054313980526728284, -0.06345952949402739, -1.1848137236310903, 0.07638907718243115, -0.7575403986569592, 1.7111419842743498, 0.27368305370590473, -0.14455085058261638, 0.035816694898625955, 0.21415107397239885, 1.9934432737074155, 0.25865489493566746, -2.311189157953442, 0.6209601156744055, 0.7504779554943947, 0.09748343837697022, 0.17482346528953707, 0.5823900490090388, 1.1176691088840645, -0.15595798168684122, -0.39505494965702165, -0.43222799923157496, -0.021203250326226684, 1.536868590901801, 0.8289905654680133, 0.920122027822724, 0.7552087906910285, -0.4435526780625535, 0.7533509524104882, -0.3163692824277632, -1.3740015077056968, 1.4844837012254757, 1.6989196256086767, 0.21383303878010604, 0.8903447804836941, -0.4811875074025367, -0.4083018305349428, 1.5122987569757786, -3.456495150976108, -0.5078588732223014, -0.19091788141284483, 0.07076357456210358, -1.1408201971843714, 1.8997545762062136, 0.09703976302099852, 0.039703654766854495, 1.0494411955167449, 0.029929215098847543, 1.7940867369711784, -1.4870984274296137, -0.6874900617646675, 1.4365266243030386, 0.0230165236855401, -0.3063837206223713, -2.659682030893965, 1.2274792247016022, 0.3119932445595903, 1.2018157112787466, 0.5033149695523894, -0.01920839903472686, 0.15679949048063785, 0.12213403014052661, -0.12491818968818347, 0.9322611703529357, -0.32080906005630394, -1.9843429087528304, -2.1117410103351584, -0.9971293003585686, 1.2539711506249005, -0.9705376358440737, 1.110380938606927, -0.9658677901361647, -1.3794425991471915, -0.18429815818266237, -2.4709888143236496, 2.0947893798665924, -0.3557969469360339, 0.5337181750396833, 0.12295132345624875, 1.425546310958585, 0.1999557525436834, -1.293395493776135, 1.221242082392363, -0.7800515940717015, -0.4455096834649943], \"xaxis\": \"x3\", \"y\": [0.48758791284167, -1.0945360538696463, -0.025109160636671034, 0.5318438573072443, 1.170821047816164, -1.0781069618216137, 0.023929908721716072, -0.3341668073479446, 0.15466770476350178, 1.5446639151497434, 1.4056054833842484, 1.6261568763361154, -1.1227374435458701, 0.28194097407828445, -0.682223671693977, -0.9562545728370384, -0.7209835661743308, -0.03317994654738412, 0.5205553063310279, -1.1366028975811477, -0.9786485170200829, 0.13548859544218975, -0.0009540853056883342, 0.5979449535006777, 1.1149531211625783, 0.4283544325769933, -0.2411460571149065, -1.2870861552795327, 0.03636844814017887, 1.2075977330375478, -1.1535869763732076, 1.0628415041799286, -1.0491639233442693, 1.3811022114090363, -0.3613211905254392, -0.45890225542836116, -0.12162760141230262, -0.8396215800903595, -0.565381067065979, -3.4566182937067276, 0.8993420377570022, 0.2165974313829244, 1.6103508033055005, 0.0094913782519163, 0.45531265282040323, 0.6119558083278896, -0.2942946657226144, -1.2729657899992224, -0.3545189453227468, 0.07805696223208544, -0.66178932419833, -1.6925420918465717, -0.1307554580410991, -0.39774105359567025, -1.516011865561858, -0.5391143165355534, -1.1142859655918813, 1.0551320487656342, -0.5717178581500568, -0.1073076890360471, -1.5270560562106272, -0.7899843365922449, -0.6356350799456826, -0.41468126319261245, 1.6781806287486598, -0.33874390881565875, 0.18609602799409797, -1.2338502645280391, 0.10345221635878635, 0.6586971927026098, 0.5813188464153145, 1.3837115433387472, -0.29753261872603187, -1.6128956978544893, -1.103081913031465, -0.15162181863861388, 0.7316627867109841, -0.8665646320585265, -1.701661298481288, 1.596184275190892, 0.14494608879711593, -0.41603294033322546, 0.9563325173459639, -0.30156389581498877, 0.926333185290943, 0.6631382639673186, 0.39152621569100776, -0.5826926583224311, 0.6255130281637811, -0.21940433600962406, -0.9505295760532173, -0.10707435083175479, 0.37504647253794426, -0.7821664392300294, 1.213031390357866, -0.009994398016467693, 0.9894948390200397, -1.647259086231465, 0.9233657259667436, 0.17155861516031895], \"yaxis\": \"y3\"}, {\"line\": {\"color\": \"rgba(128, 128, 128, 1.0)\", \"dash\": \"solid\", \"shape\": \"linear\", \"width\": 1.3}, \"marker\": {\"size\": 2, \"symbol\": \"circle\"}, \"mode\": \"markers\", \"name\": \"A\", \"text\": \"\", \"type\": \"scatter\", \"x\": [-0.3732001785635488, 0.02772057204258057, 2.0780977673160814, 1.3345213603864252, 0.1694366973809169, -0.2684697638023764, -0.6082296092599212, 0.6508892453079715, -0.4345062907402152, -0.5617920353885649, -0.587017228791666, -1.090602506962519, -0.47177082945853616, -0.5047968481345675, 0.30674061235988115, -0.2580618267023648, 1.213046387572064, -0.10336248572090953, 1.2135641909949002, -0.29573781138810157, 0.09265697441911201, 1.181111268444659, 0.9794260265187278, -0.2066609559336435, -1.4324849127349883, 1.8973719521978711, -1.5770524954708642, -1.5233755285194996, -0.11954388695033413, 0.408227044615286, -0.7943217801990868, -0.4074277029874315, -1.2964724531322758, 1.3531820244255979, -0.10209548025668516, -3.962267411342711, 0.3925374957693042, -1.5987574555527004, -0.015690786883268432, -1.3646431233639413, 0.005367302494327931, -1.1544773552282033, 0.6812441407429343, 1.3980508128192732, -0.6960723365727628, 0.8007104031685038, 0.22814968085465678, 0.39540184605719475, -0.6465850039640896, -0.49131677264646473, -1.7766857278277122, -0.5308430489637528, -0.4143386231020363, 0.9564710084119504, -0.3110460476539002, 1.8446499699453207, 0.38994548400707324, -2.7684282902563084, -2.119079548307512, -0.1266261950522138, -0.45611608273969556, 0.077912447832572, -0.21689984979054935, -0.7121695757676461, -0.3490408053170844, 0.3906916972874522, -0.8297333159231602, -0.707490514149694, -1.2545296140226112, -0.05515145982340287, -0.40172092888359184, -1.8846250805252711, 0.9566507481486777, 1.6497778073533933, -1.4767802190660844, 0.05283350103280196, -1.0329661785748872, 0.5644947822224133, -3.2623765712883497, -0.050082748227648924, -0.31321634490070466, -1.0917145834668929, 0.5450272060871032, -0.27725916223419866, -1.3544628542209094, -2.561107978279768, -0.29988417704474407, -0.08734822296629834, 0.31378902477164194, -0.08316283323673339, -0.057673051473649005, -1.1827138584189956, -0.9354931234512995, 0.5391231576807595, 0.6683226564578738, 1.4246185626652708, -0.250826647645536, -1.7472524156312297, 0.0165326921674526, -0.07634791957043927], \"xaxis\": \"x4\", \"y\": [0.48758791284167, -1.0945360538696463, -0.025109160636671034, 0.5318438573072443, 1.170821047816164, -1.0781069618216137, 0.023929908721716072, -0.3341668073479446, 0.15466770476350178, 1.5446639151497434, 1.4056054833842484, 1.6261568763361154, -1.1227374435458701, 0.28194097407828445, -0.682223671693977, -0.9562545728370384, -0.7209835661743308, -0.03317994654738412, 0.5205553063310279, -1.1366028975811477, -0.9786485170200829, 0.13548859544218975, -0.0009540853056883342, 0.5979449535006777, 1.1149531211625783, 0.4283544325769933, -0.2411460571149065, -1.2870861552795327, 0.03636844814017887, 1.2075977330375478, -1.1535869763732076, 1.0628415041799286, -1.0491639233442693, 1.3811022114090363, -0.3613211905254392, -0.45890225542836116, -0.12162760141230262, -0.8396215800903595, -0.565381067065979, -3.4566182937067276, 0.8993420377570022, 0.2165974313829244, 1.6103508033055005, 0.0094913782519163, 0.45531265282040323, 0.6119558083278896, -0.2942946657226144, -1.2729657899992224, -0.3545189453227468, 0.07805696223208544, -0.66178932419833, -1.6925420918465717, -0.1307554580410991, -0.39774105359567025, -1.516011865561858, -0.5391143165355534, -1.1142859655918813, 1.0551320487656342, -0.5717178581500568, -0.1073076890360471, -1.5270560562106272, -0.7899843365922449, -0.6356350799456826, -0.41468126319261245, 1.6781806287486598, -0.33874390881565875, 0.18609602799409797, -1.2338502645280391, 0.10345221635878635, 0.6586971927026098, 0.5813188464153145, 1.3837115433387472, -0.29753261872603187, -1.6128956978544893, -1.103081913031465, -0.15162181863861388, 0.7316627867109841, -0.8665646320585265, -1.701661298481288, 1.596184275190892, 0.14494608879711593, -0.41603294033322546, 0.9563325173459639, -0.30156389581498877, 0.926333185290943, 0.6631382639673186, 0.39152621569100776, -0.5826926583224311, 0.6255130281637811, -0.21940433600962406, -0.9505295760532173, -0.10707435083175479, 0.37504647253794426, -0.7821664392300294, 1.213031390357866, -0.009994398016467693, 0.9894948390200397, -1.647259086231465, 0.9233657259667436, 0.17155861516031895], \"yaxis\": \"y4\"}, {\"line\": {\"color\": \"rgba(128, 128, 128, 1.0)\", \"dash\": \"solid\", \"shape\": \"linear\", \"width\": 1.3}, \"marker\": {\"size\": 2, \"symbol\": \"circle\"}, \"mode\": \"markers\", \"name\": \"B\", \"text\": \"\", \"type\": \"scatter\", \"x\": [0.48758791284167, -1.0945360538696463, -0.025109160636671034, 0.5318438573072443, 1.170821047816164, -1.0781069618216137, 0.023929908721716072, -0.3341668073479446, 0.15466770476350178, 1.5446639151497434, 1.4056054833842484, 1.6261568763361154, -1.1227374435458701, 0.28194097407828445, -0.682223671693977, -0.9562545728370384, -0.7209835661743308, -0.03317994654738412, 0.5205553063310279, -1.1366028975811477, -0.9786485170200829, 0.13548859544218975, -0.0009540853056883342, 0.5979449535006777, 1.1149531211625783, 0.4283544325769933, -0.2411460571149065, -1.2870861552795327, 0.03636844814017887, 1.2075977330375478, -1.1535869763732076, 1.0628415041799286, -1.0491639233442693, 1.3811022114090363, -0.3613211905254392, -0.45890225542836116, -0.12162760141230262, -0.8396215800903595, -0.565381067065979, -3.4566182937067276, 0.8993420377570022, 0.2165974313829244, 1.6103508033055005, 0.0094913782519163, 0.45531265282040323, 0.6119558083278896, -0.2942946657226144, -1.2729657899992224, -0.3545189453227468, 0.07805696223208544, -0.66178932419833, -1.6925420918465717, -0.1307554580410991, -0.39774105359567025, -1.516011865561858, -0.5391143165355534, -1.1142859655918813, 1.0551320487656342, -0.5717178581500568, -0.1073076890360471, -1.5270560562106272, -0.7899843365922449, -0.6356350799456826, -0.41468126319261245, 1.6781806287486598, -0.33874390881565875, 0.18609602799409797, -1.2338502645280391, 0.10345221635878635, 0.6586971927026098, 0.5813188464153145, 1.3837115433387472, -0.29753261872603187, -1.6128956978544893, -1.103081913031465, -0.15162181863861388, 0.7316627867109841, -0.8665646320585265, -1.701661298481288, 1.596184275190892, 0.14494608879711593, -0.41603294033322546, 0.9563325173459639, -0.30156389581498877, 0.926333185290943, 0.6631382639673186, 0.39152621569100776, -0.5826926583224311, 0.6255130281637811, -0.21940433600962406, -0.9505295760532173, -0.10707435083175479, 0.37504647253794426, -0.7821664392300294, 1.213031390357866, -0.009994398016467693, 0.9894948390200397, -1.647259086231465, 0.9233657259667436, 0.17155861516031895], \"xaxis\": \"x5\", \"y\": [-0.3260093462636492, 0.24999368535084174, 0.23529007756177991, 1.497738301294124, -1.9235211183341405, -2.0300951821002418, -0.8026053432036195, -0.062102401082379945, 0.5733134985509706, -0.028200152143247094, 0.5457366836861638, 1.9105677035222017, -1.8510783961436936, 1.8936264586473475, 0.8455161682358032, 0.08530004905902606, 1.15547970626262, 0.33241678821461357, 0.8973896937867161, 0.19756270998312664, -0.5551208869803647, -0.7141539274695231, 0.009781143871655847, -0.7963514852359374, 0.18435114594596597, -0.7236122806767714, -0.6268367864953104, -1.0069813144186306, -0.5997263961705249, 0.2218092724149917, -1.170188533181909, -0.7686459812838211, -0.5673983196078344, 1.5249329961718672, -2.1774022163390523, -0.16736496395437145, 1.0228620924991214, 0.3910535831520817, 1.728288848550678, -0.009405137671356954, 0.9241988728738655, 0.44155721095505096, -0.22054721336042088, 0.5781436798174855, -1.290605550402523, -0.8219921260635391, 0.6672891466109183, -1.0544087228560581, 0.8576970417953911, 1.4773492966329609, -0.37563342720144566, 1.2771642094219255, 1.4113133544016951, -0.29750095974408886, -0.3162064319347066, 1.188528108737439, 0.579601446889555, -1.7869180545292704, 0.6597949108832315, -0.0001365483231869348, 1.1812217654383987, -0.039242310036225546, 0.055462809310465856, -0.26055519934982774, 0.6725828725192213, -0.5868956518865107, -0.36545184706978795, 0.9293783772779497, -1.12768298608976, -0.6802463660504389, 1.0337663943479858, -0.11482295289181627, -0.050142642112852305, -0.7605981670708353, 1.1776341864268012, -1.046185183818184, -0.7725793465552173, -0.19141931620324604, -0.5627311353208561, -0.6551472073374759, 0.1682953138174061, -1.219605336933295, 1.1676004025006497, -1.729816895327089, 0.7124705106659508, 1.5236894135662393, -1.6321268418409738, -0.7707520544200946, -0.05597956411105408, 0.16633345555002213, 1.3749075858226854, 0.7668818323383592, 1.2292117573820642, -0.09963937439980546, 1.8913086287611742, -0.13916805496855586, -0.8661975302049588, 0.011535216890753078, 1.2450592447021642, -2.211752092799134], \"yaxis\": \"y5\"}, {\"histfunc\": \"count\", \"histnorm\": \"\", \"marker\": {\"color\": \"rgba(55, 128, 191, 1.0)\", \"line\": {\"color\": \"#4D5663\", \"width\": 1.3}}, \"name\": \"B\", \"nbinsx\": 10, \"opacity\": 0.8, \"orientation\": \"v\", \"type\": \"histogram\", \"x\": [-0.3260093462636492, 0.24999368535084174, 0.23529007756177991, 1.497738301294124, -1.9235211183341405, -2.0300951821002418, -0.8026053432036195, -0.062102401082379945, 0.5733134985509706, -0.028200152143247094, 0.5457366836861638, 1.9105677035222017, -1.8510783961436936, 1.8936264586473475, 0.8455161682358032, 0.08530004905902606, 1.15547970626262, 0.33241678821461357, 0.8973896937867161, 0.19756270998312664, -0.5551208869803647, -0.7141539274695231, 0.009781143871655847, -0.7963514852359374, 0.18435114594596597, -0.7236122806767714, -0.6268367864953104, -1.0069813144186306, -0.5997263961705249, 0.2218092724149917, -1.170188533181909, -0.7686459812838211, -0.5673983196078344, 1.5249329961718672, -2.1774022163390523, -0.16736496395437145, 1.0228620924991214, 0.3910535831520817, 1.728288848550678, -0.009405137671356954, 0.9241988728738655, 0.44155721095505096, -0.22054721336042088, 0.5781436798174855, -1.290605550402523, -0.8219921260635391, 0.6672891466109183, -1.0544087228560581, 0.8576970417953911, 1.4773492966329609, -0.37563342720144566, 1.2771642094219255, 1.4113133544016951, -0.29750095974408886, -0.3162064319347066, 1.188528108737439, 0.579601446889555, -1.7869180545292704, 0.6597949108832315, -0.0001365483231869348, 1.1812217654383987, -0.039242310036225546, 0.055462809310465856, -0.26055519934982774, 0.6725828725192213, -0.5868956518865107, -0.36545184706978795, 0.9293783772779497, -1.12768298608976, -0.6802463660504389, 1.0337663943479858, -0.11482295289181627, -0.050142642112852305, -0.7605981670708353, 1.1776341864268012, -1.046185183818184, -0.7725793465552173, -0.19141931620324604, -0.5627311353208561, -0.6551472073374759, 0.1682953138174061, -1.219605336933295, 1.1676004025006497, -1.729816895327089, 0.7124705106659508, 1.5236894135662393, -1.6321268418409738, -0.7707520544200946, -0.05597956411105408, 0.16633345555002213, 1.3749075858226854, 0.7668818323383592, 1.2292117573820642, -0.09963937439980546, 1.8913086287611742, -0.13916805496855586, -0.8661975302049588, 0.011535216890753078, 1.2450592447021642, -2.211752092799134], \"xaxis\": \"x6\", \"yaxis\": \"y6\"}, {\"line\": {\"color\": \"rgba(128, 128, 128, 1.0)\", \"dash\": \"solid\", \"shape\": \"linear\", \"width\": 1.3}, \"marker\": {\"size\": 2, \"symbol\": \"circle\"}, \"mode\": \"markers\", \"name\": \"B\", \"text\": \"\", \"type\": \"scatter\", \"x\": [-0.9215737996680481, 0.24257794495661747, 0.28730374971215455, 0.14040275264155666, -0.01454372243547929, 0.5701479887456785, -0.5913889393179355, -0.5391923903512743, -0.1268109615054854, 0.8330285935502711, -0.45887812076157464, -0.9098656132168144, 0.30937887086993643, -1.3173769403479854, 1.1390528635745454, -0.054313980526728284, -0.06345952949402739, -1.1848137236310903, 0.07638907718243115, -0.7575403986569592, 1.7111419842743498, 0.27368305370590473, -0.14455085058261638, 0.035816694898625955, 0.21415107397239885, 1.9934432737074155, 0.25865489493566746, -2.311189157953442, 0.6209601156744055, 0.7504779554943947, 0.09748343837697022, 0.17482346528953707, 0.5823900490090388, 1.1176691088840645, -0.15595798168684122, -0.39505494965702165, -0.43222799923157496, -0.021203250326226684, 1.536868590901801, 0.8289905654680133, 0.920122027822724, 0.7552087906910285, -0.4435526780625535, 0.7533509524104882, -0.3163692824277632, -1.3740015077056968, 1.4844837012254757, 1.6989196256086767, 0.21383303878010604, 0.8903447804836941, -0.4811875074025367, -0.4083018305349428, 1.5122987569757786, -3.456495150976108, -0.5078588732223014, -0.19091788141284483, 0.07076357456210358, -1.1408201971843714, 1.8997545762062136, 0.09703976302099852, 0.039703654766854495, 1.0494411955167449, 0.029929215098847543, 1.7940867369711784, -1.4870984274296137, -0.6874900617646675, 1.4365266243030386, 0.0230165236855401, -0.3063837206223713, -2.659682030893965, 1.2274792247016022, 0.3119932445595903, 1.2018157112787466, 0.5033149695523894, -0.01920839903472686, 0.15679949048063785, 0.12213403014052661, -0.12491818968818347, 0.9322611703529357, -0.32080906005630394, -1.9843429087528304, -2.1117410103351584, -0.9971293003585686, 1.2539711506249005, -0.9705376358440737, 1.110380938606927, -0.9658677901361647, -1.3794425991471915, -0.18429815818266237, -2.4709888143236496, 2.0947893798665924, -0.3557969469360339, 0.5337181750396833, 0.12295132345624875, 1.425546310958585, 0.1999557525436834, -1.293395493776135, 1.221242082392363, -0.7800515940717015, -0.4455096834649943], \"xaxis\": \"x7\", \"y\": [-0.3260093462636492, 0.24999368535084174, 0.23529007756177991, 1.497738301294124, -1.9235211183341405, -2.0300951821002418, -0.8026053432036195, -0.062102401082379945, 0.5733134985509706, -0.028200152143247094, 0.5457366836861638, 1.9105677035222017, -1.8510783961436936, 1.8936264586473475, 0.8455161682358032, 0.08530004905902606, 1.15547970626262, 0.33241678821461357, 0.8973896937867161, 0.19756270998312664, -0.5551208869803647, -0.7141539274695231, 0.009781143871655847, -0.7963514852359374, 0.18435114594596597, -0.7236122806767714, -0.6268367864953104, -1.0069813144186306, -0.5997263961705249, 0.2218092724149917, -1.170188533181909, -0.7686459812838211, -0.5673983196078344, 1.5249329961718672, -2.1774022163390523, -0.16736496395437145, 1.0228620924991214, 0.3910535831520817, 1.728288848550678, -0.009405137671356954, 0.9241988728738655, 0.44155721095505096, -0.22054721336042088, 0.5781436798174855, -1.290605550402523, -0.8219921260635391, 0.6672891466109183, -1.0544087228560581, 0.8576970417953911, 1.4773492966329609, -0.37563342720144566, 1.2771642094219255, 1.4113133544016951, -0.29750095974408886, -0.3162064319347066, 1.188528108737439, 0.579601446889555, -1.7869180545292704, 0.6597949108832315, -0.0001365483231869348, 1.1812217654383987, -0.039242310036225546, 0.055462809310465856, -0.26055519934982774, 0.6725828725192213, -0.5868956518865107, -0.36545184706978795, 0.9293783772779497, -1.12768298608976, -0.6802463660504389, 1.0337663943479858, -0.11482295289181627, -0.050142642112852305, -0.7605981670708353, 1.1776341864268012, -1.046185183818184, -0.7725793465552173, -0.19141931620324604, -0.5627311353208561, -0.6551472073374759, 0.1682953138174061, -1.219605336933295, 1.1676004025006497, -1.729816895327089, 0.7124705106659508, 1.5236894135662393, -1.6321268418409738, -0.7707520544200946, -0.05597956411105408, 0.16633345555002213, 1.3749075858226854, 0.7668818323383592, 1.2292117573820642, -0.09963937439980546, 1.8913086287611742, -0.13916805496855586, -0.8661975302049588, 0.011535216890753078, 1.2450592447021642, -2.211752092799134], \"yaxis\": \"y7\"}, {\"line\": {\"color\": \"rgba(128, 128, 128, 1.0)\", \"dash\": \"solid\", \"shape\": \"linear\", \"width\": 1.3}, \"marker\": {\"size\": 2, \"symbol\": \"circle\"}, \"mode\": \"markers\", \"name\": \"B\", \"text\": \"\", \"type\": \"scatter\", \"x\": [-0.3732001785635488, 0.02772057204258057, 2.0780977673160814, 1.3345213603864252, 0.1694366973809169, -0.2684697638023764, -0.6082296092599212, 0.6508892453079715, -0.4345062907402152, -0.5617920353885649, -0.587017228791666, -1.090602506962519, -0.47177082945853616, -0.5047968481345675, 0.30674061235988115, -0.2580618267023648, 1.213046387572064, -0.10336248572090953, 1.2135641909949002, -0.29573781138810157, 0.09265697441911201, 1.181111268444659, 0.9794260265187278, -0.2066609559336435, -1.4324849127349883, 1.8973719521978711, -1.5770524954708642, -1.5233755285194996, -0.11954388695033413, 0.408227044615286, -0.7943217801990868, -0.4074277029874315, -1.2964724531322758, 1.3531820244255979, -0.10209548025668516, -3.962267411342711, 0.3925374957693042, -1.5987574555527004, -0.015690786883268432, -1.3646431233639413, 0.005367302494327931, -1.1544773552282033, 0.6812441407429343, 1.3980508128192732, -0.6960723365727628, 0.8007104031685038, 0.22814968085465678, 0.39540184605719475, -0.6465850039640896, -0.49131677264646473, -1.7766857278277122, -0.5308430489637528, -0.4143386231020363, 0.9564710084119504, -0.3110460476539002, 1.8446499699453207, 0.38994548400707324, -2.7684282902563084, -2.119079548307512, -0.1266261950522138, -0.45611608273969556, 0.077912447832572, -0.21689984979054935, -0.7121695757676461, -0.3490408053170844, 0.3906916972874522, -0.8297333159231602, -0.707490514149694, -1.2545296140226112, -0.05515145982340287, -0.40172092888359184, -1.8846250805252711, 0.9566507481486777, 1.6497778073533933, -1.4767802190660844, 0.05283350103280196, -1.0329661785748872, 0.5644947822224133, -3.2623765712883497, -0.050082748227648924, -0.31321634490070466, -1.0917145834668929, 0.5450272060871032, -0.27725916223419866, -1.3544628542209094, -2.561107978279768, -0.29988417704474407, -0.08734822296629834, 0.31378902477164194, -0.08316283323673339, -0.057673051473649005, -1.1827138584189956, -0.9354931234512995, 0.5391231576807595, 0.6683226564578738, 1.4246185626652708, -0.250826647645536, -1.7472524156312297, 0.0165326921674526, -0.07634791957043927], \"xaxis\": \"x8\", \"y\": [-0.3260093462636492, 0.24999368535084174, 0.23529007756177991, 1.497738301294124, -1.9235211183341405, -2.0300951821002418, -0.8026053432036195, -0.062102401082379945, 0.5733134985509706, -0.028200152143247094, 0.5457366836861638, 1.9105677035222017, -1.8510783961436936, 1.8936264586473475, 0.8455161682358032, 0.08530004905902606, 1.15547970626262, 0.33241678821461357, 0.8973896937867161, 0.19756270998312664, -0.5551208869803647, -0.7141539274695231, 0.009781143871655847, -0.7963514852359374, 0.18435114594596597, -0.7236122806767714, -0.6268367864953104, -1.0069813144186306, -0.5997263961705249, 0.2218092724149917, -1.170188533181909, -0.7686459812838211, -0.5673983196078344, 1.5249329961718672, -2.1774022163390523, -0.16736496395437145, 1.0228620924991214, 0.3910535831520817, 1.728288848550678, -0.009405137671356954, 0.9241988728738655, 0.44155721095505096, -0.22054721336042088, 0.5781436798174855, -1.290605550402523, -0.8219921260635391, 0.6672891466109183, -1.0544087228560581, 0.8576970417953911, 1.4773492966329609, -0.37563342720144566, 1.2771642094219255, 1.4113133544016951, -0.29750095974408886, -0.3162064319347066, 1.188528108737439, 0.579601446889555, -1.7869180545292704, 0.6597949108832315, -0.0001365483231869348, 1.1812217654383987, -0.039242310036225546, 0.055462809310465856, -0.26055519934982774, 0.6725828725192213, -0.5868956518865107, -0.36545184706978795, 0.9293783772779497, -1.12768298608976, -0.6802463660504389, 1.0337663943479858, -0.11482295289181627, -0.050142642112852305, -0.7605981670708353, 1.1776341864268012, -1.046185183818184, -0.7725793465552173, -0.19141931620324604, -0.5627311353208561, -0.6551472073374759, 0.1682953138174061, -1.219605336933295, 1.1676004025006497, -1.729816895327089, 0.7124705106659508, 1.5236894135662393, -1.6321268418409738, -0.7707520544200946, -0.05597956411105408, 0.16633345555002213, 1.3749075858226854, 0.7668818323383592, 1.2292117573820642, -0.09963937439980546, 1.8913086287611742, -0.13916805496855586, -0.8661975302049588, 0.011535216890753078, 1.2450592447021642, -2.211752092799134], \"yaxis\": \"y8\"}, {\"line\": {\"color\": \"rgba(128, 128, 128, 1.0)\", \"dash\": \"solid\", \"shape\": \"linear\", \"width\": 1.3}, \"marker\": {\"size\": 2, \"symbol\": \"circle\"}, \"mode\": \"markers\", \"name\": \"C\", \"text\": \"\", \"type\": \"scatter\", \"x\": [0.48758791284167, -1.0945360538696463, -0.025109160636671034, 0.5318438573072443, 1.170821047816164, -1.0781069618216137, 0.023929908721716072, -0.3341668073479446, 0.15466770476350178, 1.5446639151497434, 1.4056054833842484, 1.6261568763361154, -1.1227374435458701, 0.28194097407828445, -0.682223671693977, -0.9562545728370384, -0.7209835661743308, -0.03317994654738412, 0.5205553063310279, -1.1366028975811477, -0.9786485170200829, 0.13548859544218975, -0.0009540853056883342, 0.5979449535006777, 1.1149531211625783, 0.4283544325769933, -0.2411460571149065, -1.2870861552795327, 0.03636844814017887, 1.2075977330375478, -1.1535869763732076, 1.0628415041799286, -1.0491639233442693, 1.3811022114090363, -0.3613211905254392, -0.45890225542836116, -0.12162760141230262, -0.8396215800903595, -0.565381067065979, -3.4566182937067276, 0.8993420377570022, 0.2165974313829244, 1.6103508033055005, 0.0094913782519163, 0.45531265282040323, 0.6119558083278896, -0.2942946657226144, -1.2729657899992224, -0.3545189453227468, 0.07805696223208544, -0.66178932419833, -1.6925420918465717, -0.1307554580410991, -0.39774105359567025, -1.516011865561858, -0.5391143165355534, -1.1142859655918813, 1.0551320487656342, -0.5717178581500568, -0.1073076890360471, -1.5270560562106272, -0.7899843365922449, -0.6356350799456826, -0.41468126319261245, 1.6781806287486598, -0.33874390881565875, 0.18609602799409797, -1.2338502645280391, 0.10345221635878635, 0.6586971927026098, 0.5813188464153145, 1.3837115433387472, -0.29753261872603187, -1.6128956978544893, -1.103081913031465, -0.15162181863861388, 0.7316627867109841, -0.8665646320585265, -1.701661298481288, 1.596184275190892, 0.14494608879711593, -0.41603294033322546, 0.9563325173459639, -0.30156389581498877, 0.926333185290943, 0.6631382639673186, 0.39152621569100776, -0.5826926583224311, 0.6255130281637811, -0.21940433600962406, -0.9505295760532173, -0.10707435083175479, 0.37504647253794426, -0.7821664392300294, 1.213031390357866, -0.009994398016467693, 0.9894948390200397, -1.647259086231465, 0.9233657259667436, 0.17155861516031895], \"xaxis\": \"x9\", \"y\": [-0.9215737996680481, 0.24257794495661747, 0.28730374971215455, 0.14040275264155666, -0.01454372243547929, 0.5701479887456785, -0.5913889393179355, -0.5391923903512743, -0.1268109615054854, 0.8330285935502711, -0.45887812076157464, -0.9098656132168144, 0.30937887086993643, -1.3173769403479854, 1.1390528635745454, -0.054313980526728284, -0.06345952949402739, -1.1848137236310903, 0.07638907718243115, -0.7575403986569592, 1.7111419842743498, 0.27368305370590473, -0.14455085058261638, 0.035816694898625955, 0.21415107397239885, 1.9934432737074155, 0.25865489493566746, -2.311189157953442, 0.6209601156744055, 0.7504779554943947, 0.09748343837697022, 0.17482346528953707, 0.5823900490090388, 1.1176691088840645, -0.15595798168684122, -0.39505494965702165, -0.43222799923157496, -0.021203250326226684, 1.536868590901801, 0.8289905654680133, 0.920122027822724, 0.7552087906910285, -0.4435526780625535, 0.7533509524104882, -0.3163692824277632, -1.3740015077056968, 1.4844837012254757, 1.6989196256086767, 0.21383303878010604, 0.8903447804836941, -0.4811875074025367, -0.4083018305349428, 1.5122987569757786, -3.456495150976108, -0.5078588732223014, -0.19091788141284483, 0.07076357456210358, -1.1408201971843714, 1.8997545762062136, 0.09703976302099852, 0.039703654766854495, 1.0494411955167449, 0.029929215098847543, 1.7940867369711784, -1.4870984274296137, -0.6874900617646675, 1.4365266243030386, 0.0230165236855401, -0.3063837206223713, -2.659682030893965, 1.2274792247016022, 0.3119932445595903, 1.2018157112787466, 0.5033149695523894, -0.01920839903472686, 0.15679949048063785, 0.12213403014052661, -0.12491818968818347, 0.9322611703529357, -0.32080906005630394, -1.9843429087528304, -2.1117410103351584, -0.9971293003585686, 1.2539711506249005, -0.9705376358440737, 1.110380938606927, -0.9658677901361647, -1.3794425991471915, -0.18429815818266237, -2.4709888143236496, 2.0947893798665924, -0.3557969469360339, 0.5337181750396833, 0.12295132345624875, 1.425546310958585, 0.1999557525436834, -1.293395493776135, 1.221242082392363, -0.7800515940717015, -0.4455096834649943], \"yaxis\": \"y9\"}, {\"line\": {\"color\": \"rgba(128, 128, 128, 1.0)\", \"dash\": \"solid\", \"shape\": \"linear\", \"width\": 1.3}, \"marker\": {\"size\": 2, \"symbol\": \"circle\"}, \"mode\": \"markers\", \"name\": \"C\", \"text\": \"\", \"type\": \"scatter\", \"x\": [-0.3260093462636492, 0.24999368535084174, 0.23529007756177991, 1.497738301294124, -1.9235211183341405, -2.0300951821002418, -0.8026053432036195, -0.062102401082379945, 0.5733134985509706, -0.028200152143247094, 0.5457366836861638, 1.9105677035222017, -1.8510783961436936, 1.8936264586473475, 0.8455161682358032, 0.08530004905902606, 1.15547970626262, 0.33241678821461357, 0.8973896937867161, 0.19756270998312664, -0.5551208869803647, -0.7141539274695231, 0.009781143871655847, -0.7963514852359374, 0.18435114594596597, -0.7236122806767714, -0.6268367864953104, -1.0069813144186306, -0.5997263961705249, 0.2218092724149917, -1.170188533181909, -0.7686459812838211, -0.5673983196078344, 1.5249329961718672, -2.1774022163390523, -0.16736496395437145, 1.0228620924991214, 0.3910535831520817, 1.728288848550678, -0.009405137671356954, 0.9241988728738655, 0.44155721095505096, -0.22054721336042088, 0.5781436798174855, -1.290605550402523, -0.8219921260635391, 0.6672891466109183, -1.0544087228560581, 0.8576970417953911, 1.4773492966329609, -0.37563342720144566, 1.2771642094219255, 1.4113133544016951, -0.29750095974408886, -0.3162064319347066, 1.188528108737439, 0.579601446889555, -1.7869180545292704, 0.6597949108832315, -0.0001365483231869348, 1.1812217654383987, -0.039242310036225546, 0.055462809310465856, -0.26055519934982774, 0.6725828725192213, -0.5868956518865107, -0.36545184706978795, 0.9293783772779497, -1.12768298608976, -0.6802463660504389, 1.0337663943479858, -0.11482295289181627, -0.050142642112852305, -0.7605981670708353, 1.1776341864268012, -1.046185183818184, -0.7725793465552173, -0.19141931620324604, -0.5627311353208561, -0.6551472073374759, 0.1682953138174061, -1.219605336933295, 1.1676004025006497, -1.729816895327089, 0.7124705106659508, 1.5236894135662393, -1.6321268418409738, -0.7707520544200946, -0.05597956411105408, 0.16633345555002213, 1.3749075858226854, 0.7668818323383592, 1.2292117573820642, -0.09963937439980546, 1.8913086287611742, -0.13916805496855586, -0.8661975302049588, 0.011535216890753078, 1.2450592447021642, -2.211752092799134], \"xaxis\": \"x10\", \"y\": [-0.9215737996680481, 0.24257794495661747, 0.28730374971215455, 0.14040275264155666, -0.01454372243547929, 0.5701479887456785, -0.5913889393179355, -0.5391923903512743, -0.1268109615054854, 0.8330285935502711, -0.45887812076157464, -0.9098656132168144, 0.30937887086993643, -1.3173769403479854, 1.1390528635745454, -0.054313980526728284, -0.06345952949402739, -1.1848137236310903, 0.07638907718243115, -0.7575403986569592, 1.7111419842743498, 0.27368305370590473, -0.14455085058261638, 0.035816694898625955, 0.21415107397239885, 1.9934432737074155, 0.25865489493566746, -2.311189157953442, 0.6209601156744055, 0.7504779554943947, 0.09748343837697022, 0.17482346528953707, 0.5823900490090388, 1.1176691088840645, -0.15595798168684122, -0.39505494965702165, -0.43222799923157496, -0.021203250326226684, 1.536868590901801, 0.8289905654680133, 0.920122027822724, 0.7552087906910285, -0.4435526780625535, 0.7533509524104882, -0.3163692824277632, -1.3740015077056968, 1.4844837012254757, 1.6989196256086767, 0.21383303878010604, 0.8903447804836941, -0.4811875074025367, -0.4083018305349428, 1.5122987569757786, -3.456495150976108, -0.5078588732223014, -0.19091788141284483, 0.07076357456210358, -1.1408201971843714, 1.8997545762062136, 0.09703976302099852, 0.039703654766854495, 1.0494411955167449, 0.029929215098847543, 1.7940867369711784, -1.4870984274296137, -0.6874900617646675, 1.4365266243030386, 0.0230165236855401, -0.3063837206223713, -2.659682030893965, 1.2274792247016022, 0.3119932445595903, 1.2018157112787466, 0.5033149695523894, -0.01920839903472686, 0.15679949048063785, 0.12213403014052661, -0.12491818968818347, 0.9322611703529357, -0.32080906005630394, -1.9843429087528304, -2.1117410103351584, -0.9971293003585686, 1.2539711506249005, -0.9705376358440737, 1.110380938606927, -0.9658677901361647, -1.3794425991471915, -0.18429815818266237, -2.4709888143236496, 2.0947893798665924, -0.3557969469360339, 0.5337181750396833, 0.12295132345624875, 1.425546310958585, 0.1999557525436834, -1.293395493776135, 1.221242082392363, -0.7800515940717015, -0.4455096834649943], \"yaxis\": \"y10\"}, {\"histfunc\": \"count\", \"histnorm\": \"\", \"marker\": {\"color\": \"rgba(50, 171, 96, 1.0)\", \"line\": {\"color\": \"#4D5663\", \"width\": 1.3}}, \"name\": \"C\", \"nbinsx\": 10, \"opacity\": 0.8, \"orientation\": \"v\", \"type\": \"histogram\", \"x\": [-0.9215737996680481, 0.24257794495661747, 0.28730374971215455, 0.14040275264155666, -0.01454372243547929, 0.5701479887456785, -0.5913889393179355, -0.5391923903512743, -0.1268109615054854, 0.8330285935502711, -0.45887812076157464, -0.9098656132168144, 0.30937887086993643, -1.3173769403479854, 1.1390528635745454, -0.054313980526728284, -0.06345952949402739, -1.1848137236310903, 0.07638907718243115, -0.7575403986569592, 1.7111419842743498, 0.27368305370590473, -0.14455085058261638, 0.035816694898625955, 0.21415107397239885, 1.9934432737074155, 0.25865489493566746, -2.311189157953442, 0.6209601156744055, 0.7504779554943947, 0.09748343837697022, 0.17482346528953707, 0.5823900490090388, 1.1176691088840645, -0.15595798168684122, -0.39505494965702165, -0.43222799923157496, -0.021203250326226684, 1.536868590901801, 0.8289905654680133, 0.920122027822724, 0.7552087906910285, -0.4435526780625535, 0.7533509524104882, -0.3163692824277632, -1.3740015077056968, 1.4844837012254757, 1.6989196256086767, 0.21383303878010604, 0.8903447804836941, -0.4811875074025367, -0.4083018305349428, 1.5122987569757786, -3.456495150976108, -0.5078588732223014, -0.19091788141284483, 0.07076357456210358, -1.1408201971843714, 1.8997545762062136, 0.09703976302099852, 0.039703654766854495, 1.0494411955167449, 0.029929215098847543, 1.7940867369711784, -1.4870984274296137, -0.6874900617646675, 1.4365266243030386, 0.0230165236855401, -0.3063837206223713, -2.659682030893965, 1.2274792247016022, 0.3119932445595903, 1.2018157112787466, 0.5033149695523894, -0.01920839903472686, 0.15679949048063785, 0.12213403014052661, -0.12491818968818347, 0.9322611703529357, -0.32080906005630394, -1.9843429087528304, -2.1117410103351584, -0.9971293003585686, 1.2539711506249005, -0.9705376358440737, 1.110380938606927, -0.9658677901361647, -1.3794425991471915, -0.18429815818266237, -2.4709888143236496, 2.0947893798665924, -0.3557969469360339, 0.5337181750396833, 0.12295132345624875, 1.425546310958585, 0.1999557525436834, -1.293395493776135, 1.221242082392363, -0.7800515940717015, -0.4455096834649943], \"xaxis\": \"x11\", \"yaxis\": \"y11\"}, {\"line\": {\"color\": \"rgba(128, 128, 128, 1.0)\", \"dash\": \"solid\", \"shape\": \"linear\", \"width\": 1.3}, \"marker\": {\"size\": 2, \"symbol\": \"circle\"}, \"mode\": \"markers\", \"name\": \"C\", \"text\": \"\", \"type\": \"scatter\", \"x\": [-0.3732001785635488, 0.02772057204258057, 2.0780977673160814, 1.3345213603864252, 0.1694366973809169, -0.2684697638023764, -0.6082296092599212, 0.6508892453079715, -0.4345062907402152, -0.5617920353885649, -0.587017228791666, -1.090602506962519, -0.47177082945853616, -0.5047968481345675, 0.30674061235988115, -0.2580618267023648, 1.213046387572064, -0.10336248572090953, 1.2135641909949002, -0.29573781138810157, 0.09265697441911201, 1.181111268444659, 0.9794260265187278, -0.2066609559336435, -1.4324849127349883, 1.8973719521978711, -1.5770524954708642, -1.5233755285194996, -0.11954388695033413, 0.408227044615286, -0.7943217801990868, -0.4074277029874315, -1.2964724531322758, 1.3531820244255979, -0.10209548025668516, -3.962267411342711, 0.3925374957693042, -1.5987574555527004, -0.015690786883268432, -1.3646431233639413, 0.005367302494327931, -1.1544773552282033, 0.6812441407429343, 1.3980508128192732, -0.6960723365727628, 0.8007104031685038, 0.22814968085465678, 0.39540184605719475, -0.6465850039640896, -0.49131677264646473, -1.7766857278277122, -0.5308430489637528, -0.4143386231020363, 0.9564710084119504, -0.3110460476539002, 1.8446499699453207, 0.38994548400707324, -2.7684282902563084, -2.119079548307512, -0.1266261950522138, -0.45611608273969556, 0.077912447832572, -0.21689984979054935, -0.7121695757676461, -0.3490408053170844, 0.3906916972874522, -0.8297333159231602, -0.707490514149694, -1.2545296140226112, -0.05515145982340287, -0.40172092888359184, -1.8846250805252711, 0.9566507481486777, 1.6497778073533933, -1.4767802190660844, 0.05283350103280196, -1.0329661785748872, 0.5644947822224133, -3.2623765712883497, -0.050082748227648924, -0.31321634490070466, -1.0917145834668929, 0.5450272060871032, -0.27725916223419866, -1.3544628542209094, -2.561107978279768, -0.29988417704474407, -0.08734822296629834, 0.31378902477164194, -0.08316283323673339, -0.057673051473649005, -1.1827138584189956, -0.9354931234512995, 0.5391231576807595, 0.6683226564578738, 1.4246185626652708, -0.250826647645536, -1.7472524156312297, 0.0165326921674526, -0.07634791957043927], \"xaxis\": \"x12\", \"y\": [-0.9215737996680481, 0.24257794495661747, 0.28730374971215455, 0.14040275264155666, -0.01454372243547929, 0.5701479887456785, -0.5913889393179355, -0.5391923903512743, -0.1268109615054854, 0.8330285935502711, -0.45887812076157464, -0.9098656132168144, 0.30937887086993643, -1.3173769403479854, 1.1390528635745454, -0.054313980526728284, -0.06345952949402739, -1.1848137236310903, 0.07638907718243115, -0.7575403986569592, 1.7111419842743498, 0.27368305370590473, -0.14455085058261638, 0.035816694898625955, 0.21415107397239885, 1.9934432737074155, 0.25865489493566746, -2.311189157953442, 0.6209601156744055, 0.7504779554943947, 0.09748343837697022, 0.17482346528953707, 0.5823900490090388, 1.1176691088840645, -0.15595798168684122, -0.39505494965702165, -0.43222799923157496, -0.021203250326226684, 1.536868590901801, 0.8289905654680133, 0.920122027822724, 0.7552087906910285, -0.4435526780625535, 0.7533509524104882, -0.3163692824277632, -1.3740015077056968, 1.4844837012254757, 1.6989196256086767, 0.21383303878010604, 0.8903447804836941, -0.4811875074025367, -0.4083018305349428, 1.5122987569757786, -3.456495150976108, -0.5078588732223014, -0.19091788141284483, 0.07076357456210358, -1.1408201971843714, 1.8997545762062136, 0.09703976302099852, 0.039703654766854495, 1.0494411955167449, 0.029929215098847543, 1.7940867369711784, -1.4870984274296137, -0.6874900617646675, 1.4365266243030386, 0.0230165236855401, -0.3063837206223713, -2.659682030893965, 1.2274792247016022, 0.3119932445595903, 1.2018157112787466, 0.5033149695523894, -0.01920839903472686, 0.15679949048063785, 0.12213403014052661, -0.12491818968818347, 0.9322611703529357, -0.32080906005630394, -1.9843429087528304, -2.1117410103351584, -0.9971293003585686, 1.2539711506249005, -0.9705376358440737, 1.110380938606927, -0.9658677901361647, -1.3794425991471915, -0.18429815818266237, -2.4709888143236496, 2.0947893798665924, -0.3557969469360339, 0.5337181750396833, 0.12295132345624875, 1.425546310958585, 0.1999557525436834, -1.293395493776135, 1.221242082392363, -0.7800515940717015, -0.4455096834649943], \"yaxis\": \"y12\"}, {\"line\": {\"color\": \"rgba(128, 128, 128, 1.0)\", \"dash\": \"solid\", \"shape\": \"linear\", \"width\": 1.3}, \"marker\": {\"size\": 2, \"symbol\": \"circle\"}, \"mode\": \"markers\", \"name\": \"D\", \"text\": \"\", \"type\": \"scatter\", \"x\": [0.48758791284167, -1.0945360538696463, -0.025109160636671034, 0.5318438573072443, 1.170821047816164, -1.0781069618216137, 0.023929908721716072, -0.3341668073479446, 0.15466770476350178, 1.5446639151497434, 1.4056054833842484, 1.6261568763361154, -1.1227374435458701, 0.28194097407828445, -0.682223671693977, -0.9562545728370384, -0.7209835661743308, -0.03317994654738412, 0.5205553063310279, -1.1366028975811477, -0.9786485170200829, 0.13548859544218975, -0.0009540853056883342, 0.5979449535006777, 1.1149531211625783, 0.4283544325769933, -0.2411460571149065, -1.2870861552795327, 0.03636844814017887, 1.2075977330375478, -1.1535869763732076, 1.0628415041799286, -1.0491639233442693, 1.3811022114090363, -0.3613211905254392, -0.45890225542836116, -0.12162760141230262, -0.8396215800903595, -0.565381067065979, -3.4566182937067276, 0.8993420377570022, 0.2165974313829244, 1.6103508033055005, 0.0094913782519163, 0.45531265282040323, 0.6119558083278896, -0.2942946657226144, -1.2729657899992224, -0.3545189453227468, 0.07805696223208544, -0.66178932419833, -1.6925420918465717, -0.1307554580410991, -0.39774105359567025, -1.516011865561858, -0.5391143165355534, -1.1142859655918813, 1.0551320487656342, -0.5717178581500568, -0.1073076890360471, -1.5270560562106272, -0.7899843365922449, -0.6356350799456826, -0.41468126319261245, 1.6781806287486598, -0.33874390881565875, 0.18609602799409797, -1.2338502645280391, 0.10345221635878635, 0.6586971927026098, 0.5813188464153145, 1.3837115433387472, -0.29753261872603187, -1.6128956978544893, -1.103081913031465, -0.15162181863861388, 0.7316627867109841, -0.8665646320585265, -1.701661298481288, 1.596184275190892, 0.14494608879711593, -0.41603294033322546, 0.9563325173459639, -0.30156389581498877, 0.926333185290943, 0.6631382639673186, 0.39152621569100776, -0.5826926583224311, 0.6255130281637811, -0.21940433600962406, -0.9505295760532173, -0.10707435083175479, 0.37504647253794426, -0.7821664392300294, 1.213031390357866, -0.009994398016467693, 0.9894948390200397, -1.647259086231465, 0.9233657259667436, 0.17155861516031895], \"xaxis\": \"x13\", \"y\": [-0.3732001785635488, 0.02772057204258057, 2.0780977673160814, 1.3345213603864252, 0.1694366973809169, -0.2684697638023764, -0.6082296092599212, 0.6508892453079715, -0.4345062907402152, -0.5617920353885649, -0.587017228791666, -1.090602506962519, -0.47177082945853616, -0.5047968481345675, 0.30674061235988115, -0.2580618267023648, 1.213046387572064, -0.10336248572090953, 1.2135641909949002, -0.29573781138810157, 0.09265697441911201, 1.181111268444659, 0.9794260265187278, -0.2066609559336435, -1.4324849127349883, 1.8973719521978711, -1.5770524954708642, -1.5233755285194996, -0.11954388695033413, 0.408227044615286, -0.7943217801990868, -0.4074277029874315, -1.2964724531322758, 1.3531820244255979, -0.10209548025668516, -3.962267411342711, 0.3925374957693042, -1.5987574555527004, -0.015690786883268432, -1.3646431233639413, 0.005367302494327931, -1.1544773552282033, 0.6812441407429343, 1.3980508128192732, -0.6960723365727628, 0.8007104031685038, 0.22814968085465678, 0.39540184605719475, -0.6465850039640896, -0.49131677264646473, -1.7766857278277122, -0.5308430489637528, -0.4143386231020363, 0.9564710084119504, -0.3110460476539002, 1.8446499699453207, 0.38994548400707324, -2.7684282902563084, -2.119079548307512, -0.1266261950522138, -0.45611608273969556, 0.077912447832572, -0.21689984979054935, -0.7121695757676461, -0.3490408053170844, 0.3906916972874522, -0.8297333159231602, -0.707490514149694, -1.2545296140226112, -0.05515145982340287, -0.40172092888359184, -1.8846250805252711, 0.9566507481486777, 1.6497778073533933, -1.4767802190660844, 0.05283350103280196, -1.0329661785748872, 0.5644947822224133, -3.2623765712883497, -0.050082748227648924, -0.31321634490070466, -1.0917145834668929, 0.5450272060871032, -0.27725916223419866, -1.3544628542209094, -2.561107978279768, -0.29988417704474407, -0.08734822296629834, 0.31378902477164194, -0.08316283323673339, -0.057673051473649005, -1.1827138584189956, -0.9354931234512995, 0.5391231576807595, 0.6683226564578738, 1.4246185626652708, -0.250826647645536, -1.7472524156312297, 0.0165326921674526, -0.07634791957043927], \"yaxis\": \"y13\"}, {\"line\": {\"color\": \"rgba(128, 128, 128, 1.0)\", \"dash\": \"solid\", \"shape\": \"linear\", \"width\": 1.3}, \"marker\": {\"size\": 2, \"symbol\": \"circle\"}, \"mode\": \"markers\", \"name\": \"D\", \"text\": \"\", \"type\": \"scatter\", \"x\": [-0.3260093462636492, 0.24999368535084174, 0.23529007756177991, 1.497738301294124, -1.9235211183341405, -2.0300951821002418, -0.8026053432036195, -0.062102401082379945, 0.5733134985509706, -0.028200152143247094, 0.5457366836861638, 1.9105677035222017, -1.8510783961436936, 1.8936264586473475, 0.8455161682358032, 0.08530004905902606, 1.15547970626262, 0.33241678821461357, 0.8973896937867161, 0.19756270998312664, -0.5551208869803647, -0.7141539274695231, 0.009781143871655847, -0.7963514852359374, 0.18435114594596597, -0.7236122806767714, -0.6268367864953104, -1.0069813144186306, -0.5997263961705249, 0.2218092724149917, -1.170188533181909, -0.7686459812838211, -0.5673983196078344, 1.5249329961718672, -2.1774022163390523, -0.16736496395437145, 1.0228620924991214, 0.3910535831520817, 1.728288848550678, -0.009405137671356954, 0.9241988728738655, 0.44155721095505096, -0.22054721336042088, 0.5781436798174855, -1.290605550402523, -0.8219921260635391, 0.6672891466109183, -1.0544087228560581, 0.8576970417953911, 1.4773492966329609, -0.37563342720144566, 1.2771642094219255, 1.4113133544016951, -0.29750095974408886, -0.3162064319347066, 1.188528108737439, 0.579601446889555, -1.7869180545292704, 0.6597949108832315, -0.0001365483231869348, 1.1812217654383987, -0.039242310036225546, 0.055462809310465856, -0.26055519934982774, 0.6725828725192213, -0.5868956518865107, -0.36545184706978795, 0.9293783772779497, -1.12768298608976, -0.6802463660504389, 1.0337663943479858, -0.11482295289181627, -0.050142642112852305, -0.7605981670708353, 1.1776341864268012, -1.046185183818184, -0.7725793465552173, -0.19141931620324604, -0.5627311353208561, -0.6551472073374759, 0.1682953138174061, -1.219605336933295, 1.1676004025006497, -1.729816895327089, 0.7124705106659508, 1.5236894135662393, -1.6321268418409738, -0.7707520544200946, -0.05597956411105408, 0.16633345555002213, 1.3749075858226854, 0.7668818323383592, 1.2292117573820642, -0.09963937439980546, 1.8913086287611742, -0.13916805496855586, -0.8661975302049588, 0.011535216890753078, 1.2450592447021642, -2.211752092799134], \"xaxis\": \"x14\", \"y\": [-0.3732001785635488, 0.02772057204258057, 2.0780977673160814, 1.3345213603864252, 0.1694366973809169, -0.2684697638023764, -0.6082296092599212, 0.6508892453079715, -0.4345062907402152, -0.5617920353885649, -0.587017228791666, -1.090602506962519, -0.47177082945853616, -0.5047968481345675, 0.30674061235988115, -0.2580618267023648, 1.213046387572064, -0.10336248572090953, 1.2135641909949002, -0.29573781138810157, 0.09265697441911201, 1.181111268444659, 0.9794260265187278, -0.2066609559336435, -1.4324849127349883, 1.8973719521978711, -1.5770524954708642, -1.5233755285194996, -0.11954388695033413, 0.408227044615286, -0.7943217801990868, -0.4074277029874315, -1.2964724531322758, 1.3531820244255979, -0.10209548025668516, -3.962267411342711, 0.3925374957693042, -1.5987574555527004, -0.015690786883268432, -1.3646431233639413, 0.005367302494327931, -1.1544773552282033, 0.6812441407429343, 1.3980508128192732, -0.6960723365727628, 0.8007104031685038, 0.22814968085465678, 0.39540184605719475, -0.6465850039640896, -0.49131677264646473, -1.7766857278277122, -0.5308430489637528, -0.4143386231020363, 0.9564710084119504, -0.3110460476539002, 1.8446499699453207, 0.38994548400707324, -2.7684282902563084, -2.119079548307512, -0.1266261950522138, -0.45611608273969556, 0.077912447832572, -0.21689984979054935, -0.7121695757676461, -0.3490408053170844, 0.3906916972874522, -0.8297333159231602, -0.707490514149694, -1.2545296140226112, -0.05515145982340287, -0.40172092888359184, -1.8846250805252711, 0.9566507481486777, 1.6497778073533933, -1.4767802190660844, 0.05283350103280196, -1.0329661785748872, 0.5644947822224133, -3.2623765712883497, -0.050082748227648924, -0.31321634490070466, -1.0917145834668929, 0.5450272060871032, -0.27725916223419866, -1.3544628542209094, -2.561107978279768, -0.29988417704474407, -0.08734822296629834, 0.31378902477164194, -0.08316283323673339, -0.057673051473649005, -1.1827138584189956, -0.9354931234512995, 0.5391231576807595, 0.6683226564578738, 1.4246185626652708, -0.250826647645536, -1.7472524156312297, 0.0165326921674526, -0.07634791957043927], \"yaxis\": \"y14\"}, {\"line\": {\"color\": \"rgba(128, 128, 128, 1.0)\", \"dash\": \"solid\", \"shape\": \"linear\", \"width\": 1.3}, \"marker\": {\"size\": 2, \"symbol\": \"circle\"}, \"mode\": \"markers\", \"name\": \"D\", \"text\": \"\", \"type\": \"scatter\", \"x\": [-0.9215737996680481, 0.24257794495661747, 0.28730374971215455, 0.14040275264155666, -0.01454372243547929, 0.5701479887456785, -0.5913889393179355, -0.5391923903512743, -0.1268109615054854, 0.8330285935502711, -0.45887812076157464, -0.9098656132168144, 0.30937887086993643, -1.3173769403479854, 1.1390528635745454, -0.054313980526728284, -0.06345952949402739, -1.1848137236310903, 0.07638907718243115, -0.7575403986569592, 1.7111419842743498, 0.27368305370590473, -0.14455085058261638, 0.035816694898625955, 0.21415107397239885, 1.9934432737074155, 0.25865489493566746, -2.311189157953442, 0.6209601156744055, 0.7504779554943947, 0.09748343837697022, 0.17482346528953707, 0.5823900490090388, 1.1176691088840645, -0.15595798168684122, -0.39505494965702165, -0.43222799923157496, -0.021203250326226684, 1.536868590901801, 0.8289905654680133, 0.920122027822724, 0.7552087906910285, -0.4435526780625535, 0.7533509524104882, -0.3163692824277632, -1.3740015077056968, 1.4844837012254757, 1.6989196256086767, 0.21383303878010604, 0.8903447804836941, -0.4811875074025367, -0.4083018305349428, 1.5122987569757786, -3.456495150976108, -0.5078588732223014, -0.19091788141284483, 0.07076357456210358, -1.1408201971843714, 1.8997545762062136, 0.09703976302099852, 0.039703654766854495, 1.0494411955167449, 0.029929215098847543, 1.7940867369711784, -1.4870984274296137, -0.6874900617646675, 1.4365266243030386, 0.0230165236855401, -0.3063837206223713, -2.659682030893965, 1.2274792247016022, 0.3119932445595903, 1.2018157112787466, 0.5033149695523894, -0.01920839903472686, 0.15679949048063785, 0.12213403014052661, -0.12491818968818347, 0.9322611703529357, -0.32080906005630394, -1.9843429087528304, -2.1117410103351584, -0.9971293003585686, 1.2539711506249005, -0.9705376358440737, 1.110380938606927, -0.9658677901361647, -1.3794425991471915, -0.18429815818266237, -2.4709888143236496, 2.0947893798665924, -0.3557969469360339, 0.5337181750396833, 0.12295132345624875, 1.425546310958585, 0.1999557525436834, -1.293395493776135, 1.221242082392363, -0.7800515940717015, -0.4455096834649943], \"xaxis\": \"x15\", \"y\": [-0.3732001785635488, 0.02772057204258057, 2.0780977673160814, 1.3345213603864252, 0.1694366973809169, -0.2684697638023764, -0.6082296092599212, 0.6508892453079715, -0.4345062907402152, -0.5617920353885649, -0.587017228791666, -1.090602506962519, -0.47177082945853616, -0.5047968481345675, 0.30674061235988115, -0.2580618267023648, 1.213046387572064, -0.10336248572090953, 1.2135641909949002, -0.29573781138810157, 0.09265697441911201, 1.181111268444659, 0.9794260265187278, -0.2066609559336435, -1.4324849127349883, 1.8973719521978711, -1.5770524954708642, -1.5233755285194996, -0.11954388695033413, 0.408227044615286, -0.7943217801990868, -0.4074277029874315, -1.2964724531322758, 1.3531820244255979, -0.10209548025668516, -3.962267411342711, 0.3925374957693042, -1.5987574555527004, -0.015690786883268432, -1.3646431233639413, 0.005367302494327931, -1.1544773552282033, 0.6812441407429343, 1.3980508128192732, -0.6960723365727628, 0.8007104031685038, 0.22814968085465678, 0.39540184605719475, -0.6465850039640896, -0.49131677264646473, -1.7766857278277122, -0.5308430489637528, -0.4143386231020363, 0.9564710084119504, -0.3110460476539002, 1.8446499699453207, 0.38994548400707324, -2.7684282902563084, -2.119079548307512, -0.1266261950522138, -0.45611608273969556, 0.077912447832572, -0.21689984979054935, -0.7121695757676461, -0.3490408053170844, 0.3906916972874522, -0.8297333159231602, -0.707490514149694, -1.2545296140226112, -0.05515145982340287, -0.40172092888359184, -1.8846250805252711, 0.9566507481486777, 1.6497778073533933, -1.4767802190660844, 0.05283350103280196, -1.0329661785748872, 0.5644947822224133, -3.2623765712883497, -0.050082748227648924, -0.31321634490070466, -1.0917145834668929, 0.5450272060871032, -0.27725916223419866, -1.3544628542209094, -2.561107978279768, -0.29988417704474407, -0.08734822296629834, 0.31378902477164194, -0.08316283323673339, -0.057673051473649005, -1.1827138584189956, -0.9354931234512995, 0.5391231576807595, 0.6683226564578738, 1.4246185626652708, -0.250826647645536, -1.7472524156312297, 0.0165326921674526, -0.07634791957043927], \"yaxis\": \"y15\"}, {\"histfunc\": \"count\", \"histnorm\": \"\", \"marker\": {\"color\": \"rgba(128, 0, 128, 1.0)\", \"line\": {\"color\": \"#4D5663\", \"width\": 1.3}}, \"name\": \"D\", \"nbinsx\": 10, \"opacity\": 0.8, \"orientation\": \"v\", \"type\": \"histogram\", \"x\": [-0.3732001785635488, 0.02772057204258057, 2.0780977673160814, 1.3345213603864252, 0.1694366973809169, -0.2684697638023764, -0.6082296092599212, 0.6508892453079715, -0.4345062907402152, -0.5617920353885649, -0.587017228791666, -1.090602506962519, -0.47177082945853616, -0.5047968481345675, 0.30674061235988115, -0.2580618267023648, 1.213046387572064, -0.10336248572090953, 1.2135641909949002, -0.29573781138810157, 0.09265697441911201, 1.181111268444659, 0.9794260265187278, -0.2066609559336435, -1.4324849127349883, 1.8973719521978711, -1.5770524954708642, -1.5233755285194996, -0.11954388695033413, 0.408227044615286, -0.7943217801990868, -0.4074277029874315, -1.2964724531322758, 1.3531820244255979, -0.10209548025668516, -3.962267411342711, 0.3925374957693042, -1.5987574555527004, -0.015690786883268432, -1.3646431233639413, 0.005367302494327931, -1.1544773552282033, 0.6812441407429343, 1.3980508128192732, -0.6960723365727628, 0.8007104031685038, 0.22814968085465678, 0.39540184605719475, -0.6465850039640896, -0.49131677264646473, -1.7766857278277122, -0.5308430489637528, -0.4143386231020363, 0.9564710084119504, -0.3110460476539002, 1.8446499699453207, 0.38994548400707324, -2.7684282902563084, -2.119079548307512, -0.1266261950522138, -0.45611608273969556, 0.077912447832572, -0.21689984979054935, -0.7121695757676461, -0.3490408053170844, 0.3906916972874522, -0.8297333159231602, -0.707490514149694, -1.2545296140226112, -0.05515145982340287, -0.40172092888359184, -1.8846250805252711, 0.9566507481486777, 1.6497778073533933, -1.4767802190660844, 0.05283350103280196, -1.0329661785748872, 0.5644947822224133, -3.2623765712883497, -0.050082748227648924, -0.31321634490070466, -1.0917145834668929, 0.5450272060871032, -0.27725916223419866, -1.3544628542209094, -2.561107978279768, -0.29988417704474407, -0.08734822296629834, 0.31378902477164194, -0.08316283323673339, -0.057673051473649005, -1.1827138584189956, -0.9354931234512995, 0.5391231576807595, 0.6683226564578738, 1.4246185626652708, -0.250826647645536, -1.7472524156312297, 0.0165326921674526, -0.07634791957043927], \"xaxis\": \"x16\", \"yaxis\": \"y16\"}],\n",
       "                        {\"bargap\": 0.02, \"legend\": {\"bgcolor\": \"#F5F6F9\", \"font\": {\"color\": \"#4D5663\"}}, \"paper_bgcolor\": \"#F5F6F9\", \"plot_bgcolor\": \"#F5F6F9\", \"showlegend\": false, \"template\": {\"data\": {\"bar\": [{\"error_x\": {\"color\": \"#2a3f5f\"}, \"error_y\": {\"color\": \"#2a3f5f\"}, \"marker\": {\"line\": {\"color\": \"#E5ECF6\", \"width\": 0.5}}, \"type\": \"bar\"}], \"barpolar\": [{\"marker\": {\"line\": {\"color\": \"#E5ECF6\", \"width\": 0.5}}, \"type\": \"barpolar\"}], \"carpet\": [{\"aaxis\": {\"endlinecolor\": \"#2a3f5f\", \"gridcolor\": \"white\", \"linecolor\": \"white\", \"minorgridcolor\": \"white\", \"startlinecolor\": \"#2a3f5f\"}, \"baxis\": {\"endlinecolor\": \"#2a3f5f\", \"gridcolor\": \"white\", \"linecolor\": \"white\", \"minorgridcolor\": \"white\", \"startlinecolor\": \"#2a3f5f\"}, \"type\": \"carpet\"}], \"choropleth\": [{\"colorbar\": {\"outlinewidth\": 0, \"ticks\": \"\"}, \"type\": \"choropleth\"}], \"contour\": [{\"colorbar\": {\"outlinewidth\": 0, \"ticks\": \"\"}, \"colorscale\": [[0.0, \"#0d0887\"], [0.1111111111111111, \"#46039f\"], [0.2222222222222222, \"#7201a8\"], [0.3333333333333333, \"#9c179e\"], [0.4444444444444444, \"#bd3786\"], [0.5555555555555556, \"#d8576b\"], [0.6666666666666666, \"#ed7953\"], [0.7777777777777778, \"#fb9f3a\"], [0.8888888888888888, \"#fdca26\"], [1.0, \"#f0f921\"]], \"type\": \"contour\"}], \"contourcarpet\": [{\"colorbar\": {\"outlinewidth\": 0, \"ticks\": \"\"}, \"type\": \"contourcarpet\"}], \"heatmap\": [{\"colorbar\": {\"outlinewidth\": 0, \"ticks\": \"\"}, \"colorscale\": [[0.0, \"#0d0887\"], [0.1111111111111111, \"#46039f\"], [0.2222222222222222, \"#7201a8\"], [0.3333333333333333, \"#9c179e\"], [0.4444444444444444, \"#bd3786\"], [0.5555555555555556, \"#d8576b\"], [0.6666666666666666, \"#ed7953\"], [0.7777777777777778, \"#fb9f3a\"], [0.8888888888888888, \"#fdca26\"], [1.0, \"#f0f921\"]], \"type\": \"heatmap\"}], \"heatmapgl\": [{\"colorbar\": {\"outlinewidth\": 0, \"ticks\": \"\"}, \"colorscale\": [[0.0, \"#0d0887\"], [0.1111111111111111, \"#46039f\"], [0.2222222222222222, \"#7201a8\"], [0.3333333333333333, \"#9c179e\"], [0.4444444444444444, \"#bd3786\"], [0.5555555555555556, \"#d8576b\"], [0.6666666666666666, \"#ed7953\"], [0.7777777777777778, \"#fb9f3a\"], [0.8888888888888888, \"#fdca26\"], [1.0, \"#f0f921\"]], \"type\": \"heatmapgl\"}], \"histogram\": [{\"marker\": {\"colorbar\": {\"outlinewidth\": 0, \"ticks\": \"\"}}, \"type\": \"histogram\"}], \"histogram2d\": [{\"colorbar\": {\"outlinewidth\": 0, \"ticks\": \"\"}, \"colorscale\": [[0.0, \"#0d0887\"], [0.1111111111111111, \"#46039f\"], [0.2222222222222222, \"#7201a8\"], [0.3333333333333333, \"#9c179e\"], [0.4444444444444444, \"#bd3786\"], [0.5555555555555556, \"#d8576b\"], [0.6666666666666666, \"#ed7953\"], [0.7777777777777778, \"#fb9f3a\"], [0.8888888888888888, \"#fdca26\"], [1.0, \"#f0f921\"]], \"type\": \"histogram2d\"}], \"histogram2dcontour\": [{\"colorbar\": {\"outlinewidth\": 0, \"ticks\": \"\"}, \"colorscale\": [[0.0, \"#0d0887\"], [0.1111111111111111, \"#46039f\"], [0.2222222222222222, \"#7201a8\"], [0.3333333333333333, \"#9c179e\"], [0.4444444444444444, \"#bd3786\"], [0.5555555555555556, \"#d8576b\"], [0.6666666666666666, \"#ed7953\"], [0.7777777777777778, \"#fb9f3a\"], [0.8888888888888888, \"#fdca26\"], [1.0, \"#f0f921\"]], \"type\": \"histogram2dcontour\"}], \"mesh3d\": [{\"colorbar\": {\"outlinewidth\": 0, \"ticks\": \"\"}, \"type\": \"mesh3d\"}], \"parcoords\": [{\"line\": {\"colorbar\": {\"outlinewidth\": 0, \"ticks\": \"\"}}, \"type\": \"parcoords\"}], \"pie\": [{\"automargin\": true, \"type\": \"pie\"}], \"scatter\": [{\"marker\": {\"colorbar\": {\"outlinewidth\": 0, \"ticks\": \"\"}}, \"type\": \"scatter\"}], \"scatter3d\": [{\"line\": {\"colorbar\": {\"outlinewidth\": 0, \"ticks\": \"\"}}, \"marker\": {\"colorbar\": {\"outlinewidth\": 0, \"ticks\": \"\"}}, \"type\": \"scatter3d\"}], \"scattercarpet\": [{\"marker\": {\"colorbar\": {\"outlinewidth\": 0, \"ticks\": \"\"}}, \"type\": \"scattercarpet\"}], \"scattergeo\": [{\"marker\": {\"colorbar\": {\"outlinewidth\": 0, \"ticks\": \"\"}}, \"type\": \"scattergeo\"}], \"scattergl\": [{\"marker\": {\"colorbar\": {\"outlinewidth\": 0, \"ticks\": \"\"}}, \"type\": \"scattergl\"}], \"scattermapbox\": [{\"marker\": {\"colorbar\": {\"outlinewidth\": 0, \"ticks\": \"\"}}, \"type\": \"scattermapbox\"}], \"scatterpolar\": [{\"marker\": {\"colorbar\": {\"outlinewidth\": 0, \"ticks\": \"\"}}, \"type\": \"scatterpolar\"}], \"scatterpolargl\": [{\"marker\": {\"colorbar\": {\"outlinewidth\": 0, \"ticks\": \"\"}}, \"type\": \"scatterpolargl\"}], \"scatterternary\": [{\"marker\": {\"colorbar\": {\"outlinewidth\": 0, \"ticks\": \"\"}}, \"type\": \"scatterternary\"}], \"surface\": [{\"colorbar\": {\"outlinewidth\": 0, \"ticks\": \"\"}, \"colorscale\": [[0.0, \"#0d0887\"], [0.1111111111111111, \"#46039f\"], [0.2222222222222222, \"#7201a8\"], [0.3333333333333333, \"#9c179e\"], [0.4444444444444444, \"#bd3786\"], [0.5555555555555556, \"#d8576b\"], [0.6666666666666666, \"#ed7953\"], [0.7777777777777778, \"#fb9f3a\"], [0.8888888888888888, \"#fdca26\"], [1.0, \"#f0f921\"]], \"type\": \"surface\"}], \"table\": [{\"cells\": {\"fill\": {\"color\": \"#EBF0F8\"}, \"line\": {\"color\": \"white\"}}, \"header\": {\"fill\": {\"color\": \"#C8D4E3\"}, \"line\": {\"color\": \"white\"}}, \"type\": \"table\"}]}, \"layout\": {\"annotationdefaults\": {\"arrowcolor\": \"#2a3f5f\", \"arrowhead\": 0, \"arrowwidth\": 1}, \"coloraxis\": {\"colorbar\": {\"outlinewidth\": 0, \"ticks\": \"\"}}, \"colorscale\": {\"diverging\": [[0, \"#8e0152\"], [0.1, \"#c51b7d\"], [0.2, \"#de77ae\"], [0.3, \"#f1b6da\"], [0.4, \"#fde0ef\"], [0.5, \"#f7f7f7\"], [0.6, \"#e6f5d0\"], [0.7, \"#b8e186\"], [0.8, \"#7fbc41\"], [0.9, \"#4d9221\"], [1, \"#276419\"]], \"sequential\": [[0.0, \"#0d0887\"], [0.1111111111111111, \"#46039f\"], [0.2222222222222222, \"#7201a8\"], [0.3333333333333333, \"#9c179e\"], [0.4444444444444444, \"#bd3786\"], [0.5555555555555556, \"#d8576b\"], [0.6666666666666666, \"#ed7953\"], [0.7777777777777778, \"#fb9f3a\"], [0.8888888888888888, \"#fdca26\"], [1.0, \"#f0f921\"]], \"sequentialminus\": [[0.0, \"#0d0887\"], [0.1111111111111111, \"#46039f\"], [0.2222222222222222, \"#7201a8\"], [0.3333333333333333, \"#9c179e\"], [0.4444444444444444, \"#bd3786\"], [0.5555555555555556, \"#d8576b\"], [0.6666666666666666, \"#ed7953\"], [0.7777777777777778, \"#fb9f3a\"], [0.8888888888888888, \"#fdca26\"], [1.0, \"#f0f921\"]]}, \"colorway\": [\"#636efa\", \"#EF553B\", \"#00cc96\", \"#ab63fa\", \"#FFA15A\", \"#19d3f3\", \"#FF6692\", \"#B6E880\", \"#FF97FF\", \"#FECB52\"], \"font\": {\"color\": \"#2a3f5f\"}, \"geo\": {\"bgcolor\": \"white\", \"lakecolor\": \"white\", \"landcolor\": \"#E5ECF6\", \"showlakes\": true, \"showland\": true, \"subunitcolor\": \"white\"}, \"hoverlabel\": {\"align\": \"left\"}, \"hovermode\": \"closest\", \"mapbox\": {\"style\": \"light\"}, \"paper_bgcolor\": \"white\", \"plot_bgcolor\": \"#E5ECF6\", \"polar\": {\"angularaxis\": {\"gridcolor\": \"white\", \"linecolor\": \"white\", \"ticks\": \"\"}, \"bgcolor\": \"#E5ECF6\", \"radialaxis\": {\"gridcolor\": \"white\", \"linecolor\": \"white\", \"ticks\": \"\"}}, \"scene\": {\"xaxis\": {\"backgroundcolor\": \"#E5ECF6\", \"gridcolor\": \"white\", \"gridwidth\": 2, \"linecolor\": \"white\", \"showbackground\": true, \"ticks\": \"\", \"zerolinecolor\": \"white\"}, \"yaxis\": {\"backgroundcolor\": \"#E5ECF6\", \"gridcolor\": \"white\", \"gridwidth\": 2, \"linecolor\": \"white\", \"showbackground\": true, \"ticks\": \"\", \"zerolinecolor\": \"white\"}, \"zaxis\": {\"backgroundcolor\": \"#E5ECF6\", \"gridcolor\": \"white\", \"gridwidth\": 2, \"linecolor\": \"white\", \"showbackground\": true, \"ticks\": \"\", \"zerolinecolor\": \"white\"}}, \"shapedefaults\": {\"line\": {\"color\": \"#2a3f5f\"}}, \"ternary\": {\"aaxis\": {\"gridcolor\": \"white\", \"linecolor\": \"white\", \"ticks\": \"\"}, \"baxis\": {\"gridcolor\": \"white\", \"linecolor\": \"white\", \"ticks\": \"\"}, \"bgcolor\": \"#E5ECF6\", \"caxis\": {\"gridcolor\": \"white\", \"linecolor\": \"white\", \"ticks\": \"\"}}, \"title\": {\"x\": 0.05}, \"xaxis\": {\"automargin\": true, \"gridcolor\": \"white\", \"linecolor\": \"white\", \"ticks\": \"\", \"title\": {\"standoff\": 15}, \"zerolinecolor\": \"white\", \"zerolinewidth\": 2}, \"yaxis\": {\"automargin\": true, \"gridcolor\": \"white\", \"linecolor\": \"white\", \"ticks\": \"\", \"title\": {\"standoff\": 15}, \"zerolinecolor\": \"white\", \"zerolinewidth\": 2}}}, \"title\": {\"font\": {\"color\": \"#4D5663\"}}, \"xaxis\": {\"anchor\": \"y\", \"domain\": [0.0, 0.2125], \"gridcolor\": \"#E1E5ED\", \"showgrid\": false, \"tickfont\": {\"color\": \"#4D5663\"}, \"title\": {\"font\": {\"color\": \"#4D5663\"}, \"text\": \"\"}, \"zerolinecolor\": \"#E1E5ED\"}, \"xaxis10\": {\"anchor\": \"y10\", \"domain\": [0.2625, 0.475], \"gridcolor\": \"#E1E5ED\", \"showgrid\": false, \"tickfont\": {\"color\": \"#4D5663\"}, \"title\": {\"font\": {\"color\": \"#4D5663\"}, \"text\": \"\"}, \"zerolinecolor\": \"#E1E5ED\"}, \"xaxis11\": {\"anchor\": \"y11\", \"domain\": [0.525, 0.7375], \"gridcolor\": \"#E1E5ED\", \"showgrid\": false, \"tickfont\": {\"color\": \"#4D5663\"}, \"title\": {\"font\": {\"color\": \"#4D5663\"}, \"text\": \"\"}, \"zerolinecolor\": \"#E1E5ED\"}, \"xaxis12\": {\"anchor\": \"y12\", \"domain\": [0.7875, 1.0], \"gridcolor\": \"#E1E5ED\", \"showgrid\": false, \"tickfont\": {\"color\": \"#4D5663\"}, \"title\": {\"font\": {\"color\": \"#4D5663\"}, \"text\": \"\"}, \"zerolinecolor\": \"#E1E5ED\"}, \"xaxis13\": {\"anchor\": \"y13\", \"domain\": [0.0, 0.2125], \"gridcolor\": \"#E1E5ED\", \"showgrid\": false, \"tickfont\": {\"color\": \"#4D5663\"}, \"title\": {\"font\": {\"color\": \"#4D5663\"}, \"text\": \"\"}, \"zerolinecolor\": \"#E1E5ED\"}, \"xaxis14\": {\"anchor\": \"y14\", \"domain\": [0.2625, 0.475], \"gridcolor\": \"#E1E5ED\", \"showgrid\": false, \"tickfont\": {\"color\": \"#4D5663\"}, \"title\": {\"font\": {\"color\": \"#4D5663\"}, \"text\": \"\"}, \"zerolinecolor\": \"#E1E5ED\"}, \"xaxis15\": {\"anchor\": \"y15\", \"domain\": [0.525, 0.7375], \"gridcolor\": \"#E1E5ED\", \"showgrid\": false, \"tickfont\": {\"color\": \"#4D5663\"}, \"title\": {\"font\": {\"color\": \"#4D5663\"}, \"text\": \"\"}, \"zerolinecolor\": \"#E1E5ED\"}, \"xaxis16\": {\"anchor\": \"y16\", \"domain\": [0.7875, 1.0], \"gridcolor\": \"#E1E5ED\", \"showgrid\": false, \"tickfont\": {\"color\": \"#4D5663\"}, \"title\": {\"font\": {\"color\": \"#4D5663\"}, \"text\": \"\"}, \"zerolinecolor\": \"#E1E5ED\"}, \"xaxis2\": {\"anchor\": \"y2\", \"domain\": [0.2625, 0.475], \"gridcolor\": \"#E1E5ED\", \"showgrid\": false, \"tickfont\": {\"color\": \"#4D5663\"}, \"title\": {\"font\": {\"color\": \"#4D5663\"}, \"text\": \"\"}, \"zerolinecolor\": \"#E1E5ED\"}, \"xaxis3\": {\"anchor\": \"y3\", \"domain\": [0.525, 0.7375], \"gridcolor\": \"#E1E5ED\", \"showgrid\": false, \"tickfont\": {\"color\": \"#4D5663\"}, \"title\": {\"font\": {\"color\": \"#4D5663\"}, \"text\": \"\"}, \"zerolinecolor\": \"#E1E5ED\"}, \"xaxis4\": {\"anchor\": \"y4\", \"domain\": [0.7875, 1.0], \"gridcolor\": \"#E1E5ED\", \"showgrid\": false, \"tickfont\": {\"color\": \"#4D5663\"}, \"title\": {\"font\": {\"color\": \"#4D5663\"}, \"text\": \"\"}, \"zerolinecolor\": \"#E1E5ED\"}, \"xaxis5\": {\"anchor\": \"y5\", \"domain\": [0.0, 0.2125], \"gridcolor\": \"#E1E5ED\", \"showgrid\": false, \"tickfont\": {\"color\": \"#4D5663\"}, \"title\": {\"font\": {\"color\": \"#4D5663\"}, \"text\": \"\"}, \"zerolinecolor\": \"#E1E5ED\"}, \"xaxis6\": {\"anchor\": \"y6\", \"domain\": [0.2625, 0.475], \"gridcolor\": \"#E1E5ED\", \"showgrid\": false, \"tickfont\": {\"color\": \"#4D5663\"}, \"title\": {\"font\": {\"color\": \"#4D5663\"}, \"text\": \"\"}, \"zerolinecolor\": \"#E1E5ED\"}, \"xaxis7\": {\"anchor\": \"y7\", \"domain\": [0.525, 0.7375], \"gridcolor\": \"#E1E5ED\", \"showgrid\": false, \"tickfont\": {\"color\": \"#4D5663\"}, \"title\": {\"font\": {\"color\": \"#4D5663\"}, \"text\": \"\"}, \"zerolinecolor\": \"#E1E5ED\"}, \"xaxis8\": {\"anchor\": \"y8\", \"domain\": [0.7875, 1.0], \"gridcolor\": \"#E1E5ED\", \"showgrid\": false, \"tickfont\": {\"color\": \"#4D5663\"}, \"title\": {\"font\": {\"color\": \"#4D5663\"}, \"text\": \"\"}, \"zerolinecolor\": \"#E1E5ED\"}, \"xaxis9\": {\"anchor\": \"y9\", \"domain\": [0.0, 0.2125], \"gridcolor\": \"#E1E5ED\", \"showgrid\": false, \"tickfont\": {\"color\": \"#4D5663\"}, \"title\": {\"font\": {\"color\": \"#4D5663\"}, \"text\": \"\"}, \"zerolinecolor\": \"#E1E5ED\"}, \"yaxis\": {\"anchor\": \"x\", \"domain\": [0.8025, 1.0], \"gridcolor\": \"#E1E5ED\", \"showgrid\": false, \"tickfont\": {\"color\": \"#4D5663\"}, \"title\": {\"font\": {\"color\": \"#4D5663\"}, \"text\": \"\"}, \"zerolinecolor\": \"#E1E5ED\"}, \"yaxis10\": {\"anchor\": \"x10\", \"domain\": [0.2675, 0.465], \"gridcolor\": \"#E1E5ED\", \"showgrid\": false, \"tickfont\": {\"color\": \"#4D5663\"}, \"title\": {\"font\": {\"color\": \"#4D5663\"}, \"text\": \"\"}, \"zerolinecolor\": \"#E1E5ED\"}, \"yaxis11\": {\"anchor\": \"x11\", \"domain\": [0.2675, 0.465], \"gridcolor\": \"#E1E5ED\", \"showgrid\": false, \"tickfont\": {\"color\": \"#4D5663\"}, \"title\": {\"font\": {\"color\": \"#4D5663\"}, \"text\": \"\"}, \"zerolinecolor\": \"#E1E5ED\"}, \"yaxis12\": {\"anchor\": \"x12\", \"domain\": [0.2675, 0.465], \"gridcolor\": \"#E1E5ED\", \"showgrid\": false, \"tickfont\": {\"color\": \"#4D5663\"}, \"title\": {\"font\": {\"color\": \"#4D5663\"}, \"text\": \"\"}, \"zerolinecolor\": \"#E1E5ED\"}, \"yaxis13\": {\"anchor\": \"x13\", \"domain\": [0.0, 0.1975], \"gridcolor\": \"#E1E5ED\", \"showgrid\": false, \"tickfont\": {\"color\": \"#4D5663\"}, \"title\": {\"font\": {\"color\": \"#4D5663\"}, \"text\": \"\"}, \"zerolinecolor\": \"#E1E5ED\"}, \"yaxis14\": {\"anchor\": \"x14\", \"domain\": [0.0, 0.1975], \"gridcolor\": \"#E1E5ED\", \"showgrid\": false, \"tickfont\": {\"color\": \"#4D5663\"}, \"title\": {\"font\": {\"color\": \"#4D5663\"}, \"text\": \"\"}, \"zerolinecolor\": \"#E1E5ED\"}, \"yaxis15\": {\"anchor\": \"x15\", \"domain\": [0.0, 0.1975], \"gridcolor\": \"#E1E5ED\", \"showgrid\": false, \"tickfont\": {\"color\": \"#4D5663\"}, \"title\": {\"font\": {\"color\": \"#4D5663\"}, \"text\": \"\"}, \"zerolinecolor\": \"#E1E5ED\"}, \"yaxis16\": {\"anchor\": \"x16\", \"domain\": [0.0, 0.1975], \"gridcolor\": \"#E1E5ED\", \"showgrid\": false, \"tickfont\": {\"color\": \"#4D5663\"}, \"title\": {\"font\": {\"color\": \"#4D5663\"}, \"text\": \"\"}, \"zerolinecolor\": \"#E1E5ED\"}, \"yaxis2\": {\"anchor\": \"x2\", \"domain\": [0.8025, 1.0], \"gridcolor\": \"#E1E5ED\", \"showgrid\": false, \"tickfont\": {\"color\": \"#4D5663\"}, \"title\": {\"font\": {\"color\": \"#4D5663\"}, \"text\": \"\"}, \"zerolinecolor\": \"#E1E5ED\"}, \"yaxis3\": {\"anchor\": \"x3\", \"domain\": [0.8025, 1.0], \"gridcolor\": \"#E1E5ED\", \"showgrid\": false, \"tickfont\": {\"color\": \"#4D5663\"}, \"title\": {\"font\": {\"color\": \"#4D5663\"}, \"text\": \"\"}, \"zerolinecolor\": \"#E1E5ED\"}, \"yaxis4\": {\"anchor\": \"x4\", \"domain\": [0.8025, 1.0], \"gridcolor\": \"#E1E5ED\", \"showgrid\": false, \"tickfont\": {\"color\": \"#4D5663\"}, \"title\": {\"font\": {\"color\": \"#4D5663\"}, \"text\": \"\"}, \"zerolinecolor\": \"#E1E5ED\"}, \"yaxis5\": {\"anchor\": \"x5\", \"domain\": [0.535, 0.7325], \"gridcolor\": \"#E1E5ED\", \"showgrid\": false, \"tickfont\": {\"color\": \"#4D5663\"}, \"title\": {\"font\": {\"color\": \"#4D5663\"}, \"text\": \"\"}, \"zerolinecolor\": \"#E1E5ED\"}, \"yaxis6\": {\"anchor\": \"x6\", \"domain\": [0.535, 0.7325], \"gridcolor\": \"#E1E5ED\", \"showgrid\": false, \"tickfont\": {\"color\": \"#4D5663\"}, \"title\": {\"font\": {\"color\": \"#4D5663\"}, \"text\": \"\"}, \"zerolinecolor\": \"#E1E5ED\"}, \"yaxis7\": {\"anchor\": \"x7\", \"domain\": [0.535, 0.7325], \"gridcolor\": \"#E1E5ED\", \"showgrid\": false, \"tickfont\": {\"color\": \"#4D5663\"}, \"title\": {\"font\": {\"color\": \"#4D5663\"}, \"text\": \"\"}, \"zerolinecolor\": \"#E1E5ED\"}, \"yaxis8\": {\"anchor\": \"x8\", \"domain\": [0.535, 0.7325], \"gridcolor\": \"#E1E5ED\", \"showgrid\": false, \"tickfont\": {\"color\": \"#4D5663\"}, \"title\": {\"font\": {\"color\": \"#4D5663\"}, \"text\": \"\"}, \"zerolinecolor\": \"#E1E5ED\"}, \"yaxis9\": {\"anchor\": \"x9\", \"domain\": [0.2675, 0.465], \"gridcolor\": \"#E1E5ED\", \"showgrid\": false, \"tickfont\": {\"color\": \"#4D5663\"}, \"title\": {\"font\": {\"color\": \"#4D5663\"}, \"text\": \"\"}, \"zerolinecolor\": \"#E1E5ED\"}},\n",
       "                        {\"showLink\": true, \"linkText\": \"Export to plot.ly\", \"plotlyServerURL\": \"https://plot.ly\", \"responsive\": true}\n",
       "                    ).then(function(){\n",
       "                            \n",
       "var gd = document.getElementById('62c29153-631f-467d-9dcd-457250088c13');\n",
       "var x = new MutationObserver(function (mutations, observer) {{\n",
       "        var display = window.getComputedStyle(gd).display;\n",
       "        if (!display || display === 'none') {{\n",
       "            console.log([gd, 'removed!']);\n",
       "            Plotly.purge(gd);\n",
       "            observer.disconnect();\n",
       "        }}\n",
       "}});\n",
       "\n",
       "// Listen for the removal of the full notebook cells\n",
       "var notebookContainer = gd.closest('#notebook-container');\n",
       "if (notebookContainer) {{\n",
       "    x.observe(notebookContainer, {childList: true});\n",
       "}}\n",
       "\n",
       "// Listen for the clearing of the current output cell\n",
       "var outputEl = gd.closest('.output');\n",
       "if (outputEl) {{\n",
       "    x.observe(outputEl, {childList: true});\n",
       "}}\n",
       "\n",
       "                        })\n",
       "                };\n",
       "                });\n",
       "            </script>\n",
       "        </div>"
      ]
     },
     "metadata": {},
     "output_type": "display_data"
    }
   ],
   "source": [
    "# this scatter_matrix is perferred not to use it with large datasets\n",
    "df.scatter_matrix()\n"
   ]
  },
  {
   "cell_type": "code",
   "execution_count": null,
   "metadata": {},
   "outputs": [],
   "source": []
  }
 ],
 "metadata": {
  "kernelspec": {
   "display_name": "Python 3",
   "language": "python",
   "name": "python3"
  },
  "language_info": {
   "codemirror_mode": {
    "name": "ipython",
    "version": 3
   },
   "file_extension": ".py",
   "mimetype": "text/x-python",
   "name": "python",
   "nbconvert_exporter": "python",
   "pygments_lexer": "ipython3",
   "version": "3.7.6"
  }
 },
 "nbformat": 4,
 "nbformat_minor": 4
}
